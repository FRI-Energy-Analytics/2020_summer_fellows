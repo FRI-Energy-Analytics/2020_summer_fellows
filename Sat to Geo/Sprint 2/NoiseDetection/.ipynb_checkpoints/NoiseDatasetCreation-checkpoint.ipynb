{
 "cells": [
  {
   "cell_type": "markdown",
   "metadata": {},
   "source": [
    "Creating Noise overlap on satellite images for datasets to be run on the pix2pix GAN. "
   ]
  },
  {
   "cell_type": "code",
   "execution_count": 1,
   "metadata": {},
   "outputs": [],
   "source": [
    "import glob\n",
    "import random\n",
    "import os\n",
    "import numpy as np\n",
    "import cv2\n",
    "from scipy import ndimage, misc"
   ]
  },
  {
   "cell_type": "code",
   "execution_count": 2,
   "metadata": {},
   "outputs": [],
   "source": [
    "InFolder = \"/Users/ashwanthmuruhathasan/Documents/GitHub/summer_fellows/Sat to Geo/Sprint 1/Collected_Images/Split_Images\"\n",
    "OutFolder = \"/Users/ashwanthmuruhathasan/Documents/GitHub/summer_fellows/Sat to Geo/Sprint 2/NoiseDetection/NoiseImages\"\n",
    "FolderTypes = [\"test\", \"train\", \"val\"]\n",
    "# noiseTypes = [\"gauss\", \"s&p\", \"poisson\", \"speckle\", \"perlin\"]\n",
    "noiseTypes = [\"sgs\"]\n",
    "perlinLoc = \"perlin_1.png\"\n",
    "sgsLoc = \"sgs_1.png\"\n",
    "gw, gh = 256, 256"
   ]
  },
  {
   "cell_type": "code",
   "execution_count": 3,
   "metadata": {},
   "outputs": [],
   "source": [
    "def noisy(noise_typ,image):\n",
    "    if noise_typ == \"gauss\":\n",
    "        row,col,ch= image.shape\n",
    "        mean = 0\n",
    "        var = 0.1\n",
    "        sigma = var**0.5\n",
    "        gauss = np.random.normal(mean,sigma,(row,col,ch))\n",
    "        gauss = gauss.reshape(row,col,ch)\n",
    "        noisy = image + gauss\n",
    "        return noisy\n",
    "    elif noise_typ == \"s&p\":\n",
    "        row,col,ch = image.shape\n",
    "        s_vs_p = 0.5\n",
    "        amount = 0.004\n",
    "        out = np.copy(image)\n",
    "        # Salt mode\n",
    "        num_salt = np.ceil(amount * image.size * s_vs_p)\n",
    "        coords = [np.random.randint(0, i - 1, int(num_salt)) for i in image.shape]\n",
    "        out[coords] = 1\n",
    "        # Pepper mode\n",
    "        num_pepper = np.ceil(amount* image.size * (1. - s_vs_p))\n",
    "        coords = [np.random.randint(0, i - 1, int(num_pepper)) for i in image.shape]\n",
    "        out[coords] = 0\n",
    "        return out\n",
    "    elif noise_typ == \"poisson\":\n",
    "        vals = len(np.unique(image))\n",
    "        vals = 2 ** np.ceil(np.log2(vals))\n",
    "        noisy = np.random.poisson(image * vals) / float(vals)\n",
    "        return noisy\n",
    "    elif noise_typ ==\"speckle\":\n",
    "        row,col,ch = image.shape\n",
    "        gauss = np.random.randn(row,col,ch)\n",
    "        gauss = gauss.reshape(row,col,ch)\n",
    "        noisy = image + image * gauss\n",
    "        return noisy\n",
    "    elif noise_typ == \"perlin\":\n",
    "        noisy = cv2.imread(os.path.join(OutFolder, perlinLoc))\n",
    "        return noisy\n",
    "    elif noise_typ == \"sgs\":\n",
    "        noisy = cv2.imread(os.path.join(OutFolder, sgsLoc))\n",
    "        return noisy"
   ]
  },
  {
   "cell_type": "code",
   "execution_count": 4,
   "metadata": {},
   "outputs": [],
   "source": [
    "def getBlankNoiseImg(w, h, noise_typ):\n",
    "    blank = 0 * np.ones(shape=[h, w, 3], dtype=np.uint8)\n",
    "    noiseImg = noisy(noise_typ, blank)\n",
    "    return noiseImg\n",
    "\n",
    "def shiftImg(img):\n",
    "    h, w, c = img.shape\n",
    "    xshift = random.randint(0,w)\n",
    "    yshift = random.randint(0,h)\n",
    "    shifted = np.zeros(shape=[h, w, 3], dtype=np.uint8)\n",
    "    for x in range(0,w):\n",
    "        for y in range(0,h):\n",
    "            shifted[y,x] = img[(y+yshift)%h,(x+xshift)%w]\n",
    "    return shifted"
   ]
  },
  {
   "cell_type": "code",
   "execution_count": 5,
   "metadata": {},
   "outputs": [],
   "source": [
    "def processFolder(inpath, outpath, modImg):\n",
    "    for image_path in os.listdir(inpath):\n",
    "        fullinpath = os.path.join(inpath, image_path)\n",
    "        image = cv2.imread(fullinpath)\n",
    "        h, w, c = image.shape\n",
    "        cropImg = image[0:h,0:w//2]\n",
    "        \n",
    "        # mod here\n",
    "        shiftedmodImg = shiftImg(modImg)\n",
    "        combImg = cv2.addWeighted(cropImg, 0.2, shiftedmodImg, 0.8, 0)\n",
    "        finImg = np.concatenate((cropImg, combImg), axis=1)\n",
    "        \n",
    "        fulloutpath = os.path.join(outpath, image_path)\n",
    "        status = cv2.imwrite(fulloutpath, finImg)\n",
    "        # print(\"Image written to file-system : \",status)\n",
    "        \n",
    "    return \"fin\""
   ]
  },
  {
   "cell_type": "code",
   "execution_count": 6,
   "metadata": {},
   "outputs": [],
   "source": [
    "def processDataset(inpath, outpath, noise_typ):\n",
    "    newFolder = os.path.join(outpath, noise_typ)\n",
    "    os.mkdir(newFolder)\n",
    "    \n",
    "    # get image\n",
    "    noisyImg = getBlankNoiseImg(gw, gh, noise_typ)\n",
    "    \n",
    "    for foldername in FolderTypes:\n",
    "        ninpath = os.path.join(inpath, foldername)\n",
    "        noutpath = os.path.join(newFolder, foldername)\n",
    "        os.mkdir(noutpath)\n",
    "        processFolder(ninpath, noutpath, noisyImg)\n",
    "        \n",
    "    return \"fin\""
   ]
  },
  {
   "cell_type": "code",
   "execution_count": 7,
   "metadata": {},
   "outputs": [],
   "source": [
    "def process():\n",
    "    for noisetype in noiseTypes:\n",
    "        processDataset(InFolder, OutFolder, noisetype)\n",
    "    return \"fin\""
   ]
  },
  {
   "cell_type": "code",
   "execution_count": 8,
   "metadata": {},
   "outputs": [
    {
     "ename": "AttributeError",
     "evalue": "'NoneType' object has no attribute 'shape'",
     "output_type": "error",
     "traceback": [
      "\u001b[0;31m---------------------------------------------------------------------------\u001b[0m",
      "\u001b[0;31mAttributeError\u001b[0m                            Traceback (most recent call last)",
      "\u001b[0;32m<ipython-input-8-34a28a13cb9b>\u001b[0m in \u001b[0;36m<module>\u001b[0;34m\u001b[0m\n\u001b[0;32m----> 1\u001b[0;31m \u001b[0mprocess\u001b[0m\u001b[0;34m(\u001b[0m\u001b[0;34m)\u001b[0m\u001b[0;34m\u001b[0m\u001b[0;34m\u001b[0m\u001b[0m\n\u001b[0m",
      "\u001b[0;32m<ipython-input-7-8c68734ad62e>\u001b[0m in \u001b[0;36mprocess\u001b[0;34m()\u001b[0m\n\u001b[1;32m      1\u001b[0m \u001b[0;32mdef\u001b[0m \u001b[0mprocess\u001b[0m\u001b[0;34m(\u001b[0m\u001b[0;34m)\u001b[0m\u001b[0;34m:\u001b[0m\u001b[0;34m\u001b[0m\u001b[0;34m\u001b[0m\u001b[0m\n\u001b[1;32m      2\u001b[0m     \u001b[0;32mfor\u001b[0m \u001b[0mnoisetype\u001b[0m \u001b[0;32min\u001b[0m \u001b[0mnoiseTypes\u001b[0m\u001b[0;34m:\u001b[0m\u001b[0;34m\u001b[0m\u001b[0;34m\u001b[0m\u001b[0m\n\u001b[0;32m----> 3\u001b[0;31m         \u001b[0mprocessDataset\u001b[0m\u001b[0;34m(\u001b[0m\u001b[0mInFolder\u001b[0m\u001b[0;34m,\u001b[0m \u001b[0mOutFolder\u001b[0m\u001b[0;34m,\u001b[0m \u001b[0mnoisetype\u001b[0m\u001b[0;34m)\u001b[0m\u001b[0;34m\u001b[0m\u001b[0;34m\u001b[0m\u001b[0m\n\u001b[0m\u001b[1;32m      4\u001b[0m     \u001b[0;32mreturn\u001b[0m \u001b[0;34m\"fin\"\u001b[0m\u001b[0;34m\u001b[0m\u001b[0;34m\u001b[0m\u001b[0m\n",
      "\u001b[0;32m<ipython-input-6-aa20f0ea7da7>\u001b[0m in \u001b[0;36mprocessDataset\u001b[0;34m(inpath, outpath, noise_typ)\u001b[0m\n\u001b[1;32m     10\u001b[0m         \u001b[0mnoutpath\u001b[0m \u001b[0;34m=\u001b[0m \u001b[0mos\u001b[0m\u001b[0;34m.\u001b[0m\u001b[0mpath\u001b[0m\u001b[0;34m.\u001b[0m\u001b[0mjoin\u001b[0m\u001b[0;34m(\u001b[0m\u001b[0mnewFolder\u001b[0m\u001b[0;34m,\u001b[0m \u001b[0mfoldername\u001b[0m\u001b[0;34m)\u001b[0m\u001b[0;34m\u001b[0m\u001b[0;34m\u001b[0m\u001b[0m\n\u001b[1;32m     11\u001b[0m         \u001b[0mos\u001b[0m\u001b[0;34m.\u001b[0m\u001b[0mmkdir\u001b[0m\u001b[0;34m(\u001b[0m\u001b[0mnoutpath\u001b[0m\u001b[0;34m)\u001b[0m\u001b[0;34m\u001b[0m\u001b[0;34m\u001b[0m\u001b[0m\n\u001b[0;32m---> 12\u001b[0;31m         \u001b[0mprocessFolder\u001b[0m\u001b[0;34m(\u001b[0m\u001b[0mninpath\u001b[0m\u001b[0;34m,\u001b[0m \u001b[0mnoutpath\u001b[0m\u001b[0;34m,\u001b[0m \u001b[0mnoisyImg\u001b[0m\u001b[0;34m)\u001b[0m\u001b[0;34m\u001b[0m\u001b[0;34m\u001b[0m\u001b[0m\n\u001b[0m\u001b[1;32m     13\u001b[0m \u001b[0;34m\u001b[0m\u001b[0m\n\u001b[1;32m     14\u001b[0m     \u001b[0;32mreturn\u001b[0m \u001b[0;34m\"fin\"\u001b[0m\u001b[0;34m\u001b[0m\u001b[0;34m\u001b[0m\u001b[0m\n",
      "\u001b[0;32m<ipython-input-5-ec92fae56f55>\u001b[0m in \u001b[0;36mprocessFolder\u001b[0;34m(inpath, outpath, modImg)\u001b[0m\n\u001b[1;32m      7\u001b[0m \u001b[0;34m\u001b[0m\u001b[0m\n\u001b[1;32m      8\u001b[0m         \u001b[0;31m# mod here\u001b[0m\u001b[0;34m\u001b[0m\u001b[0;34m\u001b[0m\u001b[0;34m\u001b[0m\u001b[0m\n\u001b[0;32m----> 9\u001b[0;31m         \u001b[0mshiftedmodImg\u001b[0m \u001b[0;34m=\u001b[0m \u001b[0mshiftImg\u001b[0m\u001b[0;34m(\u001b[0m\u001b[0mmodImg\u001b[0m\u001b[0;34m)\u001b[0m\u001b[0;34m\u001b[0m\u001b[0;34m\u001b[0m\u001b[0m\n\u001b[0m\u001b[1;32m     10\u001b[0m         \u001b[0mcombImg\u001b[0m \u001b[0;34m=\u001b[0m \u001b[0mcv2\u001b[0m\u001b[0;34m.\u001b[0m\u001b[0maddWeighted\u001b[0m\u001b[0;34m(\u001b[0m\u001b[0mcropImg\u001b[0m\u001b[0;34m,\u001b[0m \u001b[0;36m0.2\u001b[0m\u001b[0;34m,\u001b[0m \u001b[0mshiftedmodImg\u001b[0m\u001b[0;34m,\u001b[0m \u001b[0;36m0.8\u001b[0m\u001b[0;34m,\u001b[0m \u001b[0;36m0\u001b[0m\u001b[0;34m)\u001b[0m\u001b[0;34m\u001b[0m\u001b[0;34m\u001b[0m\u001b[0m\n\u001b[1;32m     11\u001b[0m         \u001b[0mfinImg\u001b[0m \u001b[0;34m=\u001b[0m \u001b[0mnp\u001b[0m\u001b[0;34m.\u001b[0m\u001b[0mconcatenate\u001b[0m\u001b[0;34m(\u001b[0m\u001b[0;34m(\u001b[0m\u001b[0mcropImg\u001b[0m\u001b[0;34m,\u001b[0m \u001b[0mcombImg\u001b[0m\u001b[0;34m)\u001b[0m\u001b[0;34m,\u001b[0m \u001b[0maxis\u001b[0m\u001b[0;34m=\u001b[0m\u001b[0;36m1\u001b[0m\u001b[0;34m)\u001b[0m\u001b[0;34m\u001b[0m\u001b[0;34m\u001b[0m\u001b[0m\n",
      "\u001b[0;32m<ipython-input-4-bd716be0f29c>\u001b[0m in \u001b[0;36mshiftImg\u001b[0;34m(img)\u001b[0m\n\u001b[1;32m      5\u001b[0m \u001b[0;34m\u001b[0m\u001b[0m\n\u001b[1;32m      6\u001b[0m \u001b[0;32mdef\u001b[0m \u001b[0mshiftImg\u001b[0m\u001b[0;34m(\u001b[0m\u001b[0mimg\u001b[0m\u001b[0;34m)\u001b[0m\u001b[0;34m:\u001b[0m\u001b[0;34m\u001b[0m\u001b[0;34m\u001b[0m\u001b[0m\n\u001b[0;32m----> 7\u001b[0;31m     \u001b[0mh\u001b[0m\u001b[0;34m,\u001b[0m \u001b[0mw\u001b[0m\u001b[0;34m,\u001b[0m \u001b[0mc\u001b[0m \u001b[0;34m=\u001b[0m \u001b[0mimg\u001b[0m\u001b[0;34m.\u001b[0m\u001b[0mshape\u001b[0m\u001b[0;34m\u001b[0m\u001b[0;34m\u001b[0m\u001b[0m\n\u001b[0m\u001b[1;32m      8\u001b[0m     \u001b[0mxshift\u001b[0m \u001b[0;34m=\u001b[0m \u001b[0mrandom\u001b[0m\u001b[0;34m.\u001b[0m\u001b[0mrandint\u001b[0m\u001b[0;34m(\u001b[0m\u001b[0;36m0\u001b[0m\u001b[0;34m,\u001b[0m\u001b[0mw\u001b[0m\u001b[0;34m)\u001b[0m\u001b[0;34m\u001b[0m\u001b[0;34m\u001b[0m\u001b[0m\n\u001b[1;32m      9\u001b[0m     \u001b[0myshift\u001b[0m \u001b[0;34m=\u001b[0m \u001b[0mrandom\u001b[0m\u001b[0;34m.\u001b[0m\u001b[0mrandint\u001b[0m\u001b[0;34m(\u001b[0m\u001b[0;36m0\u001b[0m\u001b[0;34m,\u001b[0m\u001b[0mh\u001b[0m\u001b[0;34m)\u001b[0m\u001b[0;34m\u001b[0m\u001b[0;34m\u001b[0m\u001b[0m\n",
      "\u001b[0;31mAttributeError\u001b[0m: 'NoneType' object has no attribute 'shape'"
     ]
    }
   ],
   "source": [
    "process()"
   ]
  },
  {
   "cell_type": "code",
   "execution_count": null,
   "metadata": {},
   "outputs": [],
   "source": []
  }
 ],
 "metadata": {
  "kernelspec": {
   "display_name": "Python 3",
   "language": "python",
   "name": "python3"
  },
  "language_info": {
   "codemirror_mode": {
    "name": "ipython",
    "version": 3
   },
   "file_extension": ".py",
   "mimetype": "text/x-python",
   "name": "python",
   "nbconvert_exporter": "python",
   "pygments_lexer": "ipython3",
   "version": "3.7.3"
  }
 },
 "nbformat": 4,
 "nbformat_minor": 4
}
