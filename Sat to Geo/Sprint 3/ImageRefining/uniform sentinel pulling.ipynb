{
 "cells": [
  {
   "cell_type": "code",
   "execution_count": 1,
   "metadata": {},
   "outputs": [
    {
     "name": "stderr",
     "output_type": "stream",
     "text": [
      "C:\\Users\\lawso\\AppData\\Local\\Continuum\\anaconda3\\envs\\geospatial\\lib\\site-packages\\skimage\\viewer\\utils\\__init__.py:1: UserWarning: Recommended matplotlib backend is `Agg` for full skimage.viewer functionality.\n",
      "  from .core import *\n"
     ]
    }
   ],
   "source": [
    "from selenium import webdriver\n",
    "from webdriver_manager.chrome import ChromeDriverManager\n",
    "import time\n",
    "import os\n",
    "from PIL import Image\n",
    "\n",
    "import random\n",
    "import skimage\n",
    "import skimage.feature\n",
    "import skimage.viewer\n",
    "import numpy as np"
   ]
  },
  {
   "cell_type": "code",
   "execution_count": 2,
   "metadata": {},
   "outputs": [],
   "source": [
    "os.makedirs(\"Collected_Images/Sentinel\", exist_ok = True)\n",
    "os.makedirs(\"Collected_Images/Sentinel/Bands\", exist_ok = True)\n",
    "os.makedirs(\"Collected_Images/Sentinel/Bands/Cropped\", exist_ok = True)\n",
    "os.makedirs(\"Collected_Images/Sentinel/FRM_pics\", exist_ok = True)\n",
    "os.makedirs(\"Collected_Images/Sentinel/GAN_pics\", exist_ok = True)\n",
    "os.makedirs(\"Collected_Images/Sentinel/SAT_pics\", exist_ok = True)"
   ]
  },
  {
   "cell_type": "code",
   "execution_count": 3,
   "metadata": {},
   "outputs": [],
   "source": [
    "# Creating the base url for sentinel hub playground so that \n",
    "# the program can create the correct urls to pull images from\n",
    "base_url = \"https://apps.sentinel-hub.com/sentinel-playground/?source=S2&\"\n",
    "lat = \"lat=%s&\"\n",
    "lng = \"lng=%s&\"\n",
    "zoom = \"zoom=%s&\"\n",
    "preset = \"preset=%s&\"\n",
    "other_1 = \"layers=B01,B02,B03&maxcc=%s&gain=1.0&gamma=1.0&\"\n",
    "other_2 = \"time=2019-12-01|2020-06-25&atmFilter=&showDates=false\"\n",
    "\n",
    "full_url = base_url+lat+lng+zoom+preset+other_1+other_2"
   ]
  },
  {
   "cell_type": "code",
   "execution_count": 4,
   "metadata": {},
   "outputs": [],
   "source": [
    "# Names of the areas that we are going to be pulling from\n",
    "names = [\n",
    "         'Nebraska',\n",
    "         'Illinois',\n",
    "         'Arizona_Phoenix',\n",
    "         'Chihuahua_N',\n",
    "         'Wyoming',\n",
    "         'Texas',\n",
    "         'W_Virginia',\n",
    "         'New_Mexico_Franklin',\n",
    "         'Colorodo'\n",
    "        ]\n",
    "\n",
    "# The different preset bands that are available on the sentinel playground\n",
    "bands = [\n",
    "         '1-NATURAL-COLOR',\n",
    "         '2_COLOR_INFRARED__VEGETATION_',\n",
    "         '3_FALSE_COLOR__URBAN_',\n",
    "         '4_AGRICULTURE',\n",
    "         '5_VEGETATION_INDEX',\n",
    "         '6_MOISTURE_INDEX',\n",
    "         '7_GEOLOGY',\n",
    "         '8_BATHYMETRIC',\n",
    "         '90_ATMOSPHERIC_PENETRATION',\n",
    "         '91_SWIR',\n",
    "         '92_NDWI',\n",
    "         '93-SWIR-2-11-12'\n",
    "        ]"
   ]
  },
  {
   "cell_type": "code",
   "execution_count": 38,
   "metadata": {},
   "outputs": [],
   "source": [
    "lat_off = -0.145\n",
    "lng_off =  0.173\n",
    "\n",
    "# The given latitude coordinates for the areas that we are looking at.\n",
    "lat = [ \n",
    "        41.5085 + lat_off,\n",
    "        43.0688 + lat_off,\n",
    "        33.7243 + lat_off,   \n",
    "        29.8406 + lat_off,  \n",
    "        41.5088 + lat_off,\n",
    "        31.6533 + lat_off,\n",
    "        37.1603 + lat_off,\n",
    "        33.1375 + lat_off,\n",
    "        37.7185 + lat_off\n",
    "      ]\n",
    "\n",
    "# The given longitude coordinates for the areas that we are looking at.\n",
    "lng = [\n",
    "        -96.3281 + lng_off,\n",
    "        -88.2421 + lng_off,\n",
    "       -112.1484 + lng_off, \n",
    "       -105.4687 + lng_off,\n",
    "       -108.6328 + lng_off,\n",
    "       -105.8203 + lng_off,\n",
    "        -81.5624 + lng_off,\n",
    "       -106.8749 + lng_off,\n",
    "       -107.2265 + lng_off\n",
    "      ]\n",
    "\n",
    "# The desired maximum cloud coverage for the areas that we are looking at.\n",
    "cc = [\n",
    "        3,\n",
    "        3,\n",
    "        3,\n",
    "        3,\n",
    "        3,\n",
    "        3,\n",
    "        3,\n",
    "        5,\n",
    "        10\n",
    "]\n",
    "\n",
    "# The desired zoom level for the sentinel playground images\n",
    "z = 11"
   ]
  },
  {
   "cell_type": "code",
   "execution_count": 47,
   "metadata": {},
   "outputs": [
    {
     "name": "stderr",
     "output_type": "stream",
     "text": [
      "[WDM] - Cache is valid for [07/07/2020]\n",
      "[WDM] - Looking for [chromedriver 83.0.4103.39 win32] driver in cache \n",
      "[WDM] - Driver found in cache [C:\\Users\\lawso\\.wdm\\drivers\\chromedriver\\83.0.4103.39\\win32\\chromedriver.exe]\n"
     ]
    },
    {
     "name": "stdout",
     "output_type": "stream",
     "text": [
      " \n"
     ]
    }
   ],
   "source": [
    "# This cell is to start getting the screenshots from sentinel hub with the different\n",
    "# bands.\n",
    "\n",
    "save = \"Collected_Images/Sentinel/Bands/\"\n",
    "\n",
    "driver = webdriver.Chrome(ChromeDriverManager().install())\n",
    "driver.set_window_size(2200, 1800)\n",
    "\n",
    "j = 0\n",
    "band = bands[j]\n",
    "\n",
    "for i in range(0, len(names)):\n",
    "    for band in bands:\n",
    "        cur_link = full_url % (lat[i], lng[i], z, band, cc[i])\n",
    "        driver.get(cur_link)\n",
    "        time.sleep(10)\n",
    "        driver.refresh()\n",
    "        time.sleep(10)\n",
    "        driver.save_screenshot(save + str(names[i]) + \"-\" + str(band) + \".png\")\n",
    "#         print(cur_link)\n",
    "driver.close()"
   ]
  },
  {
   "cell_type": "code",
   "execution_count": 48,
   "metadata": {},
   "outputs": [],
   "source": [
    "save = \"Collected_Images/Sentinel/\""
   ]
  },
  {
   "cell_type": "code",
   "execution_count": 49,
   "metadata": {},
   "outputs": [],
   "source": [
    "# Here the collected band images are going to be cropped so that they are most\n",
    "# aligned with the formation/satelite that were collected in the notebook\n",
    "# \"Desert, Mountain, and Urban Dataset\" \n",
    "\n",
    "\n",
    "# l = [402, 532, 770, 492, 620, 802, 746, 462, 464]\n",
    "# r = [642, 512, 274, 552, 424, 242, 298, 582, 580]\n",
    "# t = [ 60,  60,  60,  60,  60,  60,  60,  60,  60]\n",
    "# b = [ 28,  28,  28,  28,  28,  28,  28,  28,  28]\n",
    "\n",
    "names = [\n",
    "         'Nebraska',\n",
    "         'Illinois',\n",
    "         'Arizona_Phoenix',\n",
    "         'Chihuahua_N',\n",
    "         'Wyoming',\n",
    "         'Texas',\n",
    "         'W_Virginia',\n",
    "         'New_Mexico_Franklin',\n",
    "         'Colorodo'\n",
    "        ]\n",
    "j = 0\n",
    "for i in range(0,len(names)):\n",
    "    img = Image.open(\"Collected_Images/idk_yet/GAN_pics/\" + names[i] + \"-gan.png\")\n",
    "    img = img.crop((0,0,img.width/2,img.height))\n",
    "    img.save(save + \"SAT_pics/\" + names[i] + \"_sat.png\")\n",
    "\n",
    "    wi, hi = img.size\n",
    "\n",
    "    for j in range(0, len(bands)):\n",
    "        sentinel_img = Image.open(save + \"Bands/\"+ names[i]+ \"-\" + bands[j] + \".png\")\n",
    "        w, h = sentinel_img.size\n",
    "\n",
    "        offset_w_l = 522\n",
    "        offset_w_r = 522\n",
    "        offset_h_t = 60\n",
    "        offset_h_b = 28\n",
    "\n",
    "        left = 0 + offset_w_l\n",
    "        top = 0 + offset_h_t\n",
    "        right = w - offset_w_r\n",
    "        bottom = h - offset_h_b\n",
    "\n",
    "        sentinel_img = sentinel_img.crop((left, top, right, bottom))\n",
    "        w, h = sentinel_img.size\n",
    "#     print(sentinel_img.size)\n",
    "\n",
    "#     jnt = Image.new(\"RGB\", (w + w, h+h))\n",
    "#     jnt.paste(img, (0,0))\n",
    "#     jnt.paste(sentinel_img, (0,h))\n",
    "#     jnt.paste(img,(w,h))\n",
    "#     jnt.paste(sentinel_img, (w,0))\n",
    "\n",
    "#     jnt.show()\n",
    "\n",
    "\n",
    "        sentinel_img.save(save + \"Bands/Cropped/\" + names[i] + \"_\" + bands[j] + \".png\")"
   ]
  },
  {
   "cell_type": "code",
   "execution_count": 50,
   "metadata": {},
   "outputs": [],
   "source": [
    "# Next to we will get the formation images from the previous notebook into\n",
    "# a local folder\n",
    "\n",
    "for i in range(0,len(names)):\n",
    "    img = Image.open(\"Collected_Images/idk_yet/GAN_pics/\" + names[i] + \"-gan.png\")\n",
    "    img = img.crop((img.width/2, 0, img.width, img.height))\n",
    "    img.save(save + \"FRM_pics/\" + names[i] + \"_frm.png\")"
   ]
  },
  {
   "cell_type": "code",
   "execution_count": 51,
   "metadata": {},
   "outputs": [],
   "source": [
    "j = 0\n",
    "\n",
    "for i in range(0, len(names)):\n",
    "    frm_img = Image.open(save + \"FRM_pics/\" + names[i] + \"_frm.png\")\n",
    "    jnt = Image.new(\"RGB\", (frm_img.width*2, frm_img.height))\n",
    "    jnt.paste(frm_img, (frm_img.width,0))\n",
    "    #for j in range(0,len(bands)):\n",
    "    band_img = Image.open(save + \"Bands/Cropped/\" + names[i] + \"_\" + bands[j] + \".png\")\n",
    "    jnt.paste(band_img, (0,0))\n",
    "    jnt.save(save + \"GAN_pics/\" + names[i] + \"_\" + bands[j] + \"_gan.png\")"
   ]
  },
  {
   "cell_type": "code",
   "execution_count": 52,
   "metadata": {},
   "outputs": [],
   "source": [
    "for i in range(0, len(names)):\n",
    "    img = Image.open(\"Collected_Images/idk_yet/GAN_pics/\" + names[i] + \"-gan.png\")\n",
    "    sat_img = img.crop((0,0,img.width/2,img.height))\n",
    "    sat_img.save(\"Collected_Images/Sentinel/SAT_pics/\" + names[i] + \"_sat.png\")"
   ]
  },
  {
   "cell_type": "code",
   "execution_count": 53,
   "metadata": {},
   "outputs": [],
   "source": [
    "j = 0\n",
    "for i in range(0,len(names)):\n",
    "    sat_img = Image.open(\"Collected_Images/Sentinel/SAT_pics/\" + names[i] + \"_sat.png\")\n",
    "    bnd_img = Image.open(\"Collected_Images/Sentinel/Bands/Cropped/\" + names[i] + \"_\" + bands[j] + \".png\")\n",
    "    jnt = Image.new(\"RGB\", (sat_img.width*2, sat_img.height*2))\n",
    "    jnt.paste(sat_img, (0,0))\n",
    "    jnt.paste(sat_img, (sat_img.width, sat_img.height))\n",
    "    jnt.paste(bnd_img, (0, sat_img.height))\n",
    "    jnt.paste(bnd_img, (sat_img.width, 0))\n",
    "    \n",
    "    jnt.save(save + \"Band_sat_pics/\" + names[i] + \"_sat_bnd.png\")\n",
    "    "
   ]
  },
  {
   "cell_type": "code",
   "execution_count": null,
   "metadata": {},
   "outputs": [],
   "source": []
  }
 ],
 "metadata": {
  "kernelspec": {
   "display_name": "Python 3",
   "language": "python",
   "name": "python3"
  },
  "language_info": {
   "codemirror_mode": {
    "name": "ipython",
    "version": 3
   },
   "file_extension": ".py",
   "mimetype": "text/x-python",
   "name": "python",
   "nbconvert_exporter": "python",
   "pygments_lexer": "ipython3",
   "version": "3.6.10"
  }
 },
 "nbformat": 4,
 "nbformat_minor": 4
}
