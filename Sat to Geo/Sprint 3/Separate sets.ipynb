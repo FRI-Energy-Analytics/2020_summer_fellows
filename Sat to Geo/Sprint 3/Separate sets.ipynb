{
 "cells": [
  {
   "cell_type": "code",
   "execution_count": 53,
   "metadata": {},
   "outputs": [],
   "source": [
    "import pandas as pd\n",
    "import numpy as np\n",
    "import matplotlib.pyplot as plt\n",
    "import contextily as cx\n",
    "%matplotlib inline\n",
    "\n",
    "import math\n",
    "\n",
    "import os\n",
    "import urllib.request\n",
    "from PIL import Image"
   ]
  },
  {
   "cell_type": "code",
   "execution_count": 54,
   "metadata": {},
   "outputs": [],
   "source": [
    "import random\n",
    "import skimage\n",
    "import skimage.feature\n",
    "import skimage.viewer\n",
    "import numpy as np"
   ]
  },
  {
   "cell_type": "code",
   "execution_count": 55,
   "metadata": {},
   "outputs": [],
   "source": [
    "os.makedirs(\"Collected_Images/Split_Images_DM\", exist_ok=True)\n",
    "os.makedirs(\"Collected_Images/Split_Images_DM/test\", exist_ok=True)\n",
    "os.makedirs(\"Collected_Images/Split_Images_DM/val\", exist_ok=True)\n",
    "os.makedirs(\"Collected_Images/Split_Images_DM/train\", exist_ok=True)"
   ]
  },
  {
   "cell_type": "code",
   "execution_count": 56,
   "metadata": {},
   "outputs": [],
   "source": [
    "f_set = [\n",
    "    \"Chihuahua_N\",\n",
    "    \"Alabama\",\n",
    "    \"Utah\",\n",
    "    \"W_Virginia\",\n",
    "    \"New_Mexico_Franklin\",\n",
    "    \"Colorodo\",\n",
    "    \"W_Texas\",\n",
    "    \"Mid_New_Mexico\",\n",
    "    \"W_New_Mexico\",\n",
    "    \"S_New_Mexico\",\n",
    "    \"S_Arizona\",\n",
    "    \"S_California\",\n",
    "    \"Mid_Nevada\",\n",
    "    \"N_Colorodo\",\n",
    "    \"S_W_Virginia\",\n",
    "    \"Tennessee\"\n",
    "]\n",
    "\n",
    "val_p = len(f_set) // 4"
   ]
  },
  {
   "cell_type": "code",
   "execution_count": 57,
   "metadata": {},
   "outputs": [],
   "source": [
    "test_split = 0.2\n",
    "num_tt_imgs = 1200\n",
    "num_val_imgs = 200\n",
    "img_size = 256\n",
    "input_size = 880\n",
    "\n",
    "src_path = \"Collected_Images/DM_Dataset/GAN_pics/\"\n",
    "\n",
    "paths = [\n",
    "    \"Collected_Images/Split_Images_DM/train/\",\n",
    "    \"Collected_Images/Split_Images_DM/test/\",\n",
    "    \"Collected_Images/Split_Images_DM/val/\"\n",
    "]\n",
    "\n",
    "n_vals = [\n",
    "    int(num_tt_imgs * (1 - test_split)),\n",
    "    int(num_tt_imgs * (test_split))\n",
    "]"
   ]
  },
  {
   "cell_type": "code",
   "execution_count": 58,
   "metadata": {},
   "outputs": [],
   "source": [
    "v_set = []\n",
    "\n",
    "for i in range(0, val_p):\n",
    "    choice = random.randrange(0, len(f_set))\n",
    "    v_set.append(f_set[choice])\n",
    "    f_set.remove(f_set[choice])\n",
    "tt_set = f_set"
   ]
  },
  {
   "cell_type": "code",
   "execution_count": 59,
   "metadata": {},
   "outputs": [
    {
     "data": {
      "text/plain": [
       "['S_W_Virginia', 'Tennessee', 'Mid_New_Mexico', 'S_California']"
      ]
     },
     "execution_count": 59,
     "metadata": {},
     "output_type": "execute_result"
    }
   ],
   "source": [
    "v_set"
   ]
  },
  {
   "cell_type": "code",
   "execution_count": 60,
   "metadata": {},
   "outputs": [
    {
     "data": {
      "text/plain": [
       "['Chihuahua_N',\n",
       " 'Alabama',\n",
       " 'Utah',\n",
       " 'W_Virginia',\n",
       " 'New_Mexico_Franklin',\n",
       " 'Colorodo',\n",
       " 'W_Texas',\n",
       " 'W_New_Mexico',\n",
       " 'S_New_Mexico',\n",
       " 'S_Arizona',\n",
       " 'Mid_Nevada',\n",
       " 'N_Colorodo']"
      ]
     },
     "execution_count": 60,
     "metadata": {},
     "output_type": "execute_result"
    }
   ],
   "source": [
    "tt_set"
   ]
  },
  {
   "cell_type": "code",
   "execution_count": 61,
   "metadata": {},
   "outputs": [],
   "source": [
    "visited = []\n",
    "\n",
    "for i in range(0, num_tt_imgs):\n",
    "    src = random.randrange(0, len(tt_set))\n",
    "    x = random.randrange(0,input_size - img_size)\n",
    "    y = random.randrange(0,input_size - img_size)\n",
    "    \n",
    "    cord = {\n",
    "        \"source\": src,\n",
    "        \"x_cord\": x,\n",
    "        \"y_cord\": y,\n",
    "    }\n",
    "    \n",
    "    while(cord in visited):\n",
    "        src = random.randrange(0, len(tt_set))\n",
    "        x = random.randrange(0,input_size - img_size)\n",
    "        y = random.randrange(0,input_size - img_size)\n",
    "\n",
    "        cord = {\n",
    "            \"source\": src,\n",
    "            \"x_cord\": x,\n",
    "            \"y_cord\": y,\n",
    "        }\n",
    "    \n",
    "    visited.append(cord)\n",
    "    \n",
    "    img = Image.open(src_path + tt_set[src] + \"-gan.png\")\n",
    "    \n",
    "    left = x\n",
    "    top = y\n",
    "    right = left + img_size\n",
    "    bottom = top + img_size\n",
    "    \n",
    "    lft_img = img.crop((left,\n",
    "                        top,\n",
    "                        right,\n",
    "                        bottom))\n",
    "    \n",
    "    rht_img = img.crop((left+input_size,\n",
    "                        top,\n",
    "                        right+input_size,\n",
    "                        bottom))\n",
    "    \n",
    "    # Uncomment below if you want to have your formation images to be reduced\n",
    "    # down to their blue layer.\n",
    "    \n",
    "    # Start Chunk\n",
    "#     rht_img.save(out_path + \"temp_rht_img.png\")\n",
    "    \n",
    "#     temp_rht_img = skimage.io.imread(fname = out_path + \"temp_rht_img.png\")\n",
    "#     temp_ar = np.copy(temp_rht_img)\n",
    "#     x_ar = temp_ar  \n",
    "#     result = x_ar[:, :, 2]\n",
    "#     result = result * (1.0/255.0)\n",
    "#     skimage.io.imsave(arr = result, fname = out_path + \"temp_rht_g_img.png\")\n",
    "    \n",
    "#     rht_img = Image.open(out_path + \"temp_rht_g_img.png\")\n",
    "    \n",
    "    # End chunk\n",
    "    \n",
    "    joint = Image.new(\"RGB\", (lft_img.width + rht_img.width, lft_img.height))\n",
    "    joint.paste(lft_img, (0,0))\n",
    "    joint.paste(rht_img, (lft_img.width, 0))\n",
    "    \n",
    "    r = random.randrange(0,2)\n",
    "    choice = n_vals[r]\n",
    "    \n",
    "    while(choice == 0):\n",
    "        r = random.randrange(0,2)\n",
    "        choice = n_vals[r]\n",
    "    \n",
    "    n_vals[r] -= 1\n",
    "    \n",
    "    joint.save(paths[r] + str(i) + \"-\" + tt_set[src] + \"-img.png\")"
   ]
  },
  {
   "cell_type": "code",
   "execution_count": 63,
   "metadata": {},
   "outputs": [],
   "source": [
    "visited = []\n",
    "\n",
    "for i in range(0, num_val_imgs):\n",
    "    src = random.randrange(0, len(v_set))\n",
    "    x = random.randrange(0,input_size - img_size)\n",
    "    y = random.randrange(0,input_size - img_size)\n",
    "    \n",
    "    cord = {\n",
    "        \"source\": src,\n",
    "        \"x_cord\": x,\n",
    "        \"y_cord\": y,\n",
    "    }\n",
    "    \n",
    "    while(cord in visited):\n",
    "        src = random.randrange(0, len(v_set))\n",
    "        x = random.randrange(0,input_size - img_size)\n",
    "        y = random.randrange(0,input_size - img_size)\n",
    "\n",
    "        cord = {\n",
    "            \"source\": src,\n",
    "            \"x_cord\": x,\n",
    "            \"y_cord\": y,\n",
    "        }\n",
    "    \n",
    "    visited.append(cord)\n",
    "    \n",
    "    img = Image.open(src_path + v_set[src] + \"-gan.png\")\n",
    "    \n",
    "    left = x\n",
    "    top = y\n",
    "    right = left + img_size\n",
    "    bottom = top + img_size\n",
    "    \n",
    "    lft_img = img.crop((left,\n",
    "                        top,\n",
    "                        right,\n",
    "                        bottom))\n",
    "    \n",
    "    rht_img = img.crop((left+input_size,\n",
    "                        top,\n",
    "                        right+input_size,\n",
    "                        bottom))\n",
    "    \n",
    "    # Uncomment below if you want to have your formation images to be reduced\n",
    "    # down to their blue layer.\n",
    "    \n",
    "    # Start Chunk\n",
    "#     rht_img.save(out_path + \"temp_rht_img.png\")\n",
    "    \n",
    "#     temp_rht_img = skimage.io.imread(fname = out_path + \"temp_rht_img.png\")\n",
    "#     temp_ar = np.copy(temp_rht_img)\n",
    "#     x_ar = temp_ar  \n",
    "#     result = x_ar[:, :, 2]\n",
    "#     result = result * (1.0/255.0)\n",
    "#     skimage.io.imsave(arr = result, fname = out_path + \"temp_rht_g_img.png\")\n",
    "    \n",
    "#     rht_img = Image.open(out_path + \"temp_rht_g_img.png\")\n",
    "    \n",
    "    # End chunk\n",
    "    \n",
    "    joint = Image.new(\"RGB\", (lft_img.width + rht_img.width, lft_img.height))\n",
    "    joint.paste(lft_img, (0,0))\n",
    "    joint.paste(rht_img, (lft_img.width, 0))\n",
    "    \n",
    "    joint.save(paths[2] + str(i) + \"-\" + v_set[src] + \"-img.png\")"
   ]
  },
  {
   "cell_type": "code",
   "execution_count": null,
   "metadata": {},
   "outputs": [],
   "source": []
  }
 ],
 "metadata": {
  "kernelspec": {
   "display_name": "Python 3",
   "language": "python",
   "name": "python3"
  },
  "language_info": {
   "codemirror_mode": {
    "name": "ipython",
    "version": 3
   },
   "file_extension": ".py",
   "mimetype": "text/x-python",
   "name": "python",
   "nbconvert_exporter": "python",
   "pygments_lexer": "ipython3",
   "version": "3.6.10"
  }
 },
 "nbformat": 4,
 "nbformat_minor": 4
}
