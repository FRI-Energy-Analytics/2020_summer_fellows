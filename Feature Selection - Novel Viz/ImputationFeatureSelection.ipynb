{
 "cells": [
  {
   "cell_type": "code",
   "execution_count": 1,
   "metadata": {},
   "outputs": [],
   "source": [
    "import pandas as pd\n",
    "import datetime\n",
    "import numpy as np\n",
    "import matplotlib.pyplot as plt\n",
    "import seaborn as sns\n",
    "import scipy as stats\n",
    "import pandas.plotting as pd_plot\n",
    "\n",
    "import missingno as msno\n",
    "import pandas_profiling\n",
    "\n",
    "import re\n",
    "\n",
    "import statsmodels.imputation.mice\n",
    "\n",
    "from sklearn.impute import KNNImputer\n",
    "from sklearn import preprocessing\n",
    "from sklearn.model_selection import train_test_split\n",
    "from sklearn import linear_model\n",
    "from sklearn import svm\n",
    "from sklearn import metrics\n",
    "from sklearn.preprocessing  import StandardScaler \n",
    "from sklearn.model_selection import cross_val_score\n",
    "from sklearn.model_selection import GridSearchCV\n",
    "from sklearn.linear_model import Ridge, RidgeCV\n",
    "from sklearn.preprocessing import scale\n",
    "from sklearn.linear_model import LassoCV\n",
    "import random"
   ]
  },
  {
   "cell_type": "markdown",
   "metadata": {},
   "source": [
    "# Feature Selection/Dimension Reduction"
   ]
  },
  {
   "cell_type": "code",
   "execution_count": 2,
   "metadata": {},
   "outputs": [],
   "source": [
    "OriginalDatasetwTypes = pd.read_csv(\"CleanedDataset.csv\")\n",
    "OriginalDataset = OriginalDatasetwTypes.copy().drop([\"Unnamed: 0\", \"Sleeves\", \"P&P\", \"Frac Ports\", \\\n",
    "                                      \"Repeater Ports\", \"CT\"], axis = 1)\n",
    "DatasetDropna = pd.read_csv(\"NoNanDataset.csv\")\n",
    "DatasetMean = pd.read_csv(\"MeanImputationDS.csv\")\n",
    "DatasetII = pd.read_csv(\"IterativeImputeDS.csv\")\n",
    "imputer = KNNImputer(n_neighbors=10)\n",
    "DatasetKNN = imputer.fit_transform(OriginalDataset.copy().select_dtypes([np.number]))\n",
    "DatasetKNN = pd.DataFrame(DatasetKNN, columns = OriginalDataset.copy().select_dtypes([np.number]).columns)\n",
    "from impyute.imputation import cs\n",
    "np.random.seed(9)\n",
    "data = OriginalDataset.copy().select_dtypes([np.number]).to_numpy()\n",
    "DatasetMICE = cs.mice(data)\n",
    "DatasetMICE = pd.DataFrame(DatasetMICE, columns = OriginalDataset.copy().select_dtypes([np.number]).columns)\n",
    "DatasetIIandCI = pd.read_csv(\"DatasetIIandCI.csv\")"
   ]
  },
  {
   "cell_type": "markdown",
   "metadata": {},
   "source": [
    "## LASSO Regression"
   ]
  },
  {
   "cell_type": "markdown",
   "metadata": {},
   "source": [
    "### Dataset with Dropped Data"
   ]
  },
  {
   "cell_type": "code",
   "execution_count": 3,
   "metadata": {},
   "outputs": [
    {
     "name": "stdout",
     "output_type": "stream",
     "text": [
      "Train score: 0.9784512121522406\n",
      "Test score: 0.975443027672081\n",
      "Number of coefficients used: 8\n",
      "Root mean squared error: 7.811880511479986\n",
      "[ 9.36313523e-05 -2.60011265e-04  1.35876702e-01  0.00000000e+00\n",
      "  0.00000000e+00 -0.00000000e+00  6.04279737e-07  9.26784833e-06\n",
      "  0.00000000e+00  0.00000000e+00  0.00000000e+00  1.09074130e-01\n",
      "  2.36956993e-01  0.00000000e+00  0.00000000e+00 -1.52634823e-03]\n"
     ]
    },
    {
     "data": {
      "text/plain": [
       "Unnamed: 0         9.363135e-05\n",
       "Lateral Length    -2.600113e-04\n",
       "Stages             1.358767e-01\n",
       "Township           0.000000e+00\n",
       "Range              0.000000e+00\n",
       "Section           -0.000000e+00\n",
       "Total Prop, lbs    6.042797e-07\n",
       "Fluid, bbls        9.267848e-06\n",
       "Best1 Mo BOPD      0.000000e+00\n",
       "Best3 Mo BOPD      0.000000e+00\n",
       "Best6 Mo BOPD      0.000000e+00\n",
       "Best9 Mo BOPD      1.090741e-01\n",
       "Best12 Mo BOPD     2.369570e-01\n",
       "Latitude           0.000000e+00\n",
       "Longitude          0.000000e+00\n",
       "SPACING_CAPPED    -1.526348e-03\n",
       "dtype: float64"
      ]
     },
     "execution_count": 3,
     "metadata": {},
     "output_type": "execute_result"
    },
    {
     "data": {
      "image/png": "[encoded data removed]",
      "text/plain": [
       "<Figure size 576x396 with 1 Axes>"
      ]
     },
     "metadata": {},
     "output_type": "display_data"
    }
   ],
   "source": [
    "from math import sqrt\n",
    "X = DatasetDropna.copy().select_dtypes([np.number]).drop([\"12 month Cum Prod\", \"Year Drilled\"], axis = 1)\n",
    "scaler = StandardScaler()\n",
    "sX = scaler.fit_transform(X)\n",
    "y = DatasetDropna[\"12 month Cum Prod\"]\n",
    "sy = scaler.fit_transform(y.values.reshape((-1,1)))\n",
    "alphas = 10**np.linspace(10,-2, 100)*0.05\n",
    "coefs = []\n",
    "X_train, X_test, y_train, y_test = train_test_split(X, y, test_size = .4, random_state = 1)\n",
    "Lasso = linear_model.Lasso(max_iter = 300000, tol = 0.0001, normalize = True)\n",
    "for a in alphas:\n",
    "    Lasso.set_params(alpha = a)\n",
    "    Lasso.fit(X_train, y_train)\n",
    "    coefs.append(Lasso.coef_)\n",
    "ax = plt.gca()\n",
    "ax.plot(alphas*2, coefs)\n",
    "ax.set_xscale(\"log\")\n",
    "plt.axis('tight')\n",
    "plt.xlabel('alpha')\n",
    "plt.ylabel('weights')\n",
    "    \n",
    "Lassocv = LassoCV(alphas = None, cv = 20, max_iter = 300000, normalize = True)\n",
    "Lassocv.fit(X_train, y_train)\n",
    "\n",
    "Lasso.set_params(alpha = Lassocv.alpha_)\n",
    "Lasso.fit(X_train, y_train)\n",
    "\n",
    "y_pred = Lasso.predict(X_test)\n",
    "rmse = sqrt(metrics.mean_squared_error(y_test, y_pred))\n",
    "\n",
    "print(\"Train score:\", Lasso.score(X_train, y_train))\n",
    "print(\"Test score:\", Lasso.score(X_test, y_test))\n",
    "print(\"Number of coefficients used:\", np.sum(Lasso.coef_!=0))\n",
    "print(\"Root mean squared error:\", rmse)\n",
    "print(Lasso.coef_)\n",
    "pd.Series(Lasso.coef_, index = X.columns)"
   ]
  },
  {
   "cell_type": "markdown",
   "metadata": {},
   "source": [
    "#### Analysis"
   ]
  },
  {
   "cell_type": "markdown",
   "metadata": {},
   "source": [
    "### Mean Imputation Dataset"
   ]
  },
  {
   "cell_type": "code",
   "execution_count": 4,
   "metadata": {},
   "outputs": [
    {
     "name": "stdout",
     "output_type": "stream",
     "text": [
      "Train score: 0.7683534108469994\n",
      "Test score: 0.7732830711780654\n",
      "Number of coefficients used: 12\n",
      "Root mean squared error: 25.382535037817245\n",
      "[-1.90109109e-04 -0.00000000e+00  2.02816125e-01 -3.54094422e-01\n",
      " -0.00000000e+00 -2.40605808e-02  3.40120892e-06  1.21503462e-04\n",
      "  0.00000000e+00  5.46380372e-02  8.80929335e-02  3.38787309e-02\n",
      "  9.50501458e-02 -0.00000000e+00  9.13785675e+00 -1.04454203e-02]\n"
     ]
    },
    {
     "data": {
      "text/plain": [
       "Unnamed: 0        -0.000190\n",
       "Lateral Length    -0.000000\n",
       "Stages             0.202816\n",
       "Township          -0.354094\n",
       "Range             -0.000000\n",
       "Section           -0.024061\n",
       "Total Prop, lbs    0.000003\n",
       "Fluid, bbls        0.000122\n",
       "Best1 Mo BOPD      0.000000\n",
       "Best3 Mo BOPD      0.054638\n",
       "Best6 Mo BOPD      0.088093\n",
       "Best9 Mo BOPD      0.033879\n",
       "Best12 Mo BOPD     0.095050\n",
       "Latitude          -0.000000\n",
       "Longitude          9.137857\n",
       "SPACING_CAPPED    -0.010445\n",
       "dtype: float64"
      ]
     },
     "execution_count": 4,
     "metadata": {},
     "output_type": "execute_result"
    },
    {
     "data": {
      "image/png": "[encoded data removed]",
      "text/plain": [
       "<Figure size 576x396 with 1 Axes>"
      ]
     },
     "metadata": {},
     "output_type": "display_data"
    }
   ],
   "source": [
    "X = DatasetMean.copy().select_dtypes([np.number]).drop([\"12 month Cum Prod\", \"Year Drilled\"], axis = 1)\n",
    "scaler = StandardScaler()\n",
    "sX = scaler.fit_transform(X)\n",
    "y = DatasetMean[\"12 month Cum Prod\"]\n",
    "sy = scaler.fit_transform(y.values.reshape((-1,1)))\n",
    "alphas = 10**np.linspace(10,-2, 100)*0.05\n",
    "coefs = []\n",
    "X_train, X_test, y_train, y_test = train_test_split(X, y, test_size = .4, random_state = 1)\n",
    "Lasso = linear_model.Lasso(max_iter = 300000, tol = 0.0001, normalize = True)\n",
    "for a in alphas:\n",
    "    Lasso.set_params(alpha = a)\n",
    "    Lasso.fit(X_train, y_train)\n",
    "    coefs.append(Lasso.coef_)\n",
    "ax = plt.gca()\n",
    "ax.plot(alphas*2, coefs)\n",
    "ax.set_xscale(\"log\")\n",
    "plt.axis('tight')\n",
    "plt.xlabel('alpha')\n",
    "plt.ylabel('weights')\n",
    "    \n",
    "Lassocv = LassoCV(alphas = None, cv = 20, max_iter = 300000, normalize = True)\n",
    "Lassocv.fit(X_train, y_train)\n",
    "\n",
    "Lasso.set_params(alpha = Lassocv.alpha_)\n",
    "Lasso.fit(X_train, y_train)\n",
    "\n",
    "y_pred = Lasso.predict(X_test)\n",
    "rmse = sqrt(metrics.mean_squared_error(y_test, y_pred))\n",
    "\n",
    "print(\"Train score:\", Lasso.score(X_train, y_train))\n",
    "print(\"Test score:\", Lasso.score(X_test, y_test))\n",
    "print(\"Number of coefficients used:\", np.sum(Lasso.coef_!=0))\n",
    "print(\"Root mean squared error:\", rmse)\n",
    "print(Lasso.coef_)\n",
    "pd.Series(Lasso.coef_, index = X.columns)"
   ]
  },
  {
   "cell_type": "markdown",
   "metadata": {},
   "source": [
    "#### Analysis"
   ]
  },
  {
   "cell_type": "markdown",
   "metadata": {},
   "source": [
    "### Iterative Imputatoin Dataset"
   ]
  },
  {
   "cell_type": "code",
   "execution_count": 5,
   "metadata": {},
   "outputs": [
    {
     "name": "stdout",
     "output_type": "stream",
     "text": [
      "Train score: 0.9193368373475088\n",
      "Test score: 0.9178193441295951\n",
      "Number of coefficients used: 12\n",
      "Root mean squared error: 15.281916448339881\n",
      "[-9.92340905e-05 -5.01498226e-04  2.63129516e-01 -1.69817218e-01\n",
      " -0.00000000e+00 -2.64061920e-03  2.16054717e-06  7.45345406e-05\n",
      " -1.82133917e-03 -0.00000000e+00 -1.49770745e-01  0.00000000e+00\n",
      "  5.63989993e-01 -0.00000000e+00  1.69708477e+00 -1.58709894e-02]\n"
     ]
    },
    {
     "data": {
      "text/plain": [
       "Unnamed: 0        -0.000099\n",
       "Lateral Length    -0.000501\n",
       "Stages             0.263130\n",
       "Township          -0.169817\n",
       "Range             -0.000000\n",
       "Section           -0.002641\n",
       "Total Prop, lbs    0.000002\n",
       "Fluid, bbls        0.000075\n",
       "Best1 Mo BOPD     -0.001821\n",
       "Best3 Mo BOPD     -0.000000\n",
       "Best6 Mo BOPD     -0.149771\n",
       "Best9 Mo BOPD      0.000000\n",
       "Best12 Mo BOPD     0.563990\n",
       "Latitude          -0.000000\n",
       "Longitude          1.697085\n",
       "SPACING_CAPPED    -0.015871\n",
       "dtype: float64"
      ]
     },
     "execution_count": 5,
     "metadata": {},
     "output_type": "execute_result"
    },
    {
     "data": {
      "image/png": "[encoded data removed]",
      "text/plain": [
       "<Figure size 576x396 with 1 Axes>"
      ]
     },
     "metadata": {},
     "output_type": "display_data"
    }
   ],
   "source": [
    "X = DatasetII.copy().select_dtypes([np.number]).drop([\"12 month Cum Prod\", \"Year Drilled\"], axis = 1)\n",
    "scaler = StandardScaler()\n",
    "sX = scaler.fit_transform(X)\n",
    "y = DatasetII[\"12 month Cum Prod\"]\n",
    "sy = scaler.fit_transform(y.values.reshape((-1,1)))\n",
    "alphas = 10**np.linspace(10,-2, 100)*0.05\n",
    "coefs = []\n",
    "X_train, X_test, y_train, y_test = train_test_split(X, y, test_size = .4, random_state = 1)\n",
    "Lasso = linear_model.Lasso(max_iter = 300000, tol = 0.0001, normalize = True)\n",
    "for a in alphas:\n",
    "    Lasso.set_params(alpha = a)\n",
    "    Lasso.fit(X_train, y_train)\n",
    "    coefs.append(Lasso.coef_)\n",
    "ax = plt.gca()\n",
    "ax.plot(alphas*2, coefs)\n",
    "ax.set_xscale(\"log\")\n",
    "plt.axis('tight')\n",
    "plt.xlabel('alpha')\n",
    "plt.ylabel('weights')\n",
    "    \n",
    "Lassocv = LassoCV(alphas = None, cv = 20, max_iter = 300000, normalize = True)\n",
    "Lassocv.fit(X_train, y_train)\n",
    "\n",
    "Lasso.set_params(alpha = Lassocv.alpha_)\n",
    "Lasso.fit(X_train, y_train)\n",
    "\n",
    "y_pred = Lasso.predict(X_test)\n",
    "rmse = sqrt(metrics.mean_squared_error(y_test, y_pred))\n",
    "\n",
    "print(\"Train score:\", Lasso.score(X_train, y_train))\n",
    "print(\"Test score:\", Lasso.score(X_test, y_test))\n",
    "print(\"Number of coefficients used:\", np.sum(Lasso.coef_!=0))\n",
    "print(\"Root mean squared error:\", rmse)\n",
    "print(Lasso.coef_)\n",
    "pd.Series(Lasso.coef_, index = X.columns)"
   ]
  },
  {
   "cell_type": "markdown",
   "metadata": {},
   "source": [
    "#### Analysis"
   ]
  },
  {
   "cell_type": "markdown",
   "metadata": {},
   "source": [
    "### K- NN Imputation Dataset"
   ]
  },
  {
   "cell_type": "code",
   "execution_count": 6,
   "metadata": {},
   "outputs": [
    {
     "name": "stdout",
     "output_type": "stream",
     "text": [
      "Train score: 0.7652285908428245\n",
      "Test score: 0.7660899276286498\n",
      "Number of coefficients used: 13\n",
      "Root mean squared error: 25.78205206413322\n",
      "[ 3.22046235e-04  3.66362212e-01 -2.73303591e-01 -0.00000000e+00\n",
      " -4.22946093e-02 -3.41260664e-06  1.18271029e-04  1.54890947e-03\n",
      "  3.92475004e-02  1.20310563e-01  6.23826759e-02  5.21283508e-02\n",
      " -0.00000000e+00  6.99645423e+00  2.06923058e-03]\n"
     ]
    },
    {
     "data": {
      "text/plain": [
       "Lateral Length     0.000322\n",
       "Stages             0.366362\n",
       "Township          -0.273304\n",
       "Range             -0.000000\n",
       "Section           -0.042295\n",
       "Total Prop, lbs   -0.000003\n",
       "Fluid, bbls        0.000118\n",
       "Best1 Mo BOPD      0.001549\n",
       "Best3 Mo BOPD      0.039248\n",
       "Best6 Mo BOPD      0.120311\n",
       "Best9 Mo BOPD      0.062383\n",
       "Best12 Mo BOPD     0.052128\n",
       "Latitude          -0.000000\n",
       "Longitude          6.996454\n",
       "SPACING_CAPPED     0.002069\n",
       "dtype: float64"
      ]
     },
     "execution_count": 6,
     "metadata": {},
     "output_type": "execute_result"
    },
    {
     "data": {
      "image/png": "[encoded data removed]",
      "text/plain": [
       "<Figure size 576x396 with 1 Axes>"
      ]
     },
     "metadata": {},
     "output_type": "display_data"
    }
   ],
   "source": [
    "X = DatasetKNN.copy().select_dtypes([np.number]).drop([\"12 month Cum Prod\", \"Year Drilled\"], axis = 1)\n",
    "scaler = StandardScaler()\n",
    "sX = scaler.fit_transform(X)\n",
    "y = DatasetKNN[\"12 month Cum Prod\"]\n",
    "sy = scaler.fit_transform(y.values.reshape((-1,1)))\n",
    "alphas = 10**np.linspace(10,-2, 100)*0.05\n",
    "coefs = []\n",
    "X_train, X_test, y_train, y_test = train_test_split(X, y, test_size = .4, random_state = 1)\n",
    "Lasso = linear_model.Lasso(max_iter = 300000, tol = 0.0001, normalize = True)\n",
    "for a in alphas:\n",
    "    Lasso.set_params(alpha = a)\n",
    "    Lasso.fit(X_train, y_train)\n",
    "    coefs.append(Lasso.coef_)\n",
    "ax = plt.gca()\n",
    "ax.plot(alphas*2, coefs)\n",
    "ax.set_xscale(\"log\")\n",
    "plt.axis('tight')\n",
    "plt.xlabel('alpha')\n",
    "plt.ylabel('weights')\n",
    "    \n",
    "Lassocv = LassoCV(alphas = None, cv = 20, max_iter = 300000, normalize = True)\n",
    "Lassocv.fit(X_train, y_train)\n",
    "\n",
    "Lasso.set_params(alpha = Lassocv.alpha_)\n",
    "Lasso.fit(X_train, y_train)\n",
    "\n",
    "y_pred = Lasso.predict(X_test)\n",
    "rmse = sqrt(metrics.mean_squared_error(y_test, y_pred))\n",
    "\n",
    "print(\"Train score:\", Lasso.score(X_train, y_train))\n",
    "print(\"Test score:\", Lasso.score(X_test, y_test))\n",
    "print(\"Number of coefficients used:\", np.sum(Lasso.coef_!=0))\n",
    "print(\"Root mean squared error:\", rmse)\n",
    "print(Lasso.coef_)\n",
    "pd.Series(Lasso.coef_, index = X.columns)"
   ]
  },
  {
   "cell_type": "markdown",
   "metadata": {},
   "source": [
    "#### Analysis"
   ]
  },
  {
   "cell_type": "markdown",
   "metadata": {},
   "source": [
    "### MICE Imputation Dataset"
   ]
  },
  {
   "cell_type": "code",
   "execution_count": 7,
   "metadata": {},
   "outputs": [
    {
     "name": "stdout",
     "output_type": "stream",
     "text": [
      "Train score: 0.919159648628821\n",
      "Test score: 0.9188427159690814\n",
      "Number of coefficients used: 11\n",
      "Root mean squared error: 15.1864677351114\n",
      "[-4.64578771e-04  2.30263448e-01 -1.52098368e-01 -0.00000000e+00\n",
      " -0.00000000e+00  2.44671188e-06  7.13116893e-05  3.26710655e-02\n",
      " -4.42567803e-02 -1.82076693e-01  0.00000000e+00  6.08431341e-01\n",
      " -0.00000000e+00  1.73975868e+00 -1.52858872e-02]\n"
     ]
    },
    {
     "data": {
      "text/plain": [
       "Lateral Length    -0.000465\n",
       "Stages             0.230263\n",
       "Township          -0.152098\n",
       "Range             -0.000000\n",
       "Section           -0.000000\n",
       "Total Prop, lbs    0.000002\n",
       "Fluid, bbls        0.000071\n",
       "Best1 Mo BOPD      0.032671\n",
       "Best3 Mo BOPD     -0.044257\n",
       "Best6 Mo BOPD     -0.182077\n",
       "Best9 Mo BOPD      0.000000\n",
       "Best12 Mo BOPD     0.608431\n",
       "Latitude          -0.000000\n",
       "Longitude          1.739759\n",
       "SPACING_CAPPED    -0.015286\n",
       "dtype: float64"
      ]
     },
     "execution_count": 7,
     "metadata": {},
     "output_type": "execute_result"
    },
    {
     "data": {
      "image/png": "[encoded data removed]",
      "text/plain": [
       "<Figure size 576x396 with 1 Axes>"
      ]
     },
     "metadata": {},
     "output_type": "display_data"
    }
   ],
   "source": [
    "X = DatasetMICE.copy().select_dtypes([np.number]).drop([\"12 month Cum Prod\", \"Year Drilled\"], axis = 1)\n",
    "scaler = StandardScaler()\n",
    "sX = scaler.fit_transform(X)\n",
    "y = DatasetMICE[\"12 month Cum Prod\"]\n",
    "sy = scaler.fit_transform(y.values.reshape((-1,1)))\n",
    "alphas = 10**np.linspace(10,-2, 100)*0.05\n",
    "coefs = []\n",
    "X_train, X_test, y_train, y_test = train_test_split(X, y, test_size = .4, random_state = 1)\n",
    "Lasso = linear_model.Lasso(max_iter = 300000, tol = 0.0001, normalize = True)\n",
    "for a in alphas:\n",
    "    Lasso.set_params(alpha = a)\n",
    "    Lasso.fit(X_train, y_train)\n",
    "    coefs.append(Lasso.coef_)\n",
    "ax = plt.gca()\n",
    "ax.plot(alphas*2, coefs)\n",
    "ax.set_xscale(\"log\")\n",
    "plt.axis('tight')\n",
    "plt.xlabel('alpha')\n",
    "plt.ylabel('weights')\n",
    "    \n",
    "Lassocv = LassoCV(alphas = None, cv = 20, max_iter = 300000, normalize = True)\n",
    "Lassocv.fit(X_train, y_train)\n",
    "\n",
    "Lasso.set_params(alpha = Lassocv.alpha_)\n",
    "Lasso.fit(X_train, y_train)\n",
    "\n",
    "y_pred = Lasso.predict(X_test)\n",
    "rmse = sqrt(metrics.mean_squared_error(y_test, y_pred))\n",
    "\n",
    "print(\"Train score:\", Lasso.score(X_train, y_train))\n",
    "print(\"Test score:\", Lasso.score(X_test, y_test))\n",
    "print(\"Number of coefficients used:\", np.sum(Lasso.coef_!=0))\n",
    "print(\"Root mean squared error:\", rmse)\n",
    "print(Lasso.coef_)\n",
    "pd.Series(Lasso.coef_, index = X.columns)"
   ]
  },
  {
   "cell_type": "markdown",
   "metadata": {},
   "source": [
    "#### Analysis"
   ]
  },
  {
   "cell_type": "markdown",
   "metadata": {},
   "source": [
    "### Seperating by Completion Type"
   ]
  },
  {
   "cell_type": "code",
   "execution_count": 8,
   "metadata": {},
   "outputs": [],
   "source": [
    "\n",
    "Category = \"Completion Type\"\n",
    "DatasetII[Category] = OriginalDatasetwTypes[Category]\n",
    "DatasetII[\"Sleeves\"] = OriginalDatasetwTypes[\"Sleeves\"]\n",
    "DatasetII[\"P&P\"] = OriginalDatasetwTypes[\"P&P\"]\n",
    "DatasetII[\"Frac Ports\"] = OriginalDatasetwTypes[\"Frac Ports\"]\n",
    "DatasetII[\"Repeater Ports\"] = OriginalDatasetwTypes[\"Repeater Ports\"]\n",
    "DatasetII[\"CT\"] = OriginalDatasetwTypes[\"CT\"]\n",
    "DatasetII = DatasetII.dropna(axis=0, subset=['Completion Type'])\n",
    "\n",
    "DatasetIISleeves = pd.concat([\\\n",
    "                               DatasetII[DatasetII[Category] == \\\n",
    "                                          \"Sleeves\"], \\\n",
    "                               DatasetII[DatasetII[Category] == \\\n",
    "                                           \"Sleeves and P & P\"]])\n",
    "DatasetIISleeves = DatasetIISleeves.fillna(0)\n",
    "\n",
    "DatasetIIPandP = pd.concat([\\\n",
    "                            DatasetII[DatasetII[Category] == \\\n",
    "                                      \"P & P\"], \\\n",
    "                            DatasetII[DatasetII[Category] == \\\n",
    "                                      \"Sleeves and P & P\"], \\\n",
    "                            DatasetII[DatasetII[Category] == \\\n",
    "                                      \"Frac Ports and P & P\"], \\\n",
    "                            DatasetII[DatasetII[Category] == \\\n",
    "                                       \"P & P and CT\"], \\\n",
    "                            DatasetII[DatasetII[Category] == \\\n",
    "                                      \"Repeater Ports and P & P\"]])\n",
    "DatasetIIPandP = DatasetIIPandP.fillna(0)\n",
    "\n",
    "DatasetIIFracPorts = pd.concat([\\\n",
    "                                DatasetII[DatasetII[Category] == \\\n",
    "                                         \"Frac Ports\"], \\\n",
    "                                DatasetII[DatasetII[Category] == \\\n",
    "                                         \"Frac Ports and P & P\"], \\\n",
    "                                DatasetII[DatasetII[Category] == \\\n",
    "                                         \"Frac Ports and Repeater Ports\"]])\n",
    "DatasetIIFracPorts = DatasetIIFracPorts.fillna(0)\n",
    "\n",
    "DatasetIIRepeaterPorts = pd.concat([\\\n",
    "                                    DatasetII[DatasetII[Category] == \\\n",
    "                                        \"Frac Ports and Repeater Ports\"],\n",
    "                                    DatasetII[DatasetII[Category] == \\\n",
    "                                              \"Repeater Ports and P & P\"]])\n",
    "DatasetIIRepeaterPorts = DatasetIIRepeaterPorts.fillna(0)\n",
    "\n",
    "DatasetIICT = pd.concat([\\\n",
    "                         DatasetII[DatasetII[Category] == \\\n",
    "                                   \"CT\"], \\\n",
    "                         DatasetII[DatasetII[Category] == \\\n",
    "                                   \"P & P and CT\"]])\n",
    "DatasetIICT = DatasetIICT.fillna(0)\n",
    "DatasetIIOH = DatasetII[DatasetII[Category] == \"OH\"]\n",
    "DatasetIIOH = DatasetIIOH.fillna(0)\n",
    "\n",
    "DatasetIIScreen = DatasetII[DatasetII[Category] == \"Screen\"]\n",
    "DatasetIIScreen = DatasetIIScreen.fillna(0)\n",
    "\n",
    "DatasetIICementedL = DatasetII[DatasetII[Category] == \"Cemented Liner\"]\n",
    "DatasetIICementedL = DatasetIICementedL.fillna(0)\n",
    "\n",
    "DatasetIIPerforatedL = DatasetII[DatasetII[Category] == \\\n",
    "                                   \"Perforated Liner\"]\n",
    "DatasetIIPerforatedL = DatasetIIPerforatedL.fillna(0)\n",
    "\n",
    "DatasetIIother = pd.concat([DatasetIIOH, DatasetIIScreen, \\\n",
    "                           DatasetIICementedL, DatasetIIPerforatedL, DatasetIIFracPorts, DatasetIIRepeaterPorts])\n"
   ]
  },
  {
   "cell_type": "markdown",
   "metadata": {},
   "source": [
    "### Sleeves"
   ]
  },
  {
   "cell_type": "code",
   "execution_count": 9,
   "metadata": {},
   "outputs": [
    {
     "name": "stdout",
     "output_type": "stream",
     "text": [
      "Train score: 0.9227018783782674\n",
      "Test score: 0.9318787834980496\n",
      "Number of coefficients used: 14\n",
      "Root mean squared error: 12.159003281165456\n",
      "[-6.01579778e-04  2.92234357e-01 -2.33246343e-01 -0.00000000e+00\n",
      " -2.27509030e-02  3.52410448e-06 -8.67943583e-06  4.52463622e-04\n",
      "  1.76508375e-02 -9.65952755e-02 -0.00000000e+00  4.69638386e-01\n",
      " -0.00000000e+00  1.12472392e+00 -8.98397439e-03  1.29798992e-02\n",
      " -1.12132911e-01  0.00000000e+00  0.00000000e+00  0.00000000e+00]\n"
     ]
    },
    {
     "data": {
      "text/plain": [
       "Lateral Length    -0.000602\n",
       "Stages             0.292234\n",
       "Township          -0.233246\n",
       "Range             -0.000000\n",
       "Section           -0.022751\n",
       "Total Prop, lbs    0.000004\n",
       "Fluid, bbls       -0.000009\n",
       "Best1 Mo BOPD      0.000452\n",
       "Best3 Mo BOPD      0.017651\n",
       "Best6 Mo BOPD     -0.096595\n",
       "Best9 Mo BOPD     -0.000000\n",
       "Best12 Mo BOPD     0.469638\n",
       "Latitude          -0.000000\n",
       "Longitude          1.124724\n",
       "SPACING_CAPPED    -0.008984\n",
       "Sleeves            0.012980\n",
       "P&P               -0.112133\n",
       "Frac Ports         0.000000\n",
       "Repeater Ports     0.000000\n",
       "CT                 0.000000\n",
       "dtype: float64"
      ]
     },
     "execution_count": 9,
     "metadata": {},
     "output_type": "execute_result"
    },
    {
     "data": {
      "image/png": "[encoded data removed]",
      "text/plain": [
       "<Figure size 576x396 with 1 Axes>"
      ]
     },
     "metadata": {},
     "output_type": "display_data"
    }
   ],
   "source": [
    "X = DatasetIISleeves.copy().select_dtypes([np.number]).drop([\"12 month Cum Prod\", \"Year Drilled\", \"Unnamed: 0\"], axis = 1)\n",
    "scaler = StandardScaler()\n",
    "sX = scaler.fit_transform(X)\n",
    "y = DatasetIISleeves[\"12 month Cum Prod\"]\n",
    "sy = scaler.fit_transform(y.values.reshape((-1,1)))\n",
    "alphas = 10**np.linspace(10,-2, 100)*0.05\n",
    "coefs = []\n",
    "X_train, X_test, y_train, y_test = train_test_split(X, y, test_size = .4, random_state = 1)\n",
    "Lasso = linear_model.Lasso(max_iter = 300000, tol = 0.0001, normalize = True)\n",
    "for a in alphas:\n",
    "    Lasso.set_params(alpha = a)\n",
    "    Lasso.fit(X_train, y_train)\n",
    "    coefs.append(Lasso.coef_)\n",
    "ax = plt.gca()\n",
    "ax.plot(alphas*2, coefs)\n",
    "ax.set_xscale(\"log\")\n",
    "plt.axis('tight')\n",
    "plt.xlabel('alpha')\n",
    "plt.ylabel('weights')\n",
    "    \n",
    "Lassocv = LassoCV(alphas = None, cv = 20, max_iter = 300000, normalize = True)\n",
    "Lassocv.fit(X_train, y_train)\n",
    "\n",
    "Lasso.set_params(alpha = Lassocv.alpha_)\n",
    "Lasso.fit(X_train, y_train)\n",
    "\n",
    "y_pred = Lasso.predict(X_test)\n",
    "rmse = sqrt(metrics.mean_squared_error(y_test, y_pred))\n",
    "\n",
    "print(\"Train score:\", Lasso.score(X_train, y_train))\n",
    "print(\"Test score:\", Lasso.score(X_test, y_test))\n",
    "print(\"Number of coefficients used:\", np.sum(Lasso.coef_!=0))\n",
    "print(\"Root mean squared error:\", rmse)\n",
    "print(Lasso.coef_)\n",
    "pd.Series(Lasso.coef_, index = X.columns)"
   ]
  },
  {
   "cell_type": "markdown",
   "metadata": {},
   "source": [
    "#### Analysis"
   ]
  },
  {
   "cell_type": "markdown",
   "metadata": {},
   "source": [
    "### P & P"
   ]
  },
  {
   "cell_type": "code",
   "execution_count": 10,
   "metadata": {},
   "outputs": [
    {
     "name": "stdout",
     "output_type": "stream",
     "text": [
      "Train score: 0.9125551725854727\n",
      "Test score: 0.9105132713262579\n",
      "Number of coefficients used: 14\n",
      "Root mean squared error: 17.891623785825605\n",
      "[-3.96501919e-04  1.66133851e-01 -2.90090980e-01 -0.00000000e+00\n",
      "  4.43652486e-02  2.29731085e-06  8.04214463e-05 -3.34969436e-03\n",
      " -1.45171907e-02 -1.90360074e-01  0.00000000e+00  6.43827758e-01\n",
      " -0.00000000e+00  1.78774866e+00 -2.20032296e-02  1.38641192e-02\n",
      "  0.00000000e+00  0.00000000e+00 -4.95397544e-01  0.00000000e+00]\n"
     ]
    },
    {
     "data": {
      "text/plain": [
       "Lateral Length    -0.000397\n",
       "Stages             0.166134\n",
       "Township          -0.290091\n",
       "Range             -0.000000\n",
       "Section            0.044365\n",
       "Total Prop, lbs    0.000002\n",
       "Fluid, bbls        0.000080\n",
       "Best1 Mo BOPD     -0.003350\n",
       "Best3 Mo BOPD     -0.014517\n",
       "Best6 Mo BOPD     -0.190360\n",
       "Best9 Mo BOPD      0.000000\n",
       "Best12 Mo BOPD     0.643828\n",
       "Latitude          -0.000000\n",
       "Longitude          1.787749\n",
       "SPACING_CAPPED    -0.022003\n",
       "Sleeves            0.013864\n",
       "P&P                0.000000\n",
       "Frac Ports         0.000000\n",
       "Repeater Ports    -0.495398\n",
       "CT                 0.000000\n",
       "dtype: float64"
      ]
     },
     "execution_count": 10,
     "metadata": {},
     "output_type": "execute_result"
    },
    {
     "data": {
      "image/png": "[encoded data removed]",
      "text/plain": [
       "<Figure size 576x396 with 1 Axes>"
      ]
     },
     "metadata": {},
     "output_type": "display_data"
    }
   ],
   "source": [
    "X = DatasetIIPandP.copy().select_dtypes([np.number]).drop([\"12 month Cum Prod\", \"Year Drilled\", \"Unnamed: 0\"], axis = 1)\n",
    "scaler = StandardScaler()\n",
    "sX = scaler.fit_transform(X)\n",
    "y = DatasetIIPandP[\"12 month Cum Prod\"]\n",
    "sy = scaler.fit_transform(y.values.reshape((-1,1)))\n",
    "alphas = 10**np.linspace(10,-2, 100)*0.05\n",
    "coefs = []\n",
    "X_train, X_test, y_train, y_test = train_test_split(X, y, test_size = .4, random_state = 1)\n",
    "Lasso = linear_model.Lasso(max_iter = 300000, tol = 0.0001, normalize = True)\n",
    "for a in alphas:\n",
    "    Lasso.set_params(alpha = a)\n",
    "    Lasso.fit(X_train, y_train)\n",
    "    coefs.append(Lasso.coef_)\n",
    "ax = plt.gca()\n",
    "ax.plot(alphas*2, coefs)\n",
    "ax.set_xscale(\"log\")\n",
    "plt.axis('tight')\n",
    "plt.xlabel('alpha')\n",
    "plt.ylabel('weights')\n",
    "    \n",
    "Lassocv = LassoCV(alphas = None, cv = 20, max_iter = 300000, normalize = True)\n",
    "Lassocv.fit(X_train, y_train)\n",
    "\n",
    "Lasso.set_params(alpha = Lassocv.alpha_)\n",
    "Lasso.fit(X_train, y_train)\n",
    "\n",
    "y_pred = Lasso.predict(X_test)\n",
    "rmse = sqrt(metrics.mean_squared_error(y_test, y_pred))\n",
    "\n",
    "print(\"Train score:\", Lasso.score(X_train, y_train))\n",
    "print(\"Test score:\", Lasso.score(X_test, y_test))\n",
    "print(\"Number of coefficients used:\", np.sum(Lasso.coef_!=0))\n",
    "print(\"Root mean squared error:\", rmse)\n",
    "print(Lasso.coef_)\n",
    "pd.Series(Lasso.coef_, index = X.columns)"
   ]
  },
  {
   "cell_type": "markdown",
   "metadata": {},
   "source": [
    "#### Analysis"
   ]
  },
  {
   "cell_type": "markdown",
   "metadata": {},
   "source": [
    "### Other"
   ]
  },
  {
   "cell_type": "code",
   "execution_count": 11,
   "metadata": {},
   "outputs": [
    {
     "name": "stdout",
     "output_type": "stream",
     "text": [
      "Train score: 0.9707992200442952\n",
      "Test score: 0.9833797406488702\n",
      "Number of coefficients used: 12\n",
      "Root mean squared error: 4.8063487318190825\n",
      "[-3.99867575e-04  3.24942393e-02  1.24831684e-02  0.00000000e+00\n",
      " -3.78034705e-02  2.04921063e-07 -0.00000000e+00  2.03161212e-03\n",
      "  0.00000000e+00  0.00000000e+00  1.82445574e-01  1.50564818e-01\n",
      "  0.00000000e+00 -1.29433249e+00  6.02811586e-03  0.00000000e+00\n",
      " -3.57072794e-02 -6.25351146e-03 -0.00000000e+00  0.00000000e+00]\n"
     ]
    },
    {
     "data": {
      "text/plain": [
       "Lateral Length    -3.998676e-04\n",
       "Stages             3.249424e-02\n",
       "Township           1.248317e-02\n",
       "Range              0.000000e+00\n",
       "Section           -3.780347e-02\n",
       "Total Prop, lbs    2.049211e-07\n",
       "Fluid, bbls       -0.000000e+00\n",
       "Best1 Mo BOPD      2.031612e-03\n",
       "Best3 Mo BOPD      0.000000e+00\n",
       "Best6 Mo BOPD      0.000000e+00\n",
       "Best9 Mo BOPD      1.824456e-01\n",
       "Best12 Mo BOPD     1.505648e-01\n",
       "Latitude           0.000000e+00\n",
       "Longitude         -1.294332e+00\n",
       "SPACING_CAPPED     6.028116e-03\n",
       "Sleeves            0.000000e+00\n",
       "P&P               -3.570728e-02\n",
       "Frac Ports        -6.253511e-03\n",
       "Repeater Ports    -0.000000e+00\n",
       "CT                 0.000000e+00\n",
       "dtype: float64"
      ]
     },
     "execution_count": 11,
     "metadata": {},
     "output_type": "execute_result"
    },
    {
     "data": {
      "image/png": "[encoded data removed]",
      "text/plain": [
       "<Figure size 576x396 with 1 Axes>"
      ]
     },
     "metadata": {},
     "output_type": "display_data"
    }
   ],
   "source": [
    "X = DatasetIIother.copy().select_dtypes([np.number]).drop([\"12 month Cum Prod\", \"Year Drilled\", \"Unnamed: 0\"], axis = 1)\n",
    "scaler = StandardScaler()\n",
    "sX = scaler.fit_transform(X)\n",
    "y = DatasetIIother[\"12 month Cum Prod\"]\n",
    "sy = scaler.fit_transform(y.values.reshape((-1,1)))\n",
    "alphas = 10**np.linspace(10,-2, 100)*0.05\n",
    "coefs = []\n",
    "X_train, X_test, y_train, y_test = train_test_split(X, y, test_size = .4, random_state = 1)\n",
    "Lasso = linear_model.Lasso(max_iter = 300000, tol = 0.0001, normalize = True)\n",
    "for a in alphas:\n",
    "    Lasso.set_params(alpha = a)\n",
    "    Lasso.fit(X_train, y_train)\n",
    "    coefs.append(Lasso.coef_)\n",
    "ax = plt.gca()\n",
    "ax.plot(alphas*2, coefs)\n",
    "ax.set_xscale(\"log\")\n",
    "plt.axis('tight')\n",
    "plt.xlabel('alpha')\n",
    "plt.ylabel('weights')\n",
    "    \n",
    "Lassocv = LassoCV(alphas = None, cv = 20, max_iter = 300000, normalize = True)\n",
    "Lassocv.fit(X_train, y_train)\n",
    "\n",
    "Lasso.set_params(alpha = Lassocv.alpha_)\n",
    "Lasso.fit(X_train, y_train)\n",
    "\n",
    "y_pred = Lasso.predict(X_test)\n",
    "rmse = sqrt(metrics.mean_squared_error(y_test, y_pred))\n",
    "\n",
    "print(\"Train score:\", Lasso.score(X_train, y_train))\n",
    "print(\"Test score:\", Lasso.score(X_test, y_test))\n",
    "print(\"Number of coefficients used:\", np.sum(Lasso.coef_!=0))\n",
    "print(\"Root mean squared error:\", rmse)\n",
    "print(Lasso.coef_)\n",
    "pd.Series(Lasso.coef_, index = X.columns)"
   ]
  },
  {
   "cell_type": "markdown",
   "metadata": {},
   "source": [
    "#### Analysis"
   ]
  },
  {
   "cell_type": "code",
   "execution_count": 44,
   "metadata": {},
   "outputs": [
    {
     "name": "stdout",
     "output_type": "stream",
     "text": [
      "Average baseline error:  151.79\n"
     ]
    }
   ],
   "source": [
    "features = DatasetIIandCI.copy()\n",
    "features = pd.get_dummies(features)\n",
    "labels = np.array(features[\"12 month Cum Prod\"])\n",
    "features = features.drop(columns = [\"12 month Cum Prod\"])\n",
    "feature_list = list(features.columns)\n",
    "features = np.array(features)\n",
    "train_features, test_features, train_labels, test_labels = train_test_split(features, labels, test_size = 0.25, random_state = 23)\n",
    "baseline_preds = test_features[:, feature_list.index(\"Best12 Mo BOPD\")]\n",
    "baseline_errors = abs(baseline_preds - test_labels)\n",
    "print(\"Average baseline error: \", round(np.mean(baseline_errors), 2))\n",
    "\n"
   ]
  },
  {
   "cell_type": "code",
   "execution_count": 45,
   "metadata": {},
   "outputs": [
    {
     "data": {
      "text/plain": [
       "RandomForestRegressor(bootstrap=True, ccp_alpha=0.0, criterion='mse',\n",
       "                      max_depth=None, max_features='auto', max_leaf_nodes=None,\n",
       "                      max_samples=None, min_impurity_decrease=0.0,\n",
       "                      min_impurity_split=None, min_samples_leaf=1,\n",
       "                      min_samples_split=2, min_weight_fraction_leaf=0.0,\n",
       "                      n_estimators=1000, n_jobs=None, oob_score=False,\n",
       "                      random_state=23, verbose=0, warm_start=False)"
      ]
     },
     "execution_count": 45,
     "metadata": {},
     "output_type": "execute_result"
    }
   ],
   "source": [
    "from sklearn.ensemble import RandomForestRegressor\n",
    "rf = RandomForestRegressor(n_estimators=1000, random_state = 23)\n",
    "rf.fit(train_features, train_labels)"
   ]
  },
  {
   "cell_type": "code",
   "execution_count": 46,
   "metadata": {},
   "outputs": [
    {
     "name": "stdout",
     "output_type": "stream",
     "text": [
      "Mean Absolute Error: 5.07 degrees.\n"
     ]
    }
   ],
   "source": [
    "predictions = rf.predict(test_features)\n",
    "errors = abs(predictions - test_labels)\n",
    "print(\"Mean Absolute Error:\", round(np.mean(errors), 2), 'degrees.')"
   ]
  },
  {
   "cell_type": "code",
   "execution_count": 47,
   "metadata": {},
   "outputs": [
    {
     "name": "stdout",
     "output_type": "stream",
     "text": [
      "Accuracy: 93.51 %.\n"
     ]
    }
   ],
   "source": [
    "mape = 100 * (errors / test_labels)\n",
    "accuracy = 100 - np.mean(mape)\n",
    "print(\"Accuracy:\", round(accuracy, 2), \"%.\")"
   ]
  },
  {
   "cell_type": "code",
   "execution_count": 50,
   "metadata": {},
   "outputs": [],
   "source": [
    "from sklearn.tree import export_graphviz\n",
    "import pydot\n",
    "tree = rf.estimators_[5]\n",
    "export_graphviz(tree, out_file = \"tree.dot\",\n",
    "               feature_names = feature_list, rounded = True,\n",
    "               precision = 1)\n",
    "(graph, ) = pydot.graph_from_dot_file('tree.dot')\n",
    "graph.write_png('tree.png')"
   ]
  },
  {
   "cell_type": "code",
   "execution_count": 51,
   "metadata": {},
   "outputs": [],
   "source": [
    "rf_small = RandomForestRegressor(n_estimators = 10,\n",
    "                                max_depth = 3)\n",
    "rf_small.fit(train_features, train_labels)\n",
    "tree_small = rf_small.estimators_[5]\n",
    "export_graphviz(tree_small, out_file = 'small_tree.dot',\n",
    "               feature_names = feature_list,\n",
    "               rounded = True, precision = 1)\n",
    "(graph, ) = pydot.graph_from_dot_file('small_tree.dot')\n",
    "graph.write_png('small_tree.png')"
   ]
  },
  {
   "cell_type": "code",
   "execution_count": 52,
   "metadata": {},
   "outputs": [
    {
     "name": "stdout",
     "output_type": "stream",
     "text": [
      "Variable: Best12 Mo BOPD       Importance: 0.86\n",
      "Variable: Best9 Mo BOPD        Importance: 0.05\n",
      "Variable: Year Drilled         Importance: 0.05\n",
      "Variable: Best6 Mo BOPD        Importance: 0.01\n",
      "Variable: Unnamed: 0           Importance: 0.0\n",
      "Variable: Lateral Length       Importance: 0.0\n",
      "Variable: Stages               Importance: 0.0\n",
      "Variable: Township             Importance: 0.0\n",
      "Variable: Range                Importance: 0.0\n",
      "Variable: Section              Importance: 0.0\n",
      "Variable: Total Prop, lbs      Importance: 0.0\n",
      "Variable: Fluid, bbls          Importance: 0.0\n",
      "Variable: Best1 Mo BOPD        Importance: 0.0\n",
      "Variable: Best3 Mo BOPD        Importance: 0.0\n",
      "Variable: Latitude             Importance: 0.0\n",
      "Variable: Longitude            Importance: 0.0\n",
      "Variable: SPACING_CAPPED       Importance: 0.0\n",
      "Variable: Operator_Operator 1  Importance: 0.0\n",
      "Variable: Operator_Operator 10 Importance: 0.0\n",
      "Variable: Operator_Operator 11 Importance: 0.0\n",
      "Variable: Operator_Operator 12 Importance: 0.0\n",
      "Variable: Operator_Operator 13 Importance: 0.0\n",
      "Variable: Operator_Operator 14 Importance: 0.0\n",
      "Variable: Operator_Operator 15 Importance: 0.0\n",
      "Variable: Operator_Operator 16 Importance: 0.0\n",
      "Variable: Operator_Operator 17 Importance: 0.0\n",
      "Variable: Operator_Operator 18 Importance: 0.0\n",
      "Variable: Operator_Operator 19 Importance: 0.0\n",
      "Variable: Operator_Operator 2  Importance: 0.0\n",
      "Variable: Operator_Operator 20 Importance: 0.0\n",
      "Variable: Operator_Operator 21 Importance: 0.0\n",
      "Variable: Operator_Operator 22 Importance: 0.0\n",
      "Variable: Operator_Operator 23 Importance: 0.0\n",
      "Variable: Operator_Operator 24 Importance: 0.0\n",
      "Variable: Operator_Operator 25 Importance: 0.0\n",
      "Variable: Operator_Operator 26 Importance: 0.0\n",
      "Variable: Operator_Operator 27 Importance: 0.0\n",
      "Variable: Operator_Operator 28 Importance: 0.0\n",
      "Variable: Operator_Operator 29 Importance: 0.0\n",
      "Variable: Operator_Operator 3  Importance: 0.0\n",
      "Variable: Operator_Operator 30 Importance: 0.0\n",
      "Variable: Operator_Operator 31 Importance: 0.0\n",
      "Variable: Operator_Operator 32 Importance: 0.0\n",
      "Variable: Operator_Operator 33 Importance: 0.0\n",
      "Variable: Operator_Operator 34 Importance: 0.0\n",
      "Variable: Operator_Operator 35 Importance: 0.0\n",
      "Variable: Operator_Operator 36 Importance: 0.0\n",
      "Variable: Operator_Operator 37 Importance: 0.0\n",
      "Variable: Operator_Operator 38 Importance: 0.0\n",
      "Variable: Operator_Operator 39 Importance: 0.0\n",
      "Variable: Operator_Operator 4  Importance: 0.0\n",
      "Variable: Operator_Operator 40 Importance: 0.0\n",
      "Variable: Operator_Operator 41 Importance: 0.0\n",
      "Variable: Operator_Operator 42 Importance: 0.0\n",
      "Variable: Operator_Operator 43 Importance: 0.0\n",
      "Variable: Operator_Operator 44 Importance: 0.0\n",
      "Variable: Operator_Operator 45 Importance: 0.0\n",
      "Variable: Operator_Operator 46 Importance: 0.0\n",
      "Variable: Operator_Operator 47 Importance: 0.0\n",
      "Variable: Operator_Operator 48 Importance: 0.0\n",
      "Variable: Operator_Operator 49 Importance: 0.0\n",
      "Variable: Operator_Operator 5  Importance: 0.0\n",
      "Variable: Operator_Operator 50 Importance: 0.0\n",
      "Variable: Operator_Operator 51 Importance: 0.0\n",
      "Variable: Operator_Operator 52 Importance: 0.0\n",
      "Variable: Operator_Operator 53 Importance: 0.0\n",
      "Variable: Operator_Operator 54 Importance: 0.0\n",
      "Variable: Operator_Operator 55 Importance: 0.0\n",
      "Variable: Operator_Operator 56 Importance: 0.0\n",
      "Variable: Operator_Operator 6  Importance: 0.0\n",
      "Variable: Operator_Operator 7  Importance: 0.0\n",
      "Variable: Operator_Operator 8  Importance: 0.0\n",
      "Variable: Operator_Operator 9  Importance: 0.0\n",
      "Variable: Formation_MBH        Importance: 0.0\n",
      "Variable: Formation_MBH/TFH    Importance: 0.0\n",
      "Variable: Formation_MTFH       Importance: 0.0\n",
      "Variable: Formation_TF1        Importance: 0.0\n",
      "Variable: Formation_TF2        Importance: 0.0\n",
      "Variable: Formation_TF2.5      Importance: 0.0\n",
      "Variable: Formation_TF3        Importance: 0.0\n",
      "Variable: Formation_TF4        Importance: 0.0\n",
      "Variable: Formation_TFH        Importance: 0.0\n",
      "Variable: Formation_TFSH       Importance: 0.0\n",
      "Variable: Formation_UTFH       Importance: 0.0\n",
      "Variable: Fluid Type from DI_CROSSLINKED Importance: 0.0\n",
      "Variable: Fluid Type from DI_CROSSLINKED (HC) Importance: 0.0\n",
      "Variable: Fluid Type from DI_LINEAR GEL Importance: 0.0\n",
      "Variable: Fluid Type from DI_LINEAR GEL (HC) Importance: 0.0\n",
      "Variable: Fluid Type from DI_SLICKWATER (HC) Importance: 0.0\n",
      "Variable: Fluid Type from DI_SW-GEL HYBRID Importance: 0.0\n",
      "Variable: Fluid Type from DI_SW-XL HYBRID Importance: 0.0\n",
      "Variable: Fluid Type from DI_UNKNOWN Importance: 0.0\n",
      "Variable: Completion Type_CT   Importance: 0.0\n",
      "Variable: Completion Type_Cemented Liner Importance: 0.0\n",
      "Variable: Completion Type_Frac Ports Importance: 0.0\n",
      "Variable: Completion Type_Frac Ports and P & P Importance: 0.0\n",
      "Variable: Completion Type_Frac Ports and Repeater Ports Importance: 0.0\n",
      "Variable: Completion Type_OH   Importance: 0.0\n",
      "Variable: Completion Type_P & P Importance: 0.0\n",
      "Variable: Completion Type_P & P and CT Importance: 0.0\n",
      "Variable: Completion Type_Perforated Liner Importance: 0.0\n",
      "Variable: Completion Type_Repeater Ports and P & P Importance: 0.0\n",
      "Variable: Completion Type_Screen Importance: 0.0\n",
      "Variable: Completion Type_Sleeves Importance: 0.0\n",
      "Variable: Completion Type_Sleeves and P & P Importance: 0.0\n"
     ]
    },
    {
     "data": {
      "text/plain": [
       "[None,\n",
       " None,\n",
       " None,\n",
       " None,\n",
       " None,\n",
       " None,\n",
       " None,\n",
       " None,\n",
       " None,\n",
       " None,\n",
       " None,\n",
       " None,\n",
       " None,\n",
       " None,\n",
       " None,\n",
       " None,\n",
       " None,\n",
       " None,\n",
       " None,\n",
       " None,\n",
       " None,\n",
       " None,\n",
       " None,\n",
       " None,\n",
       " None,\n",
       " None,\n",
       " None,\n",
       " None,\n",
       " None,\n",
       " None,\n",
       " None,\n",
       " None,\n",
       " None,\n",
       " None,\n",
       " None,\n",
       " None,\n",
       " None,\n",
       " None,\n",
       " None,\n",
       " None,\n",
       " None,\n",
       " None,\n",
       " None,\n",
       " None,\n",
       " None,\n",
       " None,\n",
       " None,\n",
       " None,\n",
       " None,\n",
       " None,\n",
       " None,\n",
       " None,\n",
       " None,\n",
       " None,\n",
       " None,\n",
       " None,\n",
       " None,\n",
       " None,\n",
       " None,\n",
       " None,\n",
       " None,\n",
       " None,\n",
       " None,\n",
       " None,\n",
       " None,\n",
       " None,\n",
       " None,\n",
       " None,\n",
       " None,\n",
       " None,\n",
       " None,\n",
       " None,\n",
       " None,\n",
       " None,\n",
       " None,\n",
       " None,\n",
       " None,\n",
       " None,\n",
       " None,\n",
       " None,\n",
       " None,\n",
       " None,\n",
       " None,\n",
       " None,\n",
       " None,\n",
       " None,\n",
       " None,\n",
       " None,\n",
       " None,\n",
       " None,\n",
       " None,\n",
       " None,\n",
       " None,\n",
       " None,\n",
       " None,\n",
       " None,\n",
       " None,\n",
       " None,\n",
       " None,\n",
       " None,\n",
       " None,\n",
       " None,\n",
       " None,\n",
       " None,\n",
       " None]"
      ]
     },
     "execution_count": 52,
     "metadata": {},
     "output_type": "execute_result"
    }
   ],
   "source": [
    "importances = list(rf.feature_importances_)\n",
    "\n",
    "feature_importances = [(feature, round(importance, 2)) for feature, importance in zip(feature_list, importances)]\n",
    "feature_importances = sorted(feature_importances, key = lambda x: x[1], reverse = True)\n",
    "[print('Variable: {:20} Importance: {}'.format(*pair)) for pair in feature_importances]"
   ]
  }
 ],
 "metadata": {
  "kernelspec": {
   "display_name": "Python 3",
   "language": "python",
   "name": "python3"
  },
  "language_info": {
   "codemirror_mode": {
    "name": "ipython",
    "version": 3
   },
   "file_extension": ".py",
   "mimetype": "text/x-python",
   "name": "python",
   "nbconvert_exporter": "python",
   "pygments_lexer": "ipython3",
   "version": "3.7.1"
  }
 },
 "nbformat": 4,
 "nbformat_minor": 4
}
