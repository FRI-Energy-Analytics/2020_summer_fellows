{
 "cells": [
  {
   "cell_type": "code",
   "execution_count": 1,
   "metadata": {},
   "outputs": [],
   "source": [
    "import pandas as pd\n",
    "import datetime\n",
    "import numpy as np\n",
    "import matplotlib.pyplot as plt\n",
    "import seaborn as sns\n",
    "import scipy as stats\n",
    "import pandas.plotting as pd_plot\n",
    "\n",
    "import missingno as msno\n",
    "import pandas_profiling\n",
    "\n",
    "import re\n",
    "\n",
    "import statsmodels.imputation.mice\n",
    "\n",
    "from sklearn.impute import KNNImputer\n",
    "from sklearn import preprocessing\n",
    "from sklearn.model_selection import train_test_split\n",
    "from sklearn import linear_model\n",
    "from sklearn import svm\n",
    "from sklearn import metrics\n",
    "from sklearn.preprocessing  import StandardScaler \n",
    "from sklearn.model_selection import cross_val_score\n",
    "from sklearn.model_selection import GridSearchCV\n",
    "from sklearn.linear_model import Ridge, RidgeCV\n",
    "from sklearn.preprocessing import scale\n",
    "from sklearn.linear_model import LassoCV\n",
    "import random"
   ]
  },
  {
   "cell_type": "markdown",
   "metadata": {},
   "source": [
    "# Feature Selection/Dimension Reduction"
   ]
  },
  {
   "cell_type": "code",
   "execution_count": null,
   "metadata": {},
   "outputs": [],
   "source": [
    "OriginalDatasetwTypes = pd.read_csv(\"CleanedDataset.csv\")\n",
    "OriginalDataset = OriginalDatasetwTypes.copy().drop([\"Unnamed: 0\", \"Sleeves\", \"P&P\", \"Frac Ports\", \\\n",
    "                                      \"Repeater Ports\", \"CT\"], axis = 1)\n",
    "DatasetDropna = pd.read_csv(\"NoNanDataset.csv\")\n",
    "DatasetMean = pd.read_csv(\"MeanImputationDS.csv\")\n",
    "DatasetII = pd.read_csv(\"IterativeImputeDS.csv\")\n",
    "imputer = KNNImputer(n_neighbors=10)\n",
    "DatasetKNN = imputer.fit_transform(OriginalDataset.copy().select_dtypes([np.number]))\n",
    "DatasetKNN = pd.DataFrame(DatasetKNN, columns = OriginalDataset.copy().select_dtypes([np.number]).columns)\n",
    "from impyute.imputation import cs\n",
    "np.random.seed(9)\n",
    "data = OriginalDataset.copy().select_dtypes([np.number]).to_numpy()\n",
    "DatasetMICE = cs.mice(data)\n",
    "DatasetMICE = pd.DataFrame(DatasetMICE, columns = OriginalDataset.copy().select_dtypes([np.number]).columns)\n",
    "DatasetIIandCI = pd.read_csv(\"DatasetIIandCI.csv\")"
   ]
  },
  {
   "cell_type": "markdown",
   "metadata": {},
   "source": [
    "## LASSO Regression"
   ]
  },
  {
   "cell_type": "markdown",
   "metadata": {},
   "source": [
    "### Dataset with Dropped Data"
   ]
  },
  {
   "cell_type": "code",
   "execution_count": null,
   "metadata": {},
   "outputs": [],
   "source": [
    "from math import sqrt\n",
    "X = DatasetDropna.copy().select_dtypes([np.number]).drop([\"12 month Cum Prod\", \"Year Drilled\"], axis = 1)\n",
    "scaler = StandardScaler()\n",
    "sX = scaler.fit_transform(X)\n",
    "y = DatasetDropna[\"12 month Cum Prod\"]\n",
    "sy = scaler.fit_transform(y.values.reshape((-1,1)))\n",
    "alphas = 10**np.linspace(10,-2, 100)*0.05\n",
    "coefs = []\n",
    "X_train, X_test, y_train, y_test = train_test_split(X, y, test_size = .4, random_state = 1)\n",
    "Lasso = linear_model.Lasso(max_iter = 300000, tol = 0.0001, normalize = True)\n",
    "for a in alphas:\n",
    "    Lasso.set_params(alpha = a)\n",
    "    Lasso.fit(X_train, y_train)\n",
    "    coefs.append(Lasso.coef_)\n",
    "ax = plt.gca()\n",
    "ax.plot(alphas*2, coefs)\n",
    "ax.set_xscale(\"log\")\n",
    "plt.axis('tight')\n",
    "plt.xlabel('alpha')\n",
    "plt.ylabel('weights')\n",
    "    \n",
    "Lassocv = LassoCV(alphas = None, cv = 20, max_iter = 300000, normalize = True)\n",
    "Lassocv.fit(X_train, y_train)\n",
    "\n",
    "Lasso.set_params(alpha = Lassocv.alpha_)\n",
    "Lasso.fit(X_train, y_train)\n",
    "\n",
    "y_pred = Lasso.predict(X_test)\n",
    "rmse = sqrt(metrics.mean_squared_error(y_test, y_pred))\n",
    "\n",
    "print(\"Train score:\", Lasso.score(X_train, y_train))\n",
    "print(\"Test score:\", Lasso.score(X_test, y_test))\n",
    "print(\"Number of coefficients used:\", np.sum(Lasso.coef_!=0))\n",
    "print(\"Root mean squared error:\", rmse)\n",
    "print(Lasso.coef_)\n",
    "pd.Series(Lasso.coef_, index = X.columns)"
   ]
  },
  {
   "cell_type": "markdown",
   "metadata": {},
   "source": [
    "#### Analysis"
   ]
  },
  {
   "cell_type": "markdown",
   "metadata": {},
   "source": [
    "### Mean Imputation Dataset"
   ]
  },
  {
   "cell_type": "code",
   "execution_count": null,
   "metadata": {},
   "outputs": [],
   "source": [
    "X = DatasetMean.copy().select_dtypes([np.number]).drop([\"12 month Cum Prod\", \"Year Drilled\"], axis = 1)\n",
    "scaler = StandardScaler()\n",
    "sX = scaler.fit_transform(X)\n",
    "y = DatasetMean[\"12 month Cum Prod\"]\n",
    "sy = scaler.fit_transform(y.values.reshape((-1,1)))\n",
    "alphas = 10**np.linspace(10,-2, 100)*0.05\n",
    "coefs = []\n",
    "X_train, X_test, y_train, y_test = train_test_split(X, y, test_size = .4, random_state = 1)\n",
    "Lasso = linear_model.Lasso(max_iter = 300000, tol = 0.0001, normalize = True)\n",
    "for a in alphas:\n",
    "    Lasso.set_params(alpha = a)\n",
    "    Lasso.fit(X_train, y_train)\n",
    "    coefs.append(Lasso.coef_)\n",
    "ax = plt.gca()\n",
    "ax.plot(alphas*2, coefs)\n",
    "ax.set_xscale(\"log\")\n",
    "plt.axis('tight')\n",
    "plt.xlabel('alpha')\n",
    "plt.ylabel('weights')\n",
    "    \n",
    "Lassocv = LassoCV(alphas = None, cv = 20, max_iter = 300000, normalize = True)\n",
    "Lassocv.fit(X_train, y_train)\n",
    "\n",
    "Lasso.set_params(alpha = Lassocv.alpha_)\n",
    "Lasso.fit(X_train, y_train)\n",
    "\n",
    "y_pred = Lasso.predict(X_test)\n",
    "rmse = sqrt(metrics.mean_squared_error(y_test, y_pred))\n",
    "\n",
    "print(\"Train score:\", Lasso.score(X_train, y_train))\n",
    "print(\"Test score:\", Lasso.score(X_test, y_test))\n",
    "print(\"Number of coefficients used:\", np.sum(Lasso.coef_!=0))\n",
    "print(\"Root mean squared error:\", rmse)\n",
    "print(Lasso.coef_)\n",
    "pd.Series(Lasso.coef_, index = X.columns)"
   ]
  },
  {
   "cell_type": "markdown",
   "metadata": {},
   "source": [
    "#### Analysis"
   ]
  },
  {
   "cell_type": "markdown",
   "metadata": {},
   "source": [
    "### Iterative Imputatoin Dataset"
   ]
  },
  {
   "cell_type": "code",
   "execution_count": null,
   "metadata": {},
   "outputs": [],
   "source": [
    "X = DatasetII.copy().select_dtypes([np.number]).drop([\"12 month Cum Prod\", \"Year Drilled\"], axis = 1)\n",
    "scaler = StandardScaler()\n",
    "sX = scaler.fit_transform(X)\n",
    "y = DatasetII[\"12 month Cum Prod\"]\n",
    "sy = scaler.fit_transform(y.values.reshape((-1,1)))\n",
    "alphas = 10**np.linspace(10,-2, 100)*0.05\n",
    "coefs = []\n",
    "X_train, X_test, y_train, y_test = train_test_split(X, y, test_size = .4, random_state = 1)\n",
    "Lasso = linear_model.Lasso(max_iter = 300000, tol = 0.0001, normalize = True)\n",
    "for a in alphas:\n",
    "    Lasso.set_params(alpha = a)\n",
    "    Lasso.fit(X_train, y_train)\n",
    "    coefs.append(Lasso.coef_)\n",
    "ax = plt.gca()\n",
    "ax.plot(alphas*2, coefs)\n",
    "ax.set_xscale(\"log\")\n",
    "plt.axis('tight')\n",
    "plt.xlabel('alpha')\n",
    "plt.ylabel('weights')\n",
    "    \n",
    "Lassocv = LassoCV(alphas = None, cv = 20, max_iter = 300000, normalize = True)\n",
    "Lassocv.fit(X_train, y_train)\n",
    "\n",
    "Lasso.set_params(alpha = Lassocv.alpha_)\n",
    "Lasso.fit(X_train, y_train)\n",
    "\n",
    "y_pred = Lasso.predict(X_test)\n",
    "rmse = sqrt(metrics.mean_squared_error(y_test, y_pred))\n",
    "\n",
    "print(\"Train score:\", Lasso.score(X_train, y_train))\n",
    "print(\"Test score:\", Lasso.score(X_test, y_test))\n",
    "print(\"Number of coefficients used:\", np.sum(Lasso.coef_!=0))\n",
    "print(\"Root mean squared error:\", rmse)\n",
    "print(Lasso.coef_)\n",
    "pd.Series(Lasso.coef_, index = X.columns)"
   ]
  },
  {
   "cell_type": "markdown",
   "metadata": {},
   "source": [
    "#### Analysis"
   ]
  },
  {
   "cell_type": "markdown",
   "metadata": {},
   "source": [
    "### K- NN Imputation Dataset"
   ]
  },
  {
   "cell_type": "code",
   "execution_count": null,
   "metadata": {},
   "outputs": [],
   "source": [
    "X = DatasetKNN.copy().select_dtypes([np.number]).drop([\"12 month Cum Prod\", \"Year Drilled\"], axis = 1)\n",
    "scaler = StandardScaler()\n",
    "sX = scaler.fit_transform(X)\n",
    "y = DatasetKNN[\"12 month Cum Prod\"]\n",
    "sy = scaler.fit_transform(y.values.reshape((-1,1)))\n",
    "alphas = 10**np.linspace(10,-2, 100)*0.05\n",
    "coefs = []\n",
    "X_train, X_test, y_train, y_test = train_test_split(X, y, test_size = .4, random_state = 1)\n",
    "Lasso = linear_model.Lasso(max_iter = 300000, tol = 0.0001, normalize = True)\n",
    "for a in alphas:\n",
    "    Lasso.set_params(alpha = a)\n",
    "    Lasso.fit(X_train, y_train)\n",
    "    coefs.append(Lasso.coef_)\n",
    "ax = plt.gca()\n",
    "ax.plot(alphas*2, coefs)\n",
    "ax.set_xscale(\"log\")\n",
    "plt.axis('tight')\n",
    "plt.xlabel('alpha')\n",
    "plt.ylabel('weights')\n",
    "    \n",
    "Lassocv = LassoCV(alphas = None, cv = 20, max_iter = 300000, normalize = True)\n",
    "Lassocv.fit(X_train, y_train)\n",
    "\n",
    "Lasso.set_params(alpha = Lassocv.alpha_)\n",
    "Lasso.fit(X_train, y_train)\n",
    "\n",
    "y_pred = Lasso.predict(X_test)\n",
    "rmse = sqrt(metrics.mean_squared_error(y_test, y_pred))\n",
    "\n",
    "print(\"Train score:\", Lasso.score(X_train, y_train))\n",
    "print(\"Test score:\", Lasso.score(X_test, y_test))\n",
    "print(\"Number of coefficients used:\", np.sum(Lasso.coef_!=0))\n",
    "print(\"Root mean squared error:\", rmse)\n",
    "print(Lasso.coef_)\n",
    "pd.Series(Lasso.coef_, index = X.columns)"
   ]
  },
  {
   "cell_type": "markdown",
   "metadata": {},
   "source": [
    "#### Analysis"
   ]
  },
  {
   "cell_type": "markdown",
   "metadata": {},
   "source": [
    "### MICE Imputation Dataset"
   ]
  },
  {
   "cell_type": "code",
   "execution_count": null,
   "metadata": {},
   "outputs": [],
   "source": [
    "X = DatasetMICE.copy().select_dtypes([np.number]).drop([\"12 month Cum Prod\", \"Year Drilled\"], axis = 1)\n",
    "scaler = StandardScaler()\n",
    "sX = scaler.fit_transform(X)\n",
    "y = DatasetMICE[\"12 month Cum Prod\"]\n",
    "sy = scaler.fit_transform(y.values.reshape((-1,1)))\n",
    "alphas = 10**np.linspace(10,-2, 100)*0.05\n",
    "coefs = []\n",
    "X_train, X_test, y_train, y_test = train_test_split(X, y, test_size = .4, random_state = 1)\n",
    "Lasso = linear_model.Lasso(max_iter = 300000, tol = 0.0001, normalize = True)\n",
    "for a in alphas:\n",
    "    Lasso.set_params(alpha = a)\n",
    "    Lasso.fit(X_train, y_train)\n",
    "    coefs.append(Lasso.coef_)\n",
    "ax = plt.gca()\n",
    "ax.plot(alphas*2, coefs)\n",
    "ax.set_xscale(\"log\")\n",
    "plt.axis('tight')\n",
    "plt.xlabel('alpha')\n",
    "plt.ylabel('weights')\n",
    "    \n",
    "Lassocv = LassoCV(alphas = None, cv = 20, max_iter = 300000, normalize = True)\n",
    "Lassocv.fit(X_train, y_train)\n",
    "\n",
    "Lasso.set_params(alpha = Lassocv.alpha_)\n",
    "Lasso.fit(X_train, y_train)\n",
    "\n",
    "y_pred = Lasso.predict(X_test)\n",
    "rmse = sqrt(metrics.mean_squared_error(y_test, y_pred))\n",
    "\n",
    "print(\"Train score:\", Lasso.score(X_train, y_train))\n",
    "print(\"Test score:\", Lasso.score(X_test, y_test))\n",
    "print(\"Number of coefficients used:\", np.sum(Lasso.coef_!=0))\n",
    "print(\"Root mean squared error:\", rmse)\n",
    "print(Lasso.coef_)\n",
    "pd.Series(Lasso.coef_, index = X.columns)"
   ]
  },
  {
   "cell_type": "markdown",
   "metadata": {},
   "source": [
    "#### Analysis"
   ]
  },
  {
   "cell_type": "markdown",
   "metadata": {},
   "source": [
    "### Seperating by Completion Type"
   ]
  },
  {
   "cell_type": "code",
   "execution_count": null,
   "metadata": {},
   "outputs": [],
   "source": [
    "\n",
    "Category = \"Completion Type\"\n",
    "DatasetII[Category] = OriginalDatasetwTypes[Category]\n",
    "DatasetII[\"Sleeves\"] = OriginalDatasetwTypes[\"Sleeves\"]\n",
    "DatasetII[\"P&P\"] = OriginalDatasetwTypes[\"P&P\"]\n",
    "DatasetII[\"Frac Ports\"] = OriginalDatasetwTypes[\"Frac Ports\"]\n",
    "DatasetII[\"Repeater Ports\"] = OriginalDatasetwTypes[\"Repeater Ports\"]\n",
    "DatasetII[\"CT\"] = OriginalDatasetwTypes[\"CT\"]\n",
    "DatasetII = DatasetII.dropna(axis=0, subset=['Completion Type'])\n",
    "\n",
    "DatasetIISleeves = pd.concat([\\\n",
    "                               DatasetII[DatasetII[Category] == \\\n",
    "                                          \"Sleeves\"], \\\n",
    "                               DatasetII[DatasetII[Category] == \\\n",
    "                                           \"Sleeves and P & P\"]])\n",
    "DatasetIISleeves = DatasetIISleeves.fillna(0)\n",
    "\n",
    "DatasetIIPandP = pd.concat([\\\n",
    "                            DatasetII[DatasetII[Category] == \\\n",
    "                                      \"P & P\"], \\\n",
    "                            DatasetII[DatasetII[Category] == \\\n",
    "                                      \"Sleeves and P & P\"], \\\n",
    "                            DatasetII[DatasetII[Category] == \\\n",
    "                                      \"Frac Ports and P & P\"], \\\n",
    "                            DatasetII[DatasetII[Category] == \\\n",
    "                                       \"P & P and CT\"], \\\n",
    "                            DatasetII[DatasetII[Category] == \\\n",
    "                                      \"Repeater Ports and P & P\"]])\n",
    "DatasetIIPandP = DatasetIIPandP.fillna(0)\n",
    "\n",
    "DatasetIIFracPorts = pd.concat([\\\n",
    "                                DatasetII[DatasetII[Category] == \\\n",
    "                                         \"Frac Ports\"], \\\n",
    "                                DatasetII[DatasetII[Category] == \\\n",
    "                                         \"Frac Ports and P & P\"], \\\n",
    "                                DatasetII[DatasetII[Category] == \\\n",
    "                                         \"Frac Ports and Repeater Ports\"]])\n",
    "DatasetIIFracPorts = DatasetIIFracPorts.fillna(0)\n",
    "\n",
    "DatasetIIRepeaterPorts = pd.concat([\\\n",
    "                                    DatasetII[DatasetII[Category] == \\\n",
    "                                        \"Frac Ports and Repeater Ports\"],\n",
    "                                    DatasetII[DatasetII[Category] == \\\n",
    "                                              \"Repeater Ports and P & P\"]])\n",
    "DatasetIIRepeaterPorts = DatasetIIRepeaterPorts.fillna(0)\n",
    "\n",
    "DatasetIICT = pd.concat([\\\n",
    "                         DatasetII[DatasetII[Category] == \\\n",
    "                                   \"CT\"], \\\n",
    "                         DatasetII[DatasetII[Category] == \\\n",
    "                                   \"P & P and CT\"]])\n",
    "DatasetIICT = DatasetIICT.fillna(0)\n",
    "DatasetIIOH = DatasetII[DatasetII[Category] == \"OH\"]\n",
    "DatasetIIOH = DatasetIIOH.fillna(0)\n",
    "\n",
    "DatasetIIScreen = DatasetII[DatasetII[Category] == \"Screen\"]\n",
    "DatasetIIScreen = DatasetIIScreen.fillna(0)\n",
    "\n",
    "DatasetIICementedL = DatasetII[DatasetII[Category] == \"Cemented Liner\"]\n",
    "DatasetIICementedL = DatasetIICementedL.fillna(0)\n",
    "\n",
    "DatasetIIPerforatedL = DatasetII[DatasetII[Category] == \\\n",
    "                                   \"Perforated Liner\"]\n",
    "DatasetIIPerforatedL = DatasetIIPerforatedL.fillna(0)\n",
    "\n",
    "DatasetIIother = pd.concat([DatasetIIOH, DatasetIIScreen, \\\n",
    "                           DatasetIICementedL, DatasetIIPerforatedL, DatasetIIFracPorts, DatasetIIRepeaterPorts])\n"
   ]
  },
  {
   "cell_type": "markdown",
   "metadata": {},
   "source": [
    "### Sleeves"
   ]
  },
  {
   "cell_type": "code",
   "execution_count": null,
   "metadata": {},
   "outputs": [],
   "source": [
    "X = DatasetIISleeves.copy().select_dtypes([np.number]).drop([\"12 month Cum Prod\", \"Year Drilled\", \"Unnamed: 0\"], axis = 1)\n",
    "scaler = StandardScaler()\n",
    "sX = scaler.fit_transform(X)\n",
    "y = DatasetIISleeves[\"12 month Cum Prod\"]\n",
    "sy = scaler.fit_transform(y.values.reshape((-1,1)))\n",
    "alphas = 10**np.linspace(10,-2, 100)*0.05\n",
    "coefs = []\n",
    "X_train, X_test, y_train, y_test = train_test_split(X, y, test_size = .4, random_state = 1)\n",
    "Lasso = linear_model.Lasso(max_iter = 300000, tol = 0.0001, normalize = True)\n",
    "for a in alphas:\n",
    "    Lasso.set_params(alpha = a)\n",
    "    Lasso.fit(X_train, y_train)\n",
    "    coefs.append(Lasso.coef_)\n",
    "ax = plt.gca()\n",
    "ax.plot(alphas*2, coefs)\n",
    "ax.set_xscale(\"log\")\n",
    "plt.axis('tight')\n",
    "plt.xlabel('alpha')\n",
    "plt.ylabel('weights')\n",
    "    \n",
    "Lassocv = LassoCV(alphas = None, cv = 20, max_iter = 300000, normalize = True)\n",
    "Lassocv.fit(X_train, y_train)\n",
    "\n",
    "Lasso.set_params(alpha = Lassocv.alpha_)\n",
    "Lasso.fit(X_train, y_train)\n",
    "\n",
    "y_pred = Lasso.predict(X_test)\n",
    "rmse = sqrt(metrics.mean_squared_error(y_test, y_pred))\n",
    "\n",
    "print(\"Train score:\", Lasso.score(X_train, y_train))\n",
    "print(\"Test score:\", Lasso.score(X_test, y_test))\n",
    "print(\"Number of coefficients used:\", np.sum(Lasso.coef_!=0))\n",
    "print(\"Root mean squared error:\", rmse)\n",
    "print(Lasso.coef_)\n",
    "pd.Series(Lasso.coef_, index = X.columns)"
   ]
  },
  {
   "cell_type": "markdown",
   "metadata": {},
   "source": [
    "#### Analysis"
   ]
  },
  {
   "cell_type": "markdown",
   "metadata": {},
   "source": [
    "### P & P"
   ]
  },
  {
   "cell_type": "code",
   "execution_count": null,
   "metadata": {},
   "outputs": [],
   "source": [
    "X = DatasetIIPandP.copy().select_dtypes([np.number]).drop([\"12 month Cum Prod\", \"Year Drilled\", \"Unnamed: 0\"], axis = 1)\n",
    "scaler = StandardScaler()\n",
    "sX = scaler.fit_transform(X)\n",
    "y = DatasetIIPandP[\"12 month Cum Prod\"]\n",
    "sy = scaler.fit_transform(y.values.reshape((-1,1)))\n",
    "alphas = 10**np.linspace(10,-2, 100)*0.05\n",
    "coefs = []\n",
    "X_train, X_test, y_train, y_test = train_test_split(X, y, test_size = .4, random_state = 1)\n",
    "Lasso = linear_model.Lasso(max_iter = 300000, tol = 0.0001, normalize = True)\n",
    "for a in alphas:\n",
    "    Lasso.set_params(alpha = a)\n",
    "    Lasso.fit(X_train, y_train)\n",
    "    coefs.append(Lasso.coef_)\n",
    "ax = plt.gca()\n",
    "ax.plot(alphas*2, coefs)\n",
    "ax.set_xscale(\"log\")\n",
    "plt.axis('tight')\n",
    "plt.xlabel('alpha')\n",
    "plt.ylabel('weights')\n",
    "    \n",
    "Lassocv = LassoCV(alphas = None, cv = 20, max_iter = 300000, normalize = True)\n",
    "Lassocv.fit(X_train, y_train)\n",
    "\n",
    "Lasso.set_params(alpha = Lassocv.alpha_)\n",
    "Lasso.fit(X_train, y_train)\n",
    "\n",
    "y_pred = Lasso.predict(X_test)\n",
    "rmse = sqrt(metrics.mean_squared_error(y_test, y_pred))\n",
    "\n",
    "print(\"Train score:\", Lasso.score(X_train, y_train))\n",
    "print(\"Test score:\", Lasso.score(X_test, y_test))\n",
    "print(\"Number of coefficients used:\", np.sum(Lasso.coef_!=0))\n",
    "print(\"Root mean squared error:\", rmse)\n",
    "print(Lasso.coef_)\n",
    "pd.Series(Lasso.coef_, index = X.columns)"
   ]
  },
  {
   "cell_type": "markdown",
   "metadata": {},
   "source": [
    "#### Analysis"
   ]
  },
  {
   "cell_type": "markdown",
   "metadata": {},
   "source": [
    "### Other"
   ]
  },
  {
   "cell_type": "code",
   "execution_count": null,
   "metadata": {},
   "outputs": [],
   "source": [
    "X = DatasetIIother.copy().select_dtypes([np.number]).drop([\"12 month Cum Prod\", \"Year Drilled\", \"Unnamed: 0\"], axis = 1)\n",
    "scaler = StandardScaler()\n",
    "sX = scaler.fit_transform(X)\n",
    "y = DatasetIIother[\"12 month Cum Prod\"]\n",
    "sy = scaler.fit_transform(y.values.reshape((-1,1)))\n",
    "alphas = 10**np.linspace(10,-2, 100)*0.05\n",
    "coefs = []\n",
    "X_train, X_test, y_train, y_test = train_test_split(X, y, test_size = .4, random_state = 1)\n",
    "Lasso = linear_model.Lasso(max_iter = 300000, tol = 0.0001, normalize = True)\n",
    "for a in alphas:\n",
    "    Lasso.set_params(alpha = a)\n",
    "    Lasso.fit(X_train, y_train)\n",
    "    coefs.append(Lasso.coef_)\n",
    "ax = plt.gca()\n",
    "ax.plot(alphas*2, coefs)\n",
    "ax.set_xscale(\"log\")\n",
    "plt.axis('tight')\n",
    "plt.xlabel('alpha')\n",
    "plt.ylabel('weights')\n",
    "    \n",
    "Lassocv = LassoCV(alphas = None, cv = 20, max_iter = 300000, normalize = True)\n",
    "Lassocv.fit(X_train, y_train)\n",
    "\n",
    "Lasso.set_params(alpha = Lassocv.alpha_)\n",
    "Lasso.fit(X_train, y_train)\n",
    "\n",
    "y_pred = Lasso.predict(X_test)\n",
    "rmse = sqrt(metrics.mean_squared_error(y_test, y_pred))\n",
    "\n",
    "print(\"Train score:\", Lasso.score(X_train, y_train))\n",
    "print(\"Test score:\", Lasso.score(X_test, y_test))\n",
    "print(\"Number of coefficients used:\", np.sum(Lasso.coef_!=0))\n",
    "print(\"Root mean squared error:\", rmse)\n",
    "print(Lasso.coef_)\n",
    "pd.Series(Lasso.coef_, index = X.columns)"
   ]
  },
  {
   "cell_type": "markdown",
   "metadata": {},
   "source": [
    "#### Analysis"
   ]
  }
 ],
 "metadata": {
  "kernelspec": {
   "display_name": "Python 3",
   "language": "python",
   "name": "python3"
  },
  "language_info": {
   "codemirror_mode": {
    "name": "ipython",
    "version": 3
   },
   "file_extension": ".py",
   "mimetype": "text/x-python",
   "name": "python",
   "nbconvert_exporter": "python",
   "pygments_lexer": "ipython3",
   "version": "3.7.1"
  }
 },
 "nbformat": 4,
 "nbformat_minor": 4
}
