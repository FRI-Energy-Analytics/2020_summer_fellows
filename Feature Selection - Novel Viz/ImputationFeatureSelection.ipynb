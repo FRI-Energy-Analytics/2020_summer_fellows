{
 "cells": [
  {
   "cell_type": "code",
   "execution_count": 1,
   "metadata": {},
   "outputs": [],
   "source": [
    "import pandas as pd\n",
    "import datetime\n",
    "import numpy as np\n",
    "import matplotlib.pyplot as plt\n",
    "import seaborn as sns\n",
    "import scipy as stats\n",
    "import pandas.plotting as pd_plot\n",
    "\n",
    "import missingno as msno\n",
    "import pandas_profiling\n",
    "\n",
    "import re\n",
    "\n",
    "import statsmodels.imputation.mice\n",
    "\n",
    "from sklearn.impute import KNNImputer\n",
    "from sklearn import preprocessing\n",
    "from sklearn.model_selection import train_test_split\n",
    "from sklearn import linear_model\n",
    "from sklearn import svm\n",
    "from sklearn import metrics\n",
    "from sklearn.preprocessing  import StandardScaler \n",
    "from sklearn.model_selection import cross_val_score\n",
    "from sklearn.model_selection import GridSearchCV\n",
    "from sklearn.linear_model import Ridge, RidgeCV\n",
    "from sklearn.preprocessing import scale\n",
    "from sklearn.linear_model import LassoCV\n",
    "import random"
   ]
  },
  {
   "cell_type": "markdown",
   "metadata": {},
   "source": [
    "# Feature Selection/Dimension Reduction"
   ]
  },
  {
   "cell_type": "code",
   "execution_count": 2,
   "metadata": {},
   "outputs": [],
   "source": [
    "OriginalDatasetwTypes = pd.read_csv(\"CleanedDataset.csv\")\n",
    "OriginalDataset = OriginalDatasetwTypes.copy().drop([\"Unnamed: 0\", \"Sleeves\", \"P&P\", \"Frac Ports\", \\\n",
    "                                      \"Repeater Ports\", \"CT\"], axis = 1)\n",
    "DatasetDropna = pd.read_csv(\"NoNanDataset.csv\")\n",
    "DatasetMean = pd.read_csv(\"MeanImputationDS.csv\")\n",
    "DatasetII = pd.read_csv(\"IterativeImputeDS.csv\")\n",
    "imputer = KNNImputer(n_neighbors=10)\n",
    "DatasetKNN = imputer.fit_transform(OriginalDataset.copy().select_dtypes([np.number]))\n",
    "DatasetKNN = pd.DataFrame(DatasetKNN, columns = OriginalDataset.copy().select_dtypes([np.number]).columns)\n",
    "from impyute.imputation import cs\n",
    "np.random.seed(9)\n",
    "data = OriginalDataset.copy().select_dtypes([np.number]).to_numpy()\n",
    "DatasetMICE = cs.mice(data)\n",
    "DatasetMICE = pd.DataFrame(DatasetMICE, columns = OriginalDataset.copy().select_dtypes([np.number]).columns)\n",
    "DatasetIIandCI = pd.read_csv(\"DatasetIIandCI.csv\")"
   ]
  },
  {
   "cell_type": "markdown",
   "metadata": {},
   "source": [
    "## LASSO Regression"
   ]
  },
  {
   "cell_type": "markdown",
   "metadata": {},
   "source": [
    "### Dataset with Dropped Data"
   ]
  },
  {
   "cell_type": "code",
   "execution_count": 3,
   "metadata": {},
   "outputs": [
    {
     "name": "stdout",
     "output_type": "stream",
     "text": [
      "Train score: 0.9784066889015249\n",
      "Test score: 0.9754368554324415\n",
      "Number of coefficients used: 8\n",
      "Root mean squared error: 7.8128621831727125\n",
      "[-2.79849395e-04  1.41248859e-01  0.00000000e+00  0.00000000e+00\n",
      " -0.00000000e+00  6.09445285e-07  9.85529350e-06  0.00000000e+00\n",
      "  0.00000000e+00  0.00000000e+00  1.08852376e-01  2.37266433e-01\n",
      "  6.60869773e-02  0.00000000e+00 -1.59927173e-03]\n"
     ]
    },
    {
     "data": {
      "text/plain": [
       "Lateral Length    -2.798494e-04\n",
       "Stages             1.412489e-01\n",
       "Township           0.000000e+00\n",
       "Range              0.000000e+00\n",
       "Section           -0.000000e+00\n",
       "Total Prop, lbs    6.094453e-07\n",
       "Fluid, bbls        9.855293e-06\n",
       "Best1 Mo BOPD      0.000000e+00\n",
       "Best3 Mo BOPD      0.000000e+00\n",
       "Best6 Mo BOPD      0.000000e+00\n",
       "Best9 Mo BOPD      1.088524e-01\n",
       "Best12 Mo BOPD     2.372664e-01\n",
       "Latitude           6.608698e-02\n",
       "Longitude          0.000000e+00\n",
       "SPACING_CAPPED    -1.599272e-03\n",
       "dtype: float64"
      ]
     },
     "execution_count": 3,
     "metadata": {},
     "output_type": "execute_result"
    },
    {
     "data": {
      "image/png": "[encoded data removed]",
      "text/plain": [
       "<Figure size 576x396 with 1 Axes>"
      ]
     },
     "metadata": {},
     "output_type": "display_data"
    }
   ],
   "source": [
    "from math import sqrt\n",
    "X = DatasetDropna.copy().select_dtypes([np.number]).drop([\"12 month Cum Prod\", \"Year Drilled\", \"Unnamed: 0\"], axis = 1)\n",
    "scaler = StandardScaler()\n",
    "sX = scaler.fit_transform(X)\n",
    "y = DatasetDropna[\"12 month Cum Prod\"]\n",
    "sy = scaler.fit_transform(y.values.reshape((-1,1)))\n",
    "alphas = 10**np.linspace(10,-2, 100)*0.05\n",
    "coefs = []\n",
    "X_train, X_test, y_train, y_test = train_test_split(X, y, test_size = .4, random_state = 1)\n",
    "Lasso = linear_model.Lasso(max_iter = 300000, tol = 0.0001, normalize = True)\n",
    "for a in alphas:\n",
    "    Lasso.set_params(alpha = a)\n",
    "    Lasso.fit(X_train, y_train)\n",
    "    coefs.append(Lasso.coef_)\n",
    "ax = plt.gca()\n",
    "ax.plot(alphas*2, coefs)\n",
    "ax.set_xscale(\"log\")\n",
    "plt.axis('tight')\n",
    "plt.xlabel('alpha')\n",
    "plt.ylabel('weights')\n",
    "    \n",
    "Lassocv = LassoCV(alphas = None, cv = 20, max_iter = 300000, normalize = True)\n",
    "Lassocv.fit(X_train, y_train)\n",
    "\n",
    "Lasso.set_params(alpha = Lassocv.alpha_)\n",
    "Lasso.fit(X_train, y_train)\n",
    "\n",
    "y_pred = Lasso.predict(X_test)\n",
    "rmse = sqrt(metrics.mean_squared_error(y_test, y_pred))\n",
    "\n",
    "print(\"Train score:\", Lasso.score(X_train, y_train))\n",
    "print(\"Test score:\", Lasso.score(X_test, y_test))\n",
    "print(\"Number of coefficients used:\", np.sum(Lasso.coef_!=0))\n",
    "print(\"Root mean squared error:\", rmse)\n",
    "print(Lasso.coef_)\n",
    "pd.Series(Lasso.coef_, index = X.columns)"
   ]
  },
  {
   "cell_type": "markdown",
   "metadata": {},
   "source": [
    "#### Analysis\n",
    "<b>Features Selected (sorted):</b>\n",
    "    <pre>\"Best12 Mo BOPD\", \"Stages\", \"Best9 Mo BOPD\", \"Latitude\", \"SPACING_CAPPED\", \"Lateral Length\", \"Best9 Mo BOPD\", \"Section\", \"SPACING_CAPPED\", \"Fluid, bbls\", \"Total Prop, lbs\"</pre>\n",
    "<b>Features with absolute weights that are greater than > 0.01:</b> \n",
    "    <pre>\"Best12 Mo BOPD\", \"Stages\", \"Best9 Mo BOPD\", \"Latitude\"</pre>\n",
    "\n",
    "<b><i>Notes:</i></b> This Dataset is a highly truncated version of the full dataset with missing values. After optimization these features were the ones deemed to be important to predict 12 month Cumulative production.\n",
    "\n",
    "<b>Best12 Mo BOPD:</b> The feature with the highest absolute weight was Best the best \"Barrels of Oil per day\" value in the 12<sup>th</sup> month. This along with the best oil production per day in the 9<sup>th</sup> month are useful in determining 12 month cumulative production as in general the best oil production rate at the later months are generally useful in determining the cumulative oil production in a year. On another note, since the oil production rates are directly proportional to each other, the best oil production rates of the earlier months can be extrapolated from the later months (months 12 and 9).\n",
    "\n",
    "<b>Stages:</b> It is reasonable to assume that there is importance for the number of stages within a well and predicting 12 month cumulative production. The number of stages can also be used to ascertain the length of the well, the total amount of fluid used, along with the amount of proppant (explaining the low to zero feature importance in their weightings).\n",
    "\n",
    "<b>Best9 Mo BOPD:</b> See Best12 Mo BOPD\n",
    "\n",
    "<b>Latitude:</b> Due to the truncated dataset, This is one of the only datasets where the Latitude was a more significant factor than the longitude in predicting 12 month cumulative oil production.\n",
    "\n",
    "<b>Other:</b> The space or density per well, feature importance can be useful in predicting 12 month cumulative production, mostly as in well-dense areas (low spacing cap) some oil in a reservoir will flow to multiple wells. However, since this only refers to the density with respect to other wells, it will only serve as a good predictor for 12 month cumulative production in certain clusters of wells."
   ]
  },
  {
   "cell_type": "markdown",
   "metadata": {},
   "source": [
    "### Mean Imputation Dataset"
   ]
  },
  {
   "cell_type": "code",
   "execution_count": 4,
   "metadata": {},
   "outputs": [
    {
     "name": "stdout",
     "output_type": "stream",
     "text": [
      "Train score: 0.7681769797823996\n",
      "Test score: 0.7731691265220009\n",
      "Number of coefficients used: 11\n",
      "Root mean squared error: 25.388912684462824\n",
      "[-0.00000000e+00  1.96054499e-01 -3.82520820e-01 -0.00000000e+00\n",
      " -2.08582123e-02  3.39488331e-06  1.20311613e-04  0.00000000e+00\n",
      "  5.46325489e-02  8.85455211e-02  3.35620948e-02  9.45143852e-02\n",
      " -0.00000000e+00  9.11109931e+00 -1.01208786e-02]\n"
     ]
    },
    {
     "data": {
      "text/plain": [
       "Lateral Length    -0.000000\n",
       "Stages             0.196054\n",
       "Township          -0.382521\n",
       "Range             -0.000000\n",
       "Section           -0.020858\n",
       "Total Prop, lbs    0.000003\n",
       "Fluid, bbls        0.000120\n",
       "Best1 Mo BOPD      0.000000\n",
       "Best3 Mo BOPD      0.054633\n",
       "Best6 Mo BOPD      0.088546\n",
       "Best9 Mo BOPD      0.033562\n",
       "Best12 Mo BOPD     0.094514\n",
       "Latitude          -0.000000\n",
       "Longitude          9.111099\n",
       "SPACING_CAPPED    -0.010121\n",
       "dtype: float64"
      ]
     },
     "execution_count": 4,
     "metadata": {},
     "output_type": "execute_result"
    },
    {
     "data": {
      "image/png": "[encoded data removed]",
      "text/plain": [
       "<Figure size 576x396 with 1 Axes>"
      ]
     },
     "metadata": {},
     "output_type": "display_data"
    }
   ],
   "source": [
    "X = DatasetMean.copy().select_dtypes([np.number]).drop([\"12 month Cum Prod\", \"Year Drilled\", \"Unnamed: 0\"], axis = 1)\n",
    "scaler = StandardScaler()\n",
    "sX = scaler.fit_transform(X)\n",
    "y = DatasetMean[\"12 month Cum Prod\"]\n",
    "sy = scaler.fit_transform(y.values.reshape((-1,1)))\n",
    "alphas = 10**np.linspace(10,-2, 100)*0.05\n",
    "coefs = []\n",
    "X_train, X_test, y_train, y_test = train_test_split(X, y, test_size = .4, random_state = 1)\n",
    "Lasso = linear_model.Lasso(max_iter = 300000, tol = 0.0001, normalize = True)\n",
    "for a in alphas:\n",
    "    Lasso.set_params(alpha = a)\n",
    "    Lasso.fit(X_train, y_train)\n",
    "    coefs.append(Lasso.coef_)\n",
    "ax = plt.gca()\n",
    "ax.plot(alphas*2, coefs)\n",
    "ax.set_xscale(\"log\")\n",
    "plt.axis('tight')\n",
    "plt.xlabel('alpha')\n",
    "plt.ylabel('weights')\n",
    "    \n",
    "Lassocv = LassoCV(alphas = None, cv = 20, max_iter = 300000, normalize = True)\n",
    "Lassocv.fit(X_train, y_train)\n",
    "\n",
    "Lasso.set_params(alpha = Lassocv.alpha_)\n",
    "Lasso.fit(X_train, y_train)\n",
    "\n",
    "y_pred = Lasso.predict(X_test)\n",
    "rmse = sqrt(metrics.mean_squared_error(y_test, y_pred))\n",
    "\n",
    "print(\"Train score:\", Lasso.score(X_train, y_train))\n",
    "print(\"Test score:\", Lasso.score(X_test, y_test))\n",
    "print(\"Number of coefficients used:\", np.sum(Lasso.coef_!=0))\n",
    "print(\"Root mean squared error:\", rmse)\n",
    "print(Lasso.coef_)\n",
    "pd.Series(Lasso.coef_, index = X.columns)"
   ]
  },
  {
   "cell_type": "markdown",
   "metadata": {},
   "source": [
    "#### Analysis\n",
    "<b>Features Selected (sorted):</b>\n",
    "    <pre>\"Longitude\", \"Township\", \"Stages\", \"Best12 Mo BOPD\", \"Best6 Mo BOPD\", \"Best3 Mo BOPD\", \"Best9 Mo BOPD\", \"Section\", \"SPACING_CAPPED\", \"Fluid, bbls\", \"Total Prop, lbs\"</pre>\n",
    "<b>Features with absolute weights that are greater than > 0.01:</b> \n",
    "    <pre>\"Longitude\", \"Township\", \"Stages\", \"Best12 Mo BOPD\", \"Best6 Mo BOPD\", \"Best3 Mo BOPD\", \"Best9 Mo BOPD\", \"Section\", \"SPACING_CAPPED\"</pre>\n",
    "<b><i>Notes:</i></b> This dataset revolves around a single variate imputation, many multivariate relations are lost, especially amongst those with significant percent of imputed data, such as with \"Best12 Mo BOPD\", \"Best9 Mo BOPD\", and \"Best6 Mo BOPD\" to name a few. Moreover, compared to the truncated dataset this dataset is about 4 times as large.\n",
    "\n",
    "<b>Longitude:</b> The two positional features to indicate a location on a grid used are Longitude (East and West) and Township (North and South), this is opposed to Range and latitude. Regardless, East and West positioning seems to be a more important predictor of 12 month Cumulative Production.\n",
    "\n",
    "<b>Township:</b> See Longitude\n",
    "\n",
    "<b>Stages:</b> Since the number of stages did not have many imputed values, its importance in terms of rank did not change significantly, rather the other features importance in terms of rank changed around this. For more information see droppeddataset LASSO analysis.\n",
    "\n",
    "<b>Best12 Mo BOPD:</b> Since the Best12 Mo BOPD and Best9 Mo BOPD has some of the highest amount of quantitative imputed values (the mean in this case), siginficantly decreasing its variance and predictive capabilities for 12 month Cumulative production. To counteract the loss in predictive capabilities the feature importances of the best month productions (features with lower imputed value counts) of the earlier months have been increased.\n",
    "\n",
    "<b>Best6 Mo BOPD:</b> See Best12 Mo BOPD\n",
    "\n",
    "<b>Best3 Mo BOPD:</b> See Best12 Mo BOPD\n",
    "\n",
    "<b>Best9 Mo BOPD:</b> See Best12 Mo BOPD\n",
    "\n",
    "<b>SPACING_CAPPED:</b> Same reasoning as with the dataset with the dropped entries\n",
    "\n",
    "<b>Other:</b> The number of stages could be a better predictor in 12 month cumulative production than lateral length, fluid, bbls, and total proppant."
   ]
  },
  {
   "cell_type": "markdown",
   "metadata": {},
   "source": [
    "### Iterative Imputatoin Dataset"
   ]
  },
  {
   "cell_type": "code",
   "execution_count": 5,
   "metadata": {},
   "outputs": [
    {
     "name": "stdout",
     "output_type": "stream",
     "text": [
      "Train score: 0.9192925646975338\n",
      "Test score: 0.9177666415052342\n",
      "Number of coefficients used: 11\n",
      "Root mean squared error: 15.286815825262845\n",
      "[-4.92778282e-04  2.59100290e-01 -1.84685448e-01 -0.00000000e+00\n",
      " -9.18864396e-04  2.15643233e-06  7.39272436e-05 -1.97150479e-03\n",
      " -0.00000000e+00 -1.49324390e-01  0.00000000e+00  5.63580139e-01\n",
      " -0.00000000e+00  1.68669839e+00 -1.57063397e-02]\n"
     ]
    },
    {
     "data": {
      "text/plain": [
       "Lateral Length    -0.000493\n",
       "Stages             0.259100\n",
       "Township          -0.184685\n",
       "Range             -0.000000\n",
       "Section           -0.000919\n",
       "Total Prop, lbs    0.000002\n",
       "Fluid, bbls        0.000074\n",
       "Best1 Mo BOPD     -0.001972\n",
       "Best3 Mo BOPD     -0.000000\n",
       "Best6 Mo BOPD     -0.149324\n",
       "Best9 Mo BOPD      0.000000\n",
       "Best12 Mo BOPD     0.563580\n",
       "Latitude          -0.000000\n",
       "Longitude          1.686698\n",
       "SPACING_CAPPED    -0.015706\n",
       "dtype: float64"
      ]
     },
     "execution_count": 5,
     "metadata": {},
     "output_type": "execute_result"
    },
    {
     "data": {
      "image/png": "[encoded data removed]",
      "text/plain": [
       "<Figure size 576x396 with 1 Axes>"
      ]
     },
     "metadata": {},
     "output_type": "display_data"
    }
   ],
   "source": [
    "X = DatasetII.copy().select_dtypes([np.number]).drop([\"12 month Cum Prod\", \"Year Drilled\", \"Unnamed: 0\"], axis = 1)\n",
    "scaler = StandardScaler()\n",
    "sX = scaler.fit_transform(X)\n",
    "y = DatasetII[\"12 month Cum Prod\"]\n",
    "sy = scaler.fit_transform(y.values.reshape((-1,1)))\n",
    "alphas = 10**np.linspace(10,-2, 100)*0.05\n",
    "coefs = []\n",
    "X_train, X_test, y_train, y_test = train_test_split(X, y, test_size = .4, random_state = 1)\n",
    "Lasso = linear_model.Lasso(max_iter = 300000, tol = 0.0001, normalize = True)\n",
    "for a in alphas:\n",
    "    Lasso.set_params(alpha = a)\n",
    "    Lasso.fit(X_train, y_train)\n",
    "    coefs.append(Lasso.coef_)\n",
    "ax = plt.gca()\n",
    "ax.plot(alphas*2, coefs)\n",
    "ax.set_xscale(\"log\")\n",
    "plt.axis('tight')\n",
    "plt.xlabel('alpha')\n",
    "plt.ylabel('weights')\n",
    "    \n",
    "Lassocv = LassoCV(alphas = None, cv = 20, max_iter = 300000, normalize = True)\n",
    "Lassocv.fit(X_train, y_train)\n",
    "\n",
    "Lasso.set_params(alpha = Lassocv.alpha_)\n",
    "Lasso.fit(X_train, y_train)\n",
    "\n",
    "y_pred = Lasso.predict(X_test)\n",
    "rmse = sqrt(metrics.mean_squared_error(y_test, y_pred))\n",
    "\n",
    "print(\"Train score:\", Lasso.score(X_train, y_train))\n",
    "print(\"Test score:\", Lasso.score(X_test, y_test))\n",
    "print(\"Number of coefficients used:\", np.sum(Lasso.coef_!=0))\n",
    "print(\"Root mean squared error:\", rmse)\n",
    "print(Lasso.coef_)\n",
    "pd.Series(Lasso.coef_, index = X.columns)"
   ]
  },
  {
   "cell_type": "markdown",
   "metadata": {},
   "source": [
    "#### Analysis\n",
    "<b>Features Selected (sorted):</b>\n",
    "    <pre>\"Longitude\", \"Best12 Mo BOPD\", \"Stages\", \"Township\", \"SPACING_CAPPED\", \"Best1 Mo BOPD\", \"Section\", \"Lateral Length\", \"Fluid, bbls\", \"Total Prop, lbs\"</pre>\n",
    "<b>Features with absolute weights that are greater than > 0.01:</b> \n",
    "    <pre>\"Longitude\", \"Best12 Mo BOPD\", \"Stages\", \"Township\", \"SPACING_CAPPED\"</pre>\n",
    "\n",
    "<b>Longitude:</b>  The two positional features to indicate a location on a grid used are Longitude (East and West) and Township (North and South), this is opposed to Range and latitude. Regardless, East and West positioning seems to be a more important predictor of 12 month Cumulative Production.\n",
    "\n",
    "<b>Best12 Mo BOPD:</b> The process of Iterative Imputation from sklearn ensures that despite Best12 Mo BOPD having the highest amount of imputed quantitative values, Best12 Mo BOPD still maintains its feature importance. This is due to the maintainance of multivariate relationships between features. Despite this, some of the other more complete Best oil production months is used to buff of the predictive values\n",
    "\n",
    "<b>Stages:</b> Since the number of stages did not have many imputed values, its importance in terms of rank did not change significantly, rather the other features importance in terms of rank changed around this. For more information see LASSO Regression analysis of the dataset with dropped entries.\n",
    "\n",
    "<b>Township:</b> See Longitude\n",
    "\n",
    "<b>SPACING_CAPPED:</b> Same reasoning as with the dataset with the dropped entries\n",
    "\n",
    "<b>Other:</b> The number of stages could be a better predictor in 12 month cumulative production than lateral length, fluid, bbls, and total proppant."
   ]
  },
  {
   "cell_type": "markdown",
   "metadata": {},
   "source": [
    "### K- NN Imputation Dataset"
   ]
  },
  {
   "cell_type": "code",
   "execution_count": 7,
   "metadata": {},
   "outputs": [
    {
     "name": "stdout",
     "output_type": "stream",
     "text": [
      "Train score: 0.7652285908428245\n",
      "Test score: 0.7660899276286498\n",
      "Number of coefficients used: 13\n",
      "Root mean squared error: 25.78205206413322\n",
      "[ 3.22046235e-04  3.66362212e-01 -2.73303591e-01 -0.00000000e+00\n",
      " -4.22946093e-02 -3.41260664e-06  1.18271029e-04  1.54890947e-03\n",
      "  3.92475004e-02  1.20310563e-01  6.23826759e-02  5.21283508e-02\n",
      " -0.00000000e+00  6.99645423e+00  2.06923058e-03]\n"
     ]
    },
    {
     "data": {
      "text/plain": [
       "Lateral Length     0.000322\n",
       "Stages             0.366362\n",
       "Township          -0.273304\n",
       "Range             -0.000000\n",
       "Section           -0.042295\n",
       "Total Prop, lbs   -0.000003\n",
       "Fluid, bbls        0.000118\n",
       "Best1 Mo BOPD      0.001549\n",
       "Best3 Mo BOPD      0.039248\n",
       "Best6 Mo BOPD      0.120311\n",
       "Best9 Mo BOPD      0.062383\n",
       "Best12 Mo BOPD     0.052128\n",
       "Latitude          -0.000000\n",
       "Longitude          6.996454\n",
       "SPACING_CAPPED     0.002069\n",
       "dtype: float64"
      ]
     },
     "execution_count": 7,
     "metadata": {},
     "output_type": "execute_result"
    },
    {
     "data": {
      "image/png": "[encoded data removed]",
      "text/plain": [
       "<Figure size 576x396 with 1 Axes>"
      ]
     },
     "metadata": {},
     "output_type": "display_data"
    }
   ],
   "source": [
    "X = DatasetKNN.copy().select_dtypes([np.number]).drop([\"12 month Cum Prod\", \"Year Drilled\"], axis = 1)\n",
    "scaler = StandardScaler()\n",
    "sX = scaler.fit_transform(X)\n",
    "y = DatasetKNN[\"12 month Cum Prod\"]\n",
    "sy = scaler.fit_transform(y.values.reshape((-1,1)))\n",
    "alphas = 10**np.linspace(10,-2, 100)*0.05\n",
    "coefs = []\n",
    "X_train, X_test, y_train, y_test = train_test_split(X, y, test_size = .4, random_state = 1)\n",
    "Lasso = linear_model.Lasso(max_iter = 300000, tol = 0.0001, normalize = True)\n",
    "for a in alphas:\n",
    "    Lasso.set_params(alpha = a)\n",
    "    Lasso.fit(X_train, y_train)\n",
    "    coefs.append(Lasso.coef_)\n",
    "ax = plt.gca()\n",
    "ax.plot(alphas*2, coefs)\n",
    "ax.set_xscale(\"log\")\n",
    "plt.axis('tight')\n",
    "plt.xlabel('alpha')\n",
    "plt.ylabel('weights')\n",
    "    \n",
    "Lassocv = LassoCV(alphas = None, cv = 20, max_iter = 300000, normalize = True)\n",
    "Lassocv.fit(X_train, y_train)\n",
    "\n",
    "Lasso.set_params(alpha = Lassocv.alpha_)\n",
    "Lasso.fit(X_train, y_train)\n",
    "\n",
    "y_pred = Lasso.predict(X_test)\n",
    "rmse = sqrt(metrics.mean_squared_error(y_test, y_pred))\n",
    "\n",
    "print(\"Train score:\", Lasso.score(X_train, y_train))\n",
    "print(\"Test score:\", Lasso.score(X_test, y_test))\n",
    "print(\"Number of coefficients used:\", np.sum(Lasso.coef_!=0))\n",
    "print(\"Root mean squared error:\", rmse)\n",
    "print(Lasso.coef_)\n",
    "pd.Series(Lasso.coef_, index = X.columns)"
   ]
  },
  {
   "cell_type": "markdown",
   "metadata": {},
   "source": [
    "#### Analysis\n",
    "<b>Features Selected (sorted):</b>\n",
    "    <pre>\"Longitude\", \"Stages\", \"Township\", \"Best6 Mo BOPD\", \"Best9 Mo BOPD\", \"Best12 Mo BOPD\", \"Section\", \"Best3 Mo BOPD\" \"SPACING_CAPPED\", \"Best1 Mo BOPD\", \"Lateral Length\", \"Fluid, bbls\", \"Total Prop, lbs\"</pre>\n",
    "<b>Features with absolute weights that are greater than > 0.01:</b> \n",
    "    <pre>\"Longitude\", \"Stages\", \"Township\", \"Best6 Mo BOPD\", \"Best9 Mo BOPD\", \"Best12 Mo BOPD\", \"Section\", \"Best3 Mo BOPD\"</pre>\n",
    "\n",
    "<b>Longitude:</b>  The two positional features to indicate a location on a grid used are Longitude (East and West) and Township (North and South), this is opposed to Range and latitude. Regardless, East and West positioning seems to be a more important predictor of 12 month Cumulative Production.\n",
    "\n",
    "\n",
    "<b>Stages:</b> Since the number of stages did not have many imputed values, its importance in terms of rank did not change significantly, rather the other features importance in terms of rank changed around this. For more information see LASSO Regression analysis of the dataset with dropped entries.\n",
    "\n",
    "<b>Township:</b> See Longitude\n",
    "\n",
    "<b>Best6 Mo BOPD:</b> K-NN Imputation is a single variate imputation method and with k values greater than 1, many multivariate relations are lost if favor of maintaining inferential statistics of a single feature. Due to this, features with a significant amount of imputed values such as Best12 Mo BOPD and Best9 Mo BOPD have a decrease in feature importance while those related features with less imputed values get an increase, such as Best6 Mo BOPD.\n",
    "\n",
    "<b>Best9 Mo BOPD:</b> See Best6 Mo BOPD\n",
    "\n",
    "<b>Best12 Mo BOPD:</b> See Best6 Mo BOPD\n",
    "\n",
    "<b>Best3 Mo BOPD:</b> See Best6 Mo BOPD\n",
    "\n",
    "<b>Other:</b> The number of stages could be a better predictor in 12 month cumulative production than lateral length, fluid, bbls, and total proppant."
   ]
  },
  {
   "cell_type": "markdown",
   "metadata": {},
   "source": [
    "### MICE Imputation Dataset"
   ]
  },
  {
   "cell_type": "code",
   "execution_count": 9,
   "metadata": {},
   "outputs": [
    {
     "name": "stdout",
     "output_type": "stream",
     "text": [
      "Train score: 0.919159648628821\n",
      "Test score: 0.9188427159690814\n",
      "Number of coefficients used: 11\n",
      "Root mean squared error: 15.1864677351114\n",
      "[-4.64578771e-04  2.30263448e-01 -1.52098368e-01 -0.00000000e+00\n",
      " -0.00000000e+00  2.44671188e-06  7.13116893e-05  3.26710655e-02\n",
      " -4.42567803e-02 -1.82076693e-01  0.00000000e+00  6.08431341e-01\n",
      " -0.00000000e+00  1.73975868e+00 -1.52858872e-02]\n"
     ]
    },
    {
     "data": {
      "text/plain": [
       "Lateral Length    -0.000465\n",
       "Stages             0.230263\n",
       "Township          -0.152098\n",
       "Range             -0.000000\n",
       "Section           -0.000000\n",
       "Total Prop, lbs    0.000002\n",
       "Fluid, bbls        0.000071\n",
       "Best1 Mo BOPD      0.032671\n",
       "Best3 Mo BOPD     -0.044257\n",
       "Best6 Mo BOPD     -0.182077\n",
       "Best9 Mo BOPD      0.000000\n",
       "Best12 Mo BOPD     0.608431\n",
       "Latitude          -0.000000\n",
       "Longitude          1.739759\n",
       "SPACING_CAPPED    -0.015286\n",
       "dtype: float64"
      ]
     },
     "execution_count": 9,
     "metadata": {},
     "output_type": "execute_result"
    },
    {
     "data": {
      "image/png": "[encoded data removed]",
      "text/plain": [
       "<Figure size 576x396 with 1 Axes>"
      ]
     },
     "metadata": {},
     "output_type": "display_data"
    }
   ],
   "source": [
    "X = DatasetMICE.copy().select_dtypes([np.number]).drop([\"12 month Cum Prod\", \"Year Drilled\"], axis = 1)\n",
    "scaler = StandardScaler()\n",
    "sX = scaler.fit_transform(X)\n",
    "y = DatasetMICE[\"12 month Cum Prod\"]\n",
    "sy = scaler.fit_transform(y.values.reshape((-1,1)))\n",
    "alphas = 10**np.linspace(10,-2, 100)*0.05\n",
    "coefs = []\n",
    "X_train, X_test, y_train, y_test = train_test_split(X, y, test_size = .4, random_state = 1)\n",
    "Lasso = linear_model.Lasso(max_iter = 300000, tol = 0.0001, normalize = True)\n",
    "for a in alphas:\n",
    "    Lasso.set_params(alpha = a)\n",
    "    Lasso.fit(X_train, y_train)\n",
    "    coefs.append(Lasso.coef_)\n",
    "ax = plt.gca()\n",
    "ax.plot(alphas*2, coefs)\n",
    "ax.set_xscale(\"log\")\n",
    "plt.axis('tight')\n",
    "plt.xlabel('alpha')\n",
    "plt.ylabel('weights')\n",
    "    \n",
    "Lassocv = LassoCV(alphas = None, cv = 20, max_iter = 300000, normalize = True)\n",
    "Lassocv.fit(X_train, y_train)\n",
    "\n",
    "Lasso.set_params(alpha = Lassocv.alpha_)\n",
    "Lasso.fit(X_train, y_train)\n",
    "\n",
    "y_pred = Lasso.predict(X_test)\n",
    "rmse = sqrt(metrics.mean_squared_error(y_test, y_pred))\n",
    "\n",
    "print(\"Train score:\", Lasso.score(X_train, y_train))\n",
    "print(\"Test score:\", Lasso.score(X_test, y_test))\n",
    "print(\"Number of coefficients used:\", np.sum(Lasso.coef_!=0))\n",
    "print(\"Root mean squared error:\", rmse)\n",
    "print(Lasso.coef_)\n",
    "pd.Series(Lasso.coef_, index = X.columns)"
   ]
  },
  {
   "cell_type": "markdown",
   "metadata": {},
   "source": [
    "#### Analysis\n",
    "<b>Features Selected (sorted):</b>\n",
    "    <pre>\"Longitude\", \"Best12 Mo BOPD\", \"Stages\", \"Best6 Mo BOPD\", \"Township\", \"Best3 Mo BOPD\", \"Best1 Mo BOPD\", \"SPACING_CAPPED\", \"Lateral Length\", \"Fluid, bbls\", \"Total Prop, lbs\"</pre>\n",
    "<b>Features with absolute weights that are greater than > 0.01:</b> \n",
    "    <pre>\"Longitude\", \"Best12 Mo BOPD\", \"Stages\", \"Best6 Mo BOPD\", \"Township\", \"Best3 Mo BOPD\", \"Best1 Mo BOPD\", \"SPACING_CAPPED\"</pre>\n",
    "\n",
    "<b>Longitude:</b>  The two positional features to indicate a location on a grid used are Longitude (East and West) and Township (North and South), this is opposed to Range and latitude. Regardless, East and West positioning seems to be a more important predictor of 12 month Cumulative Production.\n",
    "\n",
    "\n",
    "<b>Best12 Mo BOPD:</b> MICE Imputation similiar to sklearn's iterative imputation ensures that despite Best12 Mo BOPD having the highest amount of imputed quantitative values, Best12 Mo BOPD still maintains its feature importance. This is due to the maintainance of multivariate relationships between features. Despite this, there is still a loss, and thus causes an increase in feature importance of other best month oil productions.\n",
    "\n",
    "<b>Stages:</b> Since the number of stages did not have many imputed values, its importance in terms of rank did not change significantly, rather the other features importance in terms of rank changed around this. For more information see LASSO Regression analysis of the dataset with dropped entries.\n",
    "\n",
    "<b>Best6 Mo BOPD:</b> See Best12 Mo BOPD\n",
    "\n",
    "<b>Township:</b> See Longitude\n",
    "\n",
    "<b>Best3 Mo BOPD:</b> See Best12 Mo BOPD\n",
    "\n",
    "<b>Best1 Mo BOPD:</b> See Best12 Mo BOPD\n",
    "\n",
    "<b>SPACING_CAPPED:</b> Same reasoning as with the dataset with the dropped entries\n",
    "\n",
    "<b>Other:</b> The number of stages could be a better predictor in 12 month cumulative production than lateral length, fluid, bbls, and total proppant."
   ]
  },
  {
   "cell_type": "markdown",
   "metadata": {},
   "source": [
    "### Separating by Completion Type"
   ]
  },
  {
   "cell_type": "code",
   "execution_count": 10,
   "metadata": {},
   "outputs": [],
   "source": [
    "\n",
    "Category = \"Completion Type\"\n",
    "DatasetII[Category] = OriginalDatasetwTypes[Category]\n",
    "DatasetII[\"Sleeves\"] = OriginalDatasetwTypes[\"Sleeves\"]\n",
    "DatasetII[\"P&P\"] = OriginalDatasetwTypes[\"P&P\"]\n",
    "DatasetII[\"Frac Ports\"] = OriginalDatasetwTypes[\"Frac Ports\"]\n",
    "DatasetII[\"Repeater Ports\"] = OriginalDatasetwTypes[\"Repeater Ports\"]\n",
    "DatasetII[\"CT\"] = OriginalDatasetwTypes[\"CT\"]\n",
    "DatasetII = DatasetII.dropna(axis=0, subset=['Completion Type'])\n",
    "\n",
    "DatasetIISleeves = pd.concat([\\\n",
    "                               DatasetII[DatasetII[Category] == \\\n",
    "                                          \"Sleeves\"], \\\n",
    "                               DatasetII[DatasetII[Category] == \\\n",
    "                                           \"Sleeves and P & P\"]])\n",
    "DatasetIISleeves = DatasetIISleeves.fillna(0)\n",
    "\n",
    "DatasetIIPandP = pd.concat([\\\n",
    "                            DatasetII[DatasetII[Category] == \\\n",
    "                                      \"P & P\"], \\\n",
    "                            DatasetII[DatasetII[Category] == \\\n",
    "                                      \"Sleeves and P & P\"], \\\n",
    "                            DatasetII[DatasetII[Category] == \\\n",
    "                                      \"Frac Ports and P & P\"], \\\n",
    "                            DatasetII[DatasetII[Category] == \\\n",
    "                                       \"P & P and CT\"], \\\n",
    "                            DatasetII[DatasetII[Category] == \\\n",
    "                                      \"Repeater Ports and P & P\"]])\n",
    "DatasetIIPandP = DatasetIIPandP.fillna(0)\n",
    "\n",
    "DatasetIIFracPorts = pd.concat([\\\n",
    "                                DatasetII[DatasetII[Category] == \\\n",
    "                                         \"Frac Ports\"], \\\n",
    "                                DatasetII[DatasetII[Category] == \\\n",
    "                                         \"Frac Ports and P & P\"], \\\n",
    "                                DatasetII[DatasetII[Category] == \\\n",
    "                                         \"Frac Ports and Repeater Ports\"]])\n",
    "DatasetIIFracPorts = DatasetIIFracPorts.fillna(0)\n",
    "\n",
    "DatasetIIRepeaterPorts = pd.concat([\\\n",
    "                                    DatasetII[DatasetII[Category] == \\\n",
    "                                        \"Frac Ports and Repeater Ports\"],\n",
    "                                    DatasetII[DatasetII[Category] == \\\n",
    "                                              \"Repeater Ports and P & P\"]])\n",
    "DatasetIIRepeaterPorts = DatasetIIRepeaterPorts.fillna(0)\n",
    "\n",
    "DatasetIICT = pd.concat([\\\n",
    "                         DatasetII[DatasetII[Category] == \\\n",
    "                                   \"CT\"], \\\n",
    "                         DatasetII[DatasetII[Category] == \\\n",
    "                                   \"P & P and CT\"]])\n",
    "DatasetIICT = DatasetIICT.fillna(0)\n",
    "DatasetIIOH = DatasetII[DatasetII[Category] == \"OH\"]\n",
    "DatasetIIOH = DatasetIIOH.fillna(0)\n",
    "\n",
    "DatasetIIScreen = DatasetII[DatasetII[Category] == \"Screen\"]\n",
    "DatasetIIScreen = DatasetIIScreen.fillna(0)\n",
    "\n",
    "DatasetIICementedL = DatasetII[DatasetII[Category] == \"Cemented Liner\"]\n",
    "DatasetIICementedL = DatasetIICementedL.fillna(0)\n",
    "\n",
    "DatasetIIPerforatedL = DatasetII[DatasetII[Category] == \\\n",
    "                                   \"Perforated Liner\"]\n",
    "DatasetIIPerforatedL = DatasetIIPerforatedL.fillna(0)\n",
    "\n",
    "DatasetIIother = pd.concat([DatasetIIOH, DatasetIIScreen, \\\n",
    "                           DatasetIICementedL, DatasetIIPerforatedL, DatasetIIFracPorts, DatasetIIRepeaterPorts])\n"
   ]
  },
  {
   "cell_type": "markdown",
   "metadata": {},
   "source": [
    "### Sleeves"
   ]
  },
  {
   "cell_type": "code",
   "execution_count": 11,
   "metadata": {},
   "outputs": [
    {
     "name": "stdout",
     "output_type": "stream",
     "text": [
      "Train score: 0.9227018783782674\n",
      "Test score: 0.9318787834980496\n",
      "Number of coefficients used: 14\n",
      "Root mean squared error: 12.159003281165456\n",
      "[-6.01579778e-04  2.92234357e-01 -2.33246343e-01 -0.00000000e+00\n",
      " -2.27509030e-02  3.52410448e-06 -8.67943583e-06  4.52463622e-04\n",
      "  1.76508375e-02 -9.65952755e-02 -0.00000000e+00  4.69638386e-01\n",
      " -0.00000000e+00  1.12472392e+00 -8.98397439e-03  1.29798992e-02\n",
      " -1.12132911e-01  0.00000000e+00  0.00000000e+00  0.00000000e+00]\n"
     ]
    },
    {
     "data": {
      "text/plain": [
       "Lateral Length    -0.000602\n",
       "Stages             0.292234\n",
       "Township          -0.233246\n",
       "Range             -0.000000\n",
       "Section           -0.022751\n",
       "Total Prop, lbs    0.000004\n",
       "Fluid, bbls       -0.000009\n",
       "Best1 Mo BOPD      0.000452\n",
       "Best3 Mo BOPD      0.017651\n",
       "Best6 Mo BOPD     -0.096595\n",
       "Best9 Mo BOPD     -0.000000\n",
       "Best12 Mo BOPD     0.469638\n",
       "Latitude          -0.000000\n",
       "Longitude          1.124724\n",
       "SPACING_CAPPED    -0.008984\n",
       "Sleeves            0.012980\n",
       "P&P               -0.112133\n",
       "Frac Ports         0.000000\n",
       "Repeater Ports     0.000000\n",
       "CT                 0.000000\n",
       "dtype: float64"
      ]
     },
     "execution_count": 11,
     "metadata": {},
     "output_type": "execute_result"
    },
    {
     "data": {
      "image/png": "[encoded data removed]",
      "text/plain": [
       "<Figure size 576x396 with 1 Axes>"
      ]
     },
     "metadata": {},
     "output_type": "display_data"
    }
   ],
   "source": [
    "X = DatasetIISleeves.copy().select_dtypes([np.number]).drop([\"12 month Cum Prod\", \"Year Drilled\", \"Unnamed: 0\"], axis = 1)\n",
    "scaler = StandardScaler()\n",
    "sX = scaler.fit_transform(X)\n",
    "y = DatasetIISleeves[\"12 month Cum Prod\"]\n",
    "sy = scaler.fit_transform(y.values.reshape((-1,1)))\n",
    "alphas = 10**np.linspace(10,-2, 100)*0.05\n",
    "coefs = []\n",
    "X_train, X_test, y_train, y_test = train_test_split(X, y, test_size = .4, random_state = 1)\n",
    "Lasso = linear_model.Lasso(max_iter = 300000, tol = 0.0001, normalize = True)\n",
    "for a in alphas:\n",
    "    Lasso.set_params(alpha = a)\n",
    "    Lasso.fit(X_train, y_train)\n",
    "    coefs.append(Lasso.coef_)\n",
    "ax = plt.gca()\n",
    "ax.plot(alphas*2, coefs)\n",
    "ax.set_xscale(\"log\")\n",
    "plt.axis('tight')\n",
    "plt.xlabel('alpha')\n",
    "plt.ylabel('weights')\n",
    "    \n",
    "Lassocv = LassoCV(alphas = None, cv = 20, max_iter = 300000, normalize = True)\n",
    "Lassocv.fit(X_train, y_train)\n",
    "\n",
    "Lasso.set_params(alpha = Lassocv.alpha_)\n",
    "Lasso.fit(X_train, y_train)\n",
    "\n",
    "y_pred = Lasso.predict(X_test)\n",
    "rmse = sqrt(metrics.mean_squared_error(y_test, y_pred))\n",
    "\n",
    "print(\"Train score:\", Lasso.score(X_train, y_train))\n",
    "print(\"Test score:\", Lasso.score(X_test, y_test))\n",
    "print(\"Number of coefficients used:\", np.sum(Lasso.coef_!=0))\n",
    "print(\"Root mean squared error:\", rmse)\n",
    "print(Lasso.coef_)\n",
    "pd.Series(Lasso.coef_, index = X.columns)"
   ]
  },
  {
   "cell_type": "markdown",
   "metadata": {},
   "source": [
    "#### Analysis\n",
    "<b>Features Selected (sorted):</b>\n",
    "    <pre>\"Longitude\", \"Best12 Mo BOPD\", \"Stages\", \"Township\", \"PandP\", \"Best6 Mo BOPD\", \"Section\", \"Best3 Mo BOPD\", \"Sleeves\", \"SPACING_CAPPED\", \"Lateral Length\", \"Best1 Mo BOPD\", \"Fluid, bbls\", \"Total Prop, lbs\"</pre>\n",
    "<b>Features with weights that are greater than > 0.01:</b> \n",
    "    <pre>\"Longitude\", \"Best12 Mo BOPD\", \"Stages\", \"Township\", \"PandP\", \"Best6 Mo BOPD\", \"Section\", \"Best3 Mo BOPD\", \"Sleeves\"</pre>\n",
    "\n",
    "<b>Longitude:</b>  The two positional features to indicate a location on a grid used are Longitude (East and West) and Township (North and South), this is opposed to Range and latitude. Regardless, East and West positioning seems to be a more important predictor of 12 month Cumulative Production.\n",
    "\n",
    "\n",
    "<b>Best12 Mo BOPD:</b> Similar to the Iterative Imputation Dataset\n",
    "\n",
    "<b>Stages:</b> Similar to Iterative Imputation Dataset\n",
    "\n",
    "<b>Township:</b> See Longitude\n",
    "\n",
    "<b>PandP:</b> For entries that have completion type sleeves, there is an importance to the number of pandp stages in predicting 12 month cumulative production. For more information, see the edgeworthbox notebook in models\n",
    "\n",
    "<b>Best6 Mo BOPD:</b> Similar to Iterative Imputation Dataset\n",
    "\n",
    "<b>Best3 Mo BOPD:</b> Similar to Iterative Imputation Dataset\n",
    "\n",
    "<b>Sleeves:</b> It is interesting that the number of p and p stages within a well is more important in predicting 12 month cumulative production in wells with sleeves completion type than the number of sleeves. For more information, see the edgeworthbox notebook in models.\n",
    "\n",
    "<b>Other:</b> The number of stages could be a better predictor in 12 month cumulative production than lateral length, fluid, bbls, and total proppant."
   ]
  },
  {
   "cell_type": "markdown",
   "metadata": {},
   "source": [
    "### P & P"
   ]
  },
  {
   "cell_type": "code",
   "execution_count": 12,
   "metadata": {},
   "outputs": [
    {
     "name": "stdout",
     "output_type": "stream",
     "text": [
      "Train score: 0.9125551725854727\n",
      "Test score: 0.9105132713262579\n",
      "Number of coefficients used: 14\n",
      "Root mean squared error: 17.891623785825605\n",
      "[-3.96501919e-04  1.66133851e-01 -2.90090980e-01 -0.00000000e+00\n",
      "  4.43652486e-02  2.29731085e-06  8.04214463e-05 -3.34969436e-03\n",
      " -1.45171907e-02 -1.90360074e-01  0.00000000e+00  6.43827758e-01\n",
      " -0.00000000e+00  1.78774866e+00 -2.20032296e-02  1.38641192e-02\n",
      "  0.00000000e+00  0.00000000e+00 -4.95397544e-01  0.00000000e+00]\n"
     ]
    },
    {
     "data": {
      "text/plain": [
       "Lateral Length    -0.000397\n",
       "Stages             0.166134\n",
       "Township          -0.290091\n",
       "Range             -0.000000\n",
       "Section            0.044365\n",
       "Total Prop, lbs    0.000002\n",
       "Fluid, bbls        0.000080\n",
       "Best1 Mo BOPD     -0.003350\n",
       "Best3 Mo BOPD     -0.014517\n",
       "Best6 Mo BOPD     -0.190360\n",
       "Best9 Mo BOPD      0.000000\n",
       "Best12 Mo BOPD     0.643828\n",
       "Latitude          -0.000000\n",
       "Longitude          1.787749\n",
       "SPACING_CAPPED    -0.022003\n",
       "Sleeves            0.013864\n",
       "P&P                0.000000\n",
       "Frac Ports         0.000000\n",
       "Repeater Ports    -0.495398\n",
       "CT                 0.000000\n",
       "dtype: float64"
      ]
     },
     "execution_count": 12,
     "metadata": {},
     "output_type": "execute_result"
    },
    {
     "data": {
      "image/png": "[encoded data removed]",
      "text/plain": [
       "<Figure size 576x396 with 1 Axes>"
      ]
     },
     "metadata": {},
     "output_type": "display_data"
    }
   ],
   "source": [
    "X = DatasetIIPandP.copy().select_dtypes([np.number]).drop([\"12 month Cum Prod\", \"Year Drilled\", \"Unnamed: 0\"], axis = 1)\n",
    "scaler = StandardScaler()\n",
    "sX = scaler.fit_transform(X)\n",
    "y = DatasetIIPandP[\"12 month Cum Prod\"]\n",
    "sy = scaler.fit_transform(y.values.reshape((-1,1)))\n",
    "alphas = 10**np.linspace(10,-2, 100)*0.05\n",
    "coefs = []\n",
    "X_train, X_test, y_train, y_test = train_test_split(X, y, test_size = .4, random_state = 1)\n",
    "Lasso = linear_model.Lasso(max_iter = 300000, tol = 0.0001, normalize = True)\n",
    "for a in alphas:\n",
    "    Lasso.set_params(alpha = a)\n",
    "    Lasso.fit(X_train, y_train)\n",
    "    coefs.append(Lasso.coef_)\n",
    "ax = plt.gca()\n",
    "ax.plot(alphas*2, coefs)\n",
    "ax.set_xscale(\"log\")\n",
    "plt.axis('tight')\n",
    "plt.xlabel('alpha')\n",
    "plt.ylabel('weights')\n",
    "    \n",
    "Lassocv = LassoCV(alphas = None, cv = 20, max_iter = 300000, normalize = True)\n",
    "Lassocv.fit(X_train, y_train)\n",
    "\n",
    "Lasso.set_params(alpha = Lassocv.alpha_)\n",
    "Lasso.fit(X_train, y_train)\n",
    "\n",
    "y_pred = Lasso.predict(X_test)\n",
    "rmse = sqrt(metrics.mean_squared_error(y_test, y_pred))\n",
    "\n",
    "print(\"Train score:\", Lasso.score(X_train, y_train))\n",
    "print(\"Test score:\", Lasso.score(X_test, y_test))\n",
    "print(\"Number of coefficients used:\", np.sum(Lasso.coef_!=0))\n",
    "print(\"Root mean squared error:\", rmse)\n",
    "print(Lasso.coef_)\n",
    "pd.Series(Lasso.coef_, index = X.columns)"
   ]
  },
  {
   "cell_type": "markdown",
   "metadata": {},
   "source": [
    "#### Analysis\n",
    "<b>Features Selected (sorted):</b>\n",
    "    <pre>\"Longitude\", \"Best12 Mo BOPD\", \"Repeater Ports\", \"Township\", \"Best6 Mo BOPD\", \"Stages\", \"Section\", \"Best3 Mo BOPD\", \"SPACING_CAPPED\", \"Sleeves\", \"Best1 Mo BOPD\", \"Lateral Length\", \"Fluid, bbls\", \"Total Prop, lbs\"</pre>\n",
    "<b>Features with weights that are greater than > 0.01:</b> \n",
    "    <pre>\"Longitude\", \"Best12 Mo BOPD\", \"Repeater Ports\", \"Township\", \"Best6 Mo BOPD\", \"Stages\", \"Section\", \"Best3 Mo BOPD\", \"SPACING_CAPPED\", \"Sleeves\"</pre>\n",
    "\n",
    "<b>Longitude:</b>  The two positional features to indicate a location on a grid used are Longitude (East and West) and Township (North and South), this is opposed to Range and latitude. Regardless, East and West positioning seems to be a more important predictor of 12 month Cumulative Production.\n",
    "\n",
    "<b>Best12 Mo BOPD:</b> Similar to the Iterative Imputation Dataset\n",
    "\n",
    "<b>Repeater Ports:</b> The number of Repeater Ports in a well with the p and p completion type is an important feature for predicting the 12 month cumulative production. For more information, see the edgeworthbox notebook in the models folder.\n",
    "\n",
    "<b>Township:</b> See Longitude\n",
    "\n",
    "<b>Best6 Mo BOPD:</b> Best6 Mo BOPD has been pushed up in terms of importance\n",
    "\n",
    "<b>Stages:</b> Since the number of stages did not have many imputed values, its importance in terms of rank did not change significantly, rather the other features importance in terms of rank changed around this. For more information see LASSO Regression analysis of the dataset with dropped entries.\n",
    "\n",
    "<b>Best3 Mo BOPD:</b> Best3 Mo BOPD has been pushed up in terms of importance.\n",
    "\n",
    "<b>SPACING_CAPPED:</b> Same reasoning as with the dataset with the dropped entries.\n",
    "\n",
    "<b>Sleeves:</b> The number of Sleeves (more than the number of p and p) stages in a well with a p and p completion type is an important feature for predicting the 12 month cumulative production. For more information, see the edgeworthbox notebook in the models folder."
   ]
  },
  {
   "cell_type": "markdown",
   "metadata": {},
   "source": [
    "### Other"
   ]
  },
  {
   "cell_type": "code",
   "execution_count": 13,
   "metadata": {},
   "outputs": [
    {
     "name": "stdout",
     "output_type": "stream",
     "text": [
      "Train score: 0.9707992200442952\n",
      "Test score: 0.9833797406488702\n",
      "Number of coefficients used: 12\n",
      "Root mean squared error: 4.8063487318190825\n",
      "[-3.99867575e-04  3.24942393e-02  1.24831684e-02  0.00000000e+00\n",
      " -3.78034705e-02  2.04921063e-07 -0.00000000e+00  2.03161212e-03\n",
      "  0.00000000e+00  0.00000000e+00  1.82445574e-01  1.50564818e-01\n",
      "  0.00000000e+00 -1.29433249e+00  6.02811586e-03  0.00000000e+00\n",
      " -3.57072794e-02 -6.25351146e-03 -0.00000000e+00  0.00000000e+00]\n"
     ]
    },
    {
     "data": {
      "text/plain": [
       "Lateral Length    -3.998676e-04\n",
       "Stages             3.249424e-02\n",
       "Township           1.248317e-02\n",
       "Range              0.000000e+00\n",
       "Section           -3.780347e-02\n",
       "Total Prop, lbs    2.049211e-07\n",
       "Fluid, bbls       -0.000000e+00\n",
       "Best1 Mo BOPD      2.031612e-03\n",
       "Best3 Mo BOPD      0.000000e+00\n",
       "Best6 Mo BOPD      0.000000e+00\n",
       "Best9 Mo BOPD      1.824456e-01\n",
       "Best12 Mo BOPD     1.505648e-01\n",
       "Latitude           0.000000e+00\n",
       "Longitude         -1.294332e+00\n",
       "SPACING_CAPPED     6.028116e-03\n",
       "Sleeves            0.000000e+00\n",
       "P&P               -3.570728e-02\n",
       "Frac Ports        -6.253511e-03\n",
       "Repeater Ports    -0.000000e+00\n",
       "CT                 0.000000e+00\n",
       "dtype: float64"
      ]
     },
     "execution_count": 13,
     "metadata": {},
     "output_type": "execute_result"
    },
    {
     "data": {
      "image/png": "[encoded data removed]",
      "text/plain": [
       "<Figure size 576x396 with 1 Axes>"
      ]
     },
     "metadata": {},
     "output_type": "display_data"
    }
   ],
   "source": [
    "X = DatasetIIother.copy().select_dtypes([np.number]).drop([\"12 month Cum Prod\", \"Year Drilled\", \"Unnamed: 0\"], axis = 1)\n",
    "scaler = StandardScaler()\n",
    "sX = scaler.fit_transform(X)\n",
    "y = DatasetIIother[\"12 month Cum Prod\"]\n",
    "sy = scaler.fit_transform(y.values.reshape((-1,1)))\n",
    "alphas = 10**np.linspace(10,-2, 100)*0.05\n",
    "coefs = []\n",
    "X_train, X_test, y_train, y_test = train_test_split(X, y, test_size = .4, random_state = 1)\n",
    "Lasso = linear_model.Lasso(max_iter = 300000, tol = 0.0001, normalize = True)\n",
    "for a in alphas:\n",
    "    Lasso.set_params(alpha = a)\n",
    "    Lasso.fit(X_train, y_train)\n",
    "    coefs.append(Lasso.coef_)\n",
    "ax = plt.gca()\n",
    "ax.plot(alphas*2, coefs)\n",
    "ax.set_xscale(\"log\")\n",
    "plt.axis('tight')\n",
    "plt.xlabel('alpha')\n",
    "plt.ylabel('weights')\n",
    "    \n",
    "Lassocv = LassoCV(alphas = None, cv = 20, max_iter = 300000, normalize = True)\n",
    "Lassocv.fit(X_train, y_train)\n",
    "\n",
    "Lasso.set_params(alpha = Lassocv.alpha_)\n",
    "Lasso.fit(X_train, y_train)\n",
    "\n",
    "y_pred = Lasso.predict(X_test)\n",
    "rmse = sqrt(metrics.mean_squared_error(y_test, y_pred))\n",
    "\n",
    "print(\"Train score:\", Lasso.score(X_train, y_train))\n",
    "print(\"Test score:\", Lasso.score(X_test, y_test))\n",
    "print(\"Number of coefficients used:\", np.sum(Lasso.coef_!=0))\n",
    "print(\"Root mean squared error:\", rmse)\n",
    "print(Lasso.coef_)\n",
    "pd.Series(Lasso.coef_, index = X.columns)"
   ]
  },
  {
   "cell_type": "markdown",
   "metadata": {},
   "source": [
    "#### Analysis\n",
    "<b>Features Selected (sorted):</b>\n",
    "    <pre>\"Longitude\", \"Best9 Mo BOPD\", \"Best12 Mo BOPD\", \"Section\", \"PandP\", \"Stages\", \"Township\", \"Frac Ports\", \"SPACING_CAPPED\", \"Best1 Mo BOPD\", \"Lateral Length\", \"Total Prop, lbs\"</pre>\n",
    "<b>Features with weights that are greater than > 0.01:</b> \n",
    "    <pre>\"Longitude\", \"Best9 Mo BOPD\", \"Best12 Mo BOPD\", \"Section\", \"PandP\", \"Stages\", Township\"</pre>\n",
    "\n",
    "<b>Longitude:</b>  The two positional features to indicate a location on a grid used are Longitude (East and West) and Township (North and South), this is opposed to Range and latitude. Regardless, East and West positioning seems to be a more important predictor of 12 month Cumulative Production.\n",
    "\n",
    "<b>Best9 Mo BOPD:</b> In the Dataset with completiontypes other than p and p, and Sleeves, the Best9 Mo BOPD is more important than the Best12 Mo BOPD. However, similar to the other multivariate imputation techniques, the Best12 Mo BOPD is similarly important to bump up accuracy in predicting 12 month cumulative production and lower error.\n",
    "\n",
    "<b>Best12 Mo BOPD:</b> See Best9 Mo BOPD\n",
    "\n",
    "<b>PandP:</b> The number of P and P ports is an important factor in predicting 12 month cumulative production. For more information, see the edgeworthbox notebook in the models folder.\n",
    "\n",
    "<b>Stages:</b> Since the number of stages did not have many imputed values, its importance in terms of rank did not change significantly, rather the other features importance in terms of rank changed around this. For more information see LASSO Regression analysis of the dataset with dropped entries.\n",
    "\n",
    "<b>Township</b> See Longitude\n",
    "\n",
    "<b>Other:</b> The number of stages could be a better predictor in 12 month cumulative production than lateral length, fluid, bbls, and total proppant."
   ]
  },
  {
   "cell_type": "code",
   "execution_count": 29,
   "metadata": {},
   "outputs": [],
   "source": [
    "\n",
    "features = DatasetIIandCI.copy()\n",
    "features = features.drop([\"Year Drilled\", \"Unnamed: 0\"], axis = 1)\n",
    "features[\"Sleeves\"] = OriginalDatasetwTypes[\"Sleeves\"]\n",
    "features[\"P&P\"] = OriginalDatasetwTypes[\"P&P\"]\n",
    "features[\"Frac Ports\"] = OriginalDatasetwTypes[\"Frac Ports\"]\n",
    "features[\"Repeater Ports\"] = OriginalDatasetwTypes[\"Repeater Ports\"]\n",
    "features[\"CT\"] = OriginalDatasetwTypes[\"CT\"]\n",
    "features = features.fillna(0)\n",
    "features = pd.get_dummies(features)\n",
    "labels = np.array(features[\"12 month Cum Prod\"])\n",
    "features = features.drop(columns = [\"12 month Cum Prod\"])\n",
    "feature_list = list(features.columns)\n",
    "features = np.array(features)\n",
    "train_features, test_features, train_labels, test_labels = train_test_split(features, labels, test_size = 0.25, random_state = 23)\n",
    "\n",
    "\n"
   ]
  },
  {
   "cell_type": "code",
   "execution_count": 30,
   "metadata": {},
   "outputs": [
    {
     "data": {
      "text/plain": [
       "RandomForestRegressor(bootstrap=True, ccp_alpha=0.0, criterion='mse',\n",
       "                      max_depth=None, max_features='auto', max_leaf_nodes=None,\n",
       "                      max_samples=None, min_impurity_decrease=0.0,\n",
       "                      min_impurity_split=None, min_samples_leaf=1,\n",
       "                      min_samples_split=2, min_weight_fraction_leaf=0.0,\n",
       "                      n_estimators=1000, n_jobs=None, oob_score=False,\n",
       "                      random_state=23, verbose=0, warm_start=False)"
      ]
     },
     "execution_count": 30,
     "metadata": {},
     "output_type": "execute_result"
    }
   ],
   "source": [
    "\n",
    "from sklearn.ensemble import RandomForestRegressor\n",
    "rf = RandomForestRegressor(n_estimators=1000, random_state = 23)\n",
    "rf.fit(train_features, train_labels)\n"
   ]
  },
  {
   "cell_type": "code",
   "execution_count": 31,
   "metadata": {},
   "outputs": [
    {
     "name": "stdout",
     "output_type": "stream",
     "text": [
      "Mean Absolute Error: 5.7 degrees.\n"
     ]
    }
   ],
   "source": [
    "\n",
    "predictions = rf.predict(test_features)\n",
    "errors = abs(predictions - test_labels)\n",
    "print(\"Mean Absolute Error:\", round(np.mean(errors), 2), 'degrees.')\n"
   ]
  },
  {
   "cell_type": "code",
   "execution_count": 32,
   "metadata": {},
   "outputs": [
    {
     "name": "stdout",
     "output_type": "stream",
     "text": [
      "Accuracy: 93.03 %.\n"
     ]
    }
   ],
   "source": [
    "\n",
    "mape = 100 * (errors / test_labels)\n",
    "accuracy = 100 - np.mean(mape)\n",
    "print(\"Accuracy:\", round(accuracy, 2), \"%.\")\n"
   ]
  },
  {
   "cell_type": "code",
   "execution_count": 18,
   "metadata": {},
   "outputs": [
    {
     "data": {
      "text/plain": [
       "'\\nfrom sklearn.tree import export_graphviz\\nimport pydot\\ntree = rf.estimators_[5]\\nexport_graphviz(tree, out_file = \"tree.dot\",\\n               feature_names = feature_list, rounded = True,\\n               precision = 1)\\n(graph, ) = pydot.graph_from_dot_file(\\'tree.dot\\')\\ngraph.write_png(\\'tree.png\\')\\n'"
      ]
     },
     "execution_count": 18,
     "metadata": {},
     "output_type": "execute_result"
    }
   ],
   "source": [
    "\"\"\"\n",
    "from sklearn.tree import export_graphviz\n",
    "import pydot\n",
    "tree = rf.estimators_[5]\n",
    "export_graphviz(tree, out_file = \"tree.dot\",\n",
    "               feature_names = feature_list, rounded = True,\n",
    "               precision = 1)\n",
    "(graph, ) = pydot.graph_from_dot_file('tree.dot')\n",
    "graph.write_png('tree.png')\n",
    "\"\"\""
   ]
  },
  {
   "cell_type": "code",
   "execution_count": 19,
   "metadata": {},
   "outputs": [
    {
     "data": {
      "text/plain": [
       "\"\\nrf_small = RandomForestRegressor(n_estimators = 10,\\n                                max_depth = 3)\\nrf_small.fit(train_features, train_labels)\\ntree_small = rf_small.estimators_[5]\\nexport_graphviz(tree_small, out_file = 'small_tree.dot',\\n               feature_names = feature_list,\\n               rounded = True, precision = 1)\\n(graph, ) = pydot.graph_from_dot_file('small_tree.dot')\\ngraph.write_png('small_tree.png')\\n\""
      ]
     },
     "execution_count": 19,
     "metadata": {},
     "output_type": "execute_result"
    }
   ],
   "source": [
    "\"\"\"\n",
    "rf_small = RandomForestRegressor(n_estimators = 10,\n",
    "                                max_depth = 3)\n",
    "rf_small.fit(train_features, train_labels)\n",
    "tree_small = rf_small.estimators_[5]\n",
    "export_graphviz(tree_small, out_file = 'small_tree.dot',\n",
    "               feature_names = feature_list,\n",
    "               rounded = True, precision = 1)\n",
    "(graph, ) = pydot.graph_from_dot_file('small_tree.dot')\n",
    "graph.write_png('small_tree.png')\n",
    "\"\"\""
   ]
  },
  {
   "cell_type": "code",
   "execution_count": 33,
   "metadata": {},
   "outputs": [
    {
     "name": "stdout",
     "output_type": "stream",
     "text": [
      "Variable: Best12 Mo BOPD       Importance: 0.85\n",
      "Variable: Best9 Mo BOPD        Importance: 0.05\n",
      "Variable: Fluid, bbls          Importance: 0.02\n",
      "Variable: Best1 Mo BOPD        Importance: 0.02\n",
      "Variable: Stages               Importance: 0.01\n",
      "Variable: Total Prop, lbs      Importance: 0.01\n",
      "Variable: Best3 Mo BOPD        Importance: 0.01\n",
      "Variable: Best6 Mo BOPD        Importance: 0.01\n",
      "Variable: Lateral Length       Importance: 0.0\n",
      "Variable: Township             Importance: 0.0\n",
      "Variable: Range                Importance: 0.0\n",
      "Variable: Section              Importance: 0.0\n",
      "Variable: Latitude             Importance: 0.0\n",
      "Variable: Longitude            Importance: 0.0\n",
      "Variable: SPACING_CAPPED       Importance: 0.0\n",
      "Variable: Sleeves              Importance: 0.0\n",
      "Variable: P&P                  Importance: 0.0\n",
      "Variable: Frac Ports           Importance: 0.0\n",
      "Variable: Repeater Ports       Importance: 0.0\n",
      "Variable: CT                   Importance: 0.0\n",
      "Variable: Operator_Operator 1  Importance: 0.0\n",
      "Variable: Operator_Operator 10 Importance: 0.0\n",
      "Variable: Operator_Operator 11 Importance: 0.0\n",
      "Variable: Operator_Operator 12 Importance: 0.0\n",
      "Variable: Operator_Operator 13 Importance: 0.0\n",
      "Variable: Operator_Operator 14 Importance: 0.0\n",
      "Variable: Operator_Operator 15 Importance: 0.0\n",
      "Variable: Operator_Operator 16 Importance: 0.0\n",
      "Variable: Operator_Operator 17 Importance: 0.0\n",
      "Variable: Operator_Operator 18 Importance: 0.0\n",
      "Variable: Operator_Operator 19 Importance: 0.0\n",
      "Variable: Operator_Operator 2  Importance: 0.0\n",
      "Variable: Operator_Operator 20 Importance: 0.0\n",
      "Variable: Operator_Operator 21 Importance: 0.0\n",
      "Variable: Operator_Operator 22 Importance: 0.0\n",
      "Variable: Operator_Operator 23 Importance: 0.0\n",
      "Variable: Operator_Operator 24 Importance: 0.0\n",
      "Variable: Operator_Operator 25 Importance: 0.0\n",
      "Variable: Operator_Operator 26 Importance: 0.0\n",
      "Variable: Operator_Operator 27 Importance: 0.0\n",
      "Variable: Operator_Operator 28 Importance: 0.0\n",
      "Variable: Operator_Operator 29 Importance: 0.0\n",
      "Variable: Operator_Operator 3  Importance: 0.0\n",
      "Variable: Operator_Operator 30 Importance: 0.0\n",
      "Variable: Operator_Operator 31 Importance: 0.0\n",
      "Variable: Operator_Operator 32 Importance: 0.0\n",
      "Variable: Operator_Operator 33 Importance: 0.0\n",
      "Variable: Operator_Operator 34 Importance: 0.0\n",
      "Variable: Operator_Operator 35 Importance: 0.0\n",
      "Variable: Operator_Operator 36 Importance: 0.0\n",
      "Variable: Operator_Operator 37 Importance: 0.0\n",
      "Variable: Operator_Operator 38 Importance: 0.0\n",
      "Variable: Operator_Operator 39 Importance: 0.0\n",
      "Variable: Operator_Operator 4  Importance: 0.0\n",
      "Variable: Operator_Operator 40 Importance: 0.0\n",
      "Variable: Operator_Operator 41 Importance: 0.0\n",
      "Variable: Operator_Operator 42 Importance: 0.0\n",
      "Variable: Operator_Operator 43 Importance: 0.0\n",
      "Variable: Operator_Operator 44 Importance: 0.0\n",
      "Variable: Operator_Operator 45 Importance: 0.0\n",
      "Variable: Operator_Operator 46 Importance: 0.0\n",
      "Variable: Operator_Operator 47 Importance: 0.0\n",
      "Variable: Operator_Operator 48 Importance: 0.0\n",
      "Variable: Operator_Operator 49 Importance: 0.0\n",
      "Variable: Operator_Operator 5  Importance: 0.0\n",
      "Variable: Operator_Operator 50 Importance: 0.0\n",
      "Variable: Operator_Operator 51 Importance: 0.0\n",
      "Variable: Operator_Operator 52 Importance: 0.0\n",
      "Variable: Operator_Operator 53 Importance: 0.0\n",
      "Variable: Operator_Operator 54 Importance: 0.0\n",
      "Variable: Operator_Operator 55 Importance: 0.0\n",
      "Variable: Operator_Operator 56 Importance: 0.0\n",
      "Variable: Operator_Operator 6  Importance: 0.0\n",
      "Variable: Operator_Operator 7  Importance: 0.0\n",
      "Variable: Operator_Operator 8  Importance: 0.0\n",
      "Variable: Operator_Operator 9  Importance: 0.0\n",
      "Variable: Formation_MBH        Importance: 0.0\n",
      "Variable: Formation_MBH/TFH    Importance: 0.0\n",
      "Variable: Formation_MTFH       Importance: 0.0\n",
      "Variable: Formation_TF1        Importance: 0.0\n",
      "Variable: Formation_TF2        Importance: 0.0\n",
      "Variable: Formation_TF2.5      Importance: 0.0\n",
      "Variable: Formation_TF3        Importance: 0.0\n",
      "Variable: Formation_TF4        Importance: 0.0\n",
      "Variable: Formation_TFH        Importance: 0.0\n",
      "Variable: Formation_TFSH       Importance: 0.0\n",
      "Variable: Formation_UTFH       Importance: 0.0\n",
      "Variable: Fluid Type from DI_CROSSLINKED Importance: 0.0\n",
      "Variable: Fluid Type from DI_CROSSLINKED (HC) Importance: 0.0\n",
      "Variable: Fluid Type from DI_LINEAR GEL Importance: 0.0\n",
      "Variable: Fluid Type from DI_LINEAR GEL (HC) Importance: 0.0\n",
      "Variable: Fluid Type from DI_SLICKWATER (HC) Importance: 0.0\n",
      "Variable: Fluid Type from DI_SW-GEL HYBRID Importance: 0.0\n",
      "Variable: Fluid Type from DI_SW-XL HYBRID Importance: 0.0\n",
      "Variable: Fluid Type from DI_UNKNOWN Importance: 0.0\n",
      "Variable: Completion Type_CT   Importance: 0.0\n",
      "Variable: Completion Type_Cemented Liner Importance: 0.0\n",
      "Variable: Completion Type_Frac Ports Importance: 0.0\n",
      "Variable: Completion Type_Frac Ports and P & P Importance: 0.0\n",
      "Variable: Completion Type_Frac Ports and Repeater Ports Importance: 0.0\n",
      "Variable: Completion Type_OH   Importance: 0.0\n",
      "Variable: Completion Type_P & P Importance: 0.0\n",
      "Variable: Completion Type_P & P and CT Importance: 0.0\n",
      "Variable: Completion Type_Perforated Liner Importance: 0.0\n",
      "Variable: Completion Type_Repeater Ports and P & P Importance: 0.0\n",
      "Variable: Completion Type_Screen Importance: 0.0\n",
      "Variable: Completion Type_Sleeves Importance: 0.0\n",
      "Variable: Completion Type_Sleeves and P & P Importance: 0.0\n"
     ]
    },
    {
     "data": {
      "text/plain": [
       "[None,\n",
       " None,\n",
       " None,\n",
       " None,\n",
       " None,\n",
       " None,\n",
       " None,\n",
       " None,\n",
       " None,\n",
       " None,\n",
       " None,\n",
       " None,\n",
       " None,\n",
       " None,\n",
       " None,\n",
       " None,\n",
       " None,\n",
       " None,\n",
       " None,\n",
       " None,\n",
       " None,\n",
       " None,\n",
       " None,\n",
       " None,\n",
       " None,\n",
       " None,\n",
       " None,\n",
       " None,\n",
       " None,\n",
       " None,\n",
       " None,\n",
       " None,\n",
       " None,\n",
       " None,\n",
       " None,\n",
       " None,\n",
       " None,\n",
       " None,\n",
       " None,\n",
       " None,\n",
       " None,\n",
       " None,\n",
       " None,\n",
       " None,\n",
       " None,\n",
       " None,\n",
       " None,\n",
       " None,\n",
       " None,\n",
       " None,\n",
       " None,\n",
       " None,\n",
       " None,\n",
       " None,\n",
       " None,\n",
       " None,\n",
       " None,\n",
       " None,\n",
       " None,\n",
       " None,\n",
       " None,\n",
       " None,\n",
       " None,\n",
       " None,\n",
       " None,\n",
       " None,\n",
       " None,\n",
       " None,\n",
       " None,\n",
       " None,\n",
       " None,\n",
       " None,\n",
       " None,\n",
       " None,\n",
       " None,\n",
       " None,\n",
       " None,\n",
       " None,\n",
       " None,\n",
       " None,\n",
       " None,\n",
       " None,\n",
       " None,\n",
       " None,\n",
       " None,\n",
       " None,\n",
       " None,\n",
       " None,\n",
       " None,\n",
       " None,\n",
       " None,\n",
       " None,\n",
       " None,\n",
       " None,\n",
       " None,\n",
       " None,\n",
       " None,\n",
       " None,\n",
       " None,\n",
       " None,\n",
       " None,\n",
       " None,\n",
       " None,\n",
       " None,\n",
       " None,\n",
       " None,\n",
       " None,\n",
       " None]"
      ]
     },
     "execution_count": 33,
     "metadata": {},
     "output_type": "execute_result"
    }
   ],
   "source": [
    "\n",
    "importances = list(rf.feature_importances_)\n",
    "\n",
    "feature_importances = [(feature, round(importance, 2)) for feature, importance in zip(feature_list, importances)]\n",
    "feature_importances = sorted(feature_importances, key = lambda x: x[1], reverse = True)\n",
    "[print('Variable: {:20} Importance: {}'.format(*pair)) for pair in feature_importances]\n"
   ]
  },
  {
   "cell_type": "markdown",
   "metadata": {},
   "source": [
    "#### Analysis\n",
    "After applying a Random Forest Regressor through the Dataset with the Iterative Imputation and Conditional Imputation, The variables that explain the variance of the 12 month Cumulative production are Best12 Mo BOPD, Best9 Mo BOPD, followed by the best oil production rates per months. This is more general."
   ]
  }
 ],
 "metadata": {
  "kernelspec": {
   "display_name": "Python 3",
   "language": "python",
   "name": "python3"
  },
  "language_info": {
   "codemirror_mode": {
    "name": "ipython",
    "version": 3
   },
   "file_extension": ".py",
   "mimetype": "text/x-python",
   "name": "python",
   "nbconvert_exporter": "python",
   "pygments_lexer": "ipython3",
   "version": "3.7.1"
  }
 },
 "nbformat": 4,
 "nbformat_minor": 4
}
