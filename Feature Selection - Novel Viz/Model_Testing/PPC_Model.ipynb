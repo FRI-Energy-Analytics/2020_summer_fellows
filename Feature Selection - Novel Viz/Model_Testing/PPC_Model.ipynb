{
 "cells": [
  {
   "cell_type": "code",
   "execution_count": 1,
   "metadata": {},
   "outputs": [],
   "source": [
    "import pandas as pd\n",
    "import numpy as np\n",
    "import matplotlib.pyplot as plt\n",
    "import seaborn as sns"
   ]
  },
  {
   "cell_type": "code",
   "execution_count": 2,
   "metadata": {},
   "outputs": [],
   "source": [
    "DatabaseDF = pd.read_csv(\"../CleanedDataset.csv\")"
   ]
  },
  {
   "cell_type": "markdown",
   "metadata": {},
   "source": [
    "# Testing Different Features (Complied ones that worked the Best)"
   ]
  },
  {
   "cell_type": "code",
   "execution_count": 3,
   "metadata": {},
   "outputs": [
    {
     "output_type": "execute_result",
     "data": {
      "text/plain": "\" Note : These variables are location based and shouldn't really be analyzed like this\\n\\nX = DatabaseDF['Range']\\nY = DatabaseDF['Longitude']\\n\\n\""
     },
     "metadata": {},
     "execution_count": 3
    }
   ],
   "source": [
    "\"\"\" Note : These variables are location based and shouldn't really be analyzed like this\n",
    "\n",
    "X = DatabaseDF['Range']\n",
    "Y = DatabaseDF['Longitude']\n",
    "\n",
    "\"\"\""
   ]
  },
  {
   "cell_type": "code",
   "execution_count": 4,
   "metadata": {},
   "outputs": [
    {
     "output_type": "execute_result",
     "data": {
      "text/plain": "\" I think the formula above is very interesting and usefull, however this correlation isn't really applicable here since\\nRange/Longitude are essentially the same data\\n\\n# solution\\na, b = best_fit(X, Y)\\n\\n\\n# plot points and fit line\\nimport matplotlib.pyplot as plt\\nsns.scatterplot(x = 'Range', y = 'Longitude', hue = '12 month Cum Prod',data = DatabaseDF)\\nyfit = [a + b * xi for xi in X]\\nplt.plot(X, yfit)\\n# Build PPC Model based on negative correlations on the tested correlation types\\n# Pearson Correlation strong negative correlation between the Longitude and Range\\n\\n\""
     },
     "metadata": {},
     "execution_count": 4
    }
   ],
   "source": [
    "def best_fit(X, Y):\n",
    "\n",
    "    xbar = sum(X)/len(X)\n",
    "    ybar = sum(Y)/len(Y)\n",
    "    n = len(X) # or len(Y)\n",
    "\n",
    "    numer = sum([xi*yi for xi,yi in zip(X, Y)]) - n * xbar * ybar\n",
    "    denum = sum([xi**2 for xi in X]) - n * xbar**2\n",
    "\n",
    "    b = numer / denum\n",
    "    a = ybar - b * xbar\n",
    "\n",
    "    print('best fit line:\\ny = {:.2f} + {:.2f}x'.format(a, b))\n",
    "\n",
    "    return a, b\n",
    "\n",
    "\"\"\" I think the formula above is very interesting and usefull, however this correlation isn't really applicable here since\n",
    "Range/Longitude are essentially the same data\n",
    "\n",
    "# solution\n",
    "a, b = best_fit(X, Y)\n",
    "\n",
    "\n",
    "# plot points and fit line\n",
    "import matplotlib.pyplot as plt\n",
    "sns.scatterplot(x = 'Range', y = 'Longitude', hue = '12 month Cum Prod',data = DatabaseDF)\n",
    "yfit = [a + b * xi for xi in X]\n",
    "plt.plot(X, yfit)\n",
    "# Build PPC Model based on negative correlations on the tested correlation types\n",
    "# Pearson Correlation strong negative correlation between the Longitude and Range\n",
    "\n",
    "\"\"\""
   ]
  },
  {
   "cell_type": "markdown",
   "metadata": {},
   "source": [
    "~~The PPC Curve's purpose is the negative correlation between two variables to show optimization of oil production if on the line best fit. If there is a strong negative correlation between the two variables, then the PPC model will apply.~~\n",
    "\n",
    "The PPC is a graph that shows the maximum quantity of goods that can be produced given a set ammount of resources. The slope of this curve is given by the opportunity cost "
   ]
  },
  {
   "cell_type": "code",
   "execution_count": 5,
   "metadata": {},
   "outputs": [],
   "source": [
    "from scipy.stats import pearsonr\n",
    "from scipy.stats import spearmanr\n",
    "from sklearn.metrics import mean_absolute_error\n",
    "from sklearn.metrics import mean_squared_error"
   ]
  },
  {
   "cell_type": "code",
   "execution_count": 6,
   "metadata": {},
   "outputs": [
    {
     "output_type": "execute_result",
     "data": {
      "text/plain": "\" Note: Very interesting and useful data, however location based data not applicable\\n\\ncorr, _ = pearsonr(DatabaseDF['Range'], DatabaseDF['Longitude'])\\nprint('Pearsons correlation: %.3f' % corr)\\n\\ncorr, _ = spearmanr(DatabaseDF['Range'], DatabaseDF['Longitude'])\\nprint('Spearmans correlation: %.3f' % corr)\\n\\nmean_absolute_error(X, yfit)\\n\\nmean_squared_error(X, yfit)\\n\\n\""
     },
     "metadata": {},
     "execution_count": 6
    }
   ],
   "source": [
    "\"\"\" Note: Very interesting and useful data, however location based data not applicable\n",
    "\n",
    "corr, _ = pearsonr(DatabaseDF['Range'], DatabaseDF['Longitude'])\n",
    "print('Pearsons correlation: %.3f' % corr)\n",
    "\n",
    "corr, _ = spearmanr(DatabaseDF['Range'], DatabaseDF['Longitude'])\n",
    "print('Spearmans correlation: %.3f' % corr)\n",
    "\n",
    "mean_absolute_error(X, yfit)\n",
    "\n",
    "mean_squared_error(X, yfit)\n",
    "\n",
    "\"\"\""
   ]
  },
  {
   "cell_type": "code",
   "execution_count": 7,
   "metadata": {},
   "outputs": [
    {
     "output_type": "execute_result",
     "data": {
      "text/plain": "\" looking at these two variables is useful for determining where the average well is located\\nhowever it has nothing to do with PPC\\n\\nX = DatabaseDF['Longitude']\\nY = DatabaseDF['Latitude']\\n\\n\""
     },
     "metadata": {},
     "execution_count": 7
    }
   ],
   "source": [
    "\"\"\" looking at these two variables is useful for determining where the average well is located\n",
    "however it has nothing to do with PPC\n",
    "\n",
    "X = DatabaseDF['Longitude']\n",
    "Y = DatabaseDF['Latitude']\n",
    "\n",
    "\"\"\""
   ]
  },
  {
   "cell_type": "code",
   "execution_count": 8,
   "metadata": {},
   "outputs": [
    {
     "output_type": "execute_result",
     "data": {
      "text/plain": "\"\\n\\n# solution\\na, b = best_fit(X, Y)\\n\\n\\n# plot points and fit line\\nimport matplotlib.pyplot as plt\\nsns.scatterplot(x = 'Longitude', y = 'Latitude', hue = '12 month Cum Prod',data = DatabaseDF)\\nyfit = [a + b * xi for xi in X]\\nplt.plot(X, yfit)\\n# see the best line fit near the most cum production\\n\""
     },
     "metadata": {},
     "execution_count": 8
    }
   ],
   "source": [
    "\"\"\"\n",
    "\n",
    "# solution\n",
    "a, b = best_fit(X, Y)\n",
    "\n",
    "\n",
    "# plot points and fit line\n",
    "import matplotlib.pyplot as plt\n",
    "sns.scatterplot(x = 'Longitude', y = 'Latitude', hue = '12 month Cum Prod',data = DatabaseDF)\n",
    "yfit = [a + b * xi for xi in X]\n",
    "plt.plot(X, yfit)\n",
    "# see the best line fit near the most cum production\n",
    "\"\"\""
   ]
  },
  {
   "cell_type": "markdown",
   "metadata": {},
   "source": [
    "We can see that the dots near the best fit have optimal oil production. ~~This is taking two negative correlated features, Longitude and Latitude.~~\n",
    "\n",
    "This is very interesting and deservs its own notebook to check why that is"
   ]
  },
  {
   "cell_type": "code",
   "execution_count": 9,
   "metadata": {},
   "outputs": [
    {
     "output_type": "execute_result",
     "data": {
      "text/plain": "\" Average Latitude given Longitude is interesting but not applicable to PPC\\n\\ncorr, _ = pearsonr(DatabaseDF['Longitude'], DatabaseDF['Latitude'])\\nprint('Pearsons correlation: %.3f' % corr)\\ncorr, _ = spearmanr(DatabaseDF['Longitude'], DatabaseDF['Latitude'])\\nprint('Spearmans correlation: %.3f' % corr)\\n\""
     },
     "metadata": {},
     "execution_count": 9
    }
   ],
   "source": [
    "\"\"\" Average Latitude given Longitude is interesting but not applicable to PPC\n",
    "\n",
    "corr, _ = pearsonr(DatabaseDF['Longitude'], DatabaseDF['Latitude'])\n",
    "print('Pearsons correlation: %.3f' % corr)\n",
    "corr, _ = spearmanr(DatabaseDF['Longitude'], DatabaseDF['Latitude'])\n",
    "print('Spearmans correlation: %.3f' % corr)\n",
    "\"\"\""
   ]
  },
  {
   "cell_type": "code",
   "execution_count": 10,
   "metadata": {},
   "outputs": [],
   "source": [
    "from sklearn.metrics import mean_squared_error\n",
    "from sklearn.metrics import mean_absolute_error"
   ]
  },
  {
   "cell_type": "code",
   "execution_count": 13,
   "metadata": {},
   "outputs": [
    {
     "output_type": "execute_result",
     "data": {
      "text/plain": "'\\nmean_squared_error(X, yfit) # Using different errors to understand where our model stands\\nmean_absolute_error(X, yfit)\\n'"
     },
     "metadata": {},
     "execution_count": 13
    }
   ],
   "source": [
    "'''\n",
    "mean_squared_error(X, yfit) # Using different errors to understand where our model stands\n",
    "mean_absolute_error(X, yfit)\n",
    "'''"
   ]
  },
  {
   "cell_type": "code",
   "execution_count": 12,
   "metadata": {},
   "outputs": [
    {
     "output_type": "execute_result",
     "data": {
      "text/plain": "\"\\ncorr, _ = pearsonr(DatabaseDF['Total Prop, lbs'], DatabaseDF['Longitude'])\\nprint('Pearsons correlation: %.3f' % corr)\\ncorr, _ = spearmanr(DatabaseDF['Total Prop, lbs'], DatabaseDF['Longitude'])\\nprint('Spearmans correlation: %.3f' % corr)\\n\""
     },
     "metadata": {},
     "execution_count": 12
    }
   ],
   "source": [
    "\"\"\"\n",
    "corr, _ = pearsonr(DatabaseDF['Total Prop, lbs'], DatabaseDF['Longitude'])\n",
    "print('Pearsons correlation: %.3f' % corr)\n",
    "corr, _ = spearmanr(DatabaseDF['Total Prop, lbs'], DatabaseDF['Longitude'])\n",
    "print('Spearmans correlation: %.3f' % corr)\n",
    "\"\"\""
   ]
  },
  {
   "cell_type": "markdown",
   "metadata": {},
   "source": [
    "This may not be the best model; however it does show the ~~optimal production~~ Production Efficient Points of ~~oil~~ quantity for two features the best on the first two graphs. Has some potential to work with a few features"
   ]
  }
 ],
 "metadata": {
  "kernelspec": {
   "display_name": "Python 3.6.7 64-bit",
   "language": "python",
   "name": "python36764bit24dacedfe9e6463d8bd6ff0ce05a9d05"
  },
  "language_info": {
   "codemirror_mode": {
    "name": "ipython",
    "version": 3
   },
   "file_extension": ".py",
   "mimetype": "text/x-python",
   "name": "python",
   "nbconvert_exporter": "python",
   "pygments_lexer": "ipython3",
   "version": "3.6.7-final"
  }
 },
 "nbformat": 4,
 "nbformat_minor": 4
}