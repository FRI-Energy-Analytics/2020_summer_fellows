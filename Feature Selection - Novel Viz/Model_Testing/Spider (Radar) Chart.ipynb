{
 "cells": [
  {
   "cell_type": "code",
   "execution_count": 17,
   "metadata": {},
   "outputs": [],
   "source": [
    "import pandas as pd\n",
    "import numpy as np\n",
    "import seaborn as sns\n",
    "import matplotlib.pyplot as plt\n",
    "%matplotlib inline"
   ]
  },
  {
   "cell_type": "code",
   "execution_count": 18,
   "metadata": {},
   "outputs": [],
   "source": [
    "#import Plotly \n",
    "import plotly.express as px"
   ]
  },
  {
   "cell_type": "code",
   "execution_count": 68,
   "metadata": {
    "tags": []
   },
   "outputs": [
    {
     "output_type": "execute_result",
     "data": {
      "text/plain": "   Unnamed: 0    Operator Well Name Formation  Lateral Length  Stages  \\\n0           0  Operator 1    Well 1       MBH          5114.0    30.0   \n1           1  Operator 2    Well 2       MBH          5181.0     NaN   \n2           2  Operator 2    Well 3       MBH          4780.0    15.0   \n3           3  Operator 1    Well 4       MBH         10654.0     1.0   \n4           4  Operator 2    Well 5       MBH          5209.0     1.0   \n\n   Township   Range  Section  Total Prop, lbs  ...  Fluid Type from DI  \\\n0        141     99       10              0.0  ...                 NaN   \n1        142     99       16         418000.0  ...                 NaN   \n2        142     99       24         568407.0  ...                 NaN   \n3        142     99        1         845000.0  ...                 NaN   \n4        142     99       35         297366.0  ...                 NaN   \n\n  SPACING_CAPPED  12 month Cum Prod  Completion Type  Sleeves  P&P  \\\n0          660.0              33.55              NaN      NaN  NaN   \n1          660.0              27.62              NaN      NaN  NaN   \n2          660.0              11.19               OH      NaN  NaN   \n3          660.0              27.85              NaN      NaN  NaN   \n4          660.0              50.88               OH      NaN  NaN   \n\n   Frac Ports Repeater Ports  CT  Year Drilled  \n0         NaN            NaN NaN        2006.0  \n1         NaN            NaN NaN        2005.0  \n2         NaN            NaN NaN        2006.0  \n3         NaN            NaN NaN        2007.0  \n4         NaN            NaN NaN        2006.0  \n\n[5 rows x 30 columns]",
      "text/html": "<div>\n<style scoped>\n    .dataframe tbody tr th:only-of-type {\n        vertical-align: middle;\n    }\n\n    .dataframe tbody tr th {\n        vertical-align: top;\n    }\n\n    .dataframe thead th {\n        text-align: right;\n    }\n</style>\n<table border=\"1\" class=\"dataframe\">\n  <thead>\n    <tr style=\"text-align: right;\">\n      <th></th>\n      <th>Unnamed: 0</th>\n      <th>Operator</th>\n      <th>Well Name</th>\n      <th>Formation</th>\n      <th>Lateral Length</th>\n      <th>Stages</th>\n      <th>Township</th>\n      <th>Range</th>\n      <th>Section</th>\n      <th>Total Prop, lbs</th>\n      <th>...</th>\n      <th>Fluid Type from DI</th>\n      <th>SPACING_CAPPED</th>\n      <th>12 month Cum Prod</th>\n      <th>Completion Type</th>\n      <th>Sleeves</th>\n      <th>P&amp;P</th>\n      <th>Frac Ports</th>\n      <th>Repeater Ports</th>\n      <th>CT</th>\n      <th>Year Drilled</th>\n    </tr>\n  </thead>\n  <tbody>\n    <tr>\n      <td>0</td>\n      <td>0</td>\n      <td>Operator 1</td>\n      <td>Well 1</td>\n      <td>MBH</td>\n      <td>5114.0</td>\n      <td>30.0</td>\n      <td>141</td>\n      <td>99</td>\n      <td>10</td>\n      <td>0.0</td>\n      <td>...</td>\n      <td>NaN</td>\n      <td>660.0</td>\n      <td>33.55</td>\n      <td>NaN</td>\n      <td>NaN</td>\n      <td>NaN</td>\n      <td>NaN</td>\n      <td>NaN</td>\n      <td>NaN</td>\n      <td>2006.0</td>\n    </tr>\n    <tr>\n      <td>1</td>\n      <td>1</td>\n      <td>Operator 2</td>\n      <td>Well 2</td>\n      <td>MBH</td>\n      <td>5181.0</td>\n      <td>NaN</td>\n      <td>142</td>\n      <td>99</td>\n      <td>16</td>\n      <td>418000.0</td>\n      <td>...</td>\n      <td>NaN</td>\n      <td>660.0</td>\n      <td>27.62</td>\n      <td>NaN</td>\n      <td>NaN</td>\n      <td>NaN</td>\n      <td>NaN</td>\n      <td>NaN</td>\n      <td>NaN</td>\n      <td>2005.0</td>\n    </tr>\n    <tr>\n      <td>2</td>\n      <td>2</td>\n      <td>Operator 2</td>\n      <td>Well 3</td>\n      <td>MBH</td>\n      <td>4780.0</td>\n      <td>15.0</td>\n      <td>142</td>\n      <td>99</td>\n      <td>24</td>\n      <td>568407.0</td>\n      <td>...</td>\n      <td>NaN</td>\n      <td>660.0</td>\n      <td>11.19</td>\n      <td>OH</td>\n      <td>NaN</td>\n      <td>NaN</td>\n      <td>NaN</td>\n      <td>NaN</td>\n      <td>NaN</td>\n      <td>2006.0</td>\n    </tr>\n    <tr>\n      <td>3</td>\n      <td>3</td>\n      <td>Operator 1</td>\n      <td>Well 4</td>\n      <td>MBH</td>\n      <td>10654.0</td>\n      <td>1.0</td>\n      <td>142</td>\n      <td>99</td>\n      <td>1</td>\n      <td>845000.0</td>\n      <td>...</td>\n      <td>NaN</td>\n      <td>660.0</td>\n      <td>27.85</td>\n      <td>NaN</td>\n      <td>NaN</td>\n      <td>NaN</td>\n      <td>NaN</td>\n      <td>NaN</td>\n      <td>NaN</td>\n      <td>2007.0</td>\n    </tr>\n    <tr>\n      <td>4</td>\n      <td>4</td>\n      <td>Operator 2</td>\n      <td>Well 5</td>\n      <td>MBH</td>\n      <td>5209.0</td>\n      <td>1.0</td>\n      <td>142</td>\n      <td>99</td>\n      <td>35</td>\n      <td>297366.0</td>\n      <td>...</td>\n      <td>NaN</td>\n      <td>660.0</td>\n      <td>50.88</td>\n      <td>OH</td>\n      <td>NaN</td>\n      <td>NaN</td>\n      <td>NaN</td>\n      <td>NaN</td>\n      <td>NaN</td>\n      <td>2006.0</td>\n    </tr>\n  </tbody>\n</table>\n<p>5 rows × 30 columns</p>\n</div>"
     },
     "metadata": {},
     "execution_count": 68
    }
   ],
   "source": [
    "#print head of cleaned dataset\n",
    "DatabaseDF = pd.read_csv(\"../CleanedDataset.csv\")\n",
    "DatabaseDF.head()"
   ]
  },
  {
   "cell_type": "code",
   "execution_count": 72,
   "metadata": {},
   "outputs": [],
   "source": [
    "#Get unique completion types \n",
    "DatabaseDF['Completion Type'].unique()\n",
    "completion_types = ['OH', 'Sleeves', 'P & P', 'Sleeves and P & P', 'Screen',\n",
    "       'Cemented Liner', 'Perforated Liner', 'Frac Ports',\n",
    "       'Frac Ports and P & P', 'Frac Ports and Repeater Ports', 'CT',\n",
    "       'P & P and CT', 'Repeater Ports and P & P']"
   ]
  },
  {
   "cell_type": "code",
   "execution_count": 81,
   "metadata": {
    "tags": []
   },
   "outputs": [],
   "source": [
    "#Create new columns for each completion type\n",
    "def add_compltype(compl_name):\n",
    "    new_column = []\n",
    "    for item in DatabaseDF['Completion Type']:\n",
    "        if item == compl_name:\n",
    "            new_column.append(item)\n",
    "        else:\n",
    "            new_column.append('NaN')\n",
    "    return new_column"
   ]
  },
  {
   "cell_type": "code",
   "execution_count": 91,
   "metadata": {},
   "outputs": [],
   "source": [
    "#Add to dataframe\n",
    "for i in completion_types: \n",
    "    DatabaseDF[i] = add_compltype(i)"
   ]
  },
  {
   "cell_type": "code",
   "execution_count": 97,
   "metadata": {},
   "outputs": [],
   "source": [
    "#Get unique completion types \n",
    "DatabaseDF['Formation'].unique()\n",
    "formation_types = ['MBH', 'TFH', 'MBH/TFH', 'TF2', 'TF4', 'TF3', 'UTFH', 'TF1',\n",
    "       'MTFH', 'TFSH', 'TF2.5']"
   ]
  },
  {
   "cell_type": "code",
   "execution_count": 98,
   "metadata": {},
   "outputs": [],
   "source": [
    "#Create new columns for each formation type\n",
    "def add_formtype(form_name):\n",
    "    new_column = []\n",
    "    for item in DatabaseDF['Formation']:\n",
    "        if item == form_name:\n",
    "            new_column.append(item)\n",
    "        else:\n",
    "            new_column.append('NaN')\n",
    "    return new_column"
   ]
  },
  {
   "cell_type": "code",
   "execution_count": 101,
   "metadata": {},
   "outputs": [],
   "source": [
    "#Add to dataframe\n",
    "for i in formation_types: \n",
    "    DatabaseDF[i] = add_formtype(i)\n"
   ]
  },
  {
   "cell_type": "code",
   "execution_count": 111,
   "metadata": {},
   "outputs": [],
   "source": [
    "#Get unique formation types \n",
    "DatabaseDF['Fluid Type from DI'].unique()\n",
    "fluid_types = ['LINEAR GEL (HC)', 'CROSSLINKED (HC)', 'SLICKWATER (HC)',\n",
    "       'SW-XL HYBRID', 'CROSSLINKED', 'UNKNOWN', 'SW-GEL HYBRID',\n",
    "       'LINEAR GEL']"
   ]
  },
  {
   "cell_type": "code",
   "execution_count": 114,
   "metadata": {},
   "outputs": [],
   "source": [
    "#Create new columns for each fluid type\n",
    "def add_fluidtype(fluid_name):\n",
    "    new_column = []\n",
    "    for item in DatabaseDF['Fluid Type from DI']:\n",
    "        if item == fluid_name:\n",
    "            new_column.append(item)\n",
    "        else:\n",
    "            new_column.append('NaN')\n",
    "    return new_column"
   ]
  },
  {
   "cell_type": "code",
   "execution_count": 115,
   "metadata": {},
   "outputs": [],
   "source": [
    "#Add to dataframe\n",
    "for i in fluid_types: \n",
    "    DatabaseDF[i] = add_fluidtype(i)"
   ]
  },
  {
   "cell_type": "code",
   "execution_count": 83,
   "metadata": {},
   "outputs": [],
   "source": [
    "#Change categorical variables to numerical values\n",
    "for i in completion_types:\n",
    "    labels = DatabaseDF[i].unique().tolist()\n",
    "    mapping = dict( zip(labels,range(len(labels))) )\n",
    "    DatabaseDF.replace({i: mapping},inplace=True)   "
   ]
  },
  {
   "cell_type": "code",
   "execution_count": 102,
   "metadata": {},
   "outputs": [],
   "source": [
    "#Change categorical variables to numerical values\n",
    "for i in formation_types:\n",
    "    labels = DatabaseDF[i].unique().tolist()\n",
    "    mapping = dict( zip(labels,range(len(labels))) )\n",
    "    DatabaseDF.replace({i: mapping},inplace=True) "
   ]
  },
  {
   "cell_type": "code",
   "execution_count": 116,
   "metadata": {},
   "outputs": [],
   "source": [
    "#Change categorical variables to numerical values\n",
    "for i in fluid_types:\n",
    "    labels = DatabaseDF[i].unique().tolist()\n",
    "    mapping = dict( zip(labels,range(len(labels))) )\n",
    "    DatabaseDF.replace({i: mapping},inplace=True) "
   ]
  },
  {
   "cell_type": "code",
   "execution_count": null,
   "metadata": {},
   "outputs": [],
   "source": [
    "#Change categorical variables to numerical values\n",
    "labels = DatabaseDF['Completion Type'].unique().tolist()\n",
    "mapping = dict( zip(labels,range(len(labels))) )\n",
    "DatabaseDF.replace({'Completion Type': mapping},inplace=True)"
   ]
  },
  {
   "cell_type": "code",
   "execution_count": 20,
   "metadata": {},
   "outputs": [],
   "source": [
    "#Change categorical variables to numerical values\n",
    "labels = DatabaseDF['Completion Type'].unique().tolist()\n",
    "mapping = dict( zip(labels,range(len(labels))) )\n",
    "DatabaseDF.replace({'Completion Type': mapping},inplace=True)"
   ]
  },
  {
   "cell_type": "code",
   "execution_count": 21,
   "metadata": {},
   "outputs": [],
   "source": [
    "#Change categorical variables to numerical values\n",
    "labels = DatabaseDF['Formation'].unique().tolist()\n",
    "mapping = dict( zip(labels,range(len(labels))) )\n",
    "DatabaseDF.replace({'Formation': mapping},inplace=True)"
   ]
  },
  {
   "cell_type": "code",
   "execution_count": 22,
   "metadata": {},
   "outputs": [],
   "source": [
    "#Change categorical variables to numerical values\n",
    "labels = DatabaseDF['Operator'].unique().tolist()\n",
    "mapping = dict( zip(labels,range(len(labels))) )\n",
    "DatabaseDF.replace({'Operator': mapping},inplace=True)"
   ]
  },
  {
   "cell_type": "code",
   "execution_count": 23,
   "metadata": {},
   "outputs": [],
   "source": [
    "#Change categorical variables to numerical values\n",
    "labels = DatabaseDF['Fluid Type from DI'].unique().tolist()\n",
    "mapping = dict( zip(labels,range(len(labels))) )\n",
    "DatabaseDF.replace({'Fluid Type from DI': mapping},inplace=True)"
   ]
  },
  {
   "cell_type": "code",
   "execution_count": 24,
   "metadata": {},
   "outputs": [],
   "source": [
    "#Change categorical variables to numerical values\n",
    "labels = DatabaseDF['Date Fracd'].unique().tolist()\n",
    "mapping = dict( zip(labels,range(len(labels))) )\n",
    "DatabaseDF.replace({'Date Fracd': mapping},inplace=True)"
   ]
  },
  {
   "cell_type": "code",
   "execution_count": 86,
   "metadata": {},
   "outputs": [
    {
     "output_type": "execute_result",
     "data": {
      "text/plain": "   Unnamed: 0    Operator Well Name Formation  Lateral Length  Stages  \\\n0           0  Operator 1    Well 1       MBH          5114.0    30.0   \n1           1  Operator 2    Well 2       MBH          5181.0     NaN   \n2           2  Operator 2    Well 3       MBH          4780.0    15.0   \n3           3  Operator 1    Well 4       MBH         10654.0     1.0   \n4           4  Operator 2    Well 5       MBH          5209.0     1.0   \n\n   Township   Range  Section  Total Prop, lbs  ...  OH P & P  \\\n0        141     99       10              0.0  ...   0     0   \n1        142     99       16         418000.0  ...   0     0   \n2        142     99       24         568407.0  ...   1     0   \n3        142     99        1         845000.0  ...   0     0   \n4        142     99       35         297366.0  ...   1     0   \n\n   Sleeves and P & P  Screen  Cemented Liner  Perforated Liner  \\\n0                  0       0               0                 0   \n1                  0       0               0                 0   \n2                  0       0               0                 0   \n3                  0       0               0                 0   \n4                  0       0               0                 0   \n\n   Frac Ports and P & P Frac Ports and Repeater Ports  P & P and CT  \\\n0                     0                             0             0   \n1                     0                             0             0   \n2                     0                             0             0   \n3                     0                             0             0   \n4                     0                             0             0   \n\n   Repeater Ports and P & P  \n0                         0  \n1                         0  \n2                         0  \n3                         0  \n4                         0  \n\n[5 rows x 40 columns]",
      "text/html": "<div>\n<style scoped>\n    .dataframe tbody tr th:only-of-type {\n        vertical-align: middle;\n    }\n\n    .dataframe tbody tr th {\n        vertical-align: top;\n    }\n\n    .dataframe thead th {\n        text-align: right;\n    }\n</style>\n<table border=\"1\" class=\"dataframe\">\n  <thead>\n    <tr style=\"text-align: right;\">\n      <th></th>\n      <th>Unnamed: 0</th>\n      <th>Operator</th>\n      <th>Well Name</th>\n      <th>Formation</th>\n      <th>Lateral Length</th>\n      <th>Stages</th>\n      <th>Township</th>\n      <th>Range</th>\n      <th>Section</th>\n      <th>Total Prop, lbs</th>\n      <th>...</th>\n      <th>OH</th>\n      <th>P &amp; P</th>\n      <th>Sleeves and P &amp; P</th>\n      <th>Screen</th>\n      <th>Cemented Liner</th>\n      <th>Perforated Liner</th>\n      <th>Frac Ports and P &amp; P</th>\n      <th>Frac Ports and Repeater Ports</th>\n      <th>P &amp; P and CT</th>\n      <th>Repeater Ports and P &amp; P</th>\n    </tr>\n  </thead>\n  <tbody>\n    <tr>\n      <td>0</td>\n      <td>0</td>\n      <td>Operator 1</td>\n      <td>Well 1</td>\n      <td>MBH</td>\n      <td>5114.0</td>\n      <td>30.0</td>\n      <td>141</td>\n      <td>99</td>\n      <td>10</td>\n      <td>0.0</td>\n      <td>...</td>\n      <td>0</td>\n      <td>0</td>\n      <td>0</td>\n      <td>0</td>\n      <td>0</td>\n      <td>0</td>\n      <td>0</td>\n      <td>0</td>\n      <td>0</td>\n      <td>0</td>\n    </tr>\n    <tr>\n      <td>1</td>\n      <td>1</td>\n      <td>Operator 2</td>\n      <td>Well 2</td>\n      <td>MBH</td>\n      <td>5181.0</td>\n      <td>NaN</td>\n      <td>142</td>\n      <td>99</td>\n      <td>16</td>\n      <td>418000.0</td>\n      <td>...</td>\n      <td>0</td>\n      <td>0</td>\n      <td>0</td>\n      <td>0</td>\n      <td>0</td>\n      <td>0</td>\n      <td>0</td>\n      <td>0</td>\n      <td>0</td>\n      <td>0</td>\n    </tr>\n    <tr>\n      <td>2</td>\n      <td>2</td>\n      <td>Operator 2</td>\n      <td>Well 3</td>\n      <td>MBH</td>\n      <td>4780.0</td>\n      <td>15.0</td>\n      <td>142</td>\n      <td>99</td>\n      <td>24</td>\n      <td>568407.0</td>\n      <td>...</td>\n      <td>1</td>\n      <td>0</td>\n      <td>0</td>\n      <td>0</td>\n      <td>0</td>\n      <td>0</td>\n      <td>0</td>\n      <td>0</td>\n      <td>0</td>\n      <td>0</td>\n    </tr>\n    <tr>\n      <td>3</td>\n      <td>3</td>\n      <td>Operator 1</td>\n      <td>Well 4</td>\n      <td>MBH</td>\n      <td>10654.0</td>\n      <td>1.0</td>\n      <td>142</td>\n      <td>99</td>\n      <td>1</td>\n      <td>845000.0</td>\n      <td>...</td>\n      <td>0</td>\n      <td>0</td>\n      <td>0</td>\n      <td>0</td>\n      <td>0</td>\n      <td>0</td>\n      <td>0</td>\n      <td>0</td>\n      <td>0</td>\n      <td>0</td>\n    </tr>\n    <tr>\n      <td>4</td>\n      <td>4</td>\n      <td>Operator 2</td>\n      <td>Well 5</td>\n      <td>MBH</td>\n      <td>5209.0</td>\n      <td>1.0</td>\n      <td>142</td>\n      <td>99</td>\n      <td>35</td>\n      <td>297366.0</td>\n      <td>...</td>\n      <td>1</td>\n      <td>0</td>\n      <td>0</td>\n      <td>0</td>\n      <td>0</td>\n      <td>0</td>\n      <td>0</td>\n      <td>0</td>\n      <td>0</td>\n      <td>0</td>\n    </tr>\n  </tbody>\n</table>\n<p>5 rows × 40 columns</p>\n</div>"
     },
     "metadata": {},
     "execution_count": 86
    }
   ],
   "source": [
    "#new dataframe with replaced values\n",
    "DatabaseDF.head()"
   ]
  },
  {
   "cell_type": "markdown",
   "metadata": {},
   "source": [
    "# Spider (Radar) Chart: Definition"
   ]
  },
  {
   "cell_type": "markdown",
   "metadata": {},
   "source": [
    "A radar chart is used primarily in fields such as Business to compare various quantitative variables in a dataset. The chart has multiple radii, where each radius represents one variable. The magnitude of the variable is represented by the length of the radius. The longer the radius, the more of an effect the variable has. In this notebook specifically, a longer radius represents a variable more correlated to the cumulative production."
   ]
  },
  {
   "cell_type": "markdown",
   "metadata": {},
   "source": [
    "The Radar Chart is a useful tool to visualize how the features in our dataset affect each other and the oil production, and will help us with feature selection because we can narrow down the variables and focus on the ones that seem the most impactful. "
   ]
  },
  {
   "cell_type": "markdown",
   "metadata": {},
   "source": [
    "This notebook will use different correlation coefficients, such as Pearson, Spearman's and Kendall, to analyze variables with the radar charts."
   ]
  },
  {
   "cell_type": "markdown",
   "metadata": {},
   "source": [
    "## Spearman's Rank Correlation"
   ]
  },
  {
   "cell_type": "code",
   "execution_count": 117,
   "metadata": {},
   "outputs": [
    {
     "output_type": "execute_result",
     "data": {
      "text/plain": "                   Unnamed: 0  Lateral Length    Stages  Township      Range  \\\nUnnamed: 0           1.000000        0.077660  0.232800   0.381223  0.006677   \nLateral Length       0.077660        1.000000  0.435665   0.018391  0.181624   \nStages               0.232800        0.435665  1.000000   0.052379  0.162301   \nTownship             0.381223        0.018391  0.052379   1.000000 -0.018511   \nRange                0.006677        0.181624  0.162301  -0.018511  1.000000   \nSection             -0.049775       -0.030477  0.029076   0.025329 -0.020666   \nTotal Prop, lbs      0.243052        0.326196  0.658696   0.010163  0.133176   \nFluid, bbls          0.198040        0.307917  0.630845  -0.021137  0.274213   \nBest1 Mo BOPD        0.127087        0.141420  0.251405  -0.174974 -0.121818   \nBest3 Mo BOPD        0.129392        0.142319  0.244439  -0.165998 -0.144633   \nBest6 Mo BOPD        0.138687        0.138227  0.236417  -0.159837 -0.168528   \nBest9 Mo BOPD        0.153217        0.137477  0.230398  -0.149234 -0.178319   \nBest12 Mo BOPD       0.161778        0.138404  0.221871  -0.138549 -0.192458   \nLatitude             0.385105        0.021630  0.050454   0.997491 -0.014452   \nLongitude           -0.044463       -0.185652 -0.171085  -0.123387 -0.983496   \nSPACING_CAPPED      -0.118379       -0.184828 -0.291524   0.036315 -0.020250   \n12 month Cum Prod    0.145759        0.177257  0.340166  -0.165085 -0.157996   \nP&P                  0.178904        0.424934  0.877969   0.022196  0.162309   \nRepeater Ports       0.666886        0.872082  0.229416   0.666886  0.648886   \nYear Drilled         0.184971        0.312223  0.648229  -0.039493  0.167011   \nMBH                 -0.051943        0.115336  0.101861   0.015934  0.050735   \nTFH                 -0.061742        0.108276  0.094407   0.014997  0.056587   \nMBH/TFH              0.004799       -0.008691 -0.073885   0.056160 -0.055699   \nTF2                  0.015539        0.038545  0.055032  -0.017867  0.009521   \nTF4                 -0.005993       -0.002948  0.011556  -0.013431 -0.001031   \nTF3                  0.004328        0.004490  0.016079  -0.013144  0.008649   \nUTFH                -0.001391       -0.004196  0.018444  -0.013101  0.002869   \nTF1                  0.039547        0.007882  0.039493  -0.006984  0.004279   \nMTFH                 0.000971        0.010316  0.021405  -0.009303  0.002342   \nTFSH                 0.001260        0.026483  0.023003  -0.010696  0.002342   \nTF2.5                0.022539       -0.009038 -0.006736   0.007625  0.009387   \nLINEAR GEL (HC)      0.057226        0.078654  0.159467  -0.039202 -0.015171   \nCROSSLINKED (HC)     0.019071        0.061182  0.125547  -0.049507  0.013520   \nSLICKWATER (HC)      0.061320        0.109113  0.227036   0.039234  0.118690   \nSW-XL HYBRID         0.004895        0.009412  0.021138  -0.010645  0.011411   \nCROSSLINKED         -0.020744       -0.005954 -0.007845   0.001628 -0.007704   \nUNKNOWN             -0.030026       -0.004929 -0.016621  -0.020923 -0.000586   \nSW-GEL HYBRID        0.038083       -0.000686  0.073999  -0.001685 -0.000210   \nLINEAR GEL           0.000620        0.011437  0.005156  -0.000823  0.006638   \n\n                    Section  Total Prop, lbs  Fluid, bbls  Best1 Mo BOPD  \\\nUnnamed: 0        -0.049775         0.243052     0.198040       0.127087   \nLateral Length    -0.030477         0.326196     0.307917       0.141420   \nStages             0.029076         0.658696     0.630845       0.251405   \nTownship           0.025329         0.010163    -0.021137      -0.174974   \nRange             -0.020666         0.133176     0.274213      -0.121818   \nSection            1.000000         0.025029     0.021621       0.018478   \nTotal Prop, lbs    0.025029         1.000000     0.856374       0.320731   \nFluid, bbls        0.021621         0.856374     1.000000       0.282209   \nBest1 Mo BOPD      0.018478         0.320731     0.282209       1.000000   \nBest3 Mo BOPD      0.016098         0.331295     0.291956       0.970644   \nBest6 Mo BOPD      0.014221         0.341549     0.303256       0.944792   \nBest9 Mo BOPD      0.008519         0.340211     0.300534       0.933109   \nBest12 Mo BOPD     0.005373         0.332345     0.289592       0.925056   \nLatitude          -0.036515         0.008453    -0.022095      -0.177390   \nLongitude          0.017142        -0.136473    -0.272063       0.139445   \nSPACING_CAPPED    -0.017271        -0.279404    -0.289765      -0.220560   \n12 month Cum Prod  0.010521         0.440060     0.401960       0.891192   \nP&P                0.009927         0.615773     0.629173       0.188430   \nRepeater Ports    -0.205196         0.564288    -0.205196      -0.820783   \nYear Drilled       0.032135         0.611360     0.649717       0.206711   \nMBH                0.008082         0.029500     0.081115      -0.125985   \nTFH               -0.001453         0.019226     0.067800      -0.115334   \nMBH/TFH            0.027202        -0.080496    -0.074377      -0.049424   \nTF2                0.021287         0.072244     0.074781      -0.001950   \nTF4               -0.006792         0.010407     0.007899      -0.017772   \nTF3               -0.004348         0.017645     0.021274      -0.016634   \nUTFH               0.000388         0.026818     0.019686            NaN   \nTF1                0.013688         0.054334     0.062269      -0.032148   \nMTFH               0.005639         0.020779     0.012372            NaN   \nTFSH               0.006945         0.021304     0.012518            NaN   \nTF2.5              0.011483         0.002971     0.012623       0.003120   \nLINEAR GEL (HC)   -0.010705         0.139204     0.070029       0.061400   \nCROSSLINKED (HC)  -0.001290         0.104947     0.062232       0.049589   \nSLICKWATER (HC)    0.029044         0.207161     0.349156       0.025990   \nSW-XL HYBRID       0.005170         0.031696     0.024539       0.034229   \nCROSSLINKED        0.001748        -0.025065    -0.009865      -0.020927   \nUNKNOWN            0.007779        -0.026543     0.005413      -0.034659   \nSW-GEL HYBRID      0.003863         0.099986     0.107340       0.015306   \nLINEAR GEL        -0.009350         0.014902     0.015552            NaN   \n\n                   Best3 Mo BOPD  ...      TFSH     TF2.5  LINEAR GEL (HC)  \\\nUnnamed: 0              0.129392  ...  0.001260  0.022539         0.057226   \nLateral Length          0.142319  ...  0.026483 -0.009038         0.078654   \nStages                  0.244439  ...  0.023003 -0.006736         0.159467   \nTownship               -0.165998  ... -0.010696  0.007625        -0.039202   \nRange                  -0.144633  ...  0.002342  0.009387        -0.015171   \nSection                 0.016098  ...  0.006945  0.011483        -0.010705   \nTotal Prop, lbs         0.331295  ...  0.021304  0.002971         0.139204   \nFluid, bbls             0.291956  ...  0.012518  0.012623         0.070029   \nBest1 Mo BOPD           0.970644  ...       NaN  0.003120         0.061400   \nBest3 Mo BOPD           1.000000  ...       NaN  0.003279         0.056196   \nBest6 Mo BOPD           0.989274  ...       NaN  0.003355         0.050724   \nBest9 Mo BOPD           0.978951  ...       NaN  0.002237         0.046220   \nBest12 Mo BOPD          0.971408  ...       NaN  0.002209         0.046088   \nLatitude               -0.168382  ... -0.011297  0.006447        -0.038578   \nLongitude               0.161616  ... -0.001138 -0.010164         0.019035   \nSPACING_CAPPED         -0.225671  ... -0.030194 -0.022420        -0.094313   \n12 month Cum Prod       0.937187  ...  0.014267 -0.000406         0.070692   \nP&P                     0.202089  ...       NaN -0.011428         0.119268   \nRepeater Ports         -0.666886  ...       NaN       NaN              NaN   \nYear Drilled            0.206136  ...  0.026054  0.002664         0.195969   \nMBH                    -0.126670  ...  0.026209  0.018531         0.014929   \nTFH                    -0.116783  ... -0.013456 -0.009514         0.007114   \nMBH/TFH                -0.050555  ... -0.001407 -0.000995        -0.012811   \nTF2                    -0.001987  ... -0.001675 -0.001184         0.040131   \nTF4                    -0.017825  ... -0.000261 -0.000184        -0.005182   \nTF3                    -0.014959  ... -0.000738 -0.000522         0.028570   \nUTFH                         NaN  ... -0.000451 -0.000319         0.014547   \nTF1                    -0.023644  ... -0.001060 -0.000750        -0.006016   \nMTFH                         NaN  ... -0.000369 -0.000261         0.021479   \nTFSH                         NaN  ...  1.000000 -0.000261        -0.007330   \nTF2.5                   0.003279  ... -0.000261  1.000000        -0.005182   \nLINEAR GEL (HC)         0.056196  ... -0.007330 -0.005182         1.000000   \nCROSSLINKED (HC)        0.047828  ...  0.040178  0.028408        -0.182428   \nSLICKWATER (HC)         0.023848  ... -0.007481 -0.005289        -0.148760   \nSW-XL HYBRID            0.033656  ... -0.001685 -0.001191        -0.033510   \nCROSSLINKED            -0.018775  ... -0.000976 -0.000690        -0.019414   \nUNKNOWN                -0.033351  ... -0.000665 -0.000470        -0.013219   \nSW-GEL HYBRID           0.006223  ... -0.002072 -0.001465        -0.041204   \nLINEAR GEL                   NaN  ... -0.000184 -0.000130        -0.003664   \n\n                   CROSSLINKED (HC)  SLICKWATER (HC)  SW-XL HYBRID  \\\nUnnamed: 0                 0.019071         0.061320      0.004895   \nLateral Length             0.061182         0.109113      0.009412   \nStages                     0.125547         0.227036      0.021138   \nTownship                  -0.049507         0.039234     -0.010645   \nRange                      0.013520         0.118690      0.011411   \nSection                   -0.001290         0.029044      0.005170   \nTotal Prop, lbs            0.104947         0.207161      0.031696   \nFluid, bbls                0.062232         0.349156      0.024539   \nBest1 Mo BOPD              0.049589         0.025990      0.034229   \nBest3 Mo BOPD              0.047828         0.023848      0.033656   \nBest6 Mo BOPD              0.037254         0.034138      0.033093   \nBest9 Mo BOPD              0.024077         0.032382      0.032571   \nBest12 Mo BOPD             0.017215         0.018902      0.035771   \nLatitude                  -0.050248         0.037867     -0.010891   \nLongitude                 -0.011298        -0.123048     -0.010386   \nSPACING_CAPPED            -0.137047        -0.096519     -0.037797   \n12 month Cum Prod          0.037795         0.119466      0.017188   \nP&P                       -0.019703         0.293924      0.023180   \nRepeater Ports                  NaN              NaN           NaN   \nYear Drilled               0.216704         0.345588      0.028539   \nMBH                        0.089059         0.037289      0.024437   \nTFH                        0.082255         0.031067      0.023985   \nMBH/TFH                    0.010454        -0.024822     -0.006433   \nTF2                        0.018480         0.013181      0.016771   \nTF4                        0.010961        -0.005289     -0.001191   \nTF3                        0.000159         0.006324     -0.003372   \nUTFH                       0.029063        -0.009163     -0.002064   \nTF1                       -0.013482         0.072463     -0.004847   \nMTFH                      -0.009174        -0.007481     -0.001685   \nTFSH                       0.040178        -0.007481     -0.001685   \nTF2.5                      0.028408        -0.005289     -0.001191   \nLINEAR GEL (HC)           -0.182428        -0.148760     -0.033510   \nCROSSLINKED (HC)           1.000000        -0.186193     -0.041942   \nSLICKWATER (HC)           -0.186193         1.000000     -0.034202   \nSW-XL HYBRID              -0.041942        -0.034202      1.000000   \nCROSSLINKED               -0.024299        -0.019815     -0.004464   \nUNKNOWN                   -0.016546        -0.013492     -0.003039   \nSW-GEL HYBRID             -0.051573        -0.042055     -0.009473   \nLINEAR GEL                -0.004586        -0.003740     -0.000842   \n\n                   CROSSLINKED   UNKNOWN  SW-GEL HYBRID  LINEAR GEL  \nUnnamed: 0           -0.020744 -0.030026       0.038083    0.000620  \nLateral Length       -0.005954 -0.004929      -0.000686    0.011437  \nStages               -0.007845 -0.016621       0.073999    0.005156  \nTownship              0.001628 -0.020923      -0.001685   -0.000823  \nRange                -0.007704 -0.000586      -0.000210    0.006638  \nSection               0.001748  0.007779       0.003863   -0.009350  \nTotal Prop, lbs      -0.025065 -0.026543       0.099986    0.014902  \nFluid, bbls          -0.009865  0.005413       0.107340    0.015552  \nBest1 Mo BOPD        -0.020927 -0.034659       0.015306         NaN  \nBest3 Mo BOPD        -0.018775 -0.033351       0.006223         NaN  \nBest6 Mo BOPD        -0.019192 -0.031668       0.001151         NaN  \nBest9 Mo BOPD        -0.021551 -0.030407       0.003240         NaN  \nBest12 Mo BOPD       -0.021149 -0.030126       0.001103         NaN  \nLatitude              0.001799 -0.020734      -0.002154    0.000057  \nLongitude             0.005782  0.007438       0.001483   -0.006945  \nSPACING_CAPPED        0.015689  0.024971       0.017408   -0.011473  \n12 month Cum Prod    -0.025103 -0.033301       0.032624    0.014108  \nP&P                  -0.001264       NaN       0.062630    0.007387  \nRepeater Ports             NaN       NaN            NaN         NaN  \nYear Drilled         -0.014371 -0.014586       0.087243    0.015908  \nMBH                  -0.006773 -0.019777      -0.039214    0.013103  \nTFH                  -0.008591 -0.018601      -0.040738    0.013695  \nMBH/TFH               0.021186 -0.002538      -0.007910   -0.000703  \nTF2                  -0.004436 -0.003021       0.010529   -0.000837  \nTF4                  -0.000690 -0.000470      -0.001465   -0.000130  \nTF3                  -0.001954 -0.001330      -0.004146   -0.000369  \nUTFH                 -0.001196 -0.000814      -0.002538   -0.000226  \nTF1                  -0.002808 -0.001912      -0.005960   -0.000530  \nMTFH                 -0.000976 -0.000665      -0.002072   -0.000184  \nTFSH                 -0.000976 -0.000665      -0.002072   -0.000184  \nTF2.5                -0.000690 -0.000470      -0.001465   -0.000130  \nLINEAR GEL (HC)      -0.019414 -0.013219      -0.041204   -0.003664  \nCROSSLINKED (HC)     -0.024299 -0.016546      -0.051573   -0.004586  \nSLICKWATER (HC)      -0.019815 -0.013492      -0.042055   -0.003740  \nSW-XL HYBRID         -0.004464 -0.003039      -0.009473   -0.000842  \nCROSSLINKED           1.000000 -0.001761      -0.005488   -0.000488  \nUNKNOWN              -0.001761  1.000000      -0.003737   -0.000332  \nSW-GEL HYBRID        -0.005488 -0.003737       1.000000   -0.001036  \nLINEAR GEL           -0.000488 -0.000332      -0.001036    1.000000  \n\n[39 rows x 39 columns]",
      "text/html": "<div>\n<style scoped>\n    .dataframe tbody tr th:only-of-type {\n        vertical-align: middle;\n    }\n\n    .dataframe tbody tr th {\n        vertical-align: top;\n    }\n\n    .dataframe thead th {\n        text-align: right;\n    }\n</style>\n<table border=\"1\" class=\"dataframe\">\n  <thead>\n    <tr style=\"text-align: right;\">\n      <th></th>\n      <th>Unnamed: 0</th>\n      <th>Lateral Length</th>\n      <th>Stages</th>\n      <th>Township</th>\n      <th>Range</th>\n      <th>Section</th>\n      <th>Total Prop, lbs</th>\n      <th>Fluid, bbls</th>\n      <th>Best1 Mo BOPD</th>\n      <th>Best3 Mo BOPD</th>\n      <th>...</th>\n      <th>TFSH</th>\n      <th>TF2.5</th>\n      <th>LINEAR GEL (HC)</th>\n      <th>CROSSLINKED (HC)</th>\n      <th>SLICKWATER (HC)</th>\n      <th>SW-XL HYBRID</th>\n      <th>CROSSLINKED</th>\n      <th>UNKNOWN</th>\n      <th>SW-GEL HYBRID</th>\n      <th>LINEAR GEL</th>\n    </tr>\n  </thead>\n  <tbody>\n    <tr>\n      <td>Unnamed: 0</td>\n      <td>1.000000</td>\n      <td>0.077660</td>\n      <td>0.232800</td>\n      <td>0.381223</td>\n      <td>0.006677</td>\n      <td>-0.049775</td>\n      <td>0.243052</td>\n      <td>0.198040</td>\n      <td>0.127087</td>\n      <td>0.129392</td>\n      <td>...</td>\n      <td>0.001260</td>\n      <td>0.022539</td>\n      <td>0.057226</td>\n      <td>0.019071</td>\n      <td>0.061320</td>\n      <td>0.004895</td>\n      <td>-0.020744</td>\n      <td>-0.030026</td>\n      <td>0.038083</td>\n      <td>0.000620</td>\n    </tr>\n    <tr>\n      <td>Lateral Length</td>\n      <td>0.077660</td>\n      <td>1.000000</td>\n      <td>0.435665</td>\n      <td>0.018391</td>\n      <td>0.181624</td>\n      <td>-0.030477</td>\n      <td>0.326196</td>\n      <td>0.307917</td>\n      <td>0.141420</td>\n      <td>0.142319</td>\n      <td>...</td>\n      <td>0.026483</td>\n      <td>-0.009038</td>\n      <td>0.078654</td>\n      <td>0.061182</td>\n      <td>0.109113</td>\n      <td>0.009412</td>\n      <td>-0.005954</td>\n      <td>-0.004929</td>\n      <td>-0.000686</td>\n      <td>0.011437</td>\n    </tr>\n    <tr>\n      <td>Stages</td>\n      <td>0.232800</td>\n      <td>0.435665</td>\n      <td>1.000000</td>\n      <td>0.052379</td>\n      <td>0.162301</td>\n      <td>0.029076</td>\n      <td>0.658696</td>\n      <td>0.630845</td>\n      <td>0.251405</td>\n      <td>0.244439</td>\n      <td>...</td>\n      <td>0.023003</td>\n      <td>-0.006736</td>\n      <td>0.159467</td>\n      <td>0.125547</td>\n      <td>0.227036</td>\n      <td>0.021138</td>\n      <td>-0.007845</td>\n      <td>-0.016621</td>\n      <td>0.073999</td>\n      <td>0.005156</td>\n    </tr>\n    <tr>\n      <td>Township</td>\n      <td>0.381223</td>\n      <td>0.018391</td>\n      <td>0.052379</td>\n      <td>1.000000</td>\n      <td>-0.018511</td>\n      <td>0.025329</td>\n      <td>0.010163</td>\n      <td>-0.021137</td>\n      <td>-0.174974</td>\n      <td>-0.165998</td>\n      <td>...</td>\n      <td>-0.010696</td>\n      <td>0.007625</td>\n      <td>-0.039202</td>\n      <td>-0.049507</td>\n      <td>0.039234</td>\n      <td>-0.010645</td>\n      <td>0.001628</td>\n      <td>-0.020923</td>\n      <td>-0.001685</td>\n      <td>-0.000823</td>\n    </tr>\n    <tr>\n      <td>Range</td>\n      <td>0.006677</td>\n      <td>0.181624</td>\n      <td>0.162301</td>\n      <td>-0.018511</td>\n      <td>1.000000</td>\n      <td>-0.020666</td>\n      <td>0.133176</td>\n      <td>0.274213</td>\n      <td>-0.121818</td>\n      <td>-0.144633</td>\n      <td>...</td>\n      <td>0.002342</td>\n      <td>0.009387</td>\n      <td>-0.015171</td>\n      <td>0.013520</td>\n      <td>0.118690</td>\n      <td>0.011411</td>\n      <td>-0.007704</td>\n      <td>-0.000586</td>\n      <td>-0.000210</td>\n      <td>0.006638</td>\n    </tr>\n    <tr>\n      <td>Section</td>\n      <td>-0.049775</td>\n      <td>-0.030477</td>\n      <td>0.029076</td>\n      <td>0.025329</td>\n      <td>-0.020666</td>\n      <td>1.000000</td>\n      <td>0.025029</td>\n      <td>0.021621</td>\n      <td>0.018478</td>\n      <td>0.016098</td>\n      <td>...</td>\n      <td>0.006945</td>\n      <td>0.011483</td>\n      <td>-0.010705</td>\n      <td>-0.001290</td>\n      <td>0.029044</td>\n      <td>0.005170</td>\n      <td>0.001748</td>\n      <td>0.007779</td>\n      <td>0.003863</td>\n      <td>-0.009350</td>\n    </tr>\n    <tr>\n      <td>Total Prop, lbs</td>\n      <td>0.243052</td>\n      <td>0.326196</td>\n      <td>0.658696</td>\n      <td>0.010163</td>\n      <td>0.133176</td>\n      <td>0.025029</td>\n      <td>1.000000</td>\n      <td>0.856374</td>\n      <td>0.320731</td>\n      <td>0.331295</td>\n      <td>...</td>\n      <td>0.021304</td>\n      <td>0.002971</td>\n      <td>0.139204</td>\n      <td>0.104947</td>\n      <td>0.207161</td>\n      <td>0.031696</td>\n      <td>-0.025065</td>\n      <td>-0.026543</td>\n      <td>0.099986</td>\n      <td>0.014902</td>\n    </tr>\n    <tr>\n      <td>Fluid, bbls</td>\n      <td>0.198040</td>\n      <td>0.307917</td>\n      <td>0.630845</td>\n      <td>-0.021137</td>\n      <td>0.274213</td>\n      <td>0.021621</td>\n      <td>0.856374</td>\n      <td>1.000000</td>\n      <td>0.282209</td>\n      <td>0.291956</td>\n      <td>...</td>\n      <td>0.012518</td>\n      <td>0.012623</td>\n      <td>0.070029</td>\n      <td>0.062232</td>\n      <td>0.349156</td>\n      <td>0.024539</td>\n      <td>-0.009865</td>\n      <td>0.005413</td>\n      <td>0.107340</td>\n      <td>0.015552</td>\n    </tr>\n    <tr>\n      <td>Best1 Mo BOPD</td>\n      <td>0.127087</td>\n      <td>0.141420</td>\n      <td>0.251405</td>\n      <td>-0.174974</td>\n      <td>-0.121818</td>\n      <td>0.018478</td>\n      <td>0.320731</td>\n      <td>0.282209</td>\n      <td>1.000000</td>\n      <td>0.970644</td>\n      <td>...</td>\n      <td>NaN</td>\n      <td>0.003120</td>\n      <td>0.061400</td>\n      <td>0.049589</td>\n      <td>0.025990</td>\n      <td>0.034229</td>\n      <td>-0.020927</td>\n      <td>-0.034659</td>\n      <td>0.015306</td>\n      <td>NaN</td>\n    </tr>\n    <tr>\n      <td>Best3 Mo BOPD</td>\n      <td>0.129392</td>\n      <td>0.142319</td>\n      <td>0.244439</td>\n      <td>-0.165998</td>\n      <td>-0.144633</td>\n      <td>0.016098</td>\n      <td>0.331295</td>\n      <td>0.291956</td>\n      <td>0.970644</td>\n      <td>1.000000</td>\n      <td>...</td>\n      <td>NaN</td>\n      <td>0.003279</td>\n      <td>0.056196</td>\n      <td>0.047828</td>\n      <td>0.023848</td>\n      <td>0.033656</td>\n      <td>-0.018775</td>\n      <td>-0.033351</td>\n      <td>0.006223</td>\n      <td>NaN</td>\n    </tr>\n    <tr>\n      <td>Best6 Mo BOPD</td>\n      <td>0.138687</td>\n      <td>0.138227</td>\n      <td>0.236417</td>\n      <td>-0.159837</td>\n      <td>-0.168528</td>\n      <td>0.014221</td>\n      <td>0.341549</td>\n      <td>0.303256</td>\n      <td>0.944792</td>\n      <td>0.989274</td>\n      <td>...</td>\n      <td>NaN</td>\n      <td>0.003355</td>\n      <td>0.050724</td>\n      <td>0.037254</td>\n      <td>0.034138</td>\n      <td>0.033093</td>\n      <td>-0.019192</td>\n      <td>-0.031668</td>\n      <td>0.001151</td>\n      <td>NaN</td>\n    </tr>\n    <tr>\n      <td>Best9 Mo BOPD</td>\n      <td>0.153217</td>\n      <td>0.137477</td>\n      <td>0.230398</td>\n      <td>-0.149234</td>\n      <td>-0.178319</td>\n      <td>0.008519</td>\n      <td>0.340211</td>\n      <td>0.300534</td>\n      <td>0.933109</td>\n      <td>0.978951</td>\n      <td>...</td>\n      <td>NaN</td>\n      <td>0.002237</td>\n      <td>0.046220</td>\n      <td>0.024077</td>\n      <td>0.032382</td>\n      <td>0.032571</td>\n      <td>-0.021551</td>\n      <td>-0.030407</td>\n      <td>0.003240</td>\n      <td>NaN</td>\n    </tr>\n    <tr>\n      <td>Best12 Mo BOPD</td>\n      <td>0.161778</td>\n      <td>0.138404</td>\n      <td>0.221871</td>\n      <td>-0.138549</td>\n      <td>-0.192458</td>\n      <td>0.005373</td>\n      <td>0.332345</td>\n      <td>0.289592</td>\n      <td>0.925056</td>\n      <td>0.971408</td>\n      <td>...</td>\n      <td>NaN</td>\n      <td>0.002209</td>\n      <td>0.046088</td>\n      <td>0.017215</td>\n      <td>0.018902</td>\n      <td>0.035771</td>\n      <td>-0.021149</td>\n      <td>-0.030126</td>\n      <td>0.001103</td>\n      <td>NaN</td>\n    </tr>\n    <tr>\n      <td>Latitude</td>\n      <td>0.385105</td>\n      <td>0.021630</td>\n      <td>0.050454</td>\n      <td>0.997491</td>\n      <td>-0.014452</td>\n      <td>-0.036515</td>\n      <td>0.008453</td>\n      <td>-0.022095</td>\n      <td>-0.177390</td>\n      <td>-0.168382</td>\n      <td>...</td>\n      <td>-0.011297</td>\n      <td>0.006447</td>\n      <td>-0.038578</td>\n      <td>-0.050248</td>\n      <td>0.037867</td>\n      <td>-0.010891</td>\n      <td>0.001799</td>\n      <td>-0.020734</td>\n      <td>-0.002154</td>\n      <td>0.000057</td>\n    </tr>\n    <tr>\n      <td>Longitude</td>\n      <td>-0.044463</td>\n      <td>-0.185652</td>\n      <td>-0.171085</td>\n      <td>-0.123387</td>\n      <td>-0.983496</td>\n      <td>0.017142</td>\n      <td>-0.136473</td>\n      <td>-0.272063</td>\n      <td>0.139445</td>\n      <td>0.161616</td>\n      <td>...</td>\n      <td>-0.001138</td>\n      <td>-0.010164</td>\n      <td>0.019035</td>\n      <td>-0.011298</td>\n      <td>-0.123048</td>\n      <td>-0.010386</td>\n      <td>0.005782</td>\n      <td>0.007438</td>\n      <td>0.001483</td>\n      <td>-0.006945</td>\n    </tr>\n    <tr>\n      <td>SPACING_CAPPED</td>\n      <td>-0.118379</td>\n      <td>-0.184828</td>\n      <td>-0.291524</td>\n      <td>0.036315</td>\n      <td>-0.020250</td>\n      <td>-0.017271</td>\n      <td>-0.279404</td>\n      <td>-0.289765</td>\n      <td>-0.220560</td>\n      <td>-0.225671</td>\n      <td>...</td>\n      <td>-0.030194</td>\n      <td>-0.022420</td>\n      <td>-0.094313</td>\n      <td>-0.137047</td>\n      <td>-0.096519</td>\n      <td>-0.037797</td>\n      <td>0.015689</td>\n      <td>0.024971</td>\n      <td>0.017408</td>\n      <td>-0.011473</td>\n    </tr>\n    <tr>\n      <td>12 month Cum Prod</td>\n      <td>0.145759</td>\n      <td>0.177257</td>\n      <td>0.340166</td>\n      <td>-0.165085</td>\n      <td>-0.157996</td>\n      <td>0.010521</td>\n      <td>0.440060</td>\n      <td>0.401960</td>\n      <td>0.891192</td>\n      <td>0.937187</td>\n      <td>...</td>\n      <td>0.014267</td>\n      <td>-0.000406</td>\n      <td>0.070692</td>\n      <td>0.037795</td>\n      <td>0.119466</td>\n      <td>0.017188</td>\n      <td>-0.025103</td>\n      <td>-0.033301</td>\n      <td>0.032624</td>\n      <td>0.014108</td>\n    </tr>\n    <tr>\n      <td>P&amp;P</td>\n      <td>0.178904</td>\n      <td>0.424934</td>\n      <td>0.877969</td>\n      <td>0.022196</td>\n      <td>0.162309</td>\n      <td>0.009927</td>\n      <td>0.615773</td>\n      <td>0.629173</td>\n      <td>0.188430</td>\n      <td>0.202089</td>\n      <td>...</td>\n      <td>NaN</td>\n      <td>-0.011428</td>\n      <td>0.119268</td>\n      <td>-0.019703</td>\n      <td>0.293924</td>\n      <td>0.023180</td>\n      <td>-0.001264</td>\n      <td>NaN</td>\n      <td>0.062630</td>\n      <td>0.007387</td>\n    </tr>\n    <tr>\n      <td>Repeater Ports</td>\n      <td>0.666886</td>\n      <td>0.872082</td>\n      <td>0.229416</td>\n      <td>0.666886</td>\n      <td>0.648886</td>\n      <td>-0.205196</td>\n      <td>0.564288</td>\n      <td>-0.205196</td>\n      <td>-0.820783</td>\n      <td>-0.666886</td>\n      <td>...</td>\n      <td>NaN</td>\n      <td>NaN</td>\n      <td>NaN</td>\n      <td>NaN</td>\n      <td>NaN</td>\n      <td>NaN</td>\n      <td>NaN</td>\n      <td>NaN</td>\n      <td>NaN</td>\n      <td>NaN</td>\n    </tr>\n    <tr>\n      <td>Year Drilled</td>\n      <td>0.184971</td>\n      <td>0.312223</td>\n      <td>0.648229</td>\n      <td>-0.039493</td>\n      <td>0.167011</td>\n      <td>0.032135</td>\n      <td>0.611360</td>\n      <td>0.649717</td>\n      <td>0.206711</td>\n      <td>0.206136</td>\n      <td>...</td>\n      <td>0.026054</td>\n      <td>0.002664</td>\n      <td>0.195969</td>\n      <td>0.216704</td>\n      <td>0.345588</td>\n      <td>0.028539</td>\n      <td>-0.014371</td>\n      <td>-0.014586</td>\n      <td>0.087243</td>\n      <td>0.015908</td>\n    </tr>\n    <tr>\n      <td>MBH</td>\n      <td>-0.051943</td>\n      <td>0.115336</td>\n      <td>0.101861</td>\n      <td>0.015934</td>\n      <td>0.050735</td>\n      <td>0.008082</td>\n      <td>0.029500</td>\n      <td>0.081115</td>\n      <td>-0.125985</td>\n      <td>-0.126670</td>\n      <td>...</td>\n      <td>0.026209</td>\n      <td>0.018531</td>\n      <td>0.014929</td>\n      <td>0.089059</td>\n      <td>0.037289</td>\n      <td>0.024437</td>\n      <td>-0.006773</td>\n      <td>-0.019777</td>\n      <td>-0.039214</td>\n      <td>0.013103</td>\n    </tr>\n    <tr>\n      <td>TFH</td>\n      <td>-0.061742</td>\n      <td>0.108276</td>\n      <td>0.094407</td>\n      <td>0.014997</td>\n      <td>0.056587</td>\n      <td>-0.001453</td>\n      <td>0.019226</td>\n      <td>0.067800</td>\n      <td>-0.115334</td>\n      <td>-0.116783</td>\n      <td>...</td>\n      <td>-0.013456</td>\n      <td>-0.009514</td>\n      <td>0.007114</td>\n      <td>0.082255</td>\n      <td>0.031067</td>\n      <td>0.023985</td>\n      <td>-0.008591</td>\n      <td>-0.018601</td>\n      <td>-0.040738</td>\n      <td>0.013695</td>\n    </tr>\n    <tr>\n      <td>MBH/TFH</td>\n      <td>0.004799</td>\n      <td>-0.008691</td>\n      <td>-0.073885</td>\n      <td>0.056160</td>\n      <td>-0.055699</td>\n      <td>0.027202</td>\n      <td>-0.080496</td>\n      <td>-0.074377</td>\n      <td>-0.049424</td>\n      <td>-0.050555</td>\n      <td>...</td>\n      <td>-0.001407</td>\n      <td>-0.000995</td>\n      <td>-0.012811</td>\n      <td>0.010454</td>\n      <td>-0.024822</td>\n      <td>-0.006433</td>\n      <td>0.021186</td>\n      <td>-0.002538</td>\n      <td>-0.007910</td>\n      <td>-0.000703</td>\n    </tr>\n    <tr>\n      <td>TF2</td>\n      <td>0.015539</td>\n      <td>0.038545</td>\n      <td>0.055032</td>\n      <td>-0.017867</td>\n      <td>0.009521</td>\n      <td>0.021287</td>\n      <td>0.072244</td>\n      <td>0.074781</td>\n      <td>-0.001950</td>\n      <td>-0.001987</td>\n      <td>...</td>\n      <td>-0.001675</td>\n      <td>-0.001184</td>\n      <td>0.040131</td>\n      <td>0.018480</td>\n      <td>0.013181</td>\n      <td>0.016771</td>\n      <td>-0.004436</td>\n      <td>-0.003021</td>\n      <td>0.010529</td>\n      <td>-0.000837</td>\n    </tr>\n    <tr>\n      <td>TF4</td>\n      <td>-0.005993</td>\n      <td>-0.002948</td>\n      <td>0.011556</td>\n      <td>-0.013431</td>\n      <td>-0.001031</td>\n      <td>-0.006792</td>\n      <td>0.010407</td>\n      <td>0.007899</td>\n      <td>-0.017772</td>\n      <td>-0.017825</td>\n      <td>...</td>\n      <td>-0.000261</td>\n      <td>-0.000184</td>\n      <td>-0.005182</td>\n      <td>0.010961</td>\n      <td>-0.005289</td>\n      <td>-0.001191</td>\n      <td>-0.000690</td>\n      <td>-0.000470</td>\n      <td>-0.001465</td>\n      <td>-0.000130</td>\n    </tr>\n    <tr>\n      <td>TF3</td>\n      <td>0.004328</td>\n      <td>0.004490</td>\n      <td>0.016079</td>\n      <td>-0.013144</td>\n      <td>0.008649</td>\n      <td>-0.004348</td>\n      <td>0.017645</td>\n      <td>0.021274</td>\n      <td>-0.016634</td>\n      <td>-0.014959</td>\n      <td>...</td>\n      <td>-0.000738</td>\n      <td>-0.000522</td>\n      <td>0.028570</td>\n      <td>0.000159</td>\n      <td>0.006324</td>\n      <td>-0.003372</td>\n      <td>-0.001954</td>\n      <td>-0.001330</td>\n      <td>-0.004146</td>\n      <td>-0.000369</td>\n    </tr>\n    <tr>\n      <td>UTFH</td>\n      <td>-0.001391</td>\n      <td>-0.004196</td>\n      <td>0.018444</td>\n      <td>-0.013101</td>\n      <td>0.002869</td>\n      <td>0.000388</td>\n      <td>0.026818</td>\n      <td>0.019686</td>\n      <td>NaN</td>\n      <td>NaN</td>\n      <td>...</td>\n      <td>-0.000451</td>\n      <td>-0.000319</td>\n      <td>0.014547</td>\n      <td>0.029063</td>\n      <td>-0.009163</td>\n      <td>-0.002064</td>\n      <td>-0.001196</td>\n      <td>-0.000814</td>\n      <td>-0.002538</td>\n      <td>-0.000226</td>\n    </tr>\n    <tr>\n      <td>TF1</td>\n      <td>0.039547</td>\n      <td>0.007882</td>\n      <td>0.039493</td>\n      <td>-0.006984</td>\n      <td>0.004279</td>\n      <td>0.013688</td>\n      <td>0.054334</td>\n      <td>0.062269</td>\n      <td>-0.032148</td>\n      <td>-0.023644</td>\n      <td>...</td>\n      <td>-0.001060</td>\n      <td>-0.000750</td>\n      <td>-0.006016</td>\n      <td>-0.013482</td>\n      <td>0.072463</td>\n      <td>-0.004847</td>\n      <td>-0.002808</td>\n      <td>-0.001912</td>\n      <td>-0.005960</td>\n      <td>-0.000530</td>\n    </tr>\n    <tr>\n      <td>MTFH</td>\n      <td>0.000971</td>\n      <td>0.010316</td>\n      <td>0.021405</td>\n      <td>-0.009303</td>\n      <td>0.002342</td>\n      <td>0.005639</td>\n      <td>0.020779</td>\n      <td>0.012372</td>\n      <td>NaN</td>\n      <td>NaN</td>\n      <td>...</td>\n      <td>-0.000369</td>\n      <td>-0.000261</td>\n      <td>0.021479</td>\n      <td>-0.009174</td>\n      <td>-0.007481</td>\n      <td>-0.001685</td>\n      <td>-0.000976</td>\n      <td>-0.000665</td>\n      <td>-0.002072</td>\n      <td>-0.000184</td>\n    </tr>\n    <tr>\n      <td>TFSH</td>\n      <td>0.001260</td>\n      <td>0.026483</td>\n      <td>0.023003</td>\n      <td>-0.010696</td>\n      <td>0.002342</td>\n      <td>0.006945</td>\n      <td>0.021304</td>\n      <td>0.012518</td>\n      <td>NaN</td>\n      <td>NaN</td>\n      <td>...</td>\n      <td>1.000000</td>\n      <td>-0.000261</td>\n      <td>-0.007330</td>\n      <td>0.040178</td>\n      <td>-0.007481</td>\n      <td>-0.001685</td>\n      <td>-0.000976</td>\n      <td>-0.000665</td>\n      <td>-0.002072</td>\n      <td>-0.000184</td>\n    </tr>\n    <tr>\n      <td>TF2.5</td>\n      <td>0.022539</td>\n      <td>-0.009038</td>\n      <td>-0.006736</td>\n      <td>0.007625</td>\n      <td>0.009387</td>\n      <td>0.011483</td>\n      <td>0.002971</td>\n      <td>0.012623</td>\n      <td>0.003120</td>\n      <td>0.003279</td>\n      <td>...</td>\n      <td>-0.000261</td>\n      <td>1.000000</td>\n      <td>-0.005182</td>\n      <td>0.028408</td>\n      <td>-0.005289</td>\n      <td>-0.001191</td>\n      <td>-0.000690</td>\n      <td>-0.000470</td>\n      <td>-0.001465</td>\n      <td>-0.000130</td>\n    </tr>\n    <tr>\n      <td>LINEAR GEL (HC)</td>\n      <td>0.057226</td>\n      <td>0.078654</td>\n      <td>0.159467</td>\n      <td>-0.039202</td>\n      <td>-0.015171</td>\n      <td>-0.010705</td>\n      <td>0.139204</td>\n      <td>0.070029</td>\n      <td>0.061400</td>\n      <td>0.056196</td>\n      <td>...</td>\n      <td>-0.007330</td>\n      <td>-0.005182</td>\n      <td>1.000000</td>\n      <td>-0.182428</td>\n      <td>-0.148760</td>\n      <td>-0.033510</td>\n      <td>-0.019414</td>\n      <td>-0.013219</td>\n      <td>-0.041204</td>\n      <td>-0.003664</td>\n    </tr>\n    <tr>\n      <td>CROSSLINKED (HC)</td>\n      <td>0.019071</td>\n      <td>0.061182</td>\n      <td>0.125547</td>\n      <td>-0.049507</td>\n      <td>0.013520</td>\n      <td>-0.001290</td>\n      <td>0.104947</td>\n      <td>0.062232</td>\n      <td>0.049589</td>\n      <td>0.047828</td>\n      <td>...</td>\n      <td>0.040178</td>\n      <td>0.028408</td>\n      <td>-0.182428</td>\n      <td>1.000000</td>\n      <td>-0.186193</td>\n      <td>-0.041942</td>\n      <td>-0.024299</td>\n      <td>-0.016546</td>\n      <td>-0.051573</td>\n      <td>-0.004586</td>\n    </tr>\n    <tr>\n      <td>SLICKWATER (HC)</td>\n      <td>0.061320</td>\n      <td>0.109113</td>\n      <td>0.227036</td>\n      <td>0.039234</td>\n      <td>0.118690</td>\n      <td>0.029044</td>\n      <td>0.207161</td>\n      <td>0.349156</td>\n      <td>0.025990</td>\n      <td>0.023848</td>\n      <td>...</td>\n      <td>-0.007481</td>\n      <td>-0.005289</td>\n      <td>-0.148760</td>\n      <td>-0.186193</td>\n      <td>1.000000</td>\n      <td>-0.034202</td>\n      <td>-0.019815</td>\n      <td>-0.013492</td>\n      <td>-0.042055</td>\n      <td>-0.003740</td>\n    </tr>\n    <tr>\n      <td>SW-XL HYBRID</td>\n      <td>0.004895</td>\n      <td>0.009412</td>\n      <td>0.021138</td>\n      <td>-0.010645</td>\n      <td>0.011411</td>\n      <td>0.005170</td>\n      <td>0.031696</td>\n      <td>0.024539</td>\n      <td>0.034229</td>\n      <td>0.033656</td>\n      <td>...</td>\n      <td>-0.001685</td>\n      <td>-0.001191</td>\n      <td>-0.033510</td>\n      <td>-0.041942</td>\n      <td>-0.034202</td>\n      <td>1.000000</td>\n      <td>-0.004464</td>\n      <td>-0.003039</td>\n      <td>-0.009473</td>\n      <td>-0.000842</td>\n    </tr>\n    <tr>\n      <td>CROSSLINKED</td>\n      <td>-0.020744</td>\n      <td>-0.005954</td>\n      <td>-0.007845</td>\n      <td>0.001628</td>\n      <td>-0.007704</td>\n      <td>0.001748</td>\n      <td>-0.025065</td>\n      <td>-0.009865</td>\n      <td>-0.020927</td>\n      <td>-0.018775</td>\n      <td>...</td>\n      <td>-0.000976</td>\n      <td>-0.000690</td>\n      <td>-0.019414</td>\n      <td>-0.024299</td>\n      <td>-0.019815</td>\n      <td>-0.004464</td>\n      <td>1.000000</td>\n      <td>-0.001761</td>\n      <td>-0.005488</td>\n      <td>-0.000488</td>\n    </tr>\n    <tr>\n      <td>UNKNOWN</td>\n      <td>-0.030026</td>\n      <td>-0.004929</td>\n      <td>-0.016621</td>\n      <td>-0.020923</td>\n      <td>-0.000586</td>\n      <td>0.007779</td>\n      <td>-0.026543</td>\n      <td>0.005413</td>\n      <td>-0.034659</td>\n      <td>-0.033351</td>\n      <td>...</td>\n      <td>-0.000665</td>\n      <td>-0.000470</td>\n      <td>-0.013219</td>\n      <td>-0.016546</td>\n      <td>-0.013492</td>\n      <td>-0.003039</td>\n      <td>-0.001761</td>\n      <td>1.000000</td>\n      <td>-0.003737</td>\n      <td>-0.000332</td>\n    </tr>\n    <tr>\n      <td>SW-GEL HYBRID</td>\n      <td>0.038083</td>\n      <td>-0.000686</td>\n      <td>0.073999</td>\n      <td>-0.001685</td>\n      <td>-0.000210</td>\n      <td>0.003863</td>\n      <td>0.099986</td>\n      <td>0.107340</td>\n      <td>0.015306</td>\n      <td>0.006223</td>\n      <td>...</td>\n      <td>-0.002072</td>\n      <td>-0.001465</td>\n      <td>-0.041204</td>\n      <td>-0.051573</td>\n      <td>-0.042055</td>\n      <td>-0.009473</td>\n      <td>-0.005488</td>\n      <td>-0.003737</td>\n      <td>1.000000</td>\n      <td>-0.001036</td>\n    </tr>\n    <tr>\n      <td>LINEAR GEL</td>\n      <td>0.000620</td>\n      <td>0.011437</td>\n      <td>0.005156</td>\n      <td>-0.000823</td>\n      <td>0.006638</td>\n      <td>-0.009350</td>\n      <td>0.014902</td>\n      <td>0.015552</td>\n      <td>NaN</td>\n      <td>NaN</td>\n      <td>...</td>\n      <td>-0.000184</td>\n      <td>-0.000130</td>\n      <td>-0.003664</td>\n      <td>-0.004586</td>\n      <td>-0.003740</td>\n      <td>-0.000842</td>\n      <td>-0.000488</td>\n      <td>-0.000332</td>\n      <td>-0.001036</td>\n      <td>1.000000</td>\n    </tr>\n  </tbody>\n</table>\n<p>39 rows × 39 columns</p>\n</div>"
     },
     "metadata": {},
     "execution_count": 117
    }
   ],
   "source": [
    "#Spearman's Rank correlation coefficient for each feature\n",
    "spearman_correlation = DatabaseDF.corr(method = 'spearman')\n",
    "spearman_correlation"
   ]
  },
  {
   "cell_type": "code",
   "execution_count": 118,
   "metadata": {},
   "outputs": [
    {
     "output_type": "execute_result",
     "data": {
      "text/plain": "Unnamed: 0           0.145759\nLateral Length       0.177257\nStages               0.340166\nTownship            -0.165085\nRange               -0.157996\nSection              0.010521\nTotal Prop, lbs      0.440060\nFluid, bbls          0.401960\nBest1 Mo BOPD        0.891192\nBest3 Mo BOPD        0.937187\nBest6 Mo BOPD        0.968343\nBest9 Mo BOPD        0.977030\nBest12 Mo BOPD       0.977382\nLatitude            -0.166509\nLongitude            0.175363\nSPACING_CAPPED      -0.246285\n12 month Cum Prod    1.000000\nP&P                  0.328136\nRepeater Ports      -0.974679\nYear Drilled         0.311370\nMBH                 -0.092385\nTFH                 -0.092741\nMBH/TFH             -0.042508\nTF2                  0.006515\nTF4                 -0.016010\nTF3                 -0.012260\nUTFH                 0.017145\nTF1                  0.026993\nMTFH                -0.008307\nTFSH                 0.014267\nTF2.5               -0.000406\nLINEAR GEL (HC)      0.070692\nCROSSLINKED (HC)     0.037795\nSLICKWATER (HC)      0.119466\nSW-XL HYBRID         0.017188\nCROSSLINKED         -0.025103\nUNKNOWN             -0.033301\nSW-GEL HYBRID        0.032624\nLINEAR GEL           0.014108\nName: 12 month Cum Prod, dtype: float64"
     },
     "metadata": {},
     "execution_count": 118
    }
   ],
   "source": [
    "#Printing the correlation to Cumulative Production specifically\n",
    "spearman_correlation['12 month Cum Prod']"
   ]
  },
  {
   "cell_type": "markdown",
   "metadata": {},
   "source": [
    "### First set of variables"
   ]
  },
  {
   "cell_type": "code",
   "execution_count": 168,
   "metadata": {},
   "outputs": [],
   "source": [
    "#Features that are being compared\n",
    "features = ['Lateral Length', 'Stages', 'Fluid, bbls', 'Total Prop, lbs', 'Longitude']\n",
    "#Radius values for each variable\n",
    "radius_values = []\n",
    "for i in features:\n",
    "        radius_values.append(spearman_correlation.at[i, '12 month Cum Prod'])"
   ]
  },
  {
   "cell_type": "code",
   "execution_count": 174,
   "metadata": {},
   "outputs": [
    {
     "output_type": "display_data",
     "data": {
      "application/vnd.plotly.v1+json": {
       "config": {
        "plotlyServerURL": "https://plot.ly"
       },
       "data": [
        {
         "fill": "toself",
         "hovertemplate": "r=%{r}<br>theta=%{theta}<extra></extra>",
         "legendgroup": "",
         "line": {
          "color": "#636efa",
          "dash": "solid"
         },
         "mode": "lines",
         "name": "",
         "r": [
          -0.11634942752723561,
          0.38277950117547643,
          0.007133860508961487,
          0.22867395028752216,
          -0.18090334207502617,
          -0.11634942752723561
         ],
         "showlegend": false,
         "subplot": "polar",
         "theta": [
          "Latitude",
          "CT",
          "Section",
          "Year Drilled",
          "SPACING_CAPPED",
          "Latitude"
         ],
         "type": "scatterpolar"
        }
       ],
       "layout": {
        "legend": {
         "tracegroupgap": 0
        },
        "margin": {
         "t": 60
        },
        "polar": {
         "angularaxis": {
          "direction": "clockwise",
          "rotation": 90
         },
         "domain": {
          "x": [
           0,
           1
          ],
          "y": [
           0,
           1
          ]
         }
        },
        "template": {
         "data": {
          "bar": [
           {
            "error_x": {
             "color": "#2a3f5f"
            },
            "error_y": {
             "color": "#2a3f5f"
            },
            "marker": {
             "line": {
              "color": "#E5ECF6",
              "width": 0.5
             }
            },
            "type": "bar"
           }
          ],
          "barpolar": [
           {
            "marker": {
             "line": {
              "color": "#E5ECF6",
              "width": 0.5
             }
            },
            "type": "barpolar"
           }
          ],
          "carpet": [
           {
            "aaxis": {
             "endlinecolor": "#2a3f5f",
             "gridcolor": "white",
             "linecolor": "white",
             "minorgridcolor": "white",
             "startlinecolor": "#2a3f5f"
            },
            "baxis": {
             "endlinecolor": "#2a3f5f",
             "gridcolor": "white",
             "linecolor": "white",
             "minorgridcolor": "white",
             "startlinecolor": "#2a3f5f"
            },
            "type": "carpet"
           }
          ],
          "choropleth": [
           {
            "colorbar": {
             "outlinewidth": 0,
             "ticks": ""
            },
            "type": "choropleth"
           }
          ],
          "contour": [
           {
            "colorbar": {
             "outlinewidth": 0,
             "ticks": ""
            },
            "colorscale": [
             [
              0,
              "#0d0887"
             ],
             [
              0.1111111111111111,
              "#46039f"
             ],
             [
              0.2222222222222222,
              "#7201a8"
             ],
             [
              0.3333333333333333,
              "#9c179e"
             ],
             [
              0.4444444444444444,
              "#bd3786"
             ],
             [
              0.5555555555555556,
              "#d8576b"
             ],
             [
              0.6666666666666666,
              "#ed7953"
             ],
             [
              0.7777777777777778,
              "#fb9f3a"
             ],
             [
              0.8888888888888888,
              "#fdca26"
             ],
             [
              1,
              "#f0f921"
             ]
            ],
            "type": "contour"
           }
          ],
          "contourcarpet": [
           {
            "colorbar": {
             "outlinewidth": 0,
             "ticks": ""
            },
            "type": "contourcarpet"
           }
          ],
          "heatmap": [
           {
            "colorbar": {
             "outlinewidth": 0,
             "ticks": ""
            },
            "colorscale": [
             [
              0,
              "#0d0887"
             ],
             [
              0.1111111111111111,
              "#46039f"
             ],
             [
              0.2222222222222222,
              "#7201a8"
             ],
             [
              0.3333333333333333,
              "#9c179e"
             ],
             [
              0.4444444444444444,
              "#bd3786"
             ],
             [
              0.5555555555555556,
              "#d8576b"
             ],
             [
              0.6666666666666666,
              "#ed7953"
             ],
             [
              0.7777777777777778,
              "#fb9f3a"
             ],
             [
              0.8888888888888888,
              "#fdca26"
             ],
             [
              1,
              "#f0f921"
             ]
            ],
            "type": "heatmap"
           }
          ],
          "heatmapgl": [
           {
            "colorbar": {
             "outlinewidth": 0,
             "ticks": ""
            },
            "colorscale": [
             [
              0,
              "#0d0887"
             ],
             [
              0.1111111111111111,
              "#46039f"
             ],
             [
              0.2222222222222222,
              "#7201a8"
             ],
             [
              0.3333333333333333,
              "#9c179e"
             ],
             [
              0.4444444444444444,
              "#bd3786"
             ],
             [
              0.5555555555555556,
              "#d8576b"
             ],
             [
              0.6666666666666666,
              "#ed7953"
             ],
             [
              0.7777777777777778,
              "#fb9f3a"
             ],
             [
              0.8888888888888888,
              "#fdca26"
             ],
             [
              1,
              "#f0f921"
             ]
            ],
            "type": "heatmapgl"
           }
          ],
          "histogram": [
           {
            "marker": {
             "colorbar": {
              "outlinewidth": 0,
              "ticks": ""
             }
            },
            "type": "histogram"
           }
          ],
          "histogram2d": [
           {
            "colorbar": {
             "outlinewidth": 0,
             "ticks": ""
            },
            "colorscale": [
             [
              0,
              "#0d0887"
             ],
             [
              0.1111111111111111,
              "#46039f"
             ],
             [
              0.2222222222222222,
              "#7201a8"
             ],
             [
              0.3333333333333333,
              "#9c179e"
             ],
             [
              0.4444444444444444,
              "#bd3786"
             ],
             [
              0.5555555555555556,
              "#d8576b"
             ],
             [
              0.6666666666666666,
              "#ed7953"
             ],
             [
              0.7777777777777778,
              "#fb9f3a"
             ],
             [
              0.8888888888888888,
              "#fdca26"
             ],
             [
              1,
              "#f0f921"
             ]
            ],
            "type": "histogram2d"
           }
          ],
          "histogram2dcontour": [
           {
            "colorbar": {
             "outlinewidth": 0,
             "ticks": ""
            },
            "colorscale": [
             [
              0,
              "#0d0887"
             ],
             [
              0.1111111111111111,
              "#46039f"
             ],
             [
              0.2222222222222222,
              "#7201a8"
             ],
             [
              0.3333333333333333,
              "#9c179e"
             ],
             [
              0.4444444444444444,
              "#bd3786"
             ],
             [
              0.5555555555555556,
              "#d8576b"
             ],
             [
              0.6666666666666666,
              "#ed7953"
             ],
             [
              0.7777777777777778,
              "#fb9f3a"
             ],
             [
              0.8888888888888888,
              "#fdca26"
             ],
             [
              1,
              "#f0f921"
             ]
            ],
            "type": "histogram2dcontour"
           }
          ],
          "mesh3d": [
           {
            "colorbar": {
             "outlinewidth": 0,
             "ticks": ""
            },
            "type": "mesh3d"
           }
          ],
          "parcoords": [
           {
            "line": {
             "colorbar": {
              "outlinewidth": 0,
              "ticks": ""
             }
            },
            "type": "parcoords"
           }
          ],
          "pie": [
           {
            "automargin": true,
            "type": "pie"
           }
          ],
          "scatter": [
           {
            "marker": {
             "colorbar": {
              "outlinewidth": 0,
              "ticks": ""
             }
            },
            "type": "scatter"
           }
          ],
          "scatter3d": [
           {
            "line": {
             "colorbar": {
              "outlinewidth": 0,
              "ticks": ""
             }
            },
            "marker": {
             "colorbar": {
              "outlinewidth": 0,
              "ticks": ""
             }
            },
            "type": "scatter3d"
           }
          ],
          "scattercarpet": [
           {
            "marker": {
             "colorbar": {
              "outlinewidth": 0,
              "ticks": ""
             }
            },
            "type": "scattercarpet"
           }
          ],
          "scattergeo": [
           {
            "marker": {
             "colorbar": {
              "outlinewidth": 0,
              "ticks": ""
             }
            },
            "type": "scattergeo"
           }
          ],
          "scattergl": [
           {
            "marker": {
             "colorbar": {
              "outlinewidth": 0,
              "ticks": ""
             }
            },
            "type": "scattergl"
           }
          ],
          "scattermapbox": [
           {
            "marker": {
             "colorbar": {
              "outlinewidth": 0,
              "ticks": ""
             }
            },
            "type": "scattermapbox"
           }
          ],
          "scatterpolar": [
           {
            "marker": {
             "colorbar": {
              "outlinewidth": 0,
              "ticks": ""
             }
            },
            "type": "scatterpolar"
           }
          ],
          "scatterpolargl": [
           {
            "marker": {
             "colorbar": {
              "outlinewidth": 0,
              "ticks": ""
             }
            },
            "type": "scatterpolargl"
           }
          ],
          "scatterternary": [
           {
            "marker": {
             "colorbar": {
              "outlinewidth": 0,
              "ticks": ""
             }
            },
            "type": "scatterternary"
           }
          ],
          "surface": [
           {
            "colorbar": {
             "outlinewidth": 0,
             "ticks": ""
            },
            "colorscale": [
             [
              0,
              "#0d0887"
             ],
             [
              0.1111111111111111,
              "#46039f"
             ],
             [
              0.2222222222222222,
              "#7201a8"
             ],
             [
              0.3333333333333333,
              "#9c179e"
             ],
             [
              0.4444444444444444,
              "#bd3786"
             ],
             [
              0.5555555555555556,
              "#d8576b"
             ],
             [
              0.6666666666666666,
              "#ed7953"
             ],
             [
              0.7777777777777778,
              "#fb9f3a"
             ],
             [
              0.8888888888888888,
              "#fdca26"
             ],
             [
              1,
              "#f0f921"
             ]
            ],
            "type": "surface"
           }
          ],
          "table": [
           {
            "cells": {
             "fill": {
              "color": "#EBF0F8"
             },
             "line": {
              "color": "white"
             }
            },
            "header": {
             "fill": {
              "color": "#C8D4E3"
             },
             "line": {
              "color": "white"
             }
            },
            "type": "table"
           }
          ]
         },
         "layout": {
          "annotationdefaults": {
           "arrowcolor": "#2a3f5f",
           "arrowhead": 0,
           "arrowwidth": 1
          },
          "coloraxis": {
           "colorbar": {
            "outlinewidth": 0,
            "ticks": ""
           }
          },
          "colorscale": {
           "diverging": [
            [
             0,
             "#8e0152"
            ],
            [
             0.1,
             "#c51b7d"
            ],
            [
             0.2,
             "#de77ae"
            ],
            [
             0.3,
             "#f1b6da"
            ],
            [
             0.4,
             "#fde0ef"
            ],
            [
             0.5,
             "#f7f7f7"
            ],
            [
             0.6,
             "#e6f5d0"
            ],
            [
             0.7,
             "#b8e186"
            ],
            [
             0.8,
             "#7fbc41"
            ],
            [
             0.9,
             "#4d9221"
            ],
            [
             1,
             "#276419"
            ]
           ],
           "sequential": [
            [
             0,
             "#0d0887"
            ],
            [
             0.1111111111111111,
             "#46039f"
            ],
            [
             0.2222222222222222,
             "#7201a8"
            ],
            [
             0.3333333333333333,
             "#9c179e"
            ],
            [
             0.4444444444444444,
             "#bd3786"
            ],
            [
             0.5555555555555556,
             "#d8576b"
            ],
            [
             0.6666666666666666,
             "#ed7953"
            ],
            [
             0.7777777777777778,
             "#fb9f3a"
            ],
            [
             0.8888888888888888,
             "#fdca26"
            ],
            [
             1,
             "#f0f921"
            ]
           ],
           "sequentialminus": [
            [
             0,
             "#0d0887"
            ],
            [
             0.1111111111111111,
             "#46039f"
            ],
            [
             0.2222222222222222,
             "#7201a8"
            ],
            [
             0.3333333333333333,
             "#9c179e"
            ],
            [
             0.4444444444444444,
             "#bd3786"
            ],
            [
             0.5555555555555556,
             "#d8576b"
            ],
            [
             0.6666666666666666,
             "#ed7953"
            ],
            [
             0.7777777777777778,
             "#fb9f3a"
            ],
            [
             0.8888888888888888,
             "#fdca26"
            ],
            [
             1,
             "#f0f921"
            ]
           ]
          },
          "colorway": [
           "#636efa",
           "#EF553B",
           "#00cc96",
           "#ab63fa",
           "#FFA15A",
           "#19d3f3",
           "#FF6692",
           "#B6E880",
           "#FF97FF",
           "#FECB52"
          ],
          "font": {
           "color": "#2a3f5f"
          },
          "geo": {
           "bgcolor": "white",
           "lakecolor": "white",
           "landcolor": "#E5ECF6",
           "showlakes": true,
           "showland": true,
           "subunitcolor": "white"
          },
          "hoverlabel": {
           "align": "left"
          },
          "hovermode": "closest",
          "mapbox": {
           "style": "light"
          },
          "paper_bgcolor": "white",
          "plot_bgcolor": "#E5ECF6",
          "polar": {
           "angularaxis": {
            "gridcolor": "white",
            "linecolor": "white",
            "ticks": ""
           },
           "bgcolor": "#E5ECF6",
           "radialaxis": {
            "gridcolor": "white",
            "linecolor": "white",
            "ticks": ""
           }
          },
          "scene": {
           "xaxis": {
            "backgroundcolor": "#E5ECF6",
            "gridcolor": "white",
            "gridwidth": 2,
            "linecolor": "white",
            "showbackground": true,
            "ticks": "",
            "zerolinecolor": "white"
           },
           "yaxis": {
            "backgroundcolor": "#E5ECF6",
            "gridcolor": "white",
            "gridwidth": 2,
            "linecolor": "white",
            "showbackground": true,
            "ticks": "",
            "zerolinecolor": "white"
           },
           "zaxis": {
            "backgroundcolor": "#E5ECF6",
            "gridcolor": "white",
            "gridwidth": 2,
            "linecolor": "white",
            "showbackground": true,
            "ticks": "",
            "zerolinecolor": "white"
           }
          },
          "shapedefaults": {
           "line": {
            "color": "#2a3f5f"
           }
          },
          "ternary": {
           "aaxis": {
            "gridcolor": "white",
            "linecolor": "white",
            "ticks": ""
           },
           "baxis": {
            "gridcolor": "white",
            "linecolor": "white",
            "ticks": ""
           },
           "bgcolor": "#E5ECF6",
           "caxis": {
            "gridcolor": "white",
            "linecolor": "white",
            "ticks": ""
           }
          },
          "title": {
           "x": 0.05
          },
          "xaxis": {
           "automargin": true,
           "gridcolor": "white",
           "linecolor": "white",
           "ticks": "",
           "title": {
            "standoff": 15
           },
           "zerolinecolor": "white",
           "zerolinewidth": 2
          },
          "yaxis": {
           "automargin": true,
           "gridcolor": "white",
           "linecolor": "white",
           "ticks": "",
           "title": {
            "standoff": 15
           },
           "zerolinecolor": "white",
           "zerolinewidth": 2
          }
         }
        }
       }
      }
     },
     "metadata": {}
    }
   ],
   "source": [
    "#create dictionary for angle and radius values \n",
    "df = pd.DataFrame(dict(\n",
    "    r= radius_values,\n",
    "    theta= features))\n",
    "\n",
    "#create radar chart\n",
    "fig = px.line_polar(df, r='r', theta='theta', line_close=True)\n",
    "\n",
    "#fill in area\n",
    "fig.update_traces(fill='toself')\n",
    "\n",
    "#plot chart\n",
    "fig.show()"
   ]
  },
  {
   "cell_type": "markdown",
   "metadata": {},
   "source": [
    "### Second set of variables"
   ]
  },
  {
   "cell_type": "code",
   "execution_count": 179,
   "metadata": {},
   "outputs": [],
   "source": [
    "#Features that are being compared\n",
    "features = ['Latitude','CT','Section',\n",
    "           'Year Drilled', 'SPACING_CAPPED']\n",
    "#Radius values for each variable\n",
    "radius_values = []\n",
    "for i in features:\n",
    "        radius_values.append(spearman_correlation.at[i, '12 month Cum Prod'])"
   ]
  },
  {
   "cell_type": "code",
   "execution_count": 184,
   "metadata": {},
   "outputs": [
    {
     "output_type": "display_data",
     "data": {
      "application/vnd.plotly.v1+json": {
       "config": {
        "plotlyServerURL": "https://plot.ly"
       },
       "data": [
        {
         "fill": "toself",
         "hovertemplate": "r=%{r}<br>theta=%{theta}<extra></extra>",
         "legendgroup": "",
         "line": {
          "color": "#636efa",
          "dash": "solid"
         },
         "mode": "lines",
         "name": "",
         "r": [
          0.12009911598654714,
          0.24296991246052596,
          0.28189351866605994,
          0.3077980336249716,
          0.11857450351303943,
          0.12009911598654714
         ],
         "showlegend": false,
         "subplot": "polar",
         "theta": [
          "Lateral Length",
          "Stages",
          "Fluid, bbls",
          "Total Prop, lbs",
          "Longitude",
          "Lateral Length"
         ],
         "type": "scatterpolar"
        }
       ],
       "layout": {
        "legend": {
         "tracegroupgap": 0
        },
        "margin": {
         "t": 60
        },
        "polar": {
         "angularaxis": {
          "direction": "clockwise",
          "rotation": 90
         },
         "domain": {
          "x": [
           0,
           1
          ],
          "y": [
           0,
           1
          ]
         }
        },
        "template": {
         "data": {
          "bar": [
           {
            "error_x": {
             "color": "#2a3f5f"
            },
            "error_y": {
             "color": "#2a3f5f"
            },
            "marker": {
             "line": {
              "color": "#E5ECF6",
              "width": 0.5
             }
            },
            "type": "bar"
           }
          ],
          "barpolar": [
           {
            "marker": {
             "line": {
              "color": "#E5ECF6",
              "width": 0.5
             }
            },
            "type": "barpolar"
           }
          ],
          "carpet": [
           {
            "aaxis": {
             "endlinecolor": "#2a3f5f",
             "gridcolor": "white",
             "linecolor": "white",
             "minorgridcolor": "white",
             "startlinecolor": "#2a3f5f"
            },
            "baxis": {
             "endlinecolor": "#2a3f5f",
             "gridcolor": "white",
             "linecolor": "white",
             "minorgridcolor": "white",
             "startlinecolor": "#2a3f5f"
            },
            "type": "carpet"
           }
          ],
          "choropleth": [
           {
            "colorbar": {
             "outlinewidth": 0,
             "ticks": ""
            },
            "type": "choropleth"
           }
          ],
          "contour": [
           {
            "colorbar": {
             "outlinewidth": 0,
             "ticks": ""
            },
            "colorscale": [
             [
              0,
              "#0d0887"
             ],
             [
              0.1111111111111111,
              "#46039f"
             ],
             [
              0.2222222222222222,
              "#7201a8"
             ],
             [
              0.3333333333333333,
              "#9c179e"
             ],
             [
              0.4444444444444444,
              "#bd3786"
             ],
             [
              0.5555555555555556,
              "#d8576b"
             ],
             [
              0.6666666666666666,
              "#ed7953"
             ],
             [
              0.7777777777777778,
              "#fb9f3a"
             ],
             [
              0.8888888888888888,
              "#fdca26"
             ],
             [
              1,
              "#f0f921"
             ]
            ],
            "type": "contour"
           }
          ],
          "contourcarpet": [
           {
            "colorbar": {
             "outlinewidth": 0,
             "ticks": ""
            },
            "type": "contourcarpet"
           }
          ],
          "heatmap": [
           {
            "colorbar": {
             "outlinewidth": 0,
             "ticks": ""
            },
            "colorscale": [
             [
              0,
              "#0d0887"
             ],
             [
              0.1111111111111111,
              "#46039f"
             ],
             [
              0.2222222222222222,
              "#7201a8"
             ],
             [
              0.3333333333333333,
              "#9c179e"
             ],
             [
              0.4444444444444444,
              "#bd3786"
             ],
             [
              0.5555555555555556,
              "#d8576b"
             ],
             [
              0.6666666666666666,
              "#ed7953"
             ],
             [
              0.7777777777777778,
              "#fb9f3a"
             ],
             [
              0.8888888888888888,
              "#fdca26"
             ],
             [
              1,
              "#f0f921"
             ]
            ],
            "type": "heatmap"
           }
          ],
          "heatmapgl": [
           {
            "colorbar": {
             "outlinewidth": 0,
             "ticks": ""
            },
            "colorscale": [
             [
              0,
              "#0d0887"
             ],
             [
              0.1111111111111111,
              "#46039f"
             ],
             [
              0.2222222222222222,
              "#7201a8"
             ],
             [
              0.3333333333333333,
              "#9c179e"
             ],
             [
              0.4444444444444444,
              "#bd3786"
             ],
             [
              0.5555555555555556,
              "#d8576b"
             ],
             [
              0.6666666666666666,
              "#ed7953"
             ],
             [
              0.7777777777777778,
              "#fb9f3a"
             ],
             [
              0.8888888888888888,
              "#fdca26"
             ],
             [
              1,
              "#f0f921"
             ]
            ],
            "type": "heatmapgl"
           }
          ],
          "histogram": [
           {
            "marker": {
             "colorbar": {
              "outlinewidth": 0,
              "ticks": ""
             }
            },
            "type": "histogram"
           }
          ],
          "histogram2d": [
           {
            "colorbar": {
             "outlinewidth": 0,
             "ticks": ""
            },
            "colorscale": [
             [
              0,
              "#0d0887"
             ],
             [
              0.1111111111111111,
              "#46039f"
             ],
             [
              0.2222222222222222,
              "#7201a8"
             ],
             [
              0.3333333333333333,
              "#9c179e"
             ],
             [
              0.4444444444444444,
              "#bd3786"
             ],
             [
              0.5555555555555556,
              "#d8576b"
             ],
             [
              0.6666666666666666,
              "#ed7953"
             ],
             [
              0.7777777777777778,
              "#fb9f3a"
             ],
             [
              0.8888888888888888,
              "#fdca26"
             ],
             [
              1,
              "#f0f921"
             ]
            ],
            "type": "histogram2d"
           }
          ],
          "histogram2dcontour": [
           {
            "colorbar": {
             "outlinewidth": 0,
             "ticks": ""
            },
            "colorscale": [
             [
              0,
              "#0d0887"
             ],
             [
              0.1111111111111111,
              "#46039f"
             ],
             [
              0.2222222222222222,
              "#7201a8"
             ],
             [
              0.3333333333333333,
              "#9c179e"
             ],
             [
              0.4444444444444444,
              "#bd3786"
             ],
             [
              0.5555555555555556,
              "#d8576b"
             ],
             [
              0.6666666666666666,
              "#ed7953"
             ],
             [
              0.7777777777777778,
              "#fb9f3a"
             ],
             [
              0.8888888888888888,
              "#fdca26"
             ],
             [
              1,
              "#f0f921"
             ]
            ],
            "type": "histogram2dcontour"
           }
          ],
          "mesh3d": [
           {
            "colorbar": {
             "outlinewidth": 0,
             "ticks": ""
            },
            "type": "mesh3d"
           }
          ],
          "parcoords": [
           {
            "line": {
             "colorbar": {
              "outlinewidth": 0,
              "ticks": ""
             }
            },
            "type": "parcoords"
           }
          ],
          "pie": [
           {
            "automargin": true,
            "type": "pie"
           }
          ],
          "scatter": [
           {
            "marker": {
             "colorbar": {
              "outlinewidth": 0,
              "ticks": ""
             }
            },
            "type": "scatter"
           }
          ],
          "scatter3d": [
           {
            "line": {
             "colorbar": {
              "outlinewidth": 0,
              "ticks": ""
             }
            },
            "marker": {
             "colorbar": {
              "outlinewidth": 0,
              "ticks": ""
             }
            },
            "type": "scatter3d"
           }
          ],
          "scattercarpet": [
           {
            "marker": {
             "colorbar": {
              "outlinewidth": 0,
              "ticks": ""
             }
            },
            "type": "scattercarpet"
           }
          ],
          "scattergeo": [
           {
            "marker": {
             "colorbar": {
              "outlinewidth": 0,
              "ticks": ""
             }
            },
            "type": "scattergeo"
           }
          ],
          "scattergl": [
           {
            "marker": {
             "colorbar": {
              "outlinewidth": 0,
              "ticks": ""
             }
            },
            "type": "scattergl"
           }
          ],
          "scattermapbox": [
           {
            "marker": {
             "colorbar": {
              "outlinewidth": 0,
              "ticks": ""
             }
            },
            "type": "scattermapbox"
           }
          ],
          "scatterpolar": [
           {
            "marker": {
             "colorbar": {
              "outlinewidth": 0,
              "ticks": ""
             }
            },
            "type": "scatterpolar"
           }
          ],
          "scatterpolargl": [
           {
            "marker": {
             "colorbar": {
              "outlinewidth": 0,
              "ticks": ""
             }
            },
            "type": "scatterpolargl"
           }
          ],
          "scatterternary": [
           {
            "marker": {
             "colorbar": {
              "outlinewidth": 0,
              "ticks": ""
             }
            },
            "type": "scatterternary"
           }
          ],
          "surface": [
           {
            "colorbar": {
             "outlinewidth": 0,
             "ticks": ""
            },
            "colorscale": [
             [
              0,
              "#0d0887"
             ],
             [
              0.1111111111111111,
              "#46039f"
             ],
             [
              0.2222222222222222,
              "#7201a8"
             ],
             [
              0.3333333333333333,
              "#9c179e"
             ],
             [
              0.4444444444444444,
              "#bd3786"
             ],
             [
              0.5555555555555556,
              "#d8576b"
             ],
             [
              0.6666666666666666,
              "#ed7953"
             ],
             [
              0.7777777777777778,
              "#fb9f3a"
             ],
             [
              0.8888888888888888,
              "#fdca26"
             ],
             [
              1,
              "#f0f921"
             ]
            ],
            "type": "surface"
           }
          ],
          "table": [
           {
            "cells": {
             "fill": {
              "color": "#EBF0F8"
             },
             "line": {
              "color": "white"
             }
            },
            "header": {
             "fill": {
              "color": "#C8D4E3"
             },
             "line": {
              "color": "white"
             }
            },
            "type": "table"
           }
          ]
         },
         "layout": {
          "annotationdefaults": {
           "arrowcolor": "#2a3f5f",
           "arrowhead": 0,
           "arrowwidth": 1
          },
          "coloraxis": {
           "colorbar": {
            "outlinewidth": 0,
            "ticks": ""
           }
          },
          "colorscale": {
           "diverging": [
            [
             0,
             "#8e0152"
            ],
            [
             0.1,
             "#c51b7d"
            ],
            [
             0.2,
             "#de77ae"
            ],
            [
             0.3,
             "#f1b6da"
            ],
            [
             0.4,
             "#fde0ef"
            ],
            [
             0.5,
             "#f7f7f7"
            ],
            [
             0.6,
             "#e6f5d0"
            ],
            [
             0.7,
             "#b8e186"
            ],
            [
             0.8,
             "#7fbc41"
            ],
            [
             0.9,
             "#4d9221"
            ],
            [
             1,
             "#276419"
            ]
           ],
           "sequential": [
            [
             0,
             "#0d0887"
            ],
            [
             0.1111111111111111,
             "#46039f"
            ],
            [
             0.2222222222222222,
             "#7201a8"
            ],
            [
             0.3333333333333333,
             "#9c179e"
            ],
            [
             0.4444444444444444,
             "#bd3786"
            ],
            [
             0.5555555555555556,
             "#d8576b"
            ],
            [
             0.6666666666666666,
             "#ed7953"
            ],
            [
             0.7777777777777778,
             "#fb9f3a"
            ],
            [
             0.8888888888888888,
             "#fdca26"
            ],
            [
             1,
             "#f0f921"
            ]
           ],
           "sequentialminus": [
            [
             0,
             "#0d0887"
            ],
            [
             0.1111111111111111,
             "#46039f"
            ],
            [
             0.2222222222222222,
             "#7201a8"
            ],
            [
             0.3333333333333333,
             "#9c179e"
            ],
            [
             0.4444444444444444,
             "#bd3786"
            ],
            [
             0.5555555555555556,
             "#d8576b"
            ],
            [
             0.6666666666666666,
             "#ed7953"
            ],
            [
             0.7777777777777778,
             "#fb9f3a"
            ],
            [
             0.8888888888888888,
             "#fdca26"
            ],
            [
             1,
             "#f0f921"
            ]
           ]
          },
          "colorway": [
           "#636efa",
           "#EF553B",
           "#00cc96",
           "#ab63fa",
           "#FFA15A",
           "#19d3f3",
           "#FF6692",
           "#B6E880",
           "#FF97FF",
           "#FECB52"
          ],
          "font": {
           "color": "#2a3f5f"
          },
          "geo": {
           "bgcolor": "white",
           "lakecolor": "white",
           "landcolor": "#E5ECF6",
           "showlakes": true,
           "showland": true,
           "subunitcolor": "white"
          },
          "hoverlabel": {
           "align": "left"
          },
          "hovermode": "closest",
          "mapbox": {
           "style": "light"
          },
          "paper_bgcolor": "white",
          "plot_bgcolor": "#E5ECF6",
          "polar": {
           "angularaxis": {
            "gridcolor": "white",
            "linecolor": "white",
            "ticks": ""
           },
           "bgcolor": "#E5ECF6",
           "radialaxis": {
            "gridcolor": "white",
            "linecolor": "white",
            "ticks": ""
           }
          },
          "scene": {
           "xaxis": {
            "backgroundcolor": "#E5ECF6",
            "gridcolor": "white",
            "gridwidth": 2,
            "linecolor": "white",
            "showbackground": true,
            "ticks": "",
            "zerolinecolor": "white"
           },
           "yaxis": {
            "backgroundcolor": "#E5ECF6",
            "gridcolor": "white",
            "gridwidth": 2,
            "linecolor": "white",
            "showbackground": true,
            "ticks": "",
            "zerolinecolor": "white"
           },
           "zaxis": {
            "backgroundcolor": "#E5ECF6",
            "gridcolor": "white",
            "gridwidth": 2,
            "linecolor": "white",
            "showbackground": true,
            "ticks": "",
            "zerolinecolor": "white"
           }
          },
          "shapedefaults": {
           "line": {
            "color": "#2a3f5f"
           }
          },
          "ternary": {
           "aaxis": {
            "gridcolor": "white",
            "linecolor": "white",
            "ticks": ""
           },
           "baxis": {
            "gridcolor": "white",
            "linecolor": "white",
            "ticks": ""
           },
           "bgcolor": "#E5ECF6",
           "caxis": {
            "gridcolor": "white",
            "linecolor": "white",
            "ticks": ""
           }
          },
          "title": {
           "x": 0.05
          },
          "xaxis": {
           "automargin": true,
           "gridcolor": "white",
           "linecolor": "white",
           "ticks": "",
           "title": {
            "standoff": 15
           },
           "zerolinecolor": "white",
           "zerolinewidth": 2
          },
          "yaxis": {
           "automargin": true,
           "gridcolor": "white",
           "linecolor": "white",
           "ticks": "",
           "title": {
            "standoff": 15
           },
           "zerolinecolor": "white",
           "zerolinewidth": 2
          }
         }
        }
       }
      }
     },
     "metadata": {}
    }
   ],
   "source": [
    "#create dictionary for angle and radius values \n",
    "df = pd.DataFrame(dict(\n",
    "    r= radius_values,\n",
    "    theta= features))\n",
    "\n",
    "#create radar chart\n",
    "fig = px.line_polar(df, r='r', theta='theta', line_close=True)\n",
    "\n",
    "#fill in area\n",
    "fig.update_traces(fill='toself')\n",
    "\n",
    "#plot chart\n",
    "fig.show()"
   ]
  },
  {
   "cell_type": "markdown",
   "metadata": {},
   "source": [
    "### Third set of variables (categorical)"
   ]
  },
  {
   "cell_type": "code",
   "execution_count": 216,
   "metadata": {},
   "outputs": [],
   "source": [
    "#Features that are being compared\n",
    "features = ['Completion Type', 'Formation', 'Fluid Type from DI', 'Date Fracd', 'Operator']\n",
    "#Radius values for each variable\n",
    "radius_values = []\n",
    "for i in features:\n",
    "        radius_values.append(spearman_correlation.at[i, '12 month Cum Prod'])"
   ]
  },
  {
   "cell_type": "code",
   "execution_count": 217,
   "metadata": {},
   "outputs": [
    {
     "output_type": "display_data",
     "data": {
      "application/vnd.plotly.v1+json": {
       "config": {
        "plotlyServerURL": "https://plot.ly"
       },
       "data": [
        {
         "fill": "toself",
         "hovertemplate": "r=%{r}<br>theta=%{theta}<extra></extra>",
         "legendgroup": "",
         "line": {
          "color": "#636efa",
          "dash": "solid"
         },
         "mode": "lines",
         "name": "",
         "r": [
          0.22916135729844944,
          -0.09027778623828797,
          0.16242319755152157,
          0.2457928735959948,
          0.13470902886391176,
          0.22916135729844944
         ],
         "showlegend": false,
         "subplot": "polar",
         "theta": [
          "Completion Type",
          "Formation",
          "Fluid Type from DI",
          "Date Fracd",
          "Operator",
          "Completion Type"
         ],
         "type": "scatterpolar"
        }
       ],
       "layout": {
        "legend": {
         "tracegroupgap": 0
        },
        "margin": {
         "t": 60
        },
        "polar": {
         "angularaxis": {
          "direction": "clockwise",
          "rotation": 90
         },
         "domain": {
          "x": [
           0,
           1
          ],
          "y": [
           0,
           1
          ]
         }
        },
        "template": {
         "data": {
          "bar": [
           {
            "error_x": {
             "color": "#2a3f5f"
            },
            "error_y": {
             "color": "#2a3f5f"
            },
            "marker": {
             "line": {
              "color": "#E5ECF6",
              "width": 0.5
             }
            },
            "type": "bar"
           }
          ],
          "barpolar": [
           {
            "marker": {
             "line": {
              "color": "#E5ECF6",
              "width": 0.5
             }
            },
            "type": "barpolar"
           }
          ],
          "carpet": [
           {
            "aaxis": {
             "endlinecolor": "#2a3f5f",
             "gridcolor": "white",
             "linecolor": "white",
             "minorgridcolor": "white",
             "startlinecolor": "#2a3f5f"
            },
            "baxis": {
             "endlinecolor": "#2a3f5f",
             "gridcolor": "white",
             "linecolor": "white",
             "minorgridcolor": "white",
             "startlinecolor": "#2a3f5f"
            },
            "type": "carpet"
           }
          ],
          "choropleth": [
           {
            "colorbar": {
             "outlinewidth": 0,
             "ticks": ""
            },
            "type": "choropleth"
           }
          ],
          "contour": [
           {
            "colorbar": {
             "outlinewidth": 0,
             "ticks": ""
            },
            "colorscale": [
             [
              0,
              "#0d0887"
             ],
             [
              0.1111111111111111,
              "#46039f"
             ],
             [
              0.2222222222222222,
              "#7201a8"
             ],
             [
              0.3333333333333333,
              "#9c179e"
             ],
             [
              0.4444444444444444,
              "#bd3786"
             ],
             [
              0.5555555555555556,
              "#d8576b"
             ],
             [
              0.6666666666666666,
              "#ed7953"
             ],
             [
              0.7777777777777778,
              "#fb9f3a"
             ],
             [
              0.8888888888888888,
              "#fdca26"
             ],
             [
              1,
              "#f0f921"
             ]
            ],
            "type": "contour"
           }
          ],
          "contourcarpet": [
           {
            "colorbar": {
             "outlinewidth": 0,
             "ticks": ""
            },
            "type": "contourcarpet"
           }
          ],
          "heatmap": [
           {
            "colorbar": {
             "outlinewidth": 0,
             "ticks": ""
            },
            "colorscale": [
             [
              0,
              "#0d0887"
             ],
             [
              0.1111111111111111,
              "#46039f"
             ],
             [
              0.2222222222222222,
              "#7201a8"
             ],
             [
              0.3333333333333333,
              "#9c179e"
             ],
             [
              0.4444444444444444,
              "#bd3786"
             ],
             [
              0.5555555555555556,
              "#d8576b"
             ],
             [
              0.6666666666666666,
              "#ed7953"
             ],
             [
              0.7777777777777778,
              "#fb9f3a"
             ],
             [
              0.8888888888888888,
              "#fdca26"
             ],
             [
              1,
              "#f0f921"
             ]
            ],
            "type": "heatmap"
           }
          ],
          "heatmapgl": [
           {
            "colorbar": {
             "outlinewidth": 0,
             "ticks": ""
            },
            "colorscale": [
             [
              0,
              "#0d0887"
             ],
             [
              0.1111111111111111,
              "#46039f"
             ],
             [
              0.2222222222222222,
              "#7201a8"
             ],
             [
              0.3333333333333333,
              "#9c179e"
             ],
             [
              0.4444444444444444,
              "#bd3786"
             ],
             [
              0.5555555555555556,
              "#d8576b"
             ],
             [
              0.6666666666666666,
              "#ed7953"
             ],
             [
              0.7777777777777778,
              "#fb9f3a"
             ],
             [
              0.8888888888888888,
              "#fdca26"
             ],
             [
              1,
              "#f0f921"
             ]
            ],
            "type": "heatmapgl"
           }
          ],
          "histogram": [
           {
            "marker": {
             "colorbar": {
              "outlinewidth": 0,
              "ticks": ""
             }
            },
            "type": "histogram"
           }
          ],
          "histogram2d": [
           {
            "colorbar": {
             "outlinewidth": 0,
             "ticks": ""
            },
            "colorscale": [
             [
              0,
              "#0d0887"
             ],
             [
              0.1111111111111111,
              "#46039f"
             ],
             [
              0.2222222222222222,
              "#7201a8"
             ],
             [
              0.3333333333333333,
              "#9c179e"
             ],
             [
              0.4444444444444444,
              "#bd3786"
             ],
             [
              0.5555555555555556,
              "#d8576b"
             ],
             [
              0.6666666666666666,
              "#ed7953"
             ],
             [
              0.7777777777777778,
              "#fb9f3a"
             ],
             [
              0.8888888888888888,
              "#fdca26"
             ],
             [
              1,
              "#f0f921"
             ]
            ],
            "type": "histogram2d"
           }
          ],
          "histogram2dcontour": [
           {
            "colorbar": {
             "outlinewidth": 0,
             "ticks": ""
            },
            "colorscale": [
             [
              0,
              "#0d0887"
             ],
             [
              0.1111111111111111,
              "#46039f"
             ],
             [
              0.2222222222222222,
              "#7201a8"
             ],
             [
              0.3333333333333333,
              "#9c179e"
             ],
             [
              0.4444444444444444,
              "#bd3786"
             ],
             [
              0.5555555555555556,
              "#d8576b"
             ],
             [
              0.6666666666666666,
              "#ed7953"
             ],
             [
              0.7777777777777778,
              "#fb9f3a"
             ],
             [
              0.8888888888888888,
              "#fdca26"
             ],
             [
              1,
              "#f0f921"
             ]
            ],
            "type": "histogram2dcontour"
           }
          ],
          "mesh3d": [
           {
            "colorbar": {
             "outlinewidth": 0,
             "ticks": ""
            },
            "type": "mesh3d"
           }
          ],
          "parcoords": [
           {
            "line": {
             "colorbar": {
              "outlinewidth": 0,
              "ticks": ""
             }
            },
            "type": "parcoords"
           }
          ],
          "pie": [
           {
            "automargin": true,
            "type": "pie"
           }
          ],
          "scatter": [
           {
            "marker": {
             "colorbar": {
              "outlinewidth": 0,
              "ticks": ""
             }
            },
            "type": "scatter"
           }
          ],
          "scatter3d": [
           {
            "line": {
             "colorbar": {
              "outlinewidth": 0,
              "ticks": ""
             }
            },
            "marker": {
             "colorbar": {
              "outlinewidth": 0,
              "ticks": ""
             }
            },
            "type": "scatter3d"
           }
          ],
          "scattercarpet": [
           {
            "marker": {
             "colorbar": {
              "outlinewidth": 0,
              "ticks": ""
             }
            },
            "type": "scattercarpet"
           }
          ],
          "scattergeo": [
           {
            "marker": {
             "colorbar": {
              "outlinewidth": 0,
              "ticks": ""
             }
            },
            "type": "scattergeo"
           }
          ],
          "scattergl": [
           {
            "marker": {
             "colorbar": {
              "outlinewidth": 0,
              "ticks": ""
             }
            },
            "type": "scattergl"
           }
          ],
          "scattermapbox": [
           {
            "marker": {
             "colorbar": {
              "outlinewidth": 0,
              "ticks": ""
             }
            },
            "type": "scattermapbox"
           }
          ],
          "scatterpolar": [
           {
            "marker": {
             "colorbar": {
              "outlinewidth": 0,
              "ticks": ""
             }
            },
            "type": "scatterpolar"
           }
          ],
          "scatterpolargl": [
           {
            "marker": {
             "colorbar": {
              "outlinewidth": 0,
              "ticks": ""
             }
            },
            "type": "scatterpolargl"
           }
          ],
          "scatterternary": [
           {
            "marker": {
             "colorbar": {
              "outlinewidth": 0,
              "ticks": ""
             }
            },
            "type": "scatterternary"
           }
          ],
          "surface": [
           {
            "colorbar": {
             "outlinewidth": 0,
             "ticks": ""
            },
            "colorscale": [
             [
              0,
              "#0d0887"
             ],
             [
              0.1111111111111111,
              "#46039f"
             ],
             [
              0.2222222222222222,
              "#7201a8"
             ],
             [
              0.3333333333333333,
              "#9c179e"
             ],
             [
              0.4444444444444444,
              "#bd3786"
             ],
             [
              0.5555555555555556,
              "#d8576b"
             ],
             [
              0.6666666666666666,
              "#ed7953"
             ],
             [
              0.7777777777777778,
              "#fb9f3a"
             ],
             [
              0.8888888888888888,
              "#fdca26"
             ],
             [
              1,
              "#f0f921"
             ]
            ],
            "type": "surface"
           }
          ],
          "table": [
           {
            "cells": {
             "fill": {
              "color": "#EBF0F8"
             },
             "line": {
              "color": "white"
             }
            },
            "header": {
             "fill": {
              "color": "#C8D4E3"
             },
             "line": {
              "color": "white"
             }
            },
            "type": "table"
           }
          ]
         },
         "layout": {
          "annotationdefaults": {
           "arrowcolor": "#2a3f5f",
           "arrowhead": 0,
           "arrowwidth": 1
          },
          "coloraxis": {
           "colorbar": {
            "outlinewidth": 0,
            "ticks": ""
           }
          },
          "colorscale": {
           "diverging": [
            [
             0,
             "#8e0152"
            ],
            [
             0.1,
             "#c51b7d"
            ],
            [
             0.2,
             "#de77ae"
            ],
            [
             0.3,
             "#f1b6da"
            ],
            [
             0.4,
             "#fde0ef"
            ],
            [
             0.5,
             "#f7f7f7"
            ],
            [
             0.6,
             "#e6f5d0"
            ],
            [
             0.7,
             "#b8e186"
            ],
            [
             0.8,
             "#7fbc41"
            ],
            [
             0.9,
             "#4d9221"
            ],
            [
             1,
             "#276419"
            ]
           ],
           "sequential": [
            [
             0,
             "#0d0887"
            ],
            [
             0.1111111111111111,
             "#46039f"
            ],
            [
             0.2222222222222222,
             "#7201a8"
            ],
            [
             0.3333333333333333,
             "#9c179e"
            ],
            [
             0.4444444444444444,
             "#bd3786"
            ],
            [
             0.5555555555555556,
             "#d8576b"
            ],
            [
             0.6666666666666666,
             "#ed7953"
            ],
            [
             0.7777777777777778,
             "#fb9f3a"
            ],
            [
             0.8888888888888888,
             "#fdca26"
            ],
            [
             1,
             "#f0f921"
            ]
           ],
           "sequentialminus": [
            [
             0,
             "#0d0887"
            ],
            [
             0.1111111111111111,
             "#46039f"
            ],
            [
             0.2222222222222222,
             "#7201a8"
            ],
            [
             0.3333333333333333,
             "#9c179e"
            ],
            [
             0.4444444444444444,
             "#bd3786"
            ],
            [
             0.5555555555555556,
             "#d8576b"
            ],
            [
             0.6666666666666666,
             "#ed7953"
            ],
            [
             0.7777777777777778,
             "#fb9f3a"
            ],
            [
             0.8888888888888888,
             "#fdca26"
            ],
            [
             1,
             "#f0f921"
            ]
           ]
          },
          "colorway": [
           "#636efa",
           "#EF553B",
           "#00cc96",
           "#ab63fa",
           "#FFA15A",
           "#19d3f3",
           "#FF6692",
           "#B6E880",
           "#FF97FF",
           "#FECB52"
          ],
          "font": {
           "color": "#2a3f5f"
          },
          "geo": {
           "bgcolor": "white",
           "lakecolor": "white",
           "landcolor": "#E5ECF6",
           "showlakes": true,
           "showland": true,
           "subunitcolor": "white"
          },
          "hoverlabel": {
           "align": "left"
          },
          "hovermode": "closest",
          "mapbox": {
           "style": "light"
          },
          "paper_bgcolor": "white",
          "plot_bgcolor": "#E5ECF6",
          "polar": {
           "angularaxis": {
            "gridcolor": "white",
            "linecolor": "white",
            "ticks": ""
           },
           "bgcolor": "#E5ECF6",
           "radialaxis": {
            "gridcolor": "white",
            "linecolor": "white",
            "ticks": ""
           }
          },
          "scene": {
           "xaxis": {
            "backgroundcolor": "#E5ECF6",
            "gridcolor": "white",
            "gridwidth": 2,
            "linecolor": "white",
            "showbackground": true,
            "ticks": "",
            "zerolinecolor": "white"
           },
           "yaxis": {
            "backgroundcolor": "#E5ECF6",
            "gridcolor": "white",
            "gridwidth": 2,
            "linecolor": "white",
            "showbackground": true,
            "ticks": "",
            "zerolinecolor": "white"
           },
           "zaxis": {
            "backgroundcolor": "#E5ECF6",
            "gridcolor": "white",
            "gridwidth": 2,
            "linecolor": "white",
            "showbackground": true,
            "ticks": "",
            "zerolinecolor": "white"
           }
          },
          "shapedefaults": {
           "line": {
            "color": "#2a3f5f"
           }
          },
          "ternary": {
           "aaxis": {
            "gridcolor": "white",
            "linecolor": "white",
            "ticks": ""
           },
           "baxis": {
            "gridcolor": "white",
            "linecolor": "white",
            "ticks": ""
           },
           "bgcolor": "#E5ECF6",
           "caxis": {
            "gridcolor": "white",
            "linecolor": "white",
            "ticks": ""
           }
          },
          "title": {
           "x": 0.05
          },
          "xaxis": {
           "automargin": true,
           "gridcolor": "white",
           "linecolor": "white",
           "ticks": "",
           "title": {
            "standoff": 15
           },
           "zerolinecolor": "white",
           "zerolinewidth": 2
          },
          "yaxis": {
           "automargin": true,
           "gridcolor": "white",
           "linecolor": "white",
           "ticks": "",
           "title": {
            "standoff": 15
           },
           "zerolinecolor": "white",
           "zerolinewidth": 2
          }
         }
        }
       }
      }
     },
     "metadata": {}
    }
   ],
   "source": [
    "#create dictionary for angle and radius values \n",
    "df = pd.DataFrame(dict(\n",
    "    r= radius_values,\n",
    "    theta= features))\n",
    "\n",
    "#create radar chart\n",
    "fig = px.line_polar(df, r='r', theta='theta', line_close=True)\n",
    "\n",
    "#fill in area\n",
    "fig.update_traces(fill='toself')\n",
    "\n",
    "#plot chart\n",
    "fig.show()"
   ]
  },
  {
   "cell_type": "markdown",
   "metadata": {},
   "source": [
    "### Completion Types"
   ]
  },
  {
   "cell_type": "code",
   "execution_count": 89,
   "metadata": {},
   "outputs": [],
   "source": [
    "#Features that are being compared\n",
    "features = completion_types\n",
    "#Radius values for each variable\n",
    "radius_values = []\n",
    "for i in features:\n",
    "        radius_values.append(spearman_correlation.at[i, '12 month Cum Prod'])"
   ]
  },
  {
   "cell_type": "code",
   "execution_count": 90,
   "metadata": {},
   "outputs": [
    {
     "output_type": "display_data",
     "data": {
      "application/vnd.plotly.v1+json": {
       "config": {
        "plotlyServerURL": "https://plot.ly"
       },
       "data": [
        {
         "fill": "toself",
         "hovertemplate": "r=%{r}<br>theta=%{theta}<extra></extra>",
         "legendgroup": "",
         "line": {
          "color": "#636efa",
          "dash": "solid"
         },
         "mode": "lines",
         "name": "",
         "r": [
          -0.15311331803128916,
          -0.00792765823034753,
          0.17995101339456018,
          0.02807106071287933,
          -0.020860627231473687,
          -0.05179233851054635,
          -0.021080452155061165,
          -0.0035623274702844257,
          -0.007619084919379659,
          -0.018058214521310165,
          -0.016667756984031955,
          0.010875683325977815,
          -0.0038864613337707154,
          -0.15311331803128916
         ],
         "showlegend": false,
         "subplot": "polar",
         "theta": [
          "OH",
          "Sleeves",
          "P & P",
          "Sleeves and P & P",
          "Screen",
          "Cemented Liner",
          "Perforated Liner",
          "Frac Ports",
          "Frac Ports and P & P",
          "Frac Ports and Repeater Ports",
          "CT",
          "P & P and CT",
          "Repeater Ports and P & P",
          "OH"
         ],
         "type": "scatterpolar"
        }
       ],
       "layout": {
        "legend": {
         "tracegroupgap": 0
        },
        "margin": {
         "t": 60
        },
        "polar": {
         "angularaxis": {
          "direction": "clockwise",
          "rotation": 90
         },
         "domain": {
          "x": [
           0,
           1
          ],
          "y": [
           0,
           1
          ]
         }
        },
        "template": {
         "data": {
          "bar": [
           {
            "error_x": {
             "color": "#2a3f5f"
            },
            "error_y": {
             "color": "#2a3f5f"
            },
            "marker": {
             "line": {
              "color": "#E5ECF6",
              "width": 0.5
             }
            },
            "type": "bar"
           }
          ],
          "barpolar": [
           {
            "marker": {
             "line": {
              "color": "#E5ECF6",
              "width": 0.5
             }
            },
            "type": "barpolar"
           }
          ],
          "carpet": [
           {
            "aaxis": {
             "endlinecolor": "#2a3f5f",
             "gridcolor": "white",
             "linecolor": "white",
             "minorgridcolor": "white",
             "startlinecolor": "#2a3f5f"
            },
            "baxis": {
             "endlinecolor": "#2a3f5f",
             "gridcolor": "white",
             "linecolor": "white",
             "minorgridcolor": "white",
             "startlinecolor": "#2a3f5f"
            },
            "type": "carpet"
           }
          ],
          "choropleth": [
           {
            "colorbar": {
             "outlinewidth": 0,
             "ticks": ""
            },
            "type": "choropleth"
           }
          ],
          "contour": [
           {
            "colorbar": {
             "outlinewidth": 0,
             "ticks": ""
            },
            "colorscale": [
             [
              0,
              "#0d0887"
             ],
             [
              0.1111111111111111,
              "#46039f"
             ],
             [
              0.2222222222222222,
              "#7201a8"
             ],
             [
              0.3333333333333333,
              "#9c179e"
             ],
             [
              0.4444444444444444,
              "#bd3786"
             ],
             [
              0.5555555555555556,
              "#d8576b"
             ],
             [
              0.6666666666666666,
              "#ed7953"
             ],
             [
              0.7777777777777778,
              "#fb9f3a"
             ],
             [
              0.8888888888888888,
              "#fdca26"
             ],
             [
              1,
              "#f0f921"
             ]
            ],
            "type": "contour"
           }
          ],
          "contourcarpet": [
           {
            "colorbar": {
             "outlinewidth": 0,
             "ticks": ""
            },
            "type": "contourcarpet"
           }
          ],
          "heatmap": [
           {
            "colorbar": {
             "outlinewidth": 0,
             "ticks": ""
            },
            "colorscale": [
             [
              0,
              "#0d0887"
             ],
             [
              0.1111111111111111,
              "#46039f"
             ],
             [
              0.2222222222222222,
              "#7201a8"
             ],
             [
              0.3333333333333333,
              "#9c179e"
             ],
             [
              0.4444444444444444,
              "#bd3786"
             ],
             [
              0.5555555555555556,
              "#d8576b"
             ],
             [
              0.6666666666666666,
              "#ed7953"
             ],
             [
              0.7777777777777778,
              "#fb9f3a"
             ],
             [
              0.8888888888888888,
              "#fdca26"
             ],
             [
              1,
              "#f0f921"
             ]
            ],
            "type": "heatmap"
           }
          ],
          "heatmapgl": [
           {
            "colorbar": {
             "outlinewidth": 0,
             "ticks": ""
            },
            "colorscale": [
             [
              0,
              "#0d0887"
             ],
             [
              0.1111111111111111,
              "#46039f"
             ],
             [
              0.2222222222222222,
              "#7201a8"
             ],
             [
              0.3333333333333333,
              "#9c179e"
             ],
             [
              0.4444444444444444,
              "#bd3786"
             ],
             [
              0.5555555555555556,
              "#d8576b"
             ],
             [
              0.6666666666666666,
              "#ed7953"
             ],
             [
              0.7777777777777778,
              "#fb9f3a"
             ],
             [
              0.8888888888888888,
              "#fdca26"
             ],
             [
              1,
              "#f0f921"
             ]
            ],
            "type": "heatmapgl"
           }
          ],
          "histogram": [
           {
            "marker": {
             "colorbar": {
              "outlinewidth": 0,
              "ticks": ""
             }
            },
            "type": "histogram"
           }
          ],
          "histogram2d": [
           {
            "colorbar": {
             "outlinewidth": 0,
             "ticks": ""
            },
            "colorscale": [
             [
              0,
              "#0d0887"
             ],
             [
              0.1111111111111111,
              "#46039f"
             ],
             [
              0.2222222222222222,
              "#7201a8"
             ],
             [
              0.3333333333333333,
              "#9c179e"
             ],
             [
              0.4444444444444444,
              "#bd3786"
             ],
             [
              0.5555555555555556,
              "#d8576b"
             ],
             [
              0.6666666666666666,
              "#ed7953"
             ],
             [
              0.7777777777777778,
              "#fb9f3a"
             ],
             [
              0.8888888888888888,
              "#fdca26"
             ],
             [
              1,
              "#f0f921"
             ]
            ],
            "type": "histogram2d"
           }
          ],
          "histogram2dcontour": [
           {
            "colorbar": {
             "outlinewidth": 0,
             "ticks": ""
            },
            "colorscale": [
             [
              0,
              "#0d0887"
             ],
             [
              0.1111111111111111,
              "#46039f"
             ],
             [
              0.2222222222222222,
              "#7201a8"
             ],
             [
              0.3333333333333333,
              "#9c179e"
             ],
             [
              0.4444444444444444,
              "#bd3786"
             ],
             [
              0.5555555555555556,
              "#d8576b"
             ],
             [
              0.6666666666666666,
              "#ed7953"
             ],
             [
              0.7777777777777778,
              "#fb9f3a"
             ],
             [
              0.8888888888888888,
              "#fdca26"
             ],
             [
              1,
              "#f0f921"
             ]
            ],
            "type": "histogram2dcontour"
           }
          ],
          "mesh3d": [
           {
            "colorbar": {
             "outlinewidth": 0,
             "ticks": ""
            },
            "type": "mesh3d"
           }
          ],
          "parcoords": [
           {
            "line": {
             "colorbar": {
              "outlinewidth": 0,
              "ticks": ""
             }
            },
            "type": "parcoords"
           }
          ],
          "pie": [
           {
            "automargin": true,
            "type": "pie"
           }
          ],
          "scatter": [
           {
            "marker": {
             "colorbar": {
              "outlinewidth": 0,
              "ticks": ""
             }
            },
            "type": "scatter"
           }
          ],
          "scatter3d": [
           {
            "line": {
             "colorbar": {
              "outlinewidth": 0,
              "ticks": ""
             }
            },
            "marker": {
             "colorbar": {
              "outlinewidth": 0,
              "ticks": ""
             }
            },
            "type": "scatter3d"
           }
          ],
          "scattercarpet": [
           {
            "marker": {
             "colorbar": {
              "outlinewidth": 0,
              "ticks": ""
             }
            },
            "type": "scattercarpet"
           }
          ],
          "scattergeo": [
           {
            "marker": {
             "colorbar": {
              "outlinewidth": 0,
              "ticks": ""
             }
            },
            "type": "scattergeo"
           }
          ],
          "scattergl": [
           {
            "marker": {
             "colorbar": {
              "outlinewidth": 0,
              "ticks": ""
             }
            },
            "type": "scattergl"
           }
          ],
          "scattermapbox": [
           {
            "marker": {
             "colorbar": {
              "outlinewidth": 0,
              "ticks": ""
             }
            },
            "type": "scattermapbox"
           }
          ],
          "scatterpolar": [
           {
            "marker": {
             "colorbar": {
              "outlinewidth": 0,
              "ticks": ""
             }
            },
            "type": "scatterpolar"
           }
          ],
          "scatterpolargl": [
           {
            "marker": {
             "colorbar": {
              "outlinewidth": 0,
              "ticks": ""
             }
            },
            "type": "scatterpolargl"
           }
          ],
          "scatterternary": [
           {
            "marker": {
             "colorbar": {
              "outlinewidth": 0,
              "ticks": ""
             }
            },
            "type": "scatterternary"
           }
          ],
          "surface": [
           {
            "colorbar": {
             "outlinewidth": 0,
             "ticks": ""
            },
            "colorscale": [
             [
              0,
              "#0d0887"
             ],
             [
              0.1111111111111111,
              "#46039f"
             ],
             [
              0.2222222222222222,
              "#7201a8"
             ],
             [
              0.3333333333333333,
              "#9c179e"
             ],
             [
              0.4444444444444444,
              "#bd3786"
             ],
             [
              0.5555555555555556,
              "#d8576b"
             ],
             [
              0.6666666666666666,
              "#ed7953"
             ],
             [
              0.7777777777777778,
              "#fb9f3a"
             ],
             [
              0.8888888888888888,
              "#fdca26"
             ],
             [
              1,
              "#f0f921"
             ]
            ],
            "type": "surface"
           }
          ],
          "table": [
           {
            "cells": {
             "fill": {
              "color": "#EBF0F8"
             },
             "line": {
              "color": "white"
             }
            },
            "header": {
             "fill": {
              "color": "#C8D4E3"
             },
             "line": {
              "color": "white"
             }
            },
            "type": "table"
           }
          ]
         },
         "layout": {
          "annotationdefaults": {
           "arrowcolor": "#2a3f5f",
           "arrowhead": 0,
           "arrowwidth": 1
          },
          "coloraxis": {
           "colorbar": {
            "outlinewidth": 0,
            "ticks": ""
           }
          },
          "colorscale": {
           "diverging": [
            [
             0,
             "#8e0152"
            ],
            [
             0.1,
             "#c51b7d"
            ],
            [
             0.2,
             "#de77ae"
            ],
            [
             0.3,
             "#f1b6da"
            ],
            [
             0.4,
             "#fde0ef"
            ],
            [
             0.5,
             "#f7f7f7"
            ],
            [
             0.6,
             "#e6f5d0"
            ],
            [
             0.7,
             "#b8e186"
            ],
            [
             0.8,
             "#7fbc41"
            ],
            [
             0.9,
             "#4d9221"
            ],
            [
             1,
             "#276419"
            ]
           ],
           "sequential": [
            [
             0,
             "#0d0887"
            ],
            [
             0.1111111111111111,
             "#46039f"
            ],
            [
             0.2222222222222222,
             "#7201a8"
            ],
            [
             0.3333333333333333,
             "#9c179e"
            ],
            [
             0.4444444444444444,
             "#bd3786"
            ],
            [
             0.5555555555555556,
             "#d8576b"
            ],
            [
             0.6666666666666666,
             "#ed7953"
            ],
            [
             0.7777777777777778,
             "#fb9f3a"
            ],
            [
             0.8888888888888888,
             "#fdca26"
            ],
            [
             1,
             "#f0f921"
            ]
           ],
           "sequentialminus": [
            [
             0,
             "#0d0887"
            ],
            [
             0.1111111111111111,
             "#46039f"
            ],
            [
             0.2222222222222222,
             "#7201a8"
            ],
            [
             0.3333333333333333,
             "#9c179e"
            ],
            [
             0.4444444444444444,
             "#bd3786"
            ],
            [
             0.5555555555555556,
             "#d8576b"
            ],
            [
             0.6666666666666666,
             "#ed7953"
            ],
            [
             0.7777777777777778,
             "#fb9f3a"
            ],
            [
             0.8888888888888888,
             "#fdca26"
            ],
            [
             1,
             "#f0f921"
            ]
           ]
          },
          "colorway": [
           "#636efa",
           "#EF553B",
           "#00cc96",
           "#ab63fa",
           "#FFA15A",
           "#19d3f3",
           "#FF6692",
           "#B6E880",
           "#FF97FF",
           "#FECB52"
          ],
          "font": {
           "color": "#2a3f5f"
          },
          "geo": {
           "bgcolor": "white",
           "lakecolor": "white",
           "landcolor": "#E5ECF6",
           "showlakes": true,
           "showland": true,
           "subunitcolor": "white"
          },
          "hoverlabel": {
           "align": "left"
          },
          "hovermode": "closest",
          "mapbox": {
           "style": "light"
          },
          "paper_bgcolor": "white",
          "plot_bgcolor": "#E5ECF6",
          "polar": {
           "angularaxis": {
            "gridcolor": "white",
            "linecolor": "white",
            "ticks": ""
           },
           "bgcolor": "#E5ECF6",
           "radialaxis": {
            "gridcolor": "white",
            "linecolor": "white",
            "ticks": ""
           }
          },
          "scene": {
           "xaxis": {
            "backgroundcolor": "#E5ECF6",
            "gridcolor": "white",
            "gridwidth": 2,
            "linecolor": "white",
            "showbackground": true,
            "ticks": "",
            "zerolinecolor": "white"
           },
           "yaxis": {
            "backgroundcolor": "#E5ECF6",
            "gridcolor": "white",
            "gridwidth": 2,
            "linecolor": "white",
            "showbackground": true,
            "ticks": "",
            "zerolinecolor": "white"
           },
           "zaxis": {
            "backgroundcolor": "#E5ECF6",
            "gridcolor": "white",
            "gridwidth": 2,
            "linecolor": "white",
            "showbackground": true,
            "ticks": "",
            "zerolinecolor": "white"
           }
          },
          "shapedefaults": {
           "line": {
            "color": "#2a3f5f"
           }
          },
          "ternary": {
           "aaxis": {
            "gridcolor": "white",
            "linecolor": "white",
            "ticks": ""
           },
           "baxis": {
            "gridcolor": "white",
            "linecolor": "white",
            "ticks": ""
           },
           "bgcolor": "#E5ECF6",
           "caxis": {
            "gridcolor": "white",
            "linecolor": "white",
            "ticks": ""
           }
          },
          "title": {
           "x": 0.05
          },
          "xaxis": {
           "automargin": true,
           "gridcolor": "white",
           "linecolor": "white",
           "ticks": "",
           "title": {
            "standoff": 15
           },
           "zerolinecolor": "white",
           "zerolinewidth": 2
          },
          "yaxis": {
           "automargin": true,
           "gridcolor": "white",
           "linecolor": "white",
           "ticks": "",
           "title": {
            "standoff": 15
           },
           "zerolinecolor": "white",
           "zerolinewidth": 2
          }
         }
        }
       }
      }
     },
     "metadata": {}
    }
   ],
   "source": [
    "#create dictionary for angle and radius values \n",
    "df = pd.DataFrame(dict(\n",
    "    r= radius_values,\n",
    "    theta= features))\n",
    "\n",
    "#create radar chart\n",
    "fig = px.line_polar(df, r='r', theta='theta', line_close=True)\n",
    "\n",
    "#fill in area\n",
    "fig.update_traces(fill='toself')\n",
    "\n",
    "#plot chart\n",
    "fig.show()"
   ]
  },
  {
   "cell_type": "markdown",
   "metadata": {},
   "source": [
    "It seems like P&P seems to have the highest correlation to the cumulative production out of all the completion types."
   ]
  },
  {
   "cell_type": "markdown",
   "metadata": {},
   "source": [
    "### Formation Types"
   ]
  },
  {
   "cell_type": "code",
   "execution_count": 107,
   "metadata": {},
   "outputs": [],
   "source": [
    "#Features that are being compared\n",
    "features = formation_types\n",
    "#Radius values for each variable\n",
    "radius_values = []\n",
    "for i in features:\n",
    "        radius_values.append(spearman_correlation.at[i, '12 month Cum Prod'])"
   ]
  },
  {
   "cell_type": "code",
   "execution_count": 108,
   "metadata": {},
   "outputs": [
    {
     "output_type": "display_data",
     "data": {
      "application/vnd.plotly.v1+json": {
       "config": {
        "plotlyServerURL": "https://plot.ly"
       },
       "data": [
        {
         "fill": "toself",
         "hovertemplate": "r=%{r}<br>theta=%{theta}<extra></extra>",
         "legendgroup": "",
         "line": {
          "color": "#636efa",
          "dash": "solid"
         },
         "mode": "lines",
         "name": "",
         "r": [
          -0.09238519849764973,
          -0.09274067779399989,
          -0.04250778229187816,
          0.0065149587983370835,
          -0.016010401454388416,
          -0.012260462645829154,
          0.01714494424813748,
          0.026992649786097028,
          -0.008307217622164045,
          0.014266543538063803,
          -0.00040608052386849217,
          -0.09238519849764973
         ],
         "showlegend": false,
         "subplot": "polar",
         "theta": [
          "MBH",
          "TFH",
          "MBH/TFH",
          "TF2",
          "TF4",
          "TF3",
          "UTFH",
          "TF1",
          "MTFH",
          "TFSH",
          "TF2.5",
          "MBH"
         ],
         "type": "scatterpolar"
        }
       ],
       "layout": {
        "legend": {
         "tracegroupgap": 0
        },
        "margin": {
         "t": 60
        },
        "polar": {
         "angularaxis": {
          "direction": "clockwise",
          "rotation": 90
         },
         "domain": {
          "x": [
           0,
           1
          ],
          "y": [
           0,
           1
          ]
         }
        },
        "template": {
         "data": {
          "bar": [
           {
            "error_x": {
             "color": "#2a3f5f"
            },
            "error_y": {
             "color": "#2a3f5f"
            },
            "marker": {
             "line": {
              "color": "#E5ECF6",
              "width": 0.5
             }
            },
            "type": "bar"
           }
          ],
          "barpolar": [
           {
            "marker": {
             "line": {
              "color": "#E5ECF6",
              "width": 0.5
             }
            },
            "type": "barpolar"
           }
          ],
          "carpet": [
           {
            "aaxis": {
             "endlinecolor": "#2a3f5f",
             "gridcolor": "white",
             "linecolor": "white",
             "minorgridcolor": "white",
             "startlinecolor": "#2a3f5f"
            },
            "baxis": {
             "endlinecolor": "#2a3f5f",
             "gridcolor": "white",
             "linecolor": "white",
             "minorgridcolor": "white",
             "startlinecolor": "#2a3f5f"
            },
            "type": "carpet"
           }
          ],
          "choropleth": [
           {
            "colorbar": {
             "outlinewidth": 0,
             "ticks": ""
            },
            "type": "choropleth"
           }
          ],
          "contour": [
           {
            "colorbar": {
             "outlinewidth": 0,
             "ticks": ""
            },
            "colorscale": [
             [
              0,
              "#0d0887"
             ],
             [
              0.1111111111111111,
              "#46039f"
             ],
             [
              0.2222222222222222,
              "#7201a8"
             ],
             [
              0.3333333333333333,
              "#9c179e"
             ],
             [
              0.4444444444444444,
              "#bd3786"
             ],
             [
              0.5555555555555556,
              "#d8576b"
             ],
             [
              0.6666666666666666,
              "#ed7953"
             ],
             [
              0.7777777777777778,
              "#fb9f3a"
             ],
             [
              0.8888888888888888,
              "#fdca26"
             ],
             [
              1,
              "#f0f921"
             ]
            ],
            "type": "contour"
           }
          ],
          "contourcarpet": [
           {
            "colorbar": {
             "outlinewidth": 0,
             "ticks": ""
            },
            "type": "contourcarpet"
           }
          ],
          "heatmap": [
           {
            "colorbar": {
             "outlinewidth": 0,
             "ticks": ""
            },
            "colorscale": [
             [
              0,
              "#0d0887"
             ],
             [
              0.1111111111111111,
              "#46039f"
             ],
             [
              0.2222222222222222,
              "#7201a8"
             ],
             [
              0.3333333333333333,
              "#9c179e"
             ],
             [
              0.4444444444444444,
              "#bd3786"
             ],
             [
              0.5555555555555556,
              "#d8576b"
             ],
             [
              0.6666666666666666,
              "#ed7953"
             ],
             [
              0.7777777777777778,
              "#fb9f3a"
             ],
             [
              0.8888888888888888,
              "#fdca26"
             ],
             [
              1,
              "#f0f921"
             ]
            ],
            "type": "heatmap"
           }
          ],
          "heatmapgl": [
           {
            "colorbar": {
             "outlinewidth": 0,
             "ticks": ""
            },
            "colorscale": [
             [
              0,
              "#0d0887"
             ],
             [
              0.1111111111111111,
              "#46039f"
             ],
             [
              0.2222222222222222,
              "#7201a8"
             ],
             [
              0.3333333333333333,
              "#9c179e"
             ],
             [
              0.4444444444444444,
              "#bd3786"
             ],
             [
              0.5555555555555556,
              "#d8576b"
             ],
             [
              0.6666666666666666,
              "#ed7953"
             ],
             [
              0.7777777777777778,
              "#fb9f3a"
             ],
             [
              0.8888888888888888,
              "#fdca26"
             ],
             [
              1,
              "#f0f921"
             ]
            ],
            "type": "heatmapgl"
           }
          ],
          "histogram": [
           {
            "marker": {
             "colorbar": {
              "outlinewidth": 0,
              "ticks": ""
             }
            },
            "type": "histogram"
           }
          ],
          "histogram2d": [
           {
            "colorbar": {
             "outlinewidth": 0,
             "ticks": ""
            },
            "colorscale": [
             [
              0,
              "#0d0887"
             ],
             [
              0.1111111111111111,
              "#46039f"
             ],
             [
              0.2222222222222222,
              "#7201a8"
             ],
             [
              0.3333333333333333,
              "#9c179e"
             ],
             [
              0.4444444444444444,
              "#bd3786"
             ],
             [
              0.5555555555555556,
              "#d8576b"
             ],
             [
              0.6666666666666666,
              "#ed7953"
             ],
             [
              0.7777777777777778,
              "#fb9f3a"
             ],
             [
              0.8888888888888888,
              "#fdca26"
             ],
             [
              1,
              "#f0f921"
             ]
            ],
            "type": "histogram2d"
           }
          ],
          "histogram2dcontour": [
           {
            "colorbar": {
             "outlinewidth": 0,
             "ticks": ""
            },
            "colorscale": [
             [
              0,
              "#0d0887"
             ],
             [
              0.1111111111111111,
              "#46039f"
             ],
             [
              0.2222222222222222,
              "#7201a8"
             ],
             [
              0.3333333333333333,
              "#9c179e"
             ],
             [
              0.4444444444444444,
              "#bd3786"
             ],
             [
              0.5555555555555556,
              "#d8576b"
             ],
             [
              0.6666666666666666,
              "#ed7953"
             ],
             [
              0.7777777777777778,
              "#fb9f3a"
             ],
             [
              0.8888888888888888,
              "#fdca26"
             ],
             [
              1,
              "#f0f921"
             ]
            ],
            "type": "histogram2dcontour"
           }
          ],
          "mesh3d": [
           {
            "colorbar": {
             "outlinewidth": 0,
             "ticks": ""
            },
            "type": "mesh3d"
           }
          ],
          "parcoords": [
           {
            "line": {
             "colorbar": {
              "outlinewidth": 0,
              "ticks": ""
             }
            },
            "type": "parcoords"
           }
          ],
          "pie": [
           {
            "automargin": true,
            "type": "pie"
           }
          ],
          "scatter": [
           {
            "marker": {
             "colorbar": {
              "outlinewidth": 0,
              "ticks": ""
             }
            },
            "type": "scatter"
           }
          ],
          "scatter3d": [
           {
            "line": {
             "colorbar": {
              "outlinewidth": 0,
              "ticks": ""
             }
            },
            "marker": {
             "colorbar": {
              "outlinewidth": 0,
              "ticks": ""
             }
            },
            "type": "scatter3d"
           }
          ],
          "scattercarpet": [
           {
            "marker": {
             "colorbar": {
              "outlinewidth": 0,
              "ticks": ""
             }
            },
            "type": "scattercarpet"
           }
          ],
          "scattergeo": [
           {
            "marker": {
             "colorbar": {
              "outlinewidth": 0,
              "ticks": ""
             }
            },
            "type": "scattergeo"
           }
          ],
          "scattergl": [
           {
            "marker": {
             "colorbar": {
              "outlinewidth": 0,
              "ticks": ""
             }
            },
            "type": "scattergl"
           }
          ],
          "scattermapbox": [
           {
            "marker": {
             "colorbar": {
              "outlinewidth": 0,
              "ticks": ""
             }
            },
            "type": "scattermapbox"
           }
          ],
          "scatterpolar": [
           {
            "marker": {
             "colorbar": {
              "outlinewidth": 0,
              "ticks": ""
             }
            },
            "type": "scatterpolar"
           }
          ],
          "scatterpolargl": [
           {
            "marker": {
             "colorbar": {
              "outlinewidth": 0,
              "ticks": ""
             }
            },
            "type": "scatterpolargl"
           }
          ],
          "scatterternary": [
           {
            "marker": {
             "colorbar": {
              "outlinewidth": 0,
              "ticks": ""
             }
            },
            "type": "scatterternary"
           }
          ],
          "surface": [
           {
            "colorbar": {
             "outlinewidth": 0,
             "ticks": ""
            },
            "colorscale": [
             [
              0,
              "#0d0887"
             ],
             [
              0.1111111111111111,
              "#46039f"
             ],
             [
              0.2222222222222222,
              "#7201a8"
             ],
             [
              0.3333333333333333,
              "#9c179e"
             ],
             [
              0.4444444444444444,
              "#bd3786"
             ],
             [
              0.5555555555555556,
              "#d8576b"
             ],
             [
              0.6666666666666666,
              "#ed7953"
             ],
             [
              0.7777777777777778,
              "#fb9f3a"
             ],
             [
              0.8888888888888888,
              "#fdca26"
             ],
             [
              1,
              "#f0f921"
             ]
            ],
            "type": "surface"
           }
          ],
          "table": [
           {
            "cells": {
             "fill": {
              "color": "#EBF0F8"
             },
             "line": {
              "color": "white"
             }
            },
            "header": {
             "fill": {
              "color": "#C8D4E3"
             },
             "line": {
              "color": "white"
             }
            },
            "type": "table"
           }
          ]
         },
         "layout": {
          "annotationdefaults": {
           "arrowcolor": "#2a3f5f",
           "arrowhead": 0,
           "arrowwidth": 1
          },
          "coloraxis": {
           "colorbar": {
            "outlinewidth": 0,
            "ticks": ""
           }
          },
          "colorscale": {
           "diverging": [
            [
             0,
             "#8e0152"
            ],
            [
             0.1,
             "#c51b7d"
            ],
            [
             0.2,
             "#de77ae"
            ],
            [
             0.3,
             "#f1b6da"
            ],
            [
             0.4,
             "#fde0ef"
            ],
            [
             0.5,
             "#f7f7f7"
            ],
            [
             0.6,
             "#e6f5d0"
            ],
            [
             0.7,
             "#b8e186"
            ],
            [
             0.8,
             "#7fbc41"
            ],
            [
             0.9,
             "#4d9221"
            ],
            [
             1,
             "#276419"
            ]
           ],
           "sequential": [
            [
             0,
             "#0d0887"
            ],
            [
             0.1111111111111111,
             "#46039f"
            ],
            [
             0.2222222222222222,
             "#7201a8"
            ],
            [
             0.3333333333333333,
             "#9c179e"
            ],
            [
             0.4444444444444444,
             "#bd3786"
            ],
            [
             0.5555555555555556,
             "#d8576b"
            ],
            [
             0.6666666666666666,
             "#ed7953"
            ],
            [
             0.7777777777777778,
             "#fb9f3a"
            ],
            [
             0.8888888888888888,
             "#fdca26"
            ],
            [
             1,
             "#f0f921"
            ]
           ],
           "sequentialminus": [
            [
             0,
             "#0d0887"
            ],
            [
             0.1111111111111111,
             "#46039f"
            ],
            [
             0.2222222222222222,
             "#7201a8"
            ],
            [
             0.3333333333333333,
             "#9c179e"
            ],
            [
             0.4444444444444444,
             "#bd3786"
            ],
            [
             0.5555555555555556,
             "#d8576b"
            ],
            [
             0.6666666666666666,
             "#ed7953"
            ],
            [
             0.7777777777777778,
             "#fb9f3a"
            ],
            [
             0.8888888888888888,
             "#fdca26"
            ],
            [
             1,
             "#f0f921"
            ]
           ]
          },
          "colorway": [
           "#636efa",
           "#EF553B",
           "#00cc96",
           "#ab63fa",
           "#FFA15A",
           "#19d3f3",
           "#FF6692",
           "#B6E880",
           "#FF97FF",
           "#FECB52"
          ],
          "font": {
           "color": "#2a3f5f"
          },
          "geo": {
           "bgcolor": "white",
           "lakecolor": "white",
           "landcolor": "#E5ECF6",
           "showlakes": true,
           "showland": true,
           "subunitcolor": "white"
          },
          "hoverlabel": {
           "align": "left"
          },
          "hovermode": "closest",
          "mapbox": {
           "style": "light"
          },
          "paper_bgcolor": "white",
          "plot_bgcolor": "#E5ECF6",
          "polar": {
           "angularaxis": {
            "gridcolor": "white",
            "linecolor": "white",
            "ticks": ""
           },
           "bgcolor": "#E5ECF6",
           "radialaxis": {
            "gridcolor": "white",
            "linecolor": "white",
            "ticks": ""
           }
          },
          "scene": {
           "xaxis": {
            "backgroundcolor": "#E5ECF6",
            "gridcolor": "white",
            "gridwidth": 2,
            "linecolor": "white",
            "showbackground": true,
            "ticks": "",
            "zerolinecolor": "white"
           },
           "yaxis": {
            "backgroundcolor": "#E5ECF6",
            "gridcolor": "white",
            "gridwidth": 2,
            "linecolor": "white",
            "showbackground": true,
            "ticks": "",
            "zerolinecolor": "white"
           },
           "zaxis": {
            "backgroundcolor": "#E5ECF6",
            "gridcolor": "white",
            "gridwidth": 2,
            "linecolor": "white",
            "showbackground": true,
            "ticks": "",
            "zerolinecolor": "white"
           }
          },
          "shapedefaults": {
           "line": {
            "color": "#2a3f5f"
           }
          },
          "ternary": {
           "aaxis": {
            "gridcolor": "white",
            "linecolor": "white",
            "ticks": ""
           },
           "baxis": {
            "gridcolor": "white",
            "linecolor": "white",
            "ticks": ""
           },
           "bgcolor": "#E5ECF6",
           "caxis": {
            "gridcolor": "white",
            "linecolor": "white",
            "ticks": ""
           }
          },
          "title": {
           "x": 0.05
          },
          "xaxis": {
           "automargin": true,
           "gridcolor": "white",
           "linecolor": "white",
           "ticks": "",
           "title": {
            "standoff": 15
           },
           "zerolinecolor": "white",
           "zerolinewidth": 2
          },
          "yaxis": {
           "automargin": true,
           "gridcolor": "white",
           "linecolor": "white",
           "ticks": "",
           "title": {
            "standoff": 15
           },
           "zerolinecolor": "white",
           "zerolinewidth": 2
          }
         }
        }
       }
      }
     },
     "metadata": {}
    }
   ],
   "source": [
    "#create dictionary for angle and radius values \n",
    "df = pd.DataFrame(dict(\n",
    "    r= radius_values,\n",
    "    theta= features))\n",
    "\n",
    "#create radar chart\n",
    "fig = px.line_polar(df, r='r', theta='theta', line_close=True)\n",
    "\n",
    "#fill in area\n",
    "fig.update_traces(fill='toself')\n",
    "\n",
    "#plot chart\n",
    "fig.show()"
   ]
  },
  {
   "cell_type": "markdown",
   "metadata": {},
   "source": [
    "TF1 and TFSH are the two types of formations that have the highest correlation to cumulative production."
   ]
  },
  {
   "cell_type": "markdown",
   "metadata": {},
   "source": [
    "### Fluid Types"
   ]
  },
  {
   "cell_type": "code",
   "execution_count": 122,
   "metadata": {},
   "outputs": [],
   "source": [
    "#Features that are being compared\n",
    "features = fluid_types\n",
    "#Radius values for each variable\n",
    "radius_values = []\n",
    "for i in features:\n",
    "        radius_values.append(spearman_correlation.at[i, '12 month Cum Prod'])"
   ]
  },
  {
   "cell_type": "code",
   "execution_count": 120,
   "metadata": {},
   "outputs": [
    {
     "output_type": "display_data",
     "data": {
      "application/vnd.plotly.v1+json": {
       "config": {
        "plotlyServerURL": "https://plot.ly"
       },
       "data": [
        {
         "fill": "toself",
         "hovertemplate": "r=%{r}<br>theta=%{theta}<extra></extra>",
         "legendgroup": "",
         "line": {
          "color": "#636efa",
          "dash": "solid"
         },
         "mode": "lines",
         "name": "",
         "r": [
          0.07069237540389404,
          0.03779510752576677,
          0.11946644505642832,
          0.017187667343586694,
          -0.025103312931151516,
          -0.03330085991494317,
          0.03262445320021034,
          0.014108373765451087,
          0.07069237540389404
         ],
         "showlegend": false,
         "subplot": "polar",
         "theta": [
          "LINEAR GEL (HC)",
          "CROSSLINKED (HC)",
          "SLICKWATER (HC)",
          "SW-XL HYBRID",
          "CROSSLINKED",
          "UNKNOWN",
          "SW-GEL HYBRID",
          "LINEAR GEL",
          "LINEAR GEL (HC)"
         ],
         "type": "scatterpolar"
        }
       ],
       "layout": {
        "legend": {
         "tracegroupgap": 0
        },
        "margin": {
         "t": 60
        },
        "polar": {
         "angularaxis": {
          "direction": "clockwise",
          "rotation": 90
         },
         "domain": {
          "x": [
           0,
           1
          ],
          "y": [
           0,
           1
          ]
         }
        },
        "template": {
         "data": {
          "bar": [
           {
            "error_x": {
             "color": "#2a3f5f"
            },
            "error_y": {
             "color": "#2a3f5f"
            },
            "marker": {
             "line": {
              "color": "#E5ECF6",
              "width": 0.5
             }
            },
            "type": "bar"
           }
          ],
          "barpolar": [
           {
            "marker": {
             "line": {
              "color": "#E5ECF6",
              "width": 0.5
             }
            },
            "type": "barpolar"
           }
          ],
          "carpet": [
           {
            "aaxis": {
             "endlinecolor": "#2a3f5f",
             "gridcolor": "white",
             "linecolor": "white",
             "minorgridcolor": "white",
             "startlinecolor": "#2a3f5f"
            },
            "baxis": {
             "endlinecolor": "#2a3f5f",
             "gridcolor": "white",
             "linecolor": "white",
             "minorgridcolor": "white",
             "startlinecolor": "#2a3f5f"
            },
            "type": "carpet"
           }
          ],
          "choropleth": [
           {
            "colorbar": {
             "outlinewidth": 0,
             "ticks": ""
            },
            "type": "choropleth"
           }
          ],
          "contour": [
           {
            "colorbar": {
             "outlinewidth": 0,
             "ticks": ""
            },
            "colorscale": [
             [
              0,
              "#0d0887"
             ],
             [
              0.1111111111111111,
              "#46039f"
             ],
             [
              0.2222222222222222,
              "#7201a8"
             ],
             [
              0.3333333333333333,
              "#9c179e"
             ],
             [
              0.4444444444444444,
              "#bd3786"
             ],
             [
              0.5555555555555556,
              "#d8576b"
             ],
             [
              0.6666666666666666,
              "#ed7953"
             ],
             [
              0.7777777777777778,
              "#fb9f3a"
             ],
             [
              0.8888888888888888,
              "#fdca26"
             ],
             [
              1,
              "#f0f921"
             ]
            ],
            "type": "contour"
           }
          ],
          "contourcarpet": [
           {
            "colorbar": {
             "outlinewidth": 0,
             "ticks": ""
            },
            "type": "contourcarpet"
           }
          ],
          "heatmap": [
           {
            "colorbar": {
             "outlinewidth": 0,
             "ticks": ""
            },
            "colorscale": [
             [
              0,
              "#0d0887"
             ],
             [
              0.1111111111111111,
              "#46039f"
             ],
             [
              0.2222222222222222,
              "#7201a8"
             ],
             [
              0.3333333333333333,
              "#9c179e"
             ],
             [
              0.4444444444444444,
              "#bd3786"
             ],
             [
              0.5555555555555556,
              "#d8576b"
             ],
             [
              0.6666666666666666,
              "#ed7953"
             ],
             [
              0.7777777777777778,
              "#fb9f3a"
             ],
             [
              0.8888888888888888,
              "#fdca26"
             ],
             [
              1,
              "#f0f921"
             ]
            ],
            "type": "heatmap"
           }
          ],
          "heatmapgl": [
           {
            "colorbar": {
             "outlinewidth": 0,
             "ticks": ""
            },
            "colorscale": [
             [
              0,
              "#0d0887"
             ],
             [
              0.1111111111111111,
              "#46039f"
             ],
             [
              0.2222222222222222,
              "#7201a8"
             ],
             [
              0.3333333333333333,
              "#9c179e"
             ],
             [
              0.4444444444444444,
              "#bd3786"
             ],
             [
              0.5555555555555556,
              "#d8576b"
             ],
             [
              0.6666666666666666,
              "#ed7953"
             ],
             [
              0.7777777777777778,
              "#fb9f3a"
             ],
             [
              0.8888888888888888,
              "#fdca26"
             ],
             [
              1,
              "#f0f921"
             ]
            ],
            "type": "heatmapgl"
           }
          ],
          "histogram": [
           {
            "marker": {
             "colorbar": {
              "outlinewidth": 0,
              "ticks": ""
             }
            },
            "type": "histogram"
           }
          ],
          "histogram2d": [
           {
            "colorbar": {
             "outlinewidth": 0,
             "ticks": ""
            },
            "colorscale": [
             [
              0,
              "#0d0887"
             ],
             [
              0.1111111111111111,
              "#46039f"
             ],
             [
              0.2222222222222222,
              "#7201a8"
             ],
             [
              0.3333333333333333,
              "#9c179e"
             ],
             [
              0.4444444444444444,
              "#bd3786"
             ],
             [
              0.5555555555555556,
              "#d8576b"
             ],
             [
              0.6666666666666666,
              "#ed7953"
             ],
             [
              0.7777777777777778,
              "#fb9f3a"
             ],
             [
              0.8888888888888888,
              "#fdca26"
             ],
             [
              1,
              "#f0f921"
             ]
            ],
            "type": "histogram2d"
           }
          ],
          "histogram2dcontour": [
           {
            "colorbar": {
             "outlinewidth": 0,
             "ticks": ""
            },
            "colorscale": [
             [
              0,
              "#0d0887"
             ],
             [
              0.1111111111111111,
              "#46039f"
             ],
             [
              0.2222222222222222,
              "#7201a8"
             ],
             [
              0.3333333333333333,
              "#9c179e"
             ],
             [
              0.4444444444444444,
              "#bd3786"
             ],
             [
              0.5555555555555556,
              "#d8576b"
             ],
             [
              0.6666666666666666,
              "#ed7953"
             ],
             [
              0.7777777777777778,
              "#fb9f3a"
             ],
             [
              0.8888888888888888,
              "#fdca26"
             ],
             [
              1,
              "#f0f921"
             ]
            ],
            "type": "histogram2dcontour"
           }
          ],
          "mesh3d": [
           {
            "colorbar": {
             "outlinewidth": 0,
             "ticks": ""
            },
            "type": "mesh3d"
           }
          ],
          "parcoords": [
           {
            "line": {
             "colorbar": {
              "outlinewidth": 0,
              "ticks": ""
             }
            },
            "type": "parcoords"
           }
          ],
          "pie": [
           {
            "automargin": true,
            "type": "pie"
           }
          ],
          "scatter": [
           {
            "marker": {
             "colorbar": {
              "outlinewidth": 0,
              "ticks": ""
             }
            },
            "type": "scatter"
           }
          ],
          "scatter3d": [
           {
            "line": {
             "colorbar": {
              "outlinewidth": 0,
              "ticks": ""
             }
            },
            "marker": {
             "colorbar": {
              "outlinewidth": 0,
              "ticks": ""
             }
            },
            "type": "scatter3d"
           }
          ],
          "scattercarpet": [
           {
            "marker": {
             "colorbar": {
              "outlinewidth": 0,
              "ticks": ""
             }
            },
            "type": "scattercarpet"
           }
          ],
          "scattergeo": [
           {
            "marker": {
             "colorbar": {
              "outlinewidth": 0,
              "ticks": ""
             }
            },
            "type": "scattergeo"
           }
          ],
          "scattergl": [
           {
            "marker": {
             "colorbar": {
              "outlinewidth": 0,
              "ticks": ""
             }
            },
            "type": "scattergl"
           }
          ],
          "scattermapbox": [
           {
            "marker": {
             "colorbar": {
              "outlinewidth": 0,
              "ticks": ""
             }
            },
            "type": "scattermapbox"
           }
          ],
          "scatterpolar": [
           {
            "marker": {
             "colorbar": {
              "outlinewidth": 0,
              "ticks": ""
             }
            },
            "type": "scatterpolar"
           }
          ],
          "scatterpolargl": [
           {
            "marker": {
             "colorbar": {
              "outlinewidth": 0,
              "ticks": ""
             }
            },
            "type": "scatterpolargl"
           }
          ],
          "scatterternary": [
           {
            "marker": {
             "colorbar": {
              "outlinewidth": 0,
              "ticks": ""
             }
            },
            "type": "scatterternary"
           }
          ],
          "surface": [
           {
            "colorbar": {
             "outlinewidth": 0,
             "ticks": ""
            },
            "colorscale": [
             [
              0,
              "#0d0887"
             ],
             [
              0.1111111111111111,
              "#46039f"
             ],
             [
              0.2222222222222222,
              "#7201a8"
             ],
             [
              0.3333333333333333,
              "#9c179e"
             ],
             [
              0.4444444444444444,
              "#bd3786"
             ],
             [
              0.5555555555555556,
              "#d8576b"
             ],
             [
              0.6666666666666666,
              "#ed7953"
             ],
             [
              0.7777777777777778,
              "#fb9f3a"
             ],
             [
              0.8888888888888888,
              "#fdca26"
             ],
             [
              1,
              "#f0f921"
             ]
            ],
            "type": "surface"
           }
          ],
          "table": [
           {
            "cells": {
             "fill": {
              "color": "#EBF0F8"
             },
             "line": {
              "color": "white"
             }
            },
            "header": {
             "fill": {
              "color": "#C8D4E3"
             },
             "line": {
              "color": "white"
             }
            },
            "type": "table"
           }
          ]
         },
         "layout": {
          "annotationdefaults": {
           "arrowcolor": "#2a3f5f",
           "arrowhead": 0,
           "arrowwidth": 1
          },
          "coloraxis": {
           "colorbar": {
            "outlinewidth": 0,
            "ticks": ""
           }
          },
          "colorscale": {
           "diverging": [
            [
             0,
             "#8e0152"
            ],
            [
             0.1,
             "#c51b7d"
            ],
            [
             0.2,
             "#de77ae"
            ],
            [
             0.3,
             "#f1b6da"
            ],
            [
             0.4,
             "#fde0ef"
            ],
            [
             0.5,
             "#f7f7f7"
            ],
            [
             0.6,
             "#e6f5d0"
            ],
            [
             0.7,
             "#b8e186"
            ],
            [
             0.8,
             "#7fbc41"
            ],
            [
             0.9,
             "#4d9221"
            ],
            [
             1,
             "#276419"
            ]
           ],
           "sequential": [
            [
             0,
             "#0d0887"
            ],
            [
             0.1111111111111111,
             "#46039f"
            ],
            [
             0.2222222222222222,
             "#7201a8"
            ],
            [
             0.3333333333333333,
             "#9c179e"
            ],
            [
             0.4444444444444444,
             "#bd3786"
            ],
            [
             0.5555555555555556,
             "#d8576b"
            ],
            [
             0.6666666666666666,
             "#ed7953"
            ],
            [
             0.7777777777777778,
             "#fb9f3a"
            ],
            [
             0.8888888888888888,
             "#fdca26"
            ],
            [
             1,
             "#f0f921"
            ]
           ],
           "sequentialminus": [
            [
             0,
             "#0d0887"
            ],
            [
             0.1111111111111111,
             "#46039f"
            ],
            [
             0.2222222222222222,
             "#7201a8"
            ],
            [
             0.3333333333333333,
             "#9c179e"
            ],
            [
             0.4444444444444444,
             "#bd3786"
            ],
            [
             0.5555555555555556,
             "#d8576b"
            ],
            [
             0.6666666666666666,
             "#ed7953"
            ],
            [
             0.7777777777777778,
             "#fb9f3a"
            ],
            [
             0.8888888888888888,
             "#fdca26"
            ],
            [
             1,
             "#f0f921"
            ]
           ]
          },
          "colorway": [
           "#636efa",
           "#EF553B",
           "#00cc96",
           "#ab63fa",
           "#FFA15A",
           "#19d3f3",
           "#FF6692",
           "#B6E880",
           "#FF97FF",
           "#FECB52"
          ],
          "font": {
           "color": "#2a3f5f"
          },
          "geo": {
           "bgcolor": "white",
           "lakecolor": "white",
           "landcolor": "#E5ECF6",
           "showlakes": true,
           "showland": true,
           "subunitcolor": "white"
          },
          "hoverlabel": {
           "align": "left"
          },
          "hovermode": "closest",
          "mapbox": {
           "style": "light"
          },
          "paper_bgcolor": "white",
          "plot_bgcolor": "#E5ECF6",
          "polar": {
           "angularaxis": {
            "gridcolor": "white",
            "linecolor": "white",
            "ticks": ""
           },
           "bgcolor": "#E5ECF6",
           "radialaxis": {
            "gridcolor": "white",
            "linecolor": "white",
            "ticks": ""
           }
          },
          "scene": {
           "xaxis": {
            "backgroundcolor": "#E5ECF6",
            "gridcolor": "white",
            "gridwidth": 2,
            "linecolor": "white",
            "showbackground": true,
            "ticks": "",
            "zerolinecolor": "white"
           },
           "yaxis": {
            "backgroundcolor": "#E5ECF6",
            "gridcolor": "white",
            "gridwidth": 2,
            "linecolor": "white",
            "showbackground": true,
            "ticks": "",
            "zerolinecolor": "white"
           },
           "zaxis": {
            "backgroundcolor": "#E5ECF6",
            "gridcolor": "white",
            "gridwidth": 2,
            "linecolor": "white",
            "showbackground": true,
            "ticks": "",
            "zerolinecolor": "white"
           }
          },
          "shapedefaults": {
           "line": {
            "color": "#2a3f5f"
           }
          },
          "ternary": {
           "aaxis": {
            "gridcolor": "white",
            "linecolor": "white",
            "ticks": ""
           },
           "baxis": {
            "gridcolor": "white",
            "linecolor": "white",
            "ticks": ""
           },
           "bgcolor": "#E5ECF6",
           "caxis": {
            "gridcolor": "white",
            "linecolor": "white",
            "ticks": ""
           }
          },
          "title": {
           "x": 0.05
          },
          "xaxis": {
           "automargin": true,
           "gridcolor": "white",
           "linecolor": "white",
           "ticks": "",
           "title": {
            "standoff": 15
           },
           "zerolinecolor": "white",
           "zerolinewidth": 2
          },
          "yaxis": {
           "automargin": true,
           "gridcolor": "white",
           "linecolor": "white",
           "ticks": "",
           "title": {
            "standoff": 15
           },
           "zerolinecolor": "white",
           "zerolinewidth": 2
          }
         }
        }
       }
      }
     },
     "metadata": {}
    }
   ],
   "source": [
    "#create dictionary for angle and radius values \n",
    "df = pd.DataFrame(dict(\n",
    "    r= radius_values,\n",
    "    theta= features))\n",
    "\n",
    "#create radar chart\n",
    "fig = px.line_polar(df, r='r', theta='theta', line_close=True)\n",
    "\n",
    "#fill in area\n",
    "fig.update_traces(fill='toself')\n",
    "\n",
    "#plot chart\n",
    "fig.show()"
   ]
  },
  {
   "cell_type": "markdown",
   "metadata": {},
   "source": [
    "The Slickwater Fluid seems to be the fluid type most correlated with cumulative production when comparing it to the other fluid types."
   ]
  },
  {
   "cell_type": "code",
   "execution_count": 2,
   "metadata": {},
   "outputs": [
    {
     "output_type": "execute_result",
     "data": {
      "text/plain": "\" I really like this model. Primarily because this allows a really good comparison. If you want the radar chart to compare categorical variable in the dataset, I would change the categorical data to numerical values. \\n\\nHere is an example:\\n\\nlabels = DatabaseDF['variable'].unique().tolist()\\nmapping = dict( zip(labels,range(len(labels))) )\\nDatabaseDF.replace({'variable': mapping},inplace=True)\""
     },
     "metadata": {},
     "execution_count": 2
    }
   ],
   "source": [
    "''' I really like this model. Primarily because this allows a really good comparison. If you want the radar chart to compare categorical variable in the dataset, I would change the categorical data to numerical values. \n",
    "\n",
    "Here is an example:\n",
    "\n",
    "labels = DatabaseDF['variable'].unique().tolist()\n",
    "mapping = dict( zip(labels,range(len(labels))) )\n",
    "DatabaseDF.replace({'variable': mapping},inplace=True)'''"
   ]
  },
  {
   "cell_type": "code",
   "execution_count": 3,
   "metadata": {},
   "outputs": [
    {
     "output_type": "execute_result",
     "data": {
      "text/plain": "'I would pick one type of correlation and stick with. can you get into specific features unique type in this graph. '"
     },
     "metadata": {},
     "execution_count": 3
    }
   ],
   "source": [
    "'''I would pick one type of correlation and stick with. can you get into specific features unique type in this graph. '''"
   ]
  }
 ],
 "metadata": {
  "kernelspec": {
   "display_name": "Python 3",
   "language": "python",
   "name": "python3"
  },
  "language_info": {
   "codemirror_mode": {
    "name": "ipython",
    "version": 3
   },
   "file_extension": ".py",
   "mimetype": "text/x-python",
   "name": "python",
   "nbconvert_exporter": "python",
   "pygments_lexer": "ipython3",
   "version": "3.8.1-final"
  }
 },
 "nbformat": 4,
 "nbformat_minor": 2
}