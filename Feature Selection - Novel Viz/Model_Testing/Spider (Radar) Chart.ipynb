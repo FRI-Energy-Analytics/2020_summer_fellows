{
 "cells": [
  {
   "cell_type": "code",
   "execution_count": 102,
   "metadata": {},
   "outputs": [],
   "source": [
    "import pandas as pd\n",
    "import numpy as np\n",
    "import seaborn as sns\n",
    "import matplotlib.pyplot as plt\n",
    "%matplotlib inline"
   ]
  },
  {
   "cell_type": "code",
   "execution_count": 108,
   "metadata": {},
   "outputs": [],
   "source": [
    "#import Plotly \n",
    "import plotly.express as px"
   ]
  },
  {
   "cell_type": "code",
   "execution_count": 201,
   "metadata": {},
   "outputs": [
    {
     "output_type": "execute_result",
     "data": {
      "text/plain": "   Unnamed: 0    Operator Well Name Formation  Lateral Length  Stages  \\\n0           0  Operator 1    Well 1       MBH          5114.0    30.0   \n1           1  Operator 2    Well 2       MBH          5181.0     NaN   \n2           2  Operator 2    Well 3       MBH          4780.0    15.0   \n3           3  Operator 1    Well 4       MBH         10654.0     1.0   \n4           4  Operator 2    Well 5       MBH          5209.0     1.0   \n\n   Township   Range  Section  Total Prop, lbs  ...  Fluid Type from DI  \\\n0        141     99       10              0.0  ...                 NaN   \n1        142     99       16         418000.0  ...                 NaN   \n2        142     99       24         568407.0  ...                 NaN   \n3        142     99        1         845000.0  ...                 NaN   \n4        142     99       35         297366.0  ...                 NaN   \n\n  SPACING_CAPPED  12 month Cum Prod  Completion Type  Sleeves  P&P  \\\n0          660.0              33.55              NaN      NaN  NaN   \n1          660.0              27.62              NaN      NaN  NaN   \n2          660.0              11.19               OH      NaN  NaN   \n3          660.0              27.85              NaN      NaN  NaN   \n4          660.0              50.88               OH      NaN  NaN   \n\n   Frac Ports Repeater Ports  CT  Year Drilled  \n0         NaN            NaN NaN        2006.0  \n1         NaN            NaN NaN        2005.0  \n2         NaN            NaN NaN        2006.0  \n3         NaN            NaN NaN        2007.0  \n4         NaN            NaN NaN        2006.0  \n\n[5 rows x 30 columns]",
      "text/html": "<div>\n<style scoped>\n    .dataframe tbody tr th:only-of-type {\n        vertical-align: middle;\n    }\n\n    .dataframe tbody tr th {\n        vertical-align: top;\n    }\n\n    .dataframe thead th {\n        text-align: right;\n    }\n</style>\n<table border=\"1\" class=\"dataframe\">\n  <thead>\n    <tr style=\"text-align: right;\">\n      <th></th>\n      <th>Unnamed: 0</th>\n      <th>Operator</th>\n      <th>Well Name</th>\n      <th>Formation</th>\n      <th>Lateral Length</th>\n      <th>Stages</th>\n      <th>Township</th>\n      <th>Range</th>\n      <th>Section</th>\n      <th>Total Prop, lbs</th>\n      <th>...</th>\n      <th>Fluid Type from DI</th>\n      <th>SPACING_CAPPED</th>\n      <th>12 month Cum Prod</th>\n      <th>Completion Type</th>\n      <th>Sleeves</th>\n      <th>P&amp;P</th>\n      <th>Frac Ports</th>\n      <th>Repeater Ports</th>\n      <th>CT</th>\n      <th>Year Drilled</th>\n    </tr>\n  </thead>\n  <tbody>\n    <tr>\n      <td>0</td>\n      <td>0</td>\n      <td>Operator 1</td>\n      <td>Well 1</td>\n      <td>MBH</td>\n      <td>5114.0</td>\n      <td>30.0</td>\n      <td>141</td>\n      <td>99</td>\n      <td>10</td>\n      <td>0.0</td>\n      <td>...</td>\n      <td>NaN</td>\n      <td>660.0</td>\n      <td>33.55</td>\n      <td>NaN</td>\n      <td>NaN</td>\n      <td>NaN</td>\n      <td>NaN</td>\n      <td>NaN</td>\n      <td>NaN</td>\n      <td>2006.0</td>\n    </tr>\n    <tr>\n      <td>1</td>\n      <td>1</td>\n      <td>Operator 2</td>\n      <td>Well 2</td>\n      <td>MBH</td>\n      <td>5181.0</td>\n      <td>NaN</td>\n      <td>142</td>\n      <td>99</td>\n      <td>16</td>\n      <td>418000.0</td>\n      <td>...</td>\n      <td>NaN</td>\n      <td>660.0</td>\n      <td>27.62</td>\n      <td>NaN</td>\n      <td>NaN</td>\n      <td>NaN</td>\n      <td>NaN</td>\n      <td>NaN</td>\n      <td>NaN</td>\n      <td>2005.0</td>\n    </tr>\n    <tr>\n      <td>2</td>\n      <td>2</td>\n      <td>Operator 2</td>\n      <td>Well 3</td>\n      <td>MBH</td>\n      <td>4780.0</td>\n      <td>15.0</td>\n      <td>142</td>\n      <td>99</td>\n      <td>24</td>\n      <td>568407.0</td>\n      <td>...</td>\n      <td>NaN</td>\n      <td>660.0</td>\n      <td>11.19</td>\n      <td>OH</td>\n      <td>NaN</td>\n      <td>NaN</td>\n      <td>NaN</td>\n      <td>NaN</td>\n      <td>NaN</td>\n      <td>2006.0</td>\n    </tr>\n    <tr>\n      <td>3</td>\n      <td>3</td>\n      <td>Operator 1</td>\n      <td>Well 4</td>\n      <td>MBH</td>\n      <td>10654.0</td>\n      <td>1.0</td>\n      <td>142</td>\n      <td>99</td>\n      <td>1</td>\n      <td>845000.0</td>\n      <td>...</td>\n      <td>NaN</td>\n      <td>660.0</td>\n      <td>27.85</td>\n      <td>NaN</td>\n      <td>NaN</td>\n      <td>NaN</td>\n      <td>NaN</td>\n      <td>NaN</td>\n      <td>NaN</td>\n      <td>2007.0</td>\n    </tr>\n    <tr>\n      <td>4</td>\n      <td>4</td>\n      <td>Operator 2</td>\n      <td>Well 5</td>\n      <td>MBH</td>\n      <td>5209.0</td>\n      <td>1.0</td>\n      <td>142</td>\n      <td>99</td>\n      <td>35</td>\n      <td>297366.0</td>\n      <td>...</td>\n      <td>NaN</td>\n      <td>660.0</td>\n      <td>50.88</td>\n      <td>OH</td>\n      <td>NaN</td>\n      <td>NaN</td>\n      <td>NaN</td>\n      <td>NaN</td>\n      <td>NaN</td>\n      <td>2006.0</td>\n    </tr>\n  </tbody>\n</table>\n<p>5 rows × 30 columns</p>\n</div>"
     },
     "metadata": {},
     "execution_count": 201
    }
   ],
   "source": [
    "#print head of cleaned dataset\n",
    "DatabaseDF = pd.read_csv(\"../CleanedDataset.csv\")\n",
    "DatabaseDF.head()"
   ]
  },
  {
   "cell_type": "code",
   "execution_count": 202,
   "metadata": {},
   "outputs": [],
   "source": [
    "#Change categorical variables to numerical values\n",
    "labels = DatabaseDF['Completion Type'].unique().tolist()\n",
    "mapping = dict( zip(labels,range(len(labels))) )\n",
    "DatabaseDF.replace({'Completion Type': mapping},inplace=True)"
   ]
  },
  {
   "cell_type": "code",
   "execution_count": 203,
   "metadata": {},
   "outputs": [],
   "source": [
    "#Change categorical variables to numerical values\n",
    "labels = DatabaseDF['Formation'].unique().tolist()\n",
    "mapping = dict( zip(labels,range(len(labels))) )\n",
    "DatabaseDF.replace({'Formation': mapping},inplace=True)"
   ]
  },
  {
   "cell_type": "code",
   "execution_count": 204,
   "metadata": {},
   "outputs": [],
   "source": [
    "#Change categorical variables to numerical values\n",
    "labels = DatabaseDF['Operator'].unique().tolist()\n",
    "mapping = dict( zip(labels,range(len(labels))) )\n",
    "DatabaseDF.replace({'Operator': mapping},inplace=True)"
   ]
  },
  {
   "cell_type": "code",
   "execution_count": 205,
   "metadata": {},
   "outputs": [],
   "source": [
    "#Change categorical variables to numerical values\n",
    "labels = DatabaseDF['Fluid Type from DI'].unique().tolist()\n",
    "mapping = dict( zip(labels,range(len(labels))) )\n",
    "DatabaseDF.replace({'Fluid Type from DI': mapping},inplace=True)"
   ]
  },
  {
   "cell_type": "code",
   "execution_count": 206,
   "metadata": {},
   "outputs": [],
   "source": [
    "#Change categorical variables to numerical values\n",
    "labels = DatabaseDF['Date Fracd'].unique().tolist()\n",
    "mapping = dict( zip(labels,range(len(labels))) )\n",
    "DatabaseDF.replace({'Date Fracd': mapping},inplace=True)"
   ]
  },
  {
   "cell_type": "code",
   "execution_count": 207,
   "metadata": {},
   "outputs": [
    {
     "output_type": "execute_result",
     "data": {
      "text/plain": "   Unnamed: 0  Operator Well Name  Formation  Lateral Length  Stages  \\\n0           0         0    Well 1          0          5114.0    30.0   \n1           1         1    Well 2          0          5181.0     NaN   \n2           2         1    Well 3          0          4780.0    15.0   \n3           3         0    Well 4          0         10654.0     1.0   \n4           4         1    Well 5          0          5209.0     1.0   \n\n   Township   Range  Section  Total Prop, lbs  ...  Fluid Type from DI  \\\n0        141     99       10              0.0  ...                   0   \n1        142     99       16         418000.0  ...                   0   \n2        142     99       24         568407.0  ...                   0   \n3        142     99        1         845000.0  ...                   0   \n4        142     99       35         297366.0  ...                   0   \n\n   SPACING_CAPPED  12 month Cum Prod  Completion Type  Sleeves  P&P  \\\n0           660.0              33.55                0      NaN  NaN   \n1           660.0              27.62                0      NaN  NaN   \n2           660.0              11.19                1      NaN  NaN   \n3           660.0              27.85                0      NaN  NaN   \n4           660.0              50.88                1      NaN  NaN   \n\n   Frac Ports Repeater Ports  CT  Year Drilled  \n0         NaN            NaN NaN        2006.0  \n1         NaN            NaN NaN        2005.0  \n2         NaN            NaN NaN        2006.0  \n3         NaN            NaN NaN        2007.0  \n4         NaN            NaN NaN        2006.0  \n\n[5 rows x 30 columns]",
      "text/html": "<div>\n<style scoped>\n    .dataframe tbody tr th:only-of-type {\n        vertical-align: middle;\n    }\n\n    .dataframe tbody tr th {\n        vertical-align: top;\n    }\n\n    .dataframe thead th {\n        text-align: right;\n    }\n</style>\n<table border=\"1\" class=\"dataframe\">\n  <thead>\n    <tr style=\"text-align: right;\">\n      <th></th>\n      <th>Unnamed: 0</th>\n      <th>Operator</th>\n      <th>Well Name</th>\n      <th>Formation</th>\n      <th>Lateral Length</th>\n      <th>Stages</th>\n      <th>Township</th>\n      <th>Range</th>\n      <th>Section</th>\n      <th>Total Prop, lbs</th>\n      <th>...</th>\n      <th>Fluid Type from DI</th>\n      <th>SPACING_CAPPED</th>\n      <th>12 month Cum Prod</th>\n      <th>Completion Type</th>\n      <th>Sleeves</th>\n      <th>P&amp;P</th>\n      <th>Frac Ports</th>\n      <th>Repeater Ports</th>\n      <th>CT</th>\n      <th>Year Drilled</th>\n    </tr>\n  </thead>\n  <tbody>\n    <tr>\n      <td>0</td>\n      <td>0</td>\n      <td>0</td>\n      <td>Well 1</td>\n      <td>0</td>\n      <td>5114.0</td>\n      <td>30.0</td>\n      <td>141</td>\n      <td>99</td>\n      <td>10</td>\n      <td>0.0</td>\n      <td>...</td>\n      <td>0</td>\n      <td>660.0</td>\n      <td>33.55</td>\n      <td>0</td>\n      <td>NaN</td>\n      <td>NaN</td>\n      <td>NaN</td>\n      <td>NaN</td>\n      <td>NaN</td>\n      <td>2006.0</td>\n    </tr>\n    <tr>\n      <td>1</td>\n      <td>1</td>\n      <td>1</td>\n      <td>Well 2</td>\n      <td>0</td>\n      <td>5181.0</td>\n      <td>NaN</td>\n      <td>142</td>\n      <td>99</td>\n      <td>16</td>\n      <td>418000.0</td>\n      <td>...</td>\n      <td>0</td>\n      <td>660.0</td>\n      <td>27.62</td>\n      <td>0</td>\n      <td>NaN</td>\n      <td>NaN</td>\n      <td>NaN</td>\n      <td>NaN</td>\n      <td>NaN</td>\n      <td>2005.0</td>\n    </tr>\n    <tr>\n      <td>2</td>\n      <td>2</td>\n      <td>1</td>\n      <td>Well 3</td>\n      <td>0</td>\n      <td>4780.0</td>\n      <td>15.0</td>\n      <td>142</td>\n      <td>99</td>\n      <td>24</td>\n      <td>568407.0</td>\n      <td>...</td>\n      <td>0</td>\n      <td>660.0</td>\n      <td>11.19</td>\n      <td>1</td>\n      <td>NaN</td>\n      <td>NaN</td>\n      <td>NaN</td>\n      <td>NaN</td>\n      <td>NaN</td>\n      <td>2006.0</td>\n    </tr>\n    <tr>\n      <td>3</td>\n      <td>3</td>\n      <td>0</td>\n      <td>Well 4</td>\n      <td>0</td>\n      <td>10654.0</td>\n      <td>1.0</td>\n      <td>142</td>\n      <td>99</td>\n      <td>1</td>\n      <td>845000.0</td>\n      <td>...</td>\n      <td>0</td>\n      <td>660.0</td>\n      <td>27.85</td>\n      <td>0</td>\n      <td>NaN</td>\n      <td>NaN</td>\n      <td>NaN</td>\n      <td>NaN</td>\n      <td>NaN</td>\n      <td>2007.0</td>\n    </tr>\n    <tr>\n      <td>4</td>\n      <td>4</td>\n      <td>1</td>\n      <td>Well 5</td>\n      <td>0</td>\n      <td>5209.0</td>\n      <td>1.0</td>\n      <td>142</td>\n      <td>99</td>\n      <td>35</td>\n      <td>297366.0</td>\n      <td>...</td>\n      <td>0</td>\n      <td>660.0</td>\n      <td>50.88</td>\n      <td>1</td>\n      <td>NaN</td>\n      <td>NaN</td>\n      <td>NaN</td>\n      <td>NaN</td>\n      <td>NaN</td>\n      <td>2006.0</td>\n    </tr>\n  </tbody>\n</table>\n<p>5 rows × 30 columns</p>\n</div>"
     },
     "metadata": {},
     "execution_count": 207
    }
   ],
   "source": [
    "#new dataframe with replaced values\n",
    "DatabaseDF.head()"
   ]
  },
  {
   "cell_type": "markdown",
   "metadata": {},
   "source": [
    "# Spider (Radar) Chart: Definition"
   ]
  },
  {
   "cell_type": "markdown",
   "metadata": {},
   "source": [
    "A radar chart is used primarily in fields such as Business to compare various quantitative variables in a dataset. The chart has multiple radii, where each radius represents one variable. The magnitude of the variable is represented by the length of the radius. The longer the radius, the more of an effect the variable has. In this notebook specifically, a longer radius represents a variable more correlated to the cumulative production."
   ]
  },
  {
   "cell_type": "markdown",
   "metadata": {},
   "source": [
    "The Radar Chart is a useful tool to visualize how the features in our dataset affect each other and the oil production, and will help us with feature selection because we can narrow down the variables and focus on the ones that seem the most impactful. "
   ]
  },
  {
   "cell_type": "markdown",
   "metadata": {},
   "source": [
    "This notebook will use different correlation coefficients, such as Pearson, Spearman's and Kendall, to analyze variables with the radar charts."
   ]
  },
  {
   "cell_type": "markdown",
   "metadata": {},
   "source": [
    "## Pearson's Correlation"
   ]
  },
  {
   "cell_type": "code",
   "execution_count": 208,
   "metadata": {},
   "outputs": [
    {
     "output_type": "execute_result",
     "data": {
      "text/plain": "                    Unnamed: 0  Operator  Formation  Lateral Length    Stages  \\\nUnnamed: 0            1.000000  0.006489  -0.003688        0.053661  0.228829   \nOperator              0.006489  1.000000  -0.028321       -0.066512  0.041045   \nFormation            -0.003688 -0.028321   1.000000        0.086291  0.122524   \nLateral Length        0.053661 -0.066512   0.086291        1.000000  0.456774   \nStages                0.228829  0.041045   0.122524        0.456774  1.000000   \nTownship              0.243115 -0.042302   0.003088       -0.038726  0.040092   \nRange                 0.011720 -0.037806   0.028253        0.241831  0.147589   \nSection              -0.050113  0.029391   0.020755       -0.021131  0.024033   \nTotal Prop, lbs       0.203161  0.038286   0.041834        0.253713  0.587432   \nFluid, bbls           0.213521  0.020178   0.061650        0.256175  0.520606   \nDate Fracd            0.341183  0.021939   0.041280       -0.014365  0.191505   \nBest1 Mo BOPD         0.094560  0.134789  -0.113658        0.113087  0.265778   \nBest3 Mo BOPD         0.096491  0.127368  -0.112426        0.113343  0.263466   \nBest6 Mo BOPD         0.104318  0.115615  -0.112640        0.103529  0.251608   \nBest9 Mo BOPD         0.114553  0.115250  -0.117814        0.098252  0.242121   \nBest12 Mo BOPD        0.121250  0.109269  -0.116119        0.093744  0.227370   \nLatitude              0.245966 -0.044818   0.002200       -0.037672  0.038070   \nLongitude            -0.052245  0.045595  -0.027334       -0.233496 -0.154342   \nFluid Type from DI    0.085512  0.015314   0.077237        0.136647  0.323964   \nSPACING_CAPPED       -0.107073  0.012291  -0.207484       -0.147507 -0.245130   \n12 month Cum Prod     0.119804  0.104949  -0.030144        0.147342  0.344700   \nCompletion Type       0.171616 -0.044608   0.050641        0.051887  0.377230   \nSleeves               0.186390 -0.021738   0.151834        0.391450  0.894700   \nP&P                   0.173148  0.108179   0.058834        0.528658  0.880684   \nFrac Ports           -0.711513       NaN  -0.530972       -0.087372  0.193914   \nRepeater Ports        0.535451       NaN   0.990755        0.349897  0.078326   \nCT                    0.191782  0.302712  -0.262309        0.391838  0.983473   \nYear Drilled          0.186718  0.036393   0.179730        0.313809  0.718240   \n\n                    Township      Range   Section  Total Prop, lbs  \\\nUnnamed: 0           0.243115  0.011720 -0.050113         0.203161   \nOperator            -0.042302 -0.037806  0.029391         0.038286   \nFormation            0.003088  0.028253  0.020755         0.041834   \nLateral Length      -0.038726  0.241831 -0.021131         0.253713   \nStages               0.040092  0.147589  0.024033         0.587432   \nTownship             1.000000 -0.011333  0.023008        -0.005835   \nRange               -0.011333  1.000000 -0.019859        -0.021746   \nSection              0.023008 -0.019859  1.000000         0.020073   \nTotal Prop, lbs     -0.005835 -0.021746  0.020073         1.000000   \nFluid, bbls         -0.006636  0.194991  0.017878         0.714701   \nDate Fracd          -0.012801 -0.070321 -0.004739         0.239541   \nBest1 Mo BOPD       -0.121909 -0.164083  0.010863         0.371468   \nBest3 Mo BOPD       -0.110662 -0.192811  0.012004         0.408457   \nBest6 Mo BOPD       -0.101472 -0.216421  0.010873         0.422335   \nBest9 Mo BOPD       -0.092244 -0.226095  0.007916         0.422783   \nBest12 Mo BOPD      -0.081699 -0.238771  0.005923         0.417017   \nLatitude             0.998011 -0.009201 -0.037652        -0.007611   \nLongitude           -0.145898 -0.983505  0.016787         0.020765   \nFluid Type from DI  -0.003932  0.089458  0.023185         0.293185   \nSPACING_CAPPED       0.014882  0.009955 -0.010710        -0.161274   \n12 month Cum Prod   -0.114935 -0.194452  0.004276         0.480937   \nCompletion Type      0.070539  0.077157  0.008426         0.329335   \nSleeves              0.061510  0.112901  0.033284         0.501151   \nP&P                 -0.008466  0.133063  0.008336         0.553368   \nFrac Ports          -0.756806  0.602259  0.459620         0.469282   \nRepeater Ports       0.716801  0.045222 -0.436849         0.004144   \nCT                   0.011609 -0.185800  0.098984        -0.487679   \nYear Drilled        -0.001583  0.164663  0.029651         0.535724   \n\n                    Fluid, bbls  ...  Fluid Type from DI  SPACING_CAPPED  \\\nUnnamed: 0             0.213521  ...            0.085512       -0.107073   \nOperator               0.020178  ...            0.015314        0.012291   \nFormation              0.061650  ...            0.077237       -0.207484   \nLateral Length         0.256175  ...            0.136647       -0.147507   \nStages                 0.520606  ...            0.323964       -0.245130   \nTownship              -0.006636  ...           -0.003932        0.014882   \nRange                  0.194991  ...            0.089458        0.009955   \nSection                0.017878  ...            0.023185       -0.010710   \nTotal Prop, lbs        0.714701  ...            0.293185       -0.161274   \nFluid, bbls            1.000000  ...            0.393915       -0.166497   \nDate Fracd             0.214078  ...            0.136601       -0.158898   \nBest1 Mo BOPD          0.241188  ...            0.060148       -0.131038   \nBest3 Mo BOPD          0.260443  ...            0.051855       -0.119870   \nBest6 Mo BOPD          0.276661  ...            0.044604       -0.099166   \nBest9 Mo BOPD          0.290054  ...            0.034010       -0.086794   \nBest12 Mo BOPD         0.281228  ...            0.020633       -0.083744   \nLatitude              -0.008240  ...           -0.005596        0.015453   \nLongitude             -0.194170  ...           -0.089649       -0.011091   \nFluid Type from DI     0.393915  ...            1.000000       -0.150365   \nSPACING_CAPPED        -0.166497  ...           -0.150365        1.000000   \n12 month Cum Prod      0.392504  ...            0.132864       -0.137795   \nCompletion Type        0.358331  ...            0.163579       -0.089806   \nSleeves                0.346689  ...            0.210520       -0.336247   \nP&P                    0.542364  ...            0.302184       -0.148175   \nFrac Ports             0.579526  ...            0.270921             NaN   \nRepeater Ports         0.173785  ...                 NaN             NaN   \nCT                    -0.499150  ...            0.301458       -0.374899   \nYear Drilled           0.538226  ...            0.469487       -0.324756   \n\n                    12 month Cum Prod  Completion Type   Sleeves       P&P  \\\nUnnamed: 0                   0.119804         0.171616  0.186390  0.173148   \nOperator                     0.104949        -0.044608 -0.021738  0.108179   \nFormation                   -0.030144         0.050641  0.151834  0.058834   \nLateral Length               0.147342         0.051887  0.391450  0.528658   \nStages                       0.344700         0.377230  0.894700  0.880684   \nTownship                    -0.114935         0.070539  0.061510 -0.008466   \nRange                       -0.194452         0.077157  0.112901  0.133063   \nSection                      0.004276         0.008426  0.033284  0.008336   \nTotal Prop, lbs              0.480937         0.329335  0.501151  0.553368   \nFluid, bbls                  0.392504         0.358331  0.346689  0.542364   \nDate Fracd                   0.208859         0.255340  0.044077  0.065548   \nBest1 Mo BOPD                0.874867         0.150301  0.196826  0.206115   \nBest3 Mo BOPD                0.936788         0.157402  0.171387  0.227400   \nBest6 Mo BOPD                0.973459         0.165415  0.129178  0.239450   \nBest9 Mo BOPD                0.983770         0.167708  0.105886  0.237506   \nBest12 Mo BOPD               0.984430         0.160434  0.089730  0.228174   \nLatitude                    -0.115832         0.069839  0.059251 -0.009479   \nLongitude                    0.209950        -0.089177 -0.122899 -0.131115   \nFluid Type from DI           0.132864         0.163579  0.210520  0.302184   \nSPACING_CAPPED              -0.137795        -0.089806 -0.336247 -0.148175   \n12 month Cum Prod            1.000000         0.200558  0.216394  0.318438   \nCompletion Type              0.200558         1.000000 -0.298029 -0.255900   \nSleeves                      0.216394        -0.298029  1.000000 -0.310013   \nP&P                          0.318438        -0.255900 -0.310013  1.000000   \nFrac Ports                   0.333429        -0.879495       NaN -0.764521   \nRepeater Ports              -0.787614        -0.505592       NaN       NaN   \nCT                           0.334719        -0.579140       NaN       NaN   \nYear Drilled                 0.286433         0.349535  0.681389  0.557322   \n\n                    Frac Ports  Repeater Ports        CT  Year Drilled  \nUnnamed: 0           -0.711513        0.535451  0.191782      0.186718  \nOperator                   NaN             NaN  0.302712      0.036393  \nFormation            -0.530972        0.990755 -0.262309      0.179730  \nLateral Length       -0.087372        0.349897  0.391838      0.313809  \nStages                0.193914        0.078326  0.983473      0.718240  \nTownship             -0.756806        0.716801  0.011609     -0.001583  \nRange                 0.602259        0.045222 -0.185800      0.164663  \nSection               0.459620       -0.436849  0.098984      0.029651  \nTotal Prop, lbs       0.469282        0.004144 -0.487679      0.535724  \nFluid, bbls           0.579526        0.173785 -0.499150      0.538226  \nDate Fracd           -0.104844       -0.212092  0.161620      0.261503  \nBest1 Mo BOPD         0.328419       -0.593844  0.445904      0.193007  \nBest3 Mo BOPD         0.299310       -0.749003  0.412009      0.191037  \nBest6 Mo BOPD         0.297269       -0.811467  0.463814      0.178939  \nBest9 Mo BOPD         0.283064       -0.802807  0.631602      0.156885  \nBest12 Mo BOPD        0.268260       -0.776502  0.594845      0.133222  \nLatitude             -0.768311        0.731090  0.007869     -0.003671  \nLongitude            -0.539442       -0.108236  0.256691     -0.165334  \nFluid Type from DI    0.270921             NaN  0.301458      0.469487  \nSPACING_CAPPED             NaN             NaN -0.374899     -0.324756  \n12 month Cum Prod     0.333429       -0.787614  0.334719      0.286433  \nCompletion Type      -0.879495       -0.505592 -0.579140      0.349535  \nSleeves                    NaN             NaN       NaN      0.681389  \nP&P                  -0.764521             NaN       NaN      0.557322  \nFrac Ports            1.000000       -0.995871       NaN      0.417197  \nRepeater Ports       -0.995871        1.000000       NaN      0.123844  \nCT                         NaN             NaN  1.000000      0.342772  \nYear Drilled          0.417197        0.123844  0.342772      1.000000  \n\n[28 rows x 28 columns]",
      "text/html": "<div>\n<style scoped>\n    .dataframe tbody tr th:only-of-type {\n        vertical-align: middle;\n    }\n\n    .dataframe tbody tr th {\n        vertical-align: top;\n    }\n\n    .dataframe thead th {\n        text-align: right;\n    }\n</style>\n<table border=\"1\" class=\"dataframe\">\n  <thead>\n    <tr style=\"text-align: right;\">\n      <th></th>\n      <th>Unnamed: 0</th>\n      <th>Operator</th>\n      <th>Formation</th>\n      <th>Lateral Length</th>\n      <th>Stages</th>\n      <th>Township</th>\n      <th>Range</th>\n      <th>Section</th>\n      <th>Total Prop, lbs</th>\n      <th>Fluid, bbls</th>\n      <th>...</th>\n      <th>Fluid Type from DI</th>\n      <th>SPACING_CAPPED</th>\n      <th>12 month Cum Prod</th>\n      <th>Completion Type</th>\n      <th>Sleeves</th>\n      <th>P&amp;P</th>\n      <th>Frac Ports</th>\n      <th>Repeater Ports</th>\n      <th>CT</th>\n      <th>Year Drilled</th>\n    </tr>\n  </thead>\n  <tbody>\n    <tr>\n      <td>Unnamed: 0</td>\n      <td>1.000000</td>\n      <td>0.006489</td>\n      <td>-0.003688</td>\n      <td>0.053661</td>\n      <td>0.228829</td>\n      <td>0.243115</td>\n      <td>0.011720</td>\n      <td>-0.050113</td>\n      <td>0.203161</td>\n      <td>0.213521</td>\n      <td>...</td>\n      <td>0.085512</td>\n      <td>-0.107073</td>\n      <td>0.119804</td>\n      <td>0.171616</td>\n      <td>0.186390</td>\n      <td>0.173148</td>\n      <td>-0.711513</td>\n      <td>0.535451</td>\n      <td>0.191782</td>\n      <td>0.186718</td>\n    </tr>\n    <tr>\n      <td>Operator</td>\n      <td>0.006489</td>\n      <td>1.000000</td>\n      <td>-0.028321</td>\n      <td>-0.066512</td>\n      <td>0.041045</td>\n      <td>-0.042302</td>\n      <td>-0.037806</td>\n      <td>0.029391</td>\n      <td>0.038286</td>\n      <td>0.020178</td>\n      <td>...</td>\n      <td>0.015314</td>\n      <td>0.012291</td>\n      <td>0.104949</td>\n      <td>-0.044608</td>\n      <td>-0.021738</td>\n      <td>0.108179</td>\n      <td>NaN</td>\n      <td>NaN</td>\n      <td>0.302712</td>\n      <td>0.036393</td>\n    </tr>\n    <tr>\n      <td>Formation</td>\n      <td>-0.003688</td>\n      <td>-0.028321</td>\n      <td>1.000000</td>\n      <td>0.086291</td>\n      <td>0.122524</td>\n      <td>0.003088</td>\n      <td>0.028253</td>\n      <td>0.020755</td>\n      <td>0.041834</td>\n      <td>0.061650</td>\n      <td>...</td>\n      <td>0.077237</td>\n      <td>-0.207484</td>\n      <td>-0.030144</td>\n      <td>0.050641</td>\n      <td>0.151834</td>\n      <td>0.058834</td>\n      <td>-0.530972</td>\n      <td>0.990755</td>\n      <td>-0.262309</td>\n      <td>0.179730</td>\n    </tr>\n    <tr>\n      <td>Lateral Length</td>\n      <td>0.053661</td>\n      <td>-0.066512</td>\n      <td>0.086291</td>\n      <td>1.000000</td>\n      <td>0.456774</td>\n      <td>-0.038726</td>\n      <td>0.241831</td>\n      <td>-0.021131</td>\n      <td>0.253713</td>\n      <td>0.256175</td>\n      <td>...</td>\n      <td>0.136647</td>\n      <td>-0.147507</td>\n      <td>0.147342</td>\n      <td>0.051887</td>\n      <td>0.391450</td>\n      <td>0.528658</td>\n      <td>-0.087372</td>\n      <td>0.349897</td>\n      <td>0.391838</td>\n      <td>0.313809</td>\n    </tr>\n    <tr>\n      <td>Stages</td>\n      <td>0.228829</td>\n      <td>0.041045</td>\n      <td>0.122524</td>\n      <td>0.456774</td>\n      <td>1.000000</td>\n      <td>0.040092</td>\n      <td>0.147589</td>\n      <td>0.024033</td>\n      <td>0.587432</td>\n      <td>0.520606</td>\n      <td>...</td>\n      <td>0.323964</td>\n      <td>-0.245130</td>\n      <td>0.344700</td>\n      <td>0.377230</td>\n      <td>0.894700</td>\n      <td>0.880684</td>\n      <td>0.193914</td>\n      <td>0.078326</td>\n      <td>0.983473</td>\n      <td>0.718240</td>\n    </tr>\n    <tr>\n      <td>Township</td>\n      <td>0.243115</td>\n      <td>-0.042302</td>\n      <td>0.003088</td>\n      <td>-0.038726</td>\n      <td>0.040092</td>\n      <td>1.000000</td>\n      <td>-0.011333</td>\n      <td>0.023008</td>\n      <td>-0.005835</td>\n      <td>-0.006636</td>\n      <td>...</td>\n      <td>-0.003932</td>\n      <td>0.014882</td>\n      <td>-0.114935</td>\n      <td>0.070539</td>\n      <td>0.061510</td>\n      <td>-0.008466</td>\n      <td>-0.756806</td>\n      <td>0.716801</td>\n      <td>0.011609</td>\n      <td>-0.001583</td>\n    </tr>\n    <tr>\n      <td>Range</td>\n      <td>0.011720</td>\n      <td>-0.037806</td>\n      <td>0.028253</td>\n      <td>0.241831</td>\n      <td>0.147589</td>\n      <td>-0.011333</td>\n      <td>1.000000</td>\n      <td>-0.019859</td>\n      <td>-0.021746</td>\n      <td>0.194991</td>\n      <td>...</td>\n      <td>0.089458</td>\n      <td>0.009955</td>\n      <td>-0.194452</td>\n      <td>0.077157</td>\n      <td>0.112901</td>\n      <td>0.133063</td>\n      <td>0.602259</td>\n      <td>0.045222</td>\n      <td>-0.185800</td>\n      <td>0.164663</td>\n    </tr>\n    <tr>\n      <td>Section</td>\n      <td>-0.050113</td>\n      <td>0.029391</td>\n      <td>0.020755</td>\n      <td>-0.021131</td>\n      <td>0.024033</td>\n      <td>0.023008</td>\n      <td>-0.019859</td>\n      <td>1.000000</td>\n      <td>0.020073</td>\n      <td>0.017878</td>\n      <td>...</td>\n      <td>0.023185</td>\n      <td>-0.010710</td>\n      <td>0.004276</td>\n      <td>0.008426</td>\n      <td>0.033284</td>\n      <td>0.008336</td>\n      <td>0.459620</td>\n      <td>-0.436849</td>\n      <td>0.098984</td>\n      <td>0.029651</td>\n    </tr>\n    <tr>\n      <td>Total Prop, lbs</td>\n      <td>0.203161</td>\n      <td>0.038286</td>\n      <td>0.041834</td>\n      <td>0.253713</td>\n      <td>0.587432</td>\n      <td>-0.005835</td>\n      <td>-0.021746</td>\n      <td>0.020073</td>\n      <td>1.000000</td>\n      <td>0.714701</td>\n      <td>...</td>\n      <td>0.293185</td>\n      <td>-0.161274</td>\n      <td>0.480937</td>\n      <td>0.329335</td>\n      <td>0.501151</td>\n      <td>0.553368</td>\n      <td>0.469282</td>\n      <td>0.004144</td>\n      <td>-0.487679</td>\n      <td>0.535724</td>\n    </tr>\n    <tr>\n      <td>Fluid, bbls</td>\n      <td>0.213521</td>\n      <td>0.020178</td>\n      <td>0.061650</td>\n      <td>0.256175</td>\n      <td>0.520606</td>\n      <td>-0.006636</td>\n      <td>0.194991</td>\n      <td>0.017878</td>\n      <td>0.714701</td>\n      <td>1.000000</td>\n      <td>...</td>\n      <td>0.393915</td>\n      <td>-0.166497</td>\n      <td>0.392504</td>\n      <td>0.358331</td>\n      <td>0.346689</td>\n      <td>0.542364</td>\n      <td>0.579526</td>\n      <td>0.173785</td>\n      <td>-0.499150</td>\n      <td>0.538226</td>\n    </tr>\n    <tr>\n      <td>Date Fracd</td>\n      <td>0.341183</td>\n      <td>0.021939</td>\n      <td>0.041280</td>\n      <td>-0.014365</td>\n      <td>0.191505</td>\n      <td>-0.012801</td>\n      <td>-0.070321</td>\n      <td>-0.004739</td>\n      <td>0.239541</td>\n      <td>0.214078</td>\n      <td>...</td>\n      <td>0.136601</td>\n      <td>-0.158898</td>\n      <td>0.208859</td>\n      <td>0.255340</td>\n      <td>0.044077</td>\n      <td>0.065548</td>\n      <td>-0.104844</td>\n      <td>-0.212092</td>\n      <td>0.161620</td>\n      <td>0.261503</td>\n    </tr>\n    <tr>\n      <td>Best1 Mo BOPD</td>\n      <td>0.094560</td>\n      <td>0.134789</td>\n      <td>-0.113658</td>\n      <td>0.113087</td>\n      <td>0.265778</td>\n      <td>-0.121909</td>\n      <td>-0.164083</td>\n      <td>0.010863</td>\n      <td>0.371468</td>\n      <td>0.241188</td>\n      <td>...</td>\n      <td>0.060148</td>\n      <td>-0.131038</td>\n      <td>0.874867</td>\n      <td>0.150301</td>\n      <td>0.196826</td>\n      <td>0.206115</td>\n      <td>0.328419</td>\n      <td>-0.593844</td>\n      <td>0.445904</td>\n      <td>0.193007</td>\n    </tr>\n    <tr>\n      <td>Best3 Mo BOPD</td>\n      <td>0.096491</td>\n      <td>0.127368</td>\n      <td>-0.112426</td>\n      <td>0.113343</td>\n      <td>0.263466</td>\n      <td>-0.110662</td>\n      <td>-0.192811</td>\n      <td>0.012004</td>\n      <td>0.408457</td>\n      <td>0.260443</td>\n      <td>...</td>\n      <td>0.051855</td>\n      <td>-0.119870</td>\n      <td>0.936788</td>\n      <td>0.157402</td>\n      <td>0.171387</td>\n      <td>0.227400</td>\n      <td>0.299310</td>\n      <td>-0.749003</td>\n      <td>0.412009</td>\n      <td>0.191037</td>\n    </tr>\n    <tr>\n      <td>Best6 Mo BOPD</td>\n      <td>0.104318</td>\n      <td>0.115615</td>\n      <td>-0.112640</td>\n      <td>0.103529</td>\n      <td>0.251608</td>\n      <td>-0.101472</td>\n      <td>-0.216421</td>\n      <td>0.010873</td>\n      <td>0.422335</td>\n      <td>0.276661</td>\n      <td>...</td>\n      <td>0.044604</td>\n      <td>-0.099166</td>\n      <td>0.973459</td>\n      <td>0.165415</td>\n      <td>0.129178</td>\n      <td>0.239450</td>\n      <td>0.297269</td>\n      <td>-0.811467</td>\n      <td>0.463814</td>\n      <td>0.178939</td>\n    </tr>\n    <tr>\n      <td>Best9 Mo BOPD</td>\n      <td>0.114553</td>\n      <td>0.115250</td>\n      <td>-0.117814</td>\n      <td>0.098252</td>\n      <td>0.242121</td>\n      <td>-0.092244</td>\n      <td>-0.226095</td>\n      <td>0.007916</td>\n      <td>0.422783</td>\n      <td>0.290054</td>\n      <td>...</td>\n      <td>0.034010</td>\n      <td>-0.086794</td>\n      <td>0.983770</td>\n      <td>0.167708</td>\n      <td>0.105886</td>\n      <td>0.237506</td>\n      <td>0.283064</td>\n      <td>-0.802807</td>\n      <td>0.631602</td>\n      <td>0.156885</td>\n    </tr>\n    <tr>\n      <td>Best12 Mo BOPD</td>\n      <td>0.121250</td>\n      <td>0.109269</td>\n      <td>-0.116119</td>\n      <td>0.093744</td>\n      <td>0.227370</td>\n      <td>-0.081699</td>\n      <td>-0.238771</td>\n      <td>0.005923</td>\n      <td>0.417017</td>\n      <td>0.281228</td>\n      <td>...</td>\n      <td>0.020633</td>\n      <td>-0.083744</td>\n      <td>0.984430</td>\n      <td>0.160434</td>\n      <td>0.089730</td>\n      <td>0.228174</td>\n      <td>0.268260</td>\n      <td>-0.776502</td>\n      <td>0.594845</td>\n      <td>0.133222</td>\n    </tr>\n    <tr>\n      <td>Latitude</td>\n      <td>0.245966</td>\n      <td>-0.044818</td>\n      <td>0.002200</td>\n      <td>-0.037672</td>\n      <td>0.038070</td>\n      <td>0.998011</td>\n      <td>-0.009201</td>\n      <td>-0.037652</td>\n      <td>-0.007611</td>\n      <td>-0.008240</td>\n      <td>...</td>\n      <td>-0.005596</td>\n      <td>0.015453</td>\n      <td>-0.115832</td>\n      <td>0.069839</td>\n      <td>0.059251</td>\n      <td>-0.009479</td>\n      <td>-0.768311</td>\n      <td>0.731090</td>\n      <td>0.007869</td>\n      <td>-0.003671</td>\n    </tr>\n    <tr>\n      <td>Longitude</td>\n      <td>-0.052245</td>\n      <td>0.045595</td>\n      <td>-0.027334</td>\n      <td>-0.233496</td>\n      <td>-0.154342</td>\n      <td>-0.145898</td>\n      <td>-0.983505</td>\n      <td>0.016787</td>\n      <td>0.020765</td>\n      <td>-0.194170</td>\n      <td>...</td>\n      <td>-0.089649</td>\n      <td>-0.011091</td>\n      <td>0.209950</td>\n      <td>-0.089177</td>\n      <td>-0.122899</td>\n      <td>-0.131115</td>\n      <td>-0.539442</td>\n      <td>-0.108236</td>\n      <td>0.256691</td>\n      <td>-0.165334</td>\n    </tr>\n    <tr>\n      <td>Fluid Type from DI</td>\n      <td>0.085512</td>\n      <td>0.015314</td>\n      <td>0.077237</td>\n      <td>0.136647</td>\n      <td>0.323964</td>\n      <td>-0.003932</td>\n      <td>0.089458</td>\n      <td>0.023185</td>\n      <td>0.293185</td>\n      <td>0.393915</td>\n      <td>...</td>\n      <td>1.000000</td>\n      <td>-0.150365</td>\n      <td>0.132864</td>\n      <td>0.163579</td>\n      <td>0.210520</td>\n      <td>0.302184</td>\n      <td>0.270921</td>\n      <td>NaN</td>\n      <td>0.301458</td>\n      <td>0.469487</td>\n    </tr>\n    <tr>\n      <td>SPACING_CAPPED</td>\n      <td>-0.107073</td>\n      <td>0.012291</td>\n      <td>-0.207484</td>\n      <td>-0.147507</td>\n      <td>-0.245130</td>\n      <td>0.014882</td>\n      <td>0.009955</td>\n      <td>-0.010710</td>\n      <td>-0.161274</td>\n      <td>-0.166497</td>\n      <td>...</td>\n      <td>-0.150365</td>\n      <td>1.000000</td>\n      <td>-0.137795</td>\n      <td>-0.089806</td>\n      <td>-0.336247</td>\n      <td>-0.148175</td>\n      <td>NaN</td>\n      <td>NaN</td>\n      <td>-0.374899</td>\n      <td>-0.324756</td>\n    </tr>\n    <tr>\n      <td>12 month Cum Prod</td>\n      <td>0.119804</td>\n      <td>0.104949</td>\n      <td>-0.030144</td>\n      <td>0.147342</td>\n      <td>0.344700</td>\n      <td>-0.114935</td>\n      <td>-0.194452</td>\n      <td>0.004276</td>\n      <td>0.480937</td>\n      <td>0.392504</td>\n      <td>...</td>\n      <td>0.132864</td>\n      <td>-0.137795</td>\n      <td>1.000000</td>\n      <td>0.200558</td>\n      <td>0.216394</td>\n      <td>0.318438</td>\n      <td>0.333429</td>\n      <td>-0.787614</td>\n      <td>0.334719</td>\n      <td>0.286433</td>\n    </tr>\n    <tr>\n      <td>Completion Type</td>\n      <td>0.171616</td>\n      <td>-0.044608</td>\n      <td>0.050641</td>\n      <td>0.051887</td>\n      <td>0.377230</td>\n      <td>0.070539</td>\n      <td>0.077157</td>\n      <td>0.008426</td>\n      <td>0.329335</td>\n      <td>0.358331</td>\n      <td>...</td>\n      <td>0.163579</td>\n      <td>-0.089806</td>\n      <td>0.200558</td>\n      <td>1.000000</td>\n      <td>-0.298029</td>\n      <td>-0.255900</td>\n      <td>-0.879495</td>\n      <td>-0.505592</td>\n      <td>-0.579140</td>\n      <td>0.349535</td>\n    </tr>\n    <tr>\n      <td>Sleeves</td>\n      <td>0.186390</td>\n      <td>-0.021738</td>\n      <td>0.151834</td>\n      <td>0.391450</td>\n      <td>0.894700</td>\n      <td>0.061510</td>\n      <td>0.112901</td>\n      <td>0.033284</td>\n      <td>0.501151</td>\n      <td>0.346689</td>\n      <td>...</td>\n      <td>0.210520</td>\n      <td>-0.336247</td>\n      <td>0.216394</td>\n      <td>-0.298029</td>\n      <td>1.000000</td>\n      <td>-0.310013</td>\n      <td>NaN</td>\n      <td>NaN</td>\n      <td>NaN</td>\n      <td>0.681389</td>\n    </tr>\n    <tr>\n      <td>P&amp;P</td>\n      <td>0.173148</td>\n      <td>0.108179</td>\n      <td>0.058834</td>\n      <td>0.528658</td>\n      <td>0.880684</td>\n      <td>-0.008466</td>\n      <td>0.133063</td>\n      <td>0.008336</td>\n      <td>0.553368</td>\n      <td>0.542364</td>\n      <td>...</td>\n      <td>0.302184</td>\n      <td>-0.148175</td>\n      <td>0.318438</td>\n      <td>-0.255900</td>\n      <td>-0.310013</td>\n      <td>1.000000</td>\n      <td>-0.764521</td>\n      <td>NaN</td>\n      <td>NaN</td>\n      <td>0.557322</td>\n    </tr>\n    <tr>\n      <td>Frac Ports</td>\n      <td>-0.711513</td>\n      <td>NaN</td>\n      <td>-0.530972</td>\n      <td>-0.087372</td>\n      <td>0.193914</td>\n      <td>-0.756806</td>\n      <td>0.602259</td>\n      <td>0.459620</td>\n      <td>0.469282</td>\n      <td>0.579526</td>\n      <td>...</td>\n      <td>0.270921</td>\n      <td>NaN</td>\n      <td>0.333429</td>\n      <td>-0.879495</td>\n      <td>NaN</td>\n      <td>-0.764521</td>\n      <td>1.000000</td>\n      <td>-0.995871</td>\n      <td>NaN</td>\n      <td>0.417197</td>\n    </tr>\n    <tr>\n      <td>Repeater Ports</td>\n      <td>0.535451</td>\n      <td>NaN</td>\n      <td>0.990755</td>\n      <td>0.349897</td>\n      <td>0.078326</td>\n      <td>0.716801</td>\n      <td>0.045222</td>\n      <td>-0.436849</td>\n      <td>0.004144</td>\n      <td>0.173785</td>\n      <td>...</td>\n      <td>NaN</td>\n      <td>NaN</td>\n      <td>-0.787614</td>\n      <td>-0.505592</td>\n      <td>NaN</td>\n      <td>NaN</td>\n      <td>-0.995871</td>\n      <td>1.000000</td>\n      <td>NaN</td>\n      <td>0.123844</td>\n    </tr>\n    <tr>\n      <td>CT</td>\n      <td>0.191782</td>\n      <td>0.302712</td>\n      <td>-0.262309</td>\n      <td>0.391838</td>\n      <td>0.983473</td>\n      <td>0.011609</td>\n      <td>-0.185800</td>\n      <td>0.098984</td>\n      <td>-0.487679</td>\n      <td>-0.499150</td>\n      <td>...</td>\n      <td>0.301458</td>\n      <td>-0.374899</td>\n      <td>0.334719</td>\n      <td>-0.579140</td>\n      <td>NaN</td>\n      <td>NaN</td>\n      <td>NaN</td>\n      <td>NaN</td>\n      <td>1.000000</td>\n      <td>0.342772</td>\n    </tr>\n    <tr>\n      <td>Year Drilled</td>\n      <td>0.186718</td>\n      <td>0.036393</td>\n      <td>0.179730</td>\n      <td>0.313809</td>\n      <td>0.718240</td>\n      <td>-0.001583</td>\n      <td>0.164663</td>\n      <td>0.029651</td>\n      <td>0.535724</td>\n      <td>0.538226</td>\n      <td>...</td>\n      <td>0.469487</td>\n      <td>-0.324756</td>\n      <td>0.286433</td>\n      <td>0.349535</td>\n      <td>0.681389</td>\n      <td>0.557322</td>\n      <td>0.417197</td>\n      <td>0.123844</td>\n      <td>0.342772</td>\n      <td>1.000000</td>\n    </tr>\n  </tbody>\n</table>\n<p>28 rows × 28 columns</p>\n</div>"
     },
     "metadata": {},
     "execution_count": 208
    }
   ],
   "source": [
    "#Finding Pearson's correlation coefficient for each feature\n",
    "pearson_correlation = DatabaseDF.corr(method = 'pearson')\n",
    "pearson_correlation"
   ]
  },
  {
   "cell_type": "code",
   "execution_count": 209,
   "metadata": {},
   "outputs": [
    {
     "output_type": "execute_result",
     "data": {
      "text/plain": "Unnamed: 0            0.119804\nOperator              0.104949\nFormation            -0.030144\nLateral Length        0.147342\nStages                0.344700\nTownship             -0.114935\nRange                -0.194452\nSection               0.004276\nTotal Prop, lbs       0.480937\nFluid, bbls           0.392504\nDate Fracd            0.208859\nBest1 Mo BOPD         0.874867\nBest3 Mo BOPD         0.936788\nBest6 Mo BOPD         0.973459\nBest9 Mo BOPD         0.983770\nBest12 Mo BOPD        0.984430\nLatitude             -0.115832\nLongitude             0.209950\nFluid Type from DI    0.132864\nSPACING_CAPPED       -0.137795\n12 month Cum Prod     1.000000\nCompletion Type       0.200558\nSleeves               0.216394\nP&P                   0.318438\nFrac Ports            0.333429\nRepeater Ports       -0.787614\nCT                    0.334719\nYear Drilled          0.286433\nName: 12 month Cum Prod, dtype: float64"
     },
     "metadata": {},
     "execution_count": 209
    }
   ],
   "source": [
    "#Printing the correlation to Cumulative Production specifically\n",
    "pearson_correlation['12 month Cum Prod']"
   ]
  },
  {
   "cell_type": "markdown",
   "metadata": {},
   "source": [
    "### First set of variables:"
   ]
  },
  {
   "cell_type": "code",
   "execution_count": 132,
   "metadata": {},
   "outputs": [],
   "source": [
    "#Features that are being compared\n",
    "features = ['Lateral Length', 'Stages', 'Fluid, bbls', 'Total Prop, lbs', 'Longitude']\n",
    "#Radius values for each variable\n",
    "radius_values = []\n",
    "for i in features:\n",
    "        radius_values.append(pearson_correlation.at[i, '12 month Cum Prod'])\n",
    "\n",
    "        '''I would explain why this code is being done. and why Pearson specifically.'''\n"
   ]
  },
  {
   "cell_type": "code",
   "execution_count": 138,
   "metadata": {},
   "outputs": [
    {
     "output_type": "display_data",
     "data": {
      "application/vnd.plotly.v1+json": {
       "config": {
        "plotlyServerURL": "https://plot.ly"
       },
       "data": [
        {
         "fill": "toself",
         "hovertemplate": "r=%{r}<br>theta=%{theta}<extra></extra>",
         "legendgroup": "",
         "line": {
          "color": "#636efa",
          "dash": "solid"
         },
         "mode": "lines",
         "name": "",
         "r": [
          -0.16650890705991375,
          0.47185005436607136,
          0.010520682386774382,
          0.31136962752993314,
          -0.2462845738471428,
          -0.16650890705991375
         ],
         "showlegend": false,
         "subplot": "polar",
         "theta": [
          "Latitude",
          "CT",
          "Section",
          "Year Drilled",
          "SPACING_CAPPED",
          "Latitude"
         ],
         "type": "scatterpolar"
        }
       ],
       "layout": {
        "legend": {
         "tracegroupgap": 0
        },
        "margin": {
         "t": 60
        },
        "polar": {
         "angularaxis": {
          "direction": "clockwise",
          "rotation": 90
         },
         "domain": {
          "x": [
           0,
           1
          ],
          "y": [
           0,
           1
          ]
         }
        },
        "template": {
         "data": {
          "bar": [
           {
            "error_x": {
             "color": "#2a3f5f"
            },
            "error_y": {
             "color": "#2a3f5f"
            },
            "marker": {
             "line": {
              "color": "#E5ECF6",
              "width": 0.5
             }
            },
            "type": "bar"
           }
          ],
          "barpolar": [
           {
            "marker": {
             "line": {
              "color": "#E5ECF6",
              "width": 0.5
             }
            },
            "type": "barpolar"
           }
          ],
          "carpet": [
           {
            "aaxis": {
             "endlinecolor": "#2a3f5f",
             "gridcolor": "white",
             "linecolor": "white",
             "minorgridcolor": "white",
             "startlinecolor": "#2a3f5f"
            },
            "baxis": {
             "endlinecolor": "#2a3f5f",
             "gridcolor": "white",
             "linecolor": "white",
             "minorgridcolor": "white",
             "startlinecolor": "#2a3f5f"
            },
            "type": "carpet"
           }
          ],
          "choropleth": [
           {
            "colorbar": {
             "outlinewidth": 0,
             "ticks": ""
            },
            "type": "choropleth"
           }
          ],
          "contour": [
           {
            "colorbar": {
             "outlinewidth": 0,
             "ticks": ""
            },
            "colorscale": [
             [
              0,
              "#0d0887"
             ],
             [
              0.1111111111111111,
              "#46039f"
             ],
             [
              0.2222222222222222,
              "#7201a8"
             ],
             [
              0.3333333333333333,
              "#9c179e"
             ],
             [
              0.4444444444444444,
              "#bd3786"
             ],
             [
              0.5555555555555556,
              "#d8576b"
             ],
             [
              0.6666666666666666,
              "#ed7953"
             ],
             [
              0.7777777777777778,
              "#fb9f3a"
             ],
             [
              0.8888888888888888,
              "#fdca26"
             ],
             [
              1,
              "#f0f921"
             ]
            ],
            "type": "contour"
           }
          ],
          "contourcarpet": [
           {
            "colorbar": {
             "outlinewidth": 0,
             "ticks": ""
            },
            "type": "contourcarpet"
           }
          ],
          "heatmap": [
           {
            "colorbar": {
             "outlinewidth": 0,
             "ticks": ""
            },
            "colorscale": [
             [
              0,
              "#0d0887"
             ],
             [
              0.1111111111111111,
              "#46039f"
             ],
             [
              0.2222222222222222,
              "#7201a8"
             ],
             [
              0.3333333333333333,
              "#9c179e"
             ],
             [
              0.4444444444444444,
              "#bd3786"
             ],
             [
              0.5555555555555556,
              "#d8576b"
             ],
             [
              0.6666666666666666,
              "#ed7953"
             ],
             [
              0.7777777777777778,
              "#fb9f3a"
             ],
             [
              0.8888888888888888,
              "#fdca26"
             ],
             [
              1,
              "#f0f921"
             ]
            ],
            "type": "heatmap"
           }
          ],
          "heatmapgl": [
           {
            "colorbar": {
             "outlinewidth": 0,
             "ticks": ""
            },
            "colorscale": [
             [
              0,
              "#0d0887"
             ],
             [
              0.1111111111111111,
              "#46039f"
             ],
             [
              0.2222222222222222,
              "#7201a8"
             ],
             [
              0.3333333333333333,
              "#9c179e"
             ],
             [
              0.4444444444444444,
              "#bd3786"
             ],
             [
              0.5555555555555556,
              "#d8576b"
             ],
             [
              0.6666666666666666,
              "#ed7953"
             ],
             [
              0.7777777777777778,
              "#fb9f3a"
             ],
             [
              0.8888888888888888,
              "#fdca26"
             ],
             [
              1,
              "#f0f921"
             ]
            ],
            "type": "heatmapgl"
           }
          ],
          "histogram": [
           {
            "marker": {
             "colorbar": {
              "outlinewidth": 0,
              "ticks": ""
             }
            },
            "type": "histogram"
           }
          ],
          "histogram2d": [
           {
            "colorbar": {
             "outlinewidth": 0,
             "ticks": ""
            },
            "colorscale": [
             [
              0,
              "#0d0887"
             ],
             [
              0.1111111111111111,
              "#46039f"
             ],
             [
              0.2222222222222222,
              "#7201a8"
             ],
             [
              0.3333333333333333,
              "#9c179e"
             ],
             [
              0.4444444444444444,
              "#bd3786"
             ],
             [
              0.5555555555555556,
              "#d8576b"
             ],
             [
              0.6666666666666666,
              "#ed7953"
             ],
             [
              0.7777777777777778,
              "#fb9f3a"
             ],
             [
              0.8888888888888888,
              "#fdca26"
             ],
             [
              1,
              "#f0f921"
             ]
            ],
            "type": "histogram2d"
           }
          ],
          "histogram2dcontour": [
           {
            "colorbar": {
             "outlinewidth": 0,
             "ticks": ""
            },
            "colorscale": [
             [
              0,
              "#0d0887"
             ],
             [
              0.1111111111111111,
              "#46039f"
             ],
             [
              0.2222222222222222,
              "#7201a8"
             ],
             [
              0.3333333333333333,
              "#9c179e"
             ],
             [
              0.4444444444444444,
              "#bd3786"
             ],
             [
              0.5555555555555556,
              "#d8576b"
             ],
             [
              0.6666666666666666,
              "#ed7953"
             ],
             [
              0.7777777777777778,
              "#fb9f3a"
             ],
             [
              0.8888888888888888,
              "#fdca26"
             ],
             [
              1,
              "#f0f921"
             ]
            ],
            "type": "histogram2dcontour"
           }
          ],
          "mesh3d": [
           {
            "colorbar": {
             "outlinewidth": 0,
             "ticks": ""
            },
            "type": "mesh3d"
           }
          ],
          "parcoords": [
           {
            "line": {
             "colorbar": {
              "outlinewidth": 0,
              "ticks": ""
             }
            },
            "type": "parcoords"
           }
          ],
          "pie": [
           {
            "automargin": true,
            "type": "pie"
           }
          ],
          "scatter": [
           {
            "marker": {
             "colorbar": {
              "outlinewidth": 0,
              "ticks": ""
             }
            },
            "type": "scatter"
           }
          ],
          "scatter3d": [
           {
            "line": {
             "colorbar": {
              "outlinewidth": 0,
              "ticks": ""
             }
            },
            "marker": {
             "colorbar": {
              "outlinewidth": 0,
              "ticks": ""
             }
            },
            "type": "scatter3d"
           }
          ],
          "scattercarpet": [
           {
            "marker": {
             "colorbar": {
              "outlinewidth": 0,
              "ticks": ""
             }
            },
            "type": "scattercarpet"
           }
          ],
          "scattergeo": [
           {
            "marker": {
             "colorbar": {
              "outlinewidth": 0,
              "ticks": ""
             }
            },
            "type": "scattergeo"
           }
          ],
          "scattergl": [
           {
            "marker": {
             "colorbar": {
              "outlinewidth": 0,
              "ticks": ""
             }
            },
            "type": "scattergl"
           }
          ],
          "scattermapbox": [
           {
            "marker": {
             "colorbar": {
              "outlinewidth": 0,
              "ticks": ""
             }
            },
            "type": "scattermapbox"
           }
          ],
          "scatterpolar": [
           {
            "marker": {
             "colorbar": {
              "outlinewidth": 0,
              "ticks": ""
             }
            },
            "type": "scatterpolar"
           }
          ],
          "scatterpolargl": [
           {
            "marker": {
             "colorbar": {
              "outlinewidth": 0,
              "ticks": ""
             }
            },
            "type": "scatterpolargl"
           }
          ],
          "scatterternary": [
           {
            "marker": {
             "colorbar": {
              "outlinewidth": 0,
              "ticks": ""
             }
            },
            "type": "scatterternary"
           }
          ],
          "surface": [
           {
            "colorbar": {
             "outlinewidth": 0,
             "ticks": ""
            },
            "colorscale": [
             [
              0,
              "#0d0887"
             ],
             [
              0.1111111111111111,
              "#46039f"
             ],
             [
              0.2222222222222222,
              "#7201a8"
             ],
             [
              0.3333333333333333,
              "#9c179e"
             ],
             [
              0.4444444444444444,
              "#bd3786"
             ],
             [
              0.5555555555555556,
              "#d8576b"
             ],
             [
              0.6666666666666666,
              "#ed7953"
             ],
             [
              0.7777777777777778,
              "#fb9f3a"
             ],
             [
              0.8888888888888888,
              "#fdca26"
             ],
             [
              1,
              "#f0f921"
             ]
            ],
            "type": "surface"
           }
          ],
          "table": [
           {
            "cells": {
             "fill": {
              "color": "#EBF0F8"
             },
             "line": {
              "color": "white"
             }
            },
            "header": {
             "fill": {
              "color": "#C8D4E3"
             },
             "line": {
              "color": "white"
             }
            },
            "type": "table"
           }
          ]
         },
         "layout": {
          "annotationdefaults": {
           "arrowcolor": "#2a3f5f",
           "arrowhead": 0,
           "arrowwidth": 1
          },
          "coloraxis": {
           "colorbar": {
            "outlinewidth": 0,
            "ticks": ""
           }
          },
          "colorscale": {
           "diverging": [
            [
             0,
             "#8e0152"
            ],
            [
             0.1,
             "#c51b7d"
            ],
            [
             0.2,
             "#de77ae"
            ],
            [
             0.3,
             "#f1b6da"
            ],
            [
             0.4,
             "#fde0ef"
            ],
            [
             0.5,
             "#f7f7f7"
            ],
            [
             0.6,
             "#e6f5d0"
            ],
            [
             0.7,
             "#b8e186"
            ],
            [
             0.8,
             "#7fbc41"
            ],
            [
             0.9,
             "#4d9221"
            ],
            [
             1,
             "#276419"
            ]
           ],
           "sequential": [
            [
             0,
             "#0d0887"
            ],
            [
             0.1111111111111111,
             "#46039f"
            ],
            [
             0.2222222222222222,
             "#7201a8"
            ],
            [
             0.3333333333333333,
             "#9c179e"
            ],
            [
             0.4444444444444444,
             "#bd3786"
            ],
            [
             0.5555555555555556,
             "#d8576b"
            ],
            [
             0.6666666666666666,
             "#ed7953"
            ],
            [
             0.7777777777777778,
             "#fb9f3a"
            ],
            [
             0.8888888888888888,
             "#fdca26"
            ],
            [
             1,
             "#f0f921"
            ]
           ],
           "sequentialminus": [
            [
             0,
             "#0d0887"
            ],
            [
             0.1111111111111111,
             "#46039f"
            ],
            [
             0.2222222222222222,
             "#7201a8"
            ],
            [
             0.3333333333333333,
             "#9c179e"
            ],
            [
             0.4444444444444444,
             "#bd3786"
            ],
            [
             0.5555555555555556,
             "#d8576b"
            ],
            [
             0.6666666666666666,
             "#ed7953"
            ],
            [
             0.7777777777777778,
             "#fb9f3a"
            ],
            [
             0.8888888888888888,
             "#fdca26"
            ],
            [
             1,
             "#f0f921"
            ]
           ]
          },
          "colorway": [
           "#636efa",
           "#EF553B",
           "#00cc96",
           "#ab63fa",
           "#FFA15A",
           "#19d3f3",
           "#FF6692",
           "#B6E880",
           "#FF97FF",
           "#FECB52"
          ],
          "font": {
           "color": "#2a3f5f"
          },
          "geo": {
           "bgcolor": "white",
           "lakecolor": "white",
           "landcolor": "#E5ECF6",
           "showlakes": true,
           "showland": true,
           "subunitcolor": "white"
          },
          "hoverlabel": {
           "align": "left"
          },
          "hovermode": "closest",
          "mapbox": {
           "style": "light"
          },
          "paper_bgcolor": "white",
          "plot_bgcolor": "#E5ECF6",
          "polar": {
           "angularaxis": {
            "gridcolor": "white",
            "linecolor": "white",
            "ticks": ""
           },
           "bgcolor": "#E5ECF6",
           "radialaxis": {
            "gridcolor": "white",
            "linecolor": "white",
            "ticks": ""
           }
          },
          "scene": {
           "xaxis": {
            "backgroundcolor": "#E5ECF6",
            "gridcolor": "white",
            "gridwidth": 2,
            "linecolor": "white",
            "showbackground": true,
            "ticks": "",
            "zerolinecolor": "white"
           },
           "yaxis": {
            "backgroundcolor": "#E5ECF6",
            "gridcolor": "white",
            "gridwidth": 2,
            "linecolor": "white",
            "showbackground": true,
            "ticks": "",
            "zerolinecolor": "white"
           },
           "zaxis": {
            "backgroundcolor": "#E5ECF6",
            "gridcolor": "white",
            "gridwidth": 2,
            "linecolor": "white",
            "showbackground": true,
            "ticks": "",
            "zerolinecolor": "white"
           }
          },
          "shapedefaults": {
           "line": {
            "color": "#2a3f5f"
           }
          },
          "ternary": {
           "aaxis": {
            "gridcolor": "white",
            "linecolor": "white",
            "ticks": ""
           },
           "baxis": {
            "gridcolor": "white",
            "linecolor": "white",
            "ticks": ""
           },
           "bgcolor": "#E5ECF6",
           "caxis": {
            "gridcolor": "white",
            "linecolor": "white",
            "ticks": ""
           }
          },
          "title": {
           "x": 0.05
          },
          "xaxis": {
           "automargin": true,
           "gridcolor": "white",
           "linecolor": "white",
           "ticks": "",
           "title": {
            "standoff": 15
           },
           "zerolinecolor": "white",
           "zerolinewidth": 2
          },
          "yaxis": {
           "automargin": true,
           "gridcolor": "white",
           "linecolor": "white",
           "ticks": "",
           "title": {
            "standoff": 15
           },
           "zerolinecolor": "white",
           "zerolinewidth": 2
          }
         }
        }
       }
      }
     },
     "metadata": {}
    }
   ],
   "source": [
    "#create dictionary for angle and radius values \n",
    "df = pd.DataFrame(dict(\n",
    "    r= radius_values,\n",
    "    theta= features))\n",
    "\n",
    "#create radar chart\n",
    "fig = px.line_polar(df, r='r', theta='theta', line_close=True)\n",
    "\n",
    "#fill in area\n",
    "fig.update_traces(fill='toself')\n",
    "\n",
    "#plot chart\n",
    "fig.show()"
   ]
  },
  {
   "cell_type": "markdown",
   "metadata": {},
   "source": [
    "### Second set of variables"
   ]
  },
  {
   "cell_type": "code",
   "execution_count": 144,
   "metadata": {},
   "outputs": [],
   "source": [
    "#Features that are being compared\n",
    "features = ['Latitude','CT','Section',\n",
    "           'Year Drilled', 'SPACING_CAPPED']\n",
    "#Radius values for each variable\n",
    "radius_values = []\n",
    "for i in features:\n",
    "        radius_values.append(pearson_correlation.at[i, '12 month Cum Prod'])"
   ]
  },
  {
   "cell_type": "code",
   "execution_count": 150,
   "metadata": {},
   "outputs": [
    {
     "output_type": "display_data",
     "data": {
      "application/vnd.plotly.v1+json": {
       "config": {
        "plotlyServerURL": "https://plot.ly"
       },
       "data": [
        {
         "fill": "toself",
         "hovertemplate": "r=%{r}<br>theta=%{theta}<extra></extra>",
         "legendgroup": "",
         "line": {
          "color": "#636efa",
          "dash": "solid"
         },
         "mode": "lines",
         "name": "",
         "r": [
          0.1772565408379906,
          0.3401656768932946,
          0.40196027696071207,
          0.44005995031812384,
          0.1753628534729498,
          0.1772565408379906
         ],
         "showlegend": false,
         "subplot": "polar",
         "theta": [
          "Lateral Length",
          "Stages",
          "Fluid, bbls",
          "Total Prop, lbs",
          "Longitude",
          "Lateral Length"
         ],
         "type": "scatterpolar"
        }
       ],
       "layout": {
        "legend": {
         "tracegroupgap": 0
        },
        "margin": {
         "t": 60
        },
        "polar": {
         "angularaxis": {
          "direction": "clockwise",
          "rotation": 90
         },
         "domain": {
          "x": [
           0,
           1
          ],
          "y": [
           0,
           1
          ]
         }
        },
        "template": {
         "data": {
          "bar": [
           {
            "error_x": {
             "color": "#2a3f5f"
            },
            "error_y": {
             "color": "#2a3f5f"
            },
            "marker": {
             "line": {
              "color": "#E5ECF6",
              "width": 0.5
             }
            },
            "type": "bar"
           }
          ],
          "barpolar": [
           {
            "marker": {
             "line": {
              "color": "#E5ECF6",
              "width": 0.5
             }
            },
            "type": "barpolar"
           }
          ],
          "carpet": [
           {
            "aaxis": {
             "endlinecolor": "#2a3f5f",
             "gridcolor": "white",
             "linecolor": "white",
             "minorgridcolor": "white",
             "startlinecolor": "#2a3f5f"
            },
            "baxis": {
             "endlinecolor": "#2a3f5f",
             "gridcolor": "white",
             "linecolor": "white",
             "minorgridcolor": "white",
             "startlinecolor": "#2a3f5f"
            },
            "type": "carpet"
           }
          ],
          "choropleth": [
           {
            "colorbar": {
             "outlinewidth": 0,
             "ticks": ""
            },
            "type": "choropleth"
           }
          ],
          "contour": [
           {
            "colorbar": {
             "outlinewidth": 0,
             "ticks": ""
            },
            "colorscale": [
             [
              0,
              "#0d0887"
             ],
             [
              0.1111111111111111,
              "#46039f"
             ],
             [
              0.2222222222222222,
              "#7201a8"
             ],
             [
              0.3333333333333333,
              "#9c179e"
             ],
             [
              0.4444444444444444,
              "#bd3786"
             ],
             [
              0.5555555555555556,
              "#d8576b"
             ],
             [
              0.6666666666666666,
              "#ed7953"
             ],
             [
              0.7777777777777778,
              "#fb9f3a"
             ],
             [
              0.8888888888888888,
              "#fdca26"
             ],
             [
              1,
              "#f0f921"
             ]
            ],
            "type": "contour"
           }
          ],
          "contourcarpet": [
           {
            "colorbar": {
             "outlinewidth": 0,
             "ticks": ""
            },
            "type": "contourcarpet"
           }
          ],
          "heatmap": [
           {
            "colorbar": {
             "outlinewidth": 0,
             "ticks": ""
            },
            "colorscale": [
             [
              0,
              "#0d0887"
             ],
             [
              0.1111111111111111,
              "#46039f"
             ],
             [
              0.2222222222222222,
              "#7201a8"
             ],
             [
              0.3333333333333333,
              "#9c179e"
             ],
             [
              0.4444444444444444,
              "#bd3786"
             ],
             [
              0.5555555555555556,
              "#d8576b"
             ],
             [
              0.6666666666666666,
              "#ed7953"
             ],
             [
              0.7777777777777778,
              "#fb9f3a"
             ],
             [
              0.8888888888888888,
              "#fdca26"
             ],
             [
              1,
              "#f0f921"
             ]
            ],
            "type": "heatmap"
           }
          ],
          "heatmapgl": [
           {
            "colorbar": {
             "outlinewidth": 0,
             "ticks": ""
            },
            "colorscale": [
             [
              0,
              "#0d0887"
             ],
             [
              0.1111111111111111,
              "#46039f"
             ],
             [
              0.2222222222222222,
              "#7201a8"
             ],
             [
              0.3333333333333333,
              "#9c179e"
             ],
             [
              0.4444444444444444,
              "#bd3786"
             ],
             [
              0.5555555555555556,
              "#d8576b"
             ],
             [
              0.6666666666666666,
              "#ed7953"
             ],
             [
              0.7777777777777778,
              "#fb9f3a"
             ],
             [
              0.8888888888888888,
              "#fdca26"
             ],
             [
              1,
              "#f0f921"
             ]
            ],
            "type": "heatmapgl"
           }
          ],
          "histogram": [
           {
            "marker": {
             "colorbar": {
              "outlinewidth": 0,
              "ticks": ""
             }
            },
            "type": "histogram"
           }
          ],
          "histogram2d": [
           {
            "colorbar": {
             "outlinewidth": 0,
             "ticks": ""
            },
            "colorscale": [
             [
              0,
              "#0d0887"
             ],
             [
              0.1111111111111111,
              "#46039f"
             ],
             [
              0.2222222222222222,
              "#7201a8"
             ],
             [
              0.3333333333333333,
              "#9c179e"
             ],
             [
              0.4444444444444444,
              "#bd3786"
             ],
             [
              0.5555555555555556,
              "#d8576b"
             ],
             [
              0.6666666666666666,
              "#ed7953"
             ],
             [
              0.7777777777777778,
              "#fb9f3a"
             ],
             [
              0.8888888888888888,
              "#fdca26"
             ],
             [
              1,
              "#f0f921"
             ]
            ],
            "type": "histogram2d"
           }
          ],
          "histogram2dcontour": [
           {
            "colorbar": {
             "outlinewidth": 0,
             "ticks": ""
            },
            "colorscale": [
             [
              0,
              "#0d0887"
             ],
             [
              0.1111111111111111,
              "#46039f"
             ],
             [
              0.2222222222222222,
              "#7201a8"
             ],
             [
              0.3333333333333333,
              "#9c179e"
             ],
             [
              0.4444444444444444,
              "#bd3786"
             ],
             [
              0.5555555555555556,
              "#d8576b"
             ],
             [
              0.6666666666666666,
              "#ed7953"
             ],
             [
              0.7777777777777778,
              "#fb9f3a"
             ],
             [
              0.8888888888888888,
              "#fdca26"
             ],
             [
              1,
              "#f0f921"
             ]
            ],
            "type": "histogram2dcontour"
           }
          ],
          "mesh3d": [
           {
            "colorbar": {
             "outlinewidth": 0,
             "ticks": ""
            },
            "type": "mesh3d"
           }
          ],
          "parcoords": [
           {
            "line": {
             "colorbar": {
              "outlinewidth": 0,
              "ticks": ""
             }
            },
            "type": "parcoords"
           }
          ],
          "pie": [
           {
            "automargin": true,
            "type": "pie"
           }
          ],
          "scatter": [
           {
            "marker": {
             "colorbar": {
              "outlinewidth": 0,
              "ticks": ""
             }
            },
            "type": "scatter"
           }
          ],
          "scatter3d": [
           {
            "line": {
             "colorbar": {
              "outlinewidth": 0,
              "ticks": ""
             }
            },
            "marker": {
             "colorbar": {
              "outlinewidth": 0,
              "ticks": ""
             }
            },
            "type": "scatter3d"
           }
          ],
          "scattercarpet": [
           {
            "marker": {
             "colorbar": {
              "outlinewidth": 0,
              "ticks": ""
             }
            },
            "type": "scattercarpet"
           }
          ],
          "scattergeo": [
           {
            "marker": {
             "colorbar": {
              "outlinewidth": 0,
              "ticks": ""
             }
            },
            "type": "scattergeo"
           }
          ],
          "scattergl": [
           {
            "marker": {
             "colorbar": {
              "outlinewidth": 0,
              "ticks": ""
             }
            },
            "type": "scattergl"
           }
          ],
          "scattermapbox": [
           {
            "marker": {
             "colorbar": {
              "outlinewidth": 0,
              "ticks": ""
             }
            },
            "type": "scattermapbox"
           }
          ],
          "scatterpolar": [
           {
            "marker": {
             "colorbar": {
              "outlinewidth": 0,
              "ticks": ""
             }
            },
            "type": "scatterpolar"
           }
          ],
          "scatterpolargl": [
           {
            "marker": {
             "colorbar": {
              "outlinewidth": 0,
              "ticks": ""
             }
            },
            "type": "scatterpolargl"
           }
          ],
          "scatterternary": [
           {
            "marker": {
             "colorbar": {
              "outlinewidth": 0,
              "ticks": ""
             }
            },
            "type": "scatterternary"
           }
          ],
          "surface": [
           {
            "colorbar": {
             "outlinewidth": 0,
             "ticks": ""
            },
            "colorscale": [
             [
              0,
              "#0d0887"
             ],
             [
              0.1111111111111111,
              "#46039f"
             ],
             [
              0.2222222222222222,
              "#7201a8"
             ],
             [
              0.3333333333333333,
              "#9c179e"
             ],
             [
              0.4444444444444444,
              "#bd3786"
             ],
             [
              0.5555555555555556,
              "#d8576b"
             ],
             [
              0.6666666666666666,
              "#ed7953"
             ],
             [
              0.7777777777777778,
              "#fb9f3a"
             ],
             [
              0.8888888888888888,
              "#fdca26"
             ],
             [
              1,
              "#f0f921"
             ]
            ],
            "type": "surface"
           }
          ],
          "table": [
           {
            "cells": {
             "fill": {
              "color": "#EBF0F8"
             },
             "line": {
              "color": "white"
             }
            },
            "header": {
             "fill": {
              "color": "#C8D4E3"
             },
             "line": {
              "color": "white"
             }
            },
            "type": "table"
           }
          ]
         },
         "layout": {
          "annotationdefaults": {
           "arrowcolor": "#2a3f5f",
           "arrowhead": 0,
           "arrowwidth": 1
          },
          "coloraxis": {
           "colorbar": {
            "outlinewidth": 0,
            "ticks": ""
           }
          },
          "colorscale": {
           "diverging": [
            [
             0,
             "#8e0152"
            ],
            [
             0.1,
             "#c51b7d"
            ],
            [
             0.2,
             "#de77ae"
            ],
            [
             0.3,
             "#f1b6da"
            ],
            [
             0.4,
             "#fde0ef"
            ],
            [
             0.5,
             "#f7f7f7"
            ],
            [
             0.6,
             "#e6f5d0"
            ],
            [
             0.7,
             "#b8e186"
            ],
            [
             0.8,
             "#7fbc41"
            ],
            [
             0.9,
             "#4d9221"
            ],
            [
             1,
             "#276419"
            ]
           ],
           "sequential": [
            [
             0,
             "#0d0887"
            ],
            [
             0.1111111111111111,
             "#46039f"
            ],
            [
             0.2222222222222222,
             "#7201a8"
            ],
            [
             0.3333333333333333,
             "#9c179e"
            ],
            [
             0.4444444444444444,
             "#bd3786"
            ],
            [
             0.5555555555555556,
             "#d8576b"
            ],
            [
             0.6666666666666666,
             "#ed7953"
            ],
            [
             0.7777777777777778,
             "#fb9f3a"
            ],
            [
             0.8888888888888888,
             "#fdca26"
            ],
            [
             1,
             "#f0f921"
            ]
           ],
           "sequentialminus": [
            [
             0,
             "#0d0887"
            ],
            [
             0.1111111111111111,
             "#46039f"
            ],
            [
             0.2222222222222222,
             "#7201a8"
            ],
            [
             0.3333333333333333,
             "#9c179e"
            ],
            [
             0.4444444444444444,
             "#bd3786"
            ],
            [
             0.5555555555555556,
             "#d8576b"
            ],
            [
             0.6666666666666666,
             "#ed7953"
            ],
            [
             0.7777777777777778,
             "#fb9f3a"
            ],
            [
             0.8888888888888888,
             "#fdca26"
            ],
            [
             1,
             "#f0f921"
            ]
           ]
          },
          "colorway": [
           "#636efa",
           "#EF553B",
           "#00cc96",
           "#ab63fa",
           "#FFA15A",
           "#19d3f3",
           "#FF6692",
           "#B6E880",
           "#FF97FF",
           "#FECB52"
          ],
          "font": {
           "color": "#2a3f5f"
          },
          "geo": {
           "bgcolor": "white",
           "lakecolor": "white",
           "landcolor": "#E5ECF6",
           "showlakes": true,
           "showland": true,
           "subunitcolor": "white"
          },
          "hoverlabel": {
           "align": "left"
          },
          "hovermode": "closest",
          "mapbox": {
           "style": "light"
          },
          "paper_bgcolor": "white",
          "plot_bgcolor": "#E5ECF6",
          "polar": {
           "angularaxis": {
            "gridcolor": "white",
            "linecolor": "white",
            "ticks": ""
           },
           "bgcolor": "#E5ECF6",
           "radialaxis": {
            "gridcolor": "white",
            "linecolor": "white",
            "ticks": ""
           }
          },
          "scene": {
           "xaxis": {
            "backgroundcolor": "#E5ECF6",
            "gridcolor": "white",
            "gridwidth": 2,
            "linecolor": "white",
            "showbackground": true,
            "ticks": "",
            "zerolinecolor": "white"
           },
           "yaxis": {
            "backgroundcolor": "#E5ECF6",
            "gridcolor": "white",
            "gridwidth": 2,
            "linecolor": "white",
            "showbackground": true,
            "ticks": "",
            "zerolinecolor": "white"
           },
           "zaxis": {
            "backgroundcolor": "#E5ECF6",
            "gridcolor": "white",
            "gridwidth": 2,
            "linecolor": "white",
            "showbackground": true,
            "ticks": "",
            "zerolinecolor": "white"
           }
          },
          "shapedefaults": {
           "line": {
            "color": "#2a3f5f"
           }
          },
          "ternary": {
           "aaxis": {
            "gridcolor": "white",
            "linecolor": "white",
            "ticks": ""
           },
           "baxis": {
            "gridcolor": "white",
            "linecolor": "white",
            "ticks": ""
           },
           "bgcolor": "#E5ECF6",
           "caxis": {
            "gridcolor": "white",
            "linecolor": "white",
            "ticks": ""
           }
          },
          "title": {
           "x": 0.05
          },
          "xaxis": {
           "automargin": true,
           "gridcolor": "white",
           "linecolor": "white",
           "ticks": "",
           "title": {
            "standoff": 15
           },
           "zerolinecolor": "white",
           "zerolinewidth": 2
          },
          "yaxis": {
           "automargin": true,
           "gridcolor": "white",
           "linecolor": "white",
           "ticks": "",
           "title": {
            "standoff": 15
           },
           "zerolinecolor": "white",
           "zerolinewidth": 2
          }
         }
        }
       }
      }
     },
     "metadata": {}
    }
   ],
   "source": [
    "#create dictionary for angle and radius values \n",
    "df = pd.DataFrame(dict(\n",
    "    r= radius_values,\n",
    "    theta= features))\n",
    "\n",
    "#create radar chart\n",
    "fig = px.line_polar(df, r='r', theta='theta', line_close=True)\n",
    "\n",
    "#fill in area\n",
    "fig.update_traces(fill='toself')\n",
    "\n",
    "#plot chart\n",
    "fig.show()"
   ]
  },
  {
   "cell_type": "markdown",
   "metadata": {},
   "source": [
    "#### Third set of variables (categorical)"
   ]
  },
  {
   "cell_type": "code",
   "execution_count": 210,
   "metadata": {},
   "outputs": [],
   "source": [
    "#Features that are being compared\n",
    "features = ['Completion Type', 'Formation', 'Fluid Type from DI', 'Date Fracd', 'Operator']\n",
    "#Radius values for each variable\n",
    "radius_values = []\n",
    "for i in features:\n",
    "        radius_values.append(pearson_correlation.at[i, '12 month Cum Prod'])"
   ]
  },
  {
   "cell_type": "code",
   "execution_count": 211,
   "metadata": {},
   "outputs": [
    {
     "output_type": "display_data",
     "data": {
      "application/vnd.plotly.v1+json": {
       "config": {
        "plotlyServerURL": "https://plot.ly"
       },
       "data": [
        {
         "fill": "toself",
         "hovertemplate": "r=%{r}<br>theta=%{theta}<extra></extra>",
         "legendgroup": "",
         "line": {
          "color": "#636efa",
          "dash": "solid"
         },
         "mode": "lines",
         "name": "",
         "r": [
          0.20055777617013157,
          -0.03014375626433391,
          0.13286373531771897,
          0.20885907717009225,
          0.10494877422403498,
          0.20055777617013157
         ],
         "showlegend": false,
         "subplot": "polar",
         "theta": [
          "Completion Type",
          "Formation",
          "Fluid Type from DI",
          "Date Fracd",
          "Operator",
          "Completion Type"
         ],
         "type": "scatterpolar"
        }
       ],
       "layout": {
        "legend": {
         "tracegroupgap": 0
        },
        "margin": {
         "t": 60
        },
        "polar": {
         "angularaxis": {
          "direction": "clockwise",
          "rotation": 90
         },
         "domain": {
          "x": [
           0,
           1
          ],
          "y": [
           0,
           1
          ]
         }
        },
        "template": {
         "data": {
          "bar": [
           {
            "error_x": {
             "color": "#2a3f5f"
            },
            "error_y": {
             "color": "#2a3f5f"
            },
            "marker": {
             "line": {
              "color": "#E5ECF6",
              "width": 0.5
             }
            },
            "type": "bar"
           }
          ],
          "barpolar": [
           {
            "marker": {
             "line": {
              "color": "#E5ECF6",
              "width": 0.5
             }
            },
            "type": "barpolar"
           }
          ],
          "carpet": [
           {
            "aaxis": {
             "endlinecolor": "#2a3f5f",
             "gridcolor": "white",
             "linecolor": "white",
             "minorgridcolor": "white",
             "startlinecolor": "#2a3f5f"
            },
            "baxis": {
             "endlinecolor": "#2a3f5f",
             "gridcolor": "white",
             "linecolor": "white",
             "minorgridcolor": "white",
             "startlinecolor": "#2a3f5f"
            },
            "type": "carpet"
           }
          ],
          "choropleth": [
           {
            "colorbar": {
             "outlinewidth": 0,
             "ticks": ""
            },
            "type": "choropleth"
           }
          ],
          "contour": [
           {
            "colorbar": {
             "outlinewidth": 0,
             "ticks": ""
            },
            "colorscale": [
             [
              0,
              "#0d0887"
             ],
             [
              0.1111111111111111,
              "#46039f"
             ],
             [
              0.2222222222222222,
              "#7201a8"
             ],
             [
              0.3333333333333333,
              "#9c179e"
             ],
             [
              0.4444444444444444,
              "#bd3786"
             ],
             [
              0.5555555555555556,
              "#d8576b"
             ],
             [
              0.6666666666666666,
              "#ed7953"
             ],
             [
              0.7777777777777778,
              "#fb9f3a"
             ],
             [
              0.8888888888888888,
              "#fdca26"
             ],
             [
              1,
              "#f0f921"
             ]
            ],
            "type": "contour"
           }
          ],
          "contourcarpet": [
           {
            "colorbar": {
             "outlinewidth": 0,
             "ticks": ""
            },
            "type": "contourcarpet"
           }
          ],
          "heatmap": [
           {
            "colorbar": {
             "outlinewidth": 0,
             "ticks": ""
            },
            "colorscale": [
             [
              0,
              "#0d0887"
             ],
             [
              0.1111111111111111,
              "#46039f"
             ],
             [
              0.2222222222222222,
              "#7201a8"
             ],
             [
              0.3333333333333333,
              "#9c179e"
             ],
             [
              0.4444444444444444,
              "#bd3786"
             ],
             [
              0.5555555555555556,
              "#d8576b"
             ],
             [
              0.6666666666666666,
              "#ed7953"
             ],
             [
              0.7777777777777778,
              "#fb9f3a"
             ],
             [
              0.8888888888888888,
              "#fdca26"
             ],
             [
              1,
              "#f0f921"
             ]
            ],
            "type": "heatmap"
           }
          ],
          "heatmapgl": [
           {
            "colorbar": {
             "outlinewidth": 0,
             "ticks": ""
            },
            "colorscale": [
             [
              0,
              "#0d0887"
             ],
             [
              0.1111111111111111,
              "#46039f"
             ],
             [
              0.2222222222222222,
              "#7201a8"
             ],
             [
              0.3333333333333333,
              "#9c179e"
             ],
             [
              0.4444444444444444,
              "#bd3786"
             ],
             [
              0.5555555555555556,
              "#d8576b"
             ],
             [
              0.6666666666666666,
              "#ed7953"
             ],
             [
              0.7777777777777778,
              "#fb9f3a"
             ],
             [
              0.8888888888888888,
              "#fdca26"
             ],
             [
              1,
              "#f0f921"
             ]
            ],
            "type": "heatmapgl"
           }
          ],
          "histogram": [
           {
            "marker": {
             "colorbar": {
              "outlinewidth": 0,
              "ticks": ""
             }
            },
            "type": "histogram"
           }
          ],
          "histogram2d": [
           {
            "colorbar": {
             "outlinewidth": 0,
             "ticks": ""
            },
            "colorscale": [
             [
              0,
              "#0d0887"
             ],
             [
              0.1111111111111111,
              "#46039f"
             ],
             [
              0.2222222222222222,
              "#7201a8"
             ],
             [
              0.3333333333333333,
              "#9c179e"
             ],
             [
              0.4444444444444444,
              "#bd3786"
             ],
             [
              0.5555555555555556,
              "#d8576b"
             ],
             [
              0.6666666666666666,
              "#ed7953"
             ],
             [
              0.7777777777777778,
              "#fb9f3a"
             ],
             [
              0.8888888888888888,
              "#fdca26"
             ],
             [
              1,
              "#f0f921"
             ]
            ],
            "type": "histogram2d"
           }
          ],
          "histogram2dcontour": [
           {
            "colorbar": {
             "outlinewidth": 0,
             "ticks": ""
            },
            "colorscale": [
             [
              0,
              "#0d0887"
             ],
             [
              0.1111111111111111,
              "#46039f"
             ],
             [
              0.2222222222222222,
              "#7201a8"
             ],
             [
              0.3333333333333333,
              "#9c179e"
             ],
             [
              0.4444444444444444,
              "#bd3786"
             ],
             [
              0.5555555555555556,
              "#d8576b"
             ],
             [
              0.6666666666666666,
              "#ed7953"
             ],
             [
              0.7777777777777778,
              "#fb9f3a"
             ],
             [
              0.8888888888888888,
              "#fdca26"
             ],
             [
              1,
              "#f0f921"
             ]
            ],
            "type": "histogram2dcontour"
           }
          ],
          "mesh3d": [
           {
            "colorbar": {
             "outlinewidth": 0,
             "ticks": ""
            },
            "type": "mesh3d"
           }
          ],
          "parcoords": [
           {
            "line": {
             "colorbar": {
              "outlinewidth": 0,
              "ticks": ""
             }
            },
            "type": "parcoords"
           }
          ],
          "pie": [
           {
            "automargin": true,
            "type": "pie"
           }
          ],
          "scatter": [
           {
            "marker": {
             "colorbar": {
              "outlinewidth": 0,
              "ticks": ""
             }
            },
            "type": "scatter"
           }
          ],
          "scatter3d": [
           {
            "line": {
             "colorbar": {
              "outlinewidth": 0,
              "ticks": ""
             }
            },
            "marker": {
             "colorbar": {
              "outlinewidth": 0,
              "ticks": ""
             }
            },
            "type": "scatter3d"
           }
          ],
          "scattercarpet": [
           {
            "marker": {
             "colorbar": {
              "outlinewidth": 0,
              "ticks": ""
             }
            },
            "type": "scattercarpet"
           }
          ],
          "scattergeo": [
           {
            "marker": {
             "colorbar": {
              "outlinewidth": 0,
              "ticks": ""
             }
            },
            "type": "scattergeo"
           }
          ],
          "scattergl": [
           {
            "marker": {
             "colorbar": {
              "outlinewidth": 0,
              "ticks": ""
             }
            },
            "type": "scattergl"
           }
          ],
          "scattermapbox": [
           {
            "marker": {
             "colorbar": {
              "outlinewidth": 0,
              "ticks": ""
             }
            },
            "type": "scattermapbox"
           }
          ],
          "scatterpolar": [
           {
            "marker": {
             "colorbar": {
              "outlinewidth": 0,
              "ticks": ""
             }
            },
            "type": "scatterpolar"
           }
          ],
          "scatterpolargl": [
           {
            "marker": {
             "colorbar": {
              "outlinewidth": 0,
              "ticks": ""
             }
            },
            "type": "scatterpolargl"
           }
          ],
          "scatterternary": [
           {
            "marker": {
             "colorbar": {
              "outlinewidth": 0,
              "ticks": ""
             }
            },
            "type": "scatterternary"
           }
          ],
          "surface": [
           {
            "colorbar": {
             "outlinewidth": 0,
             "ticks": ""
            },
            "colorscale": [
             [
              0,
              "#0d0887"
             ],
             [
              0.1111111111111111,
              "#46039f"
             ],
             [
              0.2222222222222222,
              "#7201a8"
             ],
             [
              0.3333333333333333,
              "#9c179e"
             ],
             [
              0.4444444444444444,
              "#bd3786"
             ],
             [
              0.5555555555555556,
              "#d8576b"
             ],
             [
              0.6666666666666666,
              "#ed7953"
             ],
             [
              0.7777777777777778,
              "#fb9f3a"
             ],
             [
              0.8888888888888888,
              "#fdca26"
             ],
             [
              1,
              "#f0f921"
             ]
            ],
            "type": "surface"
           }
          ],
          "table": [
           {
            "cells": {
             "fill": {
              "color": "#EBF0F8"
             },
             "line": {
              "color": "white"
             }
            },
            "header": {
             "fill": {
              "color": "#C8D4E3"
             },
             "line": {
              "color": "white"
             }
            },
            "type": "table"
           }
          ]
         },
         "layout": {
          "annotationdefaults": {
           "arrowcolor": "#2a3f5f",
           "arrowhead": 0,
           "arrowwidth": 1
          },
          "coloraxis": {
           "colorbar": {
            "outlinewidth": 0,
            "ticks": ""
           }
          },
          "colorscale": {
           "diverging": [
            [
             0,
             "#8e0152"
            ],
            [
             0.1,
             "#c51b7d"
            ],
            [
             0.2,
             "#de77ae"
            ],
            [
             0.3,
             "#f1b6da"
            ],
            [
             0.4,
             "#fde0ef"
            ],
            [
             0.5,
             "#f7f7f7"
            ],
            [
             0.6,
             "#e6f5d0"
            ],
            [
             0.7,
             "#b8e186"
            ],
            [
             0.8,
             "#7fbc41"
            ],
            [
             0.9,
             "#4d9221"
            ],
            [
             1,
             "#276419"
            ]
           ],
           "sequential": [
            [
             0,
             "#0d0887"
            ],
            [
             0.1111111111111111,
             "#46039f"
            ],
            [
             0.2222222222222222,
             "#7201a8"
            ],
            [
             0.3333333333333333,
             "#9c179e"
            ],
            [
             0.4444444444444444,
             "#bd3786"
            ],
            [
             0.5555555555555556,
             "#d8576b"
            ],
            [
             0.6666666666666666,
             "#ed7953"
            ],
            [
             0.7777777777777778,
             "#fb9f3a"
            ],
            [
             0.8888888888888888,
             "#fdca26"
            ],
            [
             1,
             "#f0f921"
            ]
           ],
           "sequentialminus": [
            [
             0,
             "#0d0887"
            ],
            [
             0.1111111111111111,
             "#46039f"
            ],
            [
             0.2222222222222222,
             "#7201a8"
            ],
            [
             0.3333333333333333,
             "#9c179e"
            ],
            [
             0.4444444444444444,
             "#bd3786"
            ],
            [
             0.5555555555555556,
             "#d8576b"
            ],
            [
             0.6666666666666666,
             "#ed7953"
            ],
            [
             0.7777777777777778,
             "#fb9f3a"
            ],
            [
             0.8888888888888888,
             "#fdca26"
            ],
            [
             1,
             "#f0f921"
            ]
           ]
          },
          "colorway": [
           "#636efa",
           "#EF553B",
           "#00cc96",
           "#ab63fa",
           "#FFA15A",
           "#19d3f3",
           "#FF6692",
           "#B6E880",
           "#FF97FF",
           "#FECB52"
          ],
          "font": {
           "color": "#2a3f5f"
          },
          "geo": {
           "bgcolor": "white",
           "lakecolor": "white",
           "landcolor": "#E5ECF6",
           "showlakes": true,
           "showland": true,
           "subunitcolor": "white"
          },
          "hoverlabel": {
           "align": "left"
          },
          "hovermode": "closest",
          "mapbox": {
           "style": "light"
          },
          "paper_bgcolor": "white",
          "plot_bgcolor": "#E5ECF6",
          "polar": {
           "angularaxis": {
            "gridcolor": "white",
            "linecolor": "white",
            "ticks": ""
           },
           "bgcolor": "#E5ECF6",
           "radialaxis": {
            "gridcolor": "white",
            "linecolor": "white",
            "ticks": ""
           }
          },
          "scene": {
           "xaxis": {
            "backgroundcolor": "#E5ECF6",
            "gridcolor": "white",
            "gridwidth": 2,
            "linecolor": "white",
            "showbackground": true,
            "ticks": "",
            "zerolinecolor": "white"
           },
           "yaxis": {
            "backgroundcolor": "#E5ECF6",
            "gridcolor": "white",
            "gridwidth": 2,
            "linecolor": "white",
            "showbackground": true,
            "ticks": "",
            "zerolinecolor": "white"
           },
           "zaxis": {
            "backgroundcolor": "#E5ECF6",
            "gridcolor": "white",
            "gridwidth": 2,
            "linecolor": "white",
            "showbackground": true,
            "ticks": "",
            "zerolinecolor": "white"
           }
          },
          "shapedefaults": {
           "line": {
            "color": "#2a3f5f"
           }
          },
          "ternary": {
           "aaxis": {
            "gridcolor": "white",
            "linecolor": "white",
            "ticks": ""
           },
           "baxis": {
            "gridcolor": "white",
            "linecolor": "white",
            "ticks": ""
           },
           "bgcolor": "#E5ECF6",
           "caxis": {
            "gridcolor": "white",
            "linecolor": "white",
            "ticks": ""
           }
          },
          "title": {
           "x": 0.05
          },
          "xaxis": {
           "automargin": true,
           "gridcolor": "white",
           "linecolor": "white",
           "ticks": "",
           "title": {
            "standoff": 15
           },
           "zerolinecolor": "white",
           "zerolinewidth": 2
          },
          "yaxis": {
           "automargin": true,
           "gridcolor": "white",
           "linecolor": "white",
           "ticks": "",
           "title": {
            "standoff": 15
           },
           "zerolinecolor": "white",
           "zerolinewidth": 2
          }
         }
        }
       }
      }
     },
     "metadata": {}
    }
   ],
   "source": [
    "#create dictionary for angle and radius values \n",
    "df = pd.DataFrame(dict(\n",
    "    r= radius_values,\n",
    "    theta= features))\n",
    "\n",
    "#create radar chart\n",
    "fig = px.line_polar(df, r='r', theta='theta', line_close=True)\n",
    "\n",
    "#fill in area\n",
    "fig.update_traces(fill='toself')\n",
    "\n",
    "#plot chart\n",
    "fig.show()"
   ]
  },
  {
   "cell_type": "markdown",
   "metadata": {},
   "source": [
    "Pearson correlation shows that Completion Type, Total Proppant, and Fluid seem to have the highest correlation with cumulative production, not including the BOPD values for every third month. In addition Date Fracd and Completion Type are variables that seem to have a relatively strong relationship with oil production."
   ]
  },
  {
   "cell_type": "markdown",
   "metadata": {},
   "source": [
    "## Spearman's Rank Correlation"
   ]
  },
  {
   "cell_type": "code",
   "execution_count": 212,
   "metadata": {},
   "outputs": [
    {
     "output_type": "execute_result",
     "data": {
      "text/plain": "                    Unnamed: 0  Operator  Formation  Lateral Length    Stages  \\\nUnnamed: 0            1.000000  0.000309  -0.047491        0.077660  0.232800   \nOperator              0.000309  1.000000  -0.071951       -0.063621  0.072341   \nFormation            -0.047491 -0.071951   1.000000        0.115587  0.102739   \nLateral Length        0.077660 -0.063621   0.115587        1.000000  0.435665   \nStages                0.232800  0.072341   0.102739        0.435665  1.000000   \nTownship              0.381223 -0.085731   0.015774        0.018391  0.052379   \nRange                 0.006677 -0.077516   0.047869        0.181624  0.162301   \nSection              -0.049775  0.025940   0.011154       -0.030477  0.029076   \nTotal Prop, lbs       0.243052  0.076770   0.032733        0.326196  0.658696   \nFluid, bbls           0.198040  0.036760   0.084415        0.307917  0.630845   \nDate Fracd            0.330296  0.033285  -0.003178        0.047686  0.209435   \nBest1 Mo BOPD         0.127087  0.161456  -0.127719        0.141420  0.251405   \nBest3 Mo BOPD         0.129392  0.157150  -0.128209        0.142319  0.244439   \nBest6 Mo BOPD         0.138687  0.153156  -0.129524        0.138227  0.236417   \nBest9 Mo BOPD         0.153217  0.161536  -0.134574        0.137477  0.230398   \nBest12 Mo BOPD        0.161778  0.161917  -0.133593        0.138404  0.221871   \nLatitude              0.385105 -0.088375   0.014993        0.021630  0.050454   \nLongitude            -0.044463  0.096573  -0.055523       -0.185652 -0.171085   \nFluid Type from DI    0.094696  0.028305   0.095576        0.167566  0.367749   \nSPACING_CAPPED       -0.118379 -0.014911  -0.210709       -0.184828 -0.291524   \n12 month Cum Prod     0.145759  0.134709  -0.090278        0.177257  0.340166   \nCompletion Type       0.170334 -0.132978   0.044344        0.012219  0.243036   \nSleeves               0.203367 -0.000414   0.147674        0.405629  0.908350   \nP&P                   0.178904  0.143083   0.016279        0.424934  0.877969   \nFrac Ports           -0.575608       NaN  -0.447338        0.028158  0.301994   \nRepeater Ports        0.666886       NaN   0.725476        0.872082  0.229416   \nCT                    0.176944  0.286692  -0.279395        0.480787  1.000000   \nYear Drilled          0.184971  0.030644   0.186453        0.312223  0.648229   \n\n                    Township      Range   Section  Total Prop, lbs  \\\nUnnamed: 0           0.381223  0.006677 -0.049775         0.243052   \nOperator            -0.085731 -0.077516  0.025940         0.076770   \nFormation            0.015774  0.047869  0.011154         0.032733   \nLateral Length       0.018391  0.181624 -0.030477         0.326196   \nStages               0.052379  0.162301  0.029076         0.658696   \nTownship             1.000000 -0.018511  0.025329         0.010163   \nRange               -0.018511  1.000000 -0.020666         0.133176   \nSection              0.025329 -0.020666  1.000000         0.025029   \nTotal Prop, lbs      0.010163  0.133176  0.025029         1.000000   \nFluid, bbls         -0.021137  0.274213  0.021621         0.856374   \nDate Fracd          -0.012929 -0.052920 -0.001542         0.258797   \nBest1 Mo BOPD       -0.174974 -0.121818  0.018478         0.320731   \nBest3 Mo BOPD       -0.165998 -0.144633  0.016098         0.331295   \nBest6 Mo BOPD       -0.159837 -0.168528  0.014221         0.341549   \nBest9 Mo BOPD       -0.149234 -0.178319  0.008519         0.340211   \nBest12 Mo BOPD      -0.138549 -0.192458  0.005373         0.332345   \nLatitude             0.997491 -0.014452 -0.036515         0.008453   \nLongitude           -0.123387 -0.983496  0.017142        -0.136473   \nFluid Type from DI  -0.024097  0.103024  0.021683         0.335194   \nSPACING_CAPPED       0.036315 -0.020250 -0.017271        -0.279404   \n12 month Cum Prod   -0.165085 -0.157996  0.010521         0.440060   \nCompletion Type      0.071633  0.112155  0.010545         0.455751   \nSleeves              0.104709  0.138849  0.039962         0.529296   \nP&P                  0.022196  0.162309  0.009927         0.615773   \nFrac Ports          -0.688001  0.449071  0.319731         0.424671   \nRepeater Ports       0.666886  0.648886 -0.205196         0.564288   \nCT                  -0.172964  0.164849  0.008116        -0.151921   \nYear Drilled        -0.039493  0.167011  0.032135         0.611360   \n\n                    Fluid, bbls  ...  Fluid Type from DI  SPACING_CAPPED  \\\nUnnamed: 0             0.198040  ...            0.094696       -0.118379   \nOperator               0.036760  ...            0.028305       -0.014911   \nFormation              0.084415  ...            0.095576       -0.210709   \nLateral Length         0.307917  ...            0.167566       -0.184828   \nStages                 0.630845  ...            0.367749       -0.291524   \nTownship              -0.021137  ...           -0.024097        0.036315   \nRange                  0.274213  ...            0.103024       -0.020250   \nSection                0.021621  ...            0.021683       -0.017271   \nTotal Prop, lbs        0.856374  ...            0.335194       -0.279404   \nFluid, bbls            1.000000  ...            0.398308       -0.289765   \nDate Fracd             0.236182  ...            0.170001       -0.183181   \nBest1 Mo BOPD          0.282209  ...            0.088473       -0.220560   \nBest3 Mo BOPD          0.291956  ...            0.081353       -0.225671   \nBest6 Mo BOPD          0.303256  ...            0.076129       -0.221699   \nBest9 Mo BOPD          0.300534  ...            0.062461       -0.215109   \nBest12 Mo BOPD         0.289592  ...            0.048601       -0.214636   \nLatitude              -0.022095  ...           -0.025627        0.037892   \nLongitude             -0.272063  ...           -0.102437        0.029471   \nFluid Type from DI     0.398308  ...            1.000000       -0.216476   \nSPACING_CAPPED        -0.289765  ...           -0.216476        1.000000   \n12 month Cum Prod      0.401960  ...            0.162423       -0.246285   \nCompletion Type        0.510008  ...            0.186500       -0.129767   \nSleeves                0.507377  ...            0.274961       -0.344646   \nP&P                    0.629173  ...            0.341203       -0.185259   \nFrac Ports             0.680200  ...            0.266323             NaN   \nRepeater Ports        -0.205196  ...                 NaN             NaN   \nCT                    -0.066131  ...            0.304342       -0.207431   \nYear Drilled           0.649717  ...            0.551051       -0.415602   \n\n                    12 month Cum Prod  Completion Type   Sleeves       P&P  \\\nUnnamed: 0                   0.145759         0.170334  0.203367  0.178904   \nOperator                     0.134709        -0.132978 -0.000414  0.143083   \nFormation                   -0.090278         0.044344  0.147674  0.016279   \nLateral Length               0.177257         0.012219  0.405629  0.424934   \nStages                       0.340166         0.243036  0.908350  0.877969   \nTownship                    -0.165085         0.071633  0.104709  0.022196   \nRange                       -0.157996         0.112155  0.138849  0.162309   \nSection                      0.010521         0.010545  0.039962  0.009927   \nTotal Prop, lbs              0.440060         0.455751  0.529296  0.615773   \nFluid, bbls                  0.401960         0.510008  0.507377  0.629173   \nDate Fracd                   0.245793         0.245711  0.072739  0.097565   \nBest1 Mo BOPD                0.891192         0.158219  0.184210  0.188430   \nBest3 Mo BOPD                0.937187         0.170620  0.160880  0.202089   \nBest6 Mo BOPD                0.968343         0.187121  0.126247  0.220704   \nBest9 Mo BOPD                0.977030         0.189749  0.110784  0.222074   \nBest12 Mo BOPD               0.977382         0.187279  0.099502  0.214714   \nLatitude                    -0.166509         0.071230  0.101020  0.023362   \nLongitude                    0.175363        -0.126699 -0.168883 -0.156650   \nFluid Type from DI           0.162423         0.186500  0.274961  0.341203   \nSPACING_CAPPED              -0.246285        -0.129767 -0.344646 -0.185259   \n12 month Cum Prod            1.000000         0.229161  0.192228  0.328136   \nCompletion Type              0.229161         1.000000 -0.268370 -0.334076   \nSleeves                      0.192228        -0.268370  1.000000 -0.230834   \nP&P                          0.328136        -0.334076 -0.230834  1.000000   \nFrac Ports                   0.211056        -0.801010       NaN -0.899647   \nRepeater Ports              -0.974679        -0.888523       NaN       NaN   \nCT                           0.471850        -0.433400       NaN       NaN   \nYear Drilled                 0.311370         0.292064  0.625336  0.496610   \n\n                    Frac Ports  Repeater Ports        CT  Year Drilled  \nUnnamed: 0           -0.575608        0.666886  0.176944      0.184971  \nOperator                   NaN             NaN  0.286692      0.030644  \nFormation            -0.447338        0.725476 -0.279395      0.186453  \nLateral Length        0.028158        0.872082  0.480787      0.312223  \nStages                0.301994        0.229416  1.000000      0.648229  \nTownship             -0.688001        0.666886 -0.172964     -0.039493  \nRange                 0.449071        0.648886  0.164849      0.167011  \nSection               0.319731       -0.205196  0.008116      0.032135  \nTotal Prop, lbs       0.424671        0.564288 -0.151921      0.611360  \nFluid, bbls           0.680200       -0.205196 -0.066131      0.649717  \nDate Fracd            0.002558        0.666886  0.362824      0.318451  \nBest1 Mo BOPD         0.204660       -0.820783  0.495085      0.206711  \nBest3 Mo BOPD         0.214894       -0.666886  0.443253      0.206136  \nBest6 Mo BOPD         0.214894       -0.820783  0.561056      0.201120  \nBest9 Mo BOPD         0.193148       -0.974679  0.619252      0.180979  \nBest12 Mo BOPD        0.196986       -0.974679  0.702731      0.156146  \nLatitude             -0.704800        0.666886 -0.191242     -0.041872  \nLongitude            -0.477115       -0.564288 -0.166220     -0.167969  \nFluid Type from DI    0.266323             NaN  0.304342      0.551051  \nSPACING_CAPPED             NaN             NaN -0.207431     -0.415602  \n12 month Cum Prod     0.211056       -0.974679  0.471850      0.311370  \nCompletion Type      -0.801010       -0.888523 -0.433400      0.292064  \nSleeves                    NaN             NaN       NaN      0.625336  \nP&P                  -0.899647             NaN       NaN      0.496610  \nFrac Ports            1.000000       -0.866025       NaN      0.498482  \nRepeater Ports       -0.866025        1.000000       NaN     -0.362738  \nCT                         NaN             NaN  1.000000      0.322540  \nYear Drilled          0.498482       -0.362738  0.322540      1.000000  \n\n[28 rows x 28 columns]",
      "text/html": "<div>\n<style scoped>\n    .dataframe tbody tr th:only-of-type {\n        vertical-align: middle;\n    }\n\n    .dataframe tbody tr th {\n        vertical-align: top;\n    }\n\n    .dataframe thead th {\n        text-align: right;\n    }\n</style>\n<table border=\"1\" class=\"dataframe\">\n  <thead>\n    <tr style=\"text-align: right;\">\n      <th></th>\n      <th>Unnamed: 0</th>\n      <th>Operator</th>\n      <th>Formation</th>\n      <th>Lateral Length</th>\n      <th>Stages</th>\n      <th>Township</th>\n      <th>Range</th>\n      <th>Section</th>\n      <th>Total Prop, lbs</th>\n      <th>Fluid, bbls</th>\n      <th>...</th>\n      <th>Fluid Type from DI</th>\n      <th>SPACING_CAPPED</th>\n      <th>12 month Cum Prod</th>\n      <th>Completion Type</th>\n      <th>Sleeves</th>\n      <th>P&amp;P</th>\n      <th>Frac Ports</th>\n      <th>Repeater Ports</th>\n      <th>CT</th>\n      <th>Year Drilled</th>\n    </tr>\n  </thead>\n  <tbody>\n    <tr>\n      <td>Unnamed: 0</td>\n      <td>1.000000</td>\n      <td>0.000309</td>\n      <td>-0.047491</td>\n      <td>0.077660</td>\n      <td>0.232800</td>\n      <td>0.381223</td>\n      <td>0.006677</td>\n      <td>-0.049775</td>\n      <td>0.243052</td>\n      <td>0.198040</td>\n      <td>...</td>\n      <td>0.094696</td>\n      <td>-0.118379</td>\n      <td>0.145759</td>\n      <td>0.170334</td>\n      <td>0.203367</td>\n      <td>0.178904</td>\n      <td>-0.575608</td>\n      <td>0.666886</td>\n      <td>0.176944</td>\n      <td>0.184971</td>\n    </tr>\n    <tr>\n      <td>Operator</td>\n      <td>0.000309</td>\n      <td>1.000000</td>\n      <td>-0.071951</td>\n      <td>-0.063621</td>\n      <td>0.072341</td>\n      <td>-0.085731</td>\n      <td>-0.077516</td>\n      <td>0.025940</td>\n      <td>0.076770</td>\n      <td>0.036760</td>\n      <td>...</td>\n      <td>0.028305</td>\n      <td>-0.014911</td>\n      <td>0.134709</td>\n      <td>-0.132978</td>\n      <td>-0.000414</td>\n      <td>0.143083</td>\n      <td>NaN</td>\n      <td>NaN</td>\n      <td>0.286692</td>\n      <td>0.030644</td>\n    </tr>\n    <tr>\n      <td>Formation</td>\n      <td>-0.047491</td>\n      <td>-0.071951</td>\n      <td>1.000000</td>\n      <td>0.115587</td>\n      <td>0.102739</td>\n      <td>0.015774</td>\n      <td>0.047869</td>\n      <td>0.011154</td>\n      <td>0.032733</td>\n      <td>0.084415</td>\n      <td>...</td>\n      <td>0.095576</td>\n      <td>-0.210709</td>\n      <td>-0.090278</td>\n      <td>0.044344</td>\n      <td>0.147674</td>\n      <td>0.016279</td>\n      <td>-0.447338</td>\n      <td>0.725476</td>\n      <td>-0.279395</td>\n      <td>0.186453</td>\n    </tr>\n    <tr>\n      <td>Lateral Length</td>\n      <td>0.077660</td>\n      <td>-0.063621</td>\n      <td>0.115587</td>\n      <td>1.000000</td>\n      <td>0.435665</td>\n      <td>0.018391</td>\n      <td>0.181624</td>\n      <td>-0.030477</td>\n      <td>0.326196</td>\n      <td>0.307917</td>\n      <td>...</td>\n      <td>0.167566</td>\n      <td>-0.184828</td>\n      <td>0.177257</td>\n      <td>0.012219</td>\n      <td>0.405629</td>\n      <td>0.424934</td>\n      <td>0.028158</td>\n      <td>0.872082</td>\n      <td>0.480787</td>\n      <td>0.312223</td>\n    </tr>\n    <tr>\n      <td>Stages</td>\n      <td>0.232800</td>\n      <td>0.072341</td>\n      <td>0.102739</td>\n      <td>0.435665</td>\n      <td>1.000000</td>\n      <td>0.052379</td>\n      <td>0.162301</td>\n      <td>0.029076</td>\n      <td>0.658696</td>\n      <td>0.630845</td>\n      <td>...</td>\n      <td>0.367749</td>\n      <td>-0.291524</td>\n      <td>0.340166</td>\n      <td>0.243036</td>\n      <td>0.908350</td>\n      <td>0.877969</td>\n      <td>0.301994</td>\n      <td>0.229416</td>\n      <td>1.000000</td>\n      <td>0.648229</td>\n    </tr>\n    <tr>\n      <td>Township</td>\n      <td>0.381223</td>\n      <td>-0.085731</td>\n      <td>0.015774</td>\n      <td>0.018391</td>\n      <td>0.052379</td>\n      <td>1.000000</td>\n      <td>-0.018511</td>\n      <td>0.025329</td>\n      <td>0.010163</td>\n      <td>-0.021137</td>\n      <td>...</td>\n      <td>-0.024097</td>\n      <td>0.036315</td>\n      <td>-0.165085</td>\n      <td>0.071633</td>\n      <td>0.104709</td>\n      <td>0.022196</td>\n      <td>-0.688001</td>\n      <td>0.666886</td>\n      <td>-0.172964</td>\n      <td>-0.039493</td>\n    </tr>\n    <tr>\n      <td>Range</td>\n      <td>0.006677</td>\n      <td>-0.077516</td>\n      <td>0.047869</td>\n      <td>0.181624</td>\n      <td>0.162301</td>\n      <td>-0.018511</td>\n      <td>1.000000</td>\n      <td>-0.020666</td>\n      <td>0.133176</td>\n      <td>0.274213</td>\n      <td>...</td>\n      <td>0.103024</td>\n      <td>-0.020250</td>\n      <td>-0.157996</td>\n      <td>0.112155</td>\n      <td>0.138849</td>\n      <td>0.162309</td>\n      <td>0.449071</td>\n      <td>0.648886</td>\n      <td>0.164849</td>\n      <td>0.167011</td>\n    </tr>\n    <tr>\n      <td>Section</td>\n      <td>-0.049775</td>\n      <td>0.025940</td>\n      <td>0.011154</td>\n      <td>-0.030477</td>\n      <td>0.029076</td>\n      <td>0.025329</td>\n      <td>-0.020666</td>\n      <td>1.000000</td>\n      <td>0.025029</td>\n      <td>0.021621</td>\n      <td>...</td>\n      <td>0.021683</td>\n      <td>-0.017271</td>\n      <td>0.010521</td>\n      <td>0.010545</td>\n      <td>0.039962</td>\n      <td>0.009927</td>\n      <td>0.319731</td>\n      <td>-0.205196</td>\n      <td>0.008116</td>\n      <td>0.032135</td>\n    </tr>\n    <tr>\n      <td>Total Prop, lbs</td>\n      <td>0.243052</td>\n      <td>0.076770</td>\n      <td>0.032733</td>\n      <td>0.326196</td>\n      <td>0.658696</td>\n      <td>0.010163</td>\n      <td>0.133176</td>\n      <td>0.025029</td>\n      <td>1.000000</td>\n      <td>0.856374</td>\n      <td>...</td>\n      <td>0.335194</td>\n      <td>-0.279404</td>\n      <td>0.440060</td>\n      <td>0.455751</td>\n      <td>0.529296</td>\n      <td>0.615773</td>\n      <td>0.424671</td>\n      <td>0.564288</td>\n      <td>-0.151921</td>\n      <td>0.611360</td>\n    </tr>\n    <tr>\n      <td>Fluid, bbls</td>\n      <td>0.198040</td>\n      <td>0.036760</td>\n      <td>0.084415</td>\n      <td>0.307917</td>\n      <td>0.630845</td>\n      <td>-0.021137</td>\n      <td>0.274213</td>\n      <td>0.021621</td>\n      <td>0.856374</td>\n      <td>1.000000</td>\n      <td>...</td>\n      <td>0.398308</td>\n      <td>-0.289765</td>\n      <td>0.401960</td>\n      <td>0.510008</td>\n      <td>0.507377</td>\n      <td>0.629173</td>\n      <td>0.680200</td>\n      <td>-0.205196</td>\n      <td>-0.066131</td>\n      <td>0.649717</td>\n    </tr>\n    <tr>\n      <td>Date Fracd</td>\n      <td>0.330296</td>\n      <td>0.033285</td>\n      <td>-0.003178</td>\n      <td>0.047686</td>\n      <td>0.209435</td>\n      <td>-0.012929</td>\n      <td>-0.052920</td>\n      <td>-0.001542</td>\n      <td>0.258797</td>\n      <td>0.236182</td>\n      <td>...</td>\n      <td>0.170001</td>\n      <td>-0.183181</td>\n      <td>0.245793</td>\n      <td>0.245711</td>\n      <td>0.072739</td>\n      <td>0.097565</td>\n      <td>0.002558</td>\n      <td>0.666886</td>\n      <td>0.362824</td>\n      <td>0.318451</td>\n    </tr>\n    <tr>\n      <td>Best1 Mo BOPD</td>\n      <td>0.127087</td>\n      <td>0.161456</td>\n      <td>-0.127719</td>\n      <td>0.141420</td>\n      <td>0.251405</td>\n      <td>-0.174974</td>\n      <td>-0.121818</td>\n      <td>0.018478</td>\n      <td>0.320731</td>\n      <td>0.282209</td>\n      <td>...</td>\n      <td>0.088473</td>\n      <td>-0.220560</td>\n      <td>0.891192</td>\n      <td>0.158219</td>\n      <td>0.184210</td>\n      <td>0.188430</td>\n      <td>0.204660</td>\n      <td>-0.820783</td>\n      <td>0.495085</td>\n      <td>0.206711</td>\n    </tr>\n    <tr>\n      <td>Best3 Mo BOPD</td>\n      <td>0.129392</td>\n      <td>0.157150</td>\n      <td>-0.128209</td>\n      <td>0.142319</td>\n      <td>0.244439</td>\n      <td>-0.165998</td>\n      <td>-0.144633</td>\n      <td>0.016098</td>\n      <td>0.331295</td>\n      <td>0.291956</td>\n      <td>...</td>\n      <td>0.081353</td>\n      <td>-0.225671</td>\n      <td>0.937187</td>\n      <td>0.170620</td>\n      <td>0.160880</td>\n      <td>0.202089</td>\n      <td>0.214894</td>\n      <td>-0.666886</td>\n      <td>0.443253</td>\n      <td>0.206136</td>\n    </tr>\n    <tr>\n      <td>Best6 Mo BOPD</td>\n      <td>0.138687</td>\n      <td>0.153156</td>\n      <td>-0.129524</td>\n      <td>0.138227</td>\n      <td>0.236417</td>\n      <td>-0.159837</td>\n      <td>-0.168528</td>\n      <td>0.014221</td>\n      <td>0.341549</td>\n      <td>0.303256</td>\n      <td>...</td>\n      <td>0.076129</td>\n      <td>-0.221699</td>\n      <td>0.968343</td>\n      <td>0.187121</td>\n      <td>0.126247</td>\n      <td>0.220704</td>\n      <td>0.214894</td>\n      <td>-0.820783</td>\n      <td>0.561056</td>\n      <td>0.201120</td>\n    </tr>\n    <tr>\n      <td>Best9 Mo BOPD</td>\n      <td>0.153217</td>\n      <td>0.161536</td>\n      <td>-0.134574</td>\n      <td>0.137477</td>\n      <td>0.230398</td>\n      <td>-0.149234</td>\n      <td>-0.178319</td>\n      <td>0.008519</td>\n      <td>0.340211</td>\n      <td>0.300534</td>\n      <td>...</td>\n      <td>0.062461</td>\n      <td>-0.215109</td>\n      <td>0.977030</td>\n      <td>0.189749</td>\n      <td>0.110784</td>\n      <td>0.222074</td>\n      <td>0.193148</td>\n      <td>-0.974679</td>\n      <td>0.619252</td>\n      <td>0.180979</td>\n    </tr>\n    <tr>\n      <td>Best12 Mo BOPD</td>\n      <td>0.161778</td>\n      <td>0.161917</td>\n      <td>-0.133593</td>\n      <td>0.138404</td>\n      <td>0.221871</td>\n      <td>-0.138549</td>\n      <td>-0.192458</td>\n      <td>0.005373</td>\n      <td>0.332345</td>\n      <td>0.289592</td>\n      <td>...</td>\n      <td>0.048601</td>\n      <td>-0.214636</td>\n      <td>0.977382</td>\n      <td>0.187279</td>\n      <td>0.099502</td>\n      <td>0.214714</td>\n      <td>0.196986</td>\n      <td>-0.974679</td>\n      <td>0.702731</td>\n      <td>0.156146</td>\n    </tr>\n    <tr>\n      <td>Latitude</td>\n      <td>0.385105</td>\n      <td>-0.088375</td>\n      <td>0.014993</td>\n      <td>0.021630</td>\n      <td>0.050454</td>\n      <td>0.997491</td>\n      <td>-0.014452</td>\n      <td>-0.036515</td>\n      <td>0.008453</td>\n      <td>-0.022095</td>\n      <td>...</td>\n      <td>-0.025627</td>\n      <td>0.037892</td>\n      <td>-0.166509</td>\n      <td>0.071230</td>\n      <td>0.101020</td>\n      <td>0.023362</td>\n      <td>-0.704800</td>\n      <td>0.666886</td>\n      <td>-0.191242</td>\n      <td>-0.041872</td>\n    </tr>\n    <tr>\n      <td>Longitude</td>\n      <td>-0.044463</td>\n      <td>0.096573</td>\n      <td>-0.055523</td>\n      <td>-0.185652</td>\n      <td>-0.171085</td>\n      <td>-0.123387</td>\n      <td>-0.983496</td>\n      <td>0.017142</td>\n      <td>-0.136473</td>\n      <td>-0.272063</td>\n      <td>...</td>\n      <td>-0.102437</td>\n      <td>0.029471</td>\n      <td>0.175363</td>\n      <td>-0.126699</td>\n      <td>-0.168883</td>\n      <td>-0.156650</td>\n      <td>-0.477115</td>\n      <td>-0.564288</td>\n      <td>-0.166220</td>\n      <td>-0.167969</td>\n    </tr>\n    <tr>\n      <td>Fluid Type from DI</td>\n      <td>0.094696</td>\n      <td>0.028305</td>\n      <td>0.095576</td>\n      <td>0.167566</td>\n      <td>0.367749</td>\n      <td>-0.024097</td>\n      <td>0.103024</td>\n      <td>0.021683</td>\n      <td>0.335194</td>\n      <td>0.398308</td>\n      <td>...</td>\n      <td>1.000000</td>\n      <td>-0.216476</td>\n      <td>0.162423</td>\n      <td>0.186500</td>\n      <td>0.274961</td>\n      <td>0.341203</td>\n      <td>0.266323</td>\n      <td>NaN</td>\n      <td>0.304342</td>\n      <td>0.551051</td>\n    </tr>\n    <tr>\n      <td>SPACING_CAPPED</td>\n      <td>-0.118379</td>\n      <td>-0.014911</td>\n      <td>-0.210709</td>\n      <td>-0.184828</td>\n      <td>-0.291524</td>\n      <td>0.036315</td>\n      <td>-0.020250</td>\n      <td>-0.017271</td>\n      <td>-0.279404</td>\n      <td>-0.289765</td>\n      <td>...</td>\n      <td>-0.216476</td>\n      <td>1.000000</td>\n      <td>-0.246285</td>\n      <td>-0.129767</td>\n      <td>-0.344646</td>\n      <td>-0.185259</td>\n      <td>NaN</td>\n      <td>NaN</td>\n      <td>-0.207431</td>\n      <td>-0.415602</td>\n    </tr>\n    <tr>\n      <td>12 month Cum Prod</td>\n      <td>0.145759</td>\n      <td>0.134709</td>\n      <td>-0.090278</td>\n      <td>0.177257</td>\n      <td>0.340166</td>\n      <td>-0.165085</td>\n      <td>-0.157996</td>\n      <td>0.010521</td>\n      <td>0.440060</td>\n      <td>0.401960</td>\n      <td>...</td>\n      <td>0.162423</td>\n      <td>-0.246285</td>\n      <td>1.000000</td>\n      <td>0.229161</td>\n      <td>0.192228</td>\n      <td>0.328136</td>\n      <td>0.211056</td>\n      <td>-0.974679</td>\n      <td>0.471850</td>\n      <td>0.311370</td>\n    </tr>\n    <tr>\n      <td>Completion Type</td>\n      <td>0.170334</td>\n      <td>-0.132978</td>\n      <td>0.044344</td>\n      <td>0.012219</td>\n      <td>0.243036</td>\n      <td>0.071633</td>\n      <td>0.112155</td>\n      <td>0.010545</td>\n      <td>0.455751</td>\n      <td>0.510008</td>\n      <td>...</td>\n      <td>0.186500</td>\n      <td>-0.129767</td>\n      <td>0.229161</td>\n      <td>1.000000</td>\n      <td>-0.268370</td>\n      <td>-0.334076</td>\n      <td>-0.801010</td>\n      <td>-0.888523</td>\n      <td>-0.433400</td>\n      <td>0.292064</td>\n    </tr>\n    <tr>\n      <td>Sleeves</td>\n      <td>0.203367</td>\n      <td>-0.000414</td>\n      <td>0.147674</td>\n      <td>0.405629</td>\n      <td>0.908350</td>\n      <td>0.104709</td>\n      <td>0.138849</td>\n      <td>0.039962</td>\n      <td>0.529296</td>\n      <td>0.507377</td>\n      <td>...</td>\n      <td>0.274961</td>\n      <td>-0.344646</td>\n      <td>0.192228</td>\n      <td>-0.268370</td>\n      <td>1.000000</td>\n      <td>-0.230834</td>\n      <td>NaN</td>\n      <td>NaN</td>\n      <td>NaN</td>\n      <td>0.625336</td>\n    </tr>\n    <tr>\n      <td>P&amp;P</td>\n      <td>0.178904</td>\n      <td>0.143083</td>\n      <td>0.016279</td>\n      <td>0.424934</td>\n      <td>0.877969</td>\n      <td>0.022196</td>\n      <td>0.162309</td>\n      <td>0.009927</td>\n      <td>0.615773</td>\n      <td>0.629173</td>\n      <td>...</td>\n      <td>0.341203</td>\n      <td>-0.185259</td>\n      <td>0.328136</td>\n      <td>-0.334076</td>\n      <td>-0.230834</td>\n      <td>1.000000</td>\n      <td>-0.899647</td>\n      <td>NaN</td>\n      <td>NaN</td>\n      <td>0.496610</td>\n    </tr>\n    <tr>\n      <td>Frac Ports</td>\n      <td>-0.575608</td>\n      <td>NaN</td>\n      <td>-0.447338</td>\n      <td>0.028158</td>\n      <td>0.301994</td>\n      <td>-0.688001</td>\n      <td>0.449071</td>\n      <td>0.319731</td>\n      <td>0.424671</td>\n      <td>0.680200</td>\n      <td>...</td>\n      <td>0.266323</td>\n      <td>NaN</td>\n      <td>0.211056</td>\n      <td>-0.801010</td>\n      <td>NaN</td>\n      <td>-0.899647</td>\n      <td>1.000000</td>\n      <td>-0.866025</td>\n      <td>NaN</td>\n      <td>0.498482</td>\n    </tr>\n    <tr>\n      <td>Repeater Ports</td>\n      <td>0.666886</td>\n      <td>NaN</td>\n      <td>0.725476</td>\n      <td>0.872082</td>\n      <td>0.229416</td>\n      <td>0.666886</td>\n      <td>0.648886</td>\n      <td>-0.205196</td>\n      <td>0.564288</td>\n      <td>-0.205196</td>\n      <td>...</td>\n      <td>NaN</td>\n      <td>NaN</td>\n      <td>-0.974679</td>\n      <td>-0.888523</td>\n      <td>NaN</td>\n      <td>NaN</td>\n      <td>-0.866025</td>\n      <td>1.000000</td>\n      <td>NaN</td>\n      <td>-0.362738</td>\n    </tr>\n    <tr>\n      <td>CT</td>\n      <td>0.176944</td>\n      <td>0.286692</td>\n      <td>-0.279395</td>\n      <td>0.480787</td>\n      <td>1.000000</td>\n      <td>-0.172964</td>\n      <td>0.164849</td>\n      <td>0.008116</td>\n      <td>-0.151921</td>\n      <td>-0.066131</td>\n      <td>...</td>\n      <td>0.304342</td>\n      <td>-0.207431</td>\n      <td>0.471850</td>\n      <td>-0.433400</td>\n      <td>NaN</td>\n      <td>NaN</td>\n      <td>NaN</td>\n      <td>NaN</td>\n      <td>1.000000</td>\n      <td>0.322540</td>\n    </tr>\n    <tr>\n      <td>Year Drilled</td>\n      <td>0.184971</td>\n      <td>0.030644</td>\n      <td>0.186453</td>\n      <td>0.312223</td>\n      <td>0.648229</td>\n      <td>-0.039493</td>\n      <td>0.167011</td>\n      <td>0.032135</td>\n      <td>0.611360</td>\n      <td>0.649717</td>\n      <td>...</td>\n      <td>0.551051</td>\n      <td>-0.415602</td>\n      <td>0.311370</td>\n      <td>0.292064</td>\n      <td>0.625336</td>\n      <td>0.496610</td>\n      <td>0.498482</td>\n      <td>-0.362738</td>\n      <td>0.322540</td>\n      <td>1.000000</td>\n    </tr>\n  </tbody>\n</table>\n<p>28 rows × 28 columns</p>\n</div>"
     },
     "metadata": {},
     "execution_count": 212
    }
   ],
   "source": [
    "#Spearman's Rank correlation coefficient for each feature\n",
    "spearman_correlation = DatabaseDF.corr(method = 'spearman')\n",
    "spearman_correlation"
   ]
  },
  {
   "cell_type": "code",
   "execution_count": 213,
   "metadata": {},
   "outputs": [
    {
     "output_type": "execute_result",
     "data": {
      "text/plain": "Unnamed: 0            0.145759\nOperator              0.134709\nFormation            -0.090278\nLateral Length        0.177257\nStages                0.340166\nTownship             -0.165085\nRange                -0.157996\nSection               0.010521\nTotal Prop, lbs       0.440060\nFluid, bbls           0.401960\nDate Fracd            0.245793\nBest1 Mo BOPD         0.891192\nBest3 Mo BOPD         0.937187\nBest6 Mo BOPD         0.968343\nBest9 Mo BOPD         0.977030\nBest12 Mo BOPD        0.977382\nLatitude             -0.166509\nLongitude             0.175363\nFluid Type from DI    0.162423\nSPACING_CAPPED       -0.246285\n12 month Cum Prod     1.000000\nCompletion Type       0.229161\nSleeves               0.192228\nP&P                   0.328136\nFrac Ports            0.211056\nRepeater Ports       -0.974679\nCT                    0.471850\nYear Drilled          0.311370\nName: 12 month Cum Prod, dtype: float64"
     },
     "metadata": {},
     "execution_count": 213
    }
   ],
   "source": [
    "#Printing the correlation to Cumulative Production specifically\n",
    "spearman_correlation['12 month Cum Prod']"
   ]
  },
  {
   "cell_type": "markdown",
   "metadata": {},
   "source": [
    "### First set of variables"
   ]
  },
  {
   "cell_type": "code",
   "execution_count": 168,
   "metadata": {},
   "outputs": [],
   "source": [
    "#Features that are being compared\n",
    "features = ['Lateral Length', 'Stages', 'Fluid, bbls', 'Total Prop, lbs', 'Longitude']\n",
    "#Radius values for each variable\n",
    "radius_values = []\n",
    "for i in features:\n",
    "        radius_values.append(spearman_correlation.at[i, '12 month Cum Prod'])"
   ]
  },
  {
   "cell_type": "code",
   "execution_count": 174,
   "metadata": {},
   "outputs": [
    {
     "output_type": "display_data",
     "data": {
      "application/vnd.plotly.v1+json": {
       "config": {
        "plotlyServerURL": "https://plot.ly"
       },
       "data": [
        {
         "fill": "toself",
         "hovertemplate": "r=%{r}<br>theta=%{theta}<extra></extra>",
         "legendgroup": "",
         "line": {
          "color": "#636efa",
          "dash": "solid"
         },
         "mode": "lines",
         "name": "",
         "r": [
          -0.11634942752723561,
          0.38277950117547643,
          0.007133860508961487,
          0.22867395028752216,
          -0.18090334207502617,
          -0.11634942752723561
         ],
         "showlegend": false,
         "subplot": "polar",
         "theta": [
          "Latitude",
          "CT",
          "Section",
          "Year Drilled",
          "SPACING_CAPPED",
          "Latitude"
         ],
         "type": "scatterpolar"
        }
       ],
       "layout": {
        "legend": {
         "tracegroupgap": 0
        },
        "margin": {
         "t": 60
        },
        "polar": {
         "angularaxis": {
          "direction": "clockwise",
          "rotation": 90
         },
         "domain": {
          "x": [
           0,
           1
          ],
          "y": [
           0,
           1
          ]
         }
        },
        "template": {
         "data": {
          "bar": [
           {
            "error_x": {
             "color": "#2a3f5f"
            },
            "error_y": {
             "color": "#2a3f5f"
            },
            "marker": {
             "line": {
              "color": "#E5ECF6",
              "width": 0.5
             }
            },
            "type": "bar"
           }
          ],
          "barpolar": [
           {
            "marker": {
             "line": {
              "color": "#E5ECF6",
              "width": 0.5
             }
            },
            "type": "barpolar"
           }
          ],
          "carpet": [
           {
            "aaxis": {
             "endlinecolor": "#2a3f5f",
             "gridcolor": "white",
             "linecolor": "white",
             "minorgridcolor": "white",
             "startlinecolor": "#2a3f5f"
            },
            "baxis": {
             "endlinecolor": "#2a3f5f",
             "gridcolor": "white",
             "linecolor": "white",
             "minorgridcolor": "white",
             "startlinecolor": "#2a3f5f"
            },
            "type": "carpet"
           }
          ],
          "choropleth": [
           {
            "colorbar": {
             "outlinewidth": 0,
             "ticks": ""
            },
            "type": "choropleth"
           }
          ],
          "contour": [
           {
            "colorbar": {
             "outlinewidth": 0,
             "ticks": ""
            },
            "colorscale": [
             [
              0,
              "#0d0887"
             ],
             [
              0.1111111111111111,
              "#46039f"
             ],
             [
              0.2222222222222222,
              "#7201a8"
             ],
             [
              0.3333333333333333,
              "#9c179e"
             ],
             [
              0.4444444444444444,
              "#bd3786"
             ],
             [
              0.5555555555555556,
              "#d8576b"
             ],
             [
              0.6666666666666666,
              "#ed7953"
             ],
             [
              0.7777777777777778,
              "#fb9f3a"
             ],
             [
              0.8888888888888888,
              "#fdca26"
             ],
             [
              1,
              "#f0f921"
             ]
            ],
            "type": "contour"
           }
          ],
          "contourcarpet": [
           {
            "colorbar": {
             "outlinewidth": 0,
             "ticks": ""
            },
            "type": "contourcarpet"
           }
          ],
          "heatmap": [
           {
            "colorbar": {
             "outlinewidth": 0,
             "ticks": ""
            },
            "colorscale": [
             [
              0,
              "#0d0887"
             ],
             [
              0.1111111111111111,
              "#46039f"
             ],
             [
              0.2222222222222222,
              "#7201a8"
             ],
             [
              0.3333333333333333,
              "#9c179e"
             ],
             [
              0.4444444444444444,
              "#bd3786"
             ],
             [
              0.5555555555555556,
              "#d8576b"
             ],
             [
              0.6666666666666666,
              "#ed7953"
             ],
             [
              0.7777777777777778,
              "#fb9f3a"
             ],
             [
              0.8888888888888888,
              "#fdca26"
             ],
             [
              1,
              "#f0f921"
             ]
            ],
            "type": "heatmap"
           }
          ],
          "heatmapgl": [
           {
            "colorbar": {
             "outlinewidth": 0,
             "ticks": ""
            },
            "colorscale": [
             [
              0,
              "#0d0887"
             ],
             [
              0.1111111111111111,
              "#46039f"
             ],
             [
              0.2222222222222222,
              "#7201a8"
             ],
             [
              0.3333333333333333,
              "#9c179e"
             ],
             [
              0.4444444444444444,
              "#bd3786"
             ],
             [
              0.5555555555555556,
              "#d8576b"
             ],
             [
              0.6666666666666666,
              "#ed7953"
             ],
             [
              0.7777777777777778,
              "#fb9f3a"
             ],
             [
              0.8888888888888888,
              "#fdca26"
             ],
             [
              1,
              "#f0f921"
             ]
            ],
            "type": "heatmapgl"
           }
          ],
          "histogram": [
           {
            "marker": {
             "colorbar": {
              "outlinewidth": 0,
              "ticks": ""
             }
            },
            "type": "histogram"
           }
          ],
          "histogram2d": [
           {
            "colorbar": {
             "outlinewidth": 0,
             "ticks": ""
            },
            "colorscale": [
             [
              0,
              "#0d0887"
             ],
             [
              0.1111111111111111,
              "#46039f"
             ],
             [
              0.2222222222222222,
              "#7201a8"
             ],
             [
              0.3333333333333333,
              "#9c179e"
             ],
             [
              0.4444444444444444,
              "#bd3786"
             ],
             [
              0.5555555555555556,
              "#d8576b"
             ],
             [
              0.6666666666666666,
              "#ed7953"
             ],
             [
              0.7777777777777778,
              "#fb9f3a"
             ],
             [
              0.8888888888888888,
              "#fdca26"
             ],
             [
              1,
              "#f0f921"
             ]
            ],
            "type": "histogram2d"
           }
          ],
          "histogram2dcontour": [
           {
            "colorbar": {
             "outlinewidth": 0,
             "ticks": ""
            },
            "colorscale": [
             [
              0,
              "#0d0887"
             ],
             [
              0.1111111111111111,
              "#46039f"
             ],
             [
              0.2222222222222222,
              "#7201a8"
             ],
             [
              0.3333333333333333,
              "#9c179e"
             ],
             [
              0.4444444444444444,
              "#bd3786"
             ],
             [
              0.5555555555555556,
              "#d8576b"
             ],
             [
              0.6666666666666666,
              "#ed7953"
             ],
             [
              0.7777777777777778,
              "#fb9f3a"
             ],
             [
              0.8888888888888888,
              "#fdca26"
             ],
             [
              1,
              "#f0f921"
             ]
            ],
            "type": "histogram2dcontour"
           }
          ],
          "mesh3d": [
           {
            "colorbar": {
             "outlinewidth": 0,
             "ticks": ""
            },
            "type": "mesh3d"
           }
          ],
          "parcoords": [
           {
            "line": {
             "colorbar": {
              "outlinewidth": 0,
              "ticks": ""
             }
            },
            "type": "parcoords"
           }
          ],
          "pie": [
           {
            "automargin": true,
            "type": "pie"
           }
          ],
          "scatter": [
           {
            "marker": {
             "colorbar": {
              "outlinewidth": 0,
              "ticks": ""
             }
            },
            "type": "scatter"
           }
          ],
          "scatter3d": [
           {
            "line": {
             "colorbar": {
              "outlinewidth": 0,
              "ticks": ""
             }
            },
            "marker": {
             "colorbar": {
              "outlinewidth": 0,
              "ticks": ""
             }
            },
            "type": "scatter3d"
           }
          ],
          "scattercarpet": [
           {
            "marker": {
             "colorbar": {
              "outlinewidth": 0,
              "ticks": ""
             }
            },
            "type": "scattercarpet"
           }
          ],
          "scattergeo": [
           {
            "marker": {
             "colorbar": {
              "outlinewidth": 0,
              "ticks": ""
             }
            },
            "type": "scattergeo"
           }
          ],
          "scattergl": [
           {
            "marker": {
             "colorbar": {
              "outlinewidth": 0,
              "ticks": ""
             }
            },
            "type": "scattergl"
           }
          ],
          "scattermapbox": [
           {
            "marker": {
             "colorbar": {
              "outlinewidth": 0,
              "ticks": ""
             }
            },
            "type": "scattermapbox"
           }
          ],
          "scatterpolar": [
           {
            "marker": {
             "colorbar": {
              "outlinewidth": 0,
              "ticks": ""
             }
            },
            "type": "scatterpolar"
           }
          ],
          "scatterpolargl": [
           {
            "marker": {
             "colorbar": {
              "outlinewidth": 0,
              "ticks": ""
             }
            },
            "type": "scatterpolargl"
           }
          ],
          "scatterternary": [
           {
            "marker": {
             "colorbar": {
              "outlinewidth": 0,
              "ticks": ""
             }
            },
            "type": "scatterternary"
           }
          ],
          "surface": [
           {
            "colorbar": {
             "outlinewidth": 0,
             "ticks": ""
            },
            "colorscale": [
             [
              0,
              "#0d0887"
             ],
             [
              0.1111111111111111,
              "#46039f"
             ],
             [
              0.2222222222222222,
              "#7201a8"
             ],
             [
              0.3333333333333333,
              "#9c179e"
             ],
             [
              0.4444444444444444,
              "#bd3786"
             ],
             [
              0.5555555555555556,
              "#d8576b"
             ],
             [
              0.6666666666666666,
              "#ed7953"
             ],
             [
              0.7777777777777778,
              "#fb9f3a"
             ],
             [
              0.8888888888888888,
              "#fdca26"
             ],
             [
              1,
              "#f0f921"
             ]
            ],
            "type": "surface"
           }
          ],
          "table": [
           {
            "cells": {
             "fill": {
              "color": "#EBF0F8"
             },
             "line": {
              "color": "white"
             }
            },
            "header": {
             "fill": {
              "color": "#C8D4E3"
             },
             "line": {
              "color": "white"
             }
            },
            "type": "table"
           }
          ]
         },
         "layout": {
          "annotationdefaults": {
           "arrowcolor": "#2a3f5f",
           "arrowhead": 0,
           "arrowwidth": 1
          },
          "coloraxis": {
           "colorbar": {
            "outlinewidth": 0,
            "ticks": ""
           }
          },
          "colorscale": {
           "diverging": [
            [
             0,
             "#8e0152"
            ],
            [
             0.1,
             "#c51b7d"
            ],
            [
             0.2,
             "#de77ae"
            ],
            [
             0.3,
             "#f1b6da"
            ],
            [
             0.4,
             "#fde0ef"
            ],
            [
             0.5,
             "#f7f7f7"
            ],
            [
             0.6,
             "#e6f5d0"
            ],
            [
             0.7,
             "#b8e186"
            ],
            [
             0.8,
             "#7fbc41"
            ],
            [
             0.9,
             "#4d9221"
            ],
            [
             1,
             "#276419"
            ]
           ],
           "sequential": [
            [
             0,
             "#0d0887"
            ],
            [
             0.1111111111111111,
             "#46039f"
            ],
            [
             0.2222222222222222,
             "#7201a8"
            ],
            [
             0.3333333333333333,
             "#9c179e"
            ],
            [
             0.4444444444444444,
             "#bd3786"
            ],
            [
             0.5555555555555556,
             "#d8576b"
            ],
            [
             0.6666666666666666,
             "#ed7953"
            ],
            [
             0.7777777777777778,
             "#fb9f3a"
            ],
            [
             0.8888888888888888,
             "#fdca26"
            ],
            [
             1,
             "#f0f921"
            ]
           ],
           "sequentialminus": [
            [
             0,
             "#0d0887"
            ],
            [
             0.1111111111111111,
             "#46039f"
            ],
            [
             0.2222222222222222,
             "#7201a8"
            ],
            [
             0.3333333333333333,
             "#9c179e"
            ],
            [
             0.4444444444444444,
             "#bd3786"
            ],
            [
             0.5555555555555556,
             "#d8576b"
            ],
            [
             0.6666666666666666,
             "#ed7953"
            ],
            [
             0.7777777777777778,
             "#fb9f3a"
            ],
            [
             0.8888888888888888,
             "#fdca26"
            ],
            [
             1,
             "#f0f921"
            ]
           ]
          },
          "colorway": [
           "#636efa",
           "#EF553B",
           "#00cc96",
           "#ab63fa",
           "#FFA15A",
           "#19d3f3",
           "#FF6692",
           "#B6E880",
           "#FF97FF",
           "#FECB52"
          ],
          "font": {
           "color": "#2a3f5f"
          },
          "geo": {
           "bgcolor": "white",
           "lakecolor": "white",
           "landcolor": "#E5ECF6",
           "showlakes": true,
           "showland": true,
           "subunitcolor": "white"
          },
          "hoverlabel": {
           "align": "left"
          },
          "hovermode": "closest",
          "mapbox": {
           "style": "light"
          },
          "paper_bgcolor": "white",
          "plot_bgcolor": "#E5ECF6",
          "polar": {
           "angularaxis": {
            "gridcolor": "white",
            "linecolor": "white",
            "ticks": ""
           },
           "bgcolor": "#E5ECF6",
           "radialaxis": {
            "gridcolor": "white",
            "linecolor": "white",
            "ticks": ""
           }
          },
          "scene": {
           "xaxis": {
            "backgroundcolor": "#E5ECF6",
            "gridcolor": "white",
            "gridwidth": 2,
            "linecolor": "white",
            "showbackground": true,
            "ticks": "",
            "zerolinecolor": "white"
           },
           "yaxis": {
            "backgroundcolor": "#E5ECF6",
            "gridcolor": "white",
            "gridwidth": 2,
            "linecolor": "white",
            "showbackground": true,
            "ticks": "",
            "zerolinecolor": "white"
           },
           "zaxis": {
            "backgroundcolor": "#E5ECF6",
            "gridcolor": "white",
            "gridwidth": 2,
            "linecolor": "white",
            "showbackground": true,
            "ticks": "",
            "zerolinecolor": "white"
           }
          },
          "shapedefaults": {
           "line": {
            "color": "#2a3f5f"
           }
          },
          "ternary": {
           "aaxis": {
            "gridcolor": "white",
            "linecolor": "white",
            "ticks": ""
           },
           "baxis": {
            "gridcolor": "white",
            "linecolor": "white",
            "ticks": ""
           },
           "bgcolor": "#E5ECF6",
           "caxis": {
            "gridcolor": "white",
            "linecolor": "white",
            "ticks": ""
           }
          },
          "title": {
           "x": 0.05
          },
          "xaxis": {
           "automargin": true,
           "gridcolor": "white",
           "linecolor": "white",
           "ticks": "",
           "title": {
            "standoff": 15
           },
           "zerolinecolor": "white",
           "zerolinewidth": 2
          },
          "yaxis": {
           "automargin": true,
           "gridcolor": "white",
           "linecolor": "white",
           "ticks": "",
           "title": {
            "standoff": 15
           },
           "zerolinecolor": "white",
           "zerolinewidth": 2
          }
         }
        }
       }
      }
     },
     "metadata": {}
    }
   ],
   "source": [
    "#create dictionary for angle and radius values \n",
    "df = pd.DataFrame(dict(\n",
    "    r= radius_values,\n",
    "    theta= features))\n",
    "\n",
    "#create radar chart\n",
    "fig = px.line_polar(df, r='r', theta='theta', line_close=True)\n",
    "\n",
    "#fill in area\n",
    "fig.update_traces(fill='toself')\n",
    "\n",
    "#plot chart\n",
    "fig.show()"
   ]
  },
  {
   "cell_type": "markdown",
   "metadata": {},
   "source": [
    "### Second set of variables"
   ]
  },
  {
   "cell_type": "code",
   "execution_count": 179,
   "metadata": {},
   "outputs": [],
   "source": [
    "#Features that are being compared\n",
    "features = ['Latitude','CT','Section',\n",
    "           'Year Drilled', 'SPACING_CAPPED']\n",
    "#Radius values for each variable\n",
    "radius_values = []\n",
    "for i in features:\n",
    "        radius_values.append(spearman_correlation.at[i, '12 month Cum Prod'])"
   ]
  },
  {
   "cell_type": "code",
   "execution_count": 184,
   "metadata": {},
   "outputs": [
    {
     "output_type": "display_data",
     "data": {
      "application/vnd.plotly.v1+json": {
       "config": {
        "plotlyServerURL": "https://plot.ly"
       },
       "data": [
        {
         "fill": "toself",
         "hovertemplate": "r=%{r}<br>theta=%{theta}<extra></extra>",
         "legendgroup": "",
         "line": {
          "color": "#636efa",
          "dash": "solid"
         },
         "mode": "lines",
         "name": "",
         "r": [
          0.12009911598654714,
          0.24296991246052596,
          0.28189351866605994,
          0.3077980336249716,
          0.11857450351303943,
          0.12009911598654714
         ],
         "showlegend": false,
         "subplot": "polar",
         "theta": [
          "Lateral Length",
          "Stages",
          "Fluid, bbls",
          "Total Prop, lbs",
          "Longitude",
          "Lateral Length"
         ],
         "type": "scatterpolar"
        }
       ],
       "layout": {
        "legend": {
         "tracegroupgap": 0
        },
        "margin": {
         "t": 60
        },
        "polar": {
         "angularaxis": {
          "direction": "clockwise",
          "rotation": 90
         },
         "domain": {
          "x": [
           0,
           1
          ],
          "y": [
           0,
           1
          ]
         }
        },
        "template": {
         "data": {
          "bar": [
           {
            "error_x": {
             "color": "#2a3f5f"
            },
            "error_y": {
             "color": "#2a3f5f"
            },
            "marker": {
             "line": {
              "color": "#E5ECF6",
              "width": 0.5
             }
            },
            "type": "bar"
           }
          ],
          "barpolar": [
           {
            "marker": {
             "line": {
              "color": "#E5ECF6",
              "width": 0.5
             }
            },
            "type": "barpolar"
           }
          ],
          "carpet": [
           {
            "aaxis": {
             "endlinecolor": "#2a3f5f",
             "gridcolor": "white",
             "linecolor": "white",
             "minorgridcolor": "white",
             "startlinecolor": "#2a3f5f"
            },
            "baxis": {
             "endlinecolor": "#2a3f5f",
             "gridcolor": "white",
             "linecolor": "white",
             "minorgridcolor": "white",
             "startlinecolor": "#2a3f5f"
            },
            "type": "carpet"
           }
          ],
          "choropleth": [
           {
            "colorbar": {
             "outlinewidth": 0,
             "ticks": ""
            },
            "type": "choropleth"
           }
          ],
          "contour": [
           {
            "colorbar": {
             "outlinewidth": 0,
             "ticks": ""
            },
            "colorscale": [
             [
              0,
              "#0d0887"
             ],
             [
              0.1111111111111111,
              "#46039f"
             ],
             [
              0.2222222222222222,
              "#7201a8"
             ],
             [
              0.3333333333333333,
              "#9c179e"
             ],
             [
              0.4444444444444444,
              "#bd3786"
             ],
             [
              0.5555555555555556,
              "#d8576b"
             ],
             [
              0.6666666666666666,
              "#ed7953"
             ],
             [
              0.7777777777777778,
              "#fb9f3a"
             ],
             [
              0.8888888888888888,
              "#fdca26"
             ],
             [
              1,
              "#f0f921"
             ]
            ],
            "type": "contour"
           }
          ],
          "contourcarpet": [
           {
            "colorbar": {
             "outlinewidth": 0,
             "ticks": ""
            },
            "type": "contourcarpet"
           }
          ],
          "heatmap": [
           {
            "colorbar": {
             "outlinewidth": 0,
             "ticks": ""
            },
            "colorscale": [
             [
              0,
              "#0d0887"
             ],
             [
              0.1111111111111111,
              "#46039f"
             ],
             [
              0.2222222222222222,
              "#7201a8"
             ],
             [
              0.3333333333333333,
              "#9c179e"
             ],
             [
              0.4444444444444444,
              "#bd3786"
             ],
             [
              0.5555555555555556,
              "#d8576b"
             ],
             [
              0.6666666666666666,
              "#ed7953"
             ],
             [
              0.7777777777777778,
              "#fb9f3a"
             ],
             [
              0.8888888888888888,
              "#fdca26"
             ],
             [
              1,
              "#f0f921"
             ]
            ],
            "type": "heatmap"
           }
          ],
          "heatmapgl": [
           {
            "colorbar": {
             "outlinewidth": 0,
             "ticks": ""
            },
            "colorscale": [
             [
              0,
              "#0d0887"
             ],
             [
              0.1111111111111111,
              "#46039f"
             ],
             [
              0.2222222222222222,
              "#7201a8"
             ],
             [
              0.3333333333333333,
              "#9c179e"
             ],
             [
              0.4444444444444444,
              "#bd3786"
             ],
             [
              0.5555555555555556,
              "#d8576b"
             ],
             [
              0.6666666666666666,
              "#ed7953"
             ],
             [
              0.7777777777777778,
              "#fb9f3a"
             ],
             [
              0.8888888888888888,
              "#fdca26"
             ],
             [
              1,
              "#f0f921"
             ]
            ],
            "type": "heatmapgl"
           }
          ],
          "histogram": [
           {
            "marker": {
             "colorbar": {
              "outlinewidth": 0,
              "ticks": ""
             }
            },
            "type": "histogram"
           }
          ],
          "histogram2d": [
           {
            "colorbar": {
             "outlinewidth": 0,
             "ticks": ""
            },
            "colorscale": [
             [
              0,
              "#0d0887"
             ],
             [
              0.1111111111111111,
              "#46039f"
             ],
             [
              0.2222222222222222,
              "#7201a8"
             ],
             [
              0.3333333333333333,
              "#9c179e"
             ],
             [
              0.4444444444444444,
              "#bd3786"
             ],
             [
              0.5555555555555556,
              "#d8576b"
             ],
             [
              0.6666666666666666,
              "#ed7953"
             ],
             [
              0.7777777777777778,
              "#fb9f3a"
             ],
             [
              0.8888888888888888,
              "#fdca26"
             ],
             [
              1,
              "#f0f921"
             ]
            ],
            "type": "histogram2d"
           }
          ],
          "histogram2dcontour": [
           {
            "colorbar": {
             "outlinewidth": 0,
             "ticks": ""
            },
            "colorscale": [
             [
              0,
              "#0d0887"
             ],
             [
              0.1111111111111111,
              "#46039f"
             ],
             [
              0.2222222222222222,
              "#7201a8"
             ],
             [
              0.3333333333333333,
              "#9c179e"
             ],
             [
              0.4444444444444444,
              "#bd3786"
             ],
             [
              0.5555555555555556,
              "#d8576b"
             ],
             [
              0.6666666666666666,
              "#ed7953"
             ],
             [
              0.7777777777777778,
              "#fb9f3a"
             ],
             [
              0.8888888888888888,
              "#fdca26"
             ],
             [
              1,
              "#f0f921"
             ]
            ],
            "type": "histogram2dcontour"
           }
          ],
          "mesh3d": [
           {
            "colorbar": {
             "outlinewidth": 0,
             "ticks": ""
            },
            "type": "mesh3d"
           }
          ],
          "parcoords": [
           {
            "line": {
             "colorbar": {
              "outlinewidth": 0,
              "ticks": ""
             }
            },
            "type": "parcoords"
           }
          ],
          "pie": [
           {
            "automargin": true,
            "type": "pie"
           }
          ],
          "scatter": [
           {
            "marker": {
             "colorbar": {
              "outlinewidth": 0,
              "ticks": ""
             }
            },
            "type": "scatter"
           }
          ],
          "scatter3d": [
           {
            "line": {
             "colorbar": {
              "outlinewidth": 0,
              "ticks": ""
             }
            },
            "marker": {
             "colorbar": {
              "outlinewidth": 0,
              "ticks": ""
             }
            },
            "type": "scatter3d"
           }
          ],
          "scattercarpet": [
           {
            "marker": {
             "colorbar": {
              "outlinewidth": 0,
              "ticks": ""
             }
            },
            "type": "scattercarpet"
           }
          ],
          "scattergeo": [
           {
            "marker": {
             "colorbar": {
              "outlinewidth": 0,
              "ticks": ""
             }
            },
            "type": "scattergeo"
           }
          ],
          "scattergl": [
           {
            "marker": {
             "colorbar": {
              "outlinewidth": 0,
              "ticks": ""
             }
            },
            "type": "scattergl"
           }
          ],
          "scattermapbox": [
           {
            "marker": {
             "colorbar": {
              "outlinewidth": 0,
              "ticks": ""
             }
            },
            "type": "scattermapbox"
           }
          ],
          "scatterpolar": [
           {
            "marker": {
             "colorbar": {
              "outlinewidth": 0,
              "ticks": ""
             }
            },
            "type": "scatterpolar"
           }
          ],
          "scatterpolargl": [
           {
            "marker": {
             "colorbar": {
              "outlinewidth": 0,
              "ticks": ""
             }
            },
            "type": "scatterpolargl"
           }
          ],
          "scatterternary": [
           {
            "marker": {
             "colorbar": {
              "outlinewidth": 0,
              "ticks": ""
             }
            },
            "type": "scatterternary"
           }
          ],
          "surface": [
           {
            "colorbar": {
             "outlinewidth": 0,
             "ticks": ""
            },
            "colorscale": [
             [
              0,
              "#0d0887"
             ],
             [
              0.1111111111111111,
              "#46039f"
             ],
             [
              0.2222222222222222,
              "#7201a8"
             ],
             [
              0.3333333333333333,
              "#9c179e"
             ],
             [
              0.4444444444444444,
              "#bd3786"
             ],
             [
              0.5555555555555556,
              "#d8576b"
             ],
             [
              0.6666666666666666,
              "#ed7953"
             ],
             [
              0.7777777777777778,
              "#fb9f3a"
             ],
             [
              0.8888888888888888,
              "#fdca26"
             ],
             [
              1,
              "#f0f921"
             ]
            ],
            "type": "surface"
           }
          ],
          "table": [
           {
            "cells": {
             "fill": {
              "color": "#EBF0F8"
             },
             "line": {
              "color": "white"
             }
            },
            "header": {
             "fill": {
              "color": "#C8D4E3"
             },
             "line": {
              "color": "white"
             }
            },
            "type": "table"
           }
          ]
         },
         "layout": {
          "annotationdefaults": {
           "arrowcolor": "#2a3f5f",
           "arrowhead": 0,
           "arrowwidth": 1
          },
          "coloraxis": {
           "colorbar": {
            "outlinewidth": 0,
            "ticks": ""
           }
          },
          "colorscale": {
           "diverging": [
            [
             0,
             "#8e0152"
            ],
            [
             0.1,
             "#c51b7d"
            ],
            [
             0.2,
             "#de77ae"
            ],
            [
             0.3,
             "#f1b6da"
            ],
            [
             0.4,
             "#fde0ef"
            ],
            [
             0.5,
             "#f7f7f7"
            ],
            [
             0.6,
             "#e6f5d0"
            ],
            [
             0.7,
             "#b8e186"
            ],
            [
             0.8,
             "#7fbc41"
            ],
            [
             0.9,
             "#4d9221"
            ],
            [
             1,
             "#276419"
            ]
           ],
           "sequential": [
            [
             0,
             "#0d0887"
            ],
            [
             0.1111111111111111,
             "#46039f"
            ],
            [
             0.2222222222222222,
             "#7201a8"
            ],
            [
             0.3333333333333333,
             "#9c179e"
            ],
            [
             0.4444444444444444,
             "#bd3786"
            ],
            [
             0.5555555555555556,
             "#d8576b"
            ],
            [
             0.6666666666666666,
             "#ed7953"
            ],
            [
             0.7777777777777778,
             "#fb9f3a"
            ],
            [
             0.8888888888888888,
             "#fdca26"
            ],
            [
             1,
             "#f0f921"
            ]
           ],
           "sequentialminus": [
            [
             0,
             "#0d0887"
            ],
            [
             0.1111111111111111,
             "#46039f"
            ],
            [
             0.2222222222222222,
             "#7201a8"
            ],
            [
             0.3333333333333333,
             "#9c179e"
            ],
            [
             0.4444444444444444,
             "#bd3786"
            ],
            [
             0.5555555555555556,
             "#d8576b"
            ],
            [
             0.6666666666666666,
             "#ed7953"
            ],
            [
             0.7777777777777778,
             "#fb9f3a"
            ],
            [
             0.8888888888888888,
             "#fdca26"
            ],
            [
             1,
             "#f0f921"
            ]
           ]
          },
          "colorway": [
           "#636efa",
           "#EF553B",
           "#00cc96",
           "#ab63fa",
           "#FFA15A",
           "#19d3f3",
           "#FF6692",
           "#B6E880",
           "#FF97FF",
           "#FECB52"
          ],
          "font": {
           "color": "#2a3f5f"
          },
          "geo": {
           "bgcolor": "white",
           "lakecolor": "white",
           "landcolor": "#E5ECF6",
           "showlakes": true,
           "showland": true,
           "subunitcolor": "white"
          },
          "hoverlabel": {
           "align": "left"
          },
          "hovermode": "closest",
          "mapbox": {
           "style": "light"
          },
          "paper_bgcolor": "white",
          "plot_bgcolor": "#E5ECF6",
          "polar": {
           "angularaxis": {
            "gridcolor": "white",
            "linecolor": "white",
            "ticks": ""
           },
           "bgcolor": "#E5ECF6",
           "radialaxis": {
            "gridcolor": "white",
            "linecolor": "white",
            "ticks": ""
           }
          },
          "scene": {
           "xaxis": {
            "backgroundcolor": "#E5ECF6",
            "gridcolor": "white",
            "gridwidth": 2,
            "linecolor": "white",
            "showbackground": true,
            "ticks": "",
            "zerolinecolor": "white"
           },
           "yaxis": {
            "backgroundcolor": "#E5ECF6",
            "gridcolor": "white",
            "gridwidth": 2,
            "linecolor": "white",
            "showbackground": true,
            "ticks": "",
            "zerolinecolor": "white"
           },
           "zaxis": {
            "backgroundcolor": "#E5ECF6",
            "gridcolor": "white",
            "gridwidth": 2,
            "linecolor": "white",
            "showbackground": true,
            "ticks": "",
            "zerolinecolor": "white"
           }
          },
          "shapedefaults": {
           "line": {
            "color": "#2a3f5f"
           }
          },
          "ternary": {
           "aaxis": {
            "gridcolor": "white",
            "linecolor": "white",
            "ticks": ""
           },
           "baxis": {
            "gridcolor": "white",
            "linecolor": "white",
            "ticks": ""
           },
           "bgcolor": "#E5ECF6",
           "caxis": {
            "gridcolor": "white",
            "linecolor": "white",
            "ticks": ""
           }
          },
          "title": {
           "x": 0.05
          },
          "xaxis": {
           "automargin": true,
           "gridcolor": "white",
           "linecolor": "white",
           "ticks": "",
           "title": {
            "standoff": 15
           },
           "zerolinecolor": "white",
           "zerolinewidth": 2
          },
          "yaxis": {
           "automargin": true,
           "gridcolor": "white",
           "linecolor": "white",
           "ticks": "",
           "title": {
            "standoff": 15
           },
           "zerolinecolor": "white",
           "zerolinewidth": 2
          }
         }
        }
       }
      }
     },
     "metadata": {}
    }
   ],
   "source": [
    "#create dictionary for angle and radius values \n",
    "df = pd.DataFrame(dict(\n",
    "    r= radius_values,\n",
    "    theta= features))\n",
    "\n",
    "#create radar chart\n",
    "fig = px.line_polar(df, r='r', theta='theta', line_close=True)\n",
    "\n",
    "#fill in area\n",
    "fig.update_traces(fill='toself')\n",
    "\n",
    "#plot chart\n",
    "fig.show()"
   ]
  },
  {
   "cell_type": "markdown",
   "metadata": {},
   "source": [
    "### Third set of variables (categorical)"
   ]
  },
  {
   "cell_type": "code",
   "execution_count": 216,
   "metadata": {},
   "outputs": [],
   "source": [
    "#Features that are being compared\n",
    "features = ['Completion Type', 'Formation', 'Fluid Type from DI', 'Date Fracd', 'Operator']\n",
    "#Radius values for each variable\n",
    "radius_values = []\n",
    "for i in features:\n",
    "        radius_values.append(spearman_correlation.at[i, '12 month Cum Prod'])"
   ]
  },
  {
   "cell_type": "code",
   "execution_count": 217,
   "metadata": {},
   "outputs": [
    {
     "output_type": "display_data",
     "data": {
      "application/vnd.plotly.v1+json": {
       "config": {
        "plotlyServerURL": "https://plot.ly"
       },
       "data": [
        {
         "fill": "toself",
         "hovertemplate": "r=%{r}<br>theta=%{theta}<extra></extra>",
         "legendgroup": "",
         "line": {
          "color": "#636efa",
          "dash": "solid"
         },
         "mode": "lines",
         "name": "",
         "r": [
          0.22916135729844944,
          -0.09027778623828797,
          0.16242319755152157,
          0.2457928735959948,
          0.13470902886391176,
          0.22916135729844944
         ],
         "showlegend": false,
         "subplot": "polar",
         "theta": [
          "Completion Type",
          "Formation",
          "Fluid Type from DI",
          "Date Fracd",
          "Operator",
          "Completion Type"
         ],
         "type": "scatterpolar"
        }
       ],
       "layout": {
        "legend": {
         "tracegroupgap": 0
        },
        "margin": {
         "t": 60
        },
        "polar": {
         "angularaxis": {
          "direction": "clockwise",
          "rotation": 90
         },
         "domain": {
          "x": [
           0,
           1
          ],
          "y": [
           0,
           1
          ]
         }
        },
        "template": {
         "data": {
          "bar": [
           {
            "error_x": {
             "color": "#2a3f5f"
            },
            "error_y": {
             "color": "#2a3f5f"
            },
            "marker": {
             "line": {
              "color": "#E5ECF6",
              "width": 0.5
             }
            },
            "type": "bar"
           }
          ],
          "barpolar": [
           {
            "marker": {
             "line": {
              "color": "#E5ECF6",
              "width": 0.5
             }
            },
            "type": "barpolar"
           }
          ],
          "carpet": [
           {
            "aaxis": {
             "endlinecolor": "#2a3f5f",
             "gridcolor": "white",
             "linecolor": "white",
             "minorgridcolor": "white",
             "startlinecolor": "#2a3f5f"
            },
            "baxis": {
             "endlinecolor": "#2a3f5f",
             "gridcolor": "white",
             "linecolor": "white",
             "minorgridcolor": "white",
             "startlinecolor": "#2a3f5f"
            },
            "type": "carpet"
           }
          ],
          "choropleth": [
           {
            "colorbar": {
             "outlinewidth": 0,
             "ticks": ""
            },
            "type": "choropleth"
           }
          ],
          "contour": [
           {
            "colorbar": {
             "outlinewidth": 0,
             "ticks": ""
            },
            "colorscale": [
             [
              0,
              "#0d0887"
             ],
             [
              0.1111111111111111,
              "#46039f"
             ],
             [
              0.2222222222222222,
              "#7201a8"
             ],
             [
              0.3333333333333333,
              "#9c179e"
             ],
             [
              0.4444444444444444,
              "#bd3786"
             ],
             [
              0.5555555555555556,
              "#d8576b"
             ],
             [
              0.6666666666666666,
              "#ed7953"
             ],
             [
              0.7777777777777778,
              "#fb9f3a"
             ],
             [
              0.8888888888888888,
              "#fdca26"
             ],
             [
              1,
              "#f0f921"
             ]
            ],
            "type": "contour"
           }
          ],
          "contourcarpet": [
           {
            "colorbar": {
             "outlinewidth": 0,
             "ticks": ""
            },
            "type": "contourcarpet"
           }
          ],
          "heatmap": [
           {
            "colorbar": {
             "outlinewidth": 0,
             "ticks": ""
            },
            "colorscale": [
             [
              0,
              "#0d0887"
             ],
             [
              0.1111111111111111,
              "#46039f"
             ],
             [
              0.2222222222222222,
              "#7201a8"
             ],
             [
              0.3333333333333333,
              "#9c179e"
             ],
             [
              0.4444444444444444,
              "#bd3786"
             ],
             [
              0.5555555555555556,
              "#d8576b"
             ],
             [
              0.6666666666666666,
              "#ed7953"
             ],
             [
              0.7777777777777778,
              "#fb9f3a"
             ],
             [
              0.8888888888888888,
              "#fdca26"
             ],
             [
              1,
              "#f0f921"
             ]
            ],
            "type": "heatmap"
           }
          ],
          "heatmapgl": [
           {
            "colorbar": {
             "outlinewidth": 0,
             "ticks": ""
            },
            "colorscale": [
             [
              0,
              "#0d0887"
             ],
             [
              0.1111111111111111,
              "#46039f"
             ],
             [
              0.2222222222222222,
              "#7201a8"
             ],
             [
              0.3333333333333333,
              "#9c179e"
             ],
             [
              0.4444444444444444,
              "#bd3786"
             ],
             [
              0.5555555555555556,
              "#d8576b"
             ],
             [
              0.6666666666666666,
              "#ed7953"
             ],
             [
              0.7777777777777778,
              "#fb9f3a"
             ],
             [
              0.8888888888888888,
              "#fdca26"
             ],
             [
              1,
              "#f0f921"
             ]
            ],
            "type": "heatmapgl"
           }
          ],
          "histogram": [
           {
            "marker": {
             "colorbar": {
              "outlinewidth": 0,
              "ticks": ""
             }
            },
            "type": "histogram"
           }
          ],
          "histogram2d": [
           {
            "colorbar": {
             "outlinewidth": 0,
             "ticks": ""
            },
            "colorscale": [
             [
              0,
              "#0d0887"
             ],
             [
              0.1111111111111111,
              "#46039f"
             ],
             [
              0.2222222222222222,
              "#7201a8"
             ],
             [
              0.3333333333333333,
              "#9c179e"
             ],
             [
              0.4444444444444444,
              "#bd3786"
             ],
             [
              0.5555555555555556,
              "#d8576b"
             ],
             [
              0.6666666666666666,
              "#ed7953"
             ],
             [
              0.7777777777777778,
              "#fb9f3a"
             ],
             [
              0.8888888888888888,
              "#fdca26"
             ],
             [
              1,
              "#f0f921"
             ]
            ],
            "type": "histogram2d"
           }
          ],
          "histogram2dcontour": [
           {
            "colorbar": {
             "outlinewidth": 0,
             "ticks": ""
            },
            "colorscale": [
             [
              0,
              "#0d0887"
             ],
             [
              0.1111111111111111,
              "#46039f"
             ],
             [
              0.2222222222222222,
              "#7201a8"
             ],
             [
              0.3333333333333333,
              "#9c179e"
             ],
             [
              0.4444444444444444,
              "#bd3786"
             ],
             [
              0.5555555555555556,
              "#d8576b"
             ],
             [
              0.6666666666666666,
              "#ed7953"
             ],
             [
              0.7777777777777778,
              "#fb9f3a"
             ],
             [
              0.8888888888888888,
              "#fdca26"
             ],
             [
              1,
              "#f0f921"
             ]
            ],
            "type": "histogram2dcontour"
           }
          ],
          "mesh3d": [
           {
            "colorbar": {
             "outlinewidth": 0,
             "ticks": ""
            },
            "type": "mesh3d"
           }
          ],
          "parcoords": [
           {
            "line": {
             "colorbar": {
              "outlinewidth": 0,
              "ticks": ""
             }
            },
            "type": "parcoords"
           }
          ],
          "pie": [
           {
            "automargin": true,
            "type": "pie"
           }
          ],
          "scatter": [
           {
            "marker": {
             "colorbar": {
              "outlinewidth": 0,
              "ticks": ""
             }
            },
            "type": "scatter"
           }
          ],
          "scatter3d": [
           {
            "line": {
             "colorbar": {
              "outlinewidth": 0,
              "ticks": ""
             }
            },
            "marker": {
             "colorbar": {
              "outlinewidth": 0,
              "ticks": ""
             }
            },
            "type": "scatter3d"
           }
          ],
          "scattercarpet": [
           {
            "marker": {
             "colorbar": {
              "outlinewidth": 0,
              "ticks": ""
             }
            },
            "type": "scattercarpet"
           }
          ],
          "scattergeo": [
           {
            "marker": {
             "colorbar": {
              "outlinewidth": 0,
              "ticks": ""
             }
            },
            "type": "scattergeo"
           }
          ],
          "scattergl": [
           {
            "marker": {
             "colorbar": {
              "outlinewidth": 0,
              "ticks": ""
             }
            },
            "type": "scattergl"
           }
          ],
          "scattermapbox": [
           {
            "marker": {
             "colorbar": {
              "outlinewidth": 0,
              "ticks": ""
             }
            },
            "type": "scattermapbox"
           }
          ],
          "scatterpolar": [
           {
            "marker": {
             "colorbar": {
              "outlinewidth": 0,
              "ticks": ""
             }
            },
            "type": "scatterpolar"
           }
          ],
          "scatterpolargl": [
           {
            "marker": {
             "colorbar": {
              "outlinewidth": 0,
              "ticks": ""
             }
            },
            "type": "scatterpolargl"
           }
          ],
          "scatterternary": [
           {
            "marker": {
             "colorbar": {
              "outlinewidth": 0,
              "ticks": ""
             }
            },
            "type": "scatterternary"
           }
          ],
          "surface": [
           {
            "colorbar": {
             "outlinewidth": 0,
             "ticks": ""
            },
            "colorscale": [
             [
              0,
              "#0d0887"
             ],
             [
              0.1111111111111111,
              "#46039f"
             ],
             [
              0.2222222222222222,
              "#7201a8"
             ],
             [
              0.3333333333333333,
              "#9c179e"
             ],
             [
              0.4444444444444444,
              "#bd3786"
             ],
             [
              0.5555555555555556,
              "#d8576b"
             ],
             [
              0.6666666666666666,
              "#ed7953"
             ],
             [
              0.7777777777777778,
              "#fb9f3a"
             ],
             [
              0.8888888888888888,
              "#fdca26"
             ],
             [
              1,
              "#f0f921"
             ]
            ],
            "type": "surface"
           }
          ],
          "table": [
           {
            "cells": {
             "fill": {
              "color": "#EBF0F8"
             },
             "line": {
              "color": "white"
             }
            },
            "header": {
             "fill": {
              "color": "#C8D4E3"
             },
             "line": {
              "color": "white"
             }
            },
            "type": "table"
           }
          ]
         },
         "layout": {
          "annotationdefaults": {
           "arrowcolor": "#2a3f5f",
           "arrowhead": 0,
           "arrowwidth": 1
          },
          "coloraxis": {
           "colorbar": {
            "outlinewidth": 0,
            "ticks": ""
           }
          },
          "colorscale": {
           "diverging": [
            [
             0,
             "#8e0152"
            ],
            [
             0.1,
             "#c51b7d"
            ],
            [
             0.2,
             "#de77ae"
            ],
            [
             0.3,
             "#f1b6da"
            ],
            [
             0.4,
             "#fde0ef"
            ],
            [
             0.5,
             "#f7f7f7"
            ],
            [
             0.6,
             "#e6f5d0"
            ],
            [
             0.7,
             "#b8e186"
            ],
            [
             0.8,
             "#7fbc41"
            ],
            [
             0.9,
             "#4d9221"
            ],
            [
             1,
             "#276419"
            ]
           ],
           "sequential": [
            [
             0,
             "#0d0887"
            ],
            [
             0.1111111111111111,
             "#46039f"
            ],
            [
             0.2222222222222222,
             "#7201a8"
            ],
            [
             0.3333333333333333,
             "#9c179e"
            ],
            [
             0.4444444444444444,
             "#bd3786"
            ],
            [
             0.5555555555555556,
             "#d8576b"
            ],
            [
             0.6666666666666666,
             "#ed7953"
            ],
            [
             0.7777777777777778,
             "#fb9f3a"
            ],
            [
             0.8888888888888888,
             "#fdca26"
            ],
            [
             1,
             "#f0f921"
            ]
           ],
           "sequentialminus": [
            [
             0,
             "#0d0887"
            ],
            [
             0.1111111111111111,
             "#46039f"
            ],
            [
             0.2222222222222222,
             "#7201a8"
            ],
            [
             0.3333333333333333,
             "#9c179e"
            ],
            [
             0.4444444444444444,
             "#bd3786"
            ],
            [
             0.5555555555555556,
             "#d8576b"
            ],
            [
             0.6666666666666666,
             "#ed7953"
            ],
            [
             0.7777777777777778,
             "#fb9f3a"
            ],
            [
             0.8888888888888888,
             "#fdca26"
            ],
            [
             1,
             "#f0f921"
            ]
           ]
          },
          "colorway": [
           "#636efa",
           "#EF553B",
           "#00cc96",
           "#ab63fa",
           "#FFA15A",
           "#19d3f3",
           "#FF6692",
           "#B6E880",
           "#FF97FF",
           "#FECB52"
          ],
          "font": {
           "color": "#2a3f5f"
          },
          "geo": {
           "bgcolor": "white",
           "lakecolor": "white",
           "landcolor": "#E5ECF6",
           "showlakes": true,
           "showland": true,
           "subunitcolor": "white"
          },
          "hoverlabel": {
           "align": "left"
          },
          "hovermode": "closest",
          "mapbox": {
           "style": "light"
          },
          "paper_bgcolor": "white",
          "plot_bgcolor": "#E5ECF6",
          "polar": {
           "angularaxis": {
            "gridcolor": "white",
            "linecolor": "white",
            "ticks": ""
           },
           "bgcolor": "#E5ECF6",
           "radialaxis": {
            "gridcolor": "white",
            "linecolor": "white",
            "ticks": ""
           }
          },
          "scene": {
           "xaxis": {
            "backgroundcolor": "#E5ECF6",
            "gridcolor": "white",
            "gridwidth": 2,
            "linecolor": "white",
            "showbackground": true,
            "ticks": "",
            "zerolinecolor": "white"
           },
           "yaxis": {
            "backgroundcolor": "#E5ECF6",
            "gridcolor": "white",
            "gridwidth": 2,
            "linecolor": "white",
            "showbackground": true,
            "ticks": "",
            "zerolinecolor": "white"
           },
           "zaxis": {
            "backgroundcolor": "#E5ECF6",
            "gridcolor": "white",
            "gridwidth": 2,
            "linecolor": "white",
            "showbackground": true,
            "ticks": "",
            "zerolinecolor": "white"
           }
          },
          "shapedefaults": {
           "line": {
            "color": "#2a3f5f"
           }
          },
          "ternary": {
           "aaxis": {
            "gridcolor": "white",
            "linecolor": "white",
            "ticks": ""
           },
           "baxis": {
            "gridcolor": "white",
            "linecolor": "white",
            "ticks": ""
           },
           "bgcolor": "#E5ECF6",
           "caxis": {
            "gridcolor": "white",
            "linecolor": "white",
            "ticks": ""
           }
          },
          "title": {
           "x": 0.05
          },
          "xaxis": {
           "automargin": true,
           "gridcolor": "white",
           "linecolor": "white",
           "ticks": "",
           "title": {
            "standoff": 15
           },
           "zerolinecolor": "white",
           "zerolinewidth": 2
          },
          "yaxis": {
           "automargin": true,
           "gridcolor": "white",
           "linecolor": "white",
           "ticks": "",
           "title": {
            "standoff": 15
           },
           "zerolinecolor": "white",
           "zerolinewidth": 2
          }
         }
        }
       }
      }
     },
     "metadata": {}
    }
   ],
   "source": [
    "#create dictionary for angle and radius values \n",
    "df = pd.DataFrame(dict(\n",
    "    r= radius_values,\n",
    "    theta= features))\n",
    "\n",
    "#create radar chart\n",
    "fig = px.line_polar(df, r='r', theta='theta', line_close=True)\n",
    "\n",
    "#fill in area\n",
    "fig.update_traces(fill='toself')\n",
    "\n",
    "#plot chart\n",
    "fig.show()"
   ]
  },
  {
   "cell_type": "markdown",
   "metadata": {},
   "source": [
    "Spearman's coefficient shows the same as the Pearson coefficient: Completion Type, Total Proppant, and Fluid. It also might be worth looking more into the Completion Type and Date Fracd because they have a higher correlation coefficient than with Pearson."
   ]
  },
  {
   "cell_type": "markdown",
   "metadata": {},
   "source": [
    "## Kendall Correlation"
   ]
  },
  {
   "cell_type": "code",
   "execution_count": 218,
   "metadata": {},
   "outputs": [
    {
     "output_type": "execute_result",
     "data": {
      "text/plain": "                    Unnamed: 0  Operator  Formation  Lateral Length    Stages  \\\nUnnamed: 0            1.000000  0.007680  -0.038347        0.052686  0.168437   \nOperator              0.007680  1.000000  -0.060192       -0.044400  0.047048   \nFormation            -0.038347 -0.060192   1.000000        0.093597  0.085921   \nLateral Length        0.052686 -0.044400   0.093597        1.000000  0.309936   \nStages                0.168437  0.047048   0.085921        0.309936  1.000000   \nTownship              0.358195 -0.050883   0.013116        0.012854  0.037471   \nRange                 0.004109 -0.053807   0.039930        0.125361  0.115880   \nSection              -0.033591  0.017867   0.009167       -0.020888  0.020303   \nTotal Prop, lbs       0.167874  0.054267   0.026469        0.222342  0.502807   \nFluid, bbls           0.141531  0.027351   0.068593        0.207519  0.471214   \nDate Fracd            0.254967  0.024475  -0.002380        0.033752  0.156302   \nBest1 Mo BOPD         0.084968  0.108099  -0.103639        0.095635  0.177771   \nBest3 Mo BOPD         0.086246  0.105517  -0.104004        0.096264  0.172709   \nBest6 Mo BOPD         0.092149  0.103043  -0.105084        0.093617  0.166510   \nBest9 Mo BOPD         0.101689  0.108895  -0.109192        0.093220  0.162161   \nBest12 Mo BOPD        0.107112  0.109369  -0.108429        0.094011  0.155649   \nLatitude              0.352100 -0.051736   0.012107        0.014574  0.035094   \nLongitude            -0.028989  0.066508  -0.044548       -0.123547 -0.116569   \nFluid Type from DI    0.072867  0.022396   0.087890        0.126958  0.290108   \nSPACING_CAPPED       -0.090092 -0.010527  -0.187595       -0.135229 -0.224938   \n12 month Cum Prod     0.097114  0.090942  -0.073161        0.120099  0.242970   \nCompletion Type       0.133933 -0.103549   0.041463        0.008181  0.197106   \nSleeves               0.151749 -0.003509   0.124298        0.286365  0.886579   \nP&P                   0.125591  0.097335   0.013674        0.303404  0.876172   \nFrac Ports           -0.462069       NaN  -0.404069        0.024845  0.234765   \nRepeater Ports        0.527046       NaN   0.666667        0.737865  0.125988   \nCT                    0.153112  0.240192  -0.236525        0.382780  1.000000   \nYear Drilled          0.160334  0.021895   0.161090        0.226446  0.522863   \n\n                    Township      Range   Section  Total Prop, lbs  \\\nUnnamed: 0           0.358195  0.004109 -0.033591         0.167874   \nOperator            -0.050883 -0.053807  0.017867         0.054267   \nFormation            0.013116  0.039930  0.009167         0.026469   \nLateral Length       0.012854  0.125361 -0.020888         0.222342   \nStages               0.037471  0.115880  0.020303         0.502807   \nTownship             1.000000 -0.016345  0.017285         0.006452   \nRange               -0.016345  1.000000 -0.014719         0.094244   \nSection              0.017285 -0.014719  1.000000         0.017026   \nTotal Prop, lbs      0.006452  0.094244  0.017026         1.000000   \nFluid, bbls         -0.013354  0.193712  0.014576         0.671173   \nDate Fracd           0.002393 -0.036389 -0.001078         0.181696   \nBest1 Mo BOPD       -0.122942 -0.085576  0.012530         0.219196   \nBest3 Mo BOPD       -0.117739 -0.101709  0.010970         0.227002   \nBest6 Mo BOPD       -0.113522 -0.118404  0.009663         0.233923   \nBest9 Mo BOPD       -0.106005 -0.124791  0.005765         0.232325   \nBest12 Mo BOPD      -0.098384 -0.134474  0.003652         0.226341   \nLatitude             0.967689 -0.012843 -0.036827         0.005248   \nLongitude           -0.081553 -0.913127  0.011810        -0.092848   \nFluid Type from DI  -0.018412  0.083581  0.016675         0.256297   \nSPACING_CAPPED       0.026258 -0.014247 -0.012705        -0.206224   \n12 month Cum Prod   -0.119089 -0.110660  0.007134         0.307798   \nCompletion Type      0.057745  0.088334  0.008297         0.364320   \nSleeves              0.074185  0.094662  0.028297         0.391270   \nP&P                  0.013643  0.121660  0.006999         0.469789   \nFrac Ports          -0.564815  0.344016  0.250313         0.346552   \nRepeater Ports       0.527046  0.471405 -0.316228         0.316228   \nCT                  -0.156795  0.198583  0.019913        -0.114834   \nYear Drilled        -0.028170  0.120057  0.023110         0.466560   \n\n                    Fluid, bbls  ...  Fluid Type from DI  SPACING_CAPPED  \\\nUnnamed: 0             0.141531  ...            0.072867       -0.090092   \nOperator               0.027351  ...            0.022396       -0.010527   \nFormation              0.068593  ...            0.087890       -0.187595   \nLateral Length         0.207519  ...            0.126958       -0.135229   \nStages                 0.471214  ...            0.290108       -0.224938   \nTownship              -0.013354  ...           -0.018412        0.026258   \nRange                  0.193712  ...            0.083581       -0.014247   \nSection                0.014576  ...            0.016675       -0.012705   \nTotal Prop, lbs        0.671173  ...            0.256297       -0.206224   \nFluid, bbls            1.000000  ...            0.310208       -0.213262   \nDate Fracd             0.168537  ...            0.130844       -0.137440   \nBest1 Mo BOPD          0.193036  ...            0.067857       -0.164380   \nBest3 Mo BOPD          0.200793  ...            0.062533       -0.167810   \nBest6 Mo BOPD          0.209223  ...            0.058673       -0.164915   \nBest9 Mo BOPD          0.207627  ...            0.048347       -0.160431   \nBest12 Mo BOPD         0.200104  ...            0.037632       -0.160620   \nLatitude              -0.013505  ...           -0.018984        0.026733   \nLongitude             -0.185686  ...           -0.080042        0.020394   \nFluid Type from DI     0.310208  ...            1.000000       -0.179560   \nSPACING_CAPPED        -0.213262  ...           -0.179560        1.000000   \n12 month Cum Prod      0.281894  ...            0.123941       -0.180903   \nCompletion Type        0.406266  ...            0.165412       -0.109075   \nSleeves                0.378290  ...            0.216875       -0.266683   \nP&P                    0.471592  ...            0.268766       -0.141725   \nFrac Ports             0.573886  ...            0.240563             NaN   \nRepeater Ports        -0.105409  ...                 NaN             NaN   \nCT                    -0.019139  ...            0.186375       -0.156447   \nYear Drilled           0.498299  ...            0.451402       -0.329532   \n\n                    12 month Cum Prod  Completion Type   Sleeves       P&P  \\\nUnnamed: 0                   0.097114         0.133933  0.151749  0.125591   \nOperator                     0.090942        -0.103549 -0.003509  0.097335   \nFormation                   -0.073161         0.041463  0.124298  0.013674   \nLateral Length               0.120099         0.008181  0.286365  0.303404   \nStages                       0.242970         0.197106  0.886579  0.876172   \nTownship                    -0.119089         0.057745  0.074185  0.013643   \nRange                       -0.110660         0.088334  0.094662  0.121660   \nSection                      0.007134         0.008297  0.028297  0.006999   \nTotal Prop, lbs              0.307798         0.364320  0.391270  0.469789   \nFluid, bbls                  0.281894         0.406266  0.378290  0.471592   \nDate Fracd                   0.168156         0.193098  0.060677  0.073252   \nBest1 Mo BOPD                0.726456         0.121693  0.129416  0.133937   \nBest3 Mo BOPD                0.810152         0.131793  0.112321  0.144026   \nBest6 Mo BOPD                0.878590         0.144780  0.087285  0.157514   \nBest9 Mo BOPD                0.909820         0.146780  0.076212  0.159222   \nBest12 Mo BOPD               0.915567         0.144683  0.068162  0.153733   \nLatitude                    -0.116349         0.055652  0.069179  0.013844   \nLongitude                    0.118575        -0.096386 -0.111529 -0.112914   \nFluid Type from DI           0.123941         0.165412  0.216875  0.268766   \nSPACING_CAPPED              -0.180903        -0.109075 -0.266683 -0.141725   \n12 month Cum Prod            1.000000         0.179281  0.134486  0.235428   \nCompletion Type              0.179281         1.000000 -0.227600 -0.281309   \nSleeves                      0.134486        -0.227600  1.000000 -0.164216   \nP&P                          0.235428        -0.281309 -0.164216  1.000000   \nFrac Ports                   0.165025        -0.675837       NaN -0.791155   \nRepeater Ports              -0.948683        -0.816497       NaN       NaN   \nCT                           0.382780        -0.366900       NaN       NaN   \nYear Drilled                 0.228674         0.247197  0.514403  0.389432   \n\n                    Frac Ports  Repeater Ports        CT  Year Drilled  \nUnnamed: 0           -0.462069        0.527046  0.153112      0.160334  \nOperator                   NaN             NaN  0.240192      0.021895  \nFormation            -0.404069        0.666667 -0.236525      0.161090  \nLateral Length        0.024845        0.737865  0.382780      0.226446  \nStages                0.234765        0.125988  1.000000      0.522863  \nTownship             -0.564815        0.527046 -0.156795     -0.028170  \nRange                 0.344016        0.471405  0.198583      0.120057  \nSection               0.250313       -0.316228  0.019913      0.023110  \nTotal Prop, lbs       0.346552        0.316228 -0.114834      0.466560  \nFluid, bbls           0.573886       -0.105409 -0.019139      0.498299  \nDate Fracd            0.033005        0.527046  0.210529      0.274619  \nBest1 Mo BOPD         0.165025       -0.737865  0.382780      0.150646  \nBest3 Mo BOPD         0.165025       -0.527046  0.344502      0.150682  \nBest6 Mo BOPD         0.165025       -0.737865  0.419896      0.147175  \nBest9 Mo BOPD         0.148522       -0.948683  0.478921      0.132098  \nBest12 Mo BOPD        0.165025       -0.948683  0.487950      0.113670  \nLatitude             -0.511576        0.527046 -0.191390     -0.028981  \nLongitude            -0.363054       -0.316228 -0.191390     -0.116980  \nFluid Type from DI    0.240563             NaN  0.186375      0.451402  \nSPACING_CAPPED             NaN             NaN -0.156447     -0.329532  \n12 month Cum Prod     0.165025       -0.948683  0.382780      0.228674  \nCompletion Type      -0.675837       -0.816497 -0.366900      0.247197  \nSleeves                    NaN             NaN       NaN      0.514403  \nP&P                  -0.791155             NaN       NaN      0.389432  \nFrac Ports            1.000000       -0.816497       NaN      0.414644  \nRepeater Ports       -0.816497        1.000000       NaN     -0.333333  \nCT                         NaN             NaN  1.000000      0.254514  \nYear Drilled          0.414644       -0.333333  0.254514      1.000000  \n\n[28 rows x 28 columns]",
      "text/html": "<div>\n<style scoped>\n    .dataframe tbody tr th:only-of-type {\n        vertical-align: middle;\n    }\n\n    .dataframe tbody tr th {\n        vertical-align: top;\n    }\n\n    .dataframe thead th {\n        text-align: right;\n    }\n</style>\n<table border=\"1\" class=\"dataframe\">\n  <thead>\n    <tr style=\"text-align: right;\">\n      <th></th>\n      <th>Unnamed: 0</th>\n      <th>Operator</th>\n      <th>Formation</th>\n      <th>Lateral Length</th>\n      <th>Stages</th>\n      <th>Township</th>\n      <th>Range</th>\n      <th>Section</th>\n      <th>Total Prop, lbs</th>\n      <th>Fluid, bbls</th>\n      <th>...</th>\n      <th>Fluid Type from DI</th>\n      <th>SPACING_CAPPED</th>\n      <th>12 month Cum Prod</th>\n      <th>Completion Type</th>\n      <th>Sleeves</th>\n      <th>P&amp;P</th>\n      <th>Frac Ports</th>\n      <th>Repeater Ports</th>\n      <th>CT</th>\n      <th>Year Drilled</th>\n    </tr>\n  </thead>\n  <tbody>\n    <tr>\n      <td>Unnamed: 0</td>\n      <td>1.000000</td>\n      <td>0.007680</td>\n      <td>-0.038347</td>\n      <td>0.052686</td>\n      <td>0.168437</td>\n      <td>0.358195</td>\n      <td>0.004109</td>\n      <td>-0.033591</td>\n      <td>0.167874</td>\n      <td>0.141531</td>\n      <td>...</td>\n      <td>0.072867</td>\n      <td>-0.090092</td>\n      <td>0.097114</td>\n      <td>0.133933</td>\n      <td>0.151749</td>\n      <td>0.125591</td>\n      <td>-0.462069</td>\n      <td>0.527046</td>\n      <td>0.153112</td>\n      <td>0.160334</td>\n    </tr>\n    <tr>\n      <td>Operator</td>\n      <td>0.007680</td>\n      <td>1.000000</td>\n      <td>-0.060192</td>\n      <td>-0.044400</td>\n      <td>0.047048</td>\n      <td>-0.050883</td>\n      <td>-0.053807</td>\n      <td>0.017867</td>\n      <td>0.054267</td>\n      <td>0.027351</td>\n      <td>...</td>\n      <td>0.022396</td>\n      <td>-0.010527</td>\n      <td>0.090942</td>\n      <td>-0.103549</td>\n      <td>-0.003509</td>\n      <td>0.097335</td>\n      <td>NaN</td>\n      <td>NaN</td>\n      <td>0.240192</td>\n      <td>0.021895</td>\n    </tr>\n    <tr>\n      <td>Formation</td>\n      <td>-0.038347</td>\n      <td>-0.060192</td>\n      <td>1.000000</td>\n      <td>0.093597</td>\n      <td>0.085921</td>\n      <td>0.013116</td>\n      <td>0.039930</td>\n      <td>0.009167</td>\n      <td>0.026469</td>\n      <td>0.068593</td>\n      <td>...</td>\n      <td>0.087890</td>\n      <td>-0.187595</td>\n      <td>-0.073161</td>\n      <td>0.041463</td>\n      <td>0.124298</td>\n      <td>0.013674</td>\n      <td>-0.404069</td>\n      <td>0.666667</td>\n      <td>-0.236525</td>\n      <td>0.161090</td>\n    </tr>\n    <tr>\n      <td>Lateral Length</td>\n      <td>0.052686</td>\n      <td>-0.044400</td>\n      <td>0.093597</td>\n      <td>1.000000</td>\n      <td>0.309936</td>\n      <td>0.012854</td>\n      <td>0.125361</td>\n      <td>-0.020888</td>\n      <td>0.222342</td>\n      <td>0.207519</td>\n      <td>...</td>\n      <td>0.126958</td>\n      <td>-0.135229</td>\n      <td>0.120099</td>\n      <td>0.008181</td>\n      <td>0.286365</td>\n      <td>0.303404</td>\n      <td>0.024845</td>\n      <td>0.737865</td>\n      <td>0.382780</td>\n      <td>0.226446</td>\n    </tr>\n    <tr>\n      <td>Stages</td>\n      <td>0.168437</td>\n      <td>0.047048</td>\n      <td>0.085921</td>\n      <td>0.309936</td>\n      <td>1.000000</td>\n      <td>0.037471</td>\n      <td>0.115880</td>\n      <td>0.020303</td>\n      <td>0.502807</td>\n      <td>0.471214</td>\n      <td>...</td>\n      <td>0.290108</td>\n      <td>-0.224938</td>\n      <td>0.242970</td>\n      <td>0.197106</td>\n      <td>0.886579</td>\n      <td>0.876172</td>\n      <td>0.234765</td>\n      <td>0.125988</td>\n      <td>1.000000</td>\n      <td>0.522863</td>\n    </tr>\n    <tr>\n      <td>Township</td>\n      <td>0.358195</td>\n      <td>-0.050883</td>\n      <td>0.013116</td>\n      <td>0.012854</td>\n      <td>0.037471</td>\n      <td>1.000000</td>\n      <td>-0.016345</td>\n      <td>0.017285</td>\n      <td>0.006452</td>\n      <td>-0.013354</td>\n      <td>...</td>\n      <td>-0.018412</td>\n      <td>0.026258</td>\n      <td>-0.119089</td>\n      <td>0.057745</td>\n      <td>0.074185</td>\n      <td>0.013643</td>\n      <td>-0.564815</td>\n      <td>0.527046</td>\n      <td>-0.156795</td>\n      <td>-0.028170</td>\n    </tr>\n    <tr>\n      <td>Range</td>\n      <td>0.004109</td>\n      <td>-0.053807</td>\n      <td>0.039930</td>\n      <td>0.125361</td>\n      <td>0.115880</td>\n      <td>-0.016345</td>\n      <td>1.000000</td>\n      <td>-0.014719</td>\n      <td>0.094244</td>\n      <td>0.193712</td>\n      <td>...</td>\n      <td>0.083581</td>\n      <td>-0.014247</td>\n      <td>-0.110660</td>\n      <td>0.088334</td>\n      <td>0.094662</td>\n      <td>0.121660</td>\n      <td>0.344016</td>\n      <td>0.471405</td>\n      <td>0.198583</td>\n      <td>0.120057</td>\n    </tr>\n    <tr>\n      <td>Section</td>\n      <td>-0.033591</td>\n      <td>0.017867</td>\n      <td>0.009167</td>\n      <td>-0.020888</td>\n      <td>0.020303</td>\n      <td>0.017285</td>\n      <td>-0.014719</td>\n      <td>1.000000</td>\n      <td>0.017026</td>\n      <td>0.014576</td>\n      <td>...</td>\n      <td>0.016675</td>\n      <td>-0.012705</td>\n      <td>0.007134</td>\n      <td>0.008297</td>\n      <td>0.028297</td>\n      <td>0.006999</td>\n      <td>0.250313</td>\n      <td>-0.316228</td>\n      <td>0.019913</td>\n      <td>0.023110</td>\n    </tr>\n    <tr>\n      <td>Total Prop, lbs</td>\n      <td>0.167874</td>\n      <td>0.054267</td>\n      <td>0.026469</td>\n      <td>0.222342</td>\n      <td>0.502807</td>\n      <td>0.006452</td>\n      <td>0.094244</td>\n      <td>0.017026</td>\n      <td>1.000000</td>\n      <td>0.671173</td>\n      <td>...</td>\n      <td>0.256297</td>\n      <td>-0.206224</td>\n      <td>0.307798</td>\n      <td>0.364320</td>\n      <td>0.391270</td>\n      <td>0.469789</td>\n      <td>0.346552</td>\n      <td>0.316228</td>\n      <td>-0.114834</td>\n      <td>0.466560</td>\n    </tr>\n    <tr>\n      <td>Fluid, bbls</td>\n      <td>0.141531</td>\n      <td>0.027351</td>\n      <td>0.068593</td>\n      <td>0.207519</td>\n      <td>0.471214</td>\n      <td>-0.013354</td>\n      <td>0.193712</td>\n      <td>0.014576</td>\n      <td>0.671173</td>\n      <td>1.000000</td>\n      <td>...</td>\n      <td>0.310208</td>\n      <td>-0.213262</td>\n      <td>0.281894</td>\n      <td>0.406266</td>\n      <td>0.378290</td>\n      <td>0.471592</td>\n      <td>0.573886</td>\n      <td>-0.105409</td>\n      <td>-0.019139</td>\n      <td>0.498299</td>\n    </tr>\n    <tr>\n      <td>Date Fracd</td>\n      <td>0.254967</td>\n      <td>0.024475</td>\n      <td>-0.002380</td>\n      <td>0.033752</td>\n      <td>0.156302</td>\n      <td>0.002393</td>\n      <td>-0.036389</td>\n      <td>-0.001078</td>\n      <td>0.181696</td>\n      <td>0.168537</td>\n      <td>...</td>\n      <td>0.130844</td>\n      <td>-0.137440</td>\n      <td>0.168156</td>\n      <td>0.193098</td>\n      <td>0.060677</td>\n      <td>0.073252</td>\n      <td>0.033005</td>\n      <td>0.527046</td>\n      <td>0.210529</td>\n      <td>0.274619</td>\n    </tr>\n    <tr>\n      <td>Best1 Mo BOPD</td>\n      <td>0.084968</td>\n      <td>0.108099</td>\n      <td>-0.103639</td>\n      <td>0.095635</td>\n      <td>0.177771</td>\n      <td>-0.122942</td>\n      <td>-0.085576</td>\n      <td>0.012530</td>\n      <td>0.219196</td>\n      <td>0.193036</td>\n      <td>...</td>\n      <td>0.067857</td>\n      <td>-0.164380</td>\n      <td>0.726456</td>\n      <td>0.121693</td>\n      <td>0.129416</td>\n      <td>0.133937</td>\n      <td>0.165025</td>\n      <td>-0.737865</td>\n      <td>0.382780</td>\n      <td>0.150646</td>\n    </tr>\n    <tr>\n      <td>Best3 Mo BOPD</td>\n      <td>0.086246</td>\n      <td>0.105517</td>\n      <td>-0.104004</td>\n      <td>0.096264</td>\n      <td>0.172709</td>\n      <td>-0.117739</td>\n      <td>-0.101709</td>\n      <td>0.010970</td>\n      <td>0.227002</td>\n      <td>0.200793</td>\n      <td>...</td>\n      <td>0.062533</td>\n      <td>-0.167810</td>\n      <td>0.810152</td>\n      <td>0.131793</td>\n      <td>0.112321</td>\n      <td>0.144026</td>\n      <td>0.165025</td>\n      <td>-0.527046</td>\n      <td>0.344502</td>\n      <td>0.150682</td>\n    </tr>\n    <tr>\n      <td>Best6 Mo BOPD</td>\n      <td>0.092149</td>\n      <td>0.103043</td>\n      <td>-0.105084</td>\n      <td>0.093617</td>\n      <td>0.166510</td>\n      <td>-0.113522</td>\n      <td>-0.118404</td>\n      <td>0.009663</td>\n      <td>0.233923</td>\n      <td>0.209223</td>\n      <td>...</td>\n      <td>0.058673</td>\n      <td>-0.164915</td>\n      <td>0.878590</td>\n      <td>0.144780</td>\n      <td>0.087285</td>\n      <td>0.157514</td>\n      <td>0.165025</td>\n      <td>-0.737865</td>\n      <td>0.419896</td>\n      <td>0.147175</td>\n    </tr>\n    <tr>\n      <td>Best9 Mo BOPD</td>\n      <td>0.101689</td>\n      <td>0.108895</td>\n      <td>-0.109192</td>\n      <td>0.093220</td>\n      <td>0.162161</td>\n      <td>-0.106005</td>\n      <td>-0.124791</td>\n      <td>0.005765</td>\n      <td>0.232325</td>\n      <td>0.207627</td>\n      <td>...</td>\n      <td>0.048347</td>\n      <td>-0.160431</td>\n      <td>0.909820</td>\n      <td>0.146780</td>\n      <td>0.076212</td>\n      <td>0.159222</td>\n      <td>0.148522</td>\n      <td>-0.948683</td>\n      <td>0.478921</td>\n      <td>0.132098</td>\n    </tr>\n    <tr>\n      <td>Best12 Mo BOPD</td>\n      <td>0.107112</td>\n      <td>0.109369</td>\n      <td>-0.108429</td>\n      <td>0.094011</td>\n      <td>0.155649</td>\n      <td>-0.098384</td>\n      <td>-0.134474</td>\n      <td>0.003652</td>\n      <td>0.226341</td>\n      <td>0.200104</td>\n      <td>...</td>\n      <td>0.037632</td>\n      <td>-0.160620</td>\n      <td>0.915567</td>\n      <td>0.144683</td>\n      <td>0.068162</td>\n      <td>0.153733</td>\n      <td>0.165025</td>\n      <td>-0.948683</td>\n      <td>0.487950</td>\n      <td>0.113670</td>\n    </tr>\n    <tr>\n      <td>Latitude</td>\n      <td>0.352100</td>\n      <td>-0.051736</td>\n      <td>0.012107</td>\n      <td>0.014574</td>\n      <td>0.035094</td>\n      <td>0.967689</td>\n      <td>-0.012843</td>\n      <td>-0.036827</td>\n      <td>0.005248</td>\n      <td>-0.013505</td>\n      <td>...</td>\n      <td>-0.018984</td>\n      <td>0.026733</td>\n      <td>-0.116349</td>\n      <td>0.055652</td>\n      <td>0.069179</td>\n      <td>0.013844</td>\n      <td>-0.511576</td>\n      <td>0.527046</td>\n      <td>-0.191390</td>\n      <td>-0.028981</td>\n    </tr>\n    <tr>\n      <td>Longitude</td>\n      <td>-0.028989</td>\n      <td>0.066508</td>\n      <td>-0.044548</td>\n      <td>-0.123547</td>\n      <td>-0.116569</td>\n      <td>-0.081553</td>\n      <td>-0.913127</td>\n      <td>0.011810</td>\n      <td>-0.092848</td>\n      <td>-0.185686</td>\n      <td>...</td>\n      <td>-0.080042</td>\n      <td>0.020394</td>\n      <td>0.118575</td>\n      <td>-0.096386</td>\n      <td>-0.111529</td>\n      <td>-0.112914</td>\n      <td>-0.363054</td>\n      <td>-0.316228</td>\n      <td>-0.191390</td>\n      <td>-0.116980</td>\n    </tr>\n    <tr>\n      <td>Fluid Type from DI</td>\n      <td>0.072867</td>\n      <td>0.022396</td>\n      <td>0.087890</td>\n      <td>0.126958</td>\n      <td>0.290108</td>\n      <td>-0.018412</td>\n      <td>0.083581</td>\n      <td>0.016675</td>\n      <td>0.256297</td>\n      <td>0.310208</td>\n      <td>...</td>\n      <td>1.000000</td>\n      <td>-0.179560</td>\n      <td>0.123941</td>\n      <td>0.165412</td>\n      <td>0.216875</td>\n      <td>0.268766</td>\n      <td>0.240563</td>\n      <td>NaN</td>\n      <td>0.186375</td>\n      <td>0.451402</td>\n    </tr>\n    <tr>\n      <td>SPACING_CAPPED</td>\n      <td>-0.090092</td>\n      <td>-0.010527</td>\n      <td>-0.187595</td>\n      <td>-0.135229</td>\n      <td>-0.224938</td>\n      <td>0.026258</td>\n      <td>-0.014247</td>\n      <td>-0.012705</td>\n      <td>-0.206224</td>\n      <td>-0.213262</td>\n      <td>...</td>\n      <td>-0.179560</td>\n      <td>1.000000</td>\n      <td>-0.180903</td>\n      <td>-0.109075</td>\n      <td>-0.266683</td>\n      <td>-0.141725</td>\n      <td>NaN</td>\n      <td>NaN</td>\n      <td>-0.156447</td>\n      <td>-0.329532</td>\n    </tr>\n    <tr>\n      <td>12 month Cum Prod</td>\n      <td>0.097114</td>\n      <td>0.090942</td>\n      <td>-0.073161</td>\n      <td>0.120099</td>\n      <td>0.242970</td>\n      <td>-0.119089</td>\n      <td>-0.110660</td>\n      <td>0.007134</td>\n      <td>0.307798</td>\n      <td>0.281894</td>\n      <td>...</td>\n      <td>0.123941</td>\n      <td>-0.180903</td>\n      <td>1.000000</td>\n      <td>0.179281</td>\n      <td>0.134486</td>\n      <td>0.235428</td>\n      <td>0.165025</td>\n      <td>-0.948683</td>\n      <td>0.382780</td>\n      <td>0.228674</td>\n    </tr>\n    <tr>\n      <td>Completion Type</td>\n      <td>0.133933</td>\n      <td>-0.103549</td>\n      <td>0.041463</td>\n      <td>0.008181</td>\n      <td>0.197106</td>\n      <td>0.057745</td>\n      <td>0.088334</td>\n      <td>0.008297</td>\n      <td>0.364320</td>\n      <td>0.406266</td>\n      <td>...</td>\n      <td>0.165412</td>\n      <td>-0.109075</td>\n      <td>0.179281</td>\n      <td>1.000000</td>\n      <td>-0.227600</td>\n      <td>-0.281309</td>\n      <td>-0.675837</td>\n      <td>-0.816497</td>\n      <td>-0.366900</td>\n      <td>0.247197</td>\n    </tr>\n    <tr>\n      <td>Sleeves</td>\n      <td>0.151749</td>\n      <td>-0.003509</td>\n      <td>0.124298</td>\n      <td>0.286365</td>\n      <td>0.886579</td>\n      <td>0.074185</td>\n      <td>0.094662</td>\n      <td>0.028297</td>\n      <td>0.391270</td>\n      <td>0.378290</td>\n      <td>...</td>\n      <td>0.216875</td>\n      <td>-0.266683</td>\n      <td>0.134486</td>\n      <td>-0.227600</td>\n      <td>1.000000</td>\n      <td>-0.164216</td>\n      <td>NaN</td>\n      <td>NaN</td>\n      <td>NaN</td>\n      <td>0.514403</td>\n    </tr>\n    <tr>\n      <td>P&amp;P</td>\n      <td>0.125591</td>\n      <td>0.097335</td>\n      <td>0.013674</td>\n      <td>0.303404</td>\n      <td>0.876172</td>\n      <td>0.013643</td>\n      <td>0.121660</td>\n      <td>0.006999</td>\n      <td>0.469789</td>\n      <td>0.471592</td>\n      <td>...</td>\n      <td>0.268766</td>\n      <td>-0.141725</td>\n      <td>0.235428</td>\n      <td>-0.281309</td>\n      <td>-0.164216</td>\n      <td>1.000000</td>\n      <td>-0.791155</td>\n      <td>NaN</td>\n      <td>NaN</td>\n      <td>0.389432</td>\n    </tr>\n    <tr>\n      <td>Frac Ports</td>\n      <td>-0.462069</td>\n      <td>NaN</td>\n      <td>-0.404069</td>\n      <td>0.024845</td>\n      <td>0.234765</td>\n      <td>-0.564815</td>\n      <td>0.344016</td>\n      <td>0.250313</td>\n      <td>0.346552</td>\n      <td>0.573886</td>\n      <td>...</td>\n      <td>0.240563</td>\n      <td>NaN</td>\n      <td>0.165025</td>\n      <td>-0.675837</td>\n      <td>NaN</td>\n      <td>-0.791155</td>\n      <td>1.000000</td>\n      <td>-0.816497</td>\n      <td>NaN</td>\n      <td>0.414644</td>\n    </tr>\n    <tr>\n      <td>Repeater Ports</td>\n      <td>0.527046</td>\n      <td>NaN</td>\n      <td>0.666667</td>\n      <td>0.737865</td>\n      <td>0.125988</td>\n      <td>0.527046</td>\n      <td>0.471405</td>\n      <td>-0.316228</td>\n      <td>0.316228</td>\n      <td>-0.105409</td>\n      <td>...</td>\n      <td>NaN</td>\n      <td>NaN</td>\n      <td>-0.948683</td>\n      <td>-0.816497</td>\n      <td>NaN</td>\n      <td>NaN</td>\n      <td>-0.816497</td>\n      <td>1.000000</td>\n      <td>NaN</td>\n      <td>-0.333333</td>\n    </tr>\n    <tr>\n      <td>CT</td>\n      <td>0.153112</td>\n      <td>0.240192</td>\n      <td>-0.236525</td>\n      <td>0.382780</td>\n      <td>1.000000</td>\n      <td>-0.156795</td>\n      <td>0.198583</td>\n      <td>0.019913</td>\n      <td>-0.114834</td>\n      <td>-0.019139</td>\n      <td>...</td>\n      <td>0.186375</td>\n      <td>-0.156447</td>\n      <td>0.382780</td>\n      <td>-0.366900</td>\n      <td>NaN</td>\n      <td>NaN</td>\n      <td>NaN</td>\n      <td>NaN</td>\n      <td>1.000000</td>\n      <td>0.254514</td>\n    </tr>\n    <tr>\n      <td>Year Drilled</td>\n      <td>0.160334</td>\n      <td>0.021895</td>\n      <td>0.161090</td>\n      <td>0.226446</td>\n      <td>0.522863</td>\n      <td>-0.028170</td>\n      <td>0.120057</td>\n      <td>0.023110</td>\n      <td>0.466560</td>\n      <td>0.498299</td>\n      <td>...</td>\n      <td>0.451402</td>\n      <td>-0.329532</td>\n      <td>0.228674</td>\n      <td>0.247197</td>\n      <td>0.514403</td>\n      <td>0.389432</td>\n      <td>0.414644</td>\n      <td>-0.333333</td>\n      <td>0.254514</td>\n      <td>1.000000</td>\n    </tr>\n  </tbody>\n</table>\n<p>28 rows × 28 columns</p>\n</div>"
     },
     "metadata": {},
     "execution_count": 218
    }
   ],
   "source": [
    "#finding Pearson's correlation coefficient for each feature\n",
    "kendall_correlation = DatabaseDF.corr(method = 'kendall')\n",
    "kendall_correlation"
   ]
  },
  {
   "cell_type": "code",
   "execution_count": 219,
   "metadata": {},
   "outputs": [
    {
     "output_type": "execute_result",
     "data": {
      "text/plain": "Unnamed: 0            0.097114\nOperator              0.090942\nFormation            -0.073161\nLateral Length        0.120099\nStages                0.242970\nTownship             -0.119089\nRange                -0.110660\nSection               0.007134\nTotal Prop, lbs       0.307798\nFluid, bbls           0.281894\nDate Fracd            0.168156\nBest1 Mo BOPD         0.726456\nBest3 Mo BOPD         0.810152\nBest6 Mo BOPD         0.878590\nBest9 Mo BOPD         0.909820\nBest12 Mo BOPD        0.915567\nLatitude             -0.116349\nLongitude             0.118575\nFluid Type from DI    0.123941\nSPACING_CAPPED       -0.180903\n12 month Cum Prod     1.000000\nCompletion Type       0.179281\nSleeves               0.134486\nP&P                   0.235428\nFrac Ports            0.165025\nRepeater Ports       -0.948683\nCT                    0.382780\nYear Drilled          0.228674\nName: 12 month Cum Prod, dtype: float64"
     },
     "metadata": {},
     "execution_count": 219
    }
   ],
   "source": [
    "#Printing the correlation to Cumulative Production specifically\n",
    "kendall_correlation['12 month Cum Prod']"
   ]
  },
  {
   "cell_type": "markdown",
   "metadata": {},
   "source": [
    "### First set of variables"
   ]
  },
  {
   "cell_type": "code",
   "execution_count": 194,
   "metadata": {},
   "outputs": [],
   "source": [
    "#Features that are being compared\n",
    "features = ['Lateral Length', 'Stages', 'Fluid, bbls', 'Total Prop, lbs', 'Longitude']\n",
    "#Radius values for each variable\n",
    "radius_values = []\n",
    "for i in features:\n",
    "        radius_values.append(kendall_correlation.at[i, '12 month Cum Prod'])"
   ]
  },
  {
   "cell_type": "code",
   "execution_count": 197,
   "metadata": {},
   "outputs": [
    {
     "output_type": "display_data",
     "data": {
      "application/vnd.plotly.v1+json": {
       "config": {
        "plotlyServerURL": "https://plot.ly"
       },
       "data": [
        {
         "fill": "toself",
         "hovertemplate": "r=%{r}<br>theta=%{theta}<extra></extra>",
         "legendgroup": "",
         "line": {
          "color": "#636efa",
          "dash": "solid"
         },
         "mode": "lines",
         "name": "",
         "r": [
          0.12009911598654714,
          0.24296991246052596,
          0.28189351866605994,
          0.3077980336249716,
          0.11857450351303943,
          0.12009911598654714
         ],
         "showlegend": false,
         "subplot": "polar",
         "theta": [
          "Lateral Length",
          "Stages",
          "Fluid, bbls",
          "Total Prop, lbs",
          "Longitude",
          "Lateral Length"
         ],
         "type": "scatterpolar"
        }
       ],
       "layout": {
        "legend": {
         "tracegroupgap": 0
        },
        "margin": {
         "t": 60
        },
        "polar": {
         "angularaxis": {
          "direction": "clockwise",
          "rotation": 90
         },
         "domain": {
          "x": [
           0,
           1
          ],
          "y": [
           0,
           1
          ]
         }
        },
        "template": {
         "data": {
          "bar": [
           {
            "error_x": {
             "color": "#2a3f5f"
            },
            "error_y": {
             "color": "#2a3f5f"
            },
            "marker": {
             "line": {
              "color": "#E5ECF6",
              "width": 0.5
             }
            },
            "type": "bar"
           }
          ],
          "barpolar": [
           {
            "marker": {
             "line": {
              "color": "#E5ECF6",
              "width": 0.5
             }
            },
            "type": "barpolar"
           }
          ],
          "carpet": [
           {
            "aaxis": {
             "endlinecolor": "#2a3f5f",
             "gridcolor": "white",
             "linecolor": "white",
             "minorgridcolor": "white",
             "startlinecolor": "#2a3f5f"
            },
            "baxis": {
             "endlinecolor": "#2a3f5f",
             "gridcolor": "white",
             "linecolor": "white",
             "minorgridcolor": "white",
             "startlinecolor": "#2a3f5f"
            },
            "type": "carpet"
           }
          ],
          "choropleth": [
           {
            "colorbar": {
             "outlinewidth": 0,
             "ticks": ""
            },
            "type": "choropleth"
           }
          ],
          "contour": [
           {
            "colorbar": {
             "outlinewidth": 0,
             "ticks": ""
            },
            "colorscale": [
             [
              0,
              "#0d0887"
             ],
             [
              0.1111111111111111,
              "#46039f"
             ],
             [
              0.2222222222222222,
              "#7201a8"
             ],
             [
              0.3333333333333333,
              "#9c179e"
             ],
             [
              0.4444444444444444,
              "#bd3786"
             ],
             [
              0.5555555555555556,
              "#d8576b"
             ],
             [
              0.6666666666666666,
              "#ed7953"
             ],
             [
              0.7777777777777778,
              "#fb9f3a"
             ],
             [
              0.8888888888888888,
              "#fdca26"
             ],
             [
              1,
              "#f0f921"
             ]
            ],
            "type": "contour"
           }
          ],
          "contourcarpet": [
           {
            "colorbar": {
             "outlinewidth": 0,
             "ticks": ""
            },
            "type": "contourcarpet"
           }
          ],
          "heatmap": [
           {
            "colorbar": {
             "outlinewidth": 0,
             "ticks": ""
            },
            "colorscale": [
             [
              0,
              "#0d0887"
             ],
             [
              0.1111111111111111,
              "#46039f"
             ],
             [
              0.2222222222222222,
              "#7201a8"
             ],
             [
              0.3333333333333333,
              "#9c179e"
             ],
             [
              0.4444444444444444,
              "#bd3786"
             ],
             [
              0.5555555555555556,
              "#d8576b"
             ],
             [
              0.6666666666666666,
              "#ed7953"
             ],
             [
              0.7777777777777778,
              "#fb9f3a"
             ],
             [
              0.8888888888888888,
              "#fdca26"
             ],
             [
              1,
              "#f0f921"
             ]
            ],
            "type": "heatmap"
           }
          ],
          "heatmapgl": [
           {
            "colorbar": {
             "outlinewidth": 0,
             "ticks": ""
            },
            "colorscale": [
             [
              0,
              "#0d0887"
             ],
             [
              0.1111111111111111,
              "#46039f"
             ],
             [
              0.2222222222222222,
              "#7201a8"
             ],
             [
              0.3333333333333333,
              "#9c179e"
             ],
             [
              0.4444444444444444,
              "#bd3786"
             ],
             [
              0.5555555555555556,
              "#d8576b"
             ],
             [
              0.6666666666666666,
              "#ed7953"
             ],
             [
              0.7777777777777778,
              "#fb9f3a"
             ],
             [
              0.8888888888888888,
              "#fdca26"
             ],
             [
              1,
              "#f0f921"
             ]
            ],
            "type": "heatmapgl"
           }
          ],
          "histogram": [
           {
            "marker": {
             "colorbar": {
              "outlinewidth": 0,
              "ticks": ""
             }
            },
            "type": "histogram"
           }
          ],
          "histogram2d": [
           {
            "colorbar": {
             "outlinewidth": 0,
             "ticks": ""
            },
            "colorscale": [
             [
              0,
              "#0d0887"
             ],
             [
              0.1111111111111111,
              "#46039f"
             ],
             [
              0.2222222222222222,
              "#7201a8"
             ],
             [
              0.3333333333333333,
              "#9c179e"
             ],
             [
              0.4444444444444444,
              "#bd3786"
             ],
             [
              0.5555555555555556,
              "#d8576b"
             ],
             [
              0.6666666666666666,
              "#ed7953"
             ],
             [
              0.7777777777777778,
              "#fb9f3a"
             ],
             [
              0.8888888888888888,
              "#fdca26"
             ],
             [
              1,
              "#f0f921"
             ]
            ],
            "type": "histogram2d"
           }
          ],
          "histogram2dcontour": [
           {
            "colorbar": {
             "outlinewidth": 0,
             "ticks": ""
            },
            "colorscale": [
             [
              0,
              "#0d0887"
             ],
             [
              0.1111111111111111,
              "#46039f"
             ],
             [
              0.2222222222222222,
              "#7201a8"
             ],
             [
              0.3333333333333333,
              "#9c179e"
             ],
             [
              0.4444444444444444,
              "#bd3786"
             ],
             [
              0.5555555555555556,
              "#d8576b"
             ],
             [
              0.6666666666666666,
              "#ed7953"
             ],
             [
              0.7777777777777778,
              "#fb9f3a"
             ],
             [
              0.8888888888888888,
              "#fdca26"
             ],
             [
              1,
              "#f0f921"
             ]
            ],
            "type": "histogram2dcontour"
           }
          ],
          "mesh3d": [
           {
            "colorbar": {
             "outlinewidth": 0,
             "ticks": ""
            },
            "type": "mesh3d"
           }
          ],
          "parcoords": [
           {
            "line": {
             "colorbar": {
              "outlinewidth": 0,
              "ticks": ""
             }
            },
            "type": "parcoords"
           }
          ],
          "pie": [
           {
            "automargin": true,
            "type": "pie"
           }
          ],
          "scatter": [
           {
            "marker": {
             "colorbar": {
              "outlinewidth": 0,
              "ticks": ""
             }
            },
            "type": "scatter"
           }
          ],
          "scatter3d": [
           {
            "line": {
             "colorbar": {
              "outlinewidth": 0,
              "ticks": ""
             }
            },
            "marker": {
             "colorbar": {
              "outlinewidth": 0,
              "ticks": ""
             }
            },
            "type": "scatter3d"
           }
          ],
          "scattercarpet": [
           {
            "marker": {
             "colorbar": {
              "outlinewidth": 0,
              "ticks": ""
             }
            },
            "type": "scattercarpet"
           }
          ],
          "scattergeo": [
           {
            "marker": {
             "colorbar": {
              "outlinewidth": 0,
              "ticks": ""
             }
            },
            "type": "scattergeo"
           }
          ],
          "scattergl": [
           {
            "marker": {
             "colorbar": {
              "outlinewidth": 0,
              "ticks": ""
             }
            },
            "type": "scattergl"
           }
          ],
          "scattermapbox": [
           {
            "marker": {
             "colorbar": {
              "outlinewidth": 0,
              "ticks": ""
             }
            },
            "type": "scattermapbox"
           }
          ],
          "scatterpolar": [
           {
            "marker": {
             "colorbar": {
              "outlinewidth": 0,
              "ticks": ""
             }
            },
            "type": "scatterpolar"
           }
          ],
          "scatterpolargl": [
           {
            "marker": {
             "colorbar": {
              "outlinewidth": 0,
              "ticks": ""
             }
            },
            "type": "scatterpolargl"
           }
          ],
          "scatterternary": [
           {
            "marker": {
             "colorbar": {
              "outlinewidth": 0,
              "ticks": ""
             }
            },
            "type": "scatterternary"
           }
          ],
          "surface": [
           {
            "colorbar": {
             "outlinewidth": 0,
             "ticks": ""
            },
            "colorscale": [
             [
              0,
              "#0d0887"
             ],
             [
              0.1111111111111111,
              "#46039f"
             ],
             [
              0.2222222222222222,
              "#7201a8"
             ],
             [
              0.3333333333333333,
              "#9c179e"
             ],
             [
              0.4444444444444444,
              "#bd3786"
             ],
             [
              0.5555555555555556,
              "#d8576b"
             ],
             [
              0.6666666666666666,
              "#ed7953"
             ],
             [
              0.7777777777777778,
              "#fb9f3a"
             ],
             [
              0.8888888888888888,
              "#fdca26"
             ],
             [
              1,
              "#f0f921"
             ]
            ],
            "type": "surface"
           }
          ],
          "table": [
           {
            "cells": {
             "fill": {
              "color": "#EBF0F8"
             },
             "line": {
              "color": "white"
             }
            },
            "header": {
             "fill": {
              "color": "#C8D4E3"
             },
             "line": {
              "color": "white"
             }
            },
            "type": "table"
           }
          ]
         },
         "layout": {
          "annotationdefaults": {
           "arrowcolor": "#2a3f5f",
           "arrowhead": 0,
           "arrowwidth": 1
          },
          "coloraxis": {
           "colorbar": {
            "outlinewidth": 0,
            "ticks": ""
           }
          },
          "colorscale": {
           "diverging": [
            [
             0,
             "#8e0152"
            ],
            [
             0.1,
             "#c51b7d"
            ],
            [
             0.2,
             "#de77ae"
            ],
            [
             0.3,
             "#f1b6da"
            ],
            [
             0.4,
             "#fde0ef"
            ],
            [
             0.5,
             "#f7f7f7"
            ],
            [
             0.6,
             "#e6f5d0"
            ],
            [
             0.7,
             "#b8e186"
            ],
            [
             0.8,
             "#7fbc41"
            ],
            [
             0.9,
             "#4d9221"
            ],
            [
             1,
             "#276419"
            ]
           ],
           "sequential": [
            [
             0,
             "#0d0887"
            ],
            [
             0.1111111111111111,
             "#46039f"
            ],
            [
             0.2222222222222222,
             "#7201a8"
            ],
            [
             0.3333333333333333,
             "#9c179e"
            ],
            [
             0.4444444444444444,
             "#bd3786"
            ],
            [
             0.5555555555555556,
             "#d8576b"
            ],
            [
             0.6666666666666666,
             "#ed7953"
            ],
            [
             0.7777777777777778,
             "#fb9f3a"
            ],
            [
             0.8888888888888888,
             "#fdca26"
            ],
            [
             1,
             "#f0f921"
            ]
           ],
           "sequentialminus": [
            [
             0,
             "#0d0887"
            ],
            [
             0.1111111111111111,
             "#46039f"
            ],
            [
             0.2222222222222222,
             "#7201a8"
            ],
            [
             0.3333333333333333,
             "#9c179e"
            ],
            [
             0.4444444444444444,
             "#bd3786"
            ],
            [
             0.5555555555555556,
             "#d8576b"
            ],
            [
             0.6666666666666666,
             "#ed7953"
            ],
            [
             0.7777777777777778,
             "#fb9f3a"
            ],
            [
             0.8888888888888888,
             "#fdca26"
            ],
            [
             1,
             "#f0f921"
            ]
           ]
          },
          "colorway": [
           "#636efa",
           "#EF553B",
           "#00cc96",
           "#ab63fa",
           "#FFA15A",
           "#19d3f3",
           "#FF6692",
           "#B6E880",
           "#FF97FF",
           "#FECB52"
          ],
          "font": {
           "color": "#2a3f5f"
          },
          "geo": {
           "bgcolor": "white",
           "lakecolor": "white",
           "landcolor": "#E5ECF6",
           "showlakes": true,
           "showland": true,
           "subunitcolor": "white"
          },
          "hoverlabel": {
           "align": "left"
          },
          "hovermode": "closest",
          "mapbox": {
           "style": "light"
          },
          "paper_bgcolor": "white",
          "plot_bgcolor": "#E5ECF6",
          "polar": {
           "angularaxis": {
            "gridcolor": "white",
            "linecolor": "white",
            "ticks": ""
           },
           "bgcolor": "#E5ECF6",
           "radialaxis": {
            "gridcolor": "white",
            "linecolor": "white",
            "ticks": ""
           }
          },
          "scene": {
           "xaxis": {
            "backgroundcolor": "#E5ECF6",
            "gridcolor": "white",
            "gridwidth": 2,
            "linecolor": "white",
            "showbackground": true,
            "ticks": "",
            "zerolinecolor": "white"
           },
           "yaxis": {
            "backgroundcolor": "#E5ECF6",
            "gridcolor": "white",
            "gridwidth": 2,
            "linecolor": "white",
            "showbackground": true,
            "ticks": "",
            "zerolinecolor": "white"
           },
           "zaxis": {
            "backgroundcolor": "#E5ECF6",
            "gridcolor": "white",
            "gridwidth": 2,
            "linecolor": "white",
            "showbackground": true,
            "ticks": "",
            "zerolinecolor": "white"
           }
          },
          "shapedefaults": {
           "line": {
            "color": "#2a3f5f"
           }
          },
          "ternary": {
           "aaxis": {
            "gridcolor": "white",
            "linecolor": "white",
            "ticks": ""
           },
           "baxis": {
            "gridcolor": "white",
            "linecolor": "white",
            "ticks": ""
           },
           "bgcolor": "#E5ECF6",
           "caxis": {
            "gridcolor": "white",
            "linecolor": "white",
            "ticks": ""
           }
          },
          "title": {
           "x": 0.05
          },
          "xaxis": {
           "automargin": true,
           "gridcolor": "white",
           "linecolor": "white",
           "ticks": "",
           "title": {
            "standoff": 15
           },
           "zerolinecolor": "white",
           "zerolinewidth": 2
          },
          "yaxis": {
           "automargin": true,
           "gridcolor": "white",
           "linecolor": "white",
           "ticks": "",
           "title": {
            "standoff": 15
           },
           "zerolinecolor": "white",
           "zerolinewidth": 2
          }
         }
        }
       }
      }
     },
     "metadata": {}
    }
   ],
   "source": [
    "#create dictionary for angle and radius values \n",
    "df = pd.DataFrame(dict(\n",
    "    r= radius_values,\n",
    "    theta= features))\n",
    "\n",
    "#create radar chart\n",
    "fig = px.line_polar(df, r='r', theta='theta', line_close=True)\n",
    "\n",
    "#fill in area\n",
    "fig.update_traces(fill='toself')\n",
    "\n",
    "#plot chart\n",
    "fig.show()"
   ]
  },
  {
   "cell_type": "markdown",
   "metadata": {},
   "source": [
    "### Second set of variables"
   ]
  },
  {
   "cell_type": "code",
   "execution_count": 198,
   "metadata": {},
   "outputs": [],
   "source": [
    "#Features that are being compared\n",
    "features = ['Latitude','CT','Section',\n",
    "           'Year Drilled', 'SPACING_CAPPED']\n",
    "#Radius values for each variable\n",
    "radius_values = []\n",
    "for i in features:\n",
    "        radius_values.append(kendall_correlation.at[i, '12 month Cum Prod'])"
   ]
  },
  {
   "cell_type": "code",
   "execution_count": 199,
   "metadata": {},
   "outputs": [
    {
     "output_type": "display_data",
     "data": {
      "application/vnd.plotly.v1+json": {
       "config": {
        "plotlyServerURL": "https://plot.ly"
       },
       "data": [
        {
         "fill": "toself",
         "hovertemplate": "r=%{r}<br>theta=%{theta}<extra></extra>",
         "legendgroup": "",
         "line": {
          "color": "#636efa",
          "dash": "solid"
         },
         "mode": "lines",
         "name": "",
         "r": [
          -0.11634942752723561,
          0.38277950117547643,
          0.007133860508961487,
          0.22867395028752216,
          -0.18090334207502617,
          -0.11634942752723561
         ],
         "showlegend": false,
         "subplot": "polar",
         "theta": [
          "Latitude",
          "CT",
          "Section",
          "Year Drilled",
          "SPACING_CAPPED",
          "Latitude"
         ],
         "type": "scatterpolar"
        }
       ],
       "layout": {
        "legend": {
         "tracegroupgap": 0
        },
        "margin": {
         "t": 60
        },
        "polar": {
         "angularaxis": {
          "direction": "clockwise",
          "rotation": 90
         },
         "domain": {
          "x": [
           0,
           1
          ],
          "y": [
           0,
           1
          ]
         }
        },
        "template": {
         "data": {
          "bar": [
           {
            "error_x": {
             "color": "#2a3f5f"
            },
            "error_y": {
             "color": "#2a3f5f"
            },
            "marker": {
             "line": {
              "color": "#E5ECF6",
              "width": 0.5
             }
            },
            "type": "bar"
           }
          ],
          "barpolar": [
           {
            "marker": {
             "line": {
              "color": "#E5ECF6",
              "width": 0.5
             }
            },
            "type": "barpolar"
           }
          ],
          "carpet": [
           {
            "aaxis": {
             "endlinecolor": "#2a3f5f",
             "gridcolor": "white",
             "linecolor": "white",
             "minorgridcolor": "white",
             "startlinecolor": "#2a3f5f"
            },
            "baxis": {
             "endlinecolor": "#2a3f5f",
             "gridcolor": "white",
             "linecolor": "white",
             "minorgridcolor": "white",
             "startlinecolor": "#2a3f5f"
            },
            "type": "carpet"
           }
          ],
          "choropleth": [
           {
            "colorbar": {
             "outlinewidth": 0,
             "ticks": ""
            },
            "type": "choropleth"
           }
          ],
          "contour": [
           {
            "colorbar": {
             "outlinewidth": 0,
             "ticks": ""
            },
            "colorscale": [
             [
              0,
              "#0d0887"
             ],
             [
              0.1111111111111111,
              "#46039f"
             ],
             [
              0.2222222222222222,
              "#7201a8"
             ],
             [
              0.3333333333333333,
              "#9c179e"
             ],
             [
              0.4444444444444444,
              "#bd3786"
             ],
             [
              0.5555555555555556,
              "#d8576b"
             ],
             [
              0.6666666666666666,
              "#ed7953"
             ],
             [
              0.7777777777777778,
              "#fb9f3a"
             ],
             [
              0.8888888888888888,
              "#fdca26"
             ],
             [
              1,
              "#f0f921"
             ]
            ],
            "type": "contour"
           }
          ],
          "contourcarpet": [
           {
            "colorbar": {
             "outlinewidth": 0,
             "ticks": ""
            },
            "type": "contourcarpet"
           }
          ],
          "heatmap": [
           {
            "colorbar": {
             "outlinewidth": 0,
             "ticks": ""
            },
            "colorscale": [
             [
              0,
              "#0d0887"
             ],
             [
              0.1111111111111111,
              "#46039f"
             ],
             [
              0.2222222222222222,
              "#7201a8"
             ],
             [
              0.3333333333333333,
              "#9c179e"
             ],
             [
              0.4444444444444444,
              "#bd3786"
             ],
             [
              0.5555555555555556,
              "#d8576b"
             ],
             [
              0.6666666666666666,
              "#ed7953"
             ],
             [
              0.7777777777777778,
              "#fb9f3a"
             ],
             [
              0.8888888888888888,
              "#fdca26"
             ],
             [
              1,
              "#f0f921"
             ]
            ],
            "type": "heatmap"
           }
          ],
          "heatmapgl": [
           {
            "colorbar": {
             "outlinewidth": 0,
             "ticks": ""
            },
            "colorscale": [
             [
              0,
              "#0d0887"
             ],
             [
              0.1111111111111111,
              "#46039f"
             ],
             [
              0.2222222222222222,
              "#7201a8"
             ],
             [
              0.3333333333333333,
              "#9c179e"
             ],
             [
              0.4444444444444444,
              "#bd3786"
             ],
             [
              0.5555555555555556,
              "#d8576b"
             ],
             [
              0.6666666666666666,
              "#ed7953"
             ],
             [
              0.7777777777777778,
              "#fb9f3a"
             ],
             [
              0.8888888888888888,
              "#fdca26"
             ],
             [
              1,
              "#f0f921"
             ]
            ],
            "type": "heatmapgl"
           }
          ],
          "histogram": [
           {
            "marker": {
             "colorbar": {
              "outlinewidth": 0,
              "ticks": ""
             }
            },
            "type": "histogram"
           }
          ],
          "histogram2d": [
           {
            "colorbar": {
             "outlinewidth": 0,
             "ticks": ""
            },
            "colorscale": [
             [
              0,
              "#0d0887"
             ],
             [
              0.1111111111111111,
              "#46039f"
             ],
             [
              0.2222222222222222,
              "#7201a8"
             ],
             [
              0.3333333333333333,
              "#9c179e"
             ],
             [
              0.4444444444444444,
              "#bd3786"
             ],
             [
              0.5555555555555556,
              "#d8576b"
             ],
             [
              0.6666666666666666,
              "#ed7953"
             ],
             [
              0.7777777777777778,
              "#fb9f3a"
             ],
             [
              0.8888888888888888,
              "#fdca26"
             ],
             [
              1,
              "#f0f921"
             ]
            ],
            "type": "histogram2d"
           }
          ],
          "histogram2dcontour": [
           {
            "colorbar": {
             "outlinewidth": 0,
             "ticks": ""
            },
            "colorscale": [
             [
              0,
              "#0d0887"
             ],
             [
              0.1111111111111111,
              "#46039f"
             ],
             [
              0.2222222222222222,
              "#7201a8"
             ],
             [
              0.3333333333333333,
              "#9c179e"
             ],
             [
              0.4444444444444444,
              "#bd3786"
             ],
             [
              0.5555555555555556,
              "#d8576b"
             ],
             [
              0.6666666666666666,
              "#ed7953"
             ],
             [
              0.7777777777777778,
              "#fb9f3a"
             ],
             [
              0.8888888888888888,
              "#fdca26"
             ],
             [
              1,
              "#f0f921"
             ]
            ],
            "type": "histogram2dcontour"
           }
          ],
          "mesh3d": [
           {
            "colorbar": {
             "outlinewidth": 0,
             "ticks": ""
            },
            "type": "mesh3d"
           }
          ],
          "parcoords": [
           {
            "line": {
             "colorbar": {
              "outlinewidth": 0,
              "ticks": ""
             }
            },
            "type": "parcoords"
           }
          ],
          "pie": [
           {
            "automargin": true,
            "type": "pie"
           }
          ],
          "scatter": [
           {
            "marker": {
             "colorbar": {
              "outlinewidth": 0,
              "ticks": ""
             }
            },
            "type": "scatter"
           }
          ],
          "scatter3d": [
           {
            "line": {
             "colorbar": {
              "outlinewidth": 0,
              "ticks": ""
             }
            },
            "marker": {
             "colorbar": {
              "outlinewidth": 0,
              "ticks": ""
             }
            },
            "type": "scatter3d"
           }
          ],
          "scattercarpet": [
           {
            "marker": {
             "colorbar": {
              "outlinewidth": 0,
              "ticks": ""
             }
            },
            "type": "scattercarpet"
           }
          ],
          "scattergeo": [
           {
            "marker": {
             "colorbar": {
              "outlinewidth": 0,
              "ticks": ""
             }
            },
            "type": "scattergeo"
           }
          ],
          "scattergl": [
           {
            "marker": {
             "colorbar": {
              "outlinewidth": 0,
              "ticks": ""
             }
            },
            "type": "scattergl"
           }
          ],
          "scattermapbox": [
           {
            "marker": {
             "colorbar": {
              "outlinewidth": 0,
              "ticks": ""
             }
            },
            "type": "scattermapbox"
           }
          ],
          "scatterpolar": [
           {
            "marker": {
             "colorbar": {
              "outlinewidth": 0,
              "ticks": ""
             }
            },
            "type": "scatterpolar"
           }
          ],
          "scatterpolargl": [
           {
            "marker": {
             "colorbar": {
              "outlinewidth": 0,
              "ticks": ""
             }
            },
            "type": "scatterpolargl"
           }
          ],
          "scatterternary": [
           {
            "marker": {
             "colorbar": {
              "outlinewidth": 0,
              "ticks": ""
             }
            },
            "type": "scatterternary"
           }
          ],
          "surface": [
           {
            "colorbar": {
             "outlinewidth": 0,
             "ticks": ""
            },
            "colorscale": [
             [
              0,
              "#0d0887"
             ],
             [
              0.1111111111111111,
              "#46039f"
             ],
             [
              0.2222222222222222,
              "#7201a8"
             ],
             [
              0.3333333333333333,
              "#9c179e"
             ],
             [
              0.4444444444444444,
              "#bd3786"
             ],
             [
              0.5555555555555556,
              "#d8576b"
             ],
             [
              0.6666666666666666,
              "#ed7953"
             ],
             [
              0.7777777777777778,
              "#fb9f3a"
             ],
             [
              0.8888888888888888,
              "#fdca26"
             ],
             [
              1,
              "#f0f921"
             ]
            ],
            "type": "surface"
           }
          ],
          "table": [
           {
            "cells": {
             "fill": {
              "color": "#EBF0F8"
             },
             "line": {
              "color": "white"
             }
            },
            "header": {
             "fill": {
              "color": "#C8D4E3"
             },
             "line": {
              "color": "white"
             }
            },
            "type": "table"
           }
          ]
         },
         "layout": {
          "annotationdefaults": {
           "arrowcolor": "#2a3f5f",
           "arrowhead": 0,
           "arrowwidth": 1
          },
          "coloraxis": {
           "colorbar": {
            "outlinewidth": 0,
            "ticks": ""
           }
          },
          "colorscale": {
           "diverging": [
            [
             0,
             "#8e0152"
            ],
            [
             0.1,
             "#c51b7d"
            ],
            [
             0.2,
             "#de77ae"
            ],
            [
             0.3,
             "#f1b6da"
            ],
            [
             0.4,
             "#fde0ef"
            ],
            [
             0.5,
             "#f7f7f7"
            ],
            [
             0.6,
             "#e6f5d0"
            ],
            [
             0.7,
             "#b8e186"
            ],
            [
             0.8,
             "#7fbc41"
            ],
            [
             0.9,
             "#4d9221"
            ],
            [
             1,
             "#276419"
            ]
           ],
           "sequential": [
            [
             0,
             "#0d0887"
            ],
            [
             0.1111111111111111,
             "#46039f"
            ],
            [
             0.2222222222222222,
             "#7201a8"
            ],
            [
             0.3333333333333333,
             "#9c179e"
            ],
            [
             0.4444444444444444,
             "#bd3786"
            ],
            [
             0.5555555555555556,
             "#d8576b"
            ],
            [
             0.6666666666666666,
             "#ed7953"
            ],
            [
             0.7777777777777778,
             "#fb9f3a"
            ],
            [
             0.8888888888888888,
             "#fdca26"
            ],
            [
             1,
             "#f0f921"
            ]
           ],
           "sequentialminus": [
            [
             0,
             "#0d0887"
            ],
            [
             0.1111111111111111,
             "#46039f"
            ],
            [
             0.2222222222222222,
             "#7201a8"
            ],
            [
             0.3333333333333333,
             "#9c179e"
            ],
            [
             0.4444444444444444,
             "#bd3786"
            ],
            [
             0.5555555555555556,
             "#d8576b"
            ],
            [
             0.6666666666666666,
             "#ed7953"
            ],
            [
             0.7777777777777778,
             "#fb9f3a"
            ],
            [
             0.8888888888888888,
             "#fdca26"
            ],
            [
             1,
             "#f0f921"
            ]
           ]
          },
          "colorway": [
           "#636efa",
           "#EF553B",
           "#00cc96",
           "#ab63fa",
           "#FFA15A",
           "#19d3f3",
           "#FF6692",
           "#B6E880",
           "#FF97FF",
           "#FECB52"
          ],
          "font": {
           "color": "#2a3f5f"
          },
          "geo": {
           "bgcolor": "white",
           "lakecolor": "white",
           "landcolor": "#E5ECF6",
           "showlakes": true,
           "showland": true,
           "subunitcolor": "white"
          },
          "hoverlabel": {
           "align": "left"
          },
          "hovermode": "closest",
          "mapbox": {
           "style": "light"
          },
          "paper_bgcolor": "white",
          "plot_bgcolor": "#E5ECF6",
          "polar": {
           "angularaxis": {
            "gridcolor": "white",
            "linecolor": "white",
            "ticks": ""
           },
           "bgcolor": "#E5ECF6",
           "radialaxis": {
            "gridcolor": "white",
            "linecolor": "white",
            "ticks": ""
           }
          },
          "scene": {
           "xaxis": {
            "backgroundcolor": "#E5ECF6",
            "gridcolor": "white",
            "gridwidth": 2,
            "linecolor": "white",
            "showbackground": true,
            "ticks": "",
            "zerolinecolor": "white"
           },
           "yaxis": {
            "backgroundcolor": "#E5ECF6",
            "gridcolor": "white",
            "gridwidth": 2,
            "linecolor": "white",
            "showbackground": true,
            "ticks": "",
            "zerolinecolor": "white"
           },
           "zaxis": {
            "backgroundcolor": "#E5ECF6",
            "gridcolor": "white",
            "gridwidth": 2,
            "linecolor": "white",
            "showbackground": true,
            "ticks": "",
            "zerolinecolor": "white"
           }
          },
          "shapedefaults": {
           "line": {
            "color": "#2a3f5f"
           }
          },
          "ternary": {
           "aaxis": {
            "gridcolor": "white",
            "linecolor": "white",
            "ticks": ""
           },
           "baxis": {
            "gridcolor": "white",
            "linecolor": "white",
            "ticks": ""
           },
           "bgcolor": "#E5ECF6",
           "caxis": {
            "gridcolor": "white",
            "linecolor": "white",
            "ticks": ""
           }
          },
          "title": {
           "x": 0.05
          },
          "xaxis": {
           "automargin": true,
           "gridcolor": "white",
           "linecolor": "white",
           "ticks": "",
           "title": {
            "standoff": 15
           },
           "zerolinecolor": "white",
           "zerolinewidth": 2
          },
          "yaxis": {
           "automargin": true,
           "gridcolor": "white",
           "linecolor": "white",
           "ticks": "",
           "title": {
            "standoff": 15
           },
           "zerolinecolor": "white",
           "zerolinewidth": 2
          }
         }
        }
       }
      }
     },
     "metadata": {}
    }
   ],
   "source": [
    "#create dictionary for angle and radius values \n",
    "df = pd.DataFrame(dict(\n",
    "    r= radius_values,\n",
    "    theta= features))\n",
    "\n",
    "#create radar chart\n",
    "fig = px.line_polar(df, r='r', theta='theta', line_close=True)\n",
    "\n",
    "#fill in area\n",
    "fig.update_traces(fill='toself')\n",
    "\n",
    "#plot chart\n",
    "fig.show()"
   ]
  },
  {
   "cell_type": "markdown",
   "metadata": {},
   "source": [
    "### Third set of variables (categorical)"
   ]
  },
  {
   "cell_type": "code",
   "execution_count": 221,
   "metadata": {},
   "outputs": [],
   "source": [
    "#Features that are being compared\n",
    "features = ['Completion Type', 'Formation', 'Fluid Type from DI', 'Date Fracd', 'Operator']\n",
    "#Radius values for each variable\n",
    "radius_values = []\n",
    "for i in features:\n",
    "        radius_values.append(kendall_correlation.at[i, '12 month Cum Prod'])"
   ]
  },
  {
   "cell_type": "code",
   "execution_count": 222,
   "metadata": {},
   "outputs": [
    {
     "output_type": "display_data",
     "data": {
      "application/vnd.plotly.v1+json": {
       "config": {
        "plotlyServerURL": "https://plot.ly"
       },
       "data": [
        {
         "fill": "toself",
         "hovertemplate": "r=%{r}<br>theta=%{theta}<extra></extra>",
         "legendgroup": "",
         "line": {
          "color": "#636efa",
          "dash": "solid"
         },
         "mode": "lines",
         "name": "",
         "r": [
          0.17928065131400306,
          -0.07316103908101117,
          0.12394067772867916,
          0.1681556015128246,
          0.09094164403648552,
          0.17928065131400306
         ],
         "showlegend": false,
         "subplot": "polar",
         "theta": [
          "Completion Type",
          "Formation",
          "Fluid Type from DI",
          "Date Fracd",
          "Operator",
          "Completion Type"
         ],
         "type": "scatterpolar"
        }
       ],
       "layout": {
        "legend": {
         "tracegroupgap": 0
        },
        "margin": {
         "t": 60
        },
        "polar": {
         "angularaxis": {
          "direction": "clockwise",
          "rotation": 90
         },
         "domain": {
          "x": [
           0,
           1
          ],
          "y": [
           0,
           1
          ]
         }
        },
        "template": {
         "data": {
          "bar": [
           {
            "error_x": {
             "color": "#2a3f5f"
            },
            "error_y": {
             "color": "#2a3f5f"
            },
            "marker": {
             "line": {
              "color": "#E5ECF6",
              "width": 0.5
             }
            },
            "type": "bar"
           }
          ],
          "barpolar": [
           {
            "marker": {
             "line": {
              "color": "#E5ECF6",
              "width": 0.5
             }
            },
            "type": "barpolar"
           }
          ],
          "carpet": [
           {
            "aaxis": {
             "endlinecolor": "#2a3f5f",
             "gridcolor": "white",
             "linecolor": "white",
             "minorgridcolor": "white",
             "startlinecolor": "#2a3f5f"
            },
            "baxis": {
             "endlinecolor": "#2a3f5f",
             "gridcolor": "white",
             "linecolor": "white",
             "minorgridcolor": "white",
             "startlinecolor": "#2a3f5f"
            },
            "type": "carpet"
           }
          ],
          "choropleth": [
           {
            "colorbar": {
             "outlinewidth": 0,
             "ticks": ""
            },
            "type": "choropleth"
           }
          ],
          "contour": [
           {
            "colorbar": {
             "outlinewidth": 0,
             "ticks": ""
            },
            "colorscale": [
             [
              0,
              "#0d0887"
             ],
             [
              0.1111111111111111,
              "#46039f"
             ],
             [
              0.2222222222222222,
              "#7201a8"
             ],
             [
              0.3333333333333333,
              "#9c179e"
             ],
             [
              0.4444444444444444,
              "#bd3786"
             ],
             [
              0.5555555555555556,
              "#d8576b"
             ],
             [
              0.6666666666666666,
              "#ed7953"
             ],
             [
              0.7777777777777778,
              "#fb9f3a"
             ],
             [
              0.8888888888888888,
              "#fdca26"
             ],
             [
              1,
              "#f0f921"
             ]
            ],
            "type": "contour"
           }
          ],
          "contourcarpet": [
           {
            "colorbar": {
             "outlinewidth": 0,
             "ticks": ""
            },
            "type": "contourcarpet"
           }
          ],
          "heatmap": [
           {
            "colorbar": {
             "outlinewidth": 0,
             "ticks": ""
            },
            "colorscale": [
             [
              0,
              "#0d0887"
             ],
             [
              0.1111111111111111,
              "#46039f"
             ],
             [
              0.2222222222222222,
              "#7201a8"
             ],
             [
              0.3333333333333333,
              "#9c179e"
             ],
             [
              0.4444444444444444,
              "#bd3786"
             ],
             [
              0.5555555555555556,
              "#d8576b"
             ],
             [
              0.6666666666666666,
              "#ed7953"
             ],
             [
              0.7777777777777778,
              "#fb9f3a"
             ],
             [
              0.8888888888888888,
              "#fdca26"
             ],
             [
              1,
              "#f0f921"
             ]
            ],
            "type": "heatmap"
           }
          ],
          "heatmapgl": [
           {
            "colorbar": {
             "outlinewidth": 0,
             "ticks": ""
            },
            "colorscale": [
             [
              0,
              "#0d0887"
             ],
             [
              0.1111111111111111,
              "#46039f"
             ],
             [
              0.2222222222222222,
              "#7201a8"
             ],
             [
              0.3333333333333333,
              "#9c179e"
             ],
             [
              0.4444444444444444,
              "#bd3786"
             ],
             [
              0.5555555555555556,
              "#d8576b"
             ],
             [
              0.6666666666666666,
              "#ed7953"
             ],
             [
              0.7777777777777778,
              "#fb9f3a"
             ],
             [
              0.8888888888888888,
              "#fdca26"
             ],
             [
              1,
              "#f0f921"
             ]
            ],
            "type": "heatmapgl"
           }
          ],
          "histogram": [
           {
            "marker": {
             "colorbar": {
              "outlinewidth": 0,
              "ticks": ""
             }
            },
            "type": "histogram"
           }
          ],
          "histogram2d": [
           {
            "colorbar": {
             "outlinewidth": 0,
             "ticks": ""
            },
            "colorscale": [
             [
              0,
              "#0d0887"
             ],
             [
              0.1111111111111111,
              "#46039f"
             ],
             [
              0.2222222222222222,
              "#7201a8"
             ],
             [
              0.3333333333333333,
              "#9c179e"
             ],
             [
              0.4444444444444444,
              "#bd3786"
             ],
             [
              0.5555555555555556,
              "#d8576b"
             ],
             [
              0.6666666666666666,
              "#ed7953"
             ],
             [
              0.7777777777777778,
              "#fb9f3a"
             ],
             [
              0.8888888888888888,
              "#fdca26"
             ],
             [
              1,
              "#f0f921"
             ]
            ],
            "type": "histogram2d"
           }
          ],
          "histogram2dcontour": [
           {
            "colorbar": {
             "outlinewidth": 0,
             "ticks": ""
            },
            "colorscale": [
             [
              0,
              "#0d0887"
             ],
             [
              0.1111111111111111,
              "#46039f"
             ],
             [
              0.2222222222222222,
              "#7201a8"
             ],
             [
              0.3333333333333333,
              "#9c179e"
             ],
             [
              0.4444444444444444,
              "#bd3786"
             ],
             [
              0.5555555555555556,
              "#d8576b"
             ],
             [
              0.6666666666666666,
              "#ed7953"
             ],
             [
              0.7777777777777778,
              "#fb9f3a"
             ],
             [
              0.8888888888888888,
              "#fdca26"
             ],
             [
              1,
              "#f0f921"
             ]
            ],
            "type": "histogram2dcontour"
           }
          ],
          "mesh3d": [
           {
            "colorbar": {
             "outlinewidth": 0,
             "ticks": ""
            },
            "type": "mesh3d"
           }
          ],
          "parcoords": [
           {
            "line": {
             "colorbar": {
              "outlinewidth": 0,
              "ticks": ""
             }
            },
            "type": "parcoords"
           }
          ],
          "pie": [
           {
            "automargin": true,
            "type": "pie"
           }
          ],
          "scatter": [
           {
            "marker": {
             "colorbar": {
              "outlinewidth": 0,
              "ticks": ""
             }
            },
            "type": "scatter"
           }
          ],
          "scatter3d": [
           {
            "line": {
             "colorbar": {
              "outlinewidth": 0,
              "ticks": ""
             }
            },
            "marker": {
             "colorbar": {
              "outlinewidth": 0,
              "ticks": ""
             }
            },
            "type": "scatter3d"
           }
          ],
          "scattercarpet": [
           {
            "marker": {
             "colorbar": {
              "outlinewidth": 0,
              "ticks": ""
             }
            },
            "type": "scattercarpet"
           }
          ],
          "scattergeo": [
           {
            "marker": {
             "colorbar": {
              "outlinewidth": 0,
              "ticks": ""
             }
            },
            "type": "scattergeo"
           }
          ],
          "scattergl": [
           {
            "marker": {
             "colorbar": {
              "outlinewidth": 0,
              "ticks": ""
             }
            },
            "type": "scattergl"
           }
          ],
          "scattermapbox": [
           {
            "marker": {
             "colorbar": {
              "outlinewidth": 0,
              "ticks": ""
             }
            },
            "type": "scattermapbox"
           }
          ],
          "scatterpolar": [
           {
            "marker": {
             "colorbar": {
              "outlinewidth": 0,
              "ticks": ""
             }
            },
            "type": "scatterpolar"
           }
          ],
          "scatterpolargl": [
           {
            "marker": {
             "colorbar": {
              "outlinewidth": 0,
              "ticks": ""
             }
            },
            "type": "scatterpolargl"
           }
          ],
          "scatterternary": [
           {
            "marker": {
             "colorbar": {
              "outlinewidth": 0,
              "ticks": ""
             }
            },
            "type": "scatterternary"
           }
          ],
          "surface": [
           {
            "colorbar": {
             "outlinewidth": 0,
             "ticks": ""
            },
            "colorscale": [
             [
              0,
              "#0d0887"
             ],
             [
              0.1111111111111111,
              "#46039f"
             ],
             [
              0.2222222222222222,
              "#7201a8"
             ],
             [
              0.3333333333333333,
              "#9c179e"
             ],
             [
              0.4444444444444444,
              "#bd3786"
             ],
             [
              0.5555555555555556,
              "#d8576b"
             ],
             [
              0.6666666666666666,
              "#ed7953"
             ],
             [
              0.7777777777777778,
              "#fb9f3a"
             ],
             [
              0.8888888888888888,
              "#fdca26"
             ],
             [
              1,
              "#f0f921"
             ]
            ],
            "type": "surface"
           }
          ],
          "table": [
           {
            "cells": {
             "fill": {
              "color": "#EBF0F8"
             },
             "line": {
              "color": "white"
             }
            },
            "header": {
             "fill": {
              "color": "#C8D4E3"
             },
             "line": {
              "color": "white"
             }
            },
            "type": "table"
           }
          ]
         },
         "layout": {
          "annotationdefaults": {
           "arrowcolor": "#2a3f5f",
           "arrowhead": 0,
           "arrowwidth": 1
          },
          "coloraxis": {
           "colorbar": {
            "outlinewidth": 0,
            "ticks": ""
           }
          },
          "colorscale": {
           "diverging": [
            [
             0,
             "#8e0152"
            ],
            [
             0.1,
             "#c51b7d"
            ],
            [
             0.2,
             "#de77ae"
            ],
            [
             0.3,
             "#f1b6da"
            ],
            [
             0.4,
             "#fde0ef"
            ],
            [
             0.5,
             "#f7f7f7"
            ],
            [
             0.6,
             "#e6f5d0"
            ],
            [
             0.7,
             "#b8e186"
            ],
            [
             0.8,
             "#7fbc41"
            ],
            [
             0.9,
             "#4d9221"
            ],
            [
             1,
             "#276419"
            ]
           ],
           "sequential": [
            [
             0,
             "#0d0887"
            ],
            [
             0.1111111111111111,
             "#46039f"
            ],
            [
             0.2222222222222222,
             "#7201a8"
            ],
            [
             0.3333333333333333,
             "#9c179e"
            ],
            [
             0.4444444444444444,
             "#bd3786"
            ],
            [
             0.5555555555555556,
             "#d8576b"
            ],
            [
             0.6666666666666666,
             "#ed7953"
            ],
            [
             0.7777777777777778,
             "#fb9f3a"
            ],
            [
             0.8888888888888888,
             "#fdca26"
            ],
            [
             1,
             "#f0f921"
            ]
           ],
           "sequentialminus": [
            [
             0,
             "#0d0887"
            ],
            [
             0.1111111111111111,
             "#46039f"
            ],
            [
             0.2222222222222222,
             "#7201a8"
            ],
            [
             0.3333333333333333,
             "#9c179e"
            ],
            [
             0.4444444444444444,
             "#bd3786"
            ],
            [
             0.5555555555555556,
             "#d8576b"
            ],
            [
             0.6666666666666666,
             "#ed7953"
            ],
            [
             0.7777777777777778,
             "#fb9f3a"
            ],
            [
             0.8888888888888888,
             "#fdca26"
            ],
            [
             1,
             "#f0f921"
            ]
           ]
          },
          "colorway": [
           "#636efa",
           "#EF553B",
           "#00cc96",
           "#ab63fa",
           "#FFA15A",
           "#19d3f3",
           "#FF6692",
           "#B6E880",
           "#FF97FF",
           "#FECB52"
          ],
          "font": {
           "color": "#2a3f5f"
          },
          "geo": {
           "bgcolor": "white",
           "lakecolor": "white",
           "landcolor": "#E5ECF6",
           "showlakes": true,
           "showland": true,
           "subunitcolor": "white"
          },
          "hoverlabel": {
           "align": "left"
          },
          "hovermode": "closest",
          "mapbox": {
           "style": "light"
          },
          "paper_bgcolor": "white",
          "plot_bgcolor": "#E5ECF6",
          "polar": {
           "angularaxis": {
            "gridcolor": "white",
            "linecolor": "white",
            "ticks": ""
           },
           "bgcolor": "#E5ECF6",
           "radialaxis": {
            "gridcolor": "white",
            "linecolor": "white",
            "ticks": ""
           }
          },
          "scene": {
           "xaxis": {
            "backgroundcolor": "#E5ECF6",
            "gridcolor": "white",
            "gridwidth": 2,
            "linecolor": "white",
            "showbackground": true,
            "ticks": "",
            "zerolinecolor": "white"
           },
           "yaxis": {
            "backgroundcolor": "#E5ECF6",
            "gridcolor": "white",
            "gridwidth": 2,
            "linecolor": "white",
            "showbackground": true,
            "ticks": "",
            "zerolinecolor": "white"
           },
           "zaxis": {
            "backgroundcolor": "#E5ECF6",
            "gridcolor": "white",
            "gridwidth": 2,
            "linecolor": "white",
            "showbackground": true,
            "ticks": "",
            "zerolinecolor": "white"
           }
          },
          "shapedefaults": {
           "line": {
            "color": "#2a3f5f"
           }
          },
          "ternary": {
           "aaxis": {
            "gridcolor": "white",
            "linecolor": "white",
            "ticks": ""
           },
           "baxis": {
            "gridcolor": "white",
            "linecolor": "white",
            "ticks": ""
           },
           "bgcolor": "#E5ECF6",
           "caxis": {
            "gridcolor": "white",
            "linecolor": "white",
            "ticks": ""
           }
          },
          "title": {
           "x": 0.05
          },
          "xaxis": {
           "automargin": true,
           "gridcolor": "white",
           "linecolor": "white",
           "ticks": "",
           "title": {
            "standoff": 15
           },
           "zerolinecolor": "white",
           "zerolinewidth": 2
          },
          "yaxis": {
           "automargin": true,
           "gridcolor": "white",
           "linecolor": "white",
           "ticks": "",
           "title": {
            "standoff": 15
           },
           "zerolinecolor": "white",
           "zerolinewidth": 2
          }
         }
        }
       }
      }
     },
     "metadata": {}
    }
   ],
   "source": [
    "#create dictionary for angle and radius values \n",
    "df = pd.DataFrame(dict(\n",
    "    r= radius_values,\n",
    "    theta= features))\n",
    "\n",
    "#create radar chart\n",
    "fig = px.line_polar(df, r='r', theta='theta', line_close=True)\n",
    "\n",
    "#fill in area\n",
    "fig.update_traces(fill='toself')\n",
    "\n",
    "#plot chart\n",
    "fig.show()"
   ]
  },
  {
   "cell_type": "markdown",
   "metadata": {},
   "source": [
    "Kendall's coefficient shows the same features that have the highest correlation coefficient. "
   ]
  },
  {
   "cell_type": "markdown",
   "metadata": {},
   "source": [
    "According to the radar charts created for the three different correlation coefficients, it seems that Completion Type, Total Proppant, and Fluid seem to be the three quantitative variables that affect the cumulative production the most. For the categorical variables, Date Fracd and Completion Type seem to be features that have a stronger correlation."
   ]
  },
  {
   "cell_type": "code",
   "execution_count": null,
   "metadata": {},
   "outputs": [],
   "source": [
    "''' I really like this model. Primarily because this allows a really good comparison. If you want the radar chart to compare categorical variable in the dataset, I would change the categorical data to numerical values. \n",
    "\n",
    "Here is an example:\n",
    "\n",
    "labels = DatabaseDF['variable'].unique().tolist()\n",
    "mapping = dict( zip(labels,range(len(labels))) )\n",
    "DatabaseDF.replace({'variable': mapping},inplace=True)"
   ]
  }
 ],
 "metadata": {
  "kernelspec": {
   "display_name": "Python 3",
   "language": "python",
   "name": "python3"
  },
  "language_info": {
   "codemirror_mode": {
    "name": "ipython",
    "version": 3
   },
   "file_extension": ".py",
   "mimetype": "text/x-python",
   "name": "python",
   "nbconvert_exporter": "python",
   "pygments_lexer": "ipython3",
   "version": "3.8.1-final"
  }
 },
 "nbformat": 4,
 "nbformat_minor": 2
}