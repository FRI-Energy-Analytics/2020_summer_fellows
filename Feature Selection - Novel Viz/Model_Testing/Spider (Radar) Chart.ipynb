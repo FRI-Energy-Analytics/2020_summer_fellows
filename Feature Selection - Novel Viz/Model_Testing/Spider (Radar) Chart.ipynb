{
 "cells": [
  {
   "cell_type": "code",
   "execution_count": 1,
   "metadata": {},
   "outputs": [],
   "source": [
    "import pandas as pd\n",
    "import numpy as np\n",
    "import seaborn as sns\n",
    "import matplotlib.pyplot as plt\n",
    "%matplotlib inline"
   ]
  },
  {
   "cell_type": "code",
   "execution_count": 2,
   "metadata": {},
   "outputs": [],
   "source": [
    "#import Plotly \n",
    "import plotly.express as px"
   ]
  },
  {
   "cell_type": "code",
   "execution_count": 3,
   "metadata": {},
   "outputs": [
    {
     "output_type": "execute_result",
     "data": {
      "text/plain": "   Unnamed: 0    Operator Well Name Formation  Lateral Length  Stages  \\\n0           0  Operator 1    Well 1       MBH          5114.0    30.0   \n1           1  Operator 2    Well 2       MBH          5181.0     NaN   \n2           2  Operator 2    Well 3       MBH          4780.0    15.0   \n3           3  Operator 1    Well 4       MBH         10654.0     1.0   \n4           4  Operator 2    Well 5       MBH          5209.0     1.0   \n\n   Township   Range  Section  Total Prop, lbs  ...  Fluid Type from DI  \\\n0        141     99       10              0.0  ...                 NaN   \n1        142     99       16         418000.0  ...                 NaN   \n2        142     99       24         568407.0  ...                 NaN   \n3        142     99        1         845000.0  ...                 NaN   \n4        142     99       35         297366.0  ...                 NaN   \n\n  SPACING_CAPPED  12 month Cum Prod  Completion Type  Sleeves  P&P  \\\n0          660.0              33.55              NaN      NaN  NaN   \n1          660.0              27.62              NaN      NaN  NaN   \n2          660.0              11.19               OH      NaN  NaN   \n3          660.0              27.85              NaN      NaN  NaN   \n4          660.0              50.88               OH      NaN  NaN   \n\n   Frac Ports Repeater Ports  CT  Year Drilled  \n0         NaN            NaN NaN        2006.0  \n1         NaN            NaN NaN        2005.0  \n2         NaN            NaN NaN        2006.0  \n3         NaN            NaN NaN        2007.0  \n4         NaN            NaN NaN        2006.0  \n\n[5 rows x 30 columns]",
      "text/html": "<div>\n<style scoped>\n    .dataframe tbody tr th:only-of-type {\n        vertical-align: middle;\n    }\n\n    .dataframe tbody tr th {\n        vertical-align: top;\n    }\n\n    .dataframe thead th {\n        text-align: right;\n    }\n</style>\n<table border=\"1\" class=\"dataframe\">\n  <thead>\n    <tr style=\"text-align: right;\">\n      <th></th>\n      <th>Unnamed: 0</th>\n      <th>Operator</th>\n      <th>Well Name</th>\n      <th>Formation</th>\n      <th>Lateral Length</th>\n      <th>Stages</th>\n      <th>Township</th>\n      <th>Range</th>\n      <th>Section</th>\n      <th>Total Prop, lbs</th>\n      <th>...</th>\n      <th>Fluid Type from DI</th>\n      <th>SPACING_CAPPED</th>\n      <th>12 month Cum Prod</th>\n      <th>Completion Type</th>\n      <th>Sleeves</th>\n      <th>P&amp;P</th>\n      <th>Frac Ports</th>\n      <th>Repeater Ports</th>\n      <th>CT</th>\n      <th>Year Drilled</th>\n    </tr>\n  </thead>\n  <tbody>\n    <tr>\n      <td>0</td>\n      <td>0</td>\n      <td>Operator 1</td>\n      <td>Well 1</td>\n      <td>MBH</td>\n      <td>5114.0</td>\n      <td>30.0</td>\n      <td>141</td>\n      <td>99</td>\n      <td>10</td>\n      <td>0.0</td>\n      <td>...</td>\n      <td>NaN</td>\n      <td>660.0</td>\n      <td>33.55</td>\n      <td>NaN</td>\n      <td>NaN</td>\n      <td>NaN</td>\n      <td>NaN</td>\n      <td>NaN</td>\n      <td>NaN</td>\n      <td>2006.0</td>\n    </tr>\n    <tr>\n      <td>1</td>\n      <td>1</td>\n      <td>Operator 2</td>\n      <td>Well 2</td>\n      <td>MBH</td>\n      <td>5181.0</td>\n      <td>NaN</td>\n      <td>142</td>\n      <td>99</td>\n      <td>16</td>\n      <td>418000.0</td>\n      <td>...</td>\n      <td>NaN</td>\n      <td>660.0</td>\n      <td>27.62</td>\n      <td>NaN</td>\n      <td>NaN</td>\n      <td>NaN</td>\n      <td>NaN</td>\n      <td>NaN</td>\n      <td>NaN</td>\n      <td>2005.0</td>\n    </tr>\n    <tr>\n      <td>2</td>\n      <td>2</td>\n      <td>Operator 2</td>\n      <td>Well 3</td>\n      <td>MBH</td>\n      <td>4780.0</td>\n      <td>15.0</td>\n      <td>142</td>\n      <td>99</td>\n      <td>24</td>\n      <td>568407.0</td>\n      <td>...</td>\n      <td>NaN</td>\n      <td>660.0</td>\n      <td>11.19</td>\n      <td>OH</td>\n      <td>NaN</td>\n      <td>NaN</td>\n      <td>NaN</td>\n      <td>NaN</td>\n      <td>NaN</td>\n      <td>2006.0</td>\n    </tr>\n    <tr>\n      <td>3</td>\n      <td>3</td>\n      <td>Operator 1</td>\n      <td>Well 4</td>\n      <td>MBH</td>\n      <td>10654.0</td>\n      <td>1.0</td>\n      <td>142</td>\n      <td>99</td>\n      <td>1</td>\n      <td>845000.0</td>\n      <td>...</td>\n      <td>NaN</td>\n      <td>660.0</td>\n      <td>27.85</td>\n      <td>NaN</td>\n      <td>NaN</td>\n      <td>NaN</td>\n      <td>NaN</td>\n      <td>NaN</td>\n      <td>NaN</td>\n      <td>2007.0</td>\n    </tr>\n    <tr>\n      <td>4</td>\n      <td>4</td>\n      <td>Operator 2</td>\n      <td>Well 5</td>\n      <td>MBH</td>\n      <td>5209.0</td>\n      <td>1.0</td>\n      <td>142</td>\n      <td>99</td>\n      <td>35</td>\n      <td>297366.0</td>\n      <td>...</td>\n      <td>NaN</td>\n      <td>660.0</td>\n      <td>50.88</td>\n      <td>OH</td>\n      <td>NaN</td>\n      <td>NaN</td>\n      <td>NaN</td>\n      <td>NaN</td>\n      <td>NaN</td>\n      <td>2006.0</td>\n    </tr>\n  </tbody>\n</table>\n<p>5 rows × 30 columns</p>\n</div>"
     },
     "metadata": {},
     "execution_count": 3
    }
   ],
   "source": [
    "#print head of cleaned dataset\n",
    "DatabaseDF = pd.read_csv(\"../CleanedDataset.csv\")\n",
    "DatabaseDF.head()"
   ]
  },
  {
   "cell_type": "markdown",
   "metadata": {},
   "source": [
    "# Spider (Radar) Chart: Definition"
   ]
  },
  {
   "cell_type": "markdown",
   "metadata": {},
   "source": [
    "A radar chart is used primarily in fields such as Business to compare various quantitative variables in a dataset. The chart has multiple radii, where each radius represents one variable. The magnitude of the variable is represented by the length of the radius. The longer the radius, the more of an effect the variable has. In this notebook specifically, a longer radius represents a variable more correlated to the cumulative production."
   ]
  },
  {
   "cell_type": "markdown",
   "metadata": {},
   "source": [
    "The Radar Chart is a useful tool to visualize how the features in our dataset affect each other and the oil production, and will help us with feature selection because we can narrow down the variables and focus on the ones that seem the most impactful. "
   ]
  },
  {
   "cell_type": "markdown",
   "metadata": {},
   "source": [
    "This notebook will use different correlation coefficients, such as Pearson, Spearman's and Kendall, to analyze variables with the radar charts."
   ]
  },
  {
   "cell_type": "markdown",
   "metadata": {},
   "source": [
    "## Pearson's Correlation"
   ]
  },
  {
   "cell_type": "code",
   "execution_count": 111,
   "metadata": {},
   "outputs": [
    {
     "data": {
      "text/html": [
       "<div>\n",
       "<style scoped>\n",
       "    .dataframe tbody tr th:only-of-type {\n",
       "        vertical-align: middle;\n",
       "    }\n",
       "\n",
       "    .dataframe tbody tr th {\n",
       "        vertical-align: top;\n",
       "    }\n",
       "\n",
       "    .dataframe thead th {\n",
       "        text-align: right;\n",
       "    }\n",
       "</style>\n",
       "<table border=\"1\" class=\"dataframe\">\n",
       "  <thead>\n",
       "    <tr style=\"text-align: right;\">\n",
       "      <th></th>\n",
       "      <th>Unnamed: 0</th>\n",
       "      <th>Lateral Length</th>\n",
       "      <th>Stages</th>\n",
       "      <th>Township</th>\n",
       "      <th>Range</th>\n",
       "      <th>Section</th>\n",
       "      <th>Total Prop, lbs</th>\n",
       "      <th>Fluid, bbls</th>\n",
       "      <th>Best1 Mo BOPD</th>\n",
       "      <th>Best3 Mo BOPD</th>\n",
       "      <th>...</th>\n",
       "      <th>Latitude</th>\n",
       "      <th>Longitude</th>\n",
       "      <th>SPACING_CAPPED</th>\n",
       "      <th>12 month Cum Prod</th>\n",
       "      <th>Sleeves</th>\n",
       "      <th>P&amp;P</th>\n",
       "      <th>Frac Ports</th>\n",
       "      <th>Repeater Ports</th>\n",
       "      <th>CT</th>\n",
       "      <th>Year Drilled</th>\n",
       "    </tr>\n",
       "  </thead>\n",
       "  <tbody>\n",
       "    <tr>\n",
       "      <td>Unnamed: 0</td>\n",
       "      <td>1.000000</td>\n",
       "      <td>0.053661</td>\n",
       "      <td>0.228829</td>\n",
       "      <td>0.243115</td>\n",
       "      <td>0.011720</td>\n",
       "      <td>-0.050113</td>\n",
       "      <td>0.203161</td>\n",
       "      <td>0.213521</td>\n",
       "      <td>0.094560</td>\n",
       "      <td>0.096491</td>\n",
       "      <td>...</td>\n",
       "      <td>0.245966</td>\n",
       "      <td>-0.052245</td>\n",
       "      <td>-0.107073</td>\n",
       "      <td>0.119804</td>\n",
       "      <td>0.186390</td>\n",
       "      <td>0.173148</td>\n",
       "      <td>-0.711513</td>\n",
       "      <td>0.535451</td>\n",
       "      <td>0.191782</td>\n",
       "      <td>0.186718</td>\n",
       "    </tr>\n",
       "    <tr>\n",
       "      <td>Lateral Length</td>\n",
       "      <td>0.053661</td>\n",
       "      <td>1.000000</td>\n",
       "      <td>0.456774</td>\n",
       "      <td>-0.038726</td>\n",
       "      <td>0.241831</td>\n",
       "      <td>-0.021131</td>\n",
       "      <td>0.253713</td>\n",
       "      <td>0.256175</td>\n",
       "      <td>0.113087</td>\n",
       "      <td>0.113343</td>\n",
       "      <td>...</td>\n",
       "      <td>-0.037672</td>\n",
       "      <td>-0.233496</td>\n",
       "      <td>-0.147507</td>\n",
       "      <td>0.147342</td>\n",
       "      <td>0.391450</td>\n",
       "      <td>0.528658</td>\n",
       "      <td>-0.087372</td>\n",
       "      <td>0.349897</td>\n",
       "      <td>0.391838</td>\n",
       "      <td>0.313809</td>\n",
       "    </tr>\n",
       "    <tr>\n",
       "      <td>Stages</td>\n",
       "      <td>0.228829</td>\n",
       "      <td>0.456774</td>\n",
       "      <td>1.000000</td>\n",
       "      <td>0.040092</td>\n",
       "      <td>0.147589</td>\n",
       "      <td>0.024033</td>\n",
       "      <td>0.587432</td>\n",
       "      <td>0.520606</td>\n",
       "      <td>0.265778</td>\n",
       "      <td>0.263466</td>\n",
       "      <td>...</td>\n",
       "      <td>0.038070</td>\n",
       "      <td>-0.154342</td>\n",
       "      <td>-0.245130</td>\n",
       "      <td>0.344700</td>\n",
       "      <td>0.894700</td>\n",
       "      <td>0.880684</td>\n",
       "      <td>0.193914</td>\n",
       "      <td>0.078326</td>\n",
       "      <td>0.983473</td>\n",
       "      <td>0.718240</td>\n",
       "    </tr>\n",
       "    <tr>\n",
       "      <td>Township</td>\n",
       "      <td>0.243115</td>\n",
       "      <td>-0.038726</td>\n",
       "      <td>0.040092</td>\n",
       "      <td>1.000000</td>\n",
       "      <td>-0.011333</td>\n",
       "      <td>0.023008</td>\n",
       "      <td>-0.005835</td>\n",
       "      <td>-0.006636</td>\n",
       "      <td>-0.121909</td>\n",
       "      <td>-0.110662</td>\n",
       "      <td>...</td>\n",
       "      <td>0.998011</td>\n",
       "      <td>-0.145898</td>\n",
       "      <td>0.014882</td>\n",
       "      <td>-0.114935</td>\n",
       "      <td>0.061510</td>\n",
       "      <td>-0.008466</td>\n",
       "      <td>-0.756806</td>\n",
       "      <td>0.716801</td>\n",
       "      <td>0.011609</td>\n",
       "      <td>-0.001583</td>\n",
       "    </tr>\n",
       "    <tr>\n",
       "      <td>Range</td>\n",
       "      <td>0.011720</td>\n",
       "      <td>0.241831</td>\n",
       "      <td>0.147589</td>\n",
       "      <td>-0.011333</td>\n",
       "      <td>1.000000</td>\n",
       "      <td>-0.019859</td>\n",
       "      <td>-0.021746</td>\n",
       "      <td>0.194991</td>\n",
       "      <td>-0.164083</td>\n",
       "      <td>-0.192811</td>\n",
       "      <td>...</td>\n",
       "      <td>-0.009201</td>\n",
       "      <td>-0.983505</td>\n",
       "      <td>0.009955</td>\n",
       "      <td>-0.194452</td>\n",
       "      <td>0.112901</td>\n",
       "      <td>0.133063</td>\n",
       "      <td>0.602259</td>\n",
       "      <td>0.045222</td>\n",
       "      <td>-0.185800</td>\n",
       "      <td>0.164663</td>\n",
       "    </tr>\n",
       "    <tr>\n",
       "      <td>Section</td>\n",
       "      <td>-0.050113</td>\n",
       "      <td>-0.021131</td>\n",
       "      <td>0.024033</td>\n",
       "      <td>0.023008</td>\n",
       "      <td>-0.019859</td>\n",
       "      <td>1.000000</td>\n",
       "      <td>0.020073</td>\n",
       "      <td>0.017878</td>\n",
       "      <td>0.010863</td>\n",
       "      <td>0.012004</td>\n",
       "      <td>...</td>\n",
       "      <td>-0.037652</td>\n",
       "      <td>0.016787</td>\n",
       "      <td>-0.010710</td>\n",
       "      <td>0.004276</td>\n",
       "      <td>0.033284</td>\n",
       "      <td>0.008336</td>\n",
       "      <td>0.459620</td>\n",
       "      <td>-0.436849</td>\n",
       "      <td>0.098984</td>\n",
       "      <td>0.029651</td>\n",
       "    </tr>\n",
       "    <tr>\n",
       "      <td>Total Prop, lbs</td>\n",
       "      <td>0.203161</td>\n",
       "      <td>0.253713</td>\n",
       "      <td>0.587432</td>\n",
       "      <td>-0.005835</td>\n",
       "      <td>-0.021746</td>\n",
       "      <td>0.020073</td>\n",
       "      <td>1.000000</td>\n",
       "      <td>0.714701</td>\n",
       "      <td>0.371468</td>\n",
       "      <td>0.408457</td>\n",
       "      <td>...</td>\n",
       "      <td>-0.007611</td>\n",
       "      <td>0.020765</td>\n",
       "      <td>-0.161274</td>\n",
       "      <td>0.480937</td>\n",
       "      <td>0.501151</td>\n",
       "      <td>0.553368</td>\n",
       "      <td>0.469282</td>\n",
       "      <td>0.004144</td>\n",
       "      <td>-0.487679</td>\n",
       "      <td>0.535724</td>\n",
       "    </tr>\n",
       "    <tr>\n",
       "      <td>Fluid, bbls</td>\n",
       "      <td>0.213521</td>\n",
       "      <td>0.256175</td>\n",
       "      <td>0.520606</td>\n",
       "      <td>-0.006636</td>\n",
       "      <td>0.194991</td>\n",
       "      <td>0.017878</td>\n",
       "      <td>0.714701</td>\n",
       "      <td>1.000000</td>\n",
       "      <td>0.241188</td>\n",
       "      <td>0.260443</td>\n",
       "      <td>...</td>\n",
       "      <td>-0.008240</td>\n",
       "      <td>-0.194170</td>\n",
       "      <td>-0.166497</td>\n",
       "      <td>0.392504</td>\n",
       "      <td>0.346689</td>\n",
       "      <td>0.542364</td>\n",
       "      <td>0.579526</td>\n",
       "      <td>0.173785</td>\n",
       "      <td>-0.499150</td>\n",
       "      <td>0.538226</td>\n",
       "    </tr>\n",
       "    <tr>\n",
       "      <td>Best1 Mo BOPD</td>\n",
       "      <td>0.094560</td>\n",
       "      <td>0.113087</td>\n",
       "      <td>0.265778</td>\n",
       "      <td>-0.121909</td>\n",
       "      <td>-0.164083</td>\n",
       "      <td>0.010863</td>\n",
       "      <td>0.371468</td>\n",
       "      <td>0.241188</td>\n",
       "      <td>1.000000</td>\n",
       "      <td>0.964461</td>\n",
       "      <td>...</td>\n",
       "      <td>-0.123385</td>\n",
       "      <td>0.181494</td>\n",
       "      <td>-0.131038</td>\n",
       "      <td>0.874867</td>\n",
       "      <td>0.196826</td>\n",
       "      <td>0.206115</td>\n",
       "      <td>0.328419</td>\n",
       "      <td>-0.593844</td>\n",
       "      <td>0.445904</td>\n",
       "      <td>0.193007</td>\n",
       "    </tr>\n",
       "    <tr>\n",
       "      <td>Best3 Mo BOPD</td>\n",
       "      <td>0.096491</td>\n",
       "      <td>0.113343</td>\n",
       "      <td>0.263466</td>\n",
       "      <td>-0.110662</td>\n",
       "      <td>-0.192811</td>\n",
       "      <td>0.012004</td>\n",
       "      <td>0.408457</td>\n",
       "      <td>0.260443</td>\n",
       "      <td>0.964461</td>\n",
       "      <td>1.000000</td>\n",
       "      <td>...</td>\n",
       "      <td>-0.112215</td>\n",
       "      <td>0.208846</td>\n",
       "      <td>-0.119870</td>\n",
       "      <td>0.936788</td>\n",
       "      <td>0.171387</td>\n",
       "      <td>0.227400</td>\n",
       "      <td>0.299310</td>\n",
       "      <td>-0.749003</td>\n",
       "      <td>0.412009</td>\n",
       "      <td>0.191037</td>\n",
       "    </tr>\n",
       "    <tr>\n",
       "      <td>Best6 Mo BOPD</td>\n",
       "      <td>0.104318</td>\n",
       "      <td>0.103529</td>\n",
       "      <td>0.251608</td>\n",
       "      <td>-0.101472</td>\n",
       "      <td>-0.216421</td>\n",
       "      <td>0.010873</td>\n",
       "      <td>0.422335</td>\n",
       "      <td>0.276661</td>\n",
       "      <td>0.930272</td>\n",
       "      <td>0.987134</td>\n",
       "      <td>...</td>\n",
       "      <td>-0.102928</td>\n",
       "      <td>0.231114</td>\n",
       "      <td>-0.099166</td>\n",
       "      <td>0.973459</td>\n",
       "      <td>0.129178</td>\n",
       "      <td>0.239450</td>\n",
       "      <td>0.297269</td>\n",
       "      <td>-0.811467</td>\n",
       "      <td>0.463814</td>\n",
       "      <td>0.178939</td>\n",
       "    </tr>\n",
       "    <tr>\n",
       "      <td>Best9 Mo BOPD</td>\n",
       "      <td>0.114553</td>\n",
       "      <td>0.098252</td>\n",
       "      <td>0.242121</td>\n",
       "      <td>-0.092244</td>\n",
       "      <td>-0.226095</td>\n",
       "      <td>0.007916</td>\n",
       "      <td>0.422783</td>\n",
       "      <td>0.290054</td>\n",
       "      <td>0.912720</td>\n",
       "      <td>0.973761</td>\n",
       "      <td>...</td>\n",
       "      <td>-0.093520</td>\n",
       "      <td>0.239724</td>\n",
       "      <td>-0.086794</td>\n",
       "      <td>0.983770</td>\n",
       "      <td>0.105886</td>\n",
       "      <td>0.237506</td>\n",
       "      <td>0.283064</td>\n",
       "      <td>-0.802807</td>\n",
       "      <td>0.631602</td>\n",
       "      <td>0.156885</td>\n",
       "    </tr>\n",
       "    <tr>\n",
       "      <td>Best12 Mo BOPD</td>\n",
       "      <td>0.121250</td>\n",
       "      <td>0.093744</td>\n",
       "      <td>0.227370</td>\n",
       "      <td>-0.081699</td>\n",
       "      <td>-0.238771</td>\n",
       "      <td>0.005923</td>\n",
       "      <td>0.417017</td>\n",
       "      <td>0.281228</td>\n",
       "      <td>0.902600</td>\n",
       "      <td>0.964364</td>\n",
       "      <td>...</td>\n",
       "      <td>-0.082780</td>\n",
       "      <td>0.251258</td>\n",
       "      <td>-0.083744</td>\n",
       "      <td>0.984430</td>\n",
       "      <td>0.089730</td>\n",
       "      <td>0.228174</td>\n",
       "      <td>0.268260</td>\n",
       "      <td>-0.776502</td>\n",
       "      <td>0.594845</td>\n",
       "      <td>0.133222</td>\n",
       "    </tr>\n",
       "    <tr>\n",
       "      <td>Latitude</td>\n",
       "      <td>0.245966</td>\n",
       "      <td>-0.037672</td>\n",
       "      <td>0.038070</td>\n",
       "      <td>0.998011</td>\n",
       "      <td>-0.009201</td>\n",
       "      <td>-0.037652</td>\n",
       "      <td>-0.007611</td>\n",
       "      <td>-0.008240</td>\n",
       "      <td>-0.123385</td>\n",
       "      <td>-0.112215</td>\n",
       "      <td>...</td>\n",
       "      <td>1.000000</td>\n",
       "      <td>-0.147739</td>\n",
       "      <td>0.015453</td>\n",
       "      <td>-0.115832</td>\n",
       "      <td>0.059251</td>\n",
       "      <td>-0.009479</td>\n",
       "      <td>-0.768311</td>\n",
       "      <td>0.731090</td>\n",
       "      <td>0.007869</td>\n",
       "      <td>-0.003671</td>\n",
       "    </tr>\n",
       "    <tr>\n",
       "      <td>Longitude</td>\n",
       "      <td>-0.052245</td>\n",
       "      <td>-0.233496</td>\n",
       "      <td>-0.154342</td>\n",
       "      <td>-0.145898</td>\n",
       "      <td>-0.983505</td>\n",
       "      <td>0.016787</td>\n",
       "      <td>0.020765</td>\n",
       "      <td>-0.194170</td>\n",
       "      <td>0.181494</td>\n",
       "      <td>0.208846</td>\n",
       "      <td>...</td>\n",
       "      <td>-0.147739</td>\n",
       "      <td>1.000000</td>\n",
       "      <td>-0.011091</td>\n",
       "      <td>0.209950</td>\n",
       "      <td>-0.122899</td>\n",
       "      <td>-0.131115</td>\n",
       "      <td>-0.539442</td>\n",
       "      <td>-0.108236</td>\n",
       "      <td>0.256691</td>\n",
       "      <td>-0.165334</td>\n",
       "    </tr>\n",
       "    <tr>\n",
       "      <td>SPACING_CAPPED</td>\n",
       "      <td>-0.107073</td>\n",
       "      <td>-0.147507</td>\n",
       "      <td>-0.245130</td>\n",
       "      <td>0.014882</td>\n",
       "      <td>0.009955</td>\n",
       "      <td>-0.010710</td>\n",
       "      <td>-0.161274</td>\n",
       "      <td>-0.166497</td>\n",
       "      <td>-0.131038</td>\n",
       "      <td>-0.119870</td>\n",
       "      <td>...</td>\n",
       "      <td>0.015453</td>\n",
       "      <td>-0.011091</td>\n",
       "      <td>1.000000</td>\n",
       "      <td>-0.137795</td>\n",
       "      <td>-0.336247</td>\n",
       "      <td>-0.148175</td>\n",
       "      <td>NaN</td>\n",
       "      <td>NaN</td>\n",
       "      <td>-0.374899</td>\n",
       "      <td>-0.324756</td>\n",
       "    </tr>\n",
       "    <tr>\n",
       "      <td>12 month Cum Prod</td>\n",
       "      <td>0.119804</td>\n",
       "      <td>0.147342</td>\n",
       "      <td>0.344700</td>\n",
       "      <td>-0.114935</td>\n",
       "      <td>-0.194452</td>\n",
       "      <td>0.004276</td>\n",
       "      <td>0.480937</td>\n",
       "      <td>0.392504</td>\n",
       "      <td>0.874867</td>\n",
       "      <td>0.936788</td>\n",
       "      <td>...</td>\n",
       "      <td>-0.115832</td>\n",
       "      <td>0.209950</td>\n",
       "      <td>-0.137795</td>\n",
       "      <td>1.000000</td>\n",
       "      <td>0.216394</td>\n",
       "      <td>0.318438</td>\n",
       "      <td>0.333429</td>\n",
       "      <td>-0.787614</td>\n",
       "      <td>0.334719</td>\n",
       "      <td>0.286433</td>\n",
       "    </tr>\n",
       "    <tr>\n",
       "      <td>Sleeves</td>\n",
       "      <td>0.186390</td>\n",
       "      <td>0.391450</td>\n",
       "      <td>0.894700</td>\n",
       "      <td>0.061510</td>\n",
       "      <td>0.112901</td>\n",
       "      <td>0.033284</td>\n",
       "      <td>0.501151</td>\n",
       "      <td>0.346689</td>\n",
       "      <td>0.196826</td>\n",
       "      <td>0.171387</td>\n",
       "      <td>...</td>\n",
       "      <td>0.059251</td>\n",
       "      <td>-0.122899</td>\n",
       "      <td>-0.336247</td>\n",
       "      <td>0.216394</td>\n",
       "      <td>1.000000</td>\n",
       "      <td>-0.310013</td>\n",
       "      <td>NaN</td>\n",
       "      <td>NaN</td>\n",
       "      <td>NaN</td>\n",
       "      <td>0.681389</td>\n",
       "    </tr>\n",
       "    <tr>\n",
       "      <td>P&amp;P</td>\n",
       "      <td>0.173148</td>\n",
       "      <td>0.528658</td>\n",
       "      <td>0.880684</td>\n",
       "      <td>-0.008466</td>\n",
       "      <td>0.133063</td>\n",
       "      <td>0.008336</td>\n",
       "      <td>0.553368</td>\n",
       "      <td>0.542364</td>\n",
       "      <td>0.206115</td>\n",
       "      <td>0.227400</td>\n",
       "      <td>...</td>\n",
       "      <td>-0.009479</td>\n",
       "      <td>-0.131115</td>\n",
       "      <td>-0.148175</td>\n",
       "      <td>0.318438</td>\n",
       "      <td>-0.310013</td>\n",
       "      <td>1.000000</td>\n",
       "      <td>-0.764521</td>\n",
       "      <td>NaN</td>\n",
       "      <td>NaN</td>\n",
       "      <td>0.557322</td>\n",
       "    </tr>\n",
       "    <tr>\n",
       "      <td>Frac Ports</td>\n",
       "      <td>-0.711513</td>\n",
       "      <td>-0.087372</td>\n",
       "      <td>0.193914</td>\n",
       "      <td>-0.756806</td>\n",
       "      <td>0.602259</td>\n",
       "      <td>0.459620</td>\n",
       "      <td>0.469282</td>\n",
       "      <td>0.579526</td>\n",
       "      <td>0.328419</td>\n",
       "      <td>0.299310</td>\n",
       "      <td>...</td>\n",
       "      <td>-0.768311</td>\n",
       "      <td>-0.539442</td>\n",
       "      <td>NaN</td>\n",
       "      <td>0.333429</td>\n",
       "      <td>NaN</td>\n",
       "      <td>-0.764521</td>\n",
       "      <td>1.000000</td>\n",
       "      <td>-0.995871</td>\n",
       "      <td>NaN</td>\n",
       "      <td>0.417197</td>\n",
       "    </tr>\n",
       "    <tr>\n",
       "      <td>Repeater Ports</td>\n",
       "      <td>0.535451</td>\n",
       "      <td>0.349897</td>\n",
       "      <td>0.078326</td>\n",
       "      <td>0.716801</td>\n",
       "      <td>0.045222</td>\n",
       "      <td>-0.436849</td>\n",
       "      <td>0.004144</td>\n",
       "      <td>0.173785</td>\n",
       "      <td>-0.593844</td>\n",
       "      <td>-0.749003</td>\n",
       "      <td>...</td>\n",
       "      <td>0.731090</td>\n",
       "      <td>-0.108236</td>\n",
       "      <td>NaN</td>\n",
       "      <td>-0.787614</td>\n",
       "      <td>NaN</td>\n",
       "      <td>NaN</td>\n",
       "      <td>-0.995871</td>\n",
       "      <td>1.000000</td>\n",
       "      <td>NaN</td>\n",
       "      <td>0.123844</td>\n",
       "    </tr>\n",
       "    <tr>\n",
       "      <td>CT</td>\n",
       "      <td>0.191782</td>\n",
       "      <td>0.391838</td>\n",
       "      <td>0.983473</td>\n",
       "      <td>0.011609</td>\n",
       "      <td>-0.185800</td>\n",
       "      <td>0.098984</td>\n",
       "      <td>-0.487679</td>\n",
       "      <td>-0.499150</td>\n",
       "      <td>0.445904</td>\n",
       "      <td>0.412009</td>\n",
       "      <td>...</td>\n",
       "      <td>0.007869</td>\n",
       "      <td>0.256691</td>\n",
       "      <td>-0.374899</td>\n",
       "      <td>0.334719</td>\n",
       "      <td>NaN</td>\n",
       "      <td>NaN</td>\n",
       "      <td>NaN</td>\n",
       "      <td>NaN</td>\n",
       "      <td>1.000000</td>\n",
       "      <td>0.342772</td>\n",
       "    </tr>\n",
       "    <tr>\n",
       "      <td>Year Drilled</td>\n",
       "      <td>0.186718</td>\n",
       "      <td>0.313809</td>\n",
       "      <td>0.718240</td>\n",
       "      <td>-0.001583</td>\n",
       "      <td>0.164663</td>\n",
       "      <td>0.029651</td>\n",
       "      <td>0.535724</td>\n",
       "      <td>0.538226</td>\n",
       "      <td>0.193007</td>\n",
       "      <td>0.191037</td>\n",
       "      <td>...</td>\n",
       "      <td>-0.003671</td>\n",
       "      <td>-0.165334</td>\n",
       "      <td>-0.324756</td>\n",
       "      <td>0.286433</td>\n",
       "      <td>0.681389</td>\n",
       "      <td>0.557322</td>\n",
       "      <td>0.417197</td>\n",
       "      <td>0.123844</td>\n",
       "      <td>0.342772</td>\n",
       "      <td>1.000000</td>\n",
       "    </tr>\n",
       "  </tbody>\n",
       "</table>\n",
       "<p>23 rows × 23 columns</p>\n",
       "</div>"
      ],
      "text/plain": [
       "                   Unnamed: 0  Lateral Length    Stages  Township      Range  \\\n",
       "Unnamed: 0           1.000000        0.053661  0.228829   0.243115  0.011720   \n",
       "Lateral Length       0.053661        1.000000  0.456774  -0.038726  0.241831   \n",
       "Stages               0.228829        0.456774  1.000000   0.040092  0.147589   \n",
       "Township             0.243115       -0.038726  0.040092   1.000000 -0.011333   \n",
       "Range                0.011720        0.241831  0.147589  -0.011333  1.000000   \n",
       "Section             -0.050113       -0.021131  0.024033   0.023008 -0.019859   \n",
       "Total Prop, lbs      0.203161        0.253713  0.587432  -0.005835 -0.021746   \n",
       "Fluid, bbls          0.213521        0.256175  0.520606  -0.006636  0.194991   \n",
       "Best1 Mo BOPD        0.094560        0.113087  0.265778  -0.121909 -0.164083   \n",
       "Best3 Mo BOPD        0.096491        0.113343  0.263466  -0.110662 -0.192811   \n",
       "Best6 Mo BOPD        0.104318        0.103529  0.251608  -0.101472 -0.216421   \n",
       "Best9 Mo BOPD        0.114553        0.098252  0.242121  -0.092244 -0.226095   \n",
       "Best12 Mo BOPD       0.121250        0.093744  0.227370  -0.081699 -0.238771   \n",
       "Latitude             0.245966       -0.037672  0.038070   0.998011 -0.009201   \n",
       "Longitude           -0.052245       -0.233496 -0.154342  -0.145898 -0.983505   \n",
       "SPACING_CAPPED      -0.107073       -0.147507 -0.245130   0.014882  0.009955   \n",
       "12 month Cum Prod    0.119804        0.147342  0.344700  -0.114935 -0.194452   \n",
       "Sleeves              0.186390        0.391450  0.894700   0.061510  0.112901   \n",
       "P&P                  0.173148        0.528658  0.880684  -0.008466  0.133063   \n",
       "Frac Ports          -0.711513       -0.087372  0.193914  -0.756806  0.602259   \n",
       "Repeater Ports       0.535451        0.349897  0.078326   0.716801  0.045222   \n",
       "CT                   0.191782        0.391838  0.983473   0.011609 -0.185800   \n",
       "Year Drilled         0.186718        0.313809  0.718240  -0.001583  0.164663   \n",
       "\n",
       "                    Section  Total Prop, lbs  Fluid, bbls  Best1 Mo BOPD  \\\n",
       "Unnamed: 0        -0.050113         0.203161     0.213521       0.094560   \n",
       "Lateral Length    -0.021131         0.253713     0.256175       0.113087   \n",
       "Stages             0.024033         0.587432     0.520606       0.265778   \n",
       "Township           0.023008        -0.005835    -0.006636      -0.121909   \n",
       "Range             -0.019859        -0.021746     0.194991      -0.164083   \n",
       "Section            1.000000         0.020073     0.017878       0.010863   \n",
       "Total Prop, lbs    0.020073         1.000000     0.714701       0.371468   \n",
       "Fluid, bbls        0.017878         0.714701     1.000000       0.241188   \n",
       "Best1 Mo BOPD      0.010863         0.371468     0.241188       1.000000   \n",
       "Best3 Mo BOPD      0.012004         0.408457     0.260443       0.964461   \n",
       "Best6 Mo BOPD      0.010873         0.422335     0.276661       0.930272   \n",
       "Best9 Mo BOPD      0.007916         0.422783     0.290054       0.912720   \n",
       "Best12 Mo BOPD     0.005923         0.417017     0.281228       0.902600   \n",
       "Latitude          -0.037652        -0.007611    -0.008240      -0.123385   \n",
       "Longitude          0.016787         0.020765    -0.194170       0.181494   \n",
       "SPACING_CAPPED    -0.010710        -0.161274    -0.166497      -0.131038   \n",
       "12 month Cum Prod  0.004276         0.480937     0.392504       0.874867   \n",
       "Sleeves            0.033284         0.501151     0.346689       0.196826   \n",
       "P&P                0.008336         0.553368     0.542364       0.206115   \n",
       "Frac Ports         0.459620         0.469282     0.579526       0.328419   \n",
       "Repeater Ports    -0.436849         0.004144     0.173785      -0.593844   \n",
       "CT                 0.098984        -0.487679    -0.499150       0.445904   \n",
       "Year Drilled       0.029651         0.535724     0.538226       0.193007   \n",
       "\n",
       "                   Best3 Mo BOPD  ...  Latitude  Longitude  SPACING_CAPPED  \\\n",
       "Unnamed: 0              0.096491  ...  0.245966  -0.052245       -0.107073   \n",
       "Lateral Length          0.113343  ... -0.037672  -0.233496       -0.147507   \n",
       "Stages                  0.263466  ...  0.038070  -0.154342       -0.245130   \n",
       "Township               -0.110662  ...  0.998011  -0.145898        0.014882   \n",
       "Range                  -0.192811  ... -0.009201  -0.983505        0.009955   \n",
       "Section                 0.012004  ... -0.037652   0.016787       -0.010710   \n",
       "Total Prop, lbs         0.408457  ... -0.007611   0.020765       -0.161274   \n",
       "Fluid, bbls             0.260443  ... -0.008240  -0.194170       -0.166497   \n",
       "Best1 Mo BOPD           0.964461  ... -0.123385   0.181494       -0.131038   \n",
       "Best3 Mo BOPD           1.000000  ... -0.112215   0.208846       -0.119870   \n",
       "Best6 Mo BOPD           0.987134  ... -0.102928   0.231114       -0.099166   \n",
       "Best9 Mo BOPD           0.973761  ... -0.093520   0.239724       -0.086794   \n",
       "Best12 Mo BOPD          0.964364  ... -0.082780   0.251258       -0.083744   \n",
       "Latitude               -0.112215  ...  1.000000  -0.147739        0.015453   \n",
       "Longitude               0.208846  ... -0.147739   1.000000       -0.011091   \n",
       "SPACING_CAPPED         -0.119870  ...  0.015453  -0.011091        1.000000   \n",
       "12 month Cum Prod       0.936788  ... -0.115832   0.209950       -0.137795   \n",
       "Sleeves                 0.171387  ...  0.059251  -0.122899       -0.336247   \n",
       "P&P                     0.227400  ... -0.009479  -0.131115       -0.148175   \n",
       "Frac Ports              0.299310  ... -0.768311  -0.539442             NaN   \n",
       "Repeater Ports         -0.749003  ...  0.731090  -0.108236             NaN   \n",
       "CT                      0.412009  ...  0.007869   0.256691       -0.374899   \n",
       "Year Drilled            0.191037  ... -0.003671  -0.165334       -0.324756   \n",
       "\n",
       "                   12 month Cum Prod   Sleeves       P&P  Frac Ports  \\\n",
       "Unnamed: 0                  0.119804  0.186390  0.173148   -0.711513   \n",
       "Lateral Length              0.147342  0.391450  0.528658   -0.087372   \n",
       "Stages                      0.344700  0.894700  0.880684    0.193914   \n",
       "Township                   -0.114935  0.061510 -0.008466   -0.756806   \n",
       "Range                      -0.194452  0.112901  0.133063    0.602259   \n",
       "Section                     0.004276  0.033284  0.008336    0.459620   \n",
       "Total Prop, lbs             0.480937  0.501151  0.553368    0.469282   \n",
       "Fluid, bbls                 0.392504  0.346689  0.542364    0.579526   \n",
       "Best1 Mo BOPD               0.874867  0.196826  0.206115    0.328419   \n",
       "Best3 Mo BOPD               0.936788  0.171387  0.227400    0.299310   \n",
       "Best6 Mo BOPD               0.973459  0.129178  0.239450    0.297269   \n",
       "Best9 Mo BOPD               0.983770  0.105886  0.237506    0.283064   \n",
       "Best12 Mo BOPD              0.984430  0.089730  0.228174    0.268260   \n",
       "Latitude                   -0.115832  0.059251 -0.009479   -0.768311   \n",
       "Longitude                   0.209950 -0.122899 -0.131115   -0.539442   \n",
       "SPACING_CAPPED             -0.137795 -0.336247 -0.148175         NaN   \n",
       "12 month Cum Prod           1.000000  0.216394  0.318438    0.333429   \n",
       "Sleeves                     0.216394  1.000000 -0.310013         NaN   \n",
       "P&P                         0.318438 -0.310013  1.000000   -0.764521   \n",
       "Frac Ports                  0.333429       NaN -0.764521    1.000000   \n",
       "Repeater Ports             -0.787614       NaN       NaN   -0.995871   \n",
       "CT                          0.334719       NaN       NaN         NaN   \n",
       "Year Drilled                0.286433  0.681389  0.557322    0.417197   \n",
       "\n",
       "                   Repeater Ports        CT  Year Drilled  \n",
       "Unnamed: 0               0.535451  0.191782      0.186718  \n",
       "Lateral Length           0.349897  0.391838      0.313809  \n",
       "Stages                   0.078326  0.983473      0.718240  \n",
       "Township                 0.716801  0.011609     -0.001583  \n",
       "Range                    0.045222 -0.185800      0.164663  \n",
       "Section                 -0.436849  0.098984      0.029651  \n",
       "Total Prop, lbs          0.004144 -0.487679      0.535724  \n",
       "Fluid, bbls              0.173785 -0.499150      0.538226  \n",
       "Best1 Mo BOPD           -0.593844  0.445904      0.193007  \n",
       "Best3 Mo BOPD           -0.749003  0.412009      0.191037  \n",
       "Best6 Mo BOPD           -0.811467  0.463814      0.178939  \n",
       "Best9 Mo BOPD           -0.802807  0.631602      0.156885  \n",
       "Best12 Mo BOPD          -0.776502  0.594845      0.133222  \n",
       "Latitude                 0.731090  0.007869     -0.003671  \n",
       "Longitude               -0.108236  0.256691     -0.165334  \n",
       "SPACING_CAPPED                NaN -0.374899     -0.324756  \n",
       "12 month Cum Prod       -0.787614  0.334719      0.286433  \n",
       "Sleeves                       NaN       NaN      0.681389  \n",
       "P&P                           NaN       NaN      0.557322  \n",
       "Frac Ports              -0.995871       NaN      0.417197  \n",
       "Repeater Ports           1.000000       NaN      0.123844  \n",
       "CT                            NaN  1.000000      0.342772  \n",
       "Year Drilled             0.123844  0.342772      1.000000  \n",
       "\n",
       "[23 rows x 23 columns]"
      ]
     },
     "execution_count": 111,
     "metadata": {},
     "output_type": "execute_result"
    }
   ],
   "source": [
    "#Finding Pearson's correlation coefficient for each feature\n",
    "pearson_correlation = DatabaseDF.corr(method = 'pearson')\n",
    "pearson_correlation"
   ]
  },
  {
   "cell_type": "code",
   "execution_count": 112,
   "metadata": {},
   "outputs": [
    {
     "data": {
      "text/plain": [
       "Unnamed: 0           0.119804\n",
       "Lateral Length       0.147342\n",
       "Stages               0.344700\n",
       "Township            -0.114935\n",
       "Range               -0.194452\n",
       "Section              0.004276\n",
       "Total Prop, lbs      0.480937\n",
       "Fluid, bbls          0.392504\n",
       "Best1 Mo BOPD        0.874867\n",
       "Best3 Mo BOPD        0.936788\n",
       "Best6 Mo BOPD        0.973459\n",
       "Best9 Mo BOPD        0.983770\n",
       "Best12 Mo BOPD       0.984430\n",
       "Latitude            -0.115832\n",
       "Longitude            0.209950\n",
       "SPACING_CAPPED      -0.137795\n",
       "12 month Cum Prod    1.000000\n",
       "Sleeves              0.216394\n",
       "P&P                  0.318438\n",
       "Frac Ports           0.333429\n",
       "Repeater Ports      -0.787614\n",
       "CT                   0.334719\n",
       "Year Drilled         0.286433\n",
       "Name: 12 month Cum Prod, dtype: float64"
      ]
     },
     "execution_count": 112,
     "metadata": {},
     "output_type": "execute_result"
    }
   ],
   "source": [
    "#Printing the correlation to Cumulative Production specifically\n",
    "pearson_correlation['12 month Cum Prod']"
   ]
  },
  {
   "cell_type": "markdown",
   "metadata": {},
   "source": [
    "### First set of variables:"
   ]
  },
  {
   "cell_type": "code",
   "execution_count": 113,
   "metadata": {},
   "outputs": [],
   "source": [
    "#Features that are being compared\n",
    "features = ['Lateral Length', 'Stages', 'Fluid, bbls', 'Total Prop, lbs', 'Longitude']\n",
    "#Radius values for each variable\n",
    "radius_values = []\n",
    "for i in features:\n",
    "        radius_values.append(pearson_correlation.at[i, '12 month Cum Prod'])\n",
    "\n",
    "        '''I would explain why this code is being done. and why Pearson specifically.'''\n"
   ]
  },
  {
   "cell_type": "code",
   "execution_count": 114,
   "metadata": {},
   "outputs": [
    {
     "data": {
      "application/vnd.plotly.v1+json": {
       "config": {
        "plotlyServerURL": "https://plot.ly"
       },
       "data": [
        {
         "fill": "toself",
         "hovertemplate": "r=%{r}<br>theta=%{theta}<extra></extra>",
         "legendgroup": "",
         "line": {
          "color": "#636efa",
          "dash": "solid"
         },
         "mode": "lines",
         "name": "",
         "r": [
          0.1473422736868053,
          0.3447001511218935,
          0.3925036306943369,
          0.4809374156532925,
          0.20994989668825137,
          0.1473422736868053
         ],
         "showlegend": false,
         "subplot": "polar",
         "theta": [
          "Lateral Length",
          "Stages",
          "Fluid, bbls",
          "Total Prop, lbs",
          "Longitude",
          "Lateral Length"
         ],
         "type": "scatterpolar"
        }
       ],
       "layout": {
        "legend": {
         "tracegroupgap": 0
        },
        "margin": {
         "t": 60
        },
        "polar": {
         "angularaxis": {
          "direction": "clockwise",
          "rotation": 90
         },
         "domain": {
          "x": [
           0,
           1
          ],
          "y": [
           0,
           1
          ]
         }
        },
        "template": {
         "data": {
          "bar": [
           {
            "error_x": {
             "color": "#2a3f5f"
            },
            "error_y": {
             "color": "#2a3f5f"
            },
            "marker": {
             "line": {
              "color": "#E5ECF6",
              "width": 0.5
             }
            },
            "type": "bar"
           }
          ],
          "barpolar": [
           {
            "marker": {
             "line": {
              "color": "#E5ECF6",
              "width": 0.5
             }
            },
            "type": "barpolar"
           }
          ],
          "carpet": [
           {
            "aaxis": {
             "endlinecolor": "#2a3f5f",
             "gridcolor": "white",
             "linecolor": "white",
             "minorgridcolor": "white",
             "startlinecolor": "#2a3f5f"
            },
            "baxis": {
             "endlinecolor": "#2a3f5f",
             "gridcolor": "white",
             "linecolor": "white",
             "minorgridcolor": "white",
             "startlinecolor": "#2a3f5f"
            },
            "type": "carpet"
           }
          ],
          "choropleth": [
           {
            "colorbar": {
             "outlinewidth": 0,
             "ticks": ""
            },
            "type": "choropleth"
           }
          ],
          "contour": [
           {
            "colorbar": {
             "outlinewidth": 0,
             "ticks": ""
            },
            "colorscale": [
             [
              0,
              "#0d0887"
             ],
             [
              0.1111111111111111,
              "#46039f"
             ],
             [
              0.2222222222222222,
              "#7201a8"
             ],
             [
              0.3333333333333333,
              "#9c179e"
             ],
             [
              0.4444444444444444,
              "#bd3786"
             ],
             [
              0.5555555555555556,
              "#d8576b"
             ],
             [
              0.6666666666666666,
              "#ed7953"
             ],
             [
              0.7777777777777778,
              "#fb9f3a"
             ],
             [
              0.8888888888888888,
              "#fdca26"
             ],
             [
              1,
              "#f0f921"
             ]
            ],
            "type": "contour"
           }
          ],
          "contourcarpet": [
           {
            "colorbar": {
             "outlinewidth": 0,
             "ticks": ""
            },
            "type": "contourcarpet"
           }
          ],
          "heatmap": [
           {
            "colorbar": {
             "outlinewidth": 0,
             "ticks": ""
            },
            "colorscale": [
             [
              0,
              "#0d0887"
             ],
             [
              0.1111111111111111,
              "#46039f"
             ],
             [
              0.2222222222222222,
              "#7201a8"
             ],
             [
              0.3333333333333333,
              "#9c179e"
             ],
             [
              0.4444444444444444,
              "#bd3786"
             ],
             [
              0.5555555555555556,
              "#d8576b"
             ],
             [
              0.6666666666666666,
              "#ed7953"
             ],
             [
              0.7777777777777778,
              "#fb9f3a"
             ],
             [
              0.8888888888888888,
              "#fdca26"
             ],
             [
              1,
              "#f0f921"
             ]
            ],
            "type": "heatmap"
           }
          ],
          "heatmapgl": [
           {
            "colorbar": {
             "outlinewidth": 0,
             "ticks": ""
            },
            "colorscale": [
             [
              0,
              "#0d0887"
             ],
             [
              0.1111111111111111,
              "#46039f"
             ],
             [
              0.2222222222222222,
              "#7201a8"
             ],
             [
              0.3333333333333333,
              "#9c179e"
             ],
             [
              0.4444444444444444,
              "#bd3786"
             ],
             [
              0.5555555555555556,
              "#d8576b"
             ],
             [
              0.6666666666666666,
              "#ed7953"
             ],
             [
              0.7777777777777778,
              "#fb9f3a"
             ],
             [
              0.8888888888888888,
              "#fdca26"
             ],
             [
              1,
              "#f0f921"
             ]
            ],
            "type": "heatmapgl"
           }
          ],
          "histogram": [
           {
            "marker": {
             "colorbar": {
              "outlinewidth": 0,
              "ticks": ""
             }
            },
            "type": "histogram"
           }
          ],
          "histogram2d": [
           {
            "colorbar": {
             "outlinewidth": 0,
             "ticks": ""
            },
            "colorscale": [
             [
              0,
              "#0d0887"
             ],
             [
              0.1111111111111111,
              "#46039f"
             ],
             [
              0.2222222222222222,
              "#7201a8"
             ],
             [
              0.3333333333333333,
              "#9c179e"
             ],
             [
              0.4444444444444444,
              "#bd3786"
             ],
             [
              0.5555555555555556,
              "#d8576b"
             ],
             [
              0.6666666666666666,
              "#ed7953"
             ],
             [
              0.7777777777777778,
              "#fb9f3a"
             ],
             [
              0.8888888888888888,
              "#fdca26"
             ],
             [
              1,
              "#f0f921"
             ]
            ],
            "type": "histogram2d"
           }
          ],
          "histogram2dcontour": [
           {
            "colorbar": {
             "outlinewidth": 0,
             "ticks": ""
            },
            "colorscale": [
             [
              0,
              "#0d0887"
             ],
             [
              0.1111111111111111,
              "#46039f"
             ],
             [
              0.2222222222222222,
              "#7201a8"
             ],
             [
              0.3333333333333333,
              "#9c179e"
             ],
             [
              0.4444444444444444,
              "#bd3786"
             ],
             [
              0.5555555555555556,
              "#d8576b"
             ],
             [
              0.6666666666666666,
              "#ed7953"
             ],
             [
              0.7777777777777778,
              "#fb9f3a"
             ],
             [
              0.8888888888888888,
              "#fdca26"
             ],
             [
              1,
              "#f0f921"
             ]
            ],
            "type": "histogram2dcontour"
           }
          ],
          "mesh3d": [
           {
            "colorbar": {
             "outlinewidth": 0,
             "ticks": ""
            },
            "type": "mesh3d"
           }
          ],
          "parcoords": [
           {
            "line": {
             "colorbar": {
              "outlinewidth": 0,
              "ticks": ""
             }
            },
            "type": "parcoords"
           }
          ],
          "pie": [
           {
            "automargin": true,
            "type": "pie"
           }
          ],
          "scatter": [
           {
            "marker": {
             "colorbar": {
              "outlinewidth": 0,
              "ticks": ""
             }
            },
            "type": "scatter"
           }
          ],
          "scatter3d": [
           {
            "line": {
             "colorbar": {
              "outlinewidth": 0,
              "ticks": ""
             }
            },
            "marker": {
             "colorbar": {
              "outlinewidth": 0,
              "ticks": ""
             }
            },
            "type": "scatter3d"
           }
          ],
          "scattercarpet": [
           {
            "marker": {
             "colorbar": {
              "outlinewidth": 0,
              "ticks": ""
             }
            },
            "type": "scattercarpet"
           }
          ],
          "scattergeo": [
           {
            "marker": {
             "colorbar": {
              "outlinewidth": 0,
              "ticks": ""
             }
            },
            "type": "scattergeo"
           }
          ],
          "scattergl": [
           {
            "marker": {
             "colorbar": {
              "outlinewidth": 0,
              "ticks": ""
             }
            },
            "type": "scattergl"
           }
          ],
          "scattermapbox": [
           {
            "marker": {
             "colorbar": {
              "outlinewidth": 0,
              "ticks": ""
             }
            },
            "type": "scattermapbox"
           }
          ],
          "scatterpolar": [
           {
            "marker": {
             "colorbar": {
              "outlinewidth": 0,
              "ticks": ""
             }
            },
            "type": "scatterpolar"
           }
          ],
          "scatterpolargl": [
           {
            "marker": {
             "colorbar": {
              "outlinewidth": 0,
              "ticks": ""
             }
            },
            "type": "scatterpolargl"
           }
          ],
          "scatterternary": [
           {
            "marker": {
             "colorbar": {
              "outlinewidth": 0,
              "ticks": ""
             }
            },
            "type": "scatterternary"
           }
          ],
          "surface": [
           {
            "colorbar": {
             "outlinewidth": 0,
             "ticks": ""
            },
            "colorscale": [
             [
              0,
              "#0d0887"
             ],
             [
              0.1111111111111111,
              "#46039f"
             ],
             [
              0.2222222222222222,
              "#7201a8"
             ],
             [
              0.3333333333333333,
              "#9c179e"
             ],
             [
              0.4444444444444444,
              "#bd3786"
             ],
             [
              0.5555555555555556,
              "#d8576b"
             ],
             [
              0.6666666666666666,
              "#ed7953"
             ],
             [
              0.7777777777777778,
              "#fb9f3a"
             ],
             [
              0.8888888888888888,
              "#fdca26"
             ],
             [
              1,
              "#f0f921"
             ]
            ],
            "type": "surface"
           }
          ],
          "table": [
           {
            "cells": {
             "fill": {
              "color": "#EBF0F8"
             },
             "line": {
              "color": "white"
             }
            },
            "header": {
             "fill": {
              "color": "#C8D4E3"
             },
             "line": {
              "color": "white"
             }
            },
            "type": "table"
           }
          ]
         },
         "layout": {
          "annotationdefaults": {
           "arrowcolor": "#2a3f5f",
           "arrowhead": 0,
           "arrowwidth": 1
          },
          "coloraxis": {
           "colorbar": {
            "outlinewidth": 0,
            "ticks": ""
           }
          },
          "colorscale": {
           "diverging": [
            [
             0,
             "#8e0152"
            ],
            [
             0.1,
             "#c51b7d"
            ],
            [
             0.2,
             "#de77ae"
            ],
            [
             0.3,
             "#f1b6da"
            ],
            [
             0.4,
             "#fde0ef"
            ],
            [
             0.5,
             "#f7f7f7"
            ],
            [
             0.6,
             "#e6f5d0"
            ],
            [
             0.7,
             "#b8e186"
            ],
            [
             0.8,
             "#7fbc41"
            ],
            [
             0.9,
             "#4d9221"
            ],
            [
             1,
             "#276419"
            ]
           ],
           "sequential": [
            [
             0,
             "#0d0887"
            ],
            [
             0.1111111111111111,
             "#46039f"
            ],
            [
             0.2222222222222222,
             "#7201a8"
            ],
            [
             0.3333333333333333,
             "#9c179e"
            ],
            [
             0.4444444444444444,
             "#bd3786"
            ],
            [
             0.5555555555555556,
             "#d8576b"
            ],
            [
             0.6666666666666666,
             "#ed7953"
            ],
            [
             0.7777777777777778,
             "#fb9f3a"
            ],
            [
             0.8888888888888888,
             "#fdca26"
            ],
            [
             1,
             "#f0f921"
            ]
           ],
           "sequentialminus": [
            [
             0,
             "#0d0887"
            ],
            [
             0.1111111111111111,
             "#46039f"
            ],
            [
             0.2222222222222222,
             "#7201a8"
            ],
            [
             0.3333333333333333,
             "#9c179e"
            ],
            [
             0.4444444444444444,
             "#bd3786"
            ],
            [
             0.5555555555555556,
             "#d8576b"
            ],
            [
             0.6666666666666666,
             "#ed7953"
            ],
            [
             0.7777777777777778,
             "#fb9f3a"
            ],
            [
             0.8888888888888888,
             "#fdca26"
            ],
            [
             1,
             "#f0f921"
            ]
           ]
          },
          "colorway": [
           "#636efa",
           "#EF553B",
           "#00cc96",
           "#ab63fa",
           "#FFA15A",
           "#19d3f3",
           "#FF6692",
           "#B6E880",
           "#FF97FF",
           "#FECB52"
          ],
          "font": {
           "color": "#2a3f5f"
          },
          "geo": {
           "bgcolor": "white",
           "lakecolor": "white",
           "landcolor": "#E5ECF6",
           "showlakes": true,
           "showland": true,
           "subunitcolor": "white"
          },
          "hoverlabel": {
           "align": "left"
          },
          "hovermode": "closest",
          "mapbox": {
           "style": "light"
          },
          "paper_bgcolor": "white",
          "plot_bgcolor": "#E5ECF6",
          "polar": {
           "angularaxis": {
            "gridcolor": "white",
            "linecolor": "white",
            "ticks": ""
           },
           "bgcolor": "#E5ECF6",
           "radialaxis": {
            "gridcolor": "white",
            "linecolor": "white",
            "ticks": ""
           }
          },
          "scene": {
           "xaxis": {
            "backgroundcolor": "#E5ECF6",
            "gridcolor": "white",
            "gridwidth": 2,
            "linecolor": "white",
            "showbackground": true,
            "ticks": "",
            "zerolinecolor": "white"
           },
           "yaxis": {
            "backgroundcolor": "#E5ECF6",
            "gridcolor": "white",
            "gridwidth": 2,
            "linecolor": "white",
            "showbackground": true,
            "ticks": "",
            "zerolinecolor": "white"
           },
           "zaxis": {
            "backgroundcolor": "#E5ECF6",
            "gridcolor": "white",
            "gridwidth": 2,
            "linecolor": "white",
            "showbackground": true,
            "ticks": "",
            "zerolinecolor": "white"
           }
          },
          "shapedefaults": {
           "line": {
            "color": "#2a3f5f"
           }
          },
          "ternary": {
           "aaxis": {
            "gridcolor": "white",
            "linecolor": "white",
            "ticks": ""
           },
           "baxis": {
            "gridcolor": "white",
            "linecolor": "white",
            "ticks": ""
           },
           "bgcolor": "#E5ECF6",
           "caxis": {
            "gridcolor": "white",
            "linecolor": "white",
            "ticks": ""
           }
          },
          "title": {
           "x": 0.05
          },
          "xaxis": {
           "automargin": true,
           "gridcolor": "white",
           "linecolor": "white",
           "ticks": "",
           "title": {
            "standoff": 15
           },
           "zerolinecolor": "white",
           "zerolinewidth": 2
          },
          "yaxis": {
           "automargin": true,
           "gridcolor": "white",
           "linecolor": "white",
           "ticks": "",
           "title": {
            "standoff": 15
           },
           "zerolinecolor": "white",
           "zerolinewidth": 2
          }
         }
        }
       }
      },
      "text/html": [
       "<div>\n",
       "        \n",
       "        \n",
       "            <div id=\"8868ea5d-b5d1-45c9-b2f8-f4bb0d8a2b38\" class=\"plotly-graph-div\" style=\"height:525px; width:100%;\"></div>\n",
       "            <script type=\"text/javascript\">\n",
       "                require([\"plotly\"], function(Plotly) {\n",
       "                    window.PLOTLYENV=window.PLOTLYENV || {};\n",
       "                    \n",
       "                if (document.getElementById(\"8868ea5d-b5d1-45c9-b2f8-f4bb0d8a2b38\")) {\n",
       "                    Plotly.newPlot(\n",
       "                        '8868ea5d-b5d1-45c9-b2f8-f4bb0d8a2b38',\n",
       "                        [{\"fill\": \"toself\", \"hovertemplate\": \"r=%{r}<br>theta=%{theta}<extra></extra>\", \"legendgroup\": \"\", \"line\": {\"color\": \"#636efa\", \"dash\": \"solid\"}, \"mode\": \"lines\", \"name\": \"\", \"r\": [0.1473422736868053, 0.3447001511218935, 0.3925036306943369, 0.4809374156532925, 0.20994989668825137, 0.1473422736868053], \"showlegend\": false, \"subplot\": \"polar\", \"theta\": [\"Lateral Length\", \"Stages\", \"Fluid, bbls\", \"Total Prop, lbs\", \"Longitude\", \"Lateral Length\"], \"type\": \"scatterpolar\"}],\n",
       "                        {\"legend\": {\"tracegroupgap\": 0}, \"margin\": {\"t\": 60}, \"polar\": {\"angularaxis\": {\"direction\": \"clockwise\", \"rotation\": 90}, \"domain\": {\"x\": [0.0, 1.0], \"y\": [0.0, 1.0]}}, \"template\": {\"data\": {\"bar\": [{\"error_x\": {\"color\": \"#2a3f5f\"}, \"error_y\": {\"color\": \"#2a3f5f\"}, \"marker\": {\"line\": {\"color\": \"#E5ECF6\", \"width\": 0.5}}, \"type\": \"bar\"}], \"barpolar\": [{\"marker\": {\"line\": {\"color\": \"#E5ECF6\", \"width\": 0.5}}, \"type\": \"barpolar\"}], \"carpet\": [{\"aaxis\": {\"endlinecolor\": \"#2a3f5f\", \"gridcolor\": \"white\", \"linecolor\": \"white\", \"minorgridcolor\": \"white\", \"startlinecolor\": \"#2a3f5f\"}, \"baxis\": {\"endlinecolor\": \"#2a3f5f\", \"gridcolor\": \"white\", \"linecolor\": \"white\", \"minorgridcolor\": \"white\", \"startlinecolor\": \"#2a3f5f\"}, \"type\": \"carpet\"}], \"choropleth\": [{\"colorbar\": {\"outlinewidth\": 0, \"ticks\": \"\"}, \"type\": \"choropleth\"}], \"contour\": [{\"colorbar\": {\"outlinewidth\": 0, \"ticks\": \"\"}, \"colorscale\": [[0.0, \"#0d0887\"], [0.1111111111111111, \"#46039f\"], [0.2222222222222222, \"#7201a8\"], [0.3333333333333333, \"#9c179e\"], [0.4444444444444444, \"#bd3786\"], [0.5555555555555556, \"#d8576b\"], [0.6666666666666666, \"#ed7953\"], [0.7777777777777778, \"#fb9f3a\"], [0.8888888888888888, \"#fdca26\"], [1.0, \"#f0f921\"]], \"type\": \"contour\"}], \"contourcarpet\": [{\"colorbar\": {\"outlinewidth\": 0, \"ticks\": \"\"}, \"type\": \"contourcarpet\"}], \"heatmap\": [{\"colorbar\": {\"outlinewidth\": 0, \"ticks\": \"\"}, \"colorscale\": [[0.0, \"#0d0887\"], [0.1111111111111111, \"#46039f\"], [0.2222222222222222, \"#7201a8\"], [0.3333333333333333, \"#9c179e\"], [0.4444444444444444, \"#bd3786\"], [0.5555555555555556, \"#d8576b\"], [0.6666666666666666, \"#ed7953\"], [0.7777777777777778, \"#fb9f3a\"], [0.8888888888888888, \"#fdca26\"], [1.0, \"#f0f921\"]], \"type\": \"heatmap\"}], \"heatmapgl\": [{\"colorbar\": {\"outlinewidth\": 0, \"ticks\": \"\"}, \"colorscale\": [[0.0, \"#0d0887\"], [0.1111111111111111, \"#46039f\"], [0.2222222222222222, \"#7201a8\"], [0.3333333333333333, \"#9c179e\"], [0.4444444444444444, \"#bd3786\"], [0.5555555555555556, \"#d8576b\"], [0.6666666666666666, \"#ed7953\"], [0.7777777777777778, \"#fb9f3a\"], [0.8888888888888888, \"#fdca26\"], [1.0, \"#f0f921\"]], \"type\": \"heatmapgl\"}], \"histogram\": [{\"marker\": {\"colorbar\": {\"outlinewidth\": 0, \"ticks\": \"\"}}, \"type\": \"histogram\"}], \"histogram2d\": [{\"colorbar\": {\"outlinewidth\": 0, \"ticks\": \"\"}, \"colorscale\": [[0.0, \"#0d0887\"], [0.1111111111111111, \"#46039f\"], [0.2222222222222222, \"#7201a8\"], [0.3333333333333333, \"#9c179e\"], [0.4444444444444444, \"#bd3786\"], [0.5555555555555556, \"#d8576b\"], [0.6666666666666666, \"#ed7953\"], [0.7777777777777778, \"#fb9f3a\"], [0.8888888888888888, \"#fdca26\"], [1.0, \"#f0f921\"]], \"type\": \"histogram2d\"}], \"histogram2dcontour\": [{\"colorbar\": {\"outlinewidth\": 0, \"ticks\": \"\"}, \"colorscale\": [[0.0, \"#0d0887\"], [0.1111111111111111, \"#46039f\"], [0.2222222222222222, \"#7201a8\"], [0.3333333333333333, \"#9c179e\"], [0.4444444444444444, \"#bd3786\"], [0.5555555555555556, \"#d8576b\"], [0.6666666666666666, \"#ed7953\"], [0.7777777777777778, \"#fb9f3a\"], [0.8888888888888888, \"#fdca26\"], [1.0, \"#f0f921\"]], \"type\": \"histogram2dcontour\"}], \"mesh3d\": [{\"colorbar\": {\"outlinewidth\": 0, \"ticks\": \"\"}, \"type\": \"mesh3d\"}], \"parcoords\": [{\"line\": {\"colorbar\": {\"outlinewidth\": 0, \"ticks\": \"\"}}, \"type\": \"parcoords\"}], \"pie\": [{\"automargin\": true, \"type\": \"pie\"}], \"scatter\": [{\"marker\": {\"colorbar\": {\"outlinewidth\": 0, \"ticks\": \"\"}}, \"type\": \"scatter\"}], \"scatter3d\": [{\"line\": {\"colorbar\": {\"outlinewidth\": 0, \"ticks\": \"\"}}, \"marker\": {\"colorbar\": {\"outlinewidth\": 0, \"ticks\": \"\"}}, \"type\": \"scatter3d\"}], \"scattercarpet\": [{\"marker\": {\"colorbar\": {\"outlinewidth\": 0, \"ticks\": \"\"}}, \"type\": \"scattercarpet\"}], \"scattergeo\": [{\"marker\": {\"colorbar\": {\"outlinewidth\": 0, \"ticks\": \"\"}}, \"type\": \"scattergeo\"}], \"scattergl\": [{\"marker\": {\"colorbar\": {\"outlinewidth\": 0, \"ticks\": \"\"}}, \"type\": \"scattergl\"}], \"scattermapbox\": [{\"marker\": {\"colorbar\": {\"outlinewidth\": 0, \"ticks\": \"\"}}, \"type\": \"scattermapbox\"}], \"scatterpolar\": [{\"marker\": {\"colorbar\": {\"outlinewidth\": 0, \"ticks\": \"\"}}, \"type\": \"scatterpolar\"}], \"scatterpolargl\": [{\"marker\": {\"colorbar\": {\"outlinewidth\": 0, \"ticks\": \"\"}}, \"type\": \"scatterpolargl\"}], \"scatterternary\": [{\"marker\": {\"colorbar\": {\"outlinewidth\": 0, \"ticks\": \"\"}}, \"type\": \"scatterternary\"}], \"surface\": [{\"colorbar\": {\"outlinewidth\": 0, \"ticks\": \"\"}, \"colorscale\": [[0.0, \"#0d0887\"], [0.1111111111111111, \"#46039f\"], [0.2222222222222222, \"#7201a8\"], [0.3333333333333333, \"#9c179e\"], [0.4444444444444444, \"#bd3786\"], [0.5555555555555556, \"#d8576b\"], [0.6666666666666666, \"#ed7953\"], [0.7777777777777778, \"#fb9f3a\"], [0.8888888888888888, \"#fdca26\"], [1.0, \"#f0f921\"]], \"type\": \"surface\"}], \"table\": [{\"cells\": {\"fill\": {\"color\": \"#EBF0F8\"}, \"line\": {\"color\": \"white\"}}, \"header\": {\"fill\": {\"color\": \"#C8D4E3\"}, \"line\": {\"color\": \"white\"}}, \"type\": \"table\"}]}, \"layout\": {\"annotationdefaults\": {\"arrowcolor\": \"#2a3f5f\", \"arrowhead\": 0, \"arrowwidth\": 1}, \"coloraxis\": {\"colorbar\": {\"outlinewidth\": 0, \"ticks\": \"\"}}, \"colorscale\": {\"diverging\": [[0, \"#8e0152\"], [0.1, \"#c51b7d\"], [0.2, \"#de77ae\"], [0.3, \"#f1b6da\"], [0.4, \"#fde0ef\"], [0.5, \"#f7f7f7\"], [0.6, \"#e6f5d0\"], [0.7, \"#b8e186\"], [0.8, \"#7fbc41\"], [0.9, \"#4d9221\"], [1, \"#276419\"]], \"sequential\": [[0.0, \"#0d0887\"], [0.1111111111111111, \"#46039f\"], [0.2222222222222222, \"#7201a8\"], [0.3333333333333333, \"#9c179e\"], [0.4444444444444444, \"#bd3786\"], [0.5555555555555556, \"#d8576b\"], [0.6666666666666666, \"#ed7953\"], [0.7777777777777778, \"#fb9f3a\"], [0.8888888888888888, \"#fdca26\"], [1.0, \"#f0f921\"]], \"sequentialminus\": [[0.0, \"#0d0887\"], [0.1111111111111111, \"#46039f\"], [0.2222222222222222, \"#7201a8\"], [0.3333333333333333, \"#9c179e\"], [0.4444444444444444, \"#bd3786\"], [0.5555555555555556, \"#d8576b\"], [0.6666666666666666, \"#ed7953\"], [0.7777777777777778, \"#fb9f3a\"], [0.8888888888888888, \"#fdca26\"], [1.0, \"#f0f921\"]]}, \"colorway\": [\"#636efa\", \"#EF553B\", \"#00cc96\", \"#ab63fa\", \"#FFA15A\", \"#19d3f3\", \"#FF6692\", \"#B6E880\", \"#FF97FF\", \"#FECB52\"], \"font\": {\"color\": \"#2a3f5f\"}, \"geo\": {\"bgcolor\": \"white\", \"lakecolor\": \"white\", \"landcolor\": \"#E5ECF6\", \"showlakes\": true, \"showland\": true, \"subunitcolor\": \"white\"}, \"hoverlabel\": {\"align\": \"left\"}, \"hovermode\": \"closest\", \"mapbox\": {\"style\": \"light\"}, \"paper_bgcolor\": \"white\", \"plot_bgcolor\": \"#E5ECF6\", \"polar\": {\"angularaxis\": {\"gridcolor\": \"white\", \"linecolor\": \"white\", \"ticks\": \"\"}, \"bgcolor\": \"#E5ECF6\", \"radialaxis\": {\"gridcolor\": \"white\", \"linecolor\": \"white\", \"ticks\": \"\"}}, \"scene\": {\"xaxis\": {\"backgroundcolor\": \"#E5ECF6\", \"gridcolor\": \"white\", \"gridwidth\": 2, \"linecolor\": \"white\", \"showbackground\": true, \"ticks\": \"\", \"zerolinecolor\": \"white\"}, \"yaxis\": {\"backgroundcolor\": \"#E5ECF6\", \"gridcolor\": \"white\", \"gridwidth\": 2, \"linecolor\": \"white\", \"showbackground\": true, \"ticks\": \"\", \"zerolinecolor\": \"white\"}, \"zaxis\": {\"backgroundcolor\": \"#E5ECF6\", \"gridcolor\": \"white\", \"gridwidth\": 2, \"linecolor\": \"white\", \"showbackground\": true, \"ticks\": \"\", \"zerolinecolor\": \"white\"}}, \"shapedefaults\": {\"line\": {\"color\": \"#2a3f5f\"}}, \"ternary\": {\"aaxis\": {\"gridcolor\": \"white\", \"linecolor\": \"white\", \"ticks\": \"\"}, \"baxis\": {\"gridcolor\": \"white\", \"linecolor\": \"white\", \"ticks\": \"\"}, \"bgcolor\": \"#E5ECF6\", \"caxis\": {\"gridcolor\": \"white\", \"linecolor\": \"white\", \"ticks\": \"\"}}, \"title\": {\"x\": 0.05}, \"xaxis\": {\"automargin\": true, \"gridcolor\": \"white\", \"linecolor\": \"white\", \"ticks\": \"\", \"title\": {\"standoff\": 15}, \"zerolinecolor\": \"white\", \"zerolinewidth\": 2}, \"yaxis\": {\"automargin\": true, \"gridcolor\": \"white\", \"linecolor\": \"white\", \"ticks\": \"\", \"title\": {\"standoff\": 15}, \"zerolinecolor\": \"white\", \"zerolinewidth\": 2}}}},\n",
       "                        {\"responsive\": true}\n",
       "                    ).then(function(){\n",
       "                            \n",
       "var gd = document.getElementById('8868ea5d-b5d1-45c9-b2f8-f4bb0d8a2b38');\n",
       "var x = new MutationObserver(function (mutations, observer) {{\n",
       "        var display = window.getComputedStyle(gd).display;\n",
       "        if (!display || display === 'none') {{\n",
       "            console.log([gd, 'removed!']);\n",
       "            Plotly.purge(gd);\n",
       "            observer.disconnect();\n",
       "        }}\n",
       "}});\n",
       "\n",
       "// Listen for the removal of the full notebook cells\n",
       "var notebookContainer = gd.closest('#notebook-container');\n",
       "if (notebookContainer) {{\n",
       "    x.observe(notebookContainer, {childList: true});\n",
       "}}\n",
       "\n",
       "// Listen for the clearing of the current output cell\n",
       "var outputEl = gd.closest('.output');\n",
       "if (outputEl) {{\n",
       "    x.observe(outputEl, {childList: true});\n",
       "}}\n",
       "\n",
       "                        })\n",
       "                };\n",
       "                });\n",
       "            </script>\n",
       "        </div>"
      ]
     },
     "metadata": {},
     "output_type": "display_data"
    }
   ],
   "source": [
    "#create dictionary for angle and radius values \n",
    "df = pd.DataFrame(dict(\n",
    "    r= radius_values,\n",
    "    theta= features))\n",
    "\n",
    "#create radar chart\n",
    "fig = px.line_polar(df, r='r', theta='theta', line_close=True)\n",
    "\n",
    "#fill in area\n",
    "fig.update_traces(fill='toself')\n",
    "\n",
    "#plot chart\n",
    "fig.show()"
   ]
  },
  {
   "cell_type": "markdown",
   "metadata": {},
   "source": [
    "### Second set of variables"
   ]
  },
  {
   "cell_type": "code",
   "execution_count": 115,
   "metadata": {},
   "outputs": [],
   "source": [
    "#Features that are being compared\n",
    "features = ['Latitude','CT','Section',\n",
    "           'Year Drilled', 'SPACING_CAPPED']\n",
    "#Radius values for each variable\n",
    "radius_values = []\n",
    "for i in features:\n",
    "        radius_values.append(pearson_correlation.at[i, '12 month Cum Prod'])"
   ]
  },
  {
   "cell_type": "code",
   "execution_count": 116,
   "metadata": {},
   "outputs": [
    {
     "data": {
      "application/vnd.plotly.v1+json": {
       "config": {
        "plotlyServerURL": "https://plot.ly"
       },
       "data": [
        {
         "fill": "toself",
         "hovertemplate": "r=%{r}<br>theta=%{theta}<extra></extra>",
         "legendgroup": "",
         "line": {
          "color": "#636efa",
          "dash": "solid"
         },
         "mode": "lines",
         "name": "",
         "r": [
          -0.11583209588272114,
          0.33471909645900727,
          0.004275603463394108,
          0.2864332981283735,
          -0.1377952141195879,
          -0.11583209588272114
         ],
         "showlegend": false,
         "subplot": "polar",
         "theta": [
          "Latitude",
          "CT",
          "Section",
          "Year Drilled",
          "SPACING_CAPPED",
          "Latitude"
         ],
         "type": "scatterpolar"
        }
       ],
       "layout": {
        "legend": {
         "tracegroupgap": 0
        },
        "margin": {
         "t": 60
        },
        "polar": {
         "angularaxis": {
          "direction": "clockwise",
          "rotation": 90
         },
         "domain": {
          "x": [
           0,
           1
          ],
          "y": [
           0,
           1
          ]
         }
        },
        "template": {
         "data": {
          "bar": [
           {
            "error_x": {
             "color": "#2a3f5f"
            },
            "error_y": {
             "color": "#2a3f5f"
            },
            "marker": {
             "line": {
              "color": "#E5ECF6",
              "width": 0.5
             }
            },
            "type": "bar"
           }
          ],
          "barpolar": [
           {
            "marker": {
             "line": {
              "color": "#E5ECF6",
              "width": 0.5
             }
            },
            "type": "barpolar"
           }
          ],
          "carpet": [
           {
            "aaxis": {
             "endlinecolor": "#2a3f5f",
             "gridcolor": "white",
             "linecolor": "white",
             "minorgridcolor": "white",
             "startlinecolor": "#2a3f5f"
            },
            "baxis": {
             "endlinecolor": "#2a3f5f",
             "gridcolor": "white",
             "linecolor": "white",
             "minorgridcolor": "white",
             "startlinecolor": "#2a3f5f"
            },
            "type": "carpet"
           }
          ],
          "choropleth": [
           {
            "colorbar": {
             "outlinewidth": 0,
             "ticks": ""
            },
            "type": "choropleth"
           }
          ],
          "contour": [
           {
            "colorbar": {
             "outlinewidth": 0,
             "ticks": ""
            },
            "colorscale": [
             [
              0,
              "#0d0887"
             ],
             [
              0.1111111111111111,
              "#46039f"
             ],
             [
              0.2222222222222222,
              "#7201a8"
             ],
             [
              0.3333333333333333,
              "#9c179e"
             ],
             [
              0.4444444444444444,
              "#bd3786"
             ],
             [
              0.5555555555555556,
              "#d8576b"
             ],
             [
              0.6666666666666666,
              "#ed7953"
             ],
             [
              0.7777777777777778,
              "#fb9f3a"
             ],
             [
              0.8888888888888888,
              "#fdca26"
             ],
             [
              1,
              "#f0f921"
             ]
            ],
            "type": "contour"
           }
          ],
          "contourcarpet": [
           {
            "colorbar": {
             "outlinewidth": 0,
             "ticks": ""
            },
            "type": "contourcarpet"
           }
          ],
          "heatmap": [
           {
            "colorbar": {
             "outlinewidth": 0,
             "ticks": ""
            },
            "colorscale": [
             [
              0,
              "#0d0887"
             ],
             [
              0.1111111111111111,
              "#46039f"
             ],
             [
              0.2222222222222222,
              "#7201a8"
             ],
             [
              0.3333333333333333,
              "#9c179e"
             ],
             [
              0.4444444444444444,
              "#bd3786"
             ],
             [
              0.5555555555555556,
              "#d8576b"
             ],
             [
              0.6666666666666666,
              "#ed7953"
             ],
             [
              0.7777777777777778,
              "#fb9f3a"
             ],
             [
              0.8888888888888888,
              "#fdca26"
             ],
             [
              1,
              "#f0f921"
             ]
            ],
            "type": "heatmap"
           }
          ],
          "heatmapgl": [
           {
            "colorbar": {
             "outlinewidth": 0,
             "ticks": ""
            },
            "colorscale": [
             [
              0,
              "#0d0887"
             ],
             [
              0.1111111111111111,
              "#46039f"
             ],
             [
              0.2222222222222222,
              "#7201a8"
             ],
             [
              0.3333333333333333,
              "#9c179e"
             ],
             [
              0.4444444444444444,
              "#bd3786"
             ],
             [
              0.5555555555555556,
              "#d8576b"
             ],
             [
              0.6666666666666666,
              "#ed7953"
             ],
             [
              0.7777777777777778,
              "#fb9f3a"
             ],
             [
              0.8888888888888888,
              "#fdca26"
             ],
             [
              1,
              "#f0f921"
             ]
            ],
            "type": "heatmapgl"
           }
          ],
          "histogram": [
           {
            "marker": {
             "colorbar": {
              "outlinewidth": 0,
              "ticks": ""
             }
            },
            "type": "histogram"
           }
          ],
          "histogram2d": [
           {
            "colorbar": {
             "outlinewidth": 0,
             "ticks": ""
            },
            "colorscale": [
             [
              0,
              "#0d0887"
             ],
             [
              0.1111111111111111,
              "#46039f"
             ],
             [
              0.2222222222222222,
              "#7201a8"
             ],
             [
              0.3333333333333333,
              "#9c179e"
             ],
             [
              0.4444444444444444,
              "#bd3786"
             ],
             [
              0.5555555555555556,
              "#d8576b"
             ],
             [
              0.6666666666666666,
              "#ed7953"
             ],
             [
              0.7777777777777778,
              "#fb9f3a"
             ],
             [
              0.8888888888888888,
              "#fdca26"
             ],
             [
              1,
              "#f0f921"
             ]
            ],
            "type": "histogram2d"
           }
          ],
          "histogram2dcontour": [
           {
            "colorbar": {
             "outlinewidth": 0,
             "ticks": ""
            },
            "colorscale": [
             [
              0,
              "#0d0887"
             ],
             [
              0.1111111111111111,
              "#46039f"
             ],
             [
              0.2222222222222222,
              "#7201a8"
             ],
             [
              0.3333333333333333,
              "#9c179e"
             ],
             [
              0.4444444444444444,
              "#bd3786"
             ],
             [
              0.5555555555555556,
              "#d8576b"
             ],
             [
              0.6666666666666666,
              "#ed7953"
             ],
             [
              0.7777777777777778,
              "#fb9f3a"
             ],
             [
              0.8888888888888888,
              "#fdca26"
             ],
             [
              1,
              "#f0f921"
             ]
            ],
            "type": "histogram2dcontour"
           }
          ],
          "mesh3d": [
           {
            "colorbar": {
             "outlinewidth": 0,
             "ticks": ""
            },
            "type": "mesh3d"
           }
          ],
          "parcoords": [
           {
            "line": {
             "colorbar": {
              "outlinewidth": 0,
              "ticks": ""
             }
            },
            "type": "parcoords"
           }
          ],
          "pie": [
           {
            "automargin": true,
            "type": "pie"
           }
          ],
          "scatter": [
           {
            "marker": {
             "colorbar": {
              "outlinewidth": 0,
              "ticks": ""
             }
            },
            "type": "scatter"
           }
          ],
          "scatter3d": [
           {
            "line": {
             "colorbar": {
              "outlinewidth": 0,
              "ticks": ""
             }
            },
            "marker": {
             "colorbar": {
              "outlinewidth": 0,
              "ticks": ""
             }
            },
            "type": "scatter3d"
           }
          ],
          "scattercarpet": [
           {
            "marker": {
             "colorbar": {
              "outlinewidth": 0,
              "ticks": ""
             }
            },
            "type": "scattercarpet"
           }
          ],
          "scattergeo": [
           {
            "marker": {
             "colorbar": {
              "outlinewidth": 0,
              "ticks": ""
             }
            },
            "type": "scattergeo"
           }
          ],
          "scattergl": [
           {
            "marker": {
             "colorbar": {
              "outlinewidth": 0,
              "ticks": ""
             }
            },
            "type": "scattergl"
           }
          ],
          "scattermapbox": [
           {
            "marker": {
             "colorbar": {
              "outlinewidth": 0,
              "ticks": ""
             }
            },
            "type": "scattermapbox"
           }
          ],
          "scatterpolar": [
           {
            "marker": {
             "colorbar": {
              "outlinewidth": 0,
              "ticks": ""
             }
            },
            "type": "scatterpolar"
           }
          ],
          "scatterpolargl": [
           {
            "marker": {
             "colorbar": {
              "outlinewidth": 0,
              "ticks": ""
             }
            },
            "type": "scatterpolargl"
           }
          ],
          "scatterternary": [
           {
            "marker": {
             "colorbar": {
              "outlinewidth": 0,
              "ticks": ""
             }
            },
            "type": "scatterternary"
           }
          ],
          "surface": [
           {
            "colorbar": {
             "outlinewidth": 0,
             "ticks": ""
            },
            "colorscale": [
             [
              0,
              "#0d0887"
             ],
             [
              0.1111111111111111,
              "#46039f"
             ],
             [
              0.2222222222222222,
              "#7201a8"
             ],
             [
              0.3333333333333333,
              "#9c179e"
             ],
             [
              0.4444444444444444,
              "#bd3786"
             ],
             [
              0.5555555555555556,
              "#d8576b"
             ],
             [
              0.6666666666666666,
              "#ed7953"
             ],
             [
              0.7777777777777778,
              "#fb9f3a"
             ],
             [
              0.8888888888888888,
              "#fdca26"
             ],
             [
              1,
              "#f0f921"
             ]
            ],
            "type": "surface"
           }
          ],
          "table": [
           {
            "cells": {
             "fill": {
              "color": "#EBF0F8"
             },
             "line": {
              "color": "white"
             }
            },
            "header": {
             "fill": {
              "color": "#C8D4E3"
             },
             "line": {
              "color": "white"
             }
            },
            "type": "table"
           }
          ]
         },
         "layout": {
          "annotationdefaults": {
           "arrowcolor": "#2a3f5f",
           "arrowhead": 0,
           "arrowwidth": 1
          },
          "coloraxis": {
           "colorbar": {
            "outlinewidth": 0,
            "ticks": ""
           }
          },
          "colorscale": {
           "diverging": [
            [
             0,
             "#8e0152"
            ],
            [
             0.1,
             "#c51b7d"
            ],
            [
             0.2,
             "#de77ae"
            ],
            [
             0.3,
             "#f1b6da"
            ],
            [
             0.4,
             "#fde0ef"
            ],
            [
             0.5,
             "#f7f7f7"
            ],
            [
             0.6,
             "#e6f5d0"
            ],
            [
             0.7,
             "#b8e186"
            ],
            [
             0.8,
             "#7fbc41"
            ],
            [
             0.9,
             "#4d9221"
            ],
            [
             1,
             "#276419"
            ]
           ],
           "sequential": [
            [
             0,
             "#0d0887"
            ],
            [
             0.1111111111111111,
             "#46039f"
            ],
            [
             0.2222222222222222,
             "#7201a8"
            ],
            [
             0.3333333333333333,
             "#9c179e"
            ],
            [
             0.4444444444444444,
             "#bd3786"
            ],
            [
             0.5555555555555556,
             "#d8576b"
            ],
            [
             0.6666666666666666,
             "#ed7953"
            ],
            [
             0.7777777777777778,
             "#fb9f3a"
            ],
            [
             0.8888888888888888,
             "#fdca26"
            ],
            [
             1,
             "#f0f921"
            ]
           ],
           "sequentialminus": [
            [
             0,
             "#0d0887"
            ],
            [
             0.1111111111111111,
             "#46039f"
            ],
            [
             0.2222222222222222,
             "#7201a8"
            ],
            [
             0.3333333333333333,
             "#9c179e"
            ],
            [
             0.4444444444444444,
             "#bd3786"
            ],
            [
             0.5555555555555556,
             "#d8576b"
            ],
            [
             0.6666666666666666,
             "#ed7953"
            ],
            [
             0.7777777777777778,
             "#fb9f3a"
            ],
            [
             0.8888888888888888,
             "#fdca26"
            ],
            [
             1,
             "#f0f921"
            ]
           ]
          },
          "colorway": [
           "#636efa",
           "#EF553B",
           "#00cc96",
           "#ab63fa",
           "#FFA15A",
           "#19d3f3",
           "#FF6692",
           "#B6E880",
           "#FF97FF",
           "#FECB52"
          ],
          "font": {
           "color": "#2a3f5f"
          },
          "geo": {
           "bgcolor": "white",
           "lakecolor": "white",
           "landcolor": "#E5ECF6",
           "showlakes": true,
           "showland": true,
           "subunitcolor": "white"
          },
          "hoverlabel": {
           "align": "left"
          },
          "hovermode": "closest",
          "mapbox": {
           "style": "light"
          },
          "paper_bgcolor": "white",
          "plot_bgcolor": "#E5ECF6",
          "polar": {
           "angularaxis": {
            "gridcolor": "white",
            "linecolor": "white",
            "ticks": ""
           },
           "bgcolor": "#E5ECF6",
           "radialaxis": {
            "gridcolor": "white",
            "linecolor": "white",
            "ticks": ""
           }
          },
          "scene": {
           "xaxis": {
            "backgroundcolor": "#E5ECF6",
            "gridcolor": "white",
            "gridwidth": 2,
            "linecolor": "white",
            "showbackground": true,
            "ticks": "",
            "zerolinecolor": "white"
           },
           "yaxis": {
            "backgroundcolor": "#E5ECF6",
            "gridcolor": "white",
            "gridwidth": 2,
            "linecolor": "white",
            "showbackground": true,
            "ticks": "",
            "zerolinecolor": "white"
           },
           "zaxis": {
            "backgroundcolor": "#E5ECF6",
            "gridcolor": "white",
            "gridwidth": 2,
            "linecolor": "white",
            "showbackground": true,
            "ticks": "",
            "zerolinecolor": "white"
           }
          },
          "shapedefaults": {
           "line": {
            "color": "#2a3f5f"
           }
          },
          "ternary": {
           "aaxis": {
            "gridcolor": "white",
            "linecolor": "white",
            "ticks": ""
           },
           "baxis": {
            "gridcolor": "white",
            "linecolor": "white",
            "ticks": ""
           },
           "bgcolor": "#E5ECF6",
           "caxis": {
            "gridcolor": "white",
            "linecolor": "white",
            "ticks": ""
           }
          },
          "title": {
           "x": 0.05
          },
          "xaxis": {
           "automargin": true,
           "gridcolor": "white",
           "linecolor": "white",
           "ticks": "",
           "title": {
            "standoff": 15
           },
           "zerolinecolor": "white",
           "zerolinewidth": 2
          },
          "yaxis": {
           "automargin": true,
           "gridcolor": "white",
           "linecolor": "white",
           "ticks": "",
           "title": {
            "standoff": 15
           },
           "zerolinecolor": "white",
           "zerolinewidth": 2
          }
         }
        }
       }
      },
      "text/html": [
       "<div>\n",
       "        \n",
       "        \n",
       "            <div id=\"4b10b720-d16c-48da-b866-8f3ceb3faeee\" class=\"plotly-graph-div\" style=\"height:525px; width:100%;\"></div>\n",
       "            <script type=\"text/javascript\">\n",
       "                require([\"plotly\"], function(Plotly) {\n",
       "                    window.PLOTLYENV=window.PLOTLYENV || {};\n",
       "                    \n",
       "                if (document.getElementById(\"4b10b720-d16c-48da-b866-8f3ceb3faeee\")) {\n",
       "                    Plotly.newPlot(\n",
       "                        '4b10b720-d16c-48da-b866-8f3ceb3faeee',\n",
       "                        [{\"fill\": \"toself\", \"hovertemplate\": \"r=%{r}<br>theta=%{theta}<extra></extra>\", \"legendgroup\": \"\", \"line\": {\"color\": \"#636efa\", \"dash\": \"solid\"}, \"mode\": \"lines\", \"name\": \"\", \"r\": [-0.11583209588272114, 0.33471909645900727, 0.004275603463394108, 0.2864332981283735, -0.1377952141195879, -0.11583209588272114], \"showlegend\": false, \"subplot\": \"polar\", \"theta\": [\"Latitude\", \"CT\", \"Section\", \"Year Drilled\", \"SPACING_CAPPED\", \"Latitude\"], \"type\": \"scatterpolar\"}],\n",
       "                        {\"legend\": {\"tracegroupgap\": 0}, \"margin\": {\"t\": 60}, \"polar\": {\"angularaxis\": {\"direction\": \"clockwise\", \"rotation\": 90}, \"domain\": {\"x\": [0.0, 1.0], \"y\": [0.0, 1.0]}}, \"template\": {\"data\": {\"bar\": [{\"error_x\": {\"color\": \"#2a3f5f\"}, \"error_y\": {\"color\": \"#2a3f5f\"}, \"marker\": {\"line\": {\"color\": \"#E5ECF6\", \"width\": 0.5}}, \"type\": \"bar\"}], \"barpolar\": [{\"marker\": {\"line\": {\"color\": \"#E5ECF6\", \"width\": 0.5}}, \"type\": \"barpolar\"}], \"carpet\": [{\"aaxis\": {\"endlinecolor\": \"#2a3f5f\", \"gridcolor\": \"white\", \"linecolor\": \"white\", \"minorgridcolor\": \"white\", \"startlinecolor\": \"#2a3f5f\"}, \"baxis\": {\"endlinecolor\": \"#2a3f5f\", \"gridcolor\": \"white\", \"linecolor\": \"white\", \"minorgridcolor\": \"white\", \"startlinecolor\": \"#2a3f5f\"}, \"type\": \"carpet\"}], \"choropleth\": [{\"colorbar\": {\"outlinewidth\": 0, \"ticks\": \"\"}, \"type\": \"choropleth\"}], \"contour\": [{\"colorbar\": {\"outlinewidth\": 0, \"ticks\": \"\"}, \"colorscale\": [[0.0, \"#0d0887\"], [0.1111111111111111, \"#46039f\"], [0.2222222222222222, \"#7201a8\"], [0.3333333333333333, \"#9c179e\"], [0.4444444444444444, \"#bd3786\"], [0.5555555555555556, \"#d8576b\"], [0.6666666666666666, \"#ed7953\"], [0.7777777777777778, \"#fb9f3a\"], [0.8888888888888888, \"#fdca26\"], [1.0, \"#f0f921\"]], \"type\": \"contour\"}], \"contourcarpet\": [{\"colorbar\": {\"outlinewidth\": 0, \"ticks\": \"\"}, \"type\": \"contourcarpet\"}], \"heatmap\": [{\"colorbar\": {\"outlinewidth\": 0, \"ticks\": \"\"}, \"colorscale\": [[0.0, \"#0d0887\"], [0.1111111111111111, \"#46039f\"], [0.2222222222222222, \"#7201a8\"], [0.3333333333333333, \"#9c179e\"], [0.4444444444444444, \"#bd3786\"], [0.5555555555555556, \"#d8576b\"], [0.6666666666666666, \"#ed7953\"], [0.7777777777777778, \"#fb9f3a\"], [0.8888888888888888, \"#fdca26\"], [1.0, \"#f0f921\"]], \"type\": \"heatmap\"}], \"heatmapgl\": [{\"colorbar\": {\"outlinewidth\": 0, \"ticks\": \"\"}, \"colorscale\": [[0.0, \"#0d0887\"], [0.1111111111111111, \"#46039f\"], [0.2222222222222222, \"#7201a8\"], [0.3333333333333333, \"#9c179e\"], [0.4444444444444444, \"#bd3786\"], [0.5555555555555556, \"#d8576b\"], [0.6666666666666666, \"#ed7953\"], [0.7777777777777778, \"#fb9f3a\"], [0.8888888888888888, \"#fdca26\"], [1.0, \"#f0f921\"]], \"type\": \"heatmapgl\"}], \"histogram\": [{\"marker\": {\"colorbar\": {\"outlinewidth\": 0, \"ticks\": \"\"}}, \"type\": \"histogram\"}], \"histogram2d\": [{\"colorbar\": {\"outlinewidth\": 0, \"ticks\": \"\"}, \"colorscale\": [[0.0, \"#0d0887\"], [0.1111111111111111, \"#46039f\"], [0.2222222222222222, \"#7201a8\"], [0.3333333333333333, \"#9c179e\"], [0.4444444444444444, \"#bd3786\"], [0.5555555555555556, \"#d8576b\"], [0.6666666666666666, \"#ed7953\"], [0.7777777777777778, \"#fb9f3a\"], [0.8888888888888888, \"#fdca26\"], [1.0, \"#f0f921\"]], \"type\": \"histogram2d\"}], \"histogram2dcontour\": [{\"colorbar\": {\"outlinewidth\": 0, \"ticks\": \"\"}, \"colorscale\": [[0.0, \"#0d0887\"], [0.1111111111111111, \"#46039f\"], [0.2222222222222222, \"#7201a8\"], [0.3333333333333333, \"#9c179e\"], [0.4444444444444444, \"#bd3786\"], [0.5555555555555556, \"#d8576b\"], [0.6666666666666666, \"#ed7953\"], [0.7777777777777778, \"#fb9f3a\"], [0.8888888888888888, \"#fdca26\"], [1.0, \"#f0f921\"]], \"type\": \"histogram2dcontour\"}], \"mesh3d\": [{\"colorbar\": {\"outlinewidth\": 0, \"ticks\": \"\"}, \"type\": \"mesh3d\"}], \"parcoords\": [{\"line\": {\"colorbar\": {\"outlinewidth\": 0, \"ticks\": \"\"}}, \"type\": \"parcoords\"}], \"pie\": [{\"automargin\": true, \"type\": \"pie\"}], \"scatter\": [{\"marker\": {\"colorbar\": {\"outlinewidth\": 0, \"ticks\": \"\"}}, \"type\": \"scatter\"}], \"scatter3d\": [{\"line\": {\"colorbar\": {\"outlinewidth\": 0, \"ticks\": \"\"}}, \"marker\": {\"colorbar\": {\"outlinewidth\": 0, \"ticks\": \"\"}}, \"type\": \"scatter3d\"}], \"scattercarpet\": [{\"marker\": {\"colorbar\": {\"outlinewidth\": 0, \"ticks\": \"\"}}, \"type\": \"scattercarpet\"}], \"scattergeo\": [{\"marker\": {\"colorbar\": {\"outlinewidth\": 0, \"ticks\": \"\"}}, \"type\": \"scattergeo\"}], \"scattergl\": [{\"marker\": {\"colorbar\": {\"outlinewidth\": 0, \"ticks\": \"\"}}, \"type\": \"scattergl\"}], \"scattermapbox\": [{\"marker\": {\"colorbar\": {\"outlinewidth\": 0, \"ticks\": \"\"}}, \"type\": \"scattermapbox\"}], \"scatterpolar\": [{\"marker\": {\"colorbar\": {\"outlinewidth\": 0, \"ticks\": \"\"}}, \"type\": \"scatterpolar\"}], \"scatterpolargl\": [{\"marker\": {\"colorbar\": {\"outlinewidth\": 0, \"ticks\": \"\"}}, \"type\": \"scatterpolargl\"}], \"scatterternary\": [{\"marker\": {\"colorbar\": {\"outlinewidth\": 0, \"ticks\": \"\"}}, \"type\": \"scatterternary\"}], \"surface\": [{\"colorbar\": {\"outlinewidth\": 0, \"ticks\": \"\"}, \"colorscale\": [[0.0, \"#0d0887\"], [0.1111111111111111, \"#46039f\"], [0.2222222222222222, \"#7201a8\"], [0.3333333333333333, \"#9c179e\"], [0.4444444444444444, \"#bd3786\"], [0.5555555555555556, \"#d8576b\"], [0.6666666666666666, \"#ed7953\"], [0.7777777777777778, \"#fb9f3a\"], [0.8888888888888888, \"#fdca26\"], [1.0, \"#f0f921\"]], \"type\": \"surface\"}], \"table\": [{\"cells\": {\"fill\": {\"color\": \"#EBF0F8\"}, \"line\": {\"color\": \"white\"}}, \"header\": {\"fill\": {\"color\": \"#C8D4E3\"}, \"line\": {\"color\": \"white\"}}, \"type\": \"table\"}]}, \"layout\": {\"annotationdefaults\": {\"arrowcolor\": \"#2a3f5f\", \"arrowhead\": 0, \"arrowwidth\": 1}, \"coloraxis\": {\"colorbar\": {\"outlinewidth\": 0, \"ticks\": \"\"}}, \"colorscale\": {\"diverging\": [[0, \"#8e0152\"], [0.1, \"#c51b7d\"], [0.2, \"#de77ae\"], [0.3, \"#f1b6da\"], [0.4, \"#fde0ef\"], [0.5, \"#f7f7f7\"], [0.6, \"#e6f5d0\"], [0.7, \"#b8e186\"], [0.8, \"#7fbc41\"], [0.9, \"#4d9221\"], [1, \"#276419\"]], \"sequential\": [[0.0, \"#0d0887\"], [0.1111111111111111, \"#46039f\"], [0.2222222222222222, \"#7201a8\"], [0.3333333333333333, \"#9c179e\"], [0.4444444444444444, \"#bd3786\"], [0.5555555555555556, \"#d8576b\"], [0.6666666666666666, \"#ed7953\"], [0.7777777777777778, \"#fb9f3a\"], [0.8888888888888888, \"#fdca26\"], [1.0, \"#f0f921\"]], \"sequentialminus\": [[0.0, \"#0d0887\"], [0.1111111111111111, \"#46039f\"], [0.2222222222222222, \"#7201a8\"], [0.3333333333333333, \"#9c179e\"], [0.4444444444444444, \"#bd3786\"], [0.5555555555555556, \"#d8576b\"], [0.6666666666666666, \"#ed7953\"], [0.7777777777777778, \"#fb9f3a\"], [0.8888888888888888, \"#fdca26\"], [1.0, \"#f0f921\"]]}, \"colorway\": [\"#636efa\", \"#EF553B\", \"#00cc96\", \"#ab63fa\", \"#FFA15A\", \"#19d3f3\", \"#FF6692\", \"#B6E880\", \"#FF97FF\", \"#FECB52\"], \"font\": {\"color\": \"#2a3f5f\"}, \"geo\": {\"bgcolor\": \"white\", \"lakecolor\": \"white\", \"landcolor\": \"#E5ECF6\", \"showlakes\": true, \"showland\": true, \"subunitcolor\": \"white\"}, \"hoverlabel\": {\"align\": \"left\"}, \"hovermode\": \"closest\", \"mapbox\": {\"style\": \"light\"}, \"paper_bgcolor\": \"white\", \"plot_bgcolor\": \"#E5ECF6\", \"polar\": {\"angularaxis\": {\"gridcolor\": \"white\", \"linecolor\": \"white\", \"ticks\": \"\"}, \"bgcolor\": \"#E5ECF6\", \"radialaxis\": {\"gridcolor\": \"white\", \"linecolor\": \"white\", \"ticks\": \"\"}}, \"scene\": {\"xaxis\": {\"backgroundcolor\": \"#E5ECF6\", \"gridcolor\": \"white\", \"gridwidth\": 2, \"linecolor\": \"white\", \"showbackground\": true, \"ticks\": \"\", \"zerolinecolor\": \"white\"}, \"yaxis\": {\"backgroundcolor\": \"#E5ECF6\", \"gridcolor\": \"white\", \"gridwidth\": 2, \"linecolor\": \"white\", \"showbackground\": true, \"ticks\": \"\", \"zerolinecolor\": \"white\"}, \"zaxis\": {\"backgroundcolor\": \"#E5ECF6\", \"gridcolor\": \"white\", \"gridwidth\": 2, \"linecolor\": \"white\", \"showbackground\": true, \"ticks\": \"\", \"zerolinecolor\": \"white\"}}, \"shapedefaults\": {\"line\": {\"color\": \"#2a3f5f\"}}, \"ternary\": {\"aaxis\": {\"gridcolor\": \"white\", \"linecolor\": \"white\", \"ticks\": \"\"}, \"baxis\": {\"gridcolor\": \"white\", \"linecolor\": \"white\", \"ticks\": \"\"}, \"bgcolor\": \"#E5ECF6\", \"caxis\": {\"gridcolor\": \"white\", \"linecolor\": \"white\", \"ticks\": \"\"}}, \"title\": {\"x\": 0.05}, \"xaxis\": {\"automargin\": true, \"gridcolor\": \"white\", \"linecolor\": \"white\", \"ticks\": \"\", \"title\": {\"standoff\": 15}, \"zerolinecolor\": \"white\", \"zerolinewidth\": 2}, \"yaxis\": {\"automargin\": true, \"gridcolor\": \"white\", \"linecolor\": \"white\", \"ticks\": \"\", \"title\": {\"standoff\": 15}, \"zerolinecolor\": \"white\", \"zerolinewidth\": 2}}}},\n",
       "                        {\"responsive\": true}\n",
       "                    ).then(function(){\n",
       "                            \n",
       "var gd = document.getElementById('4b10b720-d16c-48da-b866-8f3ceb3faeee');\n",
       "var x = new MutationObserver(function (mutations, observer) {{\n",
       "        var display = window.getComputedStyle(gd).display;\n",
       "        if (!display || display === 'none') {{\n",
       "            console.log([gd, 'removed!']);\n",
       "            Plotly.purge(gd);\n",
       "            observer.disconnect();\n",
       "        }}\n",
       "}});\n",
       "\n",
       "// Listen for the removal of the full notebook cells\n",
       "var notebookContainer = gd.closest('#notebook-container');\n",
       "if (notebookContainer) {{\n",
       "    x.observe(notebookContainer, {childList: true});\n",
       "}}\n",
       "\n",
       "// Listen for the clearing of the current output cell\n",
       "var outputEl = gd.closest('.output');\n",
       "if (outputEl) {{\n",
       "    x.observe(outputEl, {childList: true});\n",
       "}}\n",
       "\n",
       "                        })\n",
       "                };\n",
       "                });\n",
       "            </script>\n",
       "        </div>"
      ]
     },
     "metadata": {},
     "output_type": "display_data"
    }
   ],
   "source": [
    "#create dictionary for angle and radius values \n",
    "df = pd.DataFrame(dict(\n",
    "    r= radius_values,\n",
    "    theta= features))\n",
    "\n",
    "#create radar chart\n",
    "fig = px.line_polar(df, r='r', theta='theta', line_close=True)\n",
    "\n",
    "#fill in area\n",
    "fig.update_traces(fill='toself')\n",
    "\n",
    "#plot chart\n",
    "fig.show()"
   ]
  },
  {
   "cell_type": "markdown",
   "metadata": {},
   "source": [
    "Pearson correlation shows that Completion Type, Total Proppant, and Fluid seem to have the highest correlation with cumulative production, not including the BOPD values for every third month. "
   ]
  },
  {
   "cell_type": "markdown",
   "metadata": {},
   "source": [
    "## Spearman's Rank Correlation"
   ]
  },
  {
   "cell_type": "code",
   "execution_count": 117,
   "metadata": {},
   "outputs": [
    {
     "data": {
      "text/html": [
       "<div>\n",
       "<style scoped>\n",
       "    .dataframe tbody tr th:only-of-type {\n",
       "        vertical-align: middle;\n",
       "    }\n",
       "\n",
       "    .dataframe tbody tr th {\n",
       "        vertical-align: top;\n",
       "    }\n",
       "\n",
       "    .dataframe thead th {\n",
       "        text-align: right;\n",
       "    }\n",
       "</style>\n",
       "<table border=\"1\" class=\"dataframe\">\n",
       "  <thead>\n",
       "    <tr style=\"text-align: right;\">\n",
       "      <th></th>\n",
       "      <th>Unnamed: 0</th>\n",
       "      <th>Lateral Length</th>\n",
       "      <th>Stages</th>\n",
       "      <th>Township</th>\n",
       "      <th>Range</th>\n",
       "      <th>Section</th>\n",
       "      <th>Total Prop, lbs</th>\n",
       "      <th>Fluid, bbls</th>\n",
       "      <th>Best1 Mo BOPD</th>\n",
       "      <th>Best3 Mo BOPD</th>\n",
       "      <th>...</th>\n",
       "      <th>Latitude</th>\n",
       "      <th>Longitude</th>\n",
       "      <th>SPACING_CAPPED</th>\n",
       "      <th>12 month Cum Prod</th>\n",
       "      <th>Sleeves</th>\n",
       "      <th>P&amp;P</th>\n",
       "      <th>Frac Ports</th>\n",
       "      <th>Repeater Ports</th>\n",
       "      <th>CT</th>\n",
       "      <th>Year Drilled</th>\n",
       "    </tr>\n",
       "  </thead>\n",
       "  <tbody>\n",
       "    <tr>\n",
       "      <td>Unnamed: 0</td>\n",
       "      <td>1.000000</td>\n",
       "      <td>0.077660</td>\n",
       "      <td>0.232800</td>\n",
       "      <td>0.381223</td>\n",
       "      <td>0.006677</td>\n",
       "      <td>-0.049775</td>\n",
       "      <td>0.243052</td>\n",
       "      <td>0.198040</td>\n",
       "      <td>0.127087</td>\n",
       "      <td>0.129392</td>\n",
       "      <td>...</td>\n",
       "      <td>0.385105</td>\n",
       "      <td>-0.044463</td>\n",
       "      <td>-0.118379</td>\n",
       "      <td>0.145759</td>\n",
       "      <td>0.203367</td>\n",
       "      <td>0.178904</td>\n",
       "      <td>-0.575608</td>\n",
       "      <td>0.666886</td>\n",
       "      <td>0.176944</td>\n",
       "      <td>0.184971</td>\n",
       "    </tr>\n",
       "    <tr>\n",
       "      <td>Lateral Length</td>\n",
       "      <td>0.077660</td>\n",
       "      <td>1.000000</td>\n",
       "      <td>0.435665</td>\n",
       "      <td>0.018391</td>\n",
       "      <td>0.181624</td>\n",
       "      <td>-0.030477</td>\n",
       "      <td>0.326196</td>\n",
       "      <td>0.307917</td>\n",
       "      <td>0.141420</td>\n",
       "      <td>0.142319</td>\n",
       "      <td>...</td>\n",
       "      <td>0.021630</td>\n",
       "      <td>-0.185652</td>\n",
       "      <td>-0.184828</td>\n",
       "      <td>0.177257</td>\n",
       "      <td>0.405629</td>\n",
       "      <td>0.424934</td>\n",
       "      <td>0.028158</td>\n",
       "      <td>0.872082</td>\n",
       "      <td>0.480787</td>\n",
       "      <td>0.312223</td>\n",
       "    </tr>\n",
       "    <tr>\n",
       "      <td>Stages</td>\n",
       "      <td>0.232800</td>\n",
       "      <td>0.435665</td>\n",
       "      <td>1.000000</td>\n",
       "      <td>0.052379</td>\n",
       "      <td>0.162301</td>\n",
       "      <td>0.029076</td>\n",
       "      <td>0.658696</td>\n",
       "      <td>0.630845</td>\n",
       "      <td>0.251405</td>\n",
       "      <td>0.244439</td>\n",
       "      <td>...</td>\n",
       "      <td>0.050454</td>\n",
       "      <td>-0.171085</td>\n",
       "      <td>-0.291524</td>\n",
       "      <td>0.340166</td>\n",
       "      <td>0.908350</td>\n",
       "      <td>0.877969</td>\n",
       "      <td>0.301994</td>\n",
       "      <td>0.229416</td>\n",
       "      <td>1.000000</td>\n",
       "      <td>0.648229</td>\n",
       "    </tr>\n",
       "    <tr>\n",
       "      <td>Township</td>\n",
       "      <td>0.381223</td>\n",
       "      <td>0.018391</td>\n",
       "      <td>0.052379</td>\n",
       "      <td>1.000000</td>\n",
       "      <td>-0.018511</td>\n",
       "      <td>0.025329</td>\n",
       "      <td>0.010163</td>\n",
       "      <td>-0.021137</td>\n",
       "      <td>-0.174974</td>\n",
       "      <td>-0.165998</td>\n",
       "      <td>...</td>\n",
       "      <td>0.997491</td>\n",
       "      <td>-0.123387</td>\n",
       "      <td>0.036315</td>\n",
       "      <td>-0.165085</td>\n",
       "      <td>0.104709</td>\n",
       "      <td>0.022196</td>\n",
       "      <td>-0.688001</td>\n",
       "      <td>0.666886</td>\n",
       "      <td>-0.172964</td>\n",
       "      <td>-0.039493</td>\n",
       "    </tr>\n",
       "    <tr>\n",
       "      <td>Range</td>\n",
       "      <td>0.006677</td>\n",
       "      <td>0.181624</td>\n",
       "      <td>0.162301</td>\n",
       "      <td>-0.018511</td>\n",
       "      <td>1.000000</td>\n",
       "      <td>-0.020666</td>\n",
       "      <td>0.133176</td>\n",
       "      <td>0.274213</td>\n",
       "      <td>-0.121818</td>\n",
       "      <td>-0.144633</td>\n",
       "      <td>...</td>\n",
       "      <td>-0.014452</td>\n",
       "      <td>-0.983496</td>\n",
       "      <td>-0.020250</td>\n",
       "      <td>-0.157996</td>\n",
       "      <td>0.138849</td>\n",
       "      <td>0.162309</td>\n",
       "      <td>0.449071</td>\n",
       "      <td>0.648886</td>\n",
       "      <td>0.164849</td>\n",
       "      <td>0.167011</td>\n",
       "    </tr>\n",
       "    <tr>\n",
       "      <td>Section</td>\n",
       "      <td>-0.049775</td>\n",
       "      <td>-0.030477</td>\n",
       "      <td>0.029076</td>\n",
       "      <td>0.025329</td>\n",
       "      <td>-0.020666</td>\n",
       "      <td>1.000000</td>\n",
       "      <td>0.025029</td>\n",
       "      <td>0.021621</td>\n",
       "      <td>0.018478</td>\n",
       "      <td>0.016098</td>\n",
       "      <td>...</td>\n",
       "      <td>-0.036515</td>\n",
       "      <td>0.017142</td>\n",
       "      <td>-0.017271</td>\n",
       "      <td>0.010521</td>\n",
       "      <td>0.039962</td>\n",
       "      <td>0.009927</td>\n",
       "      <td>0.319731</td>\n",
       "      <td>-0.205196</td>\n",
       "      <td>0.008116</td>\n",
       "      <td>0.032135</td>\n",
       "    </tr>\n",
       "    <tr>\n",
       "      <td>Total Prop, lbs</td>\n",
       "      <td>0.243052</td>\n",
       "      <td>0.326196</td>\n",
       "      <td>0.658696</td>\n",
       "      <td>0.010163</td>\n",
       "      <td>0.133176</td>\n",
       "      <td>0.025029</td>\n",
       "      <td>1.000000</td>\n",
       "      <td>0.856374</td>\n",
       "      <td>0.320731</td>\n",
       "      <td>0.331295</td>\n",
       "      <td>...</td>\n",
       "      <td>0.008453</td>\n",
       "      <td>-0.136473</td>\n",
       "      <td>-0.279404</td>\n",
       "      <td>0.440060</td>\n",
       "      <td>0.529296</td>\n",
       "      <td>0.615773</td>\n",
       "      <td>0.424671</td>\n",
       "      <td>0.564288</td>\n",
       "      <td>-0.151921</td>\n",
       "      <td>0.611360</td>\n",
       "    </tr>\n",
       "    <tr>\n",
       "      <td>Fluid, bbls</td>\n",
       "      <td>0.198040</td>\n",
       "      <td>0.307917</td>\n",
       "      <td>0.630845</td>\n",
       "      <td>-0.021137</td>\n",
       "      <td>0.274213</td>\n",
       "      <td>0.021621</td>\n",
       "      <td>0.856374</td>\n",
       "      <td>1.000000</td>\n",
       "      <td>0.282209</td>\n",
       "      <td>0.291956</td>\n",
       "      <td>...</td>\n",
       "      <td>-0.022095</td>\n",
       "      <td>-0.272063</td>\n",
       "      <td>-0.289765</td>\n",
       "      <td>0.401960</td>\n",
       "      <td>0.507377</td>\n",
       "      <td>0.629173</td>\n",
       "      <td>0.680200</td>\n",
       "      <td>-0.205196</td>\n",
       "      <td>-0.066131</td>\n",
       "      <td>0.649717</td>\n",
       "    </tr>\n",
       "    <tr>\n",
       "      <td>Best1 Mo BOPD</td>\n",
       "      <td>0.127087</td>\n",
       "      <td>0.141420</td>\n",
       "      <td>0.251405</td>\n",
       "      <td>-0.174974</td>\n",
       "      <td>-0.121818</td>\n",
       "      <td>0.018478</td>\n",
       "      <td>0.320731</td>\n",
       "      <td>0.282209</td>\n",
       "      <td>1.000000</td>\n",
       "      <td>0.970644</td>\n",
       "      <td>...</td>\n",
       "      <td>-0.177390</td>\n",
       "      <td>0.139445</td>\n",
       "      <td>-0.220560</td>\n",
       "      <td>0.891192</td>\n",
       "      <td>0.184210</td>\n",
       "      <td>0.188430</td>\n",
       "      <td>0.204660</td>\n",
       "      <td>-0.820783</td>\n",
       "      <td>0.495085</td>\n",
       "      <td>0.206711</td>\n",
       "    </tr>\n",
       "    <tr>\n",
       "      <td>Best3 Mo BOPD</td>\n",
       "      <td>0.129392</td>\n",
       "      <td>0.142319</td>\n",
       "      <td>0.244439</td>\n",
       "      <td>-0.165998</td>\n",
       "      <td>-0.144633</td>\n",
       "      <td>0.016098</td>\n",
       "      <td>0.331295</td>\n",
       "      <td>0.291956</td>\n",
       "      <td>0.970644</td>\n",
       "      <td>1.000000</td>\n",
       "      <td>...</td>\n",
       "      <td>-0.168382</td>\n",
       "      <td>0.161616</td>\n",
       "      <td>-0.225671</td>\n",
       "      <td>0.937187</td>\n",
       "      <td>0.160880</td>\n",
       "      <td>0.202089</td>\n",
       "      <td>0.214894</td>\n",
       "      <td>-0.666886</td>\n",
       "      <td>0.443253</td>\n",
       "      <td>0.206136</td>\n",
       "    </tr>\n",
       "    <tr>\n",
       "      <td>Best6 Mo BOPD</td>\n",
       "      <td>0.138687</td>\n",
       "      <td>0.138227</td>\n",
       "      <td>0.236417</td>\n",
       "      <td>-0.159837</td>\n",
       "      <td>-0.168528</td>\n",
       "      <td>0.014221</td>\n",
       "      <td>0.341549</td>\n",
       "      <td>0.303256</td>\n",
       "      <td>0.944792</td>\n",
       "      <td>0.989274</td>\n",
       "      <td>...</td>\n",
       "      <td>-0.162175</td>\n",
       "      <td>0.185862</td>\n",
       "      <td>-0.221699</td>\n",
       "      <td>0.968343</td>\n",
       "      <td>0.126247</td>\n",
       "      <td>0.220704</td>\n",
       "      <td>0.214894</td>\n",
       "      <td>-0.820783</td>\n",
       "      <td>0.561056</td>\n",
       "      <td>0.201120</td>\n",
       "    </tr>\n",
       "    <tr>\n",
       "      <td>Best9 Mo BOPD</td>\n",
       "      <td>0.153217</td>\n",
       "      <td>0.137477</td>\n",
       "      <td>0.230398</td>\n",
       "      <td>-0.149234</td>\n",
       "      <td>-0.178319</td>\n",
       "      <td>0.008519</td>\n",
       "      <td>0.340211</td>\n",
       "      <td>0.300534</td>\n",
       "      <td>0.933109</td>\n",
       "      <td>0.978951</td>\n",
       "      <td>...</td>\n",
       "      <td>-0.151189</td>\n",
       "      <td>0.196161</td>\n",
       "      <td>-0.215109</td>\n",
       "      <td>0.977030</td>\n",
       "      <td>0.110784</td>\n",
       "      <td>0.222074</td>\n",
       "      <td>0.193148</td>\n",
       "      <td>-0.974679</td>\n",
       "      <td>0.619252</td>\n",
       "      <td>0.180979</td>\n",
       "    </tr>\n",
       "    <tr>\n",
       "      <td>Best12 Mo BOPD</td>\n",
       "      <td>0.161778</td>\n",
       "      <td>0.138404</td>\n",
       "      <td>0.221871</td>\n",
       "      <td>-0.138549</td>\n",
       "      <td>-0.192458</td>\n",
       "      <td>0.005373</td>\n",
       "      <td>0.332345</td>\n",
       "      <td>0.289592</td>\n",
       "      <td>0.925056</td>\n",
       "      <td>0.971408</td>\n",
       "      <td>...</td>\n",
       "      <td>-0.140591</td>\n",
       "      <td>0.210871</td>\n",
       "      <td>-0.214636</td>\n",
       "      <td>0.977382</td>\n",
       "      <td>0.099502</td>\n",
       "      <td>0.214714</td>\n",
       "      <td>0.196986</td>\n",
       "      <td>-0.974679</td>\n",
       "      <td>0.702731</td>\n",
       "      <td>0.156146</td>\n",
       "    </tr>\n",
       "    <tr>\n",
       "      <td>Latitude</td>\n",
       "      <td>0.385105</td>\n",
       "      <td>0.021630</td>\n",
       "      <td>0.050454</td>\n",
       "      <td>0.997491</td>\n",
       "      <td>-0.014452</td>\n",
       "      <td>-0.036515</td>\n",
       "      <td>0.008453</td>\n",
       "      <td>-0.022095</td>\n",
       "      <td>-0.177390</td>\n",
       "      <td>-0.168382</td>\n",
       "      <td>...</td>\n",
       "      <td>1.000000</td>\n",
       "      <td>-0.126965</td>\n",
       "      <td>0.037892</td>\n",
       "      <td>-0.166509</td>\n",
       "      <td>0.101020</td>\n",
       "      <td>0.023362</td>\n",
       "      <td>-0.704800</td>\n",
       "      <td>0.666886</td>\n",
       "      <td>-0.191242</td>\n",
       "      <td>-0.041872</td>\n",
       "    </tr>\n",
       "    <tr>\n",
       "      <td>Longitude</td>\n",
       "      <td>-0.044463</td>\n",
       "      <td>-0.185652</td>\n",
       "      <td>-0.171085</td>\n",
       "      <td>-0.123387</td>\n",
       "      <td>-0.983496</td>\n",
       "      <td>0.017142</td>\n",
       "      <td>-0.136473</td>\n",
       "      <td>-0.272063</td>\n",
       "      <td>0.139445</td>\n",
       "      <td>0.161616</td>\n",
       "      <td>...</td>\n",
       "      <td>-0.126965</td>\n",
       "      <td>1.000000</td>\n",
       "      <td>0.029471</td>\n",
       "      <td>0.175363</td>\n",
       "      <td>-0.168883</td>\n",
       "      <td>-0.156650</td>\n",
       "      <td>-0.477115</td>\n",
       "      <td>-0.564288</td>\n",
       "      <td>-0.166220</td>\n",
       "      <td>-0.167969</td>\n",
       "    </tr>\n",
       "    <tr>\n",
       "      <td>SPACING_CAPPED</td>\n",
       "      <td>-0.118379</td>\n",
       "      <td>-0.184828</td>\n",
       "      <td>-0.291524</td>\n",
       "      <td>0.036315</td>\n",
       "      <td>-0.020250</td>\n",
       "      <td>-0.017271</td>\n",
       "      <td>-0.279404</td>\n",
       "      <td>-0.289765</td>\n",
       "      <td>-0.220560</td>\n",
       "      <td>-0.225671</td>\n",
       "      <td>...</td>\n",
       "      <td>0.037892</td>\n",
       "      <td>0.029471</td>\n",
       "      <td>1.000000</td>\n",
       "      <td>-0.246285</td>\n",
       "      <td>-0.344646</td>\n",
       "      <td>-0.185259</td>\n",
       "      <td>NaN</td>\n",
       "      <td>NaN</td>\n",
       "      <td>-0.207431</td>\n",
       "      <td>-0.415602</td>\n",
       "    </tr>\n",
       "    <tr>\n",
       "      <td>12 month Cum Prod</td>\n",
       "      <td>0.145759</td>\n",
       "      <td>0.177257</td>\n",
       "      <td>0.340166</td>\n",
       "      <td>-0.165085</td>\n",
       "      <td>-0.157996</td>\n",
       "      <td>0.010521</td>\n",
       "      <td>0.440060</td>\n",
       "      <td>0.401960</td>\n",
       "      <td>0.891192</td>\n",
       "      <td>0.937187</td>\n",
       "      <td>...</td>\n",
       "      <td>-0.166509</td>\n",
       "      <td>0.175363</td>\n",
       "      <td>-0.246285</td>\n",
       "      <td>1.000000</td>\n",
       "      <td>0.192228</td>\n",
       "      <td>0.328136</td>\n",
       "      <td>0.211056</td>\n",
       "      <td>-0.974679</td>\n",
       "      <td>0.471850</td>\n",
       "      <td>0.311370</td>\n",
       "    </tr>\n",
       "    <tr>\n",
       "      <td>Sleeves</td>\n",
       "      <td>0.203367</td>\n",
       "      <td>0.405629</td>\n",
       "      <td>0.908350</td>\n",
       "      <td>0.104709</td>\n",
       "      <td>0.138849</td>\n",
       "      <td>0.039962</td>\n",
       "      <td>0.529296</td>\n",
       "      <td>0.507377</td>\n",
       "      <td>0.184210</td>\n",
       "      <td>0.160880</td>\n",
       "      <td>...</td>\n",
       "      <td>0.101020</td>\n",
       "      <td>-0.168883</td>\n",
       "      <td>-0.344646</td>\n",
       "      <td>0.192228</td>\n",
       "      <td>1.000000</td>\n",
       "      <td>-0.230834</td>\n",
       "      <td>NaN</td>\n",
       "      <td>NaN</td>\n",
       "      <td>NaN</td>\n",
       "      <td>0.625336</td>\n",
       "    </tr>\n",
       "    <tr>\n",
       "      <td>P&amp;P</td>\n",
       "      <td>0.178904</td>\n",
       "      <td>0.424934</td>\n",
       "      <td>0.877969</td>\n",
       "      <td>0.022196</td>\n",
       "      <td>0.162309</td>\n",
       "      <td>0.009927</td>\n",
       "      <td>0.615773</td>\n",
       "      <td>0.629173</td>\n",
       "      <td>0.188430</td>\n",
       "      <td>0.202089</td>\n",
       "      <td>...</td>\n",
       "      <td>0.023362</td>\n",
       "      <td>-0.156650</td>\n",
       "      <td>-0.185259</td>\n",
       "      <td>0.328136</td>\n",
       "      <td>-0.230834</td>\n",
       "      <td>1.000000</td>\n",
       "      <td>-0.899647</td>\n",
       "      <td>NaN</td>\n",
       "      <td>NaN</td>\n",
       "      <td>0.496610</td>\n",
       "    </tr>\n",
       "    <tr>\n",
       "      <td>Frac Ports</td>\n",
       "      <td>-0.575608</td>\n",
       "      <td>0.028158</td>\n",
       "      <td>0.301994</td>\n",
       "      <td>-0.688001</td>\n",
       "      <td>0.449071</td>\n",
       "      <td>0.319731</td>\n",
       "      <td>0.424671</td>\n",
       "      <td>0.680200</td>\n",
       "      <td>0.204660</td>\n",
       "      <td>0.214894</td>\n",
       "      <td>...</td>\n",
       "      <td>-0.704800</td>\n",
       "      <td>-0.477115</td>\n",
       "      <td>NaN</td>\n",
       "      <td>0.211056</td>\n",
       "      <td>NaN</td>\n",
       "      <td>-0.899647</td>\n",
       "      <td>1.000000</td>\n",
       "      <td>-0.866025</td>\n",
       "      <td>NaN</td>\n",
       "      <td>0.498482</td>\n",
       "    </tr>\n",
       "    <tr>\n",
       "      <td>Repeater Ports</td>\n",
       "      <td>0.666886</td>\n",
       "      <td>0.872082</td>\n",
       "      <td>0.229416</td>\n",
       "      <td>0.666886</td>\n",
       "      <td>0.648886</td>\n",
       "      <td>-0.205196</td>\n",
       "      <td>0.564288</td>\n",
       "      <td>-0.205196</td>\n",
       "      <td>-0.820783</td>\n",
       "      <td>-0.666886</td>\n",
       "      <td>...</td>\n",
       "      <td>0.666886</td>\n",
       "      <td>-0.564288</td>\n",
       "      <td>NaN</td>\n",
       "      <td>-0.974679</td>\n",
       "      <td>NaN</td>\n",
       "      <td>NaN</td>\n",
       "      <td>-0.866025</td>\n",
       "      <td>1.000000</td>\n",
       "      <td>NaN</td>\n",
       "      <td>-0.362738</td>\n",
       "    </tr>\n",
       "    <tr>\n",
       "      <td>CT</td>\n",
       "      <td>0.176944</td>\n",
       "      <td>0.480787</td>\n",
       "      <td>1.000000</td>\n",
       "      <td>-0.172964</td>\n",
       "      <td>0.164849</td>\n",
       "      <td>0.008116</td>\n",
       "      <td>-0.151921</td>\n",
       "      <td>-0.066131</td>\n",
       "      <td>0.495085</td>\n",
       "      <td>0.443253</td>\n",
       "      <td>...</td>\n",
       "      <td>-0.191242</td>\n",
       "      <td>-0.166220</td>\n",
       "      <td>-0.207431</td>\n",
       "      <td>0.471850</td>\n",
       "      <td>NaN</td>\n",
       "      <td>NaN</td>\n",
       "      <td>NaN</td>\n",
       "      <td>NaN</td>\n",
       "      <td>1.000000</td>\n",
       "      <td>0.322540</td>\n",
       "    </tr>\n",
       "    <tr>\n",
       "      <td>Year Drilled</td>\n",
       "      <td>0.184971</td>\n",
       "      <td>0.312223</td>\n",
       "      <td>0.648229</td>\n",
       "      <td>-0.039493</td>\n",
       "      <td>0.167011</td>\n",
       "      <td>0.032135</td>\n",
       "      <td>0.611360</td>\n",
       "      <td>0.649717</td>\n",
       "      <td>0.206711</td>\n",
       "      <td>0.206136</td>\n",
       "      <td>...</td>\n",
       "      <td>-0.041872</td>\n",
       "      <td>-0.167969</td>\n",
       "      <td>-0.415602</td>\n",
       "      <td>0.311370</td>\n",
       "      <td>0.625336</td>\n",
       "      <td>0.496610</td>\n",
       "      <td>0.498482</td>\n",
       "      <td>-0.362738</td>\n",
       "      <td>0.322540</td>\n",
       "      <td>1.000000</td>\n",
       "    </tr>\n",
       "  </tbody>\n",
       "</table>\n",
       "<p>23 rows × 23 columns</p>\n",
       "</div>"
      ],
      "text/plain": [
       "                   Unnamed: 0  Lateral Length    Stages  Township      Range  \\\n",
       "Unnamed: 0           1.000000        0.077660  0.232800   0.381223  0.006677   \n",
       "Lateral Length       0.077660        1.000000  0.435665   0.018391  0.181624   \n",
       "Stages               0.232800        0.435665  1.000000   0.052379  0.162301   \n",
       "Township             0.381223        0.018391  0.052379   1.000000 -0.018511   \n",
       "Range                0.006677        0.181624  0.162301  -0.018511  1.000000   \n",
       "Section             -0.049775       -0.030477  0.029076   0.025329 -0.020666   \n",
       "Total Prop, lbs      0.243052        0.326196  0.658696   0.010163  0.133176   \n",
       "Fluid, bbls          0.198040        0.307917  0.630845  -0.021137  0.274213   \n",
       "Best1 Mo BOPD        0.127087        0.141420  0.251405  -0.174974 -0.121818   \n",
       "Best3 Mo BOPD        0.129392        0.142319  0.244439  -0.165998 -0.144633   \n",
       "Best6 Mo BOPD        0.138687        0.138227  0.236417  -0.159837 -0.168528   \n",
       "Best9 Mo BOPD        0.153217        0.137477  0.230398  -0.149234 -0.178319   \n",
       "Best12 Mo BOPD       0.161778        0.138404  0.221871  -0.138549 -0.192458   \n",
       "Latitude             0.385105        0.021630  0.050454   0.997491 -0.014452   \n",
       "Longitude           -0.044463       -0.185652 -0.171085  -0.123387 -0.983496   \n",
       "SPACING_CAPPED      -0.118379       -0.184828 -0.291524   0.036315 -0.020250   \n",
       "12 month Cum Prod    0.145759        0.177257  0.340166  -0.165085 -0.157996   \n",
       "Sleeves              0.203367        0.405629  0.908350   0.104709  0.138849   \n",
       "P&P                  0.178904        0.424934  0.877969   0.022196  0.162309   \n",
       "Frac Ports          -0.575608        0.028158  0.301994  -0.688001  0.449071   \n",
       "Repeater Ports       0.666886        0.872082  0.229416   0.666886  0.648886   \n",
       "CT                   0.176944        0.480787  1.000000  -0.172964  0.164849   \n",
       "Year Drilled         0.184971        0.312223  0.648229  -0.039493  0.167011   \n",
       "\n",
       "                    Section  Total Prop, lbs  Fluid, bbls  Best1 Mo BOPD  \\\n",
       "Unnamed: 0        -0.049775         0.243052     0.198040       0.127087   \n",
       "Lateral Length    -0.030477         0.326196     0.307917       0.141420   \n",
       "Stages             0.029076         0.658696     0.630845       0.251405   \n",
       "Township           0.025329         0.010163    -0.021137      -0.174974   \n",
       "Range             -0.020666         0.133176     0.274213      -0.121818   \n",
       "Section            1.000000         0.025029     0.021621       0.018478   \n",
       "Total Prop, lbs    0.025029         1.000000     0.856374       0.320731   \n",
       "Fluid, bbls        0.021621         0.856374     1.000000       0.282209   \n",
       "Best1 Mo BOPD      0.018478         0.320731     0.282209       1.000000   \n",
       "Best3 Mo BOPD      0.016098         0.331295     0.291956       0.970644   \n",
       "Best6 Mo BOPD      0.014221         0.341549     0.303256       0.944792   \n",
       "Best9 Mo BOPD      0.008519         0.340211     0.300534       0.933109   \n",
       "Best12 Mo BOPD     0.005373         0.332345     0.289592       0.925056   \n",
       "Latitude          -0.036515         0.008453    -0.022095      -0.177390   \n",
       "Longitude          0.017142        -0.136473    -0.272063       0.139445   \n",
       "SPACING_CAPPED    -0.017271        -0.279404    -0.289765      -0.220560   \n",
       "12 month Cum Prod  0.010521         0.440060     0.401960       0.891192   \n",
       "Sleeves            0.039962         0.529296     0.507377       0.184210   \n",
       "P&P                0.009927         0.615773     0.629173       0.188430   \n",
       "Frac Ports         0.319731         0.424671     0.680200       0.204660   \n",
       "Repeater Ports    -0.205196         0.564288    -0.205196      -0.820783   \n",
       "CT                 0.008116        -0.151921    -0.066131       0.495085   \n",
       "Year Drilled       0.032135         0.611360     0.649717       0.206711   \n",
       "\n",
       "                   Best3 Mo BOPD  ...  Latitude  Longitude  SPACING_CAPPED  \\\n",
       "Unnamed: 0              0.129392  ...  0.385105  -0.044463       -0.118379   \n",
       "Lateral Length          0.142319  ...  0.021630  -0.185652       -0.184828   \n",
       "Stages                  0.244439  ...  0.050454  -0.171085       -0.291524   \n",
       "Township               -0.165998  ...  0.997491  -0.123387        0.036315   \n",
       "Range                  -0.144633  ... -0.014452  -0.983496       -0.020250   \n",
       "Section                 0.016098  ... -0.036515   0.017142       -0.017271   \n",
       "Total Prop, lbs         0.331295  ...  0.008453  -0.136473       -0.279404   \n",
       "Fluid, bbls             0.291956  ... -0.022095  -0.272063       -0.289765   \n",
       "Best1 Mo BOPD           0.970644  ... -0.177390   0.139445       -0.220560   \n",
       "Best3 Mo BOPD           1.000000  ... -0.168382   0.161616       -0.225671   \n",
       "Best6 Mo BOPD           0.989274  ... -0.162175   0.185862       -0.221699   \n",
       "Best9 Mo BOPD           0.978951  ... -0.151189   0.196161       -0.215109   \n",
       "Best12 Mo BOPD          0.971408  ... -0.140591   0.210871       -0.214636   \n",
       "Latitude               -0.168382  ...  1.000000  -0.126965        0.037892   \n",
       "Longitude               0.161616  ... -0.126965   1.000000        0.029471   \n",
       "SPACING_CAPPED         -0.225671  ...  0.037892   0.029471        1.000000   \n",
       "12 month Cum Prod       0.937187  ... -0.166509   0.175363       -0.246285   \n",
       "Sleeves                 0.160880  ...  0.101020  -0.168883       -0.344646   \n",
       "P&P                     0.202089  ...  0.023362  -0.156650       -0.185259   \n",
       "Frac Ports              0.214894  ... -0.704800  -0.477115             NaN   \n",
       "Repeater Ports         -0.666886  ...  0.666886  -0.564288             NaN   \n",
       "CT                      0.443253  ... -0.191242  -0.166220       -0.207431   \n",
       "Year Drilled            0.206136  ... -0.041872  -0.167969       -0.415602   \n",
       "\n",
       "                   12 month Cum Prod   Sleeves       P&P  Frac Ports  \\\n",
       "Unnamed: 0                  0.145759  0.203367  0.178904   -0.575608   \n",
       "Lateral Length              0.177257  0.405629  0.424934    0.028158   \n",
       "Stages                      0.340166  0.908350  0.877969    0.301994   \n",
       "Township                   -0.165085  0.104709  0.022196   -0.688001   \n",
       "Range                      -0.157996  0.138849  0.162309    0.449071   \n",
       "Section                     0.010521  0.039962  0.009927    0.319731   \n",
       "Total Prop, lbs             0.440060  0.529296  0.615773    0.424671   \n",
       "Fluid, bbls                 0.401960  0.507377  0.629173    0.680200   \n",
       "Best1 Mo BOPD               0.891192  0.184210  0.188430    0.204660   \n",
       "Best3 Mo BOPD               0.937187  0.160880  0.202089    0.214894   \n",
       "Best6 Mo BOPD               0.968343  0.126247  0.220704    0.214894   \n",
       "Best9 Mo BOPD               0.977030  0.110784  0.222074    0.193148   \n",
       "Best12 Mo BOPD              0.977382  0.099502  0.214714    0.196986   \n",
       "Latitude                   -0.166509  0.101020  0.023362   -0.704800   \n",
       "Longitude                   0.175363 -0.168883 -0.156650   -0.477115   \n",
       "SPACING_CAPPED             -0.246285 -0.344646 -0.185259         NaN   \n",
       "12 month Cum Prod           1.000000  0.192228  0.328136    0.211056   \n",
       "Sleeves                     0.192228  1.000000 -0.230834         NaN   \n",
       "P&P                         0.328136 -0.230834  1.000000   -0.899647   \n",
       "Frac Ports                  0.211056       NaN -0.899647    1.000000   \n",
       "Repeater Ports             -0.974679       NaN       NaN   -0.866025   \n",
       "CT                          0.471850       NaN       NaN         NaN   \n",
       "Year Drilled                0.311370  0.625336  0.496610    0.498482   \n",
       "\n",
       "                   Repeater Ports        CT  Year Drilled  \n",
       "Unnamed: 0               0.666886  0.176944      0.184971  \n",
       "Lateral Length           0.872082  0.480787      0.312223  \n",
       "Stages                   0.229416  1.000000      0.648229  \n",
       "Township                 0.666886 -0.172964     -0.039493  \n",
       "Range                    0.648886  0.164849      0.167011  \n",
       "Section                 -0.205196  0.008116      0.032135  \n",
       "Total Prop, lbs          0.564288 -0.151921      0.611360  \n",
       "Fluid, bbls             -0.205196 -0.066131      0.649717  \n",
       "Best1 Mo BOPD           -0.820783  0.495085      0.206711  \n",
       "Best3 Mo BOPD           -0.666886  0.443253      0.206136  \n",
       "Best6 Mo BOPD           -0.820783  0.561056      0.201120  \n",
       "Best9 Mo BOPD           -0.974679  0.619252      0.180979  \n",
       "Best12 Mo BOPD          -0.974679  0.702731      0.156146  \n",
       "Latitude                 0.666886 -0.191242     -0.041872  \n",
       "Longitude               -0.564288 -0.166220     -0.167969  \n",
       "SPACING_CAPPED                NaN -0.207431     -0.415602  \n",
       "12 month Cum Prod       -0.974679  0.471850      0.311370  \n",
       "Sleeves                       NaN       NaN      0.625336  \n",
       "P&P                           NaN       NaN      0.496610  \n",
       "Frac Ports              -0.866025       NaN      0.498482  \n",
       "Repeater Ports           1.000000       NaN     -0.362738  \n",
       "CT                            NaN  1.000000      0.322540  \n",
       "Year Drilled            -0.362738  0.322540      1.000000  \n",
       "\n",
       "[23 rows x 23 columns]"
      ]
     },
     "execution_count": 117,
     "metadata": {},
     "output_type": "execute_result"
    }
   ],
   "source": [
    "#Spearman's Rank correlation coefficient for each feature\n",
    "spearman_correlation = DatabaseDF.corr(method = 'spearman')\n",
    "spearman_correlation"
   ]
  },
  {
   "cell_type": "code",
   "execution_count": 118,
   "metadata": {},
   "outputs": [
    {
     "data": {
      "text/plain": [
       "Unnamed: 0           0.145759\n",
       "Lateral Length       0.177257\n",
       "Stages               0.340166\n",
       "Township            -0.165085\n",
       "Range               -0.157996\n",
       "Section              0.010521\n",
       "Total Prop, lbs      0.440060\n",
       "Fluid, bbls          0.401960\n",
       "Best1 Mo BOPD        0.891192\n",
       "Best3 Mo BOPD        0.937187\n",
       "Best6 Mo BOPD        0.968343\n",
       "Best9 Mo BOPD        0.977030\n",
       "Best12 Mo BOPD       0.977382\n",
       "Latitude            -0.166509\n",
       "Longitude            0.175363\n",
       "SPACING_CAPPED      -0.246285\n",
       "12 month Cum Prod    1.000000\n",
       "Sleeves              0.192228\n",
       "P&P                  0.328136\n",
       "Frac Ports           0.211056\n",
       "Repeater Ports      -0.974679\n",
       "CT                   0.471850\n",
       "Year Drilled         0.311370\n",
       "Name: 12 month Cum Prod, dtype: float64"
      ]
     },
     "execution_count": 118,
     "metadata": {},
     "output_type": "execute_result"
    }
   ],
   "source": [
    "#Printing the correlation to Cumulative Production specifically\n",
    "spearman_correlation['12 month Cum Prod']"
   ]
  },
  {
   "cell_type": "markdown",
   "metadata": {},
   "source": [
    "### First set of variables"
   ]
  },
  {
   "cell_type": "code",
   "execution_count": 119,
   "metadata": {},
   "outputs": [],
   "source": [
    "#Features that are being compared\n",
    "features = ['Lateral Length', 'Stages', 'Fluid, bbls', 'Total Prop, lbs', 'Longitude']\n",
    "#Radius values for each variable\n",
    "radius_values = []\n",
    "for i in features:\n",
    "        radius_values.append(spearman_correlation.at[i, '12 month Cum Prod'])"
   ]
  },
  {
   "cell_type": "code",
   "execution_count": 120,
   "metadata": {},
   "outputs": [
    {
     "data": {
      "application/vnd.plotly.v1+json": {
       "config": {
        "plotlyServerURL": "https://plot.ly"
       },
       "data": [
        {
         "fill": "toself",
         "hovertemplate": "r=%{r}<br>theta=%{theta}<extra></extra>",
         "legendgroup": "",
         "line": {
          "color": "#636efa",
          "dash": "solid"
         },
         "mode": "lines",
         "name": "",
         "r": [
          0.1772565408379906,
          0.3401656768932946,
          0.40196027696071207,
          0.44005995031812384,
          0.1753628534729498,
          0.1772565408379906
         ],
         "showlegend": false,
         "subplot": "polar",
         "theta": [
          "Lateral Length",
          "Stages",
          "Fluid, bbls",
          "Total Prop, lbs",
          "Longitude",
          "Lateral Length"
         ],
         "type": "scatterpolar"
        }
       ],
       "layout": {
        "legend": {
         "tracegroupgap": 0
        },
        "margin": {
         "t": 60
        },
        "polar": {
         "angularaxis": {
          "direction": "clockwise",
          "rotation": 90
         },
         "domain": {
          "x": [
           0,
           1
          ],
          "y": [
           0,
           1
          ]
         }
        },
        "template": {
         "data": {
          "bar": [
           {
            "error_x": {
             "color": "#2a3f5f"
            },
            "error_y": {
             "color": "#2a3f5f"
            },
            "marker": {
             "line": {
              "color": "#E5ECF6",
              "width": 0.5
             }
            },
            "type": "bar"
           }
          ],
          "barpolar": [
           {
            "marker": {
             "line": {
              "color": "#E5ECF6",
              "width": 0.5
             }
            },
            "type": "barpolar"
           }
          ],
          "carpet": [
           {
            "aaxis": {
             "endlinecolor": "#2a3f5f",
             "gridcolor": "white",
             "linecolor": "white",
             "minorgridcolor": "white",
             "startlinecolor": "#2a3f5f"
            },
            "baxis": {
             "endlinecolor": "#2a3f5f",
             "gridcolor": "white",
             "linecolor": "white",
             "minorgridcolor": "white",
             "startlinecolor": "#2a3f5f"
            },
            "type": "carpet"
           }
          ],
          "choropleth": [
           {
            "colorbar": {
             "outlinewidth": 0,
             "ticks": ""
            },
            "type": "choropleth"
           }
          ],
          "contour": [
           {
            "colorbar": {
             "outlinewidth": 0,
             "ticks": ""
            },
            "colorscale": [
             [
              0,
              "#0d0887"
             ],
             [
              0.1111111111111111,
              "#46039f"
             ],
             [
              0.2222222222222222,
              "#7201a8"
             ],
             [
              0.3333333333333333,
              "#9c179e"
             ],
             [
              0.4444444444444444,
              "#bd3786"
             ],
             [
              0.5555555555555556,
              "#d8576b"
             ],
             [
              0.6666666666666666,
              "#ed7953"
             ],
             [
              0.7777777777777778,
              "#fb9f3a"
             ],
             [
              0.8888888888888888,
              "#fdca26"
             ],
             [
              1,
              "#f0f921"
             ]
            ],
            "type": "contour"
           }
          ],
          "contourcarpet": [
           {
            "colorbar": {
             "outlinewidth": 0,
             "ticks": ""
            },
            "type": "contourcarpet"
           }
          ],
          "heatmap": [
           {
            "colorbar": {
             "outlinewidth": 0,
             "ticks": ""
            },
            "colorscale": [
             [
              0,
              "#0d0887"
             ],
             [
              0.1111111111111111,
              "#46039f"
             ],
             [
              0.2222222222222222,
              "#7201a8"
             ],
             [
              0.3333333333333333,
              "#9c179e"
             ],
             [
              0.4444444444444444,
              "#bd3786"
             ],
             [
              0.5555555555555556,
              "#d8576b"
             ],
             [
              0.6666666666666666,
              "#ed7953"
             ],
             [
              0.7777777777777778,
              "#fb9f3a"
             ],
             [
              0.8888888888888888,
              "#fdca26"
             ],
             [
              1,
              "#f0f921"
             ]
            ],
            "type": "heatmap"
           }
          ],
          "heatmapgl": [
           {
            "colorbar": {
             "outlinewidth": 0,
             "ticks": ""
            },
            "colorscale": [
             [
              0,
              "#0d0887"
             ],
             [
              0.1111111111111111,
              "#46039f"
             ],
             [
              0.2222222222222222,
              "#7201a8"
             ],
             [
              0.3333333333333333,
              "#9c179e"
             ],
             [
              0.4444444444444444,
              "#bd3786"
             ],
             [
              0.5555555555555556,
              "#d8576b"
             ],
             [
              0.6666666666666666,
              "#ed7953"
             ],
             [
              0.7777777777777778,
              "#fb9f3a"
             ],
             [
              0.8888888888888888,
              "#fdca26"
             ],
             [
              1,
              "#f0f921"
             ]
            ],
            "type": "heatmapgl"
           }
          ],
          "histogram": [
           {
            "marker": {
             "colorbar": {
              "outlinewidth": 0,
              "ticks": ""
             }
            },
            "type": "histogram"
           }
          ],
          "histogram2d": [
           {
            "colorbar": {
             "outlinewidth": 0,
             "ticks": ""
            },
            "colorscale": [
             [
              0,
              "#0d0887"
             ],
             [
              0.1111111111111111,
              "#46039f"
             ],
             [
              0.2222222222222222,
              "#7201a8"
             ],
             [
              0.3333333333333333,
              "#9c179e"
             ],
             [
              0.4444444444444444,
              "#bd3786"
             ],
             [
              0.5555555555555556,
              "#d8576b"
             ],
             [
              0.6666666666666666,
              "#ed7953"
             ],
             [
              0.7777777777777778,
              "#fb9f3a"
             ],
             [
              0.8888888888888888,
              "#fdca26"
             ],
             [
              1,
              "#f0f921"
             ]
            ],
            "type": "histogram2d"
           }
          ],
          "histogram2dcontour": [
           {
            "colorbar": {
             "outlinewidth": 0,
             "ticks": ""
            },
            "colorscale": [
             [
              0,
              "#0d0887"
             ],
             [
              0.1111111111111111,
              "#46039f"
             ],
             [
              0.2222222222222222,
              "#7201a8"
             ],
             [
              0.3333333333333333,
              "#9c179e"
             ],
             [
              0.4444444444444444,
              "#bd3786"
             ],
             [
              0.5555555555555556,
              "#d8576b"
             ],
             [
              0.6666666666666666,
              "#ed7953"
             ],
             [
              0.7777777777777778,
              "#fb9f3a"
             ],
             [
              0.8888888888888888,
              "#fdca26"
             ],
             [
              1,
              "#f0f921"
             ]
            ],
            "type": "histogram2dcontour"
           }
          ],
          "mesh3d": [
           {
            "colorbar": {
             "outlinewidth": 0,
             "ticks": ""
            },
            "type": "mesh3d"
           }
          ],
          "parcoords": [
           {
            "line": {
             "colorbar": {
              "outlinewidth": 0,
              "ticks": ""
             }
            },
            "type": "parcoords"
           }
          ],
          "pie": [
           {
            "automargin": true,
            "type": "pie"
           }
          ],
          "scatter": [
           {
            "marker": {
             "colorbar": {
              "outlinewidth": 0,
              "ticks": ""
             }
            },
            "type": "scatter"
           }
          ],
          "scatter3d": [
           {
            "line": {
             "colorbar": {
              "outlinewidth": 0,
              "ticks": ""
             }
            },
            "marker": {
             "colorbar": {
              "outlinewidth": 0,
              "ticks": ""
             }
            },
            "type": "scatter3d"
           }
          ],
          "scattercarpet": [
           {
            "marker": {
             "colorbar": {
              "outlinewidth": 0,
              "ticks": ""
             }
            },
            "type": "scattercarpet"
           }
          ],
          "scattergeo": [
           {
            "marker": {
             "colorbar": {
              "outlinewidth": 0,
              "ticks": ""
             }
            },
            "type": "scattergeo"
           }
          ],
          "scattergl": [
           {
            "marker": {
             "colorbar": {
              "outlinewidth": 0,
              "ticks": ""
             }
            },
            "type": "scattergl"
           }
          ],
          "scattermapbox": [
           {
            "marker": {
             "colorbar": {
              "outlinewidth": 0,
              "ticks": ""
             }
            },
            "type": "scattermapbox"
           }
          ],
          "scatterpolar": [
           {
            "marker": {
             "colorbar": {
              "outlinewidth": 0,
              "ticks": ""
             }
            },
            "type": "scatterpolar"
           }
          ],
          "scatterpolargl": [
           {
            "marker": {
             "colorbar": {
              "outlinewidth": 0,
              "ticks": ""
             }
            },
            "type": "scatterpolargl"
           }
          ],
          "scatterternary": [
           {
            "marker": {
             "colorbar": {
              "outlinewidth": 0,
              "ticks": ""
             }
            },
            "type": "scatterternary"
           }
          ],
          "surface": [
           {
            "colorbar": {
             "outlinewidth": 0,
             "ticks": ""
            },
            "colorscale": [
             [
              0,
              "#0d0887"
             ],
             [
              0.1111111111111111,
              "#46039f"
             ],
             [
              0.2222222222222222,
              "#7201a8"
             ],
             [
              0.3333333333333333,
              "#9c179e"
             ],
             [
              0.4444444444444444,
              "#bd3786"
             ],
             [
              0.5555555555555556,
              "#d8576b"
             ],
             [
              0.6666666666666666,
              "#ed7953"
             ],
             [
              0.7777777777777778,
              "#fb9f3a"
             ],
             [
              0.8888888888888888,
              "#fdca26"
             ],
             [
              1,
              "#f0f921"
             ]
            ],
            "type": "surface"
           }
          ],
          "table": [
           {
            "cells": {
             "fill": {
              "color": "#EBF0F8"
             },
             "line": {
              "color": "white"
             }
            },
            "header": {
             "fill": {
              "color": "#C8D4E3"
             },
             "line": {
              "color": "white"
             }
            },
            "type": "table"
           }
          ]
         },
         "layout": {
          "annotationdefaults": {
           "arrowcolor": "#2a3f5f",
           "arrowhead": 0,
           "arrowwidth": 1
          },
          "coloraxis": {
           "colorbar": {
            "outlinewidth": 0,
            "ticks": ""
           }
          },
          "colorscale": {
           "diverging": [
            [
             0,
             "#8e0152"
            ],
            [
             0.1,
             "#c51b7d"
            ],
            [
             0.2,
             "#de77ae"
            ],
            [
             0.3,
             "#f1b6da"
            ],
            [
             0.4,
             "#fde0ef"
            ],
            [
             0.5,
             "#f7f7f7"
            ],
            [
             0.6,
             "#e6f5d0"
            ],
            [
             0.7,
             "#b8e186"
            ],
            [
             0.8,
             "#7fbc41"
            ],
            [
             0.9,
             "#4d9221"
            ],
            [
             1,
             "#276419"
            ]
           ],
           "sequential": [
            [
             0,
             "#0d0887"
            ],
            [
             0.1111111111111111,
             "#46039f"
            ],
            [
             0.2222222222222222,
             "#7201a8"
            ],
            [
             0.3333333333333333,
             "#9c179e"
            ],
            [
             0.4444444444444444,
             "#bd3786"
            ],
            [
             0.5555555555555556,
             "#d8576b"
            ],
            [
             0.6666666666666666,
             "#ed7953"
            ],
            [
             0.7777777777777778,
             "#fb9f3a"
            ],
            [
             0.8888888888888888,
             "#fdca26"
            ],
            [
             1,
             "#f0f921"
            ]
           ],
           "sequentialminus": [
            [
             0,
             "#0d0887"
            ],
            [
             0.1111111111111111,
             "#46039f"
            ],
            [
             0.2222222222222222,
             "#7201a8"
            ],
            [
             0.3333333333333333,
             "#9c179e"
            ],
            [
             0.4444444444444444,
             "#bd3786"
            ],
            [
             0.5555555555555556,
             "#d8576b"
            ],
            [
             0.6666666666666666,
             "#ed7953"
            ],
            [
             0.7777777777777778,
             "#fb9f3a"
            ],
            [
             0.8888888888888888,
             "#fdca26"
            ],
            [
             1,
             "#f0f921"
            ]
           ]
          },
          "colorway": [
           "#636efa",
           "#EF553B",
           "#00cc96",
           "#ab63fa",
           "#FFA15A",
           "#19d3f3",
           "#FF6692",
           "#B6E880",
           "#FF97FF",
           "#FECB52"
          ],
          "font": {
           "color": "#2a3f5f"
          },
          "geo": {
           "bgcolor": "white",
           "lakecolor": "white",
           "landcolor": "#E5ECF6",
           "showlakes": true,
           "showland": true,
           "subunitcolor": "white"
          },
          "hoverlabel": {
           "align": "left"
          },
          "hovermode": "closest",
          "mapbox": {
           "style": "light"
          },
          "paper_bgcolor": "white",
          "plot_bgcolor": "#E5ECF6",
          "polar": {
           "angularaxis": {
            "gridcolor": "white",
            "linecolor": "white",
            "ticks": ""
           },
           "bgcolor": "#E5ECF6",
           "radialaxis": {
            "gridcolor": "white",
            "linecolor": "white",
            "ticks": ""
           }
          },
          "scene": {
           "xaxis": {
            "backgroundcolor": "#E5ECF6",
            "gridcolor": "white",
            "gridwidth": 2,
            "linecolor": "white",
            "showbackground": true,
            "ticks": "",
            "zerolinecolor": "white"
           },
           "yaxis": {
            "backgroundcolor": "#E5ECF6",
            "gridcolor": "white",
            "gridwidth": 2,
            "linecolor": "white",
            "showbackground": true,
            "ticks": "",
            "zerolinecolor": "white"
           },
           "zaxis": {
            "backgroundcolor": "#E5ECF6",
            "gridcolor": "white",
            "gridwidth": 2,
            "linecolor": "white",
            "showbackground": true,
            "ticks": "",
            "zerolinecolor": "white"
           }
          },
          "shapedefaults": {
           "line": {
            "color": "#2a3f5f"
           }
          },
          "ternary": {
           "aaxis": {
            "gridcolor": "white",
            "linecolor": "white",
            "ticks": ""
           },
           "baxis": {
            "gridcolor": "white",
            "linecolor": "white",
            "ticks": ""
           },
           "bgcolor": "#E5ECF6",
           "caxis": {
            "gridcolor": "white",
            "linecolor": "white",
            "ticks": ""
           }
          },
          "title": {
           "x": 0.05
          },
          "xaxis": {
           "automargin": true,
           "gridcolor": "white",
           "linecolor": "white",
           "ticks": "",
           "title": {
            "standoff": 15
           },
           "zerolinecolor": "white",
           "zerolinewidth": 2
          },
          "yaxis": {
           "automargin": true,
           "gridcolor": "white",
           "linecolor": "white",
           "ticks": "",
           "title": {
            "standoff": 15
           },
           "zerolinecolor": "white",
           "zerolinewidth": 2
          }
         }
        }
       }
      },
      "text/html": [
       "<div>\n",
       "        \n",
       "        \n",
       "            <div id=\"3abf0ba1-3aff-4cd6-b7a5-4b38725a8d9f\" class=\"plotly-graph-div\" style=\"height:525px; width:100%;\"></div>\n",
       "            <script type=\"text/javascript\">\n",
       "                require([\"plotly\"], function(Plotly) {\n",
       "                    window.PLOTLYENV=window.PLOTLYENV || {};\n",
       "                    \n",
       "                if (document.getElementById(\"3abf0ba1-3aff-4cd6-b7a5-4b38725a8d9f\")) {\n",
       "                    Plotly.newPlot(\n",
       "                        '3abf0ba1-3aff-4cd6-b7a5-4b38725a8d9f',\n",
       "                        [{\"fill\": \"toself\", \"hovertemplate\": \"r=%{r}<br>theta=%{theta}<extra></extra>\", \"legendgroup\": \"\", \"line\": {\"color\": \"#636efa\", \"dash\": \"solid\"}, \"mode\": \"lines\", \"name\": \"\", \"r\": [0.1772565408379906, 0.3401656768932946, 0.40196027696071207, 0.44005995031812384, 0.1753628534729498, 0.1772565408379906], \"showlegend\": false, \"subplot\": \"polar\", \"theta\": [\"Lateral Length\", \"Stages\", \"Fluid, bbls\", \"Total Prop, lbs\", \"Longitude\", \"Lateral Length\"], \"type\": \"scatterpolar\"}],\n",
       "                        {\"legend\": {\"tracegroupgap\": 0}, \"margin\": {\"t\": 60}, \"polar\": {\"angularaxis\": {\"direction\": \"clockwise\", \"rotation\": 90}, \"domain\": {\"x\": [0.0, 1.0], \"y\": [0.0, 1.0]}}, \"template\": {\"data\": {\"bar\": [{\"error_x\": {\"color\": \"#2a3f5f\"}, \"error_y\": {\"color\": \"#2a3f5f\"}, \"marker\": {\"line\": {\"color\": \"#E5ECF6\", \"width\": 0.5}}, \"type\": \"bar\"}], \"barpolar\": [{\"marker\": {\"line\": {\"color\": \"#E5ECF6\", \"width\": 0.5}}, \"type\": \"barpolar\"}], \"carpet\": [{\"aaxis\": {\"endlinecolor\": \"#2a3f5f\", \"gridcolor\": \"white\", \"linecolor\": \"white\", \"minorgridcolor\": \"white\", \"startlinecolor\": \"#2a3f5f\"}, \"baxis\": {\"endlinecolor\": \"#2a3f5f\", \"gridcolor\": \"white\", \"linecolor\": \"white\", \"minorgridcolor\": \"white\", \"startlinecolor\": \"#2a3f5f\"}, \"type\": \"carpet\"}], \"choropleth\": [{\"colorbar\": {\"outlinewidth\": 0, \"ticks\": \"\"}, \"type\": \"choropleth\"}], \"contour\": [{\"colorbar\": {\"outlinewidth\": 0, \"ticks\": \"\"}, \"colorscale\": [[0.0, \"#0d0887\"], [0.1111111111111111, \"#46039f\"], [0.2222222222222222, \"#7201a8\"], [0.3333333333333333, \"#9c179e\"], [0.4444444444444444, \"#bd3786\"], [0.5555555555555556, \"#d8576b\"], [0.6666666666666666, \"#ed7953\"], [0.7777777777777778, \"#fb9f3a\"], [0.8888888888888888, \"#fdca26\"], [1.0, \"#f0f921\"]], \"type\": \"contour\"}], \"contourcarpet\": [{\"colorbar\": {\"outlinewidth\": 0, \"ticks\": \"\"}, \"type\": \"contourcarpet\"}], \"heatmap\": [{\"colorbar\": {\"outlinewidth\": 0, \"ticks\": \"\"}, \"colorscale\": [[0.0, \"#0d0887\"], [0.1111111111111111, \"#46039f\"], [0.2222222222222222, \"#7201a8\"], [0.3333333333333333, \"#9c179e\"], [0.4444444444444444, \"#bd3786\"], [0.5555555555555556, \"#d8576b\"], [0.6666666666666666, \"#ed7953\"], [0.7777777777777778, \"#fb9f3a\"], [0.8888888888888888, \"#fdca26\"], [1.0, \"#f0f921\"]], \"type\": \"heatmap\"}], \"heatmapgl\": [{\"colorbar\": {\"outlinewidth\": 0, \"ticks\": \"\"}, \"colorscale\": [[0.0, \"#0d0887\"], [0.1111111111111111, \"#46039f\"], [0.2222222222222222, \"#7201a8\"], [0.3333333333333333, \"#9c179e\"], [0.4444444444444444, \"#bd3786\"], [0.5555555555555556, \"#d8576b\"], [0.6666666666666666, \"#ed7953\"], [0.7777777777777778, \"#fb9f3a\"], [0.8888888888888888, \"#fdca26\"], [1.0, \"#f0f921\"]], \"type\": \"heatmapgl\"}], \"histogram\": [{\"marker\": {\"colorbar\": {\"outlinewidth\": 0, \"ticks\": \"\"}}, \"type\": \"histogram\"}], \"histogram2d\": [{\"colorbar\": {\"outlinewidth\": 0, \"ticks\": \"\"}, \"colorscale\": [[0.0, \"#0d0887\"], [0.1111111111111111, \"#46039f\"], [0.2222222222222222, \"#7201a8\"], [0.3333333333333333, \"#9c179e\"], [0.4444444444444444, \"#bd3786\"], [0.5555555555555556, \"#d8576b\"], [0.6666666666666666, \"#ed7953\"], [0.7777777777777778, \"#fb9f3a\"], [0.8888888888888888, \"#fdca26\"], [1.0, \"#f0f921\"]], \"type\": \"histogram2d\"}], \"histogram2dcontour\": [{\"colorbar\": {\"outlinewidth\": 0, \"ticks\": \"\"}, \"colorscale\": [[0.0, \"#0d0887\"], [0.1111111111111111, \"#46039f\"], [0.2222222222222222, \"#7201a8\"], [0.3333333333333333, \"#9c179e\"], [0.4444444444444444, \"#bd3786\"], [0.5555555555555556, \"#d8576b\"], [0.6666666666666666, \"#ed7953\"], [0.7777777777777778, \"#fb9f3a\"], [0.8888888888888888, \"#fdca26\"], [1.0, \"#f0f921\"]], \"type\": \"histogram2dcontour\"}], \"mesh3d\": [{\"colorbar\": {\"outlinewidth\": 0, \"ticks\": \"\"}, \"type\": \"mesh3d\"}], \"parcoords\": [{\"line\": {\"colorbar\": {\"outlinewidth\": 0, \"ticks\": \"\"}}, \"type\": \"parcoords\"}], \"pie\": [{\"automargin\": true, \"type\": \"pie\"}], \"scatter\": [{\"marker\": {\"colorbar\": {\"outlinewidth\": 0, \"ticks\": \"\"}}, \"type\": \"scatter\"}], \"scatter3d\": [{\"line\": {\"colorbar\": {\"outlinewidth\": 0, \"ticks\": \"\"}}, \"marker\": {\"colorbar\": {\"outlinewidth\": 0, \"ticks\": \"\"}}, \"type\": \"scatter3d\"}], \"scattercarpet\": [{\"marker\": {\"colorbar\": {\"outlinewidth\": 0, \"ticks\": \"\"}}, \"type\": \"scattercarpet\"}], \"scattergeo\": [{\"marker\": {\"colorbar\": {\"outlinewidth\": 0, \"ticks\": \"\"}}, \"type\": \"scattergeo\"}], \"scattergl\": [{\"marker\": {\"colorbar\": {\"outlinewidth\": 0, \"ticks\": \"\"}}, \"type\": \"scattergl\"}], \"scattermapbox\": [{\"marker\": {\"colorbar\": {\"outlinewidth\": 0, \"ticks\": \"\"}}, \"type\": \"scattermapbox\"}], \"scatterpolar\": [{\"marker\": {\"colorbar\": {\"outlinewidth\": 0, \"ticks\": \"\"}}, \"type\": \"scatterpolar\"}], \"scatterpolargl\": [{\"marker\": {\"colorbar\": {\"outlinewidth\": 0, \"ticks\": \"\"}}, \"type\": \"scatterpolargl\"}], \"scatterternary\": [{\"marker\": {\"colorbar\": {\"outlinewidth\": 0, \"ticks\": \"\"}}, \"type\": \"scatterternary\"}], \"surface\": [{\"colorbar\": {\"outlinewidth\": 0, \"ticks\": \"\"}, \"colorscale\": [[0.0, \"#0d0887\"], [0.1111111111111111, \"#46039f\"], [0.2222222222222222, \"#7201a8\"], [0.3333333333333333, \"#9c179e\"], [0.4444444444444444, \"#bd3786\"], [0.5555555555555556, \"#d8576b\"], [0.6666666666666666, \"#ed7953\"], [0.7777777777777778, \"#fb9f3a\"], [0.8888888888888888, \"#fdca26\"], [1.0, \"#f0f921\"]], \"type\": \"surface\"}], \"table\": [{\"cells\": {\"fill\": {\"color\": \"#EBF0F8\"}, \"line\": {\"color\": \"white\"}}, \"header\": {\"fill\": {\"color\": \"#C8D4E3\"}, \"line\": {\"color\": \"white\"}}, \"type\": \"table\"}]}, \"layout\": {\"annotationdefaults\": {\"arrowcolor\": \"#2a3f5f\", \"arrowhead\": 0, \"arrowwidth\": 1}, \"coloraxis\": {\"colorbar\": {\"outlinewidth\": 0, \"ticks\": \"\"}}, \"colorscale\": {\"diverging\": [[0, \"#8e0152\"], [0.1, \"#c51b7d\"], [0.2, \"#de77ae\"], [0.3, \"#f1b6da\"], [0.4, \"#fde0ef\"], [0.5, \"#f7f7f7\"], [0.6, \"#e6f5d0\"], [0.7, \"#b8e186\"], [0.8, \"#7fbc41\"], [0.9, \"#4d9221\"], [1, \"#276419\"]], \"sequential\": [[0.0, \"#0d0887\"], [0.1111111111111111, \"#46039f\"], [0.2222222222222222, \"#7201a8\"], [0.3333333333333333, \"#9c179e\"], [0.4444444444444444, \"#bd3786\"], [0.5555555555555556, \"#d8576b\"], [0.6666666666666666, \"#ed7953\"], [0.7777777777777778, \"#fb9f3a\"], [0.8888888888888888, \"#fdca26\"], [1.0, \"#f0f921\"]], \"sequentialminus\": [[0.0, \"#0d0887\"], [0.1111111111111111, \"#46039f\"], [0.2222222222222222, \"#7201a8\"], [0.3333333333333333, \"#9c179e\"], [0.4444444444444444, \"#bd3786\"], [0.5555555555555556, \"#d8576b\"], [0.6666666666666666, \"#ed7953\"], [0.7777777777777778, \"#fb9f3a\"], [0.8888888888888888, \"#fdca26\"], [1.0, \"#f0f921\"]]}, \"colorway\": [\"#636efa\", \"#EF553B\", \"#00cc96\", \"#ab63fa\", \"#FFA15A\", \"#19d3f3\", \"#FF6692\", \"#B6E880\", \"#FF97FF\", \"#FECB52\"], \"font\": {\"color\": \"#2a3f5f\"}, \"geo\": {\"bgcolor\": \"white\", \"lakecolor\": \"white\", \"landcolor\": \"#E5ECF6\", \"showlakes\": true, \"showland\": true, \"subunitcolor\": \"white\"}, \"hoverlabel\": {\"align\": \"left\"}, \"hovermode\": \"closest\", \"mapbox\": {\"style\": \"light\"}, \"paper_bgcolor\": \"white\", \"plot_bgcolor\": \"#E5ECF6\", \"polar\": {\"angularaxis\": {\"gridcolor\": \"white\", \"linecolor\": \"white\", \"ticks\": \"\"}, \"bgcolor\": \"#E5ECF6\", \"radialaxis\": {\"gridcolor\": \"white\", \"linecolor\": \"white\", \"ticks\": \"\"}}, \"scene\": {\"xaxis\": {\"backgroundcolor\": \"#E5ECF6\", \"gridcolor\": \"white\", \"gridwidth\": 2, \"linecolor\": \"white\", \"showbackground\": true, \"ticks\": \"\", \"zerolinecolor\": \"white\"}, \"yaxis\": {\"backgroundcolor\": \"#E5ECF6\", \"gridcolor\": \"white\", \"gridwidth\": 2, \"linecolor\": \"white\", \"showbackground\": true, \"ticks\": \"\", \"zerolinecolor\": \"white\"}, \"zaxis\": {\"backgroundcolor\": \"#E5ECF6\", \"gridcolor\": \"white\", \"gridwidth\": 2, \"linecolor\": \"white\", \"showbackground\": true, \"ticks\": \"\", \"zerolinecolor\": \"white\"}}, \"shapedefaults\": {\"line\": {\"color\": \"#2a3f5f\"}}, \"ternary\": {\"aaxis\": {\"gridcolor\": \"white\", \"linecolor\": \"white\", \"ticks\": \"\"}, \"baxis\": {\"gridcolor\": \"white\", \"linecolor\": \"white\", \"ticks\": \"\"}, \"bgcolor\": \"#E5ECF6\", \"caxis\": {\"gridcolor\": \"white\", \"linecolor\": \"white\", \"ticks\": \"\"}}, \"title\": {\"x\": 0.05}, \"xaxis\": {\"automargin\": true, \"gridcolor\": \"white\", \"linecolor\": \"white\", \"ticks\": \"\", \"title\": {\"standoff\": 15}, \"zerolinecolor\": \"white\", \"zerolinewidth\": 2}, \"yaxis\": {\"automargin\": true, \"gridcolor\": \"white\", \"linecolor\": \"white\", \"ticks\": \"\", \"title\": {\"standoff\": 15}, \"zerolinecolor\": \"white\", \"zerolinewidth\": 2}}}},\n",
       "                        {\"responsive\": true}\n",
       "                    ).then(function(){\n",
       "                            \n",
       "var gd = document.getElementById('3abf0ba1-3aff-4cd6-b7a5-4b38725a8d9f');\n",
       "var x = new MutationObserver(function (mutations, observer) {{\n",
       "        var display = window.getComputedStyle(gd).display;\n",
       "        if (!display || display === 'none') {{\n",
       "            console.log([gd, 'removed!']);\n",
       "            Plotly.purge(gd);\n",
       "            observer.disconnect();\n",
       "        }}\n",
       "}});\n",
       "\n",
       "// Listen for the removal of the full notebook cells\n",
       "var notebookContainer = gd.closest('#notebook-container');\n",
       "if (notebookContainer) {{\n",
       "    x.observe(notebookContainer, {childList: true});\n",
       "}}\n",
       "\n",
       "// Listen for the clearing of the current output cell\n",
       "var outputEl = gd.closest('.output');\n",
       "if (outputEl) {{\n",
       "    x.observe(outputEl, {childList: true});\n",
       "}}\n",
       "\n",
       "                        })\n",
       "                };\n",
       "                });\n",
       "            </script>\n",
       "        </div>"
      ]
     },
     "metadata": {},
     "output_type": "display_data"
    }
   ],
   "source": [
    "#create dictionary for angle and radius values \n",
    "df = pd.DataFrame(dict(\n",
    "    r= radius_values,\n",
    "    theta= features))\n",
    "\n",
    "#create radar chart\n",
    "fig = px.line_polar(df, r='r', theta='theta', line_close=True)\n",
    "\n",
    "#fill in area\n",
    "fig.update_traces(fill='toself')\n",
    "\n",
    "#plot chart\n",
    "fig.show()"
   ]
  },
  {
   "cell_type": "markdown",
   "metadata": {},
   "source": [
    "### Second set of variables"
   ]
  },
  {
   "cell_type": "code",
   "execution_count": 121,
   "metadata": {},
   "outputs": [],
   "source": [
    "#Features that are being compared\n",
    "features = ['Latitude','CT','Section',\n",
    "           'Year Drilled', 'SPACING_CAPPED']\n",
    "#Radius values for each variable\n",
    "radius_values = []\n",
    "for i in features:\n",
    "        radius_values.append(spearman_correlation.at[i, '12 month Cum Prod'])"
   ]
  },
  {
   "cell_type": "code",
   "execution_count": 122,
   "metadata": {},
   "outputs": [
    {
     "data": {
      "application/vnd.plotly.v1+json": {
       "config": {
        "plotlyServerURL": "https://plot.ly"
       },
       "data": [
        {
         "fill": "toself",
         "hovertemplate": "r=%{r}<br>theta=%{theta}<extra></extra>",
         "legendgroup": "",
         "line": {
          "color": "#636efa",
          "dash": "solid"
         },
         "mode": "lines",
         "name": "",
         "r": [
          -0.16650890705991375,
          0.47185005436607136,
          0.010520682386774382,
          0.31136962752993314,
          -0.2462845738471428,
          -0.16650890705991375
         ],
         "showlegend": false,
         "subplot": "polar",
         "theta": [
          "Latitude",
          "CT",
          "Section",
          "Year Drilled",
          "SPACING_CAPPED",
          "Latitude"
         ],
         "type": "scatterpolar"
        }
       ],
       "layout": {
        "legend": {
         "tracegroupgap": 0
        },
        "margin": {
         "t": 60
        },
        "polar": {
         "angularaxis": {
          "direction": "clockwise",
          "rotation": 90
         },
         "domain": {
          "x": [
           0,
           1
          ],
          "y": [
           0,
           1
          ]
         }
        },
        "template": {
         "data": {
          "bar": [
           {
            "error_x": {
             "color": "#2a3f5f"
            },
            "error_y": {
             "color": "#2a3f5f"
            },
            "marker": {
             "line": {
              "color": "#E5ECF6",
              "width": 0.5
             }
            },
            "type": "bar"
           }
          ],
          "barpolar": [
           {
            "marker": {
             "line": {
              "color": "#E5ECF6",
              "width": 0.5
             }
            },
            "type": "barpolar"
           }
          ],
          "carpet": [
           {
            "aaxis": {
             "endlinecolor": "#2a3f5f",
             "gridcolor": "white",
             "linecolor": "white",
             "minorgridcolor": "white",
             "startlinecolor": "#2a3f5f"
            },
            "baxis": {
             "endlinecolor": "#2a3f5f",
             "gridcolor": "white",
             "linecolor": "white",
             "minorgridcolor": "white",
             "startlinecolor": "#2a3f5f"
            },
            "type": "carpet"
           }
          ],
          "choropleth": [
           {
            "colorbar": {
             "outlinewidth": 0,
             "ticks": ""
            },
            "type": "choropleth"
           }
          ],
          "contour": [
           {
            "colorbar": {
             "outlinewidth": 0,
             "ticks": ""
            },
            "colorscale": [
             [
              0,
              "#0d0887"
             ],
             [
              0.1111111111111111,
              "#46039f"
             ],
             [
              0.2222222222222222,
              "#7201a8"
             ],
             [
              0.3333333333333333,
              "#9c179e"
             ],
             [
              0.4444444444444444,
              "#bd3786"
             ],
             [
              0.5555555555555556,
              "#d8576b"
             ],
             [
              0.6666666666666666,
              "#ed7953"
             ],
             [
              0.7777777777777778,
              "#fb9f3a"
             ],
             [
              0.8888888888888888,
              "#fdca26"
             ],
             [
              1,
              "#f0f921"
             ]
            ],
            "type": "contour"
           }
          ],
          "contourcarpet": [
           {
            "colorbar": {
             "outlinewidth": 0,
             "ticks": ""
            },
            "type": "contourcarpet"
           }
          ],
          "heatmap": [
           {
            "colorbar": {
             "outlinewidth": 0,
             "ticks": ""
            },
            "colorscale": [
             [
              0,
              "#0d0887"
             ],
             [
              0.1111111111111111,
              "#46039f"
             ],
             [
              0.2222222222222222,
              "#7201a8"
             ],
             [
              0.3333333333333333,
              "#9c179e"
             ],
             [
              0.4444444444444444,
              "#bd3786"
             ],
             [
              0.5555555555555556,
              "#d8576b"
             ],
             [
              0.6666666666666666,
              "#ed7953"
             ],
             [
              0.7777777777777778,
              "#fb9f3a"
             ],
             [
              0.8888888888888888,
              "#fdca26"
             ],
             [
              1,
              "#f0f921"
             ]
            ],
            "type": "heatmap"
           }
          ],
          "heatmapgl": [
           {
            "colorbar": {
             "outlinewidth": 0,
             "ticks": ""
            },
            "colorscale": [
             [
              0,
              "#0d0887"
             ],
             [
              0.1111111111111111,
              "#46039f"
             ],
             [
              0.2222222222222222,
              "#7201a8"
             ],
             [
              0.3333333333333333,
              "#9c179e"
             ],
             [
              0.4444444444444444,
              "#bd3786"
             ],
             [
              0.5555555555555556,
              "#d8576b"
             ],
             [
              0.6666666666666666,
              "#ed7953"
             ],
             [
              0.7777777777777778,
              "#fb9f3a"
             ],
             [
              0.8888888888888888,
              "#fdca26"
             ],
             [
              1,
              "#f0f921"
             ]
            ],
            "type": "heatmapgl"
           }
          ],
          "histogram": [
           {
            "marker": {
             "colorbar": {
              "outlinewidth": 0,
              "ticks": ""
             }
            },
            "type": "histogram"
           }
          ],
          "histogram2d": [
           {
            "colorbar": {
             "outlinewidth": 0,
             "ticks": ""
            },
            "colorscale": [
             [
              0,
              "#0d0887"
             ],
             [
              0.1111111111111111,
              "#46039f"
             ],
             [
              0.2222222222222222,
              "#7201a8"
             ],
             [
              0.3333333333333333,
              "#9c179e"
             ],
             [
              0.4444444444444444,
              "#bd3786"
             ],
             [
              0.5555555555555556,
              "#d8576b"
             ],
             [
              0.6666666666666666,
              "#ed7953"
             ],
             [
              0.7777777777777778,
              "#fb9f3a"
             ],
             [
              0.8888888888888888,
              "#fdca26"
             ],
             [
              1,
              "#f0f921"
             ]
            ],
            "type": "histogram2d"
           }
          ],
          "histogram2dcontour": [
           {
            "colorbar": {
             "outlinewidth": 0,
             "ticks": ""
            },
            "colorscale": [
             [
              0,
              "#0d0887"
             ],
             [
              0.1111111111111111,
              "#46039f"
             ],
             [
              0.2222222222222222,
              "#7201a8"
             ],
             [
              0.3333333333333333,
              "#9c179e"
             ],
             [
              0.4444444444444444,
              "#bd3786"
             ],
             [
              0.5555555555555556,
              "#d8576b"
             ],
             [
              0.6666666666666666,
              "#ed7953"
             ],
             [
              0.7777777777777778,
              "#fb9f3a"
             ],
             [
              0.8888888888888888,
              "#fdca26"
             ],
             [
              1,
              "#f0f921"
             ]
            ],
            "type": "histogram2dcontour"
           }
          ],
          "mesh3d": [
           {
            "colorbar": {
             "outlinewidth": 0,
             "ticks": ""
            },
            "type": "mesh3d"
           }
          ],
          "parcoords": [
           {
            "line": {
             "colorbar": {
              "outlinewidth": 0,
              "ticks": ""
             }
            },
            "type": "parcoords"
           }
          ],
          "pie": [
           {
            "automargin": true,
            "type": "pie"
           }
          ],
          "scatter": [
           {
            "marker": {
             "colorbar": {
              "outlinewidth": 0,
              "ticks": ""
             }
            },
            "type": "scatter"
           }
          ],
          "scatter3d": [
           {
            "line": {
             "colorbar": {
              "outlinewidth": 0,
              "ticks": ""
             }
            },
            "marker": {
             "colorbar": {
              "outlinewidth": 0,
              "ticks": ""
             }
            },
            "type": "scatter3d"
           }
          ],
          "scattercarpet": [
           {
            "marker": {
             "colorbar": {
              "outlinewidth": 0,
              "ticks": ""
             }
            },
            "type": "scattercarpet"
           }
          ],
          "scattergeo": [
           {
            "marker": {
             "colorbar": {
              "outlinewidth": 0,
              "ticks": ""
             }
            },
            "type": "scattergeo"
           }
          ],
          "scattergl": [
           {
            "marker": {
             "colorbar": {
              "outlinewidth": 0,
              "ticks": ""
             }
            },
            "type": "scattergl"
           }
          ],
          "scattermapbox": [
           {
            "marker": {
             "colorbar": {
              "outlinewidth": 0,
              "ticks": ""
             }
            },
            "type": "scattermapbox"
           }
          ],
          "scatterpolar": [
           {
            "marker": {
             "colorbar": {
              "outlinewidth": 0,
              "ticks": ""
             }
            },
            "type": "scatterpolar"
           }
          ],
          "scatterpolargl": [
           {
            "marker": {
             "colorbar": {
              "outlinewidth": 0,
              "ticks": ""
             }
            },
            "type": "scatterpolargl"
           }
          ],
          "scatterternary": [
           {
            "marker": {
             "colorbar": {
              "outlinewidth": 0,
              "ticks": ""
             }
            },
            "type": "scatterternary"
           }
          ],
          "surface": [
           {
            "colorbar": {
             "outlinewidth": 0,
             "ticks": ""
            },
            "colorscale": [
             [
              0,
              "#0d0887"
             ],
             [
              0.1111111111111111,
              "#46039f"
             ],
             [
              0.2222222222222222,
              "#7201a8"
             ],
             [
              0.3333333333333333,
              "#9c179e"
             ],
             [
              0.4444444444444444,
              "#bd3786"
             ],
             [
              0.5555555555555556,
              "#d8576b"
             ],
             [
              0.6666666666666666,
              "#ed7953"
             ],
             [
              0.7777777777777778,
              "#fb9f3a"
             ],
             [
              0.8888888888888888,
              "#fdca26"
             ],
             [
              1,
              "#f0f921"
             ]
            ],
            "type": "surface"
           }
          ],
          "table": [
           {
            "cells": {
             "fill": {
              "color": "#EBF0F8"
             },
             "line": {
              "color": "white"
             }
            },
            "header": {
             "fill": {
              "color": "#C8D4E3"
             },
             "line": {
              "color": "white"
             }
            },
            "type": "table"
           }
          ]
         },
         "layout": {
          "annotationdefaults": {
           "arrowcolor": "#2a3f5f",
           "arrowhead": 0,
           "arrowwidth": 1
          },
          "coloraxis": {
           "colorbar": {
            "outlinewidth": 0,
            "ticks": ""
           }
          },
          "colorscale": {
           "diverging": [
            [
             0,
             "#8e0152"
            ],
            [
             0.1,
             "#c51b7d"
            ],
            [
             0.2,
             "#de77ae"
            ],
            [
             0.3,
             "#f1b6da"
            ],
            [
             0.4,
             "#fde0ef"
            ],
            [
             0.5,
             "#f7f7f7"
            ],
            [
             0.6,
             "#e6f5d0"
            ],
            [
             0.7,
             "#b8e186"
            ],
            [
             0.8,
             "#7fbc41"
            ],
            [
             0.9,
             "#4d9221"
            ],
            [
             1,
             "#276419"
            ]
           ],
           "sequential": [
            [
             0,
             "#0d0887"
            ],
            [
             0.1111111111111111,
             "#46039f"
            ],
            [
             0.2222222222222222,
             "#7201a8"
            ],
            [
             0.3333333333333333,
             "#9c179e"
            ],
            [
             0.4444444444444444,
             "#bd3786"
            ],
            [
             0.5555555555555556,
             "#d8576b"
            ],
            [
             0.6666666666666666,
             "#ed7953"
            ],
            [
             0.7777777777777778,
             "#fb9f3a"
            ],
            [
             0.8888888888888888,
             "#fdca26"
            ],
            [
             1,
             "#f0f921"
            ]
           ],
           "sequentialminus": [
            [
             0,
             "#0d0887"
            ],
            [
             0.1111111111111111,
             "#46039f"
            ],
            [
             0.2222222222222222,
             "#7201a8"
            ],
            [
             0.3333333333333333,
             "#9c179e"
            ],
            [
             0.4444444444444444,
             "#bd3786"
            ],
            [
             0.5555555555555556,
             "#d8576b"
            ],
            [
             0.6666666666666666,
             "#ed7953"
            ],
            [
             0.7777777777777778,
             "#fb9f3a"
            ],
            [
             0.8888888888888888,
             "#fdca26"
            ],
            [
             1,
             "#f0f921"
            ]
           ]
          },
          "colorway": [
           "#636efa",
           "#EF553B",
           "#00cc96",
           "#ab63fa",
           "#FFA15A",
           "#19d3f3",
           "#FF6692",
           "#B6E880",
           "#FF97FF",
           "#FECB52"
          ],
          "font": {
           "color": "#2a3f5f"
          },
          "geo": {
           "bgcolor": "white",
           "lakecolor": "white",
           "landcolor": "#E5ECF6",
           "showlakes": true,
           "showland": true,
           "subunitcolor": "white"
          },
          "hoverlabel": {
           "align": "left"
          },
          "hovermode": "closest",
          "mapbox": {
           "style": "light"
          },
          "paper_bgcolor": "white",
          "plot_bgcolor": "#E5ECF6",
          "polar": {
           "angularaxis": {
            "gridcolor": "white",
            "linecolor": "white",
            "ticks": ""
           },
           "bgcolor": "#E5ECF6",
           "radialaxis": {
            "gridcolor": "white",
            "linecolor": "white",
            "ticks": ""
           }
          },
          "scene": {
           "xaxis": {
            "backgroundcolor": "#E5ECF6",
            "gridcolor": "white",
            "gridwidth": 2,
            "linecolor": "white",
            "showbackground": true,
            "ticks": "",
            "zerolinecolor": "white"
           },
           "yaxis": {
            "backgroundcolor": "#E5ECF6",
            "gridcolor": "white",
            "gridwidth": 2,
            "linecolor": "white",
            "showbackground": true,
            "ticks": "",
            "zerolinecolor": "white"
           },
           "zaxis": {
            "backgroundcolor": "#E5ECF6",
            "gridcolor": "white",
            "gridwidth": 2,
            "linecolor": "white",
            "showbackground": true,
            "ticks": "",
            "zerolinecolor": "white"
           }
          },
          "shapedefaults": {
           "line": {
            "color": "#2a3f5f"
           }
          },
          "ternary": {
           "aaxis": {
            "gridcolor": "white",
            "linecolor": "white",
            "ticks": ""
           },
           "baxis": {
            "gridcolor": "white",
            "linecolor": "white",
            "ticks": ""
           },
           "bgcolor": "#E5ECF6",
           "caxis": {
            "gridcolor": "white",
            "linecolor": "white",
            "ticks": ""
           }
          },
          "title": {
           "x": 0.05
          },
          "xaxis": {
           "automargin": true,
           "gridcolor": "white",
           "linecolor": "white",
           "ticks": "",
           "title": {
            "standoff": 15
           },
           "zerolinecolor": "white",
           "zerolinewidth": 2
          },
          "yaxis": {
           "automargin": true,
           "gridcolor": "white",
           "linecolor": "white",
           "ticks": "",
           "title": {
            "standoff": 15
           },
           "zerolinecolor": "white",
           "zerolinewidth": 2
          }
         }
        }
       }
      },
      "text/html": [
       "<div>\n",
       "        \n",
       "        \n",
       "            <div id=\"53c8e842-28e0-46df-9b87-a9b004545bc8\" class=\"plotly-graph-div\" style=\"height:525px; width:100%;\"></div>\n",
       "            <script type=\"text/javascript\">\n",
       "                require([\"plotly\"], function(Plotly) {\n",
       "                    window.PLOTLYENV=window.PLOTLYENV || {};\n",
       "                    \n",
       "                if (document.getElementById(\"53c8e842-28e0-46df-9b87-a9b004545bc8\")) {\n",
       "                    Plotly.newPlot(\n",
       "                        '53c8e842-28e0-46df-9b87-a9b004545bc8',\n",
       "                        [{\"fill\": \"toself\", \"hovertemplate\": \"r=%{r}<br>theta=%{theta}<extra></extra>\", \"legendgroup\": \"\", \"line\": {\"color\": \"#636efa\", \"dash\": \"solid\"}, \"mode\": \"lines\", \"name\": \"\", \"r\": [-0.16650890705991375, 0.47185005436607136, 0.010520682386774382, 0.31136962752993314, -0.2462845738471428, -0.16650890705991375], \"showlegend\": false, \"subplot\": \"polar\", \"theta\": [\"Latitude\", \"CT\", \"Section\", \"Year Drilled\", \"SPACING_CAPPED\", \"Latitude\"], \"type\": \"scatterpolar\"}],\n",
       "                        {\"legend\": {\"tracegroupgap\": 0}, \"margin\": {\"t\": 60}, \"polar\": {\"angularaxis\": {\"direction\": \"clockwise\", \"rotation\": 90}, \"domain\": {\"x\": [0.0, 1.0], \"y\": [0.0, 1.0]}}, \"template\": {\"data\": {\"bar\": [{\"error_x\": {\"color\": \"#2a3f5f\"}, \"error_y\": {\"color\": \"#2a3f5f\"}, \"marker\": {\"line\": {\"color\": \"#E5ECF6\", \"width\": 0.5}}, \"type\": \"bar\"}], \"barpolar\": [{\"marker\": {\"line\": {\"color\": \"#E5ECF6\", \"width\": 0.5}}, \"type\": \"barpolar\"}], \"carpet\": [{\"aaxis\": {\"endlinecolor\": \"#2a3f5f\", \"gridcolor\": \"white\", \"linecolor\": \"white\", \"minorgridcolor\": \"white\", \"startlinecolor\": \"#2a3f5f\"}, \"baxis\": {\"endlinecolor\": \"#2a3f5f\", \"gridcolor\": \"white\", \"linecolor\": \"white\", \"minorgridcolor\": \"white\", \"startlinecolor\": \"#2a3f5f\"}, \"type\": \"carpet\"}], \"choropleth\": [{\"colorbar\": {\"outlinewidth\": 0, \"ticks\": \"\"}, \"type\": \"choropleth\"}], \"contour\": [{\"colorbar\": {\"outlinewidth\": 0, \"ticks\": \"\"}, \"colorscale\": [[0.0, \"#0d0887\"], [0.1111111111111111, \"#46039f\"], [0.2222222222222222, \"#7201a8\"], [0.3333333333333333, \"#9c179e\"], [0.4444444444444444, \"#bd3786\"], [0.5555555555555556, \"#d8576b\"], [0.6666666666666666, \"#ed7953\"], [0.7777777777777778, \"#fb9f3a\"], [0.8888888888888888, \"#fdca26\"], [1.0, \"#f0f921\"]], \"type\": \"contour\"}], \"contourcarpet\": [{\"colorbar\": {\"outlinewidth\": 0, \"ticks\": \"\"}, \"type\": \"contourcarpet\"}], \"heatmap\": [{\"colorbar\": {\"outlinewidth\": 0, \"ticks\": \"\"}, \"colorscale\": [[0.0, \"#0d0887\"], [0.1111111111111111, \"#46039f\"], [0.2222222222222222, \"#7201a8\"], [0.3333333333333333, \"#9c179e\"], [0.4444444444444444, \"#bd3786\"], [0.5555555555555556, \"#d8576b\"], [0.6666666666666666, \"#ed7953\"], [0.7777777777777778, \"#fb9f3a\"], [0.8888888888888888, \"#fdca26\"], [1.0, \"#f0f921\"]], \"type\": \"heatmap\"}], \"heatmapgl\": [{\"colorbar\": {\"outlinewidth\": 0, \"ticks\": \"\"}, \"colorscale\": [[0.0, \"#0d0887\"], [0.1111111111111111, \"#46039f\"], [0.2222222222222222, \"#7201a8\"], [0.3333333333333333, \"#9c179e\"], [0.4444444444444444, \"#bd3786\"], [0.5555555555555556, \"#d8576b\"], [0.6666666666666666, \"#ed7953\"], [0.7777777777777778, \"#fb9f3a\"], [0.8888888888888888, \"#fdca26\"], [1.0, \"#f0f921\"]], \"type\": \"heatmapgl\"}], \"histogram\": [{\"marker\": {\"colorbar\": {\"outlinewidth\": 0, \"ticks\": \"\"}}, \"type\": \"histogram\"}], \"histogram2d\": [{\"colorbar\": {\"outlinewidth\": 0, \"ticks\": \"\"}, \"colorscale\": [[0.0, \"#0d0887\"], [0.1111111111111111, \"#46039f\"], [0.2222222222222222, \"#7201a8\"], [0.3333333333333333, \"#9c179e\"], [0.4444444444444444, \"#bd3786\"], [0.5555555555555556, \"#d8576b\"], [0.6666666666666666, \"#ed7953\"], [0.7777777777777778, \"#fb9f3a\"], [0.8888888888888888, \"#fdca26\"], [1.0, \"#f0f921\"]], \"type\": \"histogram2d\"}], \"histogram2dcontour\": [{\"colorbar\": {\"outlinewidth\": 0, \"ticks\": \"\"}, \"colorscale\": [[0.0, \"#0d0887\"], [0.1111111111111111, \"#46039f\"], [0.2222222222222222, \"#7201a8\"], [0.3333333333333333, \"#9c179e\"], [0.4444444444444444, \"#bd3786\"], [0.5555555555555556, \"#d8576b\"], [0.6666666666666666, \"#ed7953\"], [0.7777777777777778, \"#fb9f3a\"], [0.8888888888888888, \"#fdca26\"], [1.0, \"#f0f921\"]], \"type\": \"histogram2dcontour\"}], \"mesh3d\": [{\"colorbar\": {\"outlinewidth\": 0, \"ticks\": \"\"}, \"type\": \"mesh3d\"}], \"parcoords\": [{\"line\": {\"colorbar\": {\"outlinewidth\": 0, \"ticks\": \"\"}}, \"type\": \"parcoords\"}], \"pie\": [{\"automargin\": true, \"type\": \"pie\"}], \"scatter\": [{\"marker\": {\"colorbar\": {\"outlinewidth\": 0, \"ticks\": \"\"}}, \"type\": \"scatter\"}], \"scatter3d\": [{\"line\": {\"colorbar\": {\"outlinewidth\": 0, \"ticks\": \"\"}}, \"marker\": {\"colorbar\": {\"outlinewidth\": 0, \"ticks\": \"\"}}, \"type\": \"scatter3d\"}], \"scattercarpet\": [{\"marker\": {\"colorbar\": {\"outlinewidth\": 0, \"ticks\": \"\"}}, \"type\": \"scattercarpet\"}], \"scattergeo\": [{\"marker\": {\"colorbar\": {\"outlinewidth\": 0, \"ticks\": \"\"}}, \"type\": \"scattergeo\"}], \"scattergl\": [{\"marker\": {\"colorbar\": {\"outlinewidth\": 0, \"ticks\": \"\"}}, \"type\": \"scattergl\"}], \"scattermapbox\": [{\"marker\": {\"colorbar\": {\"outlinewidth\": 0, \"ticks\": \"\"}}, \"type\": \"scattermapbox\"}], \"scatterpolar\": [{\"marker\": {\"colorbar\": {\"outlinewidth\": 0, \"ticks\": \"\"}}, \"type\": \"scatterpolar\"}], \"scatterpolargl\": [{\"marker\": {\"colorbar\": {\"outlinewidth\": 0, \"ticks\": \"\"}}, \"type\": \"scatterpolargl\"}], \"scatterternary\": [{\"marker\": {\"colorbar\": {\"outlinewidth\": 0, \"ticks\": \"\"}}, \"type\": \"scatterternary\"}], \"surface\": [{\"colorbar\": {\"outlinewidth\": 0, \"ticks\": \"\"}, \"colorscale\": [[0.0, \"#0d0887\"], [0.1111111111111111, \"#46039f\"], [0.2222222222222222, \"#7201a8\"], [0.3333333333333333, \"#9c179e\"], [0.4444444444444444, \"#bd3786\"], [0.5555555555555556, \"#d8576b\"], [0.6666666666666666, \"#ed7953\"], [0.7777777777777778, \"#fb9f3a\"], [0.8888888888888888, \"#fdca26\"], [1.0, \"#f0f921\"]], \"type\": \"surface\"}], \"table\": [{\"cells\": {\"fill\": {\"color\": \"#EBF0F8\"}, \"line\": {\"color\": \"white\"}}, \"header\": {\"fill\": {\"color\": \"#C8D4E3\"}, \"line\": {\"color\": \"white\"}}, \"type\": \"table\"}]}, \"layout\": {\"annotationdefaults\": {\"arrowcolor\": \"#2a3f5f\", \"arrowhead\": 0, \"arrowwidth\": 1}, \"coloraxis\": {\"colorbar\": {\"outlinewidth\": 0, \"ticks\": \"\"}}, \"colorscale\": {\"diverging\": [[0, \"#8e0152\"], [0.1, \"#c51b7d\"], [0.2, \"#de77ae\"], [0.3, \"#f1b6da\"], [0.4, \"#fde0ef\"], [0.5, \"#f7f7f7\"], [0.6, \"#e6f5d0\"], [0.7, \"#b8e186\"], [0.8, \"#7fbc41\"], [0.9, \"#4d9221\"], [1, \"#276419\"]], \"sequential\": [[0.0, \"#0d0887\"], [0.1111111111111111, \"#46039f\"], [0.2222222222222222, \"#7201a8\"], [0.3333333333333333, \"#9c179e\"], [0.4444444444444444, \"#bd3786\"], [0.5555555555555556, \"#d8576b\"], [0.6666666666666666, \"#ed7953\"], [0.7777777777777778, \"#fb9f3a\"], [0.8888888888888888, \"#fdca26\"], [1.0, \"#f0f921\"]], \"sequentialminus\": [[0.0, \"#0d0887\"], [0.1111111111111111, \"#46039f\"], [0.2222222222222222, \"#7201a8\"], [0.3333333333333333, \"#9c179e\"], [0.4444444444444444, \"#bd3786\"], [0.5555555555555556, \"#d8576b\"], [0.6666666666666666, \"#ed7953\"], [0.7777777777777778, \"#fb9f3a\"], [0.8888888888888888, \"#fdca26\"], [1.0, \"#f0f921\"]]}, \"colorway\": [\"#636efa\", \"#EF553B\", \"#00cc96\", \"#ab63fa\", \"#FFA15A\", \"#19d3f3\", \"#FF6692\", \"#B6E880\", \"#FF97FF\", \"#FECB52\"], \"font\": {\"color\": \"#2a3f5f\"}, \"geo\": {\"bgcolor\": \"white\", \"lakecolor\": \"white\", \"landcolor\": \"#E5ECF6\", \"showlakes\": true, \"showland\": true, \"subunitcolor\": \"white\"}, \"hoverlabel\": {\"align\": \"left\"}, \"hovermode\": \"closest\", \"mapbox\": {\"style\": \"light\"}, \"paper_bgcolor\": \"white\", \"plot_bgcolor\": \"#E5ECF6\", \"polar\": {\"angularaxis\": {\"gridcolor\": \"white\", \"linecolor\": \"white\", \"ticks\": \"\"}, \"bgcolor\": \"#E5ECF6\", \"radialaxis\": {\"gridcolor\": \"white\", \"linecolor\": \"white\", \"ticks\": \"\"}}, \"scene\": {\"xaxis\": {\"backgroundcolor\": \"#E5ECF6\", \"gridcolor\": \"white\", \"gridwidth\": 2, \"linecolor\": \"white\", \"showbackground\": true, \"ticks\": \"\", \"zerolinecolor\": \"white\"}, \"yaxis\": {\"backgroundcolor\": \"#E5ECF6\", \"gridcolor\": \"white\", \"gridwidth\": 2, \"linecolor\": \"white\", \"showbackground\": true, \"ticks\": \"\", \"zerolinecolor\": \"white\"}, \"zaxis\": {\"backgroundcolor\": \"#E5ECF6\", \"gridcolor\": \"white\", \"gridwidth\": 2, \"linecolor\": \"white\", \"showbackground\": true, \"ticks\": \"\", \"zerolinecolor\": \"white\"}}, \"shapedefaults\": {\"line\": {\"color\": \"#2a3f5f\"}}, \"ternary\": {\"aaxis\": {\"gridcolor\": \"white\", \"linecolor\": \"white\", \"ticks\": \"\"}, \"baxis\": {\"gridcolor\": \"white\", \"linecolor\": \"white\", \"ticks\": \"\"}, \"bgcolor\": \"#E5ECF6\", \"caxis\": {\"gridcolor\": \"white\", \"linecolor\": \"white\", \"ticks\": \"\"}}, \"title\": {\"x\": 0.05}, \"xaxis\": {\"automargin\": true, \"gridcolor\": \"white\", \"linecolor\": \"white\", \"ticks\": \"\", \"title\": {\"standoff\": 15}, \"zerolinecolor\": \"white\", \"zerolinewidth\": 2}, \"yaxis\": {\"automargin\": true, \"gridcolor\": \"white\", \"linecolor\": \"white\", \"ticks\": \"\", \"title\": {\"standoff\": 15}, \"zerolinecolor\": \"white\", \"zerolinewidth\": 2}}}},\n",
       "                        {\"responsive\": true}\n",
       "                    ).then(function(){\n",
       "                            \n",
       "var gd = document.getElementById('53c8e842-28e0-46df-9b87-a9b004545bc8');\n",
       "var x = new MutationObserver(function (mutations, observer) {{\n",
       "        var display = window.getComputedStyle(gd).display;\n",
       "        if (!display || display === 'none') {{\n",
       "            console.log([gd, 'removed!']);\n",
       "            Plotly.purge(gd);\n",
       "            observer.disconnect();\n",
       "        }}\n",
       "}});\n",
       "\n",
       "// Listen for the removal of the full notebook cells\n",
       "var notebookContainer = gd.closest('#notebook-container');\n",
       "if (notebookContainer) {{\n",
       "    x.observe(notebookContainer, {childList: true});\n",
       "}}\n",
       "\n",
       "// Listen for the clearing of the current output cell\n",
       "var outputEl = gd.closest('.output');\n",
       "if (outputEl) {{\n",
       "    x.observe(outputEl, {childList: true});\n",
       "}}\n",
       "\n",
       "                        })\n",
       "                };\n",
       "                });\n",
       "            </script>\n",
       "        </div>"
      ]
     },
     "metadata": {},
     "output_type": "display_data"
    }
   ],
   "source": [
    "#create dictionary for angle and radius values \n",
    "df = pd.DataFrame(dict(\n",
    "    r= radius_values,\n",
    "    theta= features))\n",
    "\n",
    "#create radar chart\n",
    "fig = px.line_polar(df, r='r', theta='theta', line_close=True)\n",
    "\n",
    "#fill in area\n",
    "fig.update_traces(fill='toself')\n",
    "\n",
    "#plot chart\n",
    "fig.show()"
   ]
  },
  {
   "cell_type": "markdown",
   "metadata": {},
   "source": [
    "Spearman's coefficient shows the same as the Pearson coefficient: Completion Type, Total Proppant, and Fluid. It also might be worth looking more into the number of stages and the year each well is drilled."
   ]
  },
  {
   "cell_type": "markdown",
   "metadata": {},
   "source": [
    "## Kendall Correlation"
   ]
  },
  {
   "cell_type": "code",
   "execution_count": 123,
   "metadata": {},
   "outputs": [
    {
     "data": {
      "text/html": [
       "<div>\n",
       "<style scoped>\n",
       "    .dataframe tbody tr th:only-of-type {\n",
       "        vertical-align: middle;\n",
       "    }\n",
       "\n",
       "    .dataframe tbody tr th {\n",
       "        vertical-align: top;\n",
       "    }\n",
       "\n",
       "    .dataframe thead th {\n",
       "        text-align: right;\n",
       "    }\n",
       "</style>\n",
       "<table border=\"1\" class=\"dataframe\">\n",
       "  <thead>\n",
       "    <tr style=\"text-align: right;\">\n",
       "      <th></th>\n",
       "      <th>Unnamed: 0</th>\n",
       "      <th>Lateral Length</th>\n",
       "      <th>Stages</th>\n",
       "      <th>Township</th>\n",
       "      <th>Range</th>\n",
       "      <th>Section</th>\n",
       "      <th>Total Prop, lbs</th>\n",
       "      <th>Fluid, bbls</th>\n",
       "      <th>Best1 Mo BOPD</th>\n",
       "      <th>Best3 Mo BOPD</th>\n",
       "      <th>...</th>\n",
       "      <th>Latitude</th>\n",
       "      <th>Longitude</th>\n",
       "      <th>SPACING_CAPPED</th>\n",
       "      <th>12 month Cum Prod</th>\n",
       "      <th>Sleeves</th>\n",
       "      <th>P&amp;P</th>\n",
       "      <th>Frac Ports</th>\n",
       "      <th>Repeater Ports</th>\n",
       "      <th>CT</th>\n",
       "      <th>Year Drilled</th>\n",
       "    </tr>\n",
       "  </thead>\n",
       "  <tbody>\n",
       "    <tr>\n",
       "      <td>Unnamed: 0</td>\n",
       "      <td>1.000000</td>\n",
       "      <td>0.052686</td>\n",
       "      <td>0.168437</td>\n",
       "      <td>0.358195</td>\n",
       "      <td>0.004109</td>\n",
       "      <td>-0.033591</td>\n",
       "      <td>0.167874</td>\n",
       "      <td>0.141531</td>\n",
       "      <td>0.084968</td>\n",
       "      <td>0.086246</td>\n",
       "      <td>...</td>\n",
       "      <td>0.352100</td>\n",
       "      <td>-0.028989</td>\n",
       "      <td>-0.090092</td>\n",
       "      <td>0.097114</td>\n",
       "      <td>0.151749</td>\n",
       "      <td>0.125591</td>\n",
       "      <td>-0.462069</td>\n",
       "      <td>0.527046</td>\n",
       "      <td>0.153112</td>\n",
       "      <td>0.160334</td>\n",
       "    </tr>\n",
       "    <tr>\n",
       "      <td>Lateral Length</td>\n",
       "      <td>0.052686</td>\n",
       "      <td>1.000000</td>\n",
       "      <td>0.309936</td>\n",
       "      <td>0.012854</td>\n",
       "      <td>0.125361</td>\n",
       "      <td>-0.020888</td>\n",
       "      <td>0.222342</td>\n",
       "      <td>0.207519</td>\n",
       "      <td>0.095635</td>\n",
       "      <td>0.096264</td>\n",
       "      <td>...</td>\n",
       "      <td>0.014574</td>\n",
       "      <td>-0.123547</td>\n",
       "      <td>-0.135229</td>\n",
       "      <td>0.120099</td>\n",
       "      <td>0.286365</td>\n",
       "      <td>0.303404</td>\n",
       "      <td>0.024845</td>\n",
       "      <td>0.737865</td>\n",
       "      <td>0.382780</td>\n",
       "      <td>0.226446</td>\n",
       "    </tr>\n",
       "    <tr>\n",
       "      <td>Stages</td>\n",
       "      <td>0.168437</td>\n",
       "      <td>0.309936</td>\n",
       "      <td>1.000000</td>\n",
       "      <td>0.037471</td>\n",
       "      <td>0.115880</td>\n",
       "      <td>0.020303</td>\n",
       "      <td>0.502807</td>\n",
       "      <td>0.471214</td>\n",
       "      <td>0.177771</td>\n",
       "      <td>0.172709</td>\n",
       "      <td>...</td>\n",
       "      <td>0.035094</td>\n",
       "      <td>-0.116569</td>\n",
       "      <td>-0.224938</td>\n",
       "      <td>0.242970</td>\n",
       "      <td>0.886579</td>\n",
       "      <td>0.876172</td>\n",
       "      <td>0.234765</td>\n",
       "      <td>0.125988</td>\n",
       "      <td>1.000000</td>\n",
       "      <td>0.522863</td>\n",
       "    </tr>\n",
       "    <tr>\n",
       "      <td>Township</td>\n",
       "      <td>0.358195</td>\n",
       "      <td>0.012854</td>\n",
       "      <td>0.037471</td>\n",
       "      <td>1.000000</td>\n",
       "      <td>-0.016345</td>\n",
       "      <td>0.017285</td>\n",
       "      <td>0.006452</td>\n",
       "      <td>-0.013354</td>\n",
       "      <td>-0.122942</td>\n",
       "      <td>-0.117739</td>\n",
       "      <td>...</td>\n",
       "      <td>0.967689</td>\n",
       "      <td>-0.081553</td>\n",
       "      <td>0.026258</td>\n",
       "      <td>-0.119089</td>\n",
       "      <td>0.074185</td>\n",
       "      <td>0.013643</td>\n",
       "      <td>-0.564815</td>\n",
       "      <td>0.527046</td>\n",
       "      <td>-0.156795</td>\n",
       "      <td>-0.028170</td>\n",
       "    </tr>\n",
       "    <tr>\n",
       "      <td>Range</td>\n",
       "      <td>0.004109</td>\n",
       "      <td>0.125361</td>\n",
       "      <td>0.115880</td>\n",
       "      <td>-0.016345</td>\n",
       "      <td>1.000000</td>\n",
       "      <td>-0.014719</td>\n",
       "      <td>0.094244</td>\n",
       "      <td>0.193712</td>\n",
       "      <td>-0.085576</td>\n",
       "      <td>-0.101709</td>\n",
       "      <td>...</td>\n",
       "      <td>-0.012843</td>\n",
       "      <td>-0.913127</td>\n",
       "      <td>-0.014247</td>\n",
       "      <td>-0.110660</td>\n",
       "      <td>0.094662</td>\n",
       "      <td>0.121660</td>\n",
       "      <td>0.344016</td>\n",
       "      <td>0.471405</td>\n",
       "      <td>0.198583</td>\n",
       "      <td>0.120057</td>\n",
       "    </tr>\n",
       "    <tr>\n",
       "      <td>Section</td>\n",
       "      <td>-0.033591</td>\n",
       "      <td>-0.020888</td>\n",
       "      <td>0.020303</td>\n",
       "      <td>0.017285</td>\n",
       "      <td>-0.014719</td>\n",
       "      <td>1.000000</td>\n",
       "      <td>0.017026</td>\n",
       "      <td>0.014576</td>\n",
       "      <td>0.012530</td>\n",
       "      <td>0.010970</td>\n",
       "      <td>...</td>\n",
       "      <td>-0.036827</td>\n",
       "      <td>0.011810</td>\n",
       "      <td>-0.012705</td>\n",
       "      <td>0.007134</td>\n",
       "      <td>0.028297</td>\n",
       "      <td>0.006999</td>\n",
       "      <td>0.250313</td>\n",
       "      <td>-0.316228</td>\n",
       "      <td>0.019913</td>\n",
       "      <td>0.023110</td>\n",
       "    </tr>\n",
       "    <tr>\n",
       "      <td>Total Prop, lbs</td>\n",
       "      <td>0.167874</td>\n",
       "      <td>0.222342</td>\n",
       "      <td>0.502807</td>\n",
       "      <td>0.006452</td>\n",
       "      <td>0.094244</td>\n",
       "      <td>0.017026</td>\n",
       "      <td>1.000000</td>\n",
       "      <td>0.671173</td>\n",
       "      <td>0.219196</td>\n",
       "      <td>0.227002</td>\n",
       "      <td>...</td>\n",
       "      <td>0.005248</td>\n",
       "      <td>-0.092848</td>\n",
       "      <td>-0.206224</td>\n",
       "      <td>0.307798</td>\n",
       "      <td>0.391270</td>\n",
       "      <td>0.469789</td>\n",
       "      <td>0.346552</td>\n",
       "      <td>0.316228</td>\n",
       "      <td>-0.114834</td>\n",
       "      <td>0.466560</td>\n",
       "    </tr>\n",
       "    <tr>\n",
       "      <td>Fluid, bbls</td>\n",
       "      <td>0.141531</td>\n",
       "      <td>0.207519</td>\n",
       "      <td>0.471214</td>\n",
       "      <td>-0.013354</td>\n",
       "      <td>0.193712</td>\n",
       "      <td>0.014576</td>\n",
       "      <td>0.671173</td>\n",
       "      <td>1.000000</td>\n",
       "      <td>0.193036</td>\n",
       "      <td>0.200793</td>\n",
       "      <td>...</td>\n",
       "      <td>-0.013505</td>\n",
       "      <td>-0.185686</td>\n",
       "      <td>-0.213262</td>\n",
       "      <td>0.281894</td>\n",
       "      <td>0.378290</td>\n",
       "      <td>0.471592</td>\n",
       "      <td>0.573886</td>\n",
       "      <td>-0.105409</td>\n",
       "      <td>-0.019139</td>\n",
       "      <td>0.498299</td>\n",
       "    </tr>\n",
       "    <tr>\n",
       "      <td>Best1 Mo BOPD</td>\n",
       "      <td>0.084968</td>\n",
       "      <td>0.095635</td>\n",
       "      <td>0.177771</td>\n",
       "      <td>-0.122942</td>\n",
       "      <td>-0.085576</td>\n",
       "      <td>0.012530</td>\n",
       "      <td>0.219196</td>\n",
       "      <td>0.193036</td>\n",
       "      <td>1.000000</td>\n",
       "      <td>0.857700</td>\n",
       "      <td>...</td>\n",
       "      <td>-0.121036</td>\n",
       "      <td>0.094545</td>\n",
       "      <td>-0.164380</td>\n",
       "      <td>0.726456</td>\n",
       "      <td>0.129416</td>\n",
       "      <td>0.133937</td>\n",
       "      <td>0.165025</td>\n",
       "      <td>-0.737865</td>\n",
       "      <td>0.382780</td>\n",
       "      <td>0.150646</td>\n",
       "    </tr>\n",
       "    <tr>\n",
       "      <td>Best3 Mo BOPD</td>\n",
       "      <td>0.086246</td>\n",
       "      <td>0.096264</td>\n",
       "      <td>0.172709</td>\n",
       "      <td>-0.117739</td>\n",
       "      <td>-0.101709</td>\n",
       "      <td>0.010970</td>\n",
       "      <td>0.227002</td>\n",
       "      <td>0.200793</td>\n",
       "      <td>0.857700</td>\n",
       "      <td>1.000000</td>\n",
       "      <td>...</td>\n",
       "      <td>-0.116019</td>\n",
       "      <td>0.109660</td>\n",
       "      <td>-0.167810</td>\n",
       "      <td>0.810152</td>\n",
       "      <td>0.112321</td>\n",
       "      <td>0.144026</td>\n",
       "      <td>0.165025</td>\n",
       "      <td>-0.527046</td>\n",
       "      <td>0.344502</td>\n",
       "      <td>0.150682</td>\n",
       "    </tr>\n",
       "    <tr>\n",
       "      <td>Best6 Mo BOPD</td>\n",
       "      <td>0.092149</td>\n",
       "      <td>0.093617</td>\n",
       "      <td>0.166510</td>\n",
       "      <td>-0.113522</td>\n",
       "      <td>-0.118404</td>\n",
       "      <td>0.009663</td>\n",
       "      <td>0.233923</td>\n",
       "      <td>0.209223</td>\n",
       "      <td>0.801267</td>\n",
       "      <td>0.913501</td>\n",
       "      <td>...</td>\n",
       "      <td>-0.111874</td>\n",
       "      <td>0.125862</td>\n",
       "      <td>-0.164915</td>\n",
       "      <td>0.878590</td>\n",
       "      <td>0.087285</td>\n",
       "      <td>0.157514</td>\n",
       "      <td>0.165025</td>\n",
       "      <td>-0.737865</td>\n",
       "      <td>0.419896</td>\n",
       "      <td>0.147175</td>\n",
       "    </tr>\n",
       "    <tr>\n",
       "      <td>Best9 Mo BOPD</td>\n",
       "      <td>0.101689</td>\n",
       "      <td>0.093220</td>\n",
       "      <td>0.162161</td>\n",
       "      <td>-0.106005</td>\n",
       "      <td>-0.124791</td>\n",
       "      <td>0.005765</td>\n",
       "      <td>0.232325</td>\n",
       "      <td>0.207627</td>\n",
       "      <td>0.778392</td>\n",
       "      <td>0.876908</td>\n",
       "      <td>...</td>\n",
       "      <td>-0.104293</td>\n",
       "      <td>0.132261</td>\n",
       "      <td>-0.160431</td>\n",
       "      <td>0.909820</td>\n",
       "      <td>0.076212</td>\n",
       "      <td>0.159222</td>\n",
       "      <td>0.148522</td>\n",
       "      <td>-0.948683</td>\n",
       "      <td>0.478921</td>\n",
       "      <td>0.132098</td>\n",
       "    </tr>\n",
       "    <tr>\n",
       "      <td>Best12 Mo BOPD</td>\n",
       "      <td>0.107112</td>\n",
       "      <td>0.094011</td>\n",
       "      <td>0.155649</td>\n",
       "      <td>-0.098384</td>\n",
       "      <td>-0.134474</td>\n",
       "      <td>0.003652</td>\n",
       "      <td>0.226341</td>\n",
       "      <td>0.200104</td>\n",
       "      <td>0.764052</td>\n",
       "      <td>0.855249</td>\n",
       "      <td>...</td>\n",
       "      <td>-0.097018</td>\n",
       "      <td>0.142048</td>\n",
       "      <td>-0.160620</td>\n",
       "      <td>0.915567</td>\n",
       "      <td>0.068162</td>\n",
       "      <td>0.153733</td>\n",
       "      <td>0.165025</td>\n",
       "      <td>-0.948683</td>\n",
       "      <td>0.487950</td>\n",
       "      <td>0.113670</td>\n",
       "    </tr>\n",
       "    <tr>\n",
       "      <td>Latitude</td>\n",
       "      <td>0.352100</td>\n",
       "      <td>0.014574</td>\n",
       "      <td>0.035094</td>\n",
       "      <td>0.967689</td>\n",
       "      <td>-0.012843</td>\n",
       "      <td>-0.036827</td>\n",
       "      <td>0.005248</td>\n",
       "      <td>-0.013505</td>\n",
       "      <td>-0.121036</td>\n",
       "      <td>-0.116019</td>\n",
       "      <td>...</td>\n",
       "      <td>1.000000</td>\n",
       "      <td>-0.081820</td>\n",
       "      <td>0.026733</td>\n",
       "      <td>-0.116349</td>\n",
       "      <td>0.069179</td>\n",
       "      <td>0.013844</td>\n",
       "      <td>-0.511576</td>\n",
       "      <td>0.527046</td>\n",
       "      <td>-0.191390</td>\n",
       "      <td>-0.028981</td>\n",
       "    </tr>\n",
       "    <tr>\n",
       "      <td>Longitude</td>\n",
       "      <td>-0.028989</td>\n",
       "      <td>-0.123547</td>\n",
       "      <td>-0.116569</td>\n",
       "      <td>-0.081553</td>\n",
       "      <td>-0.913127</td>\n",
       "      <td>0.011810</td>\n",
       "      <td>-0.092848</td>\n",
       "      <td>-0.185686</td>\n",
       "      <td>0.094545</td>\n",
       "      <td>0.109660</td>\n",
       "      <td>...</td>\n",
       "      <td>-0.081820</td>\n",
       "      <td>1.000000</td>\n",
       "      <td>0.020394</td>\n",
       "      <td>0.118575</td>\n",
       "      <td>-0.111529</td>\n",
       "      <td>-0.112914</td>\n",
       "      <td>-0.363054</td>\n",
       "      <td>-0.316228</td>\n",
       "      <td>-0.191390</td>\n",
       "      <td>-0.116980</td>\n",
       "    </tr>\n",
       "    <tr>\n",
       "      <td>SPACING_CAPPED</td>\n",
       "      <td>-0.090092</td>\n",
       "      <td>-0.135229</td>\n",
       "      <td>-0.224938</td>\n",
       "      <td>0.026258</td>\n",
       "      <td>-0.014247</td>\n",
       "      <td>-0.012705</td>\n",
       "      <td>-0.206224</td>\n",
       "      <td>-0.213262</td>\n",
       "      <td>-0.164380</td>\n",
       "      <td>-0.167810</td>\n",
       "      <td>...</td>\n",
       "      <td>0.026733</td>\n",
       "      <td>0.020394</td>\n",
       "      <td>1.000000</td>\n",
       "      <td>-0.180903</td>\n",
       "      <td>-0.266683</td>\n",
       "      <td>-0.141725</td>\n",
       "      <td>NaN</td>\n",
       "      <td>NaN</td>\n",
       "      <td>-0.156447</td>\n",
       "      <td>-0.329532</td>\n",
       "    </tr>\n",
       "    <tr>\n",
       "      <td>12 month Cum Prod</td>\n",
       "      <td>0.097114</td>\n",
       "      <td>0.120099</td>\n",
       "      <td>0.242970</td>\n",
       "      <td>-0.119089</td>\n",
       "      <td>-0.110660</td>\n",
       "      <td>0.007134</td>\n",
       "      <td>0.307798</td>\n",
       "      <td>0.281894</td>\n",
       "      <td>0.726456</td>\n",
       "      <td>0.810152</td>\n",
       "      <td>...</td>\n",
       "      <td>-0.116349</td>\n",
       "      <td>0.118575</td>\n",
       "      <td>-0.180903</td>\n",
       "      <td>1.000000</td>\n",
       "      <td>0.134486</td>\n",
       "      <td>0.235428</td>\n",
       "      <td>0.165025</td>\n",
       "      <td>-0.948683</td>\n",
       "      <td>0.382780</td>\n",
       "      <td>0.228674</td>\n",
       "    </tr>\n",
       "    <tr>\n",
       "      <td>Sleeves</td>\n",
       "      <td>0.151749</td>\n",
       "      <td>0.286365</td>\n",
       "      <td>0.886579</td>\n",
       "      <td>0.074185</td>\n",
       "      <td>0.094662</td>\n",
       "      <td>0.028297</td>\n",
       "      <td>0.391270</td>\n",
       "      <td>0.378290</td>\n",
       "      <td>0.129416</td>\n",
       "      <td>0.112321</td>\n",
       "      <td>...</td>\n",
       "      <td>0.069179</td>\n",
       "      <td>-0.111529</td>\n",
       "      <td>-0.266683</td>\n",
       "      <td>0.134486</td>\n",
       "      <td>1.000000</td>\n",
       "      <td>-0.164216</td>\n",
       "      <td>NaN</td>\n",
       "      <td>NaN</td>\n",
       "      <td>NaN</td>\n",
       "      <td>0.514403</td>\n",
       "    </tr>\n",
       "    <tr>\n",
       "      <td>P&amp;P</td>\n",
       "      <td>0.125591</td>\n",
       "      <td>0.303404</td>\n",
       "      <td>0.876172</td>\n",
       "      <td>0.013643</td>\n",
       "      <td>0.121660</td>\n",
       "      <td>0.006999</td>\n",
       "      <td>0.469789</td>\n",
       "      <td>0.471592</td>\n",
       "      <td>0.133937</td>\n",
       "      <td>0.144026</td>\n",
       "      <td>...</td>\n",
       "      <td>0.013844</td>\n",
       "      <td>-0.112914</td>\n",
       "      <td>-0.141725</td>\n",
       "      <td>0.235428</td>\n",
       "      <td>-0.164216</td>\n",
       "      <td>1.000000</td>\n",
       "      <td>-0.791155</td>\n",
       "      <td>NaN</td>\n",
       "      <td>NaN</td>\n",
       "      <td>0.389432</td>\n",
       "    </tr>\n",
       "    <tr>\n",
       "      <td>Frac Ports</td>\n",
       "      <td>-0.462069</td>\n",
       "      <td>0.024845</td>\n",
       "      <td>0.234765</td>\n",
       "      <td>-0.564815</td>\n",
       "      <td>0.344016</td>\n",
       "      <td>0.250313</td>\n",
       "      <td>0.346552</td>\n",
       "      <td>0.573886</td>\n",
       "      <td>0.165025</td>\n",
       "      <td>0.165025</td>\n",
       "      <td>...</td>\n",
       "      <td>-0.511576</td>\n",
       "      <td>-0.363054</td>\n",
       "      <td>NaN</td>\n",
       "      <td>0.165025</td>\n",
       "      <td>NaN</td>\n",
       "      <td>-0.791155</td>\n",
       "      <td>1.000000</td>\n",
       "      <td>-0.816497</td>\n",
       "      <td>NaN</td>\n",
       "      <td>0.414644</td>\n",
       "    </tr>\n",
       "    <tr>\n",
       "      <td>Repeater Ports</td>\n",
       "      <td>0.527046</td>\n",
       "      <td>0.737865</td>\n",
       "      <td>0.125988</td>\n",
       "      <td>0.527046</td>\n",
       "      <td>0.471405</td>\n",
       "      <td>-0.316228</td>\n",
       "      <td>0.316228</td>\n",
       "      <td>-0.105409</td>\n",
       "      <td>-0.737865</td>\n",
       "      <td>-0.527046</td>\n",
       "      <td>...</td>\n",
       "      <td>0.527046</td>\n",
       "      <td>-0.316228</td>\n",
       "      <td>NaN</td>\n",
       "      <td>-0.948683</td>\n",
       "      <td>NaN</td>\n",
       "      <td>NaN</td>\n",
       "      <td>-0.816497</td>\n",
       "      <td>1.000000</td>\n",
       "      <td>NaN</td>\n",
       "      <td>-0.333333</td>\n",
       "    </tr>\n",
       "    <tr>\n",
       "      <td>CT</td>\n",
       "      <td>0.153112</td>\n",
       "      <td>0.382780</td>\n",
       "      <td>1.000000</td>\n",
       "      <td>-0.156795</td>\n",
       "      <td>0.198583</td>\n",
       "      <td>0.019913</td>\n",
       "      <td>-0.114834</td>\n",
       "      <td>-0.019139</td>\n",
       "      <td>0.382780</td>\n",
       "      <td>0.344502</td>\n",
       "      <td>...</td>\n",
       "      <td>-0.191390</td>\n",
       "      <td>-0.191390</td>\n",
       "      <td>-0.156447</td>\n",
       "      <td>0.382780</td>\n",
       "      <td>NaN</td>\n",
       "      <td>NaN</td>\n",
       "      <td>NaN</td>\n",
       "      <td>NaN</td>\n",
       "      <td>1.000000</td>\n",
       "      <td>0.254514</td>\n",
       "    </tr>\n",
       "    <tr>\n",
       "      <td>Year Drilled</td>\n",
       "      <td>0.160334</td>\n",
       "      <td>0.226446</td>\n",
       "      <td>0.522863</td>\n",
       "      <td>-0.028170</td>\n",
       "      <td>0.120057</td>\n",
       "      <td>0.023110</td>\n",
       "      <td>0.466560</td>\n",
       "      <td>0.498299</td>\n",
       "      <td>0.150646</td>\n",
       "      <td>0.150682</td>\n",
       "      <td>...</td>\n",
       "      <td>-0.028981</td>\n",
       "      <td>-0.116980</td>\n",
       "      <td>-0.329532</td>\n",
       "      <td>0.228674</td>\n",
       "      <td>0.514403</td>\n",
       "      <td>0.389432</td>\n",
       "      <td>0.414644</td>\n",
       "      <td>-0.333333</td>\n",
       "      <td>0.254514</td>\n",
       "      <td>1.000000</td>\n",
       "    </tr>\n",
       "  </tbody>\n",
       "</table>\n",
       "<p>23 rows × 23 columns</p>\n",
       "</div>"
      ],
      "text/plain": [
       "                   Unnamed: 0  Lateral Length    Stages  Township      Range  \\\n",
       "Unnamed: 0           1.000000        0.052686  0.168437   0.358195  0.004109   \n",
       "Lateral Length       0.052686        1.000000  0.309936   0.012854  0.125361   \n",
       "Stages               0.168437        0.309936  1.000000   0.037471  0.115880   \n",
       "Township             0.358195        0.012854  0.037471   1.000000 -0.016345   \n",
       "Range                0.004109        0.125361  0.115880  -0.016345  1.000000   \n",
       "Section             -0.033591       -0.020888  0.020303   0.017285 -0.014719   \n",
       "Total Prop, lbs      0.167874        0.222342  0.502807   0.006452  0.094244   \n",
       "Fluid, bbls          0.141531        0.207519  0.471214  -0.013354  0.193712   \n",
       "Best1 Mo BOPD        0.084968        0.095635  0.177771  -0.122942 -0.085576   \n",
       "Best3 Mo BOPD        0.086246        0.096264  0.172709  -0.117739 -0.101709   \n",
       "Best6 Mo BOPD        0.092149        0.093617  0.166510  -0.113522 -0.118404   \n",
       "Best9 Mo BOPD        0.101689        0.093220  0.162161  -0.106005 -0.124791   \n",
       "Best12 Mo BOPD       0.107112        0.094011  0.155649  -0.098384 -0.134474   \n",
       "Latitude             0.352100        0.014574  0.035094   0.967689 -0.012843   \n",
       "Longitude           -0.028989       -0.123547 -0.116569  -0.081553 -0.913127   \n",
       "SPACING_CAPPED      -0.090092       -0.135229 -0.224938   0.026258 -0.014247   \n",
       "12 month Cum Prod    0.097114        0.120099  0.242970  -0.119089 -0.110660   \n",
       "Sleeves              0.151749        0.286365  0.886579   0.074185  0.094662   \n",
       "P&P                  0.125591        0.303404  0.876172   0.013643  0.121660   \n",
       "Frac Ports          -0.462069        0.024845  0.234765  -0.564815  0.344016   \n",
       "Repeater Ports       0.527046        0.737865  0.125988   0.527046  0.471405   \n",
       "CT                   0.153112        0.382780  1.000000  -0.156795  0.198583   \n",
       "Year Drilled         0.160334        0.226446  0.522863  -0.028170  0.120057   \n",
       "\n",
       "                    Section  Total Prop, lbs  Fluid, bbls  Best1 Mo BOPD  \\\n",
       "Unnamed: 0        -0.033591         0.167874     0.141531       0.084968   \n",
       "Lateral Length    -0.020888         0.222342     0.207519       0.095635   \n",
       "Stages             0.020303         0.502807     0.471214       0.177771   \n",
       "Township           0.017285         0.006452    -0.013354      -0.122942   \n",
       "Range             -0.014719         0.094244     0.193712      -0.085576   \n",
       "Section            1.000000         0.017026     0.014576       0.012530   \n",
       "Total Prop, lbs    0.017026         1.000000     0.671173       0.219196   \n",
       "Fluid, bbls        0.014576         0.671173     1.000000       0.193036   \n",
       "Best1 Mo BOPD      0.012530         0.219196     0.193036       1.000000   \n",
       "Best3 Mo BOPD      0.010970         0.227002     0.200793       0.857700   \n",
       "Best6 Mo BOPD      0.009663         0.233923     0.209223       0.801267   \n",
       "Best9 Mo BOPD      0.005765         0.232325     0.207627       0.778392   \n",
       "Best12 Mo BOPD     0.003652         0.226341     0.200104       0.764052   \n",
       "Latitude          -0.036827         0.005248    -0.013505      -0.121036   \n",
       "Longitude          0.011810        -0.092848    -0.185686       0.094545   \n",
       "SPACING_CAPPED    -0.012705        -0.206224    -0.213262      -0.164380   \n",
       "12 month Cum Prod  0.007134         0.307798     0.281894       0.726456   \n",
       "Sleeves            0.028297         0.391270     0.378290       0.129416   \n",
       "P&P                0.006999         0.469789     0.471592       0.133937   \n",
       "Frac Ports         0.250313         0.346552     0.573886       0.165025   \n",
       "Repeater Ports    -0.316228         0.316228    -0.105409      -0.737865   \n",
       "CT                 0.019913        -0.114834    -0.019139       0.382780   \n",
       "Year Drilled       0.023110         0.466560     0.498299       0.150646   \n",
       "\n",
       "                   Best3 Mo BOPD  ...  Latitude  Longitude  SPACING_CAPPED  \\\n",
       "Unnamed: 0              0.086246  ...  0.352100  -0.028989       -0.090092   \n",
       "Lateral Length          0.096264  ...  0.014574  -0.123547       -0.135229   \n",
       "Stages                  0.172709  ...  0.035094  -0.116569       -0.224938   \n",
       "Township               -0.117739  ...  0.967689  -0.081553        0.026258   \n",
       "Range                  -0.101709  ... -0.012843  -0.913127       -0.014247   \n",
       "Section                 0.010970  ... -0.036827   0.011810       -0.012705   \n",
       "Total Prop, lbs         0.227002  ...  0.005248  -0.092848       -0.206224   \n",
       "Fluid, bbls             0.200793  ... -0.013505  -0.185686       -0.213262   \n",
       "Best1 Mo BOPD           0.857700  ... -0.121036   0.094545       -0.164380   \n",
       "Best3 Mo BOPD           1.000000  ... -0.116019   0.109660       -0.167810   \n",
       "Best6 Mo BOPD           0.913501  ... -0.111874   0.125862       -0.164915   \n",
       "Best9 Mo BOPD           0.876908  ... -0.104293   0.132261       -0.160431   \n",
       "Best12 Mo BOPD          0.855249  ... -0.097018   0.142048       -0.160620   \n",
       "Latitude               -0.116019  ...  1.000000  -0.081820        0.026733   \n",
       "Longitude               0.109660  ... -0.081820   1.000000        0.020394   \n",
       "SPACING_CAPPED         -0.167810  ...  0.026733   0.020394        1.000000   \n",
       "12 month Cum Prod       0.810152  ... -0.116349   0.118575       -0.180903   \n",
       "Sleeves                 0.112321  ...  0.069179  -0.111529       -0.266683   \n",
       "P&P                     0.144026  ...  0.013844  -0.112914       -0.141725   \n",
       "Frac Ports              0.165025  ... -0.511576  -0.363054             NaN   \n",
       "Repeater Ports         -0.527046  ...  0.527046  -0.316228             NaN   \n",
       "CT                      0.344502  ... -0.191390  -0.191390       -0.156447   \n",
       "Year Drilled            0.150682  ... -0.028981  -0.116980       -0.329532   \n",
       "\n",
       "                   12 month Cum Prod   Sleeves       P&P  Frac Ports  \\\n",
       "Unnamed: 0                  0.097114  0.151749  0.125591   -0.462069   \n",
       "Lateral Length              0.120099  0.286365  0.303404    0.024845   \n",
       "Stages                      0.242970  0.886579  0.876172    0.234765   \n",
       "Township                   -0.119089  0.074185  0.013643   -0.564815   \n",
       "Range                      -0.110660  0.094662  0.121660    0.344016   \n",
       "Section                     0.007134  0.028297  0.006999    0.250313   \n",
       "Total Prop, lbs             0.307798  0.391270  0.469789    0.346552   \n",
       "Fluid, bbls                 0.281894  0.378290  0.471592    0.573886   \n",
       "Best1 Mo BOPD               0.726456  0.129416  0.133937    0.165025   \n",
       "Best3 Mo BOPD               0.810152  0.112321  0.144026    0.165025   \n",
       "Best6 Mo BOPD               0.878590  0.087285  0.157514    0.165025   \n",
       "Best9 Mo BOPD               0.909820  0.076212  0.159222    0.148522   \n",
       "Best12 Mo BOPD              0.915567  0.068162  0.153733    0.165025   \n",
       "Latitude                   -0.116349  0.069179  0.013844   -0.511576   \n",
       "Longitude                   0.118575 -0.111529 -0.112914   -0.363054   \n",
       "SPACING_CAPPED             -0.180903 -0.266683 -0.141725         NaN   \n",
       "12 month Cum Prod           1.000000  0.134486  0.235428    0.165025   \n",
       "Sleeves                     0.134486  1.000000 -0.164216         NaN   \n",
       "P&P                         0.235428 -0.164216  1.000000   -0.791155   \n",
       "Frac Ports                  0.165025       NaN -0.791155    1.000000   \n",
       "Repeater Ports             -0.948683       NaN       NaN   -0.816497   \n",
       "CT                          0.382780       NaN       NaN         NaN   \n",
       "Year Drilled                0.228674  0.514403  0.389432    0.414644   \n",
       "\n",
       "                   Repeater Ports        CT  Year Drilled  \n",
       "Unnamed: 0               0.527046  0.153112      0.160334  \n",
       "Lateral Length           0.737865  0.382780      0.226446  \n",
       "Stages                   0.125988  1.000000      0.522863  \n",
       "Township                 0.527046 -0.156795     -0.028170  \n",
       "Range                    0.471405  0.198583      0.120057  \n",
       "Section                 -0.316228  0.019913      0.023110  \n",
       "Total Prop, lbs          0.316228 -0.114834      0.466560  \n",
       "Fluid, bbls             -0.105409 -0.019139      0.498299  \n",
       "Best1 Mo BOPD           -0.737865  0.382780      0.150646  \n",
       "Best3 Mo BOPD           -0.527046  0.344502      0.150682  \n",
       "Best6 Mo BOPD           -0.737865  0.419896      0.147175  \n",
       "Best9 Mo BOPD           -0.948683  0.478921      0.132098  \n",
       "Best12 Mo BOPD          -0.948683  0.487950      0.113670  \n",
       "Latitude                 0.527046 -0.191390     -0.028981  \n",
       "Longitude               -0.316228 -0.191390     -0.116980  \n",
       "SPACING_CAPPED                NaN -0.156447     -0.329532  \n",
       "12 month Cum Prod       -0.948683  0.382780      0.228674  \n",
       "Sleeves                       NaN       NaN      0.514403  \n",
       "P&P                           NaN       NaN      0.389432  \n",
       "Frac Ports              -0.816497       NaN      0.414644  \n",
       "Repeater Ports           1.000000       NaN     -0.333333  \n",
       "CT                            NaN  1.000000      0.254514  \n",
       "Year Drilled            -0.333333  0.254514      1.000000  \n",
       "\n",
       "[23 rows x 23 columns]"
      ]
     },
     "execution_count": 123,
     "metadata": {},
     "output_type": "execute_result"
    }
   ],
   "source": [
    "#finding Pearson's correlation coefficient for each feature\n",
    "kendall_correlation = DatabaseDF.corr(method = 'kendall')\n",
    "kendall_correlation"
   ]
  },
  {
   "cell_type": "code",
   "execution_count": 124,
   "metadata": {},
   "outputs": [
    {
     "data": {
      "text/plain": [
       "Unnamed: 0           0.097114\n",
       "Lateral Length       0.120099\n",
       "Stages               0.242970\n",
       "Township            -0.119089\n",
       "Range               -0.110660\n",
       "Section              0.007134\n",
       "Total Prop, lbs      0.307798\n",
       "Fluid, bbls          0.281894\n",
       "Best1 Mo BOPD        0.726456\n",
       "Best3 Mo BOPD        0.810152\n",
       "Best6 Mo BOPD        0.878590\n",
       "Best9 Mo BOPD        0.909820\n",
       "Best12 Mo BOPD       0.915567\n",
       "Latitude            -0.116349\n",
       "Longitude            0.118575\n",
       "SPACING_CAPPED      -0.180903\n",
       "12 month Cum Prod    1.000000\n",
       "Sleeves              0.134486\n",
       "P&P                  0.235428\n",
       "Frac Ports           0.165025\n",
       "Repeater Ports      -0.948683\n",
       "CT                   0.382780\n",
       "Year Drilled         0.228674\n",
       "Name: 12 month Cum Prod, dtype: float64"
      ]
     },
     "execution_count": 124,
     "metadata": {},
     "output_type": "execute_result"
    }
   ],
   "source": [
    "#Printing the correlation to Cumulative Production specifically\n",
    "kendall_correlation['12 month Cum Prod']"
   ]
  },
  {
   "cell_type": "markdown",
   "metadata": {},
   "source": [
    "### First set of variables"
   ]
  },
  {
   "cell_type": "code",
   "execution_count": 125,
   "metadata": {},
   "outputs": [],
   "source": [
    "#Features that are being compared\n",
    "features = ['Lateral Length', 'Stages', 'Fluid, bbls', 'Total Prop, lbs', 'Longitude']\n",
    "#Radius values for each variable\n",
    "radius_values = []\n",
    "for i in features:\n",
    "        radius_values.append(kendall_correlation.at[i, '12 month Cum Prod'])"
   ]
  },
  {
   "cell_type": "code",
   "execution_count": 126,
   "metadata": {},
   "outputs": [
    {
     "data": {
      "application/vnd.plotly.v1+json": {
       "config": {
        "plotlyServerURL": "https://plot.ly"
       },
       "data": [
        {
         "fill": "toself",
         "hovertemplate": "r=%{r}<br>theta=%{theta}<extra></extra>",
         "legendgroup": "",
         "line": {
          "color": "#636efa",
          "dash": "solid"
         },
         "mode": "lines",
         "name": "",
         "r": [
          0.12009911598654714,
          0.24296991246052596,
          0.28189351866605994,
          0.3077980336249716,
          0.11857450351303943,
          0.12009911598654714
         ],
         "showlegend": false,
         "subplot": "polar",
         "theta": [
          "Lateral Length",
          "Stages",
          "Fluid, bbls",
          "Total Prop, lbs",
          "Longitude",
          "Lateral Length"
         ],
         "type": "scatterpolar"
        }
       ],
       "layout": {
        "legend": {
         "tracegroupgap": 0
        },
        "margin": {
         "t": 60
        },
        "polar": {
         "angularaxis": {
          "direction": "clockwise",
          "rotation": 90
         },
         "domain": {
          "x": [
           0,
           1
          ],
          "y": [
           0,
           1
          ]
         }
        },
        "template": {
         "data": {
          "bar": [
           {
            "error_x": {
             "color": "#2a3f5f"
            },
            "error_y": {
             "color": "#2a3f5f"
            },
            "marker": {
             "line": {
              "color": "#E5ECF6",
              "width": 0.5
             }
            },
            "type": "bar"
           }
          ],
          "barpolar": [
           {
            "marker": {
             "line": {
              "color": "#E5ECF6",
              "width": 0.5
             }
            },
            "type": "barpolar"
           }
          ],
          "carpet": [
           {
            "aaxis": {
             "endlinecolor": "#2a3f5f",
             "gridcolor": "white",
             "linecolor": "white",
             "minorgridcolor": "white",
             "startlinecolor": "#2a3f5f"
            },
            "baxis": {
             "endlinecolor": "#2a3f5f",
             "gridcolor": "white",
             "linecolor": "white",
             "minorgridcolor": "white",
             "startlinecolor": "#2a3f5f"
            },
            "type": "carpet"
           }
          ],
          "choropleth": [
           {
            "colorbar": {
             "outlinewidth": 0,
             "ticks": ""
            },
            "type": "choropleth"
           }
          ],
          "contour": [
           {
            "colorbar": {
             "outlinewidth": 0,
             "ticks": ""
            },
            "colorscale": [
             [
              0,
              "#0d0887"
             ],
             [
              0.1111111111111111,
              "#46039f"
             ],
             [
              0.2222222222222222,
              "#7201a8"
             ],
             [
              0.3333333333333333,
              "#9c179e"
             ],
             [
              0.4444444444444444,
              "#bd3786"
             ],
             [
              0.5555555555555556,
              "#d8576b"
             ],
             [
              0.6666666666666666,
              "#ed7953"
             ],
             [
              0.7777777777777778,
              "#fb9f3a"
             ],
             [
              0.8888888888888888,
              "#fdca26"
             ],
             [
              1,
              "#f0f921"
             ]
            ],
            "type": "contour"
           }
          ],
          "contourcarpet": [
           {
            "colorbar": {
             "outlinewidth": 0,
             "ticks": ""
            },
            "type": "contourcarpet"
           }
          ],
          "heatmap": [
           {
            "colorbar": {
             "outlinewidth": 0,
             "ticks": ""
            },
            "colorscale": [
             [
              0,
              "#0d0887"
             ],
             [
              0.1111111111111111,
              "#46039f"
             ],
             [
              0.2222222222222222,
              "#7201a8"
             ],
             [
              0.3333333333333333,
              "#9c179e"
             ],
             [
              0.4444444444444444,
              "#bd3786"
             ],
             [
              0.5555555555555556,
              "#d8576b"
             ],
             [
              0.6666666666666666,
              "#ed7953"
             ],
             [
              0.7777777777777778,
              "#fb9f3a"
             ],
             [
              0.8888888888888888,
              "#fdca26"
             ],
             [
              1,
              "#f0f921"
             ]
            ],
            "type": "heatmap"
           }
          ],
          "heatmapgl": [
           {
            "colorbar": {
             "outlinewidth": 0,
             "ticks": ""
            },
            "colorscale": [
             [
              0,
              "#0d0887"
             ],
             [
              0.1111111111111111,
              "#46039f"
             ],
             [
              0.2222222222222222,
              "#7201a8"
             ],
             [
              0.3333333333333333,
              "#9c179e"
             ],
             [
              0.4444444444444444,
              "#bd3786"
             ],
             [
              0.5555555555555556,
              "#d8576b"
             ],
             [
              0.6666666666666666,
              "#ed7953"
             ],
             [
              0.7777777777777778,
              "#fb9f3a"
             ],
             [
              0.8888888888888888,
              "#fdca26"
             ],
             [
              1,
              "#f0f921"
             ]
            ],
            "type": "heatmapgl"
           }
          ],
          "histogram": [
           {
            "marker": {
             "colorbar": {
              "outlinewidth": 0,
              "ticks": ""
             }
            },
            "type": "histogram"
           }
          ],
          "histogram2d": [
           {
            "colorbar": {
             "outlinewidth": 0,
             "ticks": ""
            },
            "colorscale": [
             [
              0,
              "#0d0887"
             ],
             [
              0.1111111111111111,
              "#46039f"
             ],
             [
              0.2222222222222222,
              "#7201a8"
             ],
             [
              0.3333333333333333,
              "#9c179e"
             ],
             [
              0.4444444444444444,
              "#bd3786"
             ],
             [
              0.5555555555555556,
              "#d8576b"
             ],
             [
              0.6666666666666666,
              "#ed7953"
             ],
             [
              0.7777777777777778,
              "#fb9f3a"
             ],
             [
              0.8888888888888888,
              "#fdca26"
             ],
             [
              1,
              "#f0f921"
             ]
            ],
            "type": "histogram2d"
           }
          ],
          "histogram2dcontour": [
           {
            "colorbar": {
             "outlinewidth": 0,
             "ticks": ""
            },
            "colorscale": [
             [
              0,
              "#0d0887"
             ],
             [
              0.1111111111111111,
              "#46039f"
             ],
             [
              0.2222222222222222,
              "#7201a8"
             ],
             [
              0.3333333333333333,
              "#9c179e"
             ],
             [
              0.4444444444444444,
              "#bd3786"
             ],
             [
              0.5555555555555556,
              "#d8576b"
             ],
             [
              0.6666666666666666,
              "#ed7953"
             ],
             [
              0.7777777777777778,
              "#fb9f3a"
             ],
             [
              0.8888888888888888,
              "#fdca26"
             ],
             [
              1,
              "#f0f921"
             ]
            ],
            "type": "histogram2dcontour"
           }
          ],
          "mesh3d": [
           {
            "colorbar": {
             "outlinewidth": 0,
             "ticks": ""
            },
            "type": "mesh3d"
           }
          ],
          "parcoords": [
           {
            "line": {
             "colorbar": {
              "outlinewidth": 0,
              "ticks": ""
             }
            },
            "type": "parcoords"
           }
          ],
          "pie": [
           {
            "automargin": true,
            "type": "pie"
           }
          ],
          "scatter": [
           {
            "marker": {
             "colorbar": {
              "outlinewidth": 0,
              "ticks": ""
             }
            },
            "type": "scatter"
           }
          ],
          "scatter3d": [
           {
            "line": {
             "colorbar": {
              "outlinewidth": 0,
              "ticks": ""
             }
            },
            "marker": {
             "colorbar": {
              "outlinewidth": 0,
              "ticks": ""
             }
            },
            "type": "scatter3d"
           }
          ],
          "scattercarpet": [
           {
            "marker": {
             "colorbar": {
              "outlinewidth": 0,
              "ticks": ""
             }
            },
            "type": "scattercarpet"
           }
          ],
          "scattergeo": [
           {
            "marker": {
             "colorbar": {
              "outlinewidth": 0,
              "ticks": ""
             }
            },
            "type": "scattergeo"
           }
          ],
          "scattergl": [
           {
            "marker": {
             "colorbar": {
              "outlinewidth": 0,
              "ticks": ""
             }
            },
            "type": "scattergl"
           }
          ],
          "scattermapbox": [
           {
            "marker": {
             "colorbar": {
              "outlinewidth": 0,
              "ticks": ""
             }
            },
            "type": "scattermapbox"
           }
          ],
          "scatterpolar": [
           {
            "marker": {
             "colorbar": {
              "outlinewidth": 0,
              "ticks": ""
             }
            },
            "type": "scatterpolar"
           }
          ],
          "scatterpolargl": [
           {
            "marker": {
             "colorbar": {
              "outlinewidth": 0,
              "ticks": ""
             }
            },
            "type": "scatterpolargl"
           }
          ],
          "scatterternary": [
           {
            "marker": {
             "colorbar": {
              "outlinewidth": 0,
              "ticks": ""
             }
            },
            "type": "scatterternary"
           }
          ],
          "surface": [
           {
            "colorbar": {
             "outlinewidth": 0,
             "ticks": ""
            },
            "colorscale": [
             [
              0,
              "#0d0887"
             ],
             [
              0.1111111111111111,
              "#46039f"
             ],
             [
              0.2222222222222222,
              "#7201a8"
             ],
             [
              0.3333333333333333,
              "#9c179e"
             ],
             [
              0.4444444444444444,
              "#bd3786"
             ],
             [
              0.5555555555555556,
              "#d8576b"
             ],
             [
              0.6666666666666666,
              "#ed7953"
             ],
             [
              0.7777777777777778,
              "#fb9f3a"
             ],
             [
              0.8888888888888888,
              "#fdca26"
             ],
             [
              1,
              "#f0f921"
             ]
            ],
            "type": "surface"
           }
          ],
          "table": [
           {
            "cells": {
             "fill": {
              "color": "#EBF0F8"
             },
             "line": {
              "color": "white"
             }
            },
            "header": {
             "fill": {
              "color": "#C8D4E3"
             },
             "line": {
              "color": "white"
             }
            },
            "type": "table"
           }
          ]
         },
         "layout": {
          "annotationdefaults": {
           "arrowcolor": "#2a3f5f",
           "arrowhead": 0,
           "arrowwidth": 1
          },
          "coloraxis": {
           "colorbar": {
            "outlinewidth": 0,
            "ticks": ""
           }
          },
          "colorscale": {
           "diverging": [
            [
             0,
             "#8e0152"
            ],
            [
             0.1,
             "#c51b7d"
            ],
            [
             0.2,
             "#de77ae"
            ],
            [
             0.3,
             "#f1b6da"
            ],
            [
             0.4,
             "#fde0ef"
            ],
            [
             0.5,
             "#f7f7f7"
            ],
            [
             0.6,
             "#e6f5d0"
            ],
            [
             0.7,
             "#b8e186"
            ],
            [
             0.8,
             "#7fbc41"
            ],
            [
             0.9,
             "#4d9221"
            ],
            [
             1,
             "#276419"
            ]
           ],
           "sequential": [
            [
             0,
             "#0d0887"
            ],
            [
             0.1111111111111111,
             "#46039f"
            ],
            [
             0.2222222222222222,
             "#7201a8"
            ],
            [
             0.3333333333333333,
             "#9c179e"
            ],
            [
             0.4444444444444444,
             "#bd3786"
            ],
            [
             0.5555555555555556,
             "#d8576b"
            ],
            [
             0.6666666666666666,
             "#ed7953"
            ],
            [
             0.7777777777777778,
             "#fb9f3a"
            ],
            [
             0.8888888888888888,
             "#fdca26"
            ],
            [
             1,
             "#f0f921"
            ]
           ],
           "sequentialminus": [
            [
             0,
             "#0d0887"
            ],
            [
             0.1111111111111111,
             "#46039f"
            ],
            [
             0.2222222222222222,
             "#7201a8"
            ],
            [
             0.3333333333333333,
             "#9c179e"
            ],
            [
             0.4444444444444444,
             "#bd3786"
            ],
            [
             0.5555555555555556,
             "#d8576b"
            ],
            [
             0.6666666666666666,
             "#ed7953"
            ],
            [
             0.7777777777777778,
             "#fb9f3a"
            ],
            [
             0.8888888888888888,
             "#fdca26"
            ],
            [
             1,
             "#f0f921"
            ]
           ]
          },
          "colorway": [
           "#636efa",
           "#EF553B",
           "#00cc96",
           "#ab63fa",
           "#FFA15A",
           "#19d3f3",
           "#FF6692",
           "#B6E880",
           "#FF97FF",
           "#FECB52"
          ],
          "font": {
           "color": "#2a3f5f"
          },
          "geo": {
           "bgcolor": "white",
           "lakecolor": "white",
           "landcolor": "#E5ECF6",
           "showlakes": true,
           "showland": true,
           "subunitcolor": "white"
          },
          "hoverlabel": {
           "align": "left"
          },
          "hovermode": "closest",
          "mapbox": {
           "style": "light"
          },
          "paper_bgcolor": "white",
          "plot_bgcolor": "#E5ECF6",
          "polar": {
           "angularaxis": {
            "gridcolor": "white",
            "linecolor": "white",
            "ticks": ""
           },
           "bgcolor": "#E5ECF6",
           "radialaxis": {
            "gridcolor": "white",
            "linecolor": "white",
            "ticks": ""
           }
          },
          "scene": {
           "xaxis": {
            "backgroundcolor": "#E5ECF6",
            "gridcolor": "white",
            "gridwidth": 2,
            "linecolor": "white",
            "showbackground": true,
            "ticks": "",
            "zerolinecolor": "white"
           },
           "yaxis": {
            "backgroundcolor": "#E5ECF6",
            "gridcolor": "white",
            "gridwidth": 2,
            "linecolor": "white",
            "showbackground": true,
            "ticks": "",
            "zerolinecolor": "white"
           },
           "zaxis": {
            "backgroundcolor": "#E5ECF6",
            "gridcolor": "white",
            "gridwidth": 2,
            "linecolor": "white",
            "showbackground": true,
            "ticks": "",
            "zerolinecolor": "white"
           }
          },
          "shapedefaults": {
           "line": {
            "color": "#2a3f5f"
           }
          },
          "ternary": {
           "aaxis": {
            "gridcolor": "white",
            "linecolor": "white",
            "ticks": ""
           },
           "baxis": {
            "gridcolor": "white",
            "linecolor": "white",
            "ticks": ""
           },
           "bgcolor": "#E5ECF6",
           "caxis": {
            "gridcolor": "white",
            "linecolor": "white",
            "ticks": ""
           }
          },
          "title": {
           "x": 0.05
          },
          "xaxis": {
           "automargin": true,
           "gridcolor": "white",
           "linecolor": "white",
           "ticks": "",
           "title": {
            "standoff": 15
           },
           "zerolinecolor": "white",
           "zerolinewidth": 2
          },
          "yaxis": {
           "automargin": true,
           "gridcolor": "white",
           "linecolor": "white",
           "ticks": "",
           "title": {
            "standoff": 15
           },
           "zerolinecolor": "white",
           "zerolinewidth": 2
          }
         }
        }
       }
      },
      "text/html": [
       "<div>\n",
       "        \n",
       "        \n",
       "            <div id=\"59f2b0f0-f845-4f90-b27f-22a1f816ff77\" class=\"plotly-graph-div\" style=\"height:525px; width:100%;\"></div>\n",
       "            <script type=\"text/javascript\">\n",
       "                require([\"plotly\"], function(Plotly) {\n",
       "                    window.PLOTLYENV=window.PLOTLYENV || {};\n",
       "                    \n",
       "                if (document.getElementById(\"59f2b0f0-f845-4f90-b27f-22a1f816ff77\")) {\n",
       "                    Plotly.newPlot(\n",
       "                        '59f2b0f0-f845-4f90-b27f-22a1f816ff77',\n",
       "                        [{\"fill\": \"toself\", \"hovertemplate\": \"r=%{r}<br>theta=%{theta}<extra></extra>\", \"legendgroup\": \"\", \"line\": {\"color\": \"#636efa\", \"dash\": \"solid\"}, \"mode\": \"lines\", \"name\": \"\", \"r\": [0.12009911598654714, 0.24296991246052596, 0.28189351866605994, 0.3077980336249716, 0.11857450351303943, 0.12009911598654714], \"showlegend\": false, \"subplot\": \"polar\", \"theta\": [\"Lateral Length\", \"Stages\", \"Fluid, bbls\", \"Total Prop, lbs\", \"Longitude\", \"Lateral Length\"], \"type\": \"scatterpolar\"}],\n",
       "                        {\"legend\": {\"tracegroupgap\": 0}, \"margin\": {\"t\": 60}, \"polar\": {\"angularaxis\": {\"direction\": \"clockwise\", \"rotation\": 90}, \"domain\": {\"x\": [0.0, 1.0], \"y\": [0.0, 1.0]}}, \"template\": {\"data\": {\"bar\": [{\"error_x\": {\"color\": \"#2a3f5f\"}, \"error_y\": {\"color\": \"#2a3f5f\"}, \"marker\": {\"line\": {\"color\": \"#E5ECF6\", \"width\": 0.5}}, \"type\": \"bar\"}], \"barpolar\": [{\"marker\": {\"line\": {\"color\": \"#E5ECF6\", \"width\": 0.5}}, \"type\": \"barpolar\"}], \"carpet\": [{\"aaxis\": {\"endlinecolor\": \"#2a3f5f\", \"gridcolor\": \"white\", \"linecolor\": \"white\", \"minorgridcolor\": \"white\", \"startlinecolor\": \"#2a3f5f\"}, \"baxis\": {\"endlinecolor\": \"#2a3f5f\", \"gridcolor\": \"white\", \"linecolor\": \"white\", \"minorgridcolor\": \"white\", \"startlinecolor\": \"#2a3f5f\"}, \"type\": \"carpet\"}], \"choropleth\": [{\"colorbar\": {\"outlinewidth\": 0, \"ticks\": \"\"}, \"type\": \"choropleth\"}], \"contour\": [{\"colorbar\": {\"outlinewidth\": 0, \"ticks\": \"\"}, \"colorscale\": [[0.0, \"#0d0887\"], [0.1111111111111111, \"#46039f\"], [0.2222222222222222, \"#7201a8\"], [0.3333333333333333, \"#9c179e\"], [0.4444444444444444, \"#bd3786\"], [0.5555555555555556, \"#d8576b\"], [0.6666666666666666, \"#ed7953\"], [0.7777777777777778, \"#fb9f3a\"], [0.8888888888888888, \"#fdca26\"], [1.0, \"#f0f921\"]], \"type\": \"contour\"}], \"contourcarpet\": [{\"colorbar\": {\"outlinewidth\": 0, \"ticks\": \"\"}, \"type\": \"contourcarpet\"}], \"heatmap\": [{\"colorbar\": {\"outlinewidth\": 0, \"ticks\": \"\"}, \"colorscale\": [[0.0, \"#0d0887\"], [0.1111111111111111, \"#46039f\"], [0.2222222222222222, \"#7201a8\"], [0.3333333333333333, \"#9c179e\"], [0.4444444444444444, \"#bd3786\"], [0.5555555555555556, \"#d8576b\"], [0.6666666666666666, \"#ed7953\"], [0.7777777777777778, \"#fb9f3a\"], [0.8888888888888888, \"#fdca26\"], [1.0, \"#f0f921\"]], \"type\": \"heatmap\"}], \"heatmapgl\": [{\"colorbar\": {\"outlinewidth\": 0, \"ticks\": \"\"}, \"colorscale\": [[0.0, \"#0d0887\"], [0.1111111111111111, \"#46039f\"], [0.2222222222222222, \"#7201a8\"], [0.3333333333333333, \"#9c179e\"], [0.4444444444444444, \"#bd3786\"], [0.5555555555555556, \"#d8576b\"], [0.6666666666666666, \"#ed7953\"], [0.7777777777777778, \"#fb9f3a\"], [0.8888888888888888, \"#fdca26\"], [1.0, \"#f0f921\"]], \"type\": \"heatmapgl\"}], \"histogram\": [{\"marker\": {\"colorbar\": {\"outlinewidth\": 0, \"ticks\": \"\"}}, \"type\": \"histogram\"}], \"histogram2d\": [{\"colorbar\": {\"outlinewidth\": 0, \"ticks\": \"\"}, \"colorscale\": [[0.0, \"#0d0887\"], [0.1111111111111111, \"#46039f\"], [0.2222222222222222, \"#7201a8\"], [0.3333333333333333, \"#9c179e\"], [0.4444444444444444, \"#bd3786\"], [0.5555555555555556, \"#d8576b\"], [0.6666666666666666, \"#ed7953\"], [0.7777777777777778, \"#fb9f3a\"], [0.8888888888888888, \"#fdca26\"], [1.0, \"#f0f921\"]], \"type\": \"histogram2d\"}], \"histogram2dcontour\": [{\"colorbar\": {\"outlinewidth\": 0, \"ticks\": \"\"}, \"colorscale\": [[0.0, \"#0d0887\"], [0.1111111111111111, \"#46039f\"], [0.2222222222222222, \"#7201a8\"], [0.3333333333333333, \"#9c179e\"], [0.4444444444444444, \"#bd3786\"], [0.5555555555555556, \"#d8576b\"], [0.6666666666666666, \"#ed7953\"], [0.7777777777777778, \"#fb9f3a\"], [0.8888888888888888, \"#fdca26\"], [1.0, \"#f0f921\"]], \"type\": \"histogram2dcontour\"}], \"mesh3d\": [{\"colorbar\": {\"outlinewidth\": 0, \"ticks\": \"\"}, \"type\": \"mesh3d\"}], \"parcoords\": [{\"line\": {\"colorbar\": {\"outlinewidth\": 0, \"ticks\": \"\"}}, \"type\": \"parcoords\"}], \"pie\": [{\"automargin\": true, \"type\": \"pie\"}], \"scatter\": [{\"marker\": {\"colorbar\": {\"outlinewidth\": 0, \"ticks\": \"\"}}, \"type\": \"scatter\"}], \"scatter3d\": [{\"line\": {\"colorbar\": {\"outlinewidth\": 0, \"ticks\": \"\"}}, \"marker\": {\"colorbar\": {\"outlinewidth\": 0, \"ticks\": \"\"}}, \"type\": \"scatter3d\"}], \"scattercarpet\": [{\"marker\": {\"colorbar\": {\"outlinewidth\": 0, \"ticks\": \"\"}}, \"type\": \"scattercarpet\"}], \"scattergeo\": [{\"marker\": {\"colorbar\": {\"outlinewidth\": 0, \"ticks\": \"\"}}, \"type\": \"scattergeo\"}], \"scattergl\": [{\"marker\": {\"colorbar\": {\"outlinewidth\": 0, \"ticks\": \"\"}}, \"type\": \"scattergl\"}], \"scattermapbox\": [{\"marker\": {\"colorbar\": {\"outlinewidth\": 0, \"ticks\": \"\"}}, \"type\": \"scattermapbox\"}], \"scatterpolar\": [{\"marker\": {\"colorbar\": {\"outlinewidth\": 0, \"ticks\": \"\"}}, \"type\": \"scatterpolar\"}], \"scatterpolargl\": [{\"marker\": {\"colorbar\": {\"outlinewidth\": 0, \"ticks\": \"\"}}, \"type\": \"scatterpolargl\"}], \"scatterternary\": [{\"marker\": {\"colorbar\": {\"outlinewidth\": 0, \"ticks\": \"\"}}, \"type\": \"scatterternary\"}], \"surface\": [{\"colorbar\": {\"outlinewidth\": 0, \"ticks\": \"\"}, \"colorscale\": [[0.0, \"#0d0887\"], [0.1111111111111111, \"#46039f\"], [0.2222222222222222, \"#7201a8\"], [0.3333333333333333, \"#9c179e\"], [0.4444444444444444, \"#bd3786\"], [0.5555555555555556, \"#d8576b\"], [0.6666666666666666, \"#ed7953\"], [0.7777777777777778, \"#fb9f3a\"], [0.8888888888888888, \"#fdca26\"], [1.0, \"#f0f921\"]], \"type\": \"surface\"}], \"table\": [{\"cells\": {\"fill\": {\"color\": \"#EBF0F8\"}, \"line\": {\"color\": \"white\"}}, \"header\": {\"fill\": {\"color\": \"#C8D4E3\"}, \"line\": {\"color\": \"white\"}}, \"type\": \"table\"}]}, \"layout\": {\"annotationdefaults\": {\"arrowcolor\": \"#2a3f5f\", \"arrowhead\": 0, \"arrowwidth\": 1}, \"coloraxis\": {\"colorbar\": {\"outlinewidth\": 0, \"ticks\": \"\"}}, \"colorscale\": {\"diverging\": [[0, \"#8e0152\"], [0.1, \"#c51b7d\"], [0.2, \"#de77ae\"], [0.3, \"#f1b6da\"], [0.4, \"#fde0ef\"], [0.5, \"#f7f7f7\"], [0.6, \"#e6f5d0\"], [0.7, \"#b8e186\"], [0.8, \"#7fbc41\"], [0.9, \"#4d9221\"], [1, \"#276419\"]], \"sequential\": [[0.0, \"#0d0887\"], [0.1111111111111111, \"#46039f\"], [0.2222222222222222, \"#7201a8\"], [0.3333333333333333, \"#9c179e\"], [0.4444444444444444, \"#bd3786\"], [0.5555555555555556, \"#d8576b\"], [0.6666666666666666, \"#ed7953\"], [0.7777777777777778, \"#fb9f3a\"], [0.8888888888888888, \"#fdca26\"], [1.0, \"#f0f921\"]], \"sequentialminus\": [[0.0, \"#0d0887\"], [0.1111111111111111, \"#46039f\"], [0.2222222222222222, \"#7201a8\"], [0.3333333333333333, \"#9c179e\"], [0.4444444444444444, \"#bd3786\"], [0.5555555555555556, \"#d8576b\"], [0.6666666666666666, \"#ed7953\"], [0.7777777777777778, \"#fb9f3a\"], [0.8888888888888888, \"#fdca26\"], [1.0, \"#f0f921\"]]}, \"colorway\": [\"#636efa\", \"#EF553B\", \"#00cc96\", \"#ab63fa\", \"#FFA15A\", \"#19d3f3\", \"#FF6692\", \"#B6E880\", \"#FF97FF\", \"#FECB52\"], \"font\": {\"color\": \"#2a3f5f\"}, \"geo\": {\"bgcolor\": \"white\", \"lakecolor\": \"white\", \"landcolor\": \"#E5ECF6\", \"showlakes\": true, \"showland\": true, \"subunitcolor\": \"white\"}, \"hoverlabel\": {\"align\": \"left\"}, \"hovermode\": \"closest\", \"mapbox\": {\"style\": \"light\"}, \"paper_bgcolor\": \"white\", \"plot_bgcolor\": \"#E5ECF6\", \"polar\": {\"angularaxis\": {\"gridcolor\": \"white\", \"linecolor\": \"white\", \"ticks\": \"\"}, \"bgcolor\": \"#E5ECF6\", \"radialaxis\": {\"gridcolor\": \"white\", \"linecolor\": \"white\", \"ticks\": \"\"}}, \"scene\": {\"xaxis\": {\"backgroundcolor\": \"#E5ECF6\", \"gridcolor\": \"white\", \"gridwidth\": 2, \"linecolor\": \"white\", \"showbackground\": true, \"ticks\": \"\", \"zerolinecolor\": \"white\"}, \"yaxis\": {\"backgroundcolor\": \"#E5ECF6\", \"gridcolor\": \"white\", \"gridwidth\": 2, \"linecolor\": \"white\", \"showbackground\": true, \"ticks\": \"\", \"zerolinecolor\": \"white\"}, \"zaxis\": {\"backgroundcolor\": \"#E5ECF6\", \"gridcolor\": \"white\", \"gridwidth\": 2, \"linecolor\": \"white\", \"showbackground\": true, \"ticks\": \"\", \"zerolinecolor\": \"white\"}}, \"shapedefaults\": {\"line\": {\"color\": \"#2a3f5f\"}}, \"ternary\": {\"aaxis\": {\"gridcolor\": \"white\", \"linecolor\": \"white\", \"ticks\": \"\"}, \"baxis\": {\"gridcolor\": \"white\", \"linecolor\": \"white\", \"ticks\": \"\"}, \"bgcolor\": \"#E5ECF6\", \"caxis\": {\"gridcolor\": \"white\", \"linecolor\": \"white\", \"ticks\": \"\"}}, \"title\": {\"x\": 0.05}, \"xaxis\": {\"automargin\": true, \"gridcolor\": \"white\", \"linecolor\": \"white\", \"ticks\": \"\", \"title\": {\"standoff\": 15}, \"zerolinecolor\": \"white\", \"zerolinewidth\": 2}, \"yaxis\": {\"automargin\": true, \"gridcolor\": \"white\", \"linecolor\": \"white\", \"ticks\": \"\", \"title\": {\"standoff\": 15}, \"zerolinecolor\": \"white\", \"zerolinewidth\": 2}}}},\n",
       "                        {\"responsive\": true}\n",
       "                    ).then(function(){\n",
       "                            \n",
       "var gd = document.getElementById('59f2b0f0-f845-4f90-b27f-22a1f816ff77');\n",
       "var x = new MutationObserver(function (mutations, observer) {{\n",
       "        var display = window.getComputedStyle(gd).display;\n",
       "        if (!display || display === 'none') {{\n",
       "            console.log([gd, 'removed!']);\n",
       "            Plotly.purge(gd);\n",
       "            observer.disconnect();\n",
       "        }}\n",
       "}});\n",
       "\n",
       "// Listen for the removal of the full notebook cells\n",
       "var notebookContainer = gd.closest('#notebook-container');\n",
       "if (notebookContainer) {{\n",
       "    x.observe(notebookContainer, {childList: true});\n",
       "}}\n",
       "\n",
       "// Listen for the clearing of the current output cell\n",
       "var outputEl = gd.closest('.output');\n",
       "if (outputEl) {{\n",
       "    x.observe(outputEl, {childList: true});\n",
       "}}\n",
       "\n",
       "                        })\n",
       "                };\n",
       "                });\n",
       "            </script>\n",
       "        </div>"
      ]
     },
     "metadata": {},
     "output_type": "display_data"
    }
   ],
   "source": [
    "#create dictionary for angle and radius values \n",
    "df = pd.DataFrame(dict(\n",
    "    r= radius_values,\n",
    "    theta= features))\n",
    "\n",
    "#create radar chart\n",
    "fig = px.line_polar(df, r='r', theta='theta', line_close=True)\n",
    "\n",
    "#fill in area\n",
    "fig.update_traces(fill='toself')\n",
    "\n",
    "#plot chart\n",
    "fig.show()"
   ]
  },
  {
   "cell_type": "markdown",
   "metadata": {},
   "source": [
    "### Second set of variables"
   ]
  },
  {
   "cell_type": "code",
   "execution_count": 127,
   "metadata": {},
   "outputs": [],
   "source": [
    "#Features that are being compared\n",
    "features = ['Latitude','CT','Section',\n",
    "           'Year Drilled', 'SPACING_CAPPED']\n",
    "#Radius values for each variable\n",
    "radius_values = []\n",
    "for i in features:\n",
    "        radius_values.append(kendall_correlation.at[i, '12 month Cum Prod'])"
   ]
  },
  {
   "cell_type": "code",
   "execution_count": 128,
   "metadata": {},
   "outputs": [
    {
     "data": {
      "application/vnd.plotly.v1+json": {
       "config": {
        "plotlyServerURL": "https://plot.ly"
       },
       "data": [
        {
         "fill": "toself",
         "hovertemplate": "r=%{r}<br>theta=%{theta}<extra></extra>",
         "legendgroup": "",
         "line": {
          "color": "#636efa",
          "dash": "solid"
         },
         "mode": "lines",
         "name": "",
         "r": [
          -0.11634942752723561,
          0.38277950117547643,
          0.007133860508961487,
          0.22867395028752216,
          -0.18090334207502617,
          -0.11634942752723561
         ],
         "showlegend": false,
         "subplot": "polar",
         "theta": [
          "Latitude",
          "CT",
          "Section",
          "Year Drilled",
          "SPACING_CAPPED",
          "Latitude"
         ],
         "type": "scatterpolar"
        }
       ],
       "layout": {
        "legend": {
         "tracegroupgap": 0
        },
        "margin": {
         "t": 60
        },
        "polar": {
         "angularaxis": {
          "direction": "clockwise",
          "rotation": 90
         },
         "domain": {
          "x": [
           0,
           1
          ],
          "y": [
           0,
           1
          ]
         }
        },
        "template": {
         "data": {
          "bar": [
           {
            "error_x": {
             "color": "#2a3f5f"
            },
            "error_y": {
             "color": "#2a3f5f"
            },
            "marker": {
             "line": {
              "color": "#E5ECF6",
              "width": 0.5
             }
            },
            "type": "bar"
           }
          ],
          "barpolar": [
           {
            "marker": {
             "line": {
              "color": "#E5ECF6",
              "width": 0.5
             }
            },
            "type": "barpolar"
           }
          ],
          "carpet": [
           {
            "aaxis": {
             "endlinecolor": "#2a3f5f",
             "gridcolor": "white",
             "linecolor": "white",
             "minorgridcolor": "white",
             "startlinecolor": "#2a3f5f"
            },
            "baxis": {
             "endlinecolor": "#2a3f5f",
             "gridcolor": "white",
             "linecolor": "white",
             "minorgridcolor": "white",
             "startlinecolor": "#2a3f5f"
            },
            "type": "carpet"
           }
          ],
          "choropleth": [
           {
            "colorbar": {
             "outlinewidth": 0,
             "ticks": ""
            },
            "type": "choropleth"
           }
          ],
          "contour": [
           {
            "colorbar": {
             "outlinewidth": 0,
             "ticks": ""
            },
            "colorscale": [
             [
              0,
              "#0d0887"
             ],
             [
              0.1111111111111111,
              "#46039f"
             ],
             [
              0.2222222222222222,
              "#7201a8"
             ],
             [
              0.3333333333333333,
              "#9c179e"
             ],
             [
              0.4444444444444444,
              "#bd3786"
             ],
             [
              0.5555555555555556,
              "#d8576b"
             ],
             [
              0.6666666666666666,
              "#ed7953"
             ],
             [
              0.7777777777777778,
              "#fb9f3a"
             ],
             [
              0.8888888888888888,
              "#fdca26"
             ],
             [
              1,
              "#f0f921"
             ]
            ],
            "type": "contour"
           }
          ],
          "contourcarpet": [
           {
            "colorbar": {
             "outlinewidth": 0,
             "ticks": ""
            },
            "type": "contourcarpet"
           }
          ],
          "heatmap": [
           {
            "colorbar": {
             "outlinewidth": 0,
             "ticks": ""
            },
            "colorscale": [
             [
              0,
              "#0d0887"
             ],
             [
              0.1111111111111111,
              "#46039f"
             ],
             [
              0.2222222222222222,
              "#7201a8"
             ],
             [
              0.3333333333333333,
              "#9c179e"
             ],
             [
              0.4444444444444444,
              "#bd3786"
             ],
             [
              0.5555555555555556,
              "#d8576b"
             ],
             [
              0.6666666666666666,
              "#ed7953"
             ],
             [
              0.7777777777777778,
              "#fb9f3a"
             ],
             [
              0.8888888888888888,
              "#fdca26"
             ],
             [
              1,
              "#f0f921"
             ]
            ],
            "type": "heatmap"
           }
          ],
          "heatmapgl": [
           {
            "colorbar": {
             "outlinewidth": 0,
             "ticks": ""
            },
            "colorscale": [
             [
              0,
              "#0d0887"
             ],
             [
              0.1111111111111111,
              "#46039f"
             ],
             [
              0.2222222222222222,
              "#7201a8"
             ],
             [
              0.3333333333333333,
              "#9c179e"
             ],
             [
              0.4444444444444444,
              "#bd3786"
             ],
             [
              0.5555555555555556,
              "#d8576b"
             ],
             [
              0.6666666666666666,
              "#ed7953"
             ],
             [
              0.7777777777777778,
              "#fb9f3a"
             ],
             [
              0.8888888888888888,
              "#fdca26"
             ],
             [
              1,
              "#f0f921"
             ]
            ],
            "type": "heatmapgl"
           }
          ],
          "histogram": [
           {
            "marker": {
             "colorbar": {
              "outlinewidth": 0,
              "ticks": ""
             }
            },
            "type": "histogram"
           }
          ],
          "histogram2d": [
           {
            "colorbar": {
             "outlinewidth": 0,
             "ticks": ""
            },
            "colorscale": [
             [
              0,
              "#0d0887"
             ],
             [
              0.1111111111111111,
              "#46039f"
             ],
             [
              0.2222222222222222,
              "#7201a8"
             ],
             [
              0.3333333333333333,
              "#9c179e"
             ],
             [
              0.4444444444444444,
              "#bd3786"
             ],
             [
              0.5555555555555556,
              "#d8576b"
             ],
             [
              0.6666666666666666,
              "#ed7953"
             ],
             [
              0.7777777777777778,
              "#fb9f3a"
             ],
             [
              0.8888888888888888,
              "#fdca26"
             ],
             [
              1,
              "#f0f921"
             ]
            ],
            "type": "histogram2d"
           }
          ],
          "histogram2dcontour": [
           {
            "colorbar": {
             "outlinewidth": 0,
             "ticks": ""
            },
            "colorscale": [
             [
              0,
              "#0d0887"
             ],
             [
              0.1111111111111111,
              "#46039f"
             ],
             [
              0.2222222222222222,
              "#7201a8"
             ],
             [
              0.3333333333333333,
              "#9c179e"
             ],
             [
              0.4444444444444444,
              "#bd3786"
             ],
             [
              0.5555555555555556,
              "#d8576b"
             ],
             [
              0.6666666666666666,
              "#ed7953"
             ],
             [
              0.7777777777777778,
              "#fb9f3a"
             ],
             [
              0.8888888888888888,
              "#fdca26"
             ],
             [
              1,
              "#f0f921"
             ]
            ],
            "type": "histogram2dcontour"
           }
          ],
          "mesh3d": [
           {
            "colorbar": {
             "outlinewidth": 0,
             "ticks": ""
            },
            "type": "mesh3d"
           }
          ],
          "parcoords": [
           {
            "line": {
             "colorbar": {
              "outlinewidth": 0,
              "ticks": ""
             }
            },
            "type": "parcoords"
           }
          ],
          "pie": [
           {
            "automargin": true,
            "type": "pie"
           }
          ],
          "scatter": [
           {
            "marker": {
             "colorbar": {
              "outlinewidth": 0,
              "ticks": ""
             }
            },
            "type": "scatter"
           }
          ],
          "scatter3d": [
           {
            "line": {
             "colorbar": {
              "outlinewidth": 0,
              "ticks": ""
             }
            },
            "marker": {
             "colorbar": {
              "outlinewidth": 0,
              "ticks": ""
             }
            },
            "type": "scatter3d"
           }
          ],
          "scattercarpet": [
           {
            "marker": {
             "colorbar": {
              "outlinewidth": 0,
              "ticks": ""
             }
            },
            "type": "scattercarpet"
           }
          ],
          "scattergeo": [
           {
            "marker": {
             "colorbar": {
              "outlinewidth": 0,
              "ticks": ""
             }
            },
            "type": "scattergeo"
           }
          ],
          "scattergl": [
           {
            "marker": {
             "colorbar": {
              "outlinewidth": 0,
              "ticks": ""
             }
            },
            "type": "scattergl"
           }
          ],
          "scattermapbox": [
           {
            "marker": {
             "colorbar": {
              "outlinewidth": 0,
              "ticks": ""
             }
            },
            "type": "scattermapbox"
           }
          ],
          "scatterpolar": [
           {
            "marker": {
             "colorbar": {
              "outlinewidth": 0,
              "ticks": ""
             }
            },
            "type": "scatterpolar"
           }
          ],
          "scatterpolargl": [
           {
            "marker": {
             "colorbar": {
              "outlinewidth": 0,
              "ticks": ""
             }
            },
            "type": "scatterpolargl"
           }
          ],
          "scatterternary": [
           {
            "marker": {
             "colorbar": {
              "outlinewidth": 0,
              "ticks": ""
             }
            },
            "type": "scatterternary"
           }
          ],
          "surface": [
           {
            "colorbar": {
             "outlinewidth": 0,
             "ticks": ""
            },
            "colorscale": [
             [
              0,
              "#0d0887"
             ],
             [
              0.1111111111111111,
              "#46039f"
             ],
             [
              0.2222222222222222,
              "#7201a8"
             ],
             [
              0.3333333333333333,
              "#9c179e"
             ],
             [
              0.4444444444444444,
              "#bd3786"
             ],
             [
              0.5555555555555556,
              "#d8576b"
             ],
             [
              0.6666666666666666,
              "#ed7953"
             ],
             [
              0.7777777777777778,
              "#fb9f3a"
             ],
             [
              0.8888888888888888,
              "#fdca26"
             ],
             [
              1,
              "#f0f921"
             ]
            ],
            "type": "surface"
           }
          ],
          "table": [
           {
            "cells": {
             "fill": {
              "color": "#EBF0F8"
             },
             "line": {
              "color": "white"
             }
            },
            "header": {
             "fill": {
              "color": "#C8D4E3"
             },
             "line": {
              "color": "white"
             }
            },
            "type": "table"
           }
          ]
         },
         "layout": {
          "annotationdefaults": {
           "arrowcolor": "#2a3f5f",
           "arrowhead": 0,
           "arrowwidth": 1
          },
          "coloraxis": {
           "colorbar": {
            "outlinewidth": 0,
            "ticks": ""
           }
          },
          "colorscale": {
           "diverging": [
            [
             0,
             "#8e0152"
            ],
            [
             0.1,
             "#c51b7d"
            ],
            [
             0.2,
             "#de77ae"
            ],
            [
             0.3,
             "#f1b6da"
            ],
            [
             0.4,
             "#fde0ef"
            ],
            [
             0.5,
             "#f7f7f7"
            ],
            [
             0.6,
             "#e6f5d0"
            ],
            [
             0.7,
             "#b8e186"
            ],
            [
             0.8,
             "#7fbc41"
            ],
            [
             0.9,
             "#4d9221"
            ],
            [
             1,
             "#276419"
            ]
           ],
           "sequential": [
            [
             0,
             "#0d0887"
            ],
            [
             0.1111111111111111,
             "#46039f"
            ],
            [
             0.2222222222222222,
             "#7201a8"
            ],
            [
             0.3333333333333333,
             "#9c179e"
            ],
            [
             0.4444444444444444,
             "#bd3786"
            ],
            [
             0.5555555555555556,
             "#d8576b"
            ],
            [
             0.6666666666666666,
             "#ed7953"
            ],
            [
             0.7777777777777778,
             "#fb9f3a"
            ],
            [
             0.8888888888888888,
             "#fdca26"
            ],
            [
             1,
             "#f0f921"
            ]
           ],
           "sequentialminus": [
            [
             0,
             "#0d0887"
            ],
            [
             0.1111111111111111,
             "#46039f"
            ],
            [
             0.2222222222222222,
             "#7201a8"
            ],
            [
             0.3333333333333333,
             "#9c179e"
            ],
            [
             0.4444444444444444,
             "#bd3786"
            ],
            [
             0.5555555555555556,
             "#d8576b"
            ],
            [
             0.6666666666666666,
             "#ed7953"
            ],
            [
             0.7777777777777778,
             "#fb9f3a"
            ],
            [
             0.8888888888888888,
             "#fdca26"
            ],
            [
             1,
             "#f0f921"
            ]
           ]
          },
          "colorway": [
           "#636efa",
           "#EF553B",
           "#00cc96",
           "#ab63fa",
           "#FFA15A",
           "#19d3f3",
           "#FF6692",
           "#B6E880",
           "#FF97FF",
           "#FECB52"
          ],
          "font": {
           "color": "#2a3f5f"
          },
          "geo": {
           "bgcolor": "white",
           "lakecolor": "white",
           "landcolor": "#E5ECF6",
           "showlakes": true,
           "showland": true,
           "subunitcolor": "white"
          },
          "hoverlabel": {
           "align": "left"
          },
          "hovermode": "closest",
          "mapbox": {
           "style": "light"
          },
          "paper_bgcolor": "white",
          "plot_bgcolor": "#E5ECF6",
          "polar": {
           "angularaxis": {
            "gridcolor": "white",
            "linecolor": "white",
            "ticks": ""
           },
           "bgcolor": "#E5ECF6",
           "radialaxis": {
            "gridcolor": "white",
            "linecolor": "white",
            "ticks": ""
           }
          },
          "scene": {
           "xaxis": {
            "backgroundcolor": "#E5ECF6",
            "gridcolor": "white",
            "gridwidth": 2,
            "linecolor": "white",
            "showbackground": true,
            "ticks": "",
            "zerolinecolor": "white"
           },
           "yaxis": {
            "backgroundcolor": "#E5ECF6",
            "gridcolor": "white",
            "gridwidth": 2,
            "linecolor": "white",
            "showbackground": true,
            "ticks": "",
            "zerolinecolor": "white"
           },
           "zaxis": {
            "backgroundcolor": "#E5ECF6",
            "gridcolor": "white",
            "gridwidth": 2,
            "linecolor": "white",
            "showbackground": true,
            "ticks": "",
            "zerolinecolor": "white"
           }
          },
          "shapedefaults": {
           "line": {
            "color": "#2a3f5f"
           }
          },
          "ternary": {
           "aaxis": {
            "gridcolor": "white",
            "linecolor": "white",
            "ticks": ""
           },
           "baxis": {
            "gridcolor": "white",
            "linecolor": "white",
            "ticks": ""
           },
           "bgcolor": "#E5ECF6",
           "caxis": {
            "gridcolor": "white",
            "linecolor": "white",
            "ticks": ""
           }
          },
          "title": {
           "x": 0.05
          },
          "xaxis": {
           "automargin": true,
           "gridcolor": "white",
           "linecolor": "white",
           "ticks": "",
           "title": {
            "standoff": 15
           },
           "zerolinecolor": "white",
           "zerolinewidth": 2
          },
          "yaxis": {
           "automargin": true,
           "gridcolor": "white",
           "linecolor": "white",
           "ticks": "",
           "title": {
            "standoff": 15
           },
           "zerolinecolor": "white",
           "zerolinewidth": 2
          }
         }
        }
       }
      },
      "text/html": [
       "<div>\n",
       "        \n",
       "        \n",
       "            <div id=\"50640db1-1088-4ee6-b249-51ad2005d5fb\" class=\"plotly-graph-div\" style=\"height:525px; width:100%;\"></div>\n",
       "            <script type=\"text/javascript\">\n",
       "                require([\"plotly\"], function(Plotly) {\n",
       "                    window.PLOTLYENV=window.PLOTLYENV || {};\n",
       "                    \n",
       "                if (document.getElementById(\"50640db1-1088-4ee6-b249-51ad2005d5fb\")) {\n",
       "                    Plotly.newPlot(\n",
       "                        '50640db1-1088-4ee6-b249-51ad2005d5fb',\n",
       "                        [{\"fill\": \"toself\", \"hovertemplate\": \"r=%{r}<br>theta=%{theta}<extra></extra>\", \"legendgroup\": \"\", \"line\": {\"color\": \"#636efa\", \"dash\": \"solid\"}, \"mode\": \"lines\", \"name\": \"\", \"r\": [-0.11634942752723561, 0.38277950117547643, 0.007133860508961487, 0.22867395028752216, -0.18090334207502617, -0.11634942752723561], \"showlegend\": false, \"subplot\": \"polar\", \"theta\": [\"Latitude\", \"CT\", \"Section\", \"Year Drilled\", \"SPACING_CAPPED\", \"Latitude\"], \"type\": \"scatterpolar\"}],\n",
       "                        {\"legend\": {\"tracegroupgap\": 0}, \"margin\": {\"t\": 60}, \"polar\": {\"angularaxis\": {\"direction\": \"clockwise\", \"rotation\": 90}, \"domain\": {\"x\": [0.0, 1.0], \"y\": [0.0, 1.0]}}, \"template\": {\"data\": {\"bar\": [{\"error_x\": {\"color\": \"#2a3f5f\"}, \"error_y\": {\"color\": \"#2a3f5f\"}, \"marker\": {\"line\": {\"color\": \"#E5ECF6\", \"width\": 0.5}}, \"type\": \"bar\"}], \"barpolar\": [{\"marker\": {\"line\": {\"color\": \"#E5ECF6\", \"width\": 0.5}}, \"type\": \"barpolar\"}], \"carpet\": [{\"aaxis\": {\"endlinecolor\": \"#2a3f5f\", \"gridcolor\": \"white\", \"linecolor\": \"white\", \"minorgridcolor\": \"white\", \"startlinecolor\": \"#2a3f5f\"}, \"baxis\": {\"endlinecolor\": \"#2a3f5f\", \"gridcolor\": \"white\", \"linecolor\": \"white\", \"minorgridcolor\": \"white\", \"startlinecolor\": \"#2a3f5f\"}, \"type\": \"carpet\"}], \"choropleth\": [{\"colorbar\": {\"outlinewidth\": 0, \"ticks\": \"\"}, \"type\": \"choropleth\"}], \"contour\": [{\"colorbar\": {\"outlinewidth\": 0, \"ticks\": \"\"}, \"colorscale\": [[0.0, \"#0d0887\"], [0.1111111111111111, \"#46039f\"], [0.2222222222222222, \"#7201a8\"], [0.3333333333333333, \"#9c179e\"], [0.4444444444444444, \"#bd3786\"], [0.5555555555555556, \"#d8576b\"], [0.6666666666666666, \"#ed7953\"], [0.7777777777777778, \"#fb9f3a\"], [0.8888888888888888, \"#fdca26\"], [1.0, \"#f0f921\"]], \"type\": \"contour\"}], \"contourcarpet\": [{\"colorbar\": {\"outlinewidth\": 0, \"ticks\": \"\"}, \"type\": \"contourcarpet\"}], \"heatmap\": [{\"colorbar\": {\"outlinewidth\": 0, \"ticks\": \"\"}, \"colorscale\": [[0.0, \"#0d0887\"], [0.1111111111111111, \"#46039f\"], [0.2222222222222222, \"#7201a8\"], [0.3333333333333333, \"#9c179e\"], [0.4444444444444444, \"#bd3786\"], [0.5555555555555556, \"#d8576b\"], [0.6666666666666666, \"#ed7953\"], [0.7777777777777778, \"#fb9f3a\"], [0.8888888888888888, \"#fdca26\"], [1.0, \"#f0f921\"]], \"type\": \"heatmap\"}], \"heatmapgl\": [{\"colorbar\": {\"outlinewidth\": 0, \"ticks\": \"\"}, \"colorscale\": [[0.0, \"#0d0887\"], [0.1111111111111111, \"#46039f\"], [0.2222222222222222, \"#7201a8\"], [0.3333333333333333, \"#9c179e\"], [0.4444444444444444, \"#bd3786\"], [0.5555555555555556, \"#d8576b\"], [0.6666666666666666, \"#ed7953\"], [0.7777777777777778, \"#fb9f3a\"], [0.8888888888888888, \"#fdca26\"], [1.0, \"#f0f921\"]], \"type\": \"heatmapgl\"}], \"histogram\": [{\"marker\": {\"colorbar\": {\"outlinewidth\": 0, \"ticks\": \"\"}}, \"type\": \"histogram\"}], \"histogram2d\": [{\"colorbar\": {\"outlinewidth\": 0, \"ticks\": \"\"}, \"colorscale\": [[0.0, \"#0d0887\"], [0.1111111111111111, \"#46039f\"], [0.2222222222222222, \"#7201a8\"], [0.3333333333333333, \"#9c179e\"], [0.4444444444444444, \"#bd3786\"], [0.5555555555555556, \"#d8576b\"], [0.6666666666666666, \"#ed7953\"], [0.7777777777777778, \"#fb9f3a\"], [0.8888888888888888, \"#fdca26\"], [1.0, \"#f0f921\"]], \"type\": \"histogram2d\"}], \"histogram2dcontour\": [{\"colorbar\": {\"outlinewidth\": 0, \"ticks\": \"\"}, \"colorscale\": [[0.0, \"#0d0887\"], [0.1111111111111111, \"#46039f\"], [0.2222222222222222, \"#7201a8\"], [0.3333333333333333, \"#9c179e\"], [0.4444444444444444, \"#bd3786\"], [0.5555555555555556, \"#d8576b\"], [0.6666666666666666, \"#ed7953\"], [0.7777777777777778, \"#fb9f3a\"], [0.8888888888888888, \"#fdca26\"], [1.0, \"#f0f921\"]], \"type\": \"histogram2dcontour\"}], \"mesh3d\": [{\"colorbar\": {\"outlinewidth\": 0, \"ticks\": \"\"}, \"type\": \"mesh3d\"}], \"parcoords\": [{\"line\": {\"colorbar\": {\"outlinewidth\": 0, \"ticks\": \"\"}}, \"type\": \"parcoords\"}], \"pie\": [{\"automargin\": true, \"type\": \"pie\"}], \"scatter\": [{\"marker\": {\"colorbar\": {\"outlinewidth\": 0, \"ticks\": \"\"}}, \"type\": \"scatter\"}], \"scatter3d\": [{\"line\": {\"colorbar\": {\"outlinewidth\": 0, \"ticks\": \"\"}}, \"marker\": {\"colorbar\": {\"outlinewidth\": 0, \"ticks\": \"\"}}, \"type\": \"scatter3d\"}], \"scattercarpet\": [{\"marker\": {\"colorbar\": {\"outlinewidth\": 0, \"ticks\": \"\"}}, \"type\": \"scattercarpet\"}], \"scattergeo\": [{\"marker\": {\"colorbar\": {\"outlinewidth\": 0, \"ticks\": \"\"}}, \"type\": \"scattergeo\"}], \"scattergl\": [{\"marker\": {\"colorbar\": {\"outlinewidth\": 0, \"ticks\": \"\"}}, \"type\": \"scattergl\"}], \"scattermapbox\": [{\"marker\": {\"colorbar\": {\"outlinewidth\": 0, \"ticks\": \"\"}}, \"type\": \"scattermapbox\"}], \"scatterpolar\": [{\"marker\": {\"colorbar\": {\"outlinewidth\": 0, \"ticks\": \"\"}}, \"type\": \"scatterpolar\"}], \"scatterpolargl\": [{\"marker\": {\"colorbar\": {\"outlinewidth\": 0, \"ticks\": \"\"}}, \"type\": \"scatterpolargl\"}], \"scatterternary\": [{\"marker\": {\"colorbar\": {\"outlinewidth\": 0, \"ticks\": \"\"}}, \"type\": \"scatterternary\"}], \"surface\": [{\"colorbar\": {\"outlinewidth\": 0, \"ticks\": \"\"}, \"colorscale\": [[0.0, \"#0d0887\"], [0.1111111111111111, \"#46039f\"], [0.2222222222222222, \"#7201a8\"], [0.3333333333333333, \"#9c179e\"], [0.4444444444444444, \"#bd3786\"], [0.5555555555555556, \"#d8576b\"], [0.6666666666666666, \"#ed7953\"], [0.7777777777777778, \"#fb9f3a\"], [0.8888888888888888, \"#fdca26\"], [1.0, \"#f0f921\"]], \"type\": \"surface\"}], \"table\": [{\"cells\": {\"fill\": {\"color\": \"#EBF0F8\"}, \"line\": {\"color\": \"white\"}}, \"header\": {\"fill\": {\"color\": \"#C8D4E3\"}, \"line\": {\"color\": \"white\"}}, \"type\": \"table\"}]}, \"layout\": {\"annotationdefaults\": {\"arrowcolor\": \"#2a3f5f\", \"arrowhead\": 0, \"arrowwidth\": 1}, \"coloraxis\": {\"colorbar\": {\"outlinewidth\": 0, \"ticks\": \"\"}}, \"colorscale\": {\"diverging\": [[0, \"#8e0152\"], [0.1, \"#c51b7d\"], [0.2, \"#de77ae\"], [0.3, \"#f1b6da\"], [0.4, \"#fde0ef\"], [0.5, \"#f7f7f7\"], [0.6, \"#e6f5d0\"], [0.7, \"#b8e186\"], [0.8, \"#7fbc41\"], [0.9, \"#4d9221\"], [1, \"#276419\"]], \"sequential\": [[0.0, \"#0d0887\"], [0.1111111111111111, \"#46039f\"], [0.2222222222222222, \"#7201a8\"], [0.3333333333333333, \"#9c179e\"], [0.4444444444444444, \"#bd3786\"], [0.5555555555555556, \"#d8576b\"], [0.6666666666666666, \"#ed7953\"], [0.7777777777777778, \"#fb9f3a\"], [0.8888888888888888, \"#fdca26\"], [1.0, \"#f0f921\"]], \"sequentialminus\": [[0.0, \"#0d0887\"], [0.1111111111111111, \"#46039f\"], [0.2222222222222222, \"#7201a8\"], [0.3333333333333333, \"#9c179e\"], [0.4444444444444444, \"#bd3786\"], [0.5555555555555556, \"#d8576b\"], [0.6666666666666666, \"#ed7953\"], [0.7777777777777778, \"#fb9f3a\"], [0.8888888888888888, \"#fdca26\"], [1.0, \"#f0f921\"]]}, \"colorway\": [\"#636efa\", \"#EF553B\", \"#00cc96\", \"#ab63fa\", \"#FFA15A\", \"#19d3f3\", \"#FF6692\", \"#B6E880\", \"#FF97FF\", \"#FECB52\"], \"font\": {\"color\": \"#2a3f5f\"}, \"geo\": {\"bgcolor\": \"white\", \"lakecolor\": \"white\", \"landcolor\": \"#E5ECF6\", \"showlakes\": true, \"showland\": true, \"subunitcolor\": \"white\"}, \"hoverlabel\": {\"align\": \"left\"}, \"hovermode\": \"closest\", \"mapbox\": {\"style\": \"light\"}, \"paper_bgcolor\": \"white\", \"plot_bgcolor\": \"#E5ECF6\", \"polar\": {\"angularaxis\": {\"gridcolor\": \"white\", \"linecolor\": \"white\", \"ticks\": \"\"}, \"bgcolor\": \"#E5ECF6\", \"radialaxis\": {\"gridcolor\": \"white\", \"linecolor\": \"white\", \"ticks\": \"\"}}, \"scene\": {\"xaxis\": {\"backgroundcolor\": \"#E5ECF6\", \"gridcolor\": \"white\", \"gridwidth\": 2, \"linecolor\": \"white\", \"showbackground\": true, \"ticks\": \"\", \"zerolinecolor\": \"white\"}, \"yaxis\": {\"backgroundcolor\": \"#E5ECF6\", \"gridcolor\": \"white\", \"gridwidth\": 2, \"linecolor\": \"white\", \"showbackground\": true, \"ticks\": \"\", \"zerolinecolor\": \"white\"}, \"zaxis\": {\"backgroundcolor\": \"#E5ECF6\", \"gridcolor\": \"white\", \"gridwidth\": 2, \"linecolor\": \"white\", \"showbackground\": true, \"ticks\": \"\", \"zerolinecolor\": \"white\"}}, \"shapedefaults\": {\"line\": {\"color\": \"#2a3f5f\"}}, \"ternary\": {\"aaxis\": {\"gridcolor\": \"white\", \"linecolor\": \"white\", \"ticks\": \"\"}, \"baxis\": {\"gridcolor\": \"white\", \"linecolor\": \"white\", \"ticks\": \"\"}, \"bgcolor\": \"#E5ECF6\", \"caxis\": {\"gridcolor\": \"white\", \"linecolor\": \"white\", \"ticks\": \"\"}}, \"title\": {\"x\": 0.05}, \"xaxis\": {\"automargin\": true, \"gridcolor\": \"white\", \"linecolor\": \"white\", \"ticks\": \"\", \"title\": {\"standoff\": 15}, \"zerolinecolor\": \"white\", \"zerolinewidth\": 2}, \"yaxis\": {\"automargin\": true, \"gridcolor\": \"white\", \"linecolor\": \"white\", \"ticks\": \"\", \"title\": {\"standoff\": 15}, \"zerolinecolor\": \"white\", \"zerolinewidth\": 2}}}},\n",
       "                        {\"responsive\": true}\n",
       "                    ).then(function(){\n",
       "                            \n",
       "var gd = document.getElementById('50640db1-1088-4ee6-b249-51ad2005d5fb');\n",
       "var x = new MutationObserver(function (mutations, observer) {{\n",
       "        var display = window.getComputedStyle(gd).display;\n",
       "        if (!display || display === 'none') {{\n",
       "            console.log([gd, 'removed!']);\n",
       "            Plotly.purge(gd);\n",
       "            observer.disconnect();\n",
       "        }}\n",
       "}});\n",
       "\n",
       "// Listen for the removal of the full notebook cells\n",
       "var notebookContainer = gd.closest('#notebook-container');\n",
       "if (notebookContainer) {{\n",
       "    x.observe(notebookContainer, {childList: true});\n",
       "}}\n",
       "\n",
       "// Listen for the clearing of the current output cell\n",
       "var outputEl = gd.closest('.output');\n",
       "if (outputEl) {{\n",
       "    x.observe(outputEl, {childList: true});\n",
       "}}\n",
       "\n",
       "                        })\n",
       "                };\n",
       "                });\n",
       "            </script>\n",
       "        </div>"
      ]
     },
     "metadata": {},
     "output_type": "display_data"
    }
   ],
   "source": [
    "#create dictionary for angle and radius values \n",
    "df = pd.DataFrame(dict(\n",
    "    r= radius_values,\n",
    "    theta= features))\n",
    "\n",
    "#create radar chart\n",
    "fig = px.line_polar(df, r='r', theta='theta', line_close=True)\n",
    "\n",
    "#fill in area\n",
    "fig.update_traces(fill='toself')\n",
    "\n",
    "#plot chart\n",
    "fig.show()"
   ]
  },
  {
   "cell_type": "markdown",
   "metadata": {},
   "source": [
    "Kendall's coefficient shows the same features that have the highest correlation coefficient. "
   ]
  },
  {
   "cell_type": "markdown",
   "metadata": {},
   "source": [
    "According to the radar charts created for the three different correlation coefficients, it seems that Completion Type, Total Proppant, and Fluid seem to be the three quantitative variables that affect the cumulative production the most. However, these radar charts do not include the categorical variables in the dataset."
   ]
  },
  {
   "cell_type": "code",
   "execution_count": null,
   "metadata": {},
   "outputs": [],
   "source": [
    "''' I really like this model. Primarily because this allows a really good comparison. If you want the radar chart to compare categorical variable in the dataset, I would change the categorical data to numerical values. \n",
    "\n",
    "Here is an example:\n",
    "\n",
    "labels = DatabaseDF['variable'].unique().tolist()\n",
    "mapping = dict( zip(labels,range(len(labels))) )\n",
    "DatabaseDF.replace({'variable': mapping},inplace=True)"
   ]
  }
 ],
 "metadata": {
  "kernelspec": {
   "display_name": "Python 3",
   "language": "python",
   "name": "python3"
  },
  "language_info": {
   "codemirror_mode": {
    "name": "ipython",
    "version": 3
   },
   "file_extension": ".py",
   "mimetype": "text/x-python",
   "name": "python",
   "nbconvert_exporter": "python",
   "pygments_lexer": "ipython3",
   "version": "3.7.4-final"
  }
 },
 "nbformat": 4,
 "nbformat_minor": 2
}