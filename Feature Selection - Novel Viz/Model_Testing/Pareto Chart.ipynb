{
 "cells": [
  {
   "cell_type": "markdown",
   "metadata": {},
   "source": [
    "# Model Definition: Pareto Chart\n",
    "\n",
    "A Pareto Chart is a combination of a bar graph and line graph used in Economics and Business that shows the influence that various (independent) categorical variables have on a continuous (dependent) variable in the dataset. The bars are ordered such that the most frequent or prominent independent variable is on the left and the least significant variable is on the right. The line graph represent the cumulative percentages of the dependent variable and how each independent variable contributes to that percentage.\n",
    "\n",
    "This model is more of a tool that helps analyze different features and which of them should be prioritized; it is not used for estimating a value. Pareto Charts are good if you want to narrow down the features to find the most frequent/prominent  ones, so that you can focus on the ones that are the most impactful for the final product or for a certain variable.\n",
    "\n",
    "A Pareto Chart can be applied to oil because it can be help us narrow down certain variables by seeing which ones affect cumulative oil production the most. From there, we can decide how to distribute resources in order to maximize production. "
   ]
  },
  {
   "cell_type": "markdown",
   "metadata": {},
   "source": [
    "## More information about the ANOVA correlation and interpretation of results towards the end of the notebook."
   ]
  },
  {
   "cell_type": "code",
   "execution_count": 68,
   "metadata": {},
   "outputs": [],
   "source": [
    "import pandas as pd\n",
    "import numpy as np\n",
    "import matplotlib.pyplot as plt\n",
    "import seaborn as sns\n",
    "%matplotlib inline"
   ]
  },
  {
   "cell_type": "code",
   "execution_count": 69,
   "metadata": {},
   "outputs": [],
   "source": [
    "#Import pareto package for Pareto Chart\n",
    "from paretochart import pareto"
   ]
  },
  {
   "cell_type": "code",
   "execution_count": 70,
   "metadata": {},
   "outputs": [],
   "source": [
    "#Import packages for ANOVA correlation\n",
    "import statsmodels.api as sm\n",
    "from statsmodels.formula.api import ols\n",
    "import pingouin as pg"
   ]
  },
  {
   "cell_type": "code",
   "execution_count": 71,
   "metadata": {},
   "outputs": [
    {
     "data": {
      "text/html": [
       "<div>\n",
       "<style scoped>\n",
       "    .dataframe tbody tr th:only-of-type {\n",
       "        vertical-align: middle;\n",
       "    }\n",
       "\n",
       "    .dataframe tbody tr th {\n",
       "        vertical-align: top;\n",
       "    }\n",
       "\n",
       "    .dataframe thead th {\n",
       "        text-align: right;\n",
       "    }\n",
       "</style>\n",
       "<table border=\"1\" class=\"dataframe\">\n",
       "  <thead>\n",
       "    <tr style=\"text-align: right;\">\n",
       "      <th></th>\n",
       "      <th>Unnamed: 0</th>\n",
       "      <th>Operator</th>\n",
       "      <th>Well Name</th>\n",
       "      <th>Formation</th>\n",
       "      <th>Lateral Length</th>\n",
       "      <th>Stages</th>\n",
       "      <th>Township</th>\n",
       "      <th>Range</th>\n",
       "      <th>Section</th>\n",
       "      <th>Total Prop, lbs</th>\n",
       "      <th>...</th>\n",
       "      <th>Fluid Type from DI</th>\n",
       "      <th>SPACING_CAPPED</th>\n",
       "      <th>12 month Cum Prod</th>\n",
       "      <th>Completion Type</th>\n",
       "      <th>Sleeves</th>\n",
       "      <th>P&amp;P</th>\n",
       "      <th>Frac Ports</th>\n",
       "      <th>Repeater Ports</th>\n",
       "      <th>CT</th>\n",
       "      <th>Year Drilled</th>\n",
       "    </tr>\n",
       "  </thead>\n",
       "  <tbody>\n",
       "    <tr>\n",
       "      <td>0</td>\n",
       "      <td>0</td>\n",
       "      <td>Operator 1</td>\n",
       "      <td>Well 1</td>\n",
       "      <td>MBH</td>\n",
       "      <td>5114.0</td>\n",
       "      <td>30.0</td>\n",
       "      <td>141</td>\n",
       "      <td>99</td>\n",
       "      <td>10</td>\n",
       "      <td>0.0</td>\n",
       "      <td>...</td>\n",
       "      <td>NaN</td>\n",
       "      <td>660.0</td>\n",
       "      <td>33.55</td>\n",
       "      <td>NaN</td>\n",
       "      <td>NaN</td>\n",
       "      <td>NaN</td>\n",
       "      <td>NaN</td>\n",
       "      <td>NaN</td>\n",
       "      <td>NaN</td>\n",
       "      <td>2006.0</td>\n",
       "    </tr>\n",
       "    <tr>\n",
       "      <td>1</td>\n",
       "      <td>1</td>\n",
       "      <td>Operator 2</td>\n",
       "      <td>Well 2</td>\n",
       "      <td>MBH</td>\n",
       "      <td>5181.0</td>\n",
       "      <td>NaN</td>\n",
       "      <td>142</td>\n",
       "      <td>99</td>\n",
       "      <td>16</td>\n",
       "      <td>418000.0</td>\n",
       "      <td>...</td>\n",
       "      <td>NaN</td>\n",
       "      <td>660.0</td>\n",
       "      <td>27.62</td>\n",
       "      <td>NaN</td>\n",
       "      <td>NaN</td>\n",
       "      <td>NaN</td>\n",
       "      <td>NaN</td>\n",
       "      <td>NaN</td>\n",
       "      <td>NaN</td>\n",
       "      <td>2005.0</td>\n",
       "    </tr>\n",
       "    <tr>\n",
       "      <td>2</td>\n",
       "      <td>2</td>\n",
       "      <td>Operator 2</td>\n",
       "      <td>Well 3</td>\n",
       "      <td>MBH</td>\n",
       "      <td>4780.0</td>\n",
       "      <td>15.0</td>\n",
       "      <td>142</td>\n",
       "      <td>99</td>\n",
       "      <td>24</td>\n",
       "      <td>568407.0</td>\n",
       "      <td>...</td>\n",
       "      <td>NaN</td>\n",
       "      <td>660.0</td>\n",
       "      <td>11.19</td>\n",
       "      <td>OH</td>\n",
       "      <td>NaN</td>\n",
       "      <td>NaN</td>\n",
       "      <td>NaN</td>\n",
       "      <td>NaN</td>\n",
       "      <td>NaN</td>\n",
       "      <td>2006.0</td>\n",
       "    </tr>\n",
       "    <tr>\n",
       "      <td>3</td>\n",
       "      <td>3</td>\n",
       "      <td>Operator 1</td>\n",
       "      <td>Well 4</td>\n",
       "      <td>MBH</td>\n",
       "      <td>10654.0</td>\n",
       "      <td>1.0</td>\n",
       "      <td>142</td>\n",
       "      <td>99</td>\n",
       "      <td>1</td>\n",
       "      <td>845000.0</td>\n",
       "      <td>...</td>\n",
       "      <td>NaN</td>\n",
       "      <td>660.0</td>\n",
       "      <td>27.85</td>\n",
       "      <td>NaN</td>\n",
       "      <td>NaN</td>\n",
       "      <td>NaN</td>\n",
       "      <td>NaN</td>\n",
       "      <td>NaN</td>\n",
       "      <td>NaN</td>\n",
       "      <td>2007.0</td>\n",
       "    </tr>\n",
       "    <tr>\n",
       "      <td>4</td>\n",
       "      <td>4</td>\n",
       "      <td>Operator 2</td>\n",
       "      <td>Well 5</td>\n",
       "      <td>MBH</td>\n",
       "      <td>5209.0</td>\n",
       "      <td>1.0</td>\n",
       "      <td>142</td>\n",
       "      <td>99</td>\n",
       "      <td>35</td>\n",
       "      <td>297366.0</td>\n",
       "      <td>...</td>\n",
       "      <td>NaN</td>\n",
       "      <td>660.0</td>\n",
       "      <td>50.88</td>\n",
       "      <td>OH</td>\n",
       "      <td>NaN</td>\n",
       "      <td>NaN</td>\n",
       "      <td>NaN</td>\n",
       "      <td>NaN</td>\n",
       "      <td>NaN</td>\n",
       "      <td>2006.0</td>\n",
       "    </tr>\n",
       "  </tbody>\n",
       "</table>\n",
       "<p>5 rows × 30 columns</p>\n",
       "</div>"
      ],
      "text/plain": [
       "   Unnamed: 0    Operator Well Name Formation  Lateral Length  Stages  \\\n",
       "0           0  Operator 1    Well 1       MBH          5114.0    30.0   \n",
       "1           1  Operator 2    Well 2       MBH          5181.0     NaN   \n",
       "2           2  Operator 2    Well 3       MBH          4780.0    15.0   \n",
       "3           3  Operator 1    Well 4       MBH         10654.0     1.0   \n",
       "4           4  Operator 2    Well 5       MBH          5209.0     1.0   \n",
       "\n",
       "   Township   Range  Section  Total Prop, lbs  ...  Fluid Type from DI  \\\n",
       "0        141     99       10              0.0  ...                 NaN   \n",
       "1        142     99       16         418000.0  ...                 NaN   \n",
       "2        142     99       24         568407.0  ...                 NaN   \n",
       "3        142     99        1         845000.0  ...                 NaN   \n",
       "4        142     99       35         297366.0  ...                 NaN   \n",
       "\n",
       "  SPACING_CAPPED  12 month Cum Prod  Completion Type  Sleeves  P&P  \\\n",
       "0          660.0              33.55              NaN      NaN  NaN   \n",
       "1          660.0              27.62              NaN      NaN  NaN   \n",
       "2          660.0              11.19               OH      NaN  NaN   \n",
       "3          660.0              27.85              NaN      NaN  NaN   \n",
       "4          660.0              50.88               OH      NaN  NaN   \n",
       "\n",
       "   Frac Ports Repeater Ports  CT  Year Drilled  \n",
       "0         NaN            NaN NaN        2006.0  \n",
       "1         NaN            NaN NaN        2005.0  \n",
       "2         NaN            NaN NaN        2006.0  \n",
       "3         NaN            NaN NaN        2007.0  \n",
       "4         NaN            NaN NaN        2006.0  \n",
       "\n",
       "[5 rows x 30 columns]"
      ]
     },
     "execution_count": 71,
     "metadata": {},
     "output_type": "execute_result"
    }
   ],
   "source": [
    "#Print head of cleaned dataset\n",
    "DatabaseDF = pd.read_csv(\"CleanedDataset.csv\")\n",
    "DatabaseDF.head()"
   ]
  },
  {
   "cell_type": "code",
   "execution_count": 75,
   "metadata": {},
   "outputs": [],
   "source": [
    "#Replace all NaN values with string in order to do analysis\n",
    "DatabaseDF['Completion Type'] = DatabaseDF['Completion Type'].fillna(0)\n",
    "DatabaseDF['Completion Type'] = DatabaseDF['Completion Type'].replace(to_replace = 0, value = 'zero')"
   ]
  },
  {
   "cell_type": "code",
   "execution_count": 76,
   "metadata": {},
   "outputs": [
    {
     "data": {
      "text/html": [
       "<div>\n",
       "<style scoped>\n",
       "    .dataframe tbody tr th:only-of-type {\n",
       "        vertical-align: middle;\n",
       "    }\n",
       "\n",
       "    .dataframe tbody tr th {\n",
       "        vertical-align: top;\n",
       "    }\n",
       "\n",
       "    .dataframe thead th {\n",
       "        text-align: right;\n",
       "    }\n",
       "</style>\n",
       "<table border=\"1\" class=\"dataframe\">\n",
       "  <thead>\n",
       "    <tr style=\"text-align: right;\">\n",
       "      <th></th>\n",
       "      <th>Unnamed: 0</th>\n",
       "      <th>Operator</th>\n",
       "      <th>Well Name</th>\n",
       "      <th>Formation</th>\n",
       "      <th>Lateral Length</th>\n",
       "      <th>Stages</th>\n",
       "      <th>Township</th>\n",
       "      <th>Range</th>\n",
       "      <th>Section</th>\n",
       "      <th>Total Prop, lbs</th>\n",
       "      <th>...</th>\n",
       "      <th>Fluid Type from DI</th>\n",
       "      <th>SPACING_CAPPED</th>\n",
       "      <th>12 month Cum Prod</th>\n",
       "      <th>Completion Type</th>\n",
       "      <th>Sleeves</th>\n",
       "      <th>P&amp;P</th>\n",
       "      <th>Frac Ports</th>\n",
       "      <th>Repeater Ports</th>\n",
       "      <th>CT</th>\n",
       "      <th>Year Drilled</th>\n",
       "    </tr>\n",
       "  </thead>\n",
       "  <tbody>\n",
       "    <tr>\n",
       "      <td>0</td>\n",
       "      <td>0</td>\n",
       "      <td>Operator 1</td>\n",
       "      <td>Well 1</td>\n",
       "      <td>MBH</td>\n",
       "      <td>5114.0</td>\n",
       "      <td>30.0</td>\n",
       "      <td>141</td>\n",
       "      <td>99</td>\n",
       "      <td>10</td>\n",
       "      <td>0.0</td>\n",
       "      <td>...</td>\n",
       "      <td>NaN</td>\n",
       "      <td>660.0</td>\n",
       "      <td>33.55</td>\n",
       "      <td>zero</td>\n",
       "      <td>NaN</td>\n",
       "      <td>NaN</td>\n",
       "      <td>NaN</td>\n",
       "      <td>NaN</td>\n",
       "      <td>NaN</td>\n",
       "      <td>2006.0</td>\n",
       "    </tr>\n",
       "    <tr>\n",
       "      <td>1</td>\n",
       "      <td>1</td>\n",
       "      <td>Operator 2</td>\n",
       "      <td>Well 2</td>\n",
       "      <td>MBH</td>\n",
       "      <td>5181.0</td>\n",
       "      <td>NaN</td>\n",
       "      <td>142</td>\n",
       "      <td>99</td>\n",
       "      <td>16</td>\n",
       "      <td>418000.0</td>\n",
       "      <td>...</td>\n",
       "      <td>NaN</td>\n",
       "      <td>660.0</td>\n",
       "      <td>27.62</td>\n",
       "      <td>zero</td>\n",
       "      <td>NaN</td>\n",
       "      <td>NaN</td>\n",
       "      <td>NaN</td>\n",
       "      <td>NaN</td>\n",
       "      <td>NaN</td>\n",
       "      <td>2005.0</td>\n",
       "    </tr>\n",
       "    <tr>\n",
       "      <td>2</td>\n",
       "      <td>2</td>\n",
       "      <td>Operator 2</td>\n",
       "      <td>Well 3</td>\n",
       "      <td>MBH</td>\n",
       "      <td>4780.0</td>\n",
       "      <td>15.0</td>\n",
       "      <td>142</td>\n",
       "      <td>99</td>\n",
       "      <td>24</td>\n",
       "      <td>568407.0</td>\n",
       "      <td>...</td>\n",
       "      <td>NaN</td>\n",
       "      <td>660.0</td>\n",
       "      <td>11.19</td>\n",
       "      <td>OH</td>\n",
       "      <td>NaN</td>\n",
       "      <td>NaN</td>\n",
       "      <td>NaN</td>\n",
       "      <td>NaN</td>\n",
       "      <td>NaN</td>\n",
       "      <td>2006.0</td>\n",
       "    </tr>\n",
       "    <tr>\n",
       "      <td>3</td>\n",
       "      <td>3</td>\n",
       "      <td>Operator 1</td>\n",
       "      <td>Well 4</td>\n",
       "      <td>MBH</td>\n",
       "      <td>10654.0</td>\n",
       "      <td>1.0</td>\n",
       "      <td>142</td>\n",
       "      <td>99</td>\n",
       "      <td>1</td>\n",
       "      <td>845000.0</td>\n",
       "      <td>...</td>\n",
       "      <td>NaN</td>\n",
       "      <td>660.0</td>\n",
       "      <td>27.85</td>\n",
       "      <td>zero</td>\n",
       "      <td>NaN</td>\n",
       "      <td>NaN</td>\n",
       "      <td>NaN</td>\n",
       "      <td>NaN</td>\n",
       "      <td>NaN</td>\n",
       "      <td>2007.0</td>\n",
       "    </tr>\n",
       "    <tr>\n",
       "      <td>4</td>\n",
       "      <td>4</td>\n",
       "      <td>Operator 2</td>\n",
       "      <td>Well 5</td>\n",
       "      <td>MBH</td>\n",
       "      <td>5209.0</td>\n",
       "      <td>1.0</td>\n",
       "      <td>142</td>\n",
       "      <td>99</td>\n",
       "      <td>35</td>\n",
       "      <td>297366.0</td>\n",
       "      <td>...</td>\n",
       "      <td>NaN</td>\n",
       "      <td>660.0</td>\n",
       "      <td>50.88</td>\n",
       "      <td>OH</td>\n",
       "      <td>NaN</td>\n",
       "      <td>NaN</td>\n",
       "      <td>NaN</td>\n",
       "      <td>NaN</td>\n",
       "      <td>NaN</td>\n",
       "      <td>2006.0</td>\n",
       "    </tr>\n",
       "  </tbody>\n",
       "</table>\n",
       "<p>5 rows × 30 columns</p>\n",
       "</div>"
      ],
      "text/plain": [
       "   Unnamed: 0    Operator Well Name Formation  Lateral Length  Stages  \\\n",
       "0           0  Operator 1    Well 1       MBH          5114.0    30.0   \n",
       "1           1  Operator 2    Well 2       MBH          5181.0     NaN   \n",
       "2           2  Operator 2    Well 3       MBH          4780.0    15.0   \n",
       "3           3  Operator 1    Well 4       MBH         10654.0     1.0   \n",
       "4           4  Operator 2    Well 5       MBH          5209.0     1.0   \n",
       "\n",
       "   Township   Range  Section  Total Prop, lbs  ...  Fluid Type from DI  \\\n",
       "0        141     99       10              0.0  ...                 NaN   \n",
       "1        142     99       16         418000.0  ...                 NaN   \n",
       "2        142     99       24         568407.0  ...                 NaN   \n",
       "3        142     99        1         845000.0  ...                 NaN   \n",
       "4        142     99       35         297366.0  ...                 NaN   \n",
       "\n",
       "  SPACING_CAPPED  12 month Cum Prod  Completion Type  Sleeves  P&P  \\\n",
       "0          660.0              33.55             zero      NaN  NaN   \n",
       "1          660.0              27.62             zero      NaN  NaN   \n",
       "2          660.0              11.19               OH      NaN  NaN   \n",
       "3          660.0              27.85             zero      NaN  NaN   \n",
       "4          660.0              50.88               OH      NaN  NaN   \n",
       "\n",
       "   Frac Ports Repeater Ports  CT  Year Drilled  \n",
       "0         NaN            NaN NaN        2006.0  \n",
       "1         NaN            NaN NaN        2005.0  \n",
       "2         NaN            NaN NaN        2006.0  \n",
       "3         NaN            NaN NaN        2007.0  \n",
       "4         NaN            NaN NaN        2006.0  \n",
       "\n",
       "[5 rows x 30 columns]"
      ]
     },
     "execution_count": 76,
     "metadata": {},
     "output_type": "execute_result"
    }
   ],
   "source": [
    "DatabaseDF.head()"
   ]
  },
  {
   "cell_type": "markdown",
   "metadata": {},
   "source": [
    "# Plotting completion and formation types and their counts simply to visualize the data."
   ]
  },
  {
   "cell_type": "code",
   "execution_count": 77,
   "metadata": {},
   "outputs": [
    {
     "data": {
      "text/plain": [
       "array(['zero', 'OH', 'Sleeves', 'P & P', 'Sleeves and P & P', 'Screen',\n",
       "       'Cemented Liner', 'Perforated Liner', 'Frac Ports',\n",
       "       'Frac Ports and P & P', 'Frac Ports and Repeater Ports', 'CT',\n",
       "       'P & P and CT', 'Repeater Ports and P & P'], dtype=object)"
      ]
     },
     "execution_count": 77,
     "metadata": {},
     "output_type": "execute_result"
    }
   ],
   "source": [
    "#Print all unique completion types\n",
    "DatabaseDF['Completion Type'].unique()"
   ]
  },
  {
   "cell_type": "code",
   "execution_count": 78,
   "metadata": {},
   "outputs": [],
   "source": [
    "#Count number of occurrences for each completion type\n",
    "def count_compl(compare):\n",
    "    count = 0\n",
    "    for item in DatabaseDF['Completion Type']:\n",
    "        if item == compare:\n",
    "            count = count + 1\n",
    "    return count"
   ]
  },
  {
   "cell_type": "code",
   "execution_count": 81,
   "metadata": {},
   "outputs": [],
   "source": [
    "#Empty list for completion type counts\n",
    "list_compl=[]\n",
    "\n",
    "#List of completion types\n",
    "completion_types = ['zero', 'OH', 'Sleeves', 'P & P', 'Sleeves and P & P', 'Screen',\n",
    "       'Cemented Liner', 'Perforated Liner', 'Frac Ports',\n",
    "       'Frac Ports and P & P', 'Frac Ports and Repeater Ports', 'CT',\n",
    "       'P & P and CT', 'Repeater Ports and P & P']\n",
    "\n",
    "#Function to create list for completion type counts\n",
    "def create_list(completion_types):\n",
    "    count = 0\n",
    "    for item in completion_types:\n",
    "        list_compl.append(count_compl(item))\n",
    "        count = count + 1\n",
    "    return list_compl"
   ]
  },
  {
   "cell_type": "code",
   "execution_count": 82,
   "metadata": {},
   "outputs": [],
   "source": [
    "#Final list for completion type counts\n",
    "type_count = create_list(completion_types)"
   ]
  },
  {
   "cell_type": "code",
   "execution_count": 83,
   "metadata": {},
   "outputs": [],
   "source": [
    "#Create dataframe for Pareto Chart\n",
    "df = pd.DataFrame({\n",
    "    'Completion Type': completion_types,\n",
    "    'Count': type_count[0:14]\n",
    "})"
   ]
  },
  {
   "cell_type": "code",
   "execution_count": 84,
   "metadata": {},
   "outputs": [],
   "source": [
    "#Function to plot pareto chart\n",
    "\n",
    "def pareto_plot(df, x=None, y=None, title=None, show_pct_y=False, pct_format='{0:.0%}'):\n",
    "    xlabel = x\n",
    "    ylabel = y\n",
    "    tmp = df.sort_values(y, ascending=False)\n",
    "    x = tmp[x].values\n",
    "    y = tmp[y].values\n",
    "    weights = y / y.sum()\n",
    "    cumsum = weights.cumsum()\n",
    "    \n",
    "    fig, ax1 = plt.subplots()\n",
    "    ax1.bar(x, y)\n",
    "    ax1.set_xlabel(xlabel)\n",
    "    ax1.set_ylabel(ylabel)\n",
    "\n",
    "    ax2 = ax1.twinx()\n",
    "    ax2.plot(x, cumsum, '-ro', alpha=0.5)\n",
    "    ax2.set_ylabel('', color='r')\n",
    "    ax2.tick_params('y', colors='r')\n",
    "    \n",
    "    vals = ax2.get_yticks()\n",
    "    ax2.set_yticklabels(['{:,.2%}'.format(x) for x in vals])\n",
    "\n",
    "    # hide y-labels on right side\n",
    "    if not show_pct_y:\n",
    "        ax2.set_yticks([])\n",
    "    \n",
    "    formatted_weights = [pct_format.format(x) for x in cumsum]\n",
    "    for i, txt in enumerate(formatted_weights):\n",
    "        ax2.annotate(txt, (x[i], cumsum[i]), fontweight='heavy')    \n",
    "    \n",
    "    if title:\n",
    "        plt.title(title)\n",
    "    \n",
    "    plt.tight_layout()\n",
    "    plt.show()"
   ]
  },
  {
   "cell_type": "code",
   "execution_count": 85,
   "metadata": {},
   "outputs": [
    {
     "data": {
      "image/png": "[encoded data removed]",
      "text/plain": [
       "<Figure size 432x288 with 2 Axes>"
      ]
     },
     "metadata": {
      "needs_background": "light"
     },
     "output_type": "display_data"
    }
   ],
   "source": [
    "#Plot pareto chart for each completion type and its counts\n",
    "pareto_plot(df, x='Completion Type', y='Count', title='Completion Type')"
   ]
  },
  {
   "cell_type": "markdown",
   "metadata": {},
   "source": [
    "The P&P and Sleeves completion types seem to be the most frequent in the dataset, where P&P accounts for 45% of the completions and Sleeves accounts for 39% of the completions."
   ]
  },
  {
   "cell_type": "code",
   "execution_count": 86,
   "metadata": {},
   "outputs": [
    {
     "data": {
      "text/plain": [
       "array(['MBH', 'TFH', 'MBH/TFH', 'TF2', 'TF4', 'TF3', nan, 'UTFH', 'TF1',\n",
       "       'MTFH', 'TFSH', 'TF2.5'], dtype=object)"
      ]
     },
     "execution_count": 86,
     "metadata": {},
     "output_type": "execute_result"
    }
   ],
   "source": [
    "#Print all unique formations\n",
    "DatabaseDF['Formation'].unique()"
   ]
  },
  {
   "cell_type": "code",
   "execution_count": 87,
   "metadata": {},
   "outputs": [],
   "source": [
    "#Count number of occurrences for each formation type\n",
    "def count_form(compare):\n",
    "    count = 0\n",
    "    for item in DatabaseDF['Formation']:\n",
    "        if item == compare:\n",
    "            count = count + 1\n",
    "    return count"
   ]
  },
  {
   "cell_type": "code",
   "execution_count": 88,
   "metadata": {},
   "outputs": [],
   "source": [
    "#Empty list for formation type counts\n",
    "list_form=[]\n",
    "\n",
    "#List of formation types\n",
    "formation_types = ['MBH', 'TFH', 'MBH/TFH', 'TF2', 'TF4', 'TF3','UTFH', 'TF1',\n",
    "       'MTFH', 'TFSH', 'TF2.5']\n",
    "\n",
    "#Function to create list for formation type counts\n",
    "def create_list(formation_types):\n",
    "    count = 0\n",
    "    for item in formation_types:\n",
    "        list_form.append(count_form(item))\n",
    "        count = count + 1\n",
    "    return list_form"
   ]
  },
  {
   "cell_type": "code",
   "execution_count": 89,
   "metadata": {},
   "outputs": [],
   "source": [
    "#Final list for formation type counts\n",
    "form_count = create_list(formation_types)"
   ]
  },
  {
   "cell_type": "code",
   "execution_count": 90,
   "metadata": {},
   "outputs": [],
   "source": [
    "#Create dataframe for Pareto Chart\n",
    "df = pd.DataFrame({\n",
    "    'Formation Type': formation_types,\n",
    "    'Count': form_count\n",
    "})"
   ]
  },
  {
   "cell_type": "code",
   "execution_count": 91,
   "metadata": {},
   "outputs": [
    {
     "data": {
      "image/png": "[encoded data removed]",
      "text/plain": [
       "<Figure size 432x288 with 2 Axes>"
      ]
     },
     "metadata": {
      "needs_background": "light"
     },
     "output_type": "display_data"
    }
   ],
   "source": [
    "#Plot pareto chart for each formation type and its counts\n",
    "pareto_plot(df, x='Formation Type', y='Count', title='Formation Type')"
   ]
  },
  {
   "cell_type": "markdown",
   "metadata": {},
   "source": [
    "The MBH and TFH formation types seem to be the most frequent in the dataset, where MBH accounts for 65% of the formations and TFH accounts for 33% of the formations."
   ]
  },
  {
   "cell_type": "markdown",
   "metadata": {},
   "source": [
    "# Plotting Pareto Chart for both the completion types and formation types and how the types affect cumulative oil production."
   ]
  },
  {
   "cell_type": "code",
   "execution_count": 93,
   "metadata": {},
   "outputs": [
    {
     "data": {
      "text/html": [
       "<div>\n",
       "<style scoped>\n",
       "    .dataframe tbody tr th:only-of-type {\n",
       "        vertical-align: middle;\n",
       "    }\n",
       "\n",
       "    .dataframe tbody tr th {\n",
       "        vertical-align: top;\n",
       "    }\n",
       "\n",
       "    .dataframe thead th {\n",
       "        text-align: right;\n",
       "    }\n",
       "</style>\n",
       "<table border=\"1\" class=\"dataframe\">\n",
       "  <thead>\n",
       "    <tr style=\"text-align: right;\">\n",
       "      <th></th>\n",
       "      <th>Formation</th>\n",
       "      <th>12 month Cum Prod</th>\n",
       "      <th>Completion Type</th>\n",
       "    </tr>\n",
       "  </thead>\n",
       "  <tbody>\n",
       "    <tr>\n",
       "      <td>0</td>\n",
       "      <td>MBH</td>\n",
       "      <td>33.55</td>\n",
       "      <td>zero</td>\n",
       "    </tr>\n",
       "    <tr>\n",
       "      <td>1</td>\n",
       "      <td>MBH</td>\n",
       "      <td>27.62</td>\n",
       "      <td>zero</td>\n",
       "    </tr>\n",
       "    <tr>\n",
       "      <td>2</td>\n",
       "      <td>MBH</td>\n",
       "      <td>11.19</td>\n",
       "      <td>OH</td>\n",
       "    </tr>\n",
       "    <tr>\n",
       "      <td>3</td>\n",
       "      <td>MBH</td>\n",
       "      <td>27.85</td>\n",
       "      <td>zero</td>\n",
       "    </tr>\n",
       "    <tr>\n",
       "      <td>4</td>\n",
       "      <td>MBH</td>\n",
       "      <td>50.88</td>\n",
       "      <td>OH</td>\n",
       "    </tr>\n",
       "  </tbody>\n",
       "</table>\n",
       "</div>"
      ],
      "text/plain": [
       "  Formation  12 month Cum Prod Completion Type\n",
       "0       MBH              33.55            zero\n",
       "1       MBH              27.62            zero\n",
       "2       MBH              11.19              OH\n",
       "3       MBH              27.85            zero\n",
       "4       MBH              50.88              OH"
      ]
     },
     "execution_count": 93,
     "metadata": {},
     "output_type": "execute_result"
    }
   ],
   "source": [
    "#Create dataframe to work with for pareto chart\n",
    "pareto_df = pd.DataFrame(DatabaseDF['Formation'])\n",
    "pareto_df['12 month Cum Prod'] = DatabaseDF['12 month Cum Prod']\n",
    "pareto_df['Completion Type'] = DatabaseDF['Completion Type']\n",
    "pareto_df.head()"
   ]
  },
  {
   "cell_type": "code",
   "execution_count": 94,
   "metadata": {},
   "outputs": [],
   "source": [
    "#Function to calculate value of cumulative oil production associated with each type of formation\n",
    "def oil_prod(formation_string):\n",
    "    count = 0\n",
    "    oil_production = 0\n",
    "    #Calculate number rows in dataframe\n",
    "    num_rows = len(pareto_df.index) \n",
    "    for item in range(num_rows - 1):\n",
    "        if pareto_df.at[item,'Formation'] == formation_string:\n",
    "            count += 1\n",
    "            oil_production += pareto_df.at[item,'12 month Cum Prod']\n",
    "    return oil_production"
   ]
  },
  {
   "cell_type": "code",
   "execution_count": 95,
   "metadata": {},
   "outputs": [],
   "source": [
    "#Append oil production values to list \n",
    "form_oilprod = []\n",
    "for i in formation_types:\n",
    "    form_oilprod.append(oil_prod(i))"
   ]
  },
  {
   "cell_type": "code",
   "execution_count": 96,
   "metadata": {},
   "outputs": [],
   "source": [
    "#Create dataframe for Pareto Chart with formation types\n",
    "df = pd.DataFrame({\n",
    "    'Formation Type': formation_types,\n",
    "    'Oil Production': form_oilprod\n",
    "})"
   ]
  },
  {
   "cell_type": "code",
   "execution_count": 97,
   "metadata": {},
   "outputs": [
    {
     "data": {
      "image/png": "[encoded data removed]",
      "text/plain": [
       "<Figure size 432x288 with 2 Axes>"
      ]
     },
     "metadata": {
      "needs_background": "light"
     },
     "output_type": "display_data"
    }
   ],
   "source": [
    "#Plot pareto chart for each formation type and how they are related to total oil production\n",
    "pareto_plot(df, x='Formation Type', y='Oil Production', title='Formation Type vs. Oil Production')"
   ]
  },
  {
   "cell_type": "markdown",
   "metadata": {},
   "source": [
    "The MBH and TFH formation types seem to be the most impactful on oil production in the dataset, where the MBH formation is associated with 67% of the cumulative production and TFH is associated with 31% of the cumulative production."
   ]
  },
  {
   "cell_type": "code",
   "execution_count": 98,
   "metadata": {},
   "outputs": [],
   "source": [
    "#Function to calculate value of cumulative oil production associated with each completion type\n",
    "def oil_prod(completion_types):\n",
    "    count = 0\n",
    "    oil_production = 0\n",
    "    num_rows = len(pareto_df.index) \n",
    "    for item in range(num_rows - 1):\n",
    "        if pareto_df.at[item,'Completion Type'] == completion_types:\n",
    "            count += 1\n",
    "            oil_production += pareto_df.at[item,'12 month Cum Prod']\n",
    "    return oil_production"
   ]
  },
  {
   "cell_type": "code",
   "execution_count": 99,
   "metadata": {},
   "outputs": [],
   "source": [
    "#Append oil production values to list \n",
    "compl_oilprod = []\n",
    "for i in completion_types:\n",
    "    compl_oilprod.append(oil_prod(i))"
   ]
  },
  {
   "cell_type": "code",
   "execution_count": 100,
   "metadata": {},
   "outputs": [],
   "source": [
    "#Create dataframe for Pareto Chart with completion types\n",
    "df = pd.DataFrame({\n",
    "    'Completion Type': completion_types,\n",
    "    'Oil Production': compl_oilprod\n",
    "})"
   ]
  },
  {
   "cell_type": "code",
   "execution_count": 101,
   "metadata": {
    "scrolled": true
   },
   "outputs": [
    {
     "data": {
      "image/png": "[encoded data removed]",
      "text/plain": [
       "<Figure size 432x288 with 2 Axes>"
      ]
     },
     "metadata": {
      "needs_background": "light"
     },
     "output_type": "display_data"
    }
   ],
   "source": [
    "#Plot pareto chart for each completion type and how they are related to total oil production\n",
    "pareto_plot(df, x='Completion Type', y='Oil Production', title='Completion Type vs. Oil Productio')"
   ]
  },
  {
   "cell_type": "markdown",
   "metadata": {},
   "source": [
    "The P&P and Sleeves completion types seem to be the most impactful on the oil production in the dataset, where P&P is associated with for 50% of the cumulative production and Sleeves is associated with 38% of the cumulative production."
   ]
  },
  {
   "cell_type": "markdown",
   "metadata": {},
   "source": [
    "# ANOVA Correlation:"
   ]
  },
  {
   "cell_type": "markdown",
   "metadata": {},
   "source": [
    "The SS value is the total sum of squares of deviations of all samples from the mean. It represents the total variation of all of the samples/observations."
   ]
  },
  {
   "cell_type": "markdown",
   "metadata": {},
   "source": [
    "The DF value is the sum of individual degrees of freedom for each sample; the degrees of freedom represents the number of independent values which can be assigned to a statistical distribution that can vary."
   ]
  },
  {
   "cell_type": "markdown",
   "metadata": {},
   "source": [
    "The MS value is the mean sum of squares due to the source; they are used to determine whether factors are significant. The treatment mean square is found by dividing SS by DF; it represent variation between sample means. The mean square error (MSE) is calculated by dividing SS of the residual error by DF; it represents variation within samples."
   ]
  },
  {
   "cell_type": "markdown",
   "metadata": {},
   "source": [
    "The F-statistic from the F-test is associated with the DF value. It based on the ratio of mean squares that are expected to be equal under the null hypothesis. In addition, it assesses the equality of variances. The more variability there is, the higher the F-statistic is."
   ]
  },
  {
   "cell_type": "markdown",
   "metadata": {},
   "source": [
    "The p-unc value represents the uncorrected p-values."
   ]
  },
  {
   "cell_type": "markdown",
   "metadata": {},
   "source": [
    "The np2 value represents the partial eta-square effect sizes. It describes a proportion of variability in a sample. It is a ratio between the SS of a factorr and SS of a specfic error term."
   ]
  },
  {
   "cell_type": "code",
   "execution_count": 102,
   "metadata": {},
   "outputs": [
    {
     "data": {
      "text/html": [
       "<div>\n",
       "<style scoped>\n",
       "    .dataframe tbody tr th:only-of-type {\n",
       "        vertical-align: middle;\n",
       "    }\n",
       "\n",
       "    .dataframe tbody tr th {\n",
       "        vertical-align: top;\n",
       "    }\n",
       "\n",
       "    .dataframe thead th {\n",
       "        text-align: right;\n",
       "    }\n",
       "</style>\n",
       "<table border=\"1\" class=\"dataframe\">\n",
       "  <thead>\n",
       "    <tr style=\"text-align: right;\">\n",
       "      <th></th>\n",
       "      <th>Completion Type</th>\n",
       "      <th>Cumulative Production</th>\n",
       "      <th>value</th>\n",
       "    </tr>\n",
       "  </thead>\n",
       "  <tbody>\n",
       "    <tr>\n",
       "      <td>0</td>\n",
       "      <td>zero</td>\n",
       "      <td>12 month Cum Prod</td>\n",
       "      <td>33.55</td>\n",
       "    </tr>\n",
       "    <tr>\n",
       "      <td>1</td>\n",
       "      <td>zero</td>\n",
       "      <td>12 month Cum Prod</td>\n",
       "      <td>27.62</td>\n",
       "    </tr>\n",
       "    <tr>\n",
       "      <td>2</td>\n",
       "      <td>OH</td>\n",
       "      <td>12 month Cum Prod</td>\n",
       "      <td>11.19</td>\n",
       "    </tr>\n",
       "    <tr>\n",
       "      <td>3</td>\n",
       "      <td>zero</td>\n",
       "      <td>12 month Cum Prod</td>\n",
       "      <td>27.85</td>\n",
       "    </tr>\n",
       "    <tr>\n",
       "      <td>4</td>\n",
       "      <td>OH</td>\n",
       "      <td>12 month Cum Prod</td>\n",
       "      <td>50.88</td>\n",
       "    </tr>\n",
       "  </tbody>\n",
       "</table>\n",
       "</div>"
      ],
      "text/plain": [
       "  Completion Type Cumulative Production  value\n",
       "0            zero     12 month Cum Prod  33.55\n",
       "1            zero     12 month Cum Prod  27.62\n",
       "2              OH     12 month Cum Prod  11.19\n",
       "3            zero     12 month Cum Prod  27.85\n",
       "4              OH     12 month Cum Prod  50.88"
      ]
     },
     "execution_count": 102,
     "metadata": {},
     "output_type": "execute_result"
    }
   ],
   "source": [
    "#Prepare data for ANOVA calculations for Completion Type\n",
    "#Use pd.melt function to put data into readable format\n",
    "d_melt1 = pd.melt(pareto_df, id_vars=['Completion Type'], value_vars=['12 month Cum Prod'])\n",
    "d_melt1.columns = ['Completion Type', 'Cumulative Production', 'value']\n",
    "d_melt1.head()"
   ]
  },
  {
   "cell_type": "code",
   "execution_count": 103,
   "metadata": {},
   "outputs": [
    {
     "data": {
      "text/plain": [
       "<matplotlib.axes._subplots.AxesSubplot at 0x131b4c510>"
      ]
     },
     "execution_count": 103,
     "metadata": {},
     "output_type": "execute_result"
    },
    {
     "data": {
      "image/png": "[encoded data removed]",
      "text/plain": [
       "<Figure size 432x288 with 1 Axes>"
      ]
     },
     "metadata": {
      "needs_background": "light"
     },
     "output_type": "display_data"
    }
   ],
   "source": [
    "#Plot boxplot that shows distribution of production for each completion type\n",
    "sns.boxplot(x=\"Completion Type\", y=\"value\", hue=\"Cumulative Production\", data=d_melt1) "
   ]
  },
  {
   "cell_type": "code",
   "execution_count": 46,
   "metadata": {},
   "outputs": [
    {
     "name": "stdout",
     "output_type": "stream",
     "text": [
      "            Source            SS     DF             MS          F  \\\n",
      "0  Completion Type  1.273839e+06     12  106153.281558  38.717811   \n",
      "1           Within  2.792439e+07  10185    2741.717021        NaN   \n",
      "\n",
      "          p-unc       np2  \n",
      "0  1.020588e-89  0.043627  \n",
      "1           NaN       NaN  \n"
     ]
    }
   ],
   "source": [
    "#Calculate ANOVA correlation for completion type and cumulative oil production\n",
    "aov_compltype = pg.anova(data=d_melt1, dv='value', between='Completion Type', detailed=True)\n",
    "print(aov_compltype)"
   ]
  },
  {
   "cell_type": "code",
   "execution_count": 104,
   "metadata": {},
   "outputs": [
    {
     "data": {
      "text/plain": [
       "<matplotlib.axes._subplots.AxesSubplot at 0x13194f950>"
      ]
     },
     "execution_count": 104,
     "metadata": {},
     "output_type": "execute_result"
    },
    {
     "data": {
      "image/png": "[encoded data removed]",
      "text/plain": [
       "<Figure size 432x288 with 1 Axes>"
      ]
     },
     "metadata": {
      "needs_background": "light"
     },
     "output_type": "display_data"
    }
   ],
   "source": [
    "#Plot boxplot that shows distribution of production for each completion type\n",
    "sns.boxplot(x=\"Formation\", y=\"value\", hue=\"Cumulative Production\", data=d_melt2) "
   ]
  },
  {
   "cell_type": "code",
   "execution_count": 105,
   "metadata": {},
   "outputs": [
    {
     "data": {
      "text/html": [
       "<div>\n",
       "<style scoped>\n",
       "    .dataframe tbody tr th:only-of-type {\n",
       "        vertical-align: middle;\n",
       "    }\n",
       "\n",
       "    .dataframe tbody tr th {\n",
       "        vertical-align: top;\n",
       "    }\n",
       "\n",
       "    .dataframe thead th {\n",
       "        text-align: right;\n",
       "    }\n",
       "</style>\n",
       "<table border=\"1\" class=\"dataframe\">\n",
       "  <thead>\n",
       "    <tr style=\"text-align: right;\">\n",
       "      <th></th>\n",
       "      <th>Formation</th>\n",
       "      <th>Cumulative Production</th>\n",
       "      <th>value</th>\n",
       "    </tr>\n",
       "  </thead>\n",
       "  <tbody>\n",
       "    <tr>\n",
       "      <td>0</td>\n",
       "      <td>MBH</td>\n",
       "      <td>12 month Cum Prod</td>\n",
       "      <td>33.55</td>\n",
       "    </tr>\n",
       "    <tr>\n",
       "      <td>1</td>\n",
       "      <td>MBH</td>\n",
       "      <td>12 month Cum Prod</td>\n",
       "      <td>27.62</td>\n",
       "    </tr>\n",
       "    <tr>\n",
       "      <td>2</td>\n",
       "      <td>MBH</td>\n",
       "      <td>12 month Cum Prod</td>\n",
       "      <td>11.19</td>\n",
       "    </tr>\n",
       "    <tr>\n",
       "      <td>3</td>\n",
       "      <td>MBH</td>\n",
       "      <td>12 month Cum Prod</td>\n",
       "      <td>27.85</td>\n",
       "    </tr>\n",
       "    <tr>\n",
       "      <td>4</td>\n",
       "      <td>MBH</td>\n",
       "      <td>12 month Cum Prod</td>\n",
       "      <td>50.88</td>\n",
       "    </tr>\n",
       "  </tbody>\n",
       "</table>\n",
       "</div>"
      ],
      "text/plain": [
       "  Formation Cumulative Production  value\n",
       "0       MBH     12 month Cum Prod  33.55\n",
       "1       MBH     12 month Cum Prod  27.62\n",
       "2       MBH     12 month Cum Prod  11.19\n",
       "3       MBH     12 month Cum Prod  27.85\n",
       "4       MBH     12 month Cum Prod  50.88"
      ]
     },
     "execution_count": 105,
     "metadata": {},
     "output_type": "execute_result"
    }
   ],
   "source": [
    "#Prepare data for ANOVA calculations for Formation Type\n",
    "#Use pd.melt function to put data into readable format\n",
    "d_melt2 = pd.melt(pareto_df, id_vars=['Formation'], value_vars=['12 month Cum Prod'])\n",
    "d_melt2.columns = ['Formation', 'Cumulative Production', 'value']\n",
    "d_melt2.head()"
   ]
  },
  {
   "cell_type": "code",
   "execution_count": 106,
   "metadata": {},
   "outputs": [
    {
     "name": "stdout",
     "output_type": "stream",
     "text": [
      "      Source            SS     DF            MS          F         p-unc  \\\n",
      "0  Formation  3.724620e+05     10  37246.195727  12.848641  1.325887e-22   \n",
      "1     Within  3.141476e+07  10837   2898.843110        NaN           NaN   \n",
      "\n",
      "        np2  \n",
      "0  0.011717  \n",
      "1       NaN  \n"
     ]
    }
   ],
   "source": [
    "aov_formtype = pg.anova(data=d_melt2, dv='value', between='Formation', detailed=True)\n",
    "print(aov_formtype)"
   ]
  },
  {
   "cell_type": "markdown",
   "metadata": {},
   "source": [
    "This model seems to have low deviation from the mean of all of the observations/samples but has a high variance value. "
   ]
  },
  {
   "cell_type": "markdown",
   "metadata": {},
   "source": [
    "A Pareto Chart may not be extremely successful with the features tested above, but it may be more successful with other variables. It has potential and can be helpful when doing dimensionality reduction and feature selection, since it prioritizes the most impactful variables."
   ]
  },
  {
   "cell_type": "code",
   "execution_count": null,
   "metadata": {},
   "outputs": [],
   "source": []
  },
  {
   "cell_type": "code",
   "execution_count": null,
   "metadata": {},
   "outputs": [],
   "source": []
  },
  {
   "cell_type": "code",
   "execution_count": null,
   "metadata": {},
   "outputs": [],
   "source": []
  },
  {
   "cell_type": "code",
   "execution_count": null,
   "metadata": {},
   "outputs": [],
   "source": []
  },
  {
   "cell_type": "code",
   "execution_count": null,
   "metadata": {},
   "outputs": [],
   "source": []
  },
  {
   "cell_type": "code",
   "execution_count": null,
   "metadata": {},
   "outputs": [],
   "source": []
  },
  {
   "cell_type": "code",
   "execution_count": null,
   "metadata": {},
   "outputs": [],
   "source": []
  },
  {
   "cell_type": "code",
   "execution_count": null,
   "metadata": {},
   "outputs": [],
   "source": []
  },
  {
   "cell_type": "code",
   "execution_count": null,
   "metadata": {},
   "outputs": [],
   "source": []
  },
  {
   "cell_type": "code",
   "execution_count": null,
   "metadata": {},
   "outputs": [],
   "source": []
  }
 ],
 "metadata": {
  "kernelspec": {
   "display_name": "Python 3",
   "language": "python",
   "name": "python3"
  },
  "language_info": {
   "codemirror_mode": {
    "name": "ipython",
    "version": 3
   },
   "file_extension": ".py",
   "mimetype": "text/x-python",
   "name": "python",
   "nbconvert_exporter": "python",
   "pygments_lexer": "ipython3",
   "version": "3.7.4"
  }
 },
 "nbformat": 4,
 "nbformat_minor": 2
}
