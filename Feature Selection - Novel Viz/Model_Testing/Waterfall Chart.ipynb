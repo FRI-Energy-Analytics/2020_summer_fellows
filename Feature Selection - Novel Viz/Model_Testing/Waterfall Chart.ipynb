{
 "cells": [
  {
   "cell_type": "code",
   "execution_count": 8,
   "metadata": {},
   "outputs": [],
   "source": [
    "import numpy as np\n",
    "import pandas as pd\n",
    "import matplotlib.pyplot as plt\n",
    "%matplotlib inline"
   ]
  },
  {
   "cell_type": "code",
   "execution_count": 10,
   "metadata": {},
   "outputs": [
    {
     "output_type": "execute_result",
     "data": {
      "text/plain": "' This does not import on all out devices. Try some other way to get graph '"
     },
     "metadata": {},
     "execution_count": 10
    }
   ],
   "source": [
    "# import waterfall_chart\n",
    "\n",
    "\"\"\" This does not import on all out devices. Try some other way to get graph \"\"\""
   ]
  },
  {
   "cell_type": "code",
   "execution_count": 4,
   "metadata": {},
   "outputs": [
    {
     "output_type": "execute_result",
     "data": {
      "text/plain": "   Unnamed: 0    Operator Well Name Formation  Lateral Length  Stages  \\\n0           0  Operator 1    Well 1       MBH          5114.0    30.0   \n1           1  Operator 2    Well 2       MBH          5181.0     NaN   \n2           2  Operator 2    Well 3       MBH          4780.0    15.0   \n3           3  Operator 1    Well 4       MBH         10654.0     1.0   \n4           4  Operator 2    Well 5       MBH          5209.0     1.0   \n\n   Township   Range  Section  Total Prop, lbs  ...  Fluid Type from DI  \\\n0        141     99       10              0.0  ...                 NaN   \n1        142     99       16         418000.0  ...                 NaN   \n2        142     99       24         568407.0  ...                 NaN   \n3        142     99        1         845000.0  ...                 NaN   \n4        142     99       35         297366.0  ...                 NaN   \n\n  SPACING_CAPPED  12 month Cum Prod  Completion Type  Sleeves  P&P  \\\n0          660.0              33.55              NaN      NaN  NaN   \n1          660.0              27.62              NaN      NaN  NaN   \n2          660.0              11.19               OH      NaN  NaN   \n3          660.0              27.85              NaN      NaN  NaN   \n4          660.0              50.88               OH      NaN  NaN   \n\n   Frac Ports Repeater Ports  CT  Year Drilled  \n0         NaN            NaN NaN        2006.0  \n1         NaN            NaN NaN        2005.0  \n2         NaN            NaN NaN        2006.0  \n3         NaN            NaN NaN        2007.0  \n4         NaN            NaN NaN        2006.0  \n\n[5 rows x 30 columns]",
      "text/html": "<div>\n<style scoped>\n    .dataframe tbody tr th:only-of-type {\n        vertical-align: middle;\n    }\n\n    .dataframe tbody tr th {\n        vertical-align: top;\n    }\n\n    .dataframe thead th {\n        text-align: right;\n    }\n</style>\n<table border=\"1\" class=\"dataframe\">\n  <thead>\n    <tr style=\"text-align: right;\">\n      <th></th>\n      <th>Unnamed: 0</th>\n      <th>Operator</th>\n      <th>Well Name</th>\n      <th>Formation</th>\n      <th>Lateral Length</th>\n      <th>Stages</th>\n      <th>Township</th>\n      <th>Range</th>\n      <th>Section</th>\n      <th>Total Prop, lbs</th>\n      <th>...</th>\n      <th>Fluid Type from DI</th>\n      <th>SPACING_CAPPED</th>\n      <th>12 month Cum Prod</th>\n      <th>Completion Type</th>\n      <th>Sleeves</th>\n      <th>P&amp;P</th>\n      <th>Frac Ports</th>\n      <th>Repeater Ports</th>\n      <th>CT</th>\n      <th>Year Drilled</th>\n    </tr>\n  </thead>\n  <tbody>\n    <tr>\n      <td>0</td>\n      <td>0</td>\n      <td>Operator 1</td>\n      <td>Well 1</td>\n      <td>MBH</td>\n      <td>5114.0</td>\n      <td>30.0</td>\n      <td>141</td>\n      <td>99</td>\n      <td>10</td>\n      <td>0.0</td>\n      <td>...</td>\n      <td>NaN</td>\n      <td>660.0</td>\n      <td>33.55</td>\n      <td>NaN</td>\n      <td>NaN</td>\n      <td>NaN</td>\n      <td>NaN</td>\n      <td>NaN</td>\n      <td>NaN</td>\n      <td>2006.0</td>\n    </tr>\n    <tr>\n      <td>1</td>\n      <td>1</td>\n      <td>Operator 2</td>\n      <td>Well 2</td>\n      <td>MBH</td>\n      <td>5181.0</td>\n      <td>NaN</td>\n      <td>142</td>\n      <td>99</td>\n      <td>16</td>\n      <td>418000.0</td>\n      <td>...</td>\n      <td>NaN</td>\n      <td>660.0</td>\n      <td>27.62</td>\n      <td>NaN</td>\n      <td>NaN</td>\n      <td>NaN</td>\n      <td>NaN</td>\n      <td>NaN</td>\n      <td>NaN</td>\n      <td>2005.0</td>\n    </tr>\n    <tr>\n      <td>2</td>\n      <td>2</td>\n      <td>Operator 2</td>\n      <td>Well 3</td>\n      <td>MBH</td>\n      <td>4780.0</td>\n      <td>15.0</td>\n      <td>142</td>\n      <td>99</td>\n      <td>24</td>\n      <td>568407.0</td>\n      <td>...</td>\n      <td>NaN</td>\n      <td>660.0</td>\n      <td>11.19</td>\n      <td>OH</td>\n      <td>NaN</td>\n      <td>NaN</td>\n      <td>NaN</td>\n      <td>NaN</td>\n      <td>NaN</td>\n      <td>2006.0</td>\n    </tr>\n    <tr>\n      <td>3</td>\n      <td>3</td>\n      <td>Operator 1</td>\n      <td>Well 4</td>\n      <td>MBH</td>\n      <td>10654.0</td>\n      <td>1.0</td>\n      <td>142</td>\n      <td>99</td>\n      <td>1</td>\n      <td>845000.0</td>\n      <td>...</td>\n      <td>NaN</td>\n      <td>660.0</td>\n      <td>27.85</td>\n      <td>NaN</td>\n      <td>NaN</td>\n      <td>NaN</td>\n      <td>NaN</td>\n      <td>NaN</td>\n      <td>NaN</td>\n      <td>2007.0</td>\n    </tr>\n    <tr>\n      <td>4</td>\n      <td>4</td>\n      <td>Operator 2</td>\n      <td>Well 5</td>\n      <td>MBH</td>\n      <td>5209.0</td>\n      <td>1.0</td>\n      <td>142</td>\n      <td>99</td>\n      <td>35</td>\n      <td>297366.0</td>\n      <td>...</td>\n      <td>NaN</td>\n      <td>660.0</td>\n      <td>50.88</td>\n      <td>OH</td>\n      <td>NaN</td>\n      <td>NaN</td>\n      <td>NaN</td>\n      <td>NaN</td>\n      <td>NaN</td>\n      <td>2006.0</td>\n    </tr>\n  </tbody>\n</table>\n<p>5 rows × 30 columns</p>\n</div>"
     },
     "metadata": {},
     "execution_count": 4
    }
   ],
   "source": [
    "#print head of cleaned dataset\n",
    "DatabaseDF = pd.read_csv(\"../CleanedDataset.csv\")\n",
    "DatabaseDF.head()"
   ]
  },
  {
   "cell_type": "markdown",
   "metadata": {},
   "source": [
    "## Waterfall Chart"
   ]
  },
  {
   "cell_type": "markdown",
   "metadata": {},
   "source": [
    "### Definition"
   ]
  },
  {
   "cell_type": "markdown",
   "metadata": {},
   "source": [
    "A waterfall chart is used mainly in Business to show how a value is affected positively or negatively over a certain period of time. The graph shows the cumulative affect on a certain variable/feature. It displays each change with bar graph with how much the value has increased or decreased relatively to the last value."
   ]
  },
  {
   "cell_type": "markdown",
   "metadata": {},
   "source": [
    "For example, we can use a waterfall chart to display how the oil production changes by comparinng the values of BOPD for the first month, the third month, the six month, and so on until the twelfth month. For each time interval, we can compare the best BOPD value at the end of each interval and how it fluctuates."
   ]
  },
  {
   "cell_type": "markdown",
   "metadata": {},
   "source": [
    "### Compare how the BOPD values changes over time"
   ]
  },
  {
   "cell_type": "code",
   "execution_count": 5,
   "metadata": {},
   "outputs": [],
   "source": [
    "#List with different variables that are being compared\n",
    "time_intervals = ['Best1 Mo BOPD', 'Best3 Mo BOPD', 'Best6 Mo BOPD', 'Best9 Mo BOPD', 'Best12 Mo BOPD']"
   ]
  },
  {
   "cell_type": "code",
   "execution_count": 6,
   "metadata": {},
   "outputs": [],
   "source": [
    "#Calculate total oil production values for each time interval\n",
    "best_bopd = []\n",
    "for i in time_intervals:\n",
    "    sum_column = np.sum(DatabaseDF[i].fillna(0).values)\n",
    "    best_bopd.append(sum_column)"
   ]
  },
  {
   "cell_type": "code",
   "execution_count": 11,
   "metadata": {},
   "outputs": [
    {
     "output_type": "error",
     "ename": "IndentationError",
     "evalue": "unexpected indent (<ipython-input-11-d1714c877299>, line 2)",
     "traceback": [
      "\u001b[0;36m  File \u001b[0;32m\"<ipython-input-11-d1714c877299>\"\u001b[0;36m, line \u001b[0;32m2\u001b[0m\n\u001b[0;31m    \"\"\" a = time_intervals\u001b[0m\n\u001b[0m    ^\u001b[0m\n\u001b[0;31mIndentationError\u001b[0m\u001b[0;31m:\u001b[0m unexpected indent\n"
     ]
    }
   ],
   "source": [
    "#Print graph\n",
    "a = time_intervals\n",
    "b = best_bopd\n",
    "my_plot = waterfall_chart.plot(a, b, rotation_value = 90, sorted_value = True, threshold = 0.2, formatting = \"{:,.1f}\", net_label = \"Cumulative Production\", other_label = \"extra\", Title = \"Cumulative Oil Production\", x_lab = \"Month\", y_lab = \"Oil Production\", blue_color = \"blue\", green_color = \"#95FF24\", red_color = 'r')\n",
    "\n",
    "# should you compare data better together"
   ]
  },
  {
   "cell_type": "markdown",
   "metadata": {},
   "source": [
    "### Find which formations are related to higher oil production values."
   ]
  },
  {
   "cell_type": "code",
   "execution_count": 8,
   "metadata": {},
   "outputs": [
    {
     "data": {
      "text/plain": [
       "array(['MBH', 'TFH', 'MBH/TFH', 'TF2', 'TF4', 'TF3', nan, 'UTFH', 'TF1',\n",
       "       'MTFH', 'TFSH', 'TF2.5'], dtype=object)"
      ]
     },
     "execution_count": 8,
     "metadata": {},
     "output_type": "execute_result"
    }
   ],
   "source": [
    "#Print out formation names\n",
    "DatabaseDF['Formation'].unique()"
   ]
  },
  {
   "cell_type": "code",
   "execution_count": 9,
   "metadata": {},
   "outputs": [],
   "source": [
    "#Functionn to calculate oil production values.\n",
    "formation_list = ['MBH', 'TFH', 'MBH/TFH', 'TF2', 'TF4', 'TF3', 'zero', 'UTFH', 'TF1',\n",
    "       'MTFH', 'TFSH', 'TF2.5']\n",
    "\n",
    "def oil_prod(value, feature1, feature2):\n",
    "    count = 0\n",
    "    oil_production = 0\n",
    "    num_rows = len(DatabaseDF.index) \n",
    "    for item in range(num_rows - 1):\n",
    "        if DatabaseDF.at[item, feature1] == value:\n",
    "            count += 1\n",
    "            oil_production += DatabaseDF.at[item, feature2]\n",
    "    return oil_production"
   ]
  },
  {
   "cell_type": "code",
   "execution_count": 12,
   "metadata": {},
   "outputs": [],
   "source": [
    "#Use function to calculate values for each formation.\n",
    "\"\"\"total_oilprod = []\n",
    "for i in formation_list:\n",
    "    total_oilprod.append(oil_prod(i, 'Formation', '12 month Cum Prod'))\"\"\"\n",
    "\n",
    "    '\"\"As mentioned after, looking into other resources to invest in like costs'"
   ]
  },
  {
   "cell_type": "code",
   "execution_count": 12,
   "metadata": {},
   "outputs": [
    {
     "output_type": "execute_result",
     "data": {
      "text/plain": "' a = formation_list\\nb = total_oilprod\\nmy_plot = waterfall_chart.plot(a, b, rotation_value = 90, sorted_value = True, threshold = 0.2, formatting = \"{:,.1f}\", net_label = \"Cumulative Production\", other_label = \"extra\", Title = \"Cumulative Oil Production\", x_lab = \"Formation\", y_lab = \"Oil Production\", blue_color = \"blue\", green_color = \"#95FF24\", red_color = \\'r\\') '"
     },
     "metadata": {},
     "execution_count": 12
    }
   ],
   "source": [
    "#Print graph\n",
    "a = formation_list\n",
    "b = total_oilprod\n",
    "my_plot = waterfall_chart.plot(a, b, rotation_value = 90, sorted_value = True, threshold = 0.2, formatting = \"{:,.1f}\", net_label = \"Cumulative Production\", other_label = \"extra\", Title = \"Cumulative Oil Production\", x_lab = \"Formation\", y_lab = \"Oil Production\", blue_color = \"blue\", green_color = \"#95FF24\", red_color = 'r')\n",
    "\n",
    "# This is a good code to help understand the data in difference with categorical data would continue with this model"
   ]
  },
  {
   "cell_type": "markdown",
   "metadata": {},
   "source": [
    "### Compare different fluid types and how they affect cumulative oil production"
   ]
  },
  {
   "cell_type": "code",
   "execution_count": 14,
   "metadata": {},
   "outputs": [],
   "source": [
    "#Use function to calculate oil production values for each fluid type.\n",
    "\"\"\"fluid_types = ['LINEAR GEL (HC)', 'CROSSLINKED (HC)', 'SLICKWATER (HC)',\n",
    "       'SW-XL HYBRID', 'CROSSLINKED', 'UNKNOWN', 'SW-GEL HYBRID',\n",
    "       'LINEAR GEL']\n",
    "\n",
    "total_oilprod = []\n",
    "for i in fluid_types:\n",
    "    total_oilprod.append(oil_prod(i, 'Fluid Type from DI', '12 month Cum Prod'))\"\"\"\n",
    "\n",
    "    \"\"\"I would look into maybe to make it more applicable with the extra resources that we find. \"\"\"\n"
   ]
  },
  {
   "cell_type": "code",
   "execution_count": 15,
   "metadata": {},
   "outputs": [
    {
     "data": {
      "image/png": "[encoded data removed]",
      "text/plain": [
       "<Figure size 720x720 with 1 Axes>"
      ]
     },
     "metadata": {
      "needs_background": "light"
     },
     "output_type": "display_data"
    }
   ],
   "source": [
    "#Print graph \n",
    "a = fluid_types\n",
    "b = total_oilprod\n",
    "my_plot = waterfall_chart.plot(a, b, rotation_value = 90, sorted_value = True, threshold = 0.2, formatting = \"{:,.1f}\", net_label = \"Cumulative Production\", other_label = \"extra\", Title = \"Cumulative Oil Production\", x_lab = \"Month\", y_lab = \"Oil Production\", blue_color = \"blue\", green_color = \"#95FF24\", red_color = 'r')\n",
    "\"\"\" Good for comparing a particular numerical data with a categorical data type \"\"\""
   ]
  },
  {
   "cell_type": "markdown",
   "metadata": {},
   "source": [
    "Frankly, this model does not seem as beneficial and interesting as it had seemed. Even though a waterfall chart produces interesting results, it is utilized more as a visualization tool. It is similar to a Pareto Chart in the sense that it is used to get an overview of data and not as much for estimation."
   ]
  },
  {
   "cell_type": "markdown",
   "metadata": {},
   "source": [
    "### Additional Comments  - Review #1 (Sanya)"
   ]
  },
  {
   "cell_type": "markdown",
   "metadata": {},
   "source": [
    "Very good comparison tool. Keep in mind "
   ]
  },
  {
   "cell_type": "code",
   "execution_count": null,
   "metadata": {},
   "outputs": [],
   "source": []
  },
  {
   "cell_type": "code",
   "execution_count": null,
   "metadata": {},
   "outputs": [],
   "source": []
  },
  {
   "cell_type": "code",
   "execution_count": null,
   "metadata": {},
   "outputs": [],
   "source": []
  },
  {
   "cell_type": "code",
   "execution_count": null,
   "metadata": {},
   "outputs": [],
   "source": []
  },
  {
   "cell_type": "code",
   "execution_count": null,
   "metadata": {},
   "outputs": [],
   "source": []
  },
  {
   "cell_type": "code",
   "execution_count": null,
   "metadata": {},
   "outputs": [],
   "source": []
  }
 ],
 "metadata": {
  "kernelspec": {
   "display_name": "Python 3",
   "language": "python",
   "name": "python3"
  },
  "language_info": {
   "codemirror_mode": {
    "name": "ipython",
    "version": 3
   },
   "file_extension": ".py",
   "mimetype": "text/x-python",
   "name": "python",
   "nbconvert_exporter": "python",
   "pygments_lexer": "ipython3",
   "version": "3.7.4-final"
  }
 },
 "nbformat": 4,
 "nbformat_minor": 2
}