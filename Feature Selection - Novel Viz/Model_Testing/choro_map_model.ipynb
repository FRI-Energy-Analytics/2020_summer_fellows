{
 "cells": [
  {
   "cell_type": "code",
   "execution_count": 1,
   "metadata": {},
   "outputs": [],
   "source": [
    "import pandas as pd\n",
    "import numpy as np\n",
    "import matplotlib.pyplot as plt\n",
    "from sklearn.preprocessing import normalize, MinMaxScaler\n",
    "from scipy.sparse import coo_matrix, csr_matrix\n",
    "%matplotlib inline\n",
    "import os\n",
    "import seaborn as sns"
   ]
  },
  {
   "cell_type": "code",
   "execution_count": 3,
   "metadata": {},
   "outputs": [],
   "source": [
    "DatabaseDF = pd.read_csv(\"../CleanedDataset.csv\")"
   ]
  },
  {
   "cell_type": "code",
   "execution_count": 4,
   "metadata": {},
   "outputs": [
    {
     "data": {
      "text/html": [
       "<div>\n",
       "<style scoped>\n",
       "    .dataframe tbody tr th:only-of-type {\n",
       "        vertical-align: middle;\n",
       "    }\n",
       "\n",
       "    .dataframe tbody tr th {\n",
       "        vertical-align: top;\n",
       "    }\n",
       "\n",
       "    .dataframe thead th {\n",
       "        text-align: right;\n",
       "    }\n",
       "</style>\n",
       "<table border=\"1\" class=\"dataframe\">\n",
       "  <thead>\n",
       "    <tr style=\"text-align: right;\">\n",
       "      <th></th>\n",
       "      <th>Unnamed: 0</th>\n",
       "      <th>Operator</th>\n",
       "      <th>Well Name</th>\n",
       "      <th>Formation</th>\n",
       "      <th>Lateral Length</th>\n",
       "      <th>Stages</th>\n",
       "      <th>Township</th>\n",
       "      <th>Range</th>\n",
       "      <th>Section</th>\n",
       "      <th>Total Prop, lbs</th>\n",
       "      <th>...</th>\n",
       "      <th>Fluid Type from DI</th>\n",
       "      <th>SPACING_CAPPED</th>\n",
       "      <th>12 month Cum Prod</th>\n",
       "      <th>Completion Type</th>\n",
       "      <th>Sleeves</th>\n",
       "      <th>P&amp;P</th>\n",
       "      <th>Frac Ports</th>\n",
       "      <th>Repeater Ports</th>\n",
       "      <th>CT</th>\n",
       "      <th>Year Drilled</th>\n",
       "    </tr>\n",
       "  </thead>\n",
       "  <tbody>\n",
       "    <tr>\n",
       "      <th>0</th>\n",
       "      <td>0</td>\n",
       "      <td>Operator 1</td>\n",
       "      <td>Well 1</td>\n",
       "      <td>MBH</td>\n",
       "      <td>5114.0</td>\n",
       "      <td>30.0</td>\n",
       "      <td>141</td>\n",
       "      <td>99</td>\n",
       "      <td>10</td>\n",
       "      <td>0.0</td>\n",
       "      <td>...</td>\n",
       "      <td>NaN</td>\n",
       "      <td>660.0</td>\n",
       "      <td>33.55</td>\n",
       "      <td>NaN</td>\n",
       "      <td>NaN</td>\n",
       "      <td>NaN</td>\n",
       "      <td>NaN</td>\n",
       "      <td>NaN</td>\n",
       "      <td>NaN</td>\n",
       "      <td>2006.0</td>\n",
       "    </tr>\n",
       "    <tr>\n",
       "      <th>1</th>\n",
       "      <td>1</td>\n",
       "      <td>Operator 2</td>\n",
       "      <td>Well 2</td>\n",
       "      <td>MBH</td>\n",
       "      <td>5181.0</td>\n",
       "      <td>NaN</td>\n",
       "      <td>142</td>\n",
       "      <td>99</td>\n",
       "      <td>16</td>\n",
       "      <td>418000.0</td>\n",
       "      <td>...</td>\n",
       "      <td>NaN</td>\n",
       "      <td>660.0</td>\n",
       "      <td>27.62</td>\n",
       "      <td>NaN</td>\n",
       "      <td>NaN</td>\n",
       "      <td>NaN</td>\n",
       "      <td>NaN</td>\n",
       "      <td>NaN</td>\n",
       "      <td>NaN</td>\n",
       "      <td>2005.0</td>\n",
       "    </tr>\n",
       "    <tr>\n",
       "      <th>2</th>\n",
       "      <td>2</td>\n",
       "      <td>Operator 2</td>\n",
       "      <td>Well 3</td>\n",
       "      <td>MBH</td>\n",
       "      <td>4780.0</td>\n",
       "      <td>15.0</td>\n",
       "      <td>142</td>\n",
       "      <td>99</td>\n",
       "      <td>24</td>\n",
       "      <td>568407.0</td>\n",
       "      <td>...</td>\n",
       "      <td>NaN</td>\n",
       "      <td>660.0</td>\n",
       "      <td>11.19</td>\n",
       "      <td>OH</td>\n",
       "      <td>NaN</td>\n",
       "      <td>NaN</td>\n",
       "      <td>NaN</td>\n",
       "      <td>NaN</td>\n",
       "      <td>NaN</td>\n",
       "      <td>2006.0</td>\n",
       "    </tr>\n",
       "    <tr>\n",
       "      <th>3</th>\n",
       "      <td>3</td>\n",
       "      <td>Operator 1</td>\n",
       "      <td>Well 4</td>\n",
       "      <td>MBH</td>\n",
       "      <td>10654.0</td>\n",
       "      <td>1.0</td>\n",
       "      <td>142</td>\n",
       "      <td>99</td>\n",
       "      <td>1</td>\n",
       "      <td>845000.0</td>\n",
       "      <td>...</td>\n",
       "      <td>NaN</td>\n",
       "      <td>660.0</td>\n",
       "      <td>27.85</td>\n",
       "      <td>NaN</td>\n",
       "      <td>NaN</td>\n",
       "      <td>NaN</td>\n",
       "      <td>NaN</td>\n",
       "      <td>NaN</td>\n",
       "      <td>NaN</td>\n",
       "      <td>2007.0</td>\n",
       "    </tr>\n",
       "    <tr>\n",
       "      <th>4</th>\n",
       "      <td>4</td>\n",
       "      <td>Operator 2</td>\n",
       "      <td>Well 5</td>\n",
       "      <td>MBH</td>\n",
       "      <td>5209.0</td>\n",
       "      <td>1.0</td>\n",
       "      <td>142</td>\n",
       "      <td>99</td>\n",
       "      <td>35</td>\n",
       "      <td>297366.0</td>\n",
       "      <td>...</td>\n",
       "      <td>NaN</td>\n",
       "      <td>660.0</td>\n",
       "      <td>50.88</td>\n",
       "      <td>OH</td>\n",
       "      <td>NaN</td>\n",
       "      <td>NaN</td>\n",
       "      <td>NaN</td>\n",
       "      <td>NaN</td>\n",
       "      <td>NaN</td>\n",
       "      <td>2006.0</td>\n",
       "    </tr>\n",
       "  </tbody>\n",
       "</table>\n",
       "<p>5 rows × 30 columns</p>\n",
       "</div>"
      ],
      "text/plain": [
       "   Unnamed: 0    Operator Well Name Formation  Lateral Length  Stages  \\\n",
       "0           0  Operator 1    Well 1       MBH          5114.0    30.0   \n",
       "1           1  Operator 2    Well 2       MBH          5181.0     NaN   \n",
       "2           2  Operator 2    Well 3       MBH          4780.0    15.0   \n",
       "3           3  Operator 1    Well 4       MBH         10654.0     1.0   \n",
       "4           4  Operator 2    Well 5       MBH          5209.0     1.0   \n",
       "\n",
       "   Township   Range  Section  Total Prop, lbs  ...  Fluid Type from DI  \\\n",
       "0        141     99       10              0.0  ...                 NaN   \n",
       "1        142     99       16         418000.0  ...                 NaN   \n",
       "2        142     99       24         568407.0  ...                 NaN   \n",
       "3        142     99        1         845000.0  ...                 NaN   \n",
       "4        142     99       35         297366.0  ...                 NaN   \n",
       "\n",
       "  SPACING_CAPPED  12 month Cum Prod  Completion Type  Sleeves  P&P  \\\n",
       "0          660.0              33.55              NaN      NaN  NaN   \n",
       "1          660.0              27.62              NaN      NaN  NaN   \n",
       "2          660.0              11.19               OH      NaN  NaN   \n",
       "3          660.0              27.85              NaN      NaN  NaN   \n",
       "4          660.0              50.88               OH      NaN  NaN   \n",
       "\n",
       "   Frac Ports Repeater Ports  CT  Year Drilled  \n",
       "0         NaN            NaN NaN        2006.0  \n",
       "1         NaN            NaN NaN        2005.0  \n",
       "2         NaN            NaN NaN        2006.0  \n",
       "3         NaN            NaN NaN        2007.0  \n",
       "4         NaN            NaN NaN        2006.0  \n",
       "\n",
       "[5 rows x 30 columns]"
      ]
     },
     "execution_count": 4,
     "metadata": {},
     "output_type": "execute_result"
    }
   ],
   "source": [
    "DatabaseDF.head()"
   ]
  },
  {
   "cell_type": "markdown",
   "metadata": {},
   "source": [
    "## Definition"
   ]
  },
  {
   "cell_type": "markdown",
   "metadata": {},
   "source": [
    "A choropleth map divides a geographical area with different shadings over one variable. The variable uses color progression from light to dark to highlight a change over a geographical area. This map is used to show a variation or different patterns throughout the area."
   ]
  },
  {
   "cell_type": "markdown",
   "metadata": {},
   "source": [
    "This can be used to model a certain feature in relation to oil production. If there is more of a certain feature that has a darker shade than the area that has less of the feature which can allow comparison in oil production. "
   ]
  },
  {
   "cell_type": "markdown",
   "metadata": {},
   "source": [
    "For example, if there is more oil production is lightly shaded areas based on a feature, we can conclude that the less of that feature can allow for more oil production rather than more of that feature in an area."
   ]
  },
  {
   "cell_type": "code",
   "execution_count": 6,
   "metadata": {},
   "outputs": [],
   "source": [
    "import geopandas as gpd   "
   ]
  },
  {
   "cell_type": "code",
   "execution_count": 9,
   "metadata": {},
   "outputs": [],
   "source": [
    "map_df = gpd.read_file(\"../NDGISHubData/NDHUB.PLSSTOWNSHIPS_polygon.shp\") #Shape files based on townships"
   ]
  },
  {
   "cell_type": "code",
   "execution_count": 10,
   "metadata": {},
   "outputs": [
    {
     "data": {
      "text/plain": [
       "<matplotlib.axes._subplots.AxesSubplot at 0x11e7dd5f8>"
      ]
     },
     "execution_count": 10,
     "metadata": {},
     "output_type": "execute_result"
    },
    {
     "data": {
      "image/png": "[encoded data removed]",
      "text/plain": [
       "<Figure size 432x288 with 1 Axes>"
      ]
     },
     "metadata": {
      "needs_background": "light"
     },
     "output_type": "display_data"
    }
   ],
   "source": [
    "map_df.plot()"
   ]
  },
  {
   "cell_type": "code",
   "execution_count": 11,
   "metadata": {},
   "outputs": [],
   "source": [
    "gdf = gpd.GeoDataFrame(DatabaseDF, geometry=gpd.points_from_xy(DatabaseDF.Longitude, DatabaseDF.Latitude))\n",
    "# Take the data base and make a geopandas point with latitude and longitude"
   ]
  },
  {
   "cell_type": "code",
   "execution_count": 12,
   "metadata": {},
   "outputs": [
    {
     "name": "stderr",
     "output_type": "stream",
     "text": [
      "/opt/anaconda3/envs/energyanalytics/lib/python3.6/site-packages/geopandas/tools/sjoin.py:61: UserWarning: CRS of frames being joined does not match!({'init': 'epsg:4326'} != None)\n",
      "  \"(%s != %s)\" % (left_df.crs, right_df.crs)\n"
     ]
    }
   ],
   "source": [
    "merged = gpd.sjoin(map_df, gdf, how=\"inner\", op='intersects') # Merge new map of ND and the current database"
   ]
  },
  {
   "cell_type": "code",
   "execution_count": 13,
   "metadata": {},
   "outputs": [
    {
     "data": {
      "text/html": [
       "<div>\n",
       "<style scoped>\n",
       "    .dataframe tbody tr th:only-of-type {\n",
       "        vertical-align: middle;\n",
       "    }\n",
       "\n",
       "    .dataframe tbody tr th {\n",
       "        vertical-align: top;\n",
       "    }\n",
       "\n",
       "    .dataframe thead th {\n",
       "        text-align: right;\n",
       "    }\n",
       "</style>\n",
       "<table border=\"1\" class=\"dataframe\">\n",
       "  <thead>\n",
       "    <tr style=\"text-align: right;\">\n",
       "      <th></th>\n",
       "      <th>OBJECTID</th>\n",
       "      <th>TOWNSHIP</th>\n",
       "      <th>TDIR</th>\n",
       "      <th>RANGE</th>\n",
       "      <th>RDIR</th>\n",
       "      <th>TWPRNG</th>\n",
       "      <th>TWPTEXT</th>\n",
       "      <th>RNGTEXT</th>\n",
       "      <th>TWPRNGTEXT</th>\n",
       "      <th>AREA_MI2</th>\n",
       "      <th>...</th>\n",
       "      <th>Fluid Type from DI</th>\n",
       "      <th>SPACING_CAPPED</th>\n",
       "      <th>12 month Cum Prod</th>\n",
       "      <th>Completion Type</th>\n",
       "      <th>Sleeves</th>\n",
       "      <th>P&amp;P</th>\n",
       "      <th>Frac Ports</th>\n",
       "      <th>Repeater Ports</th>\n",
       "      <th>CT</th>\n",
       "      <th>Year Drilled</th>\n",
       "    </tr>\n",
       "  </thead>\n",
       "  <tbody>\n",
       "    <tr>\n",
       "      <th>5</th>\n",
       "      <td>1135</td>\n",
       "      <td>148</td>\n",
       "      <td>N</td>\n",
       "      <td>94</td>\n",
       "      <td>W</td>\n",
       "      <td>148094</td>\n",
       "      <td>T148N</td>\n",
       "      <td>R94W</td>\n",
       "      <td>T148N R94W</td>\n",
       "      <td>35.290720</td>\n",
       "      <td>...</td>\n",
       "      <td>NaN</td>\n",
       "      <td>589.66871</td>\n",
       "      <td>92.97</td>\n",
       "      <td>Sleeves</td>\n",
       "      <td>18.0</td>\n",
       "      <td>NaN</td>\n",
       "      <td>NaN</td>\n",
       "      <td>NaN</td>\n",
       "      <td>NaN</td>\n",
       "      <td>2010.0</td>\n",
       "    </tr>\n",
       "    <tr>\n",
       "      <th>5</th>\n",
       "      <td>1135</td>\n",
       "      <td>148</td>\n",
       "      <td>N</td>\n",
       "      <td>94</td>\n",
       "      <td>W</td>\n",
       "      <td>148094</td>\n",
       "      <td>T148N</td>\n",
       "      <td>R94W</td>\n",
       "      <td>T148N R94W</td>\n",
       "      <td>35.290720</td>\n",
       "      <td>...</td>\n",
       "      <td>NaN</td>\n",
       "      <td>660.00000</td>\n",
       "      <td>51.41</td>\n",
       "      <td>Sleeves</td>\n",
       "      <td>10.0</td>\n",
       "      <td>NaN</td>\n",
       "      <td>NaN</td>\n",
       "      <td>NaN</td>\n",
       "      <td>NaN</td>\n",
       "      <td>2008.0</td>\n",
       "    </tr>\n",
       "    <tr>\n",
       "      <th>5</th>\n",
       "      <td>1135</td>\n",
       "      <td>148</td>\n",
       "      <td>N</td>\n",
       "      <td>94</td>\n",
       "      <td>W</td>\n",
       "      <td>148094</td>\n",
       "      <td>T148N</td>\n",
       "      <td>R94W</td>\n",
       "      <td>T148N R94W</td>\n",
       "      <td>35.290720</td>\n",
       "      <td>...</td>\n",
       "      <td>NaN</td>\n",
       "      <td>660.00000</td>\n",
       "      <td>71.33</td>\n",
       "      <td>P &amp; P</td>\n",
       "      <td>NaN</td>\n",
       "      <td>6.0</td>\n",
       "      <td>NaN</td>\n",
       "      <td>NaN</td>\n",
       "      <td>NaN</td>\n",
       "      <td>2008.0</td>\n",
       "    </tr>\n",
       "    <tr>\n",
       "      <th>5</th>\n",
       "      <td>1135</td>\n",
       "      <td>148</td>\n",
       "      <td>N</td>\n",
       "      <td>94</td>\n",
       "      <td>W</td>\n",
       "      <td>148094</td>\n",
       "      <td>T148N</td>\n",
       "      <td>R94W</td>\n",
       "      <td>T148N R94W</td>\n",
       "      <td>35.290720</td>\n",
       "      <td>...</td>\n",
       "      <td>NaN</td>\n",
       "      <td>660.00000</td>\n",
       "      <td>37.93</td>\n",
       "      <td>P &amp; P</td>\n",
       "      <td>NaN</td>\n",
       "      <td>12.0</td>\n",
       "      <td>NaN</td>\n",
       "      <td>NaN</td>\n",
       "      <td>NaN</td>\n",
       "      <td>2009.0</td>\n",
       "    </tr>\n",
       "    <tr>\n",
       "      <th>5</th>\n",
       "      <td>1135</td>\n",
       "      <td>148</td>\n",
       "      <td>N</td>\n",
       "      <td>94</td>\n",
       "      <td>W</td>\n",
       "      <td>148094</td>\n",
       "      <td>T148N</td>\n",
       "      <td>R94W</td>\n",
       "      <td>T148N R94W</td>\n",
       "      <td>35.290720</td>\n",
       "      <td>...</td>\n",
       "      <td>NaN</td>\n",
       "      <td>660.00000</td>\n",
       "      <td>76.78</td>\n",
       "      <td>Sleeves</td>\n",
       "      <td>12.0</td>\n",
       "      <td>NaN</td>\n",
       "      <td>NaN</td>\n",
       "      <td>NaN</td>\n",
       "      <td>NaN</td>\n",
       "      <td>2010.0</td>\n",
       "    </tr>\n",
       "    <tr>\n",
       "      <th>...</th>\n",
       "      <td>...</td>\n",
       "      <td>...</td>\n",
       "      <td>...</td>\n",
       "      <td>...</td>\n",
       "      <td>...</td>\n",
       "      <td>...</td>\n",
       "      <td>...</td>\n",
       "      <td>...</td>\n",
       "      <td>...</td>\n",
       "      <td>...</td>\n",
       "      <td>...</td>\n",
       "      <td>...</td>\n",
       "      <td>...</td>\n",
       "      <td>...</td>\n",
       "      <td>...</td>\n",
       "      <td>...</td>\n",
       "      <td>...</td>\n",
       "      <td>...</td>\n",
       "      <td>...</td>\n",
       "      <td>...</td>\n",
       "      <td>...</td>\n",
       "    </tr>\n",
       "    <tr>\n",
       "      <th>2061</th>\n",
       "      <td>854</td>\n",
       "      <td>143</td>\n",
       "      <td>N</td>\n",
       "      <td>103</td>\n",
       "      <td>W</td>\n",
       "      <td>143103</td>\n",
       "      <td>T143N</td>\n",
       "      <td>R103W</td>\n",
       "      <td>T143N R103W</td>\n",
       "      <td>35.417006</td>\n",
       "      <td>...</td>\n",
       "      <td>NaN</td>\n",
       "      <td>660.00000</td>\n",
       "      <td>88.16</td>\n",
       "      <td>Sleeves</td>\n",
       "      <td>40.0</td>\n",
       "      <td>NaN</td>\n",
       "      <td>NaN</td>\n",
       "      <td>NaN</td>\n",
       "      <td>NaN</td>\n",
       "      <td>2012.0</td>\n",
       "    </tr>\n",
       "    <tr>\n",
       "      <th>2061</th>\n",
       "      <td>854</td>\n",
       "      <td>143</td>\n",
       "      <td>N</td>\n",
       "      <td>103</td>\n",
       "      <td>W</td>\n",
       "      <td>143103</td>\n",
       "      <td>T143N</td>\n",
       "      <td>R103W</td>\n",
       "      <td>T143N R103W</td>\n",
       "      <td>35.417006</td>\n",
       "      <td>...</td>\n",
       "      <td>NaN</td>\n",
       "      <td>445.57061</td>\n",
       "      <td>105.46</td>\n",
       "      <td>Sleeves</td>\n",
       "      <td>30.0</td>\n",
       "      <td>NaN</td>\n",
       "      <td>NaN</td>\n",
       "      <td>NaN</td>\n",
       "      <td>NaN</td>\n",
       "      <td>2011.0</td>\n",
       "    </tr>\n",
       "    <tr>\n",
       "      <th>2061</th>\n",
       "      <td>854</td>\n",
       "      <td>143</td>\n",
       "      <td>N</td>\n",
       "      <td>103</td>\n",
       "      <td>W</td>\n",
       "      <td>143103</td>\n",
       "      <td>T143N</td>\n",
       "      <td>R103W</td>\n",
       "      <td>T143N R103W</td>\n",
       "      <td>35.417006</td>\n",
       "      <td>...</td>\n",
       "      <td>NaN</td>\n",
       "      <td>660.00000</td>\n",
       "      <td>94.74</td>\n",
       "      <td>Sleeves</td>\n",
       "      <td>16.0</td>\n",
       "      <td>NaN</td>\n",
       "      <td>NaN</td>\n",
       "      <td>NaN</td>\n",
       "      <td>NaN</td>\n",
       "      <td>2009.0</td>\n",
       "    </tr>\n",
       "    <tr>\n",
       "      <th>2061</th>\n",
       "      <td>854</td>\n",
       "      <td>143</td>\n",
       "      <td>N</td>\n",
       "      <td>103</td>\n",
       "      <td>W</td>\n",
       "      <td>143103</td>\n",
       "      <td>T143N</td>\n",
       "      <td>R103W</td>\n",
       "      <td>T143N R103W</td>\n",
       "      <td>35.417006</td>\n",
       "      <td>...</td>\n",
       "      <td>SLICKWATER (HC)</td>\n",
       "      <td>660.00000</td>\n",
       "      <td>64.89</td>\n",
       "      <td>P &amp; P</td>\n",
       "      <td>NaN</td>\n",
       "      <td>40.0</td>\n",
       "      <td>NaN</td>\n",
       "      <td>NaN</td>\n",
       "      <td>NaN</td>\n",
       "      <td>2014.0</td>\n",
       "    </tr>\n",
       "    <tr>\n",
       "      <th>2061</th>\n",
       "      <td>854</td>\n",
       "      <td>143</td>\n",
       "      <td>N</td>\n",
       "      <td>103</td>\n",
       "      <td>W</td>\n",
       "      <td>143103</td>\n",
       "      <td>T143N</td>\n",
       "      <td>R103W</td>\n",
       "      <td>T143N R103W</td>\n",
       "      <td>35.417006</td>\n",
       "      <td>...</td>\n",
       "      <td>NaN</td>\n",
       "      <td>660.00000</td>\n",
       "      <td>78.59</td>\n",
       "      <td>Sleeves and P &amp; P</td>\n",
       "      <td>22.0</td>\n",
       "      <td>8.0</td>\n",
       "      <td>NaN</td>\n",
       "      <td>NaN</td>\n",
       "      <td>NaN</td>\n",
       "      <td>2010.0</td>\n",
       "    </tr>\n",
       "  </tbody>\n",
       "</table>\n",
       "<p>10856 rows × 45 columns</p>\n",
       "</div>"
      ],
      "text/plain": [
       "      OBJECTID  TOWNSHIP TDIR  RANGE RDIR  TWPRNG TWPTEXT RNGTEXT  \\\n",
       "5         1135       148    N     94    W  148094   T148N    R94W   \n",
       "5         1135       148    N     94    W  148094   T148N    R94W   \n",
       "5         1135       148    N     94    W  148094   T148N    R94W   \n",
       "5         1135       148    N     94    W  148094   T148N    R94W   \n",
       "5         1135       148    N     94    W  148094   T148N    R94W   \n",
       "...        ...       ...  ...    ...  ...     ...     ...     ...   \n",
       "2061       854       143    N    103    W  143103   T143N   R103W   \n",
       "2061       854       143    N    103    W  143103   T143N   R103W   \n",
       "2061       854       143    N    103    W  143103   T143N   R103W   \n",
       "2061       854       143    N    103    W  143103   T143N   R103W   \n",
       "2061       854       143    N    103    W  143103   T143N   R103W   \n",
       "\n",
       "       TWPRNGTEXT   AREA_MI2  ...  Fluid Type from DI  SPACING_CAPPED  \\\n",
       "5      T148N R94W  35.290720  ...                 NaN       589.66871   \n",
       "5      T148N R94W  35.290720  ...                 NaN       660.00000   \n",
       "5      T148N R94W  35.290720  ...                 NaN       660.00000   \n",
       "5      T148N R94W  35.290720  ...                 NaN       660.00000   \n",
       "5      T148N R94W  35.290720  ...                 NaN       660.00000   \n",
       "...           ...        ...  ...                 ...             ...   \n",
       "2061  T143N R103W  35.417006  ...                 NaN       660.00000   \n",
       "2061  T143N R103W  35.417006  ...                 NaN       445.57061   \n",
       "2061  T143N R103W  35.417006  ...                 NaN       660.00000   \n",
       "2061  T143N R103W  35.417006  ...     SLICKWATER (HC)       660.00000   \n",
       "2061  T143N R103W  35.417006  ...                 NaN       660.00000   \n",
       "\n",
       "      12 month Cum Prod    Completion Type  Sleeves   P&P Frac Ports  \\\n",
       "5                 92.97            Sleeves     18.0   NaN        NaN   \n",
       "5                 51.41            Sleeves     10.0   NaN        NaN   \n",
       "5                 71.33              P & P      NaN   6.0        NaN   \n",
       "5                 37.93              P & P      NaN  12.0        NaN   \n",
       "5                 76.78            Sleeves     12.0   NaN        NaN   \n",
       "...                 ...                ...      ...   ...        ...   \n",
       "2061              88.16            Sleeves     40.0   NaN        NaN   \n",
       "2061             105.46            Sleeves     30.0   NaN        NaN   \n",
       "2061              94.74            Sleeves     16.0   NaN        NaN   \n",
       "2061              64.89              P & P      NaN  40.0        NaN   \n",
       "2061              78.59  Sleeves and P & P     22.0   8.0        NaN   \n",
       "\n",
       "     Repeater Ports  CT  Year Drilled  \n",
       "5               NaN NaN        2010.0  \n",
       "5               NaN NaN        2008.0  \n",
       "5               NaN NaN        2008.0  \n",
       "5               NaN NaN        2009.0  \n",
       "5               NaN NaN        2010.0  \n",
       "...             ...  ..           ...  \n",
       "2061            NaN NaN        2012.0  \n",
       "2061            NaN NaN        2011.0  \n",
       "2061            NaN NaN        2009.0  \n",
       "2061            NaN NaN        2014.0  \n",
       "2061            NaN NaN        2010.0  \n",
       "\n",
       "[10856 rows x 45 columns]"
      ]
     },
     "execution_count": 13,
     "metadata": {},
     "output_type": "execute_result"
    }
   ],
   "source": [
    "merged"
   ]
  },
  {
   "cell_type": "markdown",
   "metadata": {},
   "source": [
    "I went through and used spatial join to get the information from the township on location and the current Dataframe.\"How\" is using \"inner\": use intersection of index values from both geodataframes; retain only the left_df geometry column. \"Op\" is using \"intersects\": The attributes will be joined if the boundary and interior of the object intersect in any way with the boundary and/or interior of the other object."
   ]
  },
  {
   "cell_type": "code",
   "execution_count": 22,
   "metadata": {},
   "outputs": [
    {
     "data": {
      "image/png": "[encoded data removed]",
      "text/plain": [
       "<Figure size 720x432 with 2 Axes>"
      ]
     },
     "metadata": {
      "needs_background": "light"
     },
     "output_type": "display_data"
    }
   ],
   "source": [
    "def coroMap(merged, variable):\n",
    "    vmin = merged['12 month Cum Prod'].min()\n",
    "    vmax = merged['12 month Cum Prod'].max()\n",
    "\n",
    "    sm = plt.cm.ScalarMappable(cmap='OrRd', norm=plt.Normalize(vmin=vmin, vmax=vmax))\n",
    "\n",
    "    sm._A = []\n",
    "\n",
    "    fig, ax = plt.subplots(1, figsize=(10, 6))\n",
    "\n",
    "    cbar = fig.colorbar(sm)\n",
    "\n",
    "    merged.plot(column=variable, cmap = 'OrRd', linewidth = .8, ax = ax, edgecolor = '0.8')\n",
    "\n",
    "\n",
    "coroMap(merged, '12 month Cum Prod')"
   ]
  },
  {
   "cell_type": "markdown",
   "metadata": {},
   "source": [
    "We are able to see where is the most 12 month cumulative production through North Dakota. This map uses Townships to be able to color code allow the spaces to exist. I wonder if we can use the map to find a correlation between, longitude, latitude, township, and the 12 month cumulative production.\n"
   ]
  },
  {
   "cell_type": "markdown",
   "metadata": {},
   "source": [
    "We need to look at the corrlations of how longitude and latitude can impact the different features. Also, can we implement correlation onto the map"
   ]
  },
  {
   "cell_type": "markdown",
   "metadata": {},
   "source": [
    "Seems like to make the map, these frac ports may not be the best way to visualize the relation between location. This may also make me think that correlation is not factored into the choropleth map as well. This requires more testing"
   ]
  },
  {
   "cell_type": "markdown",
   "metadata": {},
   "source": [
    "## Messing with Different Features "
   ]
  },
  {
   "cell_type": "markdown",
   "metadata": {},
   "source": [
    "Although it is not obviously clear on how to connect correlation and error, I have decided to work with a couple of the features to understand and possibly compare side by side how the graphs look."
   ]
  },
  {
   "cell_type": "code",
   "execution_count": 23,
   "metadata": {},
   "outputs": [
    {
     "data": {
      "text/plain": [
       "5       18.0\n",
       "5       10.0\n",
       "5        0.0\n",
       "5        0.0\n",
       "5       12.0\n",
       "        ... \n",
       "2061    40.0\n",
       "2061    30.0\n",
       "2061    16.0\n",
       "2061     0.0\n",
       "2061    22.0\n",
       "Name: Sleeves, Length: 10856, dtype: float64"
      ]
     },
     "execution_count": 23,
     "metadata": {},
     "output_type": "execute_result"
    }
   ],
   "source": [
    "merged['Sleeves'].fillna(0)"
   ]
  },
  {
   "cell_type": "code",
   "execution_count": 29,
   "metadata": {},
   "outputs": [
    {
     "name": "stderr",
     "output_type": "stream",
     "text": [
      "/opt/anaconda3/envs/energyanalytics/lib/python3.6/site-packages/matplotlib/colors.py:527: RuntimeWarning: invalid value encountered in less\n",
      "  xa[xa < 0] = -1\n"
     ]
    },
    {
     "data": {
      "image/png": "[encoded data removed]",
      "text/plain": [
       "<Figure size 720x432 with 2 Axes>"
      ]
     },
     "metadata": {
      "needs_background": "light"
     },
     "output_type": "display_data"
    }
   ],
   "source": [
    "def coroMap(merged, variable):\n",
    "    vmin = merged['Sleeves'].min()\n",
    "    vmax = merged['Sleeves'].max()\n",
    "\n",
    "    sm = plt.cm.ScalarMappable(cmap='OrRd', norm=plt.Normalize(vmin=vmin, vmax=vmax))\n",
    "\n",
    "    sm._A = []\n",
    "\n",
    "    fig, ax = plt.subplots(1, figsize=(10, 6))\n",
    "\n",
    "    cbar = fig.colorbar(sm)\n",
    "\n",
    "    merged.plot(column=variable, cmap = 'OrRd', linewidth = .8, ax = ax, edgecolor = '0.8')\n",
    "\n",
    "\n",
    "coroMap(merged, 'Sleeves')"
   ]
  },
  {
   "cell_type": "markdown",
   "metadata": {},
   "source": [
    "Looking at the data, could we possibly take the average of some of the components to understand the relationship between the features? Requires more testing."
   ]
  },
  {
   "cell_type": "markdown",
   "metadata": {},
   "source": [
    "### Would this work with the Port features that failed to showcase in the beginning?"
   ]
  },
  {
   "cell_type": "code",
   "execution_count": 30,
   "metadata": {},
   "outputs": [
    {
     "name": "stderr",
     "output_type": "stream",
     "text": [
      "/opt/anaconda3/envs/energyanalytics/lib/python3.6/site-packages/matplotlib/colors.py:527: RuntimeWarning: invalid value encountered in less\n",
      "  xa[xa < 0] = -1\n"
     ]
    },
    {
     "data": {
      "image/png": "[encoded data removed]",
      "text/plain": [
       "<Figure size 720x432 with 2 Axes>"
      ]
     },
     "metadata": {
      "needs_background": "light"
     },
     "output_type": "display_data"
    }
   ],
   "source": [
    "def coroMap(merged, variable):\n",
    "    vmin = merged['P&P'].min()\n",
    "    vmax = merged['P&P'].max()\n",
    "\n",
    "    sm = plt.cm.ScalarMappable(cmap='OrRd', norm=plt.Normalize(vmin=vmin, vmax=vmax))\n",
    "\n",
    "    sm._A = []\n",
    "\n",
    "    fig, ax = plt.subplots(1, figsize=(10, 6))\n",
    "\n",
    "    cbar = fig.colorbar(sm)\n",
    "\n",
    "    merged.plot(column=variable, cmap = 'OrRd', linewidth = .8, ax = ax, edgecolor = '0.8')\n",
    "\n",
    "\n",
    "coroMap(merged, 'P&P')"
   ]
  },
  {
   "cell_type": "markdown",
   "metadata": {},
   "source": [
    "Convert all Formation to numerical values for comparison"
   ]
  },
  {
   "cell_type": "code",
   "execution_count": 42,
   "metadata": {},
   "outputs": [],
   "source": [
    "labels = merged['Formation'].unique().tolist()\n",
    "mapping = dict( zip(labels,range(len(labels))) )\n",
    "merged.replace({'Formation': mapping},inplace=True)\n",
    "# Transfer all the different types of formations into numerical values"
   ]
  },
  {
   "cell_type": "code",
   "execution_count": 43,
   "metadata": {},
   "outputs": [
    {
     "data": {
      "text/plain": [
       "{'MBH': 0,\n",
       " 'TFH': 1,\n",
       " 'TF2': 2,\n",
       " 'TF3': 3,\n",
       " 'TF4': 4,\n",
       " 'TF1': 5,\n",
       " 'MBH/TFH': 6,\n",
       " nan: 7,\n",
       " 'UTFH': 8,\n",
       " 'TFSH': 9,\n",
       " 'MTFH': 10,\n",
       " 'TF2.5': 11}"
      ]
     },
     "execution_count": 43,
     "metadata": {},
     "output_type": "execute_result"
    }
   ],
   "source": [
    "mapping"
   ]
  },
  {
   "cell_type": "code",
   "execution_count": 44,
   "metadata": {},
   "outputs": [
    {
     "data": {
      "image/png": "[encoded data removed]",
      "text/plain": [
       "<Figure size 720x432 with 2 Axes>"
      ]
     },
     "metadata": {
      "needs_background": "light"
     },
     "output_type": "display_data"
    }
   ],
   "source": [
    "def coroMap(merged, variable):\n",
    "    vmin = merged['Formation'].min()\n",
    "    vmax = merged['Formation'].max()\n",
    "\n",
    "    sm = plt.cm.ScalarMappable(cmap='OrRd', norm=plt.Normalize(vmin=vmin, vmax=vmax))\n",
    "\n",
    "    sm._A = []\n",
    "\n",
    "    fig, ax = plt.subplots(1, figsize=(10, 6))\n",
    "\n",
    "    cbar = fig.colorbar(sm)\n",
    "\n",
    "    merged.plot(column=variable, cmap = 'OrRd', linewidth = .8, ax = ax, edgecolor = '0.8')\n",
    "\n",
    "\n",
    "coroMap(merged, 'Formation')\n",
    "\n",
    "\n",
    "'''Can explore with other variables like Total Proppant, Fluid, etc and how they affect production, as well as how they are affected by cost/time'''"
   ]
  },
  {
   "cell_type": "markdown",
   "metadata": {},
   "source": [
    "Average may not be the best way, yet it does indicate some relationship between different variables"
   ]
  },
  {
   "cell_type": "markdown",
   "metadata": {},
   "source": [
    "## Better ways to measure criteria?"
   ]
  },
  {
   "cell_type": "markdown",
   "metadata": {},
   "source": [
    "After working on this model for some time, I am having trouble getting correlation visualized. I wonder if there is some code that can allow to see relationship between each point to be displayed on the map?"
   ]
  },
  {
   "cell_type": "markdown",
   "metadata": {},
   "source": [
    "Using Average is beneficial yet can be difficult to tell the difference in terms of shading on the map"
   ]
  },
  {
   "cell_type": "code",
   "execution_count": 45,
   "metadata": {},
   "outputs": [
    {
     "name": "stdout",
     "output_type": "stream",
     "text": [
      "best fit line:\n",
      "y = -1.17 + -0.02x\n"
     ]
    }
   ],
   "source": [
    "X = merged['Longitude']\n",
    "Y = merged['Formation']\n",
    "\n",
    "def best_fit(X, Y):\n",
    "\n",
    "    xbar = sum(X)/len(X)\n",
    "    ybar = sum(Y)/len(Y)\n",
    "    n = len(X) # or len(Y)\n",
    "\n",
    "    numer = sum([xi*yi for xi,yi in zip(X, Y)]) - n * xbar * ybar\n",
    "    denum = sum([xi**2 for xi in X]) - n * xbar**2\n",
    "\n",
    "    b = numer / denum\n",
    "    a = ybar - b * xbar\n",
    "\n",
    "    print('best fit line:\\ny = {:.2f} + {:.2f}x'.format(a, b))\n",
    "\n",
    "    return a, b\n",
    "\n",
    "# solution\n",
    "a, b = best_fit(X, Y)\n",
    "yfit = [a + b * xi for xi in X]"
   ]
  },
  {
   "cell_type": "code",
   "execution_count": 46,
   "metadata": {},
   "outputs": [
    {
     "name": "stdout",
     "output_type": "stream",
     "text": [
      "103.39203674541743\n",
      "10690.123033036667\n"
     ]
    }
   ],
   "source": [
    "from sklearn.metrics import mean_squared_error as MSE\n",
    "from sklearn.metrics import mean_absolute_error as MAE\n",
    "print(MAE(X, yfit))\n",
    "print(MSE(X, yfit))\n",
    "\n",
    "'''Narrrow it down to one error measure that best represents this model'''"
   ]
  },
  {
   "cell_type": "code",
   "execution_count": 47,
   "metadata": {},
   "outputs": [
    {
     "name": "stdout",
     "output_type": "stream",
     "text": [
      "best fit line:\n",
      "y = 2694.79 + 25.21x\n"
     ]
    }
   ],
   "source": [
    "X = merged['Longitude']\n",
    "Y = merged['12 month Cum Prod']\n",
    "\n",
    "a, b = best_fit(X, Y)\n",
    "yfit = [a + b * xi for xi in X]"
   ]
  },
  {
   "cell_type": "code",
   "execution_count": 48,
   "metadata": {},
   "outputs": [
    {
     "name": "stdout",
     "output_type": "stream",
     "text": [
      "201.39836964887962\n",
      "40680.59609799189\n"
     ]
    }
   ],
   "source": [
    "print(MAE(X, yfit))\n",
    "print(MSE(X, yfit))"
   ]
  },
  {
   "cell_type": "markdown",
   "metadata": {},
   "source": [
    "## Notes"
   ]
  },
  {
   "cell_type": "markdown",
   "metadata": {},
   "source": [
    "This map cannot display two variables; However, this could be used a visualization with other models. Moving throughout the sprints will be the best way to understand what else this model can do"
   ]
  }
 ],
 "metadata": {
  "kernelspec": {
   "display_name": "Python 3",
   "language": "python",
   "name": "python3"
  },
  "language_info": {
   "codemirror_mode": {
    "name": "ipython",
    "version": 3
   },
   "file_extension": ".py",
   "mimetype": "text/x-python",
   "name": "python",
   "nbconvert_exporter": "python",
   "pygments_lexer": "ipython3",
   "version": "3.6.7"
  }
 },
 "nbformat": 4,
 "nbformat_minor": 4
}